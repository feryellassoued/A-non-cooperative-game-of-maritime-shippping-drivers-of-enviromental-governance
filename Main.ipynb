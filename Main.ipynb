{
 "cells": [
  {
   "cell_type": "code",
   "execution_count": 1,
   "metadata": {},
   "outputs": [],
   "source": [
    "import numpy as np # importing numpy for matrix operations \n",
    "from scipy import *\n",
    "from scipy.optimize import minimize\n",
    "import pandas as pd\n",
    "import matplotlib.pyplot as plt\n",
    "import seaborn as sns\n",
    "from IPython import display \n",
    "import itertools\n",
    "from IPython.display import display\n",
    "import random, operator\n",
    "#===================================================#\n",
    "from random import choices, randint, randrange, random, sample, seed \n",
    "from collections import namedtuple\n",
    "from typing import List, Optional, Callable, Tuple\n",
    "from functools import partial\n",
    "\n",
    "#Choices(, , # of draws from the population (2 , a pair)) is a function from the random module of python\n",
    "# Use of tuples so that we can store /= types of data Vs array \n",
    "#Tuples are the fastest data structure \n",
    "#fix a seed for reproducitbilty later "
   ]
  },
  {
   "cell_type": "code",
   "execution_count": 2,
   "metadata": {},
   "outputs": [],
   "source": [
    "#seed(0) #Fix seed "
   ]
  },
  {
   "cell_type": "code",
   "execution_count": 3,
   "metadata": {},
   "outputs": [],
   "source": [
    "class IterRegistry(type):\n",
    "    def __iter__(cls):\n",
    "        return iter(cls._registry)"
   ]
  },
  {
   "cell_type": "code",
   "execution_count": 4,
   "metadata": {},
   "outputs": [],
   "source": [
    "class Firm:\n",
    "    #class attributes intialisation, to be updated with the addition of each instance\n",
    "    _registry = []\n",
    "    \n",
    "    def __init__(self, index, capacity, max_number_of_vessel, design_speed, \n",
    "                 min_speed, max_speed, main_engine_power, aux_engine_power,\n",
    "                 fix_cost, fuel_type):\n",
    "        '''__init__ a method to describe the poperty that all shipping firm have'''\n",
    "        self._registry.append(self)\n",
    "        self.index = index\n",
    "        self.capacity = capacity # Vessel capacity in TEU per firm, \n",
    "        self.max_number_of_vessel = max_number_of_vessel # # of vessels per firms\n",
    "        self.design_speed = design_speed  #design speed of the vessel in knots\n",
    "        self.min_speed = min_speed #min vessel speed\n",
    "        self.max_speed = max_speed #max vessel speed         \n",
    "        self.main_engine_power =  main_engine_power  # PS_m : main engine power in kW\n",
    "        self.aux_engine_power =  aux_engine_power  # auxiliary engine power [kW] \n",
    "        self.fix_cost = fix_cost #Daily cost of vessel (USD/Day) $25,000\n",
    "        self.fuel_type = fuel_type\n",
    "        #self.bau_emission = bau_emission\n",
    "         \n",
    "   \n",
    "    # Firm methods \n",
    "    def get_market_share(self , market_instance):\n",
    "        '''return market share of the firm accoding to it s capacity'''\n",
    "        self.transport_capacity = np.multiply(self.max_number_of_vessel , self.capacity)\n",
    "        self.market_share= np.divide(self.transport_capacity, market_instance.market_capacity)\n",
    "        return self.market_share\n",
    "        \n",
    "    def get_firm_param(self, market_instance):\n",
    "        self.psy = np.multiply (self.market_share , market_instance.market_psy)\n",
    "        return self.psy\n",
    "    \n",
    "    def get_firm_demand(self, market_instance):\n",
    "        self.firm_demand = np.multiply (self.market_share , market_instance.market_demand)\n",
    "        return self.firm_demand \n",
    "    \n",
    "    \n",
    "    def get_min_number_of_vessel(self, market_instance, operational_speed):\n",
    "        self.time_at_sea = np.true_divide(market_instance.distance,  operational_speed)\n",
    "        self.voyage_time = self.time_at_sea  + market_instance.port_time \n",
    "        self.number_of_trips_to_meet_demand = np.true_divide(self.firm_demand[market_instance.period_index], self.capacity)\n",
    "        self.max_trips_per_vessel = np.true_divide(market_instance.annual_working_time, self.voyage_time)\n",
    "        self.min_number_of_vessel_to_meet_demand = np.true_divide(self.number_of_trips_to_meet_demand, self.max_trips_per_vessel)\n",
    "        return self.min_number_of_vessel_to_meet_demand, self.number_of_trips_to_meet_demand, self.time_at_sea \n",
    "    \n",
    "    def get_number_of_vessel(self):\n",
    "        self.number_of_vessel = np.ceil(self.min_number_of_vessel_to_meet_demand)\n",
    "        return self.number_of_vessel\n",
    "        \n",
    "        \n",
    "    def get_ship_energy_efficiency(self, market_instance):\n",
    "        self.main_fuel_parameter = market_instance.SFOC_main * market_instance.eng_load_main * self.main_engine_power * 10**(-6)\n",
    "        self.ship_energy = np.multiply(self.main_fuel_parameter, np.power(self.design_speed, -3) )      \n",
    "        return self.ship_energy\n",
    "        \n",
    "    def get_main_fuel_cons(self, market_instance, operational_speed):\n",
    "        self.main_fuel_cons = market_instance.distance * self.ship_energy * operational_speed**2 *self.number_of_trips_to_meet_demand\n",
    "        return self.main_fuel_cons\n",
    "        \n",
    "    def get_aux_fuel_cons(self, market_instance): \n",
    "        self.aux_fuel_parameter = market_instance.SFOC_aux * market_instance.eng_load_aux * self.aux_engine_power * 10**(-6)\n",
    "        self.aux_fuel_cons =  self.aux_fuel_parameter * self.time_at_sea \n",
    "        return self.aux_fuel_cons \n",
    "        \n",
    "    def get_fuel_cost(self, market_instance):\n",
    "        self.aux_fuel_cost = self.aux_fuel_cons  * market_instance.fuel_data['MGO']['price'] \n",
    "        self.main_fuel_cost = self.main_fuel_cons * market_instance.fuel_data[self.fuel_type]['price']  \n",
    "        self.fuel_cost = self.main_fuel_cost + self.aux_fuel_cost\n",
    "        return self.fuel_cost\n",
    "        \n",
    "    \n",
    "    def get_total_cost(self):\n",
    "        self.operating_cost = self.fix_cost * self.number_of_vessel #Fixed Cost\n",
    "        self.total_cost = self.operating_cost + self.fuel_cost\n",
    "        return self.total_cost \n",
    "    \n",
    "    def get_revenue(self,market_instance):\n",
    "        self.revenue = self.firm_demand[market_instance.period_index] * market_instance.freight_rate\n",
    "        return self.revenue\n",
    "    \n",
    "    def get_period_profits(self):\n",
    "        self.period_profit = self.revenue - self.total_cost \n",
    "        return self.period_profit\n",
    "    \n",
    "    def get_discounted_period_profit(self,market_instance):\n",
    "        self.discounted_period_profit = np.multiply( np.power( 1+ market_instance.discount_rate, - market_instance.period_index), self.period_profit) \n",
    "        return self.discounted_period_profit\n",
    "    \n",
    "    def get_firm_carbon_emission(self, market_instance):\n",
    "        self.carbon_aux_emision_factor = market_instance.fuel_data['MGO']['carbon_factor']\n",
    "        self_carbon_aux_emissions = self.carbon_aux_emision_factor * self.aux_fuel_cons \n",
    "\n",
    "        self.carbon_main_emision_factor =  market_instance.fuel_data[self.fuel_type]['carbon_factor']\n",
    "        self_carbon_main_emissions =  self.carbon_main_emision_factor * self.main_fuel_cons\n",
    "\n",
    "        self_carbon_emissions = self_carbon_main_emissions  + self_carbon_aux_emissions\n",
    "        return self_carbon_emissions\n",
    "    \n",
    "    def get_firm_sulfur_emission(self, market_instance):\n",
    "        self.sulfur_aux_emision_factor = market_instance.fuel_data['MGO']['sulfur_factor']\n",
    "        self_sulfur_aux_emissions = self.sulfur_aux_emision_factor * self.aux_fuel_cons \n",
    "\n",
    "        self.sulfur_main_emision_factor =  market_instance.fuel_data[self.fuel_type]['sulfur_factor']\n",
    "        self_sulfur_main_emissions =  self.sulfur_main_emision_factor * self.main_fuel_cons\n",
    "\n",
    "        self_sulfur_emissions = self_sulfur_main_emissions  + self_sulfur_aux_emissions\n",
    "        return self_sulfur_emissions"
   ]
  },
  {
   "cell_type": "code",
   "execution_count": 5,
   "metadata": {},
   "outputs": [],
   "source": [
    "class MarketConfig: \n",
    "    \"\"\"Market Configuration and simulation game set up\n",
    "    .. version: : 0.1\n",
    "    \n",
    "    Parameters\n",
    "    ----------\n",
    "    \n",
    "    Attributes\n",
    "    ----------\n",
    "    \n",
    "    \"\"\"\n",
    "    #class attributes\n",
    "    t0 = 2016 #The starting year for evaluation of the pay-offs\n",
    "    T = 35  # Planning Horizon t = 2016,...,2040 # 100 year scope \n",
    "    year = np.arange(2016, 2051)\n",
    "    distance = 11810 #nautical miles #Notteboom (2006)  \n",
    "    port_time = 264 #hours ==> 11 days in a year  #Notteboom (2006)\n",
    "    demand_16_20 = np.array([1303780  for j in range(5)]) #in TEU #placehplder to be calibrated with the chosen route \n",
    "    annual_working_time = 6480 #hours per year, assumption   #hours per year, assumption \n",
    "    initial_freight_rate = 1800 ## in US$/TEU \n",
    "    SFOC_main = 206 #g/kWh, specific daily main engine fuel oil consumption rate\n",
    "    SFOC_aux = 221 # specific fuel oil consumption of the auxiliary engine [g/kW h], \n",
    "    eng_load_main = 0.8 # % \n",
    "    eng_load_aux = 0.5 # engine load of the auxiliary engine [\\%]\n",
    "\n",
    "\n",
    "    def __init__(self, number_of_firms, demand_income_elasticity, demand_price_elasticity, \n",
    "                 freight_rate, fuel_data, discount_rate ):\n",
    "        '''__init__ a method to describe the poperty that the shipping market and simulation game has'''\n",
    "        self.number_of_firms = number_of_firms\n",
    "        self.demand_income_elasticity = demand_income_elasticity #Constant income elasticity #IMF\n",
    "        self.demand_price_elasticity =  demand_price_elasticity #Constant own price elasticity#IMF\n",
    "        self.freight_rate = freight_rate ## in US$/TEU\n",
    "        self.fuel_data = fuel_data \n",
    "        self.discount_rate = discount_rate \n",
    "        #self.bau_industry_emission =  bau_industry_emission \n",
    "        #self.bau_pollution_stock = bau_pollution_stock\n",
    "        self.market_capacity = 0 \n",
    "        self.pollution_stock = 0\n",
    "        self.industry_damage = 0\n",
    "        self.global_abatement_benefits = 0\n",
    "        \n",
    "    \n",
    "    def get_market_capacity (self, firm_instance):\n",
    "        self.market_capacity += firm_instance.max_number_of_vessel * firm_instance.capacity\n",
    "        return self.market_capacity \n",
    "    \n",
    "    def get_freight_rate_ratio(self): \n",
    "        self.beta = np.divide(self.freight_rate, MarketConfig.initial_freight_rate) \n",
    "        return self.beta\n",
    "   \n",
    "    def get_market_demand(self):\n",
    "        '''compute market level demand'''\n",
    "        #---------> 1.Import real GDP growth data & compute GDP ratio : Source IMF@2020 #\n",
    "        G_df = pd.read_csv('./data/real_growth_rate.csv') #import IMF data\n",
    "        #-------> 2.Construct GDP projection path 2016-2050 based on projection growth data \n",
    "        gdp_growth= G_df.values[:,1:] \n",
    "        g =1 +(gdp_growth/100)  \n",
    "        self.gdp = np.array([100.00 for j in range(MarketConfig.T)])\n",
    "        for foo in range (1,MarketConfig.T):\n",
    "            self.gdp[foo] = g[:,foo]* self.gdp[foo-1]\n",
    "        #print(self.gdp)\n",
    "        #--------->  \"compute GDP ratio based on IMF@2020\"\n",
    "        gdp_ratio = np.array([1.00 for j in range(MarketConfig.T)])\n",
    "        for moo in range (1,MarketConfig.T):\n",
    "            sub_g = g[:,0:moo+1]\n",
    "            #print(sub_g)\n",
    "            gdp_ratio[moo] = np.prod(sub_g)\n",
    "        \n",
    "        #--------->  \"compute freight rate ratio\"\n",
    "        self.freight_rate_ratio_multiplied = np.power(self.beta, self.demand_price_elasticity)\n",
    "        #print(freight_rate_ratio_multiplied)\n",
    "        \n",
    "        #---------> \"Project Transport Demand (industry demand)\"\n",
    "        loo =np.multiply(np.power(gdp_ratio, self.demand_income_elasticity), self.freight_rate_ratio_multiplied ) #Will need to be updated in case fuel prices are varied over time  \n",
    "        self.market_demand = np.multiply(loo, MarketConfig.demand_16_20[0])\n",
    "        #print(Y) # size = 1 dimesion array with size T=35 years\n",
    "        self.market_psy = np.multiply(np.power(gdp_ratio, self.demand_income_elasticity), MarketConfig.demand_16_20[0] )\n",
    "        return self.market_demand, self.gdp, self.market_psy\n",
    "    \n",
    "    def set_period_index (self, period):\n",
    "        self.period_index = period\n",
    "        return self.period_index\n",
    "\n",
    "        \n",
    "    def get_industry_emission(self):\n",
    "        \n",
    "        pass\n",
    "    \n",
    "    def get_pollution_stock(self):\n",
    "        pass\n",
    "    \n",
    "    def get_damage(self):\n",
    "        pass\n",
    "    \n",
    "    def get_global_abatement_benefits(self):\n",
    "        pass \n",
    "    \n",
    "    def get_firm_abatement_benefits():\n",
    "        pass"
   ]
  },
  {
   "cell_type": "code",
   "execution_count": 6,
   "metadata": {},
   "outputs": [],
   "source": [
    "class Coalition:\n",
    "    def __init__(self, ):\n",
    "        pass"
   ]
  },
  {
   "cell_type": "code",
   "execution_count": 7,
   "metadata": {},
   "outputs": [],
   "source": [
    "class Singelton: \n",
    "    def __init__(self,):\n",
    "        pass"
   ]
  },
  {
   "cell_type": "code",
   "execution_count": 8,
   "metadata": {},
   "outputs": [],
   "source": [
    "\n",
    "#-------------------------------------------------- MAIN ------------------------------------------------------------- #\n",
    "\n",
    "####################################### 1. Firm & Market specific Parameters ###########################################\n",
    "\n",
    "                    #===========================>  Firm 1 Attributes <==========================#\n",
    "index_1 = 1\n",
    "capacity_1 = 5905\n",
    "max_number_of_vessel_1= 50\n",
    "design_speed_1 = 23.3 #design speed of the vessel in knots\n",
    "min_speed_1 = 8.5\n",
    "max_speed_1 = 30\n",
    "main_engine_power_1 = 41186 # main engine power in kW\n",
    "aux_engine_power_1 = 2433 # auxiliary engine power [kW] \n",
    "fix_cost_1 =  6750000  #Daily cost of vessel (USD/Day) $25,000\n",
    "fuel_type_1 = \"HFO\"\n",
    "\n",
    "                    #===========================>  Firm 2 Attributes <==========================#\n",
    "index_2 = 2\n",
    "capacity_2 = 6470\n",
    "max_number_of_vessel_2 = 50\n",
    "design_speed_2 = 24.7 #design speed of the vessel in knots\n",
    "min_speed_2 = 8.5\n",
    "max_speed_2 = 30\n",
    "main_engine_power_2 = 56273 # main engine power in kW\n",
    "aux_engine_power_2 =  2433 # auxiliary engine power [kW] \n",
    "fix_cost_2 = 6750000 #Daily cost of vessel (USD/Day) $25,000\n",
    "fuel_type_2 = \"HFO\"\n",
    "\n",
    "\n",
    "                    #===========================> Market Attributes <==========================#\n",
    "firms = 2\n",
    "income_elasticity = 0.8 #Constant income elasticity #IMF\n",
    "price_elasticity = -0.7 #Constant own price elasticity#IMF\n",
    "freight_rate = 1800 ## in US$/TEU\n",
    "fuel_data = pd.DataFrame(np.array([[422.50, 525.50, 597.00], \n",
    "                                [3.114,3.206,3.206],\n",
    "                                [0.07,0.01,0.002]]),\n",
    "                         columns=['HFO', 'ULSFO', 'MGO'],\n",
    "                         index = ['price', 'carbon_factor', 'sulfur_factor'])\n",
    "discount = 0.02  ##3  to 5 % transport canada ,#to be updated using the Ramsey rule,#pure rate of time preference of 1.5% + growth rate of consumption g * rate of risk conversion , an elasticity value of 2"
   ]
  },
  {
   "cell_type": "code",
   "execution_count": 9,
   "metadata": {},
   "outputs": [],
   "source": [
    "\"\"\" This cell needs to run once throughout the kernel\"\"\"\n",
    "####################################### 2.Simulation Game Initialisation ###########################################\n",
    "firm_1 = Firm(index_1, capacity_1, max_number_of_vessel_1, design_speed_1, \n",
    "                 min_speed_1, max_speed_1, main_engine_power_1, aux_engine_power_1,\n",
    "                 fix_cost_1, fuel_type_1) \n",
    "\n",
    "firm_2 = Firm(index_2, capacity_2, max_number_of_vessel_2, design_speed_2, \n",
    "                 min_speed_2, max_speed_2, main_engine_power_2, aux_engine_power_2,\n",
    "                 fix_cost_2, fuel_type_2) \n",
    "\n",
    "game_config = MarketConfig(firms, income_elasticity, price_elasticity, freight_rate, \n",
    "                           fuel_data, discount)\n",
    "\n",
    "####################################### 3.Get market capacity #################################\n",
    "for  firm_object in Firm._registry:\n",
    "    market_capacity_sim = game_config.get_market_capacity(firm_object)"
   ]
  },
  {
   "cell_type": "code",
   "execution_count": 10,
   "metadata": {},
   "outputs": [],
   "source": [
    "## 4.Get freight ratio for passethrough\n",
    "beta_sim = game_config.get_freight_rate_ratio()\n",
    "\n",
    "# 5.Get market demand  \n",
    "market_demand_sim, gdp_sim, market_psy_sim = game_config.get_market_demand()"
   ]
  },
  {
   "cell_type": "markdown",
   "metadata": {},
   "source": [
    "# Market Demand"
   ]
  },
  {
   "cell_type": "code",
   "execution_count": 11,
   "metadata": {},
   "outputs": [
    {
     "name": "stdout",
     "output_type": "stream",
     "text": [
      "market demand [1303780.         1378613.27053661 1417081.19385409 1448735.913652\n",
      " 1397511.98183639 1455352.28446974 1504050.11466377 1549602.07735933\n",
      " 1594072.22320876 1638552.17226732 1684273.26074193 1731270.12057536\n",
      " 1779578.35005746 1829234.54078948 1880276.30540081 1932742.30603904\n",
      " 1986672.28365504 2042107.08810522 2099088.70909364 2157660.30797763\n",
      " 2217866.2504608  2279752.14019835 2343364.85334008 2408752.57403719\n",
      " 2475964.83093995 2545052.53471369 2616068.01660168 2689065.06806397\n",
      " 2764098.98152235 2841226.59224218 2920506.32138292 3001998.22024985\n",
      " 3085764.01578064 3171867.15730103 3260372.86458528]\n"
     ]
    }
   ],
   "source": [
    "print(\"market demand\", market_demand_sim)\n",
    "#Insert Graph"
   ]
  },
  {
   "cell_type": "markdown",
   "metadata": {},
   "source": [
    "# Firm 1:"
   ]
  },
  {
   "cell_type": "code",
   "execution_count": 12,
   "metadata": {},
   "outputs": [
    {
     "name": "stdout",
     "output_type": "stream",
     "text": [
      "firm 1 market share 0.4771717171717172\n",
      "firm 1 demand [ 622126.94141414  657835.26161767  676191.06664311  691295.80364566\n",
      "  666853.19214092  694452.94867021  717690.17592643  739426.28418641\n",
      "  760646.18004426  781870.75371625  803687.56401464  826113.13632303\n",
      "  849164.45713853  872858.98693833  897214.6734054   922249.96502307\n",
      "  947983.82504913  974435.7458797  1001625.76381397 1029574.47423094\n",
      " 1058303.04718958 1087833.24346435 1118187.43102814 1149388.60199512\n",
      " 1181460.39003639 1214427.08828156 1248313.66771983 1283145.79611457\n",
      " 1318949.85744561 1355752.97189415 1393583.01638514 1432468.64570306\n",
      " 1472439.31419674 1513525.29808991 1555757.71841423]\n",
      "firm 1 ship energy 0.0005365856566237424\n"
     ]
    }
   ],
   "source": [
    "# 6.Get firm market share  \n",
    "firm_1_market_share_sim = firm_1.get_market_share(game_config)\n",
    "print(\"firm 1 market share\", firm_1_market_share_sim)\n",
    " \n",
    "# 7.Get firm passthrough parameter\n",
    "firm_1_psy_sim = firm_1.get_firm_param(game_config)\n",
    "\n",
    "\n",
    "# 7.Get firm level demand  \n",
    "firm_1_demand_sim = firm_1.get_firm_demand(game_config)\n",
    "print(\"firm 1 demand\", firm_1_demand_sim)\n",
    "    \n",
    "# 9.Get ship energy efficiency  \n",
    "firm_1_ship_energy_sim = firm_1.get_ship_energy_efficiency(game_config)\n",
    "print(\"firm 1 ship energy\", firm_1_ship_energy_sim)"
   ]
  },
  {
   "cell_type": "markdown",
   "metadata": {},
   "source": [
    "# Firm 2"
   ]
  },
  {
   "cell_type": "code",
   "execution_count": 13,
   "metadata": {},
   "outputs": [
    {
     "name": "stdout",
     "output_type": "stream",
     "text": [
      "firm 2 market share 0.5228282828282829\n",
      "firm 2 demand [ 681653.05858586  720778.00891894  740890.12721099  757440.11000634\n",
      "  730658.78969547  760899.33579953  786359.93873734  810175.79317292\n",
      "  833426.0431645   856681.41855108  880585.6967273   905156.98425233\n",
      "  930413.89291893  956375.55385115  983061.63199541 1010492.34101596\n",
      " 1038688.45860591 1067671.34222552 1097462.94527966 1128085.83374669\n",
      " 1159563.20327122 1191918.89673401 1225177.42231195 1259363.97204207\n",
      " 1294504.44090355 1330625.44643213 1367754.34888185 1405919.27194941\n",
      " 1445149.12407673 1485473.62034803 1526923.30499777 1569529.57454679\n",
      " 1613324.7015839  1658341.85921112 1704615.14617105]\n",
      "firm 2 ship energy 0.0006154126460269385\n"
     ]
    }
   ],
   "source": [
    "# 6.Get firm market share  \n",
    "firm_2_market_share_sim = firm_2.get_market_share(game_config)\n",
    "print(\"firm 2 market share\", firm_2_market_share_sim)\n",
    "\n",
    "# 7.Get firm passthrough parameter\n",
    "firm_2_psy_sim = firm_2.get_firm_param(game_config)\n",
    "\n",
    "\n",
    "# 7.Get firm level demand  \n",
    "firm_2_demand_sim = firm_2.get_firm_demand(game_config)\n",
    "print(\"firm 2 demand\", firm_2_demand_sim)\n",
    "\n",
    "\n",
    "# 9.Get ship energy efficiency  \n",
    "firm_2_ship_energy_sim = firm_2.get_ship_energy_efficiency(game_config)\n",
    "print(\"firm 2 ship energy\", firm_2_ship_energy_sim)"
   ]
  },
  {
   "cell_type": "markdown",
   "metadata": {},
   "source": [
    "# Period Index"
   ]
  },
  {
   "cell_type": "code",
   "execution_count": 14,
   "metadata": {},
   "outputs": [],
   "source": [
    "# 7.Set period index  \n",
    "period_index_sim = game_config.set_period_index(1)"
   ]
  },
  {
   "cell_type": "markdown",
   "metadata": {},
   "source": [
    "# Genetic Algorithm :"
   ]
  },
  {
   "cell_type": "code",
   "execution_count": 15,
   "metadata": {},
   "outputs": [],
   "source": [
    "#====> Iinitialisation\n",
    "Chromo = List[float] \n",
    "Population = List[Chromo]  "
   ]
  },
  {
   "cell_type": "code",
   "execution_count": 16,
   "metadata": {},
   "outputs": [],
   "source": [
    "#Steps of the GA\n",
    "def generate_chromo(lower_bound:float, \n",
    "                    upper_bound:float) -> Chromo:\n",
    "    return np.random.uniform(lower_bound, upper_bound)\n",
    "\n",
    "#========>\n",
    "def generate_population(size: int, \n",
    "                        chromo_lower_bound: float , \n",
    "                        chromo_upper_bound: float) -> Population: \n",
    "    return [generate_chromo(chromo_lower_bound, chromo_upper_bound) for _ in range(size)]\n"
   ]
  },
  {
   "cell_type": "code",
   "execution_count": 17,
   "metadata": {},
   "outputs": [],
   "source": [
    "#========>\n",
    "def fitness (chromo: Chromo, \n",
    "             firm: Firm, \n",
    "             sim_game: MarketConfig, \n",
    "             max_number_of_vessel: int) -> float:\n",
    "    \n",
    "    min_number_vessels_sim , trips_to_meet_demand_sim, time_at_sea_sim  = firm.get_min_number_of_vessel(sim_game, chromo)\n",
    "    print(\"min number of vessel is\", min_number_vessels_sim )\n",
    "    print(\"number of trips to meet demand\", trips_to_meet_demand_sim )\n",
    "    print(\"Time spent at sea\", time_at_sea_sim )\n",
    "\n",
    "    number_vessels_sim  = firm.get_number_of_vessel()\n",
    "    print(\"number of vessel is\", number_vessels_sim)\n",
    "    \n",
    "    #Insert Model Constraints Here \n",
    "    if number_vessels_sim > max_number_of_vessel:\n",
    "        return 0\n",
    "    else:\n",
    "        main_fuel_con_sim = firm.get_main_fuel_cons(sim_game, chromo)\n",
    "        print('main fuel consumption is ', main_fuel_con_sim)\n",
    "        \n",
    "        aux_fuel_con_sim = firm.get_aux_fuel_cons(sim_game)\n",
    "        print('aux fuel consumption is ', aux_fuel_con_sim)\n",
    "\n",
    "        fuel_cost_sim = firm.get_fuel_cost(sim_game)\n",
    "        print( \"fuel cost\",fuel_cost_sim)\n",
    "        \n",
    "        total_cost_sim = firm.get_total_cost()\n",
    "        print(\"total cost\",total_cost_sim)\n",
    "        \n",
    "        revenues_sim = firm.get_revenue(sim_game)\n",
    "        print(\"revenues\", revenues_sim)\n",
    "        \n",
    "        period_profits_sim = firm.get_period_profits()\n",
    "        print (\"period profits \", period_profits_sim)\n",
    "        \n",
    "        discounted_period_profits_sim = firm.get_discounted_period_profit(sim_game)\n",
    "        print(\"discounted period profits \", discounted_period_profits_sim)\n",
    "        \n",
    "        #We will see about the carbon and sulfir emississons \n",
    "        carbon_emissions_sim = firm.get_firm_carbon_emission(sim_game)\n",
    "        print(\"carbon emissions\",carbon_emissions_sim)\n",
    "        \n",
    "        sulfur_emissions_sim = firm.get_firm_sulfur_emission(sim_game)\n",
    "        print( \"sulfur emissions\", sulfur_emissions_sim)\n",
    "        \n",
    "        return  discounted_period_profits_sim"
   ]
  },
  {
   "cell_type": "code",
   "execution_count": 26,
   "metadata": {},
   "outputs": [],
   "source": [
    "#Survival of the fittest  and parent selection \n",
    "#tournement selction with constraint  : randomaly select pairs and pick the fittest \n",
    "#@ the end of the selection, we result in pairs : parents:\n",
    "#1) prefer a feasible solution \n",
    "#2) if both feasible, chosse better objective\n",
    "#3) if both infeasibe, chose the one with the less constraint variation\n",
    "#The fitness of the chromose is the chromosome's weight in the selection process\n",
    "# we draw 2 to get a pair \n",
    "#choices fn from python random module allow us to assign the fitness as weights for each element it can choose from\n",
    "#fitness of a genome = the genome's weights\n",
    "# k=2, we draw 2 from our population\n",
    "#Add weights to each element it can choose from    \n",
    "# Weight Distribution\n",
    "###########################################################################\n",
    "#========================> 6.Select function #==============================>\n",
    "###########################################################################\n",
    "def selection_pair(population: Population, fitness_func: FitnessFunc) -> Population:\n",
    "    '''select a pair of chromo which will be the parent of 2 new chromo for the next generation, Solution with higher fitness should be more likely to be chosen for reproduction'''\n",
    "    return choices(\n",
    "        population = population,\n",
    "        weights=[fitness_func(chromo) for chromo in population],\n",
    "        k=2\n",
    "        )"
   ]
  },
  {
   "cell_type": "markdown",
   "metadata": {},
   "source": [
    "# Main GA call function \n",
    "generations = 100 populations = 100 (50 * solution)"
   ]
  },
  {
   "cell_type": "code",
   "execution_count": 25,
   "metadata": {},
   "outputs": [],
   "source": [
    "#-------------------------------------------------- MAIN ------------------------------------------------------------- #\n",
    "#Define Object function\n",
    "PopulateFunc = Callable[[], Population]\n",
    "FitnessFunc = Callable[[Chromo], float] #int to refelct max # of vessel\n",
    "PrinterFunc = Callable[[Population, int, FitnessFunc], None]\n",
    "\n",
    "SelectionFunc = Callable[[Population, FitnessFunc], Tuple[Chromo, Chromo]]  #takes a population and a fitness fn to select 2 solutions to be the parents of our next generaation solution\n",
    "CrossoverFunc = Callable[[Chromo, Chromo], Tuple[Chromo, Chromo]] #takes 2 genomes and returns 2 new genomes \n",
    "MutationFunc = Callable[[Chromo], Chromo] #takes 1 genome and sometimes returns a modified one\n",
    "\n",
    "\n",
    "\n",
    "\n",
    "#Define Run evolution function \n",
    "def run_evolution(populate_func: PopulateFunc, \n",
    "                  fitness_func: FitnessFunc,\n",
    "                  generation_limit: int = 100,\n",
    "                  printer: Optional[PrinterFunc] = None) -> Tuple[Population, int]:\n",
    "    \n",
    "    #1. Genrate the 1st generation: Initial generation/population\n",
    "    population = populate_func()\n",
    "\n",
    "    \n",
    "    #2 Simulate until you reach generation limit,\n",
    "    i = 0\n",
    "    for i in range(generation_limit):\n",
    "        #print all solutions in the population \n",
    "        print(\"chromos in the population \", population )\n",
    "        \n",
    "        #print (\"pop\", population[0:2]) #print the first 2 solution of the population \n",
    "        \n",
    "        #Step 1 : Sort solutions in the population of generation i based on fitness\n",
    "        population = sorted(population, \n",
    "                            key=lambda chromo: fitness_func(chromo), \n",
    "                            reverse=True) \n",
    "        if printer is not None:\n",
    "            printer(population, i, fitness_func)\n",
    "            \n",
    "        #Step 2: Implement elitism and pick the top 2 chromo(speed) in the population based on fitness for the next gernation \n",
    "        next_generation = population[0:2]  \n",
    "        print(\"next generation\", next_generation)\n",
    "        \n",
    "        \n",
    "        \n",
    "        #Step 3: j in range 24 \n",
    "        for j in range(int(len(population) / 2) - 1):\n",
    "            print(j)\n",
    "            #Step 1: Selection \n",
    "            #parents = selection_func(population, fitness_func)\n",
    "            #Step 2: Crossover\n",
    "            #offspring_a, offspring_b = crossover_func(parents[0], parents[1])\n",
    "            #Step 3: mutation \n",
    "            #offspring_a = mutation_func(offspring_a)\n",
    "            #offspring_b = mutation_func(offspring_b)\n",
    "            #Step 4: Next generation \n",
    "            #next_generation += [offspring_a, offspring_b]\n",
    "\n",
    "        \n",
    "        return population, i"
   ]
  },
  {
   "cell_type": "markdown",
   "metadata": {},
   "source": [
    "# Runing the GA "
   ]
  },
  {
   "cell_type": "code",
   "execution_count": 23,
   "metadata": {},
   "outputs": [
    {
     "name": "stdout",
     "output_type": "stream",
     "text": [
      "chromos in the population  [27.699451571867723, 20.202731915006666, 23.452672012571753, 20.603648825030085]\n",
      "min number of vessel is 11.868593772839455\n",
      "number of trips to meet demand 111.40309256861497\n",
      "Time spent at sea 426.3622320954015\n",
      "number of vessel is 12.0\n",
      "main fuel consumption is  541662.2196110255\n",
      "aux fuel consumption is  114.62599383103635\n",
      "fuel cost 228920719.50397542\n",
      "total cost 309920719.5039754\n",
      "revenues 1184103470.9118085\n",
      "period profits  874182751.4078331\n",
      "discounted period profits  857041913.1449344\n",
      "carbon emissions 1687103.6428049556\n",
      "sulfur emissions 37916.58462475945\n",
      "min number of vessel is 14.588551397298247\n",
      "number of trips to meet demand 111.40309256861497\n",
      "Time spent at sea 584.5744055647982\n",
      "number of vessel is 15.0\n",
      "main fuel consumption is  288141.8936173105\n",
      "aux fuel consumption is  157.16078292567653\n",
      "fuel cost 121833775.04072031\n",
      "total cost 223083775.0407203\n",
      "revenues 1184103470.9118085\n",
      "period profits  961019695.8710881\n",
      "discounted period profits  942176172.4226354\n",
      "carbon emissions 897777.7141943646\n",
      "sulfur emissions 20170.24687477759\n",
      "min number of vessel is 13.195891518473337\n",
      "number of trips to meet demand 111.40309256861497\n",
      "Time spent at sea 503.5673544434202\n",
      "number of vessel is 14.0\n",
      "main fuel consumption is  388303.1056669298\n",
      "aux fuel consumption is  135.38232075637296\n",
      "fuel cost 164138885.3897694\n",
      "total cost 258638885.3897694\n",
      "revenues 1184103470.9118085\n",
      "period profits  925464585.522039\n",
      "discounted period profits  907318221.1000383\n",
      "carbon emissions 1209609.9067671641\n",
      "sulfur emissions 27181.4881613266\n",
      "min number of vessel is 14.392994889386884\n",
      "number of trips to meet demand 111.40309256861497\n",
      "Time spent at sea 573.1994415306074\n",
      "number of vessel is 15.0\n",
      "main fuel consumption is  299691.5391607496\n",
      "aux fuel consumption is  154.10266365745844\n",
      "fuel cost 126711674.5856202\n",
      "total cost 227961674.5856202\n",
      "revenues 1184103470.9118085\n",
      "period profits  956141796.3261883\n",
      "discounted period profits  937393917.9668512\n",
      "carbon emissions 933733.50608626\n",
      "sulfur emissions 20978.715946579785\n",
      "next generation [20.202731915006666, 20.603648825030085]\n",
      "blac is 1\n"
     ]
    },
    {
     "data": {
      "text/plain": [
       "([20.202731915006666,\n",
       "  20.603648825030085,\n",
       "  23.452672012571753,\n",
       "  27.699451571867723],\n",
       " 0)"
      ]
     },
     "execution_count": 23,
     "metadata": {},
     "output_type": "execute_result"
    }
   ],
   "source": [
    "# Runing the GA\n",
    "#Update size population to 50 solutions,ie chromo per population\n",
    "run_evolution( populate_func = partial(generate_population,\n",
    "                                                    size=4,                                                    \n",
    "                                                    chromo_lower_bound = 20 ,\n",
    "                                                    chromo_upper_bound = 30),\n",
    "                           fitness_func = partial(fitness,\n",
    "                                                  firm = firm_1,\n",
    "                                                  sim_game = game_config, \n",
    "                                                  max_number_of_vessel = max_number_of_vessel_1),\n",
    "                           generation_limit = 100)\n"
   ]
  },
  {
   "cell_type": "code",
   "execution_count": null,
   "metadata": {},
   "outputs": [],
   "source": [
    "generayo"
   ]
  },
  {
   "cell_type": "code",
   "execution_count": null,
   "metadata": {},
   "outputs": [],
   "source": [
    "def fitness(chromo: Chromo, firm: Firm, sim_game: MarketConfig, max_number_of_vessel: int) -> float:\n",
    "    min_number_vessels_sim, trips_to_meet_demand_sim, time_at_sea_sim  = firm.get_min_number_of_vessel(sim_game, chromo)\n",
    "    number_vessels_sim  = firm.get_number_of_vessel()\n",
    "    #Insert Model Constraints Here \n",
    "    if number_vessels_sim > max_number_of_vessel:\n",
    "        return 0\n",
    "    else:\n",
    "        main_fuel_con_sim = firm.get_main_fuel_cons(sim_game, chromo)\n",
    "        aux_fuel_con_sim = firm.get_aux_fuel_cons(sim_game)\n",
    "        fuel_cost_sim = firm.get_fuel_cost(sim_game)\n",
    "        total_cost_sim = firm.get_total_cost()\n",
    "        revenues_sim = firm.get_revenue(sim_game)\n",
    "        period_profits_sim = firm.get_period_profits()\n",
    "        discounted_period_profits_sim = firm.get_discounted_period_profit(sim_game)\n",
    "        #We will see about the carbon and sulfir emississons \n",
    "        carbon_emissions_sim = firm.get_firm_carbon_emission(sim_game)\n",
    "        sulfur_emissions_sim = firm.get_firm_sulfur_emission(sim_game)\n",
    "        return  discounted_period_profits_sim"
   ]
  },
  {
   "cell_type": "code",
   "execution_count": null,
   "metadata": {},
   "outputs": [],
   "source": [
    "# 8.Get min # of vessels to meet demand \n",
    "firm_1_min_number_vessels_sim, firm_1_trips_to_meet_demand_sim, firm_1_time_at_sea_sim  = firm_1.get_min_number_of_vessel(game_config)\n",
    "firm_2_min_number_vessels_sim, firm_2_trips_to_meet_demand_sim, firm_2_time_at_sea_sim= firm_2.get_min_number_of_vessel(game_config)\n",
    "\n",
    "\n",
    "# 9.Get # of vessels to meet demand#\n",
    "firm_1_number_vessels_sim  = firm_1.get_number_of_vessel()\n",
    "firm_2_number_vessels_sim  = firm_2.get_number_of_vessel()\n",
    "\n",
    "# 10.Get main engine fuel consumption #################################\n",
    "firm_1_main_fuel_con_sim = firm_1.get_main_fuel_cons(game_config)\n",
    "firm_2_main_fuel_con_sim = firm_2.get_main_fuel_cons(game_config)\n",
    "\n",
    "# 11.Get Auxi engine fuel consumption  \n",
    "firm_1_aux_fuel_con_sim = firm_1.get_aux_fuel_cons(game_config)\n",
    "firm_2_aux_fuel_con_sim = firm_2.get_aux_fuel_cons(game_config)\n",
    "\n",
    "# 13.Get Firm Cost & Revenues  \n",
    "firm_1_fuel_cost_sim = firm_1.get_fuel_cost(game_config)\n",
    "firm_1_total_cost_sim = firm_1.get_total_cost()\n",
    "firm_1_revenues_sim = firm_1.get_revenue(game_config)\n",
    "firm_1_period_profits_sim = firm_1.get_period_profits()\n",
    "firm_1_discounted_period_profits_sim = firm_1.get_discounted_period_profit(game_config)\n",
    "#===================================================================#\n",
    "firm_2_fuel_cost_sim = firm_2.get_fuel_cost(game_config)\n",
    "firm_2_total_cost_sim = firm_2.get_total_cost()\n",
    "firm_2_revenues_sim = firm_2.get_revenue(game_config)\n",
    "firm_2_period_profits_sim = firm_2.get_period_profits()\n",
    "firm_2_discounted_period_profits_sim = firm_2.get_discounted_period_profit(game_config)\n",
    "\n",
    "# 14.Get Carbon Emissions  \n",
    "firm_1_carbon_emissions_sim = firm_1.get_firm_carbon_emission(game_config)\n",
    "firm_2_carbon_emissions_sim = firm_2.get_firm_carbon_emission(game_config)\n",
    "\n",
    "# 14.Get Sulfur Emissions  \n",
    "firm_1_sulfur_emissions_sim = firm_1.get_firm_sulfur_emission(game_config)\n",
    "firm_2_sulfur_emissions_sim = firm_2.get_firm_sulfur_emission(game_config)\n",
    "\n"
   ]
  },
  {
   "cell_type": "markdown",
   "metadata": {},
   "source": [
    "# Plotting And Analysis: \n",
    "\n",
    "**Current Week Objective** : Compute the BAU emissions of sulfur and carbon for each firm Using the GA "
   ]
  },
  {
   "cell_type": "markdown",
   "metadata": {},
   "source": [
    "## Genetic Algorithm Implementation to solve optimum Vessel Speed and Number of vessels for period index for each firm separately:\n"
   ]
  },
  {
   "cell_type": "code",
   "execution_count": null,
   "metadata": {},
   "outputs": [],
   "source": [
    "class Optimisation: \n",
    "    def __init__(self,):\n",
    "        pass\n",
    "    \n",
    "    def fitness(self, chromo: Chromo, firm: Firm, sim_game: MarketConfig, max_number_of_vessel: int) -> float:\n",
    "        min_number_vessels_sim, trips_to_meet_demand_sim, time_at_sea_sim  = firm.get_min_number_of_vessel(sim_game, chromo)\n",
    "        number_vessels_sim  = firm.get_number_of_vessel()\n",
    "        #Insert Model Constraints Here \n",
    "        if number_vessels_sim > max_number_of_vessel:\n",
    "            return 0\n",
    "        else:\n",
    "            main_fuel_con_sim = firm.get_main_fuel_cons(sim_game, chromo)\n",
    "            aux_fuel_con_sim = firm.get_aux_fuel_cons(sim_game)\n",
    "            fuel_cost_sim = firm.get_fuel_cost(sim_game)\n",
    "            total_cost_sim = firm.get_total_cost()\n",
    "            revenues_sim = firm.get_revenue(sim_game)\n",
    "            period_profits_sim = firm.get_period_profits()\n",
    "            discounted_period_profits_sim = firm.get_discounted_period_profit(sim_game)\n",
    "            #We will see about the carbon and sulfir emississons \n",
    "            carbon_emissions_sim = firm.get_firm_carbon_emission(sim_game)\n",
    "            sulfur_emissions_sim = firm.get_firm_sulfur_emission(sim_game)\n",
    "            #return  discounted_period_profits_sim\n",
    "        pass"
   ]
  },
  {
   "cell_type": "code",
   "execution_count": null,
   "metadata": {},
   "outputs": [],
   "source": [
    "from algorithms.genetic import generate_genome, Genome, selection_pair, single_point_crossover, mutation"
   ]
  },
  {
   "cell_type": "code",
   "execution_count": null,
   "metadata": {},
   "outputs": [],
   "source": [
    "#Genetic Algorithm Simulation Prameters \n",
    "#Population Size: Number of melodies per generation to rate and recombine\n",
    "#Number of mutations: Max number of mutations that should be possible per child generated\n",
    "#Mutation probability: Probability for a mutation to occur"
   ]
  },
  {
   "cell_type": "code",
   "execution_count": null,
   "metadata": {},
   "outputs": [],
   "source": [
    "#After you defined all parameters above the genetic algorithm will generate a population of '---' and play each one back to you. "
   ]
  },
  {
   "cell_type": "code",
   "execution_count": null,
   "metadata": {},
   "outputs": [],
   "source": [
    "#Encoding the chromosomes #Gneomes Stuff ...\n",
    "def int_from_bits(bits: List[int]) -> int:\n",
    "    return int(sum([bit*pow(2, index) for index, bit in enumerate(bits)]))"
   ]
  },
  {
   "cell_type": "code",
   "execution_count": null,
   "metadata": {},
   "outputs": [],
   "source": []
  },
  {
   "cell_type": "code",
   "execution_count": null,
   "metadata": {},
   "outputs": [],
   "source": [
    "def fitness(genome: Genome, s: Server, num_bars: int, num_notes: int, num_steps: int,\n",
    "            pauses: bool, key: str, scale: str, root: int, bpm: int) -> int:\n",
    "    m = metronome(bpm)\n",
    "\n",
    "    events = genome_to_events(genome, num_bars, num_notes, num_steps, pauses, key, scale, root, bpm)\n",
    "    for e in events:\n",
    "        e.play()\n",
    "    s.start()\n",
    "\n",
    "    rating = input(\"Rating (0-5)\")\n",
    "\n",
    "    for e in events:\n",
    "        e.stop()\n",
    "    s.stop()\n",
    "    time.sleep(1)\n",
    "\n",
    "    try:\n",
    "        rating = int(rating)\n",
    "    except ValueError:\n",
    "        rating = 0\n",
    "\n",
    "    return ratin\n",
    "\n",
    "#Example 2\n",
    "def fitness(genome: Genome, things: [Thing], weight_limit: int) -> int:\n",
    "   '''a fitness fn to evaluate solutions, takes a genome an weight limit as an input parameter\n",
    "       Returns a fitness value '''\n",
    "    \n",
    "    ####Insert How to compute the profit function here !!!!\n",
    "    if len(genome) != len(things):\n",
    "        raise ValueError(\"genome and things must be of same length\")\n",
    "\n",
    "    weight = 0\n",
    "    value = 0\n",
    "    for i, thing in enumerate(things):\n",
    "        if genome[i] == 1:\n",
    "            weight += thing.weight\n",
    "            value += thing.value\n",
    "\n",
    "            if weight > weight_limit:\n",
    "                return 0\n",
    "\n",
    "    return value"
   ]
  },
  {
   "cell_type": "code",
   "execution_count": null,
   "metadata": {},
   "outputs": [],
   "source": [
    "def main(num_bars: int, num_notes: int, num_steps: int, pauses: bool, key: str, scale: str, root: int,\n",
    "         population_size: int, num_mutations: int, mutation_probability: float, bpm: int):\n",
    "\n",
    "    folder = str(int(datetime.now().timestamp()))\n",
    "\n",
    "    population = [generate_genome(num_bars * num_notes * BITS_PER_NOTE) for _ in range(population_size)]\n",
    "\n",
    "    s = Server().boot()\n",
    "\n",
    "    population_id = 0\n",
    "\n",
    "    running = True\n",
    "    while running:\n",
    "        random.shuffle(population)\n",
    "\n",
    "        population_fitness = [(genome, fitness(genome, s, num_bars, num_notes, num_steps, pauses, key, scale, root, bpm)) for genome in population]\n",
    "\n",
    "        sorted_population_fitness = sorted(population_fitness, key=lambda e: e[1], reverse=True)\n",
    "\n",
    "        population = [e[0] for e in sorted_population_fitness]\n",
    "\n",
    "        next_generation = population[0:2]\n",
    "\n",
    "        for j in range(int(len(population) / 2) - 1):\n",
    "\n",
    "            def fitness_lookup(genome):\n",
    "                for e in population_fitness:\n",
    "                    if e[0] == genome:\n",
    "                        return e[1]\n",
    "                return 0\n",
    "\n",
    "            parents = selection_pair(population, fitness_lookup)\n",
    "            offspring_a, offspring_b = single_point_crossover(parents[0], parents[1])\n",
    "            offspring_a = mutation(offspring_a, num=num_mutations, probability=mutation_probability)\n",
    "            offspring_b = mutation(offspring_b, num=num_mutations, probability=mutation_probability)\n",
    "            next_generation += [offspring_a, offspring_b]\n",
    "\n",
    "        print(f\"population {population_id} done\")\n",
    "\n",
    "        events = genome_to_events(population[0], num_bars, num_notes, num_steps, pauses, key, scale, root, bpm)\n",
    "        for e in events:\n",
    "            e.play()\n",
    "        s.start()\n",
    "        input(\"here is the no1 hit …\")\n",
    "        s.stop()\n",
    "        for e in events:\n",
    "            e.stop()\n",
    "\n",
    "        time.sleep(1)\n",
    "\n",
    "        events = genome_to_events(population[1], num_bars, num_notes, num_steps, pauses, key, scale, root, bpm)\n",
    "        for e in events:\n",
    "            e.play()\n",
    "        s.start()\n",
    "        input(\"here is the second best …\")\n",
    "        s.stop()\n",
    "        for e in events:\n",
    "            e.stop()\n",
    "\n",
    "        time.sleep(1)\n",
    "\n",
    "        print(\"saving population midi …\")\n",
    "        for i, genome in enumerate(population):\n",
    "            save_genome_to_midi(f\"{folder}/{population_id}/{scale}-{key}-{i}.mid\", genome, num_bars, num_notes, num_steps, pauses, key, scale, root, bpm)\n",
    "        print(\"done\")\n",
    "\n",
    "        running = input(\"continue? [Y/n]\") != \"n\"\n",
    "        population = next_generation\n",
    "        population_id += 1\n",
    "        "
   ]
  },
  {
   "cell_type": "code",
   "execution_count": null,
   "metadata": {},
   "outputs": [],
   "source": [
    "if __name__ == '__main__':\n",
    "    main()"
   ]
  },
  {
   "cell_type": "code",
   "execution_count": null,
   "metadata": {},
   "outputs": [],
   "source": [
    "###########################################################################\n",
    "#-------------------------------- MAIN ---------------------------------- #\n",
    "###########################################################################\n",
    "start = time.time()\n",
    "population, generations = run_evolution(populate_func = partial(generate_population, \n",
    "                                                                size=10, \n",
    "                                                                genome_length=len(things)),\n",
    "                                        fitness_func = partial(fitness, \n",
    "                                                               things=things, \n",
    "                                                               weight_limit=3000),\n",
    "                                        fitness_limit = 740,\n",
    "                                        generation_limit = 100)         \n",
    "end = time.time()\n",
    "\n"
   ]
  },
  {
   "cell_type": "markdown",
   "metadata": {},
   "source": [
    "###"
   ]
  },
  {
   "cell_type": "markdown",
   "metadata": {},
   "source": [
    "## Genetic Algorithm Implementation to solve optimum Vessel Speed and Number of vessels for period index for each firm separately:\n",
    "1. Create the population of individuals \n",
    "Generate an initial population of individuals randomly.\n",
    "\n",
    "2. Evaluate the fitness of each individual in the population.\n",
    "The higher the fitness, the longer the individual's properties (DNA) stay  in the population, either by the individual itself or its offspring\n",
    "\n",
    "3. Repeat as often :\n",
    "a) Select individuals with a good fitness score for reproduction.\n",
    "b) Let them produce offsprings.\n",
    "c) Mutate these offsprings.\n",
    "d) Evaluate the fitness of each individual in the population.\n",
    "f) Let the individuals with a bad fitness score die.\n",
    "\n",
    "\n",
    "4. Pick the individual with the highest fitness as the solution\n",
    "\n"
   ]
  },
  {
   "cell_type": "markdown",
   "metadata": {},
   "source": [
    "### a. Individuals\n"
   ]
  },
  {
   "cell_type": "markdown",
   "metadata": {},
   "source": [
    "### b.How many individuals are in the first population and how are they generated?\n",
    "Using uniformly random elements is a good choice becaise we can cover the entire solution space quite well."
   ]
  },
  {
   "cell_type": "markdown",
   "metadata": {},
   "source": [
    "### c. Fitness Score\n",
    "We want to maximize our profit, so we can just use our payoff function"
   ]
  },
  {
   "cell_type": "markdown",
   "metadata": {},
   "source": [
    "### d.Crosseover\n"
   ]
  },
  {
   "cell_type": "markdown",
   "metadata": {},
   "source": [
    "### e. mutate\n",
    "Example: add Gaussian noise to each offspring. Maybe a mean of zero and a standard deviation of 0.25 is fine. \n"
   ]
  },
  {
   "cell_type": "markdown",
   "metadata": {},
   "source": [
    "### f. population size :\n",
    "Maintain a constant population size \n",
    "\n"
   ]
  },
  {
   "cell_type": "markdown",
   "metadata": {},
   "source": [
    "### g.  Termination criteria \n",
    "until the solutions don’t get better anymore.\n"
   ]
  },
  {
   "cell_type": "markdown",
   "metadata": {},
   "source": [
    "# 1. Set up : Hyperparmeters\n",
    "- How many starting individuals? 100 \n",
    "- How many parents? 60 (two produce one offspring, like before)\n",
    "- How many offsprings? 30 \n",
    "- How many dying individuals? 30  \n",
    "- How many epochs (cycles) ? 1000"
   ]
  },
  {
   "cell_type": "markdown",
   "metadata": {},
   "source": [
    "# EnviromentalGovernance class"
   ]
  },
  {
   "cell_type": "markdown",
   "metadata": {},
   "source": [
    "# 2. Initial population\n",
    "Individuals = potential solutions to the problem = {vessel speed, number of vessels}\n",
    "\n",
    "The number of individual (candidate solution) in the population is a hyperparameter. \n",
    "Let's start with 10 random individuals with random meaning uniformly drawn numbers between $ V_i^{min}$ and $ V_i^{max} $\n",
    "\n",
    "and ***number_vessels_sim*** between $ \\frac{ψ_{i,t}}{k_t τ} (t_p + \\frac{d}{V_i^{max}}) β_t^η  $ and \n",
    "$ min(n_i, \\frac{ψ_{i,t}}{k_t τ} (t_p + \\frac{d}{V_i^{min}}) β_t^η )$\n",
    "\n",
    "Constraint subroutine elimination: \n",
    "- $  $ #Relathonship bw vessel speed and number of vessels"
   ]
  },
  {
   "cell_type": "code",
   "execution_count": null,
   "metadata": {},
   "outputs": [],
   "source": [
    "def _random_init(self, init_params):\n",
    "    '''intialise individuals through a random permuation '''\n",
    "    '''must be updated with how to initalise my candidate solutions for vessel speed and fleet size '''\n",
    "    return np.random.choice(\n",
    "        a=range(init_params['n_cities']),\n",
    "        size=init_params['n_cities'],\n",
    "        replace=False\n",
    "    )"
   ]
  },
  {
   "cell_type": "markdown",
   "metadata": {},
   "source": [
    "# 3.Mutation procedure\n",
    "how can we alter the candidate solutions in a simple way?\n",
    "* Mutation Methods : Crossover : "
   ]
  },
  {
   "cell_type": "code",
   "execution_count": null,
   "metadata": {},
   "outputs": [],
   "source": [
    "def mutate(self, mutate_params):\n",
    "    for _ in range(mutate_params['rate']):\n",
    "        i, j = np.random.choice(\n",
    "            a=range(len(self.value)),\n",
    "            size=2,\n",
    "            replace=False)\n",
    "        self.value[i], self.value[j] = self.value[j], self.value[i]"
   ]
  },
  {
   "cell_type": "markdown",
   "metadata": {},
   "source": [
    "# 4.Crossover Procedure"
   ]
  },
  {
   "cell_type": "markdown",
   "metadata": {},
   "source": [
    "# 5.Implementation"
   ]
  },
  {
   "cell_type": "code",
   "execution_count": null,
   "metadata": {},
   "outputs": [],
   "source": [
    "class Individual(ABC):\n",
    "    def __init__(self, value=None, init_params=None):\n",
    "        if value is not None:\n",
    "            self.value = value\n",
    "        else:\n",
    "            self.value = self._random_init(init_params)\n",
    "\n",
    "    @abstractmethod\n",
    "    def pair(self, other, pair_params):\n",
    "        pass\n",
    "\n",
    "    @abstractmethod\n",
    "    def mutate(self, mutate_params):\n",
    "        pass\n",
    "\n",
    "    @abstractmethod\n",
    "    def _random_init(self, init_params):\n",
    "        pass\n",
    "class TSP(Individual):\n",
    "    def pair(self, other, pair_params):\n",
    "        self_head = self.value[:int(len(self.value) * pair_params['alpha'])].copy()\n",
    "        self_tail = self.value[int(len(self.value) * pair_params['alpha']):].copy()\n",
    "        other_tail = other.value[int(len(other.value) * pair_params['alpha']):].copy()\n",
    "\n",
    "        mapping = {other_tail[i]: self_tail[i] for i in range(len(self_tail))}\n",
    "\n",
    "        for i in range(len(self_head)):\n",
    "            while self_head[i] in other_tail:\n",
    "                self_head[i] = mapping[self_head[i]]\n",
    "\n",
    "        return TSP(np.hstack([self_head, other_tail]))\n",
    "\n",
    "    def mutate(self, mutate_params):\n",
    "        for _ in range(mutate_params['rate']):\n",
    "            i, j = np.random.choice(range(len(self.value)), 2, replace=False)\n",
    "            self.value[i], self.value[j] = self.value[j], self.value[i]\n",
    "\n",
    "    def _random_init(self, init_params):\n",
    "        return np.random.choice(range(init_params['n_cities']), init_params['n_cities'], replace=False)"
   ]
  },
  {
   "cell_type": "code",
   "execution_count": null,
   "metadata": {},
   "outputs": [],
   "source": []
  },
  {
   "cell_type": "code",
   "execution_count": null,
   "metadata": {},
   "outputs": [],
   "source": [
    "class SolutionCandidate(ABC):\n",
    "    def __init__(self, value=None, init_params=None):\n",
    "        if value is not None:\n",
    "            self.value = value\n",
    "        else:\n",
    "            self.value = self._random_init(init_params)\n",
    "\n",
    "    @abstractmethod\n",
    "    def pair(self, other, pair_params):\n",
    "        pass\n",
    "\n",
    "    @abstractmethod\n",
    "    def mutate(self, mutate_params):\n",
    "        pass\n",
    "\n",
    "    @abstractmethod\n",
    "    def _random_init(self, init_params):\n",
    "        pass\n",
    "\n",
    "\n",
    "\n",
    "class EnviromentalGovernance(SolutionCandidate):\n",
    "    def __init__(self, ):\n",
    "        pass\n",
    "    \n",
    "    def mutate(self, mutate_params):\n",
    "        pass\n",
    "    \n",
    "    def _random_init(self, init_params):\n",
    "        pass"
   ]
  },
  {
   "cell_type": "markdown",
   "metadata": {},
   "source": [
    "# Create necessary classes and functions for the genetic algorithm\n",
    "\n",
    "### 1.Create a fitness function class"
   ]
  },
  {
   "cell_type": "code",
   "execution_count": null,
   "metadata": {},
   "outputs": [],
   "source": [
    "from abc import ABC, abstractmethod"
   ]
  },
  {
   "cell_type": "code",
   "execution_count": null,
   "metadata": {},
   "outputs": [],
   "source": [
    "class Optimization(Individual):\n",
    "    def pair(self, other, pair_params):\n",
    "        return Optimization(pair_params['alpha'] * self.value + (1 - pair_params['alpha']) * other.value)\n",
    "\n",
    "    def mutate(self, mutate_params):\n",
    "        self.value += np.random.normal(0, mutate_params['rate'], mutate_params['dim'])\n",
    "        for i in range(len(self.value)):\n",
    "            if self.value[i] < mutate_params['lower_bound']:\n",
    "                self.value[i] = mutate_params['lower_bound']\n",
    "            elif self.value[i] > mutate_params['upper_bound']:\n",
    "                self.value[i] = mutate_params['upper_bound']\n",
    "\n",
    "    def _random_init(self, init_params):\n",
    "        return np.random.uniform(init_params['lower_bound'], init_params['upper_bound'], init_params['dim'])"
   ]
  },
  {
   "cell_type": "code",
   "execution_count": null,
   "metadata": {},
   "outputs": [],
   "source": [
    "class Population:\n",
    "    def __init__(self, size, fitness, individual_class, init_params):\n",
    "        self.fitness = fitness\n",
    "        self.individuals = [individual_class(init_params=init_params) for _ in range(size)]\n",
    "        self.individuals.sort(key=lambda x: self.fitness(x))\n",
    "\n",
    "    def replace(self, new_individuals):\n",
    "        size = len(self.individuals)\n",
    "        self.individuals.extend(new_individuals)\n",
    "        self.individuals.sort(key=lambda x: self.fitness(x))\n",
    "        self.individuals = self.individuals[-size:]\n",
    "\n",
    "    def get_parents(self, n_offsprings):\n",
    "        mothers = self.individuals[-2 * n_offsprings::2]\n",
    "        fathers = self.individuals[-2 * n_offsprings + 1::2]\n",
    "\n",
    "        return mothers, fathers"
   ]
  },
  {
   "cell_type": "code",
   "execution_count": null,
   "metadata": {},
   "outputs": [],
   "source": [
    "class Evolution:\n",
    "    def __init__(self, pool_size, fitness, individual_class, n_offsprings, pair_params, mutate_params, init_params):\n",
    "        self.pair_params = pair_params\n",
    "        self.mutate_params = mutate_params\n",
    "        self.pool = Population(pool_size, fitness, individual_class, init_params)\n",
    "        self.n_offsprings = n_offsprings\n",
    "\n",
    "    def step(self):\n",
    "        mothers, fathers = self.pool.get_parents(self.n_offsprings)\n",
    "        offsprings = []\n",
    "\n",
    "        for mother, father in zip(mothers, fathers):\n",
    "            offspring = mother.pair(father, self.pair_params)\n",
    "            offspring.mutate(self.mutate_params)\n",
    "            offsprings.append(offspring)\n",
    "        self.pool.replace(offsprings)"
   ]
  },
  {
   "cell_type": "code",
   "execution_count": null,
   "metadata": {},
   "outputs": [],
   "source": [
    "def fitness(opt):\n",
    "    return -opt.value[0] * (opt.value[0] - 1) * (opt.value[0] - 2) * (opt.value[0] - 3) * (opt.value[0] - 4)"
   ]
  },
  {
   "cell_type": "code",
   "execution_count": null,
   "metadata": {},
   "outputs": [],
   "source": [
    "from evo import Evolution, Optimization"
   ]
  },
  {
   "cell_type": "code",
   "execution_count": null,
   "metadata": {},
   "outputs": [],
   "source": [
    "evo = Evolution(\n",
    "    pool_size=10, fitness=fitness, individual_class=Optimization, n_offsprings=3,\n",
    "    pair_params={'alpha': 0.5},\n",
    "    mutate_params={'lower_bound': 0, 'upper_bound': 4, 'rate': 0.25, 'dim': 1},\n",
    "    init_params={'lower_bound': 0, 'upper_bound': 4, 'dim': 1}\n",
    "                )\n",
    "n_epochs = 50\n",
    "\n",
    "for i in range(n_epochs):\n",
    "    evo.step()\n",
    "\n",
    "print(evo.pool.individuals[-1].value)"
   ]
  },
  {
   "cell_type": "code",
   "execution_count": null,
   "metadata": {},
   "outputs": [],
   "source": [
    "from evo import Evolution, TSP\n",
    "\n",
    "def tsp_fitness_creator(cities):\n",
    "    matrix = []\n",
    "    for city in cities:\n",
    "        row = []\n",
    "        for city_ in cities:\n",
    "            row.append(np.linalg.norm(city - city_))\n",
    "        matrix.append(row)\n",
    "    distances = np.array(matrix)\n",
    "\n",
    "    def fitness(tsp):\n",
    "        res = 0\n",
    "        for i in range(len(tsp.value)):\n",
    "            res += distances[tsp.value[i], tsp.value[(i + 1) % len(tsp.value)]]\n",
    "        return -res\n",
    "\n",
    "    return fitness\n",
    "\n",
    "\n",
    "def compute_distances(cities):\n",
    "    distances = []\n",
    "    for from_city in cities:\n",
    "        row = []\n",
    "        for to_city in cities:\n",
    "            row.append(np.linalg.norm(from_city - to_city))\n",
    "        distances.append(row)\n",
    "    return np.array(distances)\n",
    "\n",
    "\n",
    "def route_length(distances, route):\n",
    "    length = 0\n",
    "    for i in range(len(route)):\n",
    "        length += distances[route[i], route[(i + 1) % len(route)]]\n",
    "    return length\n",
    "\n",
    "\n",
    "def plot_route(cities, route, distances):\n",
    "    length = route_length(distances, route)\n",
    "\n",
    "    plt.figure(figsize=(12, 8))\n",
    "    plt.scatter(x=cities[:, 0], y=cities[:, 1], s=1000, zorder=1)\n",
    "    for i in range(len(cities)):\n",
    "        plt.text(cities[i][0], cities[i][1], str(i), horizontalalignment='center', verticalalignment='center', size=16,\n",
    "                 c='white')\n",
    "    for i in range(len(route)):\n",
    "        plt.plot([cities[route[i]][0], cities[route[(i + 1) % len(route)]][0]],\n",
    "                 [cities[route[i]][1], cities[route[(i + 1) % len(route)]][1]], 'k', zorder=0)\n",
    "    if len(route)>0:\n",
    "        plt.title(f'Visiting {len(route)} cities in length {length:.2f}', size=16)\n",
    "    else:\n",
    "        plt.title(f'{len(cities)} cities', size=16)\n",
    "    plt.show()\n",
    "\n",
    "\n",
    "cities = np.array([[35, 51],\n",
    "                   [113, 213],\n",
    "                   [82, 280],\n",
    "                   [322, 340],\n",
    "                   [256, 352],\n",
    "                   [160, 24],\n",
    "                   [322, 145],\n",
    "                   [12, 349],\n",
    "                   [282, 20],\n",
    "                   [241, 8],\n",
    "                   [398, 153],\n",
    "                   [182, 305],\n",
    "                   [153, 257],\n",
    "                   [275, 190],\n",
    "                   [242, 75],\n",
    "                   [19, 229],\n",
    "                   [303, 352],\n",
    "                   [39, 309],\n",
    "                   [383, 79],\n",
    "                   [226, 343]])\n",
    "\n",
    "fitness = tsp_fitness_creator(cities)\n",
    "distances = compute_distances(cities)\n",
    "\n",
    "evo = Evolution(\n",
    "    pool_size=100, fitness=fitness, individual_class=TSP, n_offsprings=30,\n",
    "    pair_params={'alpha': 0.5},\n",
    "    mutate_params={'rate': 1},\n",
    "    init_params={'n_cities': 20}\n",
    ")\n",
    "n_epochs = 1000\n",
    "\n",
    "hist = []\n",
    "for i in range(n_epochs):\n",
    "    hist.append(evo.pool.fitness(evo.pool.individuals[-1]))\n",
    "    evo.step()\n",
    "\n",
    "plt.plot(hist)\n",
    "plt.show()\n",
    "\n",
    "plot_route(cities, route=evo.pool.individuals[-1].value, distances=distances)"
   ]
  },
  {
   "cell_type": "markdown",
   "metadata": {},
   "source": [
    "### 2.Create our initial population"
   ]
  },
  {
   "cell_type": "markdown",
   "metadata": {},
   "source": [
    "The next step is to define the initial population. Based on the number of weights, each chromosome (solution or individual) in the population will definitely have 6 genes, one gene for each weight. But the question is how many solutions per the population? There is no fixed value for that and we can select the value that fits well with our problem. But we could leave it generic so that it can be changed in the code. Next, we create a variable that holds the number of solutions per population, another to hold the size of the population, and finally, a variable that holds the actual initial population:"
   ]
  },
  {
   "cell_type": "markdown",
   "metadata": {},
   "source": [
    "### 3.Create the genetic algorithm"
   ]
  },
  {
   "cell_type": "markdown",
   "metadata": {},
   "source": [
    "#### 3.1. Rank Individuals"
   ]
  },
  {
   "cell_type": "markdown",
   "metadata": {},
   "source": [
    "#### 3.2. Create a selection function that will be used to make the list of parent routes"
   ]
  },
  {
   "cell_type": "markdown",
   "metadata": {},
   "source": [
    "#### 3.3. Create mating pool"
   ]
  },
  {
   "cell_type": "markdown",
   "metadata": {},
   "source": [
    "#### 3.4. Create a crossover function for two parents to create one child"
   ]
  },
  {
   "cell_type": "markdown",
   "metadata": {},
   "source": [
    "#### 3.5. Create function to run crossover over full mating pool"
   ]
  },
  {
   "cell_type": "markdown",
   "metadata": {},
   "source": [
    "#### 3.6. Create function to mutate a single route"
   ]
  },
  {
   "cell_type": "markdown",
   "metadata": {},
   "source": [
    "#### 3.7. Create function to run mutation over entire population"
   ]
  },
  {
   "cell_type": "markdown",
   "metadata": {},
   "source": [
    "#### 3.8. Put all steps together to create the next generation"
   ]
  },
  {
   "cell_type": "markdown",
   "metadata": {},
   "source": [
    "#### 3.9. Final step: create the genetic algorithm"
   ]
  }
 ],
 "metadata": {
  "kernelspec": {
   "display_name": "Python 3",
   "language": "python",
   "name": "python3"
  },
  "language_info": {
   "codemirror_mode": {
    "name": "ipython",
    "version": 3
   },
   "file_extension": ".py",
   "mimetype": "text/x-python",
   "name": "python",
   "nbconvert_exporter": "python",
   "pygments_lexer": "ipython3",
   "version": "3.7.7"
  }
 },
 "nbformat": 4,
 "nbformat_minor": 4
}
