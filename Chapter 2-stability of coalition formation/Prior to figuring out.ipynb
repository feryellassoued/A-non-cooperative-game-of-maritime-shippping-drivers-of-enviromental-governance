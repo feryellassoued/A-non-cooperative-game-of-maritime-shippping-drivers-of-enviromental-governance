{
 "cells": [
  {
   "cell_type": "code",
   "execution_count": 1,
   "metadata": {},
   "outputs": [],
   "source": [
    "import numpy as np # importing numpy for matrix operations \n",
    "from scipy import *\n",
    "from scipy.optimize import minimize\n",
    "import pandas as pd\n",
    "import matplotlib.pyplot as plt\n",
    "import seaborn as sns\n",
    "from IPython import display \n",
    "import itertools\n",
    "from IPython.display import display\n",
    "import random\n",
    "import operator\n",
    "from random import choices, randint, randrange, random, sample, seed, uniform, choice\n",
    "from collections import namedtuple\n",
    "from typing import List, Optional, Callable, Tuple\n",
    "from functools import partial\n",
    "sns.set()\n",
    "import random\n"
   ]
  },
  {
   "cell_type": "code",
   "execution_count": 2,
   "metadata": {},
   "outputs": [],
   "source": [
    "#np.random.seed(0)\n",
    "#random.seed(0)"
   ]
  },
  {
   "cell_type": "code",
   "execution_count": 3,
   "metadata": {},
   "outputs": [],
   "source": [
    "class IterRegistry(type):\n",
    "    def __iter__(cls):\n",
    "        return iter(cls._registry)"
   ]
  },
  {
   "cell_type": "code",
   "execution_count": 4,
   "metadata": {},
   "outputs": [],
   "source": [
    "class MarketConfig: \n",
    "    #class attributes\n",
    "    t0 = 2016 #The starting year for evaluation of the pay-offs\n",
    "    T = 35  # Planning Horizon t = 2016,...,2040 # 100 year scope \n",
    "    year = np.arange(2016, 2051)\n",
    "    distance = np.array([11810]) #nautical miles #Notteboom (2006)  \n",
    "    port_time =  np.array([264])  #hours ==> 11 days in a year  #Notteboom (2006)\n",
    "    demand_16_20 = np.array([1303780  for j in range(5)]) #in TEU #placehplder to be calibrated with the chosen route \n",
    "    annual_working_time = np.array([6480])  #hours per year, assumption   #hours per year, assumption \n",
    "    initial_freight_rate = np.array([1800])  ## in US$/TEU \n",
    "    SFOC_main = np.array([206])  #g/kWh, specific daily main engine fuel oil consumption rate\n",
    "    SFOC_aux = np.array([221]) # specific fuel oil consumption of the auxiliary engine [g/kW h], \n",
    "    eng_load_main = np.array([0.8]) # % \n",
    "    eng_load_aux = np.array([0.5])  # engine load of the auxiliary engine [\\%]\n",
    "\n",
    "\n",
    "    def __init__(self, number_of_firms, pollution_decay_parameter, pollution_damage_parameter, demand_income_elasticity, demand_price_elasticity, \n",
    "                 freight_rate, fuel_data, discount_rate ):\n",
    "        '''__init__ a method to describe the poperty that the shipping market and simulation game has'''\n",
    "        self.number_of_firms = number_of_firms\n",
    "        self.pollution_decay_parameter = pollution_decay_parameter\n",
    "        self.pollution_damage_parameter = pollution_damage_parameter\n",
    "        self.demand_income_elasticity = demand_income_elasticity #Constant income elasticity #IMF\n",
    "        self.demand_price_elasticity =  demand_price_elasticity #Constant own price elasticity#IMF\n",
    "        self.freight_rate = freight_rate ## in US$/TEU\n",
    "        self.fuel_data = fuel_data \n",
    "        self.discount_rate = discount_rate \n",
    "        #self.bau_industry_emission =  bau_industry_emission \n",
    "        #self.bau_pollution_stock = bau_pollution_stock\n",
    "        self.market_capacity = 0 \n",
    "         \n",
    "    \n",
    "    def get_market_capacity (self, firm_instance):\n",
    "        self.market_capacity += np.multiply(firm_instance.max_number_of_vessel, firm_instance.capacity) \n",
    "        return self.market_capacity \n",
    "    \n",
    "    def get_freight_rate_ratio(self):\n",
    "        self.beta = np.true_divide(self.freight_rate, MarketConfig.initial_freight_rate) \n",
    "        return self.beta\n",
    "   \n",
    "    def get_market_demand(self):\n",
    "        '''compute market level demand'''\n",
    "        #---------> 1.Import real GDP growth data & compute GDP ratio : Source IMF@2020 #\n",
    "        G_df = pd.read_csv('./data/real_growth_rate.csv') #import IMF data\n",
    "        #-------> 2.Construct GDP projection path 2016-2050 based on projection growth data \n",
    "        gdp_growth= G_df.values[:,1:] \n",
    "        g =1 +(gdp_growth/100)  \n",
    "        self.gdp = np.array([100.00 for j in range(MarketConfig.T)])\n",
    "        for foo in range (1,MarketConfig.T):\n",
    "            self.gdp[foo] = g[:,foo]* self.gdp[foo-1]\n",
    "        #print(self.gdp)\n",
    "        #--------->  \"compute GDP ratio based on IMF@2020\"\n",
    "        gdp_ratio = np.array([1.00 for j in range(MarketConfig.T)])\n",
    "        for moo in range (1,MarketConfig.T):\n",
    "            sub_g = g[:,0:moo+1]\n",
    "            #print(sub_g)\n",
    "            gdp_ratio[moo] = np.prod(sub_g)\n",
    "        \n",
    "        #--------->  \"compute freight rate ratio\"\n",
    "        self.freight_rate_ratio_multiplied = np.power(self.beta, self.demand_price_elasticity)\n",
    "        #print(freight_rate_ratio_multiplied)\n",
    "        \n",
    "        #---------> \"Project Transport Demand (industry demand)\"\n",
    "        loo =np.multiply(np.power(gdp_ratio, self.demand_income_elasticity), self.freight_rate_ratio_multiplied ) #Will need to be updated in case fuel prices are varied over time  \n",
    "        self.market_demand = np.multiply(loo, MarketConfig.demand_16_20[0])\n",
    "        #print(Y) # size = 1 dimesion array with size T=35 years\n",
    "        self.market_psy = np.multiply(np.power(gdp_ratio, self.demand_income_elasticity), MarketConfig.demand_16_20[0] )\n",
    "        return self.market_demand, self.gdp, self.market_psy"
   ]
  },
  {
   "cell_type": "code",
   "execution_count": 5,
   "metadata": {},
   "outputs": [],
   "source": [
    "class Firm:\n",
    "    #class attributes intialisation, to be updated with the addition of each instance\n",
    "    _registry = []\n",
    "    \n",
    "    def __init__(self, index, capacity, max_number_of_vessel, design_speed, \n",
    "                 min_speed, max_speed, main_engine_power, aux_engine_power,\n",
    "                 fix_cost, fuel_type):\n",
    "        '''__init__ a method to describe the poperty that all shipping firm have'''\n",
    "        self._registry.append(self)\n",
    "        self.index = index\n",
    "        self.capacity = capacity # Vessel capacity in TEU per firm, \n",
    "        self.max_number_of_vessel = max_number_of_vessel # # of vessels per firms\n",
    "        self.design_speed = design_speed  #design speed of the vessel in knots\n",
    "        self.min_speed = min_speed #min vessel speed\n",
    "        self.max_speed = max_speed #max vessel speed         \n",
    "        self.main_engine_power =  main_engine_power  # PS_m : main engine power in kW\n",
    "        self.aux_engine_power =  aux_engine_power  # auxiliary engine power [kW] \n",
    "        self.fix_cost = fix_cost #Daily cost of vessel (USD/Day) $25,000\n",
    "        self.fuel_type = fuel_type\n",
    "        #self.bau_emission = bau_emission\n",
    "         \n",
    "   \n",
    "    # Firm methods \n",
    "    def get_market_share(self , market_instance):\n",
    "        '''return market share of the firm accoding to it s capacity'''\n",
    "        self.transport_capacity = np.multiply(self.max_number_of_vessel , self.capacity)\n",
    "        self.market_share= np.true_divide(self.transport_capacity, market_instance.market_capacity)\n",
    "        return self.market_share\n",
    "        \n",
    "    def get_firm_param(self, market_instance):\n",
    "        self.psy = np.multiply (self.market_share , market_instance.market_psy)\n",
    "        return self.psy\n",
    "    \n",
    "    def get_firm_demand(self, market_instance):\n",
    "        self.firm_demand = np.multiply (self.market_share , market_instance.market_demand)\n",
    "        return self.firm_demand \n",
    "    \n",
    "    def update_vessel_speed(self, operational_speed):\n",
    "        self.operational_speed = operational_speed\n",
    "        return self.operational_speed \n",
    "    \n",
    "    def get_min_number_of_vessel(self, market_instance):\n",
    "        self.time_at_sea = np.true_divide(market_instance.distance,  self.operational_speed) #returns a vector \n",
    "        self.voyage_time = self.time_at_sea + market_instance.port_time #returns a vector \n",
    "        self.number_of_trips_to_meet_demand = np.true_divide(self.firm_demand, self.capacity) #returns a vector\n",
    "        self.max_trips_per_vessel = np.true_divide(market_instance.annual_working_time, self.voyage_time) #returns a vector\n",
    "        self.min_number_of_vessel_to_meet_demand = np.true_divide(self.number_of_trips_to_meet_demand, self.max_trips_per_vessel) #returns a vector\n",
    "        return self.min_number_of_vessel_to_meet_demand, self.number_of_trips_to_meet_demand, self.time_at_sea \n",
    "    \n",
    "    def get_number_of_vessel(self):\n",
    "        self.number_of_vessel = np.ceil(self.min_number_of_vessel_to_meet_demand) #returns a vector\n",
    "        return self.number_of_vessel\n",
    "            \n",
    "    def get_ship_energy_efficiency(self, market_instance):\n",
    "        self.main_fuel_parameter =np.multiply(np.multiply(np.multiply(market_instance.SFOC_main,market_instance.eng_load_main),self.main_engine_power), 10**(-6))\n",
    "        #self.main_fuel_parameter = market_instance.SFOC_main * market_instance.eng_load_main * self.main_engine_power * 10**(-6)\n",
    "        self.ship_energy = np.multiply(self.main_fuel_parameter, np.power(self.design_speed, -3) )      \n",
    "        return self.ship_energy\n",
    "        \n",
    "    def get_main_fuel_cons(self, market_instance):\n",
    "        self.main_fuel_con= np.multiply(np.multiply(np.multiply(market_instance.distance, self.ship_energy), np.power(self.operational_speed, 2)) , self.number_of_trips_to_meet_demand)\n",
    "        self.main_fuel_cons = market_instance.distance * self.ship_energy * (self.operational_speed**2) *self.number_of_trips_to_meet_demand\n",
    "        return self.main_fuel_cons #returns a vector\n",
    "        \n",
    "    def get_aux_fuel_cons(self, market_instance): \n",
    "        self.aux_fuel_parameter = np.multiply(np.multiply(np.multiply( market_instance.SFOC_aux, market_instance.eng_load_aux), self.aux_engine_power),  10**(-6))\n",
    "        #self.aux_fuel_parameter = market_instance.SFOC_aux * market_instance.eng_load_aux * self.aux_engine_power * 10**(-6)\n",
    "        self.aux_fuel_cons =  np.true_divide((self.aux_fuel_parameter * self.number_of_trips_to_meet_demand * market_instance.distance), self.operational_speed)        \n",
    "        return self.aux_fuel_cons #returns a vector   \n",
    "    \n",
    "        \n",
    "    def get_fuel_cost(self, market_instance):\n",
    "        self.aux_fuel_cost =np.multiply(self.aux_fuel_cons, market_instance.fuel_data['MGO']['price'])  \n",
    "        self.main_fuel_cost = np.multiply(self.main_fuel_cons, market_instance.fuel_data[self.fuel_type]['price'])   \n",
    "        self.fuel_cost = self.main_fuel_cost + self.aux_fuel_cost \n",
    "        return self.fuel_cost #returns a vector\n",
    "    \n",
    "    \n",
    "    def get_firm_carbon_emission(self, market_instance):\n",
    "        self.carbon_aux_emision_factor = market_instance.fuel_data['MGO']['carbon_factor']\n",
    "        self_carbon_aux_emissions = np.multiply(self.carbon_aux_emision_factor, self.aux_fuel_cons )  \n",
    "        self.carbon_main_emision_factor =  market_instance.fuel_data[self.fuel_type]['carbon_factor']\n",
    "        self_carbon_main_emissions =np.multiply(self.carbon_main_emision_factor, self.main_fuel_cons)  \n",
    "        self_carbon_emissions = self_carbon_main_emissions + self_carbon_aux_emissions \n",
    "        return self_carbon_emissions\n",
    "    \n",
    "    def get_firm_sulfur_emission(self, market_instance):\n",
    "        self.sulfur_aux_emision_factor = market_instance.fuel_data['MGO']['sulfur_factor']\n",
    "        self_sulfur_aux_emissions = np.multiply(self.sulfur_aux_emision_factor, self.aux_fuel_cons)  \n",
    "        self.sulfur_main_emision_factor =  market_instance.fuel_data[self.fuel_type]['sulfur_factor']\n",
    "        self_sulfur_main_emissions = np.multiply(self.sulfur_main_emision_factor, self.main_fuel_cons)  \n",
    "        self_sulfur_emissions = self_sulfur_main_emissions + self_sulfur_aux_emissions \n",
    "        return self_sulfur_emissions      \n",
    "    \n",
    "            \n",
    "    def get_total_cost(self):\n",
    "        self.operating_cost = np.multiply(self.fix_cost, self.number_of_vessel)  #Fixed Cost\n",
    "        self.total_cost = self.operating_cost + self.fuel_cost\n",
    "        return self.total_cost #returns a vector    \n",
    "    \n",
    "    def update_total_cost(self, total_cost_with_policy):\n",
    "        self.total_cost = total_cost_with_policy\n",
    "        return self.total_cost \n",
    "                 \n",
    "    def get_revenue(self,market_instance):\n",
    "        self.revenue = np.multiply(self.firm_demand, market_instance.freight_rate)\n",
    "        return self.revenue #returns a vector\n",
    "    \n",
    "    def get_period_profits(self):\n",
    "        self.period_profit = self.revenue - self.total_cost\n",
    "        return self.period_profit #returns a vector\n",
    "    \n",
    "    def get_discounted_period_profit(self,market_instance, planning_horizon):\n",
    "        self.period_index_vector = np.arange(1,planning_horizon + 1)\n",
    "        self.discount_multiplier = np.power( 1+ market_instance.discount_rate, - self.period_index_vector)\n",
    "        self.discounted_period_profit = np.multiply( self.discount_multiplie, self.period_profit) \n",
    "        return self.discounted_period_profit #returns a vector\n",
    "\n"
   ]
  },
  {
   "cell_type": "code",
   "execution_count": null,
   "metadata": {},
   "outputs": [],
   "source": [
    "#====> Iinitialisation of chromo and population objects \n",
    "Chromo = List[float] \n",
    "Population = List[Chromo]  \n",
    "\n",
    "#====> Iinitialisation of function objects\n",
    "PopulateFunc = Callable[[], Population]\n",
    "FitnessFunc = Callable[[Chromo], Tuple[float, int, float, float]] #int to refelct max # of vessel\n",
    "SelectionFunc = Callable[[Population, FitnessFunc], Tuple[Chromo, Chromo]]  #takes a population and a fitness fn to select 2 solutions to be the parents of our next generaation solution\n",
    "CrossoverFunc = Callable[[Chromo, Chromo], Tuple[Chromo, Chromo]] #takes 2 genomes and returns 2 new genomes \n",
    "MutationFunc = Callable[[Chromo], Chromo] #takes 1 genome and sometimes returns a modified one"
   ]
  },
  {
   "cell_type": "code",
   "execution_count": 6,
   "metadata": {},
   "outputs": [],
   "source": [
    "\n",
    "#======>\n",
    "def generate_chromo(lower_bound:float, upper_bound:float, planning_horizon:int ,fitness_func: FitnessFunc) :\n",
    "    while True:\n",
    "        chromo = np.random.uniform(lower_bound, upper_bound, planning_horizon )   \n",
    "        if fitness_func(chromo)[0] != 0:\n",
    "            break\n",
    "    return chromo  \n",
    "#======>\n",
    "def generate_population(fitness_func: FitnessFunc, \n",
    "                        size: int, chromo_lower_bound: float, \n",
    "                        chromo_upper_bound: float, planning_horizon:int ): \n",
    "    return np.array([generate_chromo(chromo_lower_bound, chromo_upper_bound, planning_horizon, fitness_func) for _ in range(size)])\n",
    "\n",
    "\n",
    "#=====>\n",
    "def selection_pair (population: Population, weights: list):\n",
    "    return  np.random.choice(np.hstack( population),\n",
    "                            size = 2, \n",
    "                            replace=False,\n",
    "                            p= weights) \n",
    "#=======>\n",
    "def BLX_alpha_crossover (a: Chromo, b: Chromo, chromo_lower_bound: float, chromo_upper_bound:float) :\n",
    "    lower = min(a,b) -  0.5 * (max(a,b) - min (a,b))\n",
    "    upper = max(a,b) +  0.5 * (max(a,b) - min (a,b))   \n",
    "    lower = chromo_lower_bound if lower < chromo_lower_bound else lower\n",
    "    upper = chromo_upper_bound if upper > chromo_upper_bound else upper\n",
    "    return np.random.uniform (lower, upper, 2) \n",
    "\n",
    "#=====>\n",
    "def mutation(chromo: Chromo, chromo_lower_bound: float, chromo_upper_bound: float\n",
    "             , variance: float, probability: float = 0.5 ) : \n",
    "        chromo = np.random.normal(chromo, variance, 1) if random.random() > probability else chromo\n",
    "        chromo = chromo_lower_bound if chromo <chromo_lower_bound else chromo\n",
    "        chromo =chromo_upper_bound if chromo > chromo_upper_bound else chromo\n",
    "        return chromo"
   ]
  },
  {
   "cell_type": "markdown",
   "metadata": {},
   "source": [
    "The coevolution-based procedure steps:\n",
    "\n",
    "\tStep 1. Initialize the population for each player. The initialization can be done by randomly selecting solutions. \n",
    "    \n",
    "\tStep 2. Randomly select a player, h . Select an arbitrary chromosome randomly from the population for player h. \n",
    "    \n",
    "\tStep 3. Identify the scope of the evolving neighborhood (EN) of the selected chromosome. Select two parents from EN using the roulettewheel selection method (Lipowski & Lipowska, 2012). \n",
    "    \n",
    "\tStep 4. Generate two offspring by a crossover operation. Replace two individuals with the worst fitness value in EN with the two new offspring and then perform the mutation operation. \n",
    "    \n",
    "\tStep 5. Update the fitness values of the two offspring using the fitness evaluation procedure, which is described below. \n",
    "    \n",
    "\tStep 6. If any termination condition is satisfied, then stop; otherwise, go to the step 2. The two termination conditions are as follows: \n",
    "\tthe coevolving process runs for a predefined number of generations\n",
    "\tthe deviation of the chromosome for each species is smaller than the pre-specified threshold, ψ\n"
   ]
  },
  {
   "cell_type": "code",
   "execution_count": null,
   "metadata": {},
   "outputs": [],
   "source": [
    "def fitness_similarity_chech(max_fitness, number_of_similarity):\n",
    "    result = 0\n",
    "    similarity = 0\n",
    "    for n in range(len(max_fitness)-1):\n",
    "        if np.round(max_fitness[n], 3 ) == np.round(max_fitness[n+1],3):\n",
    "            similarity += 1\n",
    "        else:\n",
    "            similarity = 0\n",
    "    if similarity == number_of_similarity-1:\n",
    "        result = 1\n",
    "    return result\n",
    "\n",
    "\n",
    "\n",
    "def chromo_deviation_chech(max_fitness, number_of_similarity):\n",
    "    pass"
   ]
  },
  {
   "cell_type": "code",
   "execution_count": null,
   "metadata": {},
   "outputs": [],
   "source": [
    "def scope_of_partners():\n",
    "    \"\"\"must returns #of firms -1 chromo \"\"\"\n",
    "    \n",
    "# (1) Scope of partners: wt is the scope of the evolving neighborhood (EN)??\n",
    "    \n",
    "    #1. Entire population (SE) \n",
    "# all the chromosomes in the population of each of the other firms are candidate partners for the fitness evaluation.\n",
    "    \n",
    "    #2. Toroidal grids (ST) \n",
    "# Only include in the EN chromo, whose positions are in the neighboring toroidal girds\n",
    "# of the chromosome to be evaluated\n",
    "# Chromo in the same positions in the population of the other players,are candidate partners for the fitness evaluation. \n",
    "\n",
    "    \n",
    "    pass"
   ]
  },
  {
   "cell_type": "code",
   "execution_count": null,
   "metadata": {},
   "outputs": [],
   "source": [
    "# (2) Partner selection rules\n",
    "\n",
    "def chromo_partner_selection():\n",
    "    \n",
    "#1. The best partner in the scope (PB):\n",
    "# the chromosome with the highest fitness value in the scope of partners is selected as a partner for the fitness evaluation\n",
    "\n",
    "\n",
    "# 1. Single partner by fitness-based random selection (PF):\n",
    "    # the chromo in the scope of partners is selected randomly based on the fitness values of the chromosomes as a partner of each player\n",
    "    #example\n",
    "    #Assumption: the maximum number of selected candidate partners for the evaluation = 4\n",
    "    #For firm 3, suppopse\n",
    "    # P^3_32, P^3_33, P^3_22, P^3_43 are $ chromosomes with the highest fitness values in the SN. \n",
    "    # One partner among the four candidates is selected randomly with the selection probability dependent on their fitness values. \n",
    "    #Repeat the same for other symbiotic firms: \n",
    "    # Partners are selected in the same way for the other two species.\n",
    "    # The chromo from the evolving firm is evaluated using the partners selected from each firm.\n",
    "\n",
    "\n",
    "# 2. Multiple partners by fitness-based random selection (PM):\n",
    "    # a prespecified number of partners are selected randomly from the scope based on their fitness values. All the selected partners of the other \n",
    "    #players are matched with the chromosome under consideration and\n",
    "    # the average of all the fitness values of all the combinations of chromosomes is used as the fitness value of the corresponding chromosome.\n",
    "    #example\n",
    "    # Assumption: maximum number of selected candidate partners for the evaluation = 4. \n",
    "    # randonly select 4 partners from the scope of each firm based on their fitness values. \n",
    "    # 4 x 4  x 4 combinations of partners (3 symbootic firms) \n",
    "    # Results in 64 intergrated solution \n",
    "    #  fitness value of P^2_34 = the average fitness of the evolving firm using the 64 intergrated solutions\n",
    "\n",
    "\n",
    "# 3. All the partners in the scope (PA):\n",
    "    # all the chromosomes in the scope  of the other players are matched with the chromosome under\n",
    "    # consideration and the average of all the fitness values of all the combinations of chromosomes is used as the fitness value of the\n",
    "    # corresponding chromosome.\n",
    "    #example:\n",
    "    # all the chromosomes in each SN become candidate partners (bc 3by3 grid)\n",
    "    # A total of 9x9x9  combinations of partners of three symbiotic firms are then made. \n",
    "    # generate  729 integrated solutions \n",
    "    # evalueate 729 fitness values of firm 1 \n",
    "    #  fitness value of P^2_34 = The average value of 729 fitness values of firm one obtained from the 729 integrated solutions "
   ]
  },
  {
   "cell_type": "code",
   "execution_count": null,
   "metadata": {},
   "outputs": [],
   "source": [
    "#The individuals from a given firm are mapped into toroidal grids. \n",
    "\n",
    "# Let individual (m,n) denote an arbitrary location on the toroidal grids of the chromosome, \n",
    "# for which a neighborhood is defined for the evolution process, \n",
    "#  Nmn: 3x3 neighbors of the individual (m,n)\n",
    "\n",
    "\n",
    "#The evolution of populations:\n",
    " #1st: 1 firm is selected randomly, which called the evolving firm., The other species are called symbiotic firms. \n",
    " # 2nd, a location (m,n) is selected randomly \n",
    "# and the neighborhoods of the evolving firms and the symbiotic firms are specified. \n",
    "\n",
    "\n",
    "# EN = Nmn : The neighborhood of the evolving firm : \n",
    "# SN= Nmn :the neighborhood of an arbitrary symbiotic firm: \n",
    "\n",
    "\n",
    "#Selection :\n",
    "# Two parents are selected from EN using the Roulette-wheel selection method \n",
    "\n",
    "#Crossover\n",
    "# two offsprings are generated through a crossover operation.\n",
    "# The worst two individuals in EN are replaced with the two offsprings. \n",
    "\n",
    "\n",
    "#mutation\n",
    "# chromosomes from EN are selected randomly by using the mutation probability. \n",
    "# The mutation operation is implemented on the selected chromosomes. \n",
    "\n",
    "# Let:\n",
    "# the evolving firms corresponding to the hth firm \n",
    "# a symbiotic firm corresponding to the lth player.\n",
    "\n",
    "# P^h_ab in EN: the individual at (a, b) belonging to the evolving firm h, \n",
    "# P^l_cd in SN: a partner, ie, the individual with the best fitness value belonging a symbiotic firm,\n",
    "# select  P^l_cd  for each  of the other players to Evaluate the fitness value of P^h_ab in EN :\n",
    "# With the set of selected chromosomes,evaluate the fitness value of P^h_ab\n",
    "# store Information on partners and the fitness value for each chromosome.\n",
    "\n",
    "\n",
    "#Example: \n",
    "    #step 1: randomly select the evolving spiecy \n",
    "    # Step 2 : identify the rest of the firms as symbiotic spieies\n",
    "    #Step 3: randomly select a chromo from the evolving firm's population:\n",
    "        # chromo@ (3,3) of firm 2 is selected as the initial point for the evolution. \n",
    "    # Step4: we call on \"Partner selection strategies\" fn:  \n",
    "    # and select The best partner in scope (PB):\n",
    "        #example: P^1_33 P^3_43 P^4_23 are the individuals with the best fitness value belonging to the\n",
    "        # SN in each symbiotic firm.\n",
    "    #Step 5: evaluate the fitness of the randomly choson chromo P^2_34 using P^1_33, P^3_43, P^4_23\n",
    "    #Step 6: combine to complete an integrated solution "
   ]
  },
  {
   "cell_type": "code",
   "execution_count": null,
   "metadata": {},
   "outputs": [],
   "source": [
    "#======>\n",
    "def fitness_dynamic_taxation (chromo: Chromo, \n",
    "                              partner_chromo: chromo\n",
    "                              firm: Firm, \n",
    "                              sim_game: MarketConfig, \n",
    "                              max_number_of_vessel: int,\n",
    "                              planning_horizon: int,\n",
    "                              initial_carbon_tax: int ,\n",
    "                              taxation_scheme_rate: float,\n",
    "                             industry_carbon_emission :float,\n",
    "                             industry_sulfur_emission : float):\n",
    "\"\"\"main issue: there are multiple populations competing with each other\n",
    "and the profit of each player can be calculated only if a partner chromosome \n",
    "of each of other players is given\n",
    "The main issue for CoGA is which chromo partner to select to evaluate the fitness function \"\"\"\n",
    "\n",
    "\n",
    "\n",
    "\n",
    "\n",
    "\n",
    "\n",
    "    operational_speed = firm.update_vessel_speed(chromo)    #vector of size T : [v1,v2,..,]\n",
    "    min_number_vessels_sim , trips_to_meet_demand_sim, time_at_sea_sim  = firm.get_min_number_of_vessel(sim_game, period_index)\n",
    "    number_vessels_sim  = firm.get_number_of_vessel()\n",
    "    \n",
    "    if number_vessels_sim > max_number_of_vessel:\n",
    "        return np.zeros(4) #np.array([-9, -9, -9, -9])\n",
    "    else:\n",
    "        main_fuel_con_sim = firm.get_main_fuel_cons(sim_game)        \n",
    "        aux_fuel_con_sim = firm.get_aux_fuel_cons(sim_game)\n",
    "        fuel_cost_sim = firm.get_fuel_cost(sim_game)        \n",
    "                \n",
    "        carbon_emissions_sim = firm.get_firm_carbon_emission(sim_game)        \n",
    "        sulfur_emissions_sim = firm.get_firm_sulfur_emission(sim_game)\n",
    "        \n",
    "               \n",
    "        BAU_carbon_pollution_stock\n",
    "        BAU_sulfur_pollution_stock\n",
    "        dynamic_tax = np.zeros(MarketConfig.T+1)\n",
    "        dynamic_tax[0] = initial_carbon_tax_sim\n",
    "        \n",
    "        #start the loop\n",
    "        for my_period_index in range (MarketConfig.T+1):\n",
    "            \n",
    "        #Remove and multipy instead of using loop \n",
    "            BAU_carbon_pollution_stock[my_period_index + 1] = (1- pollution_decay_parameter ) * BAU_carbon_pollution_stock[my_period_index ] + carbon_industry_emission_period\n",
    "            BAU_sulfur_pollution_stock[my_period_index+1] = (1- pollution_decay_parameter ) * BAU_sulfur_pollution_stock[my_period_index] + sulfur_industry_emission_period\n",
    "             #Policy and Update Cost \n",
    "            dynamic_tax [my_period_index+1] = initial_carbon_tax_sim + taxation_scheme_rate_sim * BAU_carbon_pollution_stock[my_period_index +1 ]\n",
    "            policy_cost = np.multiply(carbon_emissions_sim, dynamic_tax[period_index - 1 ]) # a numpy vectore\n",
    "        \n",
    "        \n",
    "        BAU_industry_sulfur_damages = 0.5* pollution_damage_parameter * np.power(BAU_sulfur_pollution_stock,2)\n",
    "        BAU_industry_carbon_damages = 0.5* pollution_damage_parameter * np.power(BAU_carbon_pollution_stock,2)       \n",
    "            \n",
    "        # break the loop\n",
    "        total_cost_sim =  firm.get_total_cost()\n",
    "        total_cost_sim_update =  total_cost_sim + policy_cost \n",
    "        total_cost = firm.update_total_cost(total_cost_sim_update)\n",
    "        \n",
    "\n",
    "        #Compute net present value\n",
    "        revenues_sim = firm.get_revenue(sim_game, Update_total_cost_sim)        \n",
    "        period_profits_sim = firm.get_period_profits()           \n",
    "        discounted_period_profits_sim = firm.get_discounted_period_profit(sim_game, planning_horizon)             \n",
    "        net_present_value = np.sum(discounted_period_profits_sim)\n",
    "        return  net_present_value, discounted_period_profits_sim, number_vessels_sim, carbon_emissions_sim, sulfur_emissions_sim\n"
   ]
  },
  {
   "cell_type": "code",
   "execution_count": null,
   "metadata": {},
   "outputs": [],
   "source": [
    "def run_co_evolution(populate_func: PopulateFunc, \n",
    "                  fitness_func: FitnessFunc, \n",
    "                  crossover_func: CrossoverFunc,\n",
    "                  mutation_func: MutationFunc, \n",
    "                  generation_limit: int = 1000, \n",
    "                  number_of_similarity: int = 50, \n",
    "                  selection_func: SelectionFunc = selection_pair):\n",
    "    \"\"\"The evolutionnary main loop\"\"\" \n",
    "#I.Initialisation :\n",
    "    #1.Initilise population for each player ; each chromo must have T genes \n",
    "    #result :  3 population \n",
    "    population_1 = populate_func(fitness_func)\n",
    "    population_2 = populate_func(fitness_func)\n",
    "    population_3 = populate_func(fitness_func)\n",
    "    \n",
    "    #2.Initilise fitness for each firm \n",
    "    \n",
    "#II. Run the coevolutionnary loop :\n",
    "\n",
    "#while (number_of_generation < generation_limit) or (chromo_deviation_chech() > deviation_threshold);\n",
    "# the coevolving process runs for a predefined number of generations:\n",
    "# the deviation of the chromosome for each species is smaller than the pre-specified threshold, ψ) == false:\n",
    "    #1. Randomly select a firm, h. \n",
    "    #2. Randomly Select an arbitrary chromosome from the population for player h. \n",
    "    \n",
    "    #3. Identify the scope of the evolving neighborhood (EN) of the selected chromosome. \n",
    "    \n",
    "    #4. Selection function: \n",
    "        #Select two parents from EN using the roulettewheel selection method  \n",
    "        #randomly select a location (m,n) from toroidal grids of firm h\n",
    "    \n",
    "    #5. Crossover function: \n",
    "        #Identify the scope of partners SP\n",
    "        #Generate two offspring by a crossover operation. \n",
    "        # Replace the two worst individuals w in EN with the two new offspring \n",
    "        #evalute fitness of the new offspring \n",
    "        \n",
    "    #6. mutation operation. \n",
    "    \n",
    "    #7. Update the fitness values of the two offspring using the fitness evaluation procedure: fitness function\n",
    "    \n",
    "    \n",
    "    \n",
    "    #8. Check wether any termination condition is satisfied, then stop; otherwise, go to the step 2:     #2. Randomly select a firm, h. \n",
    "        #The two termination conditions are as follows: \n",
    "        # the coevolving process runs for a predefined number of generations\n",
    "        # the deviation of the chromosome for each species is smaller than the pre-specified threshold, ψ\n",
    "\n",
    "########    \n",
    "    #2 Simulate until you reach generation limit,\n",
    "    i = 0\n",
    "    progress = pd.DataFrame(columns=['Generation', 'Vessel Speed', 'Firm Discounted profit', \n",
    "                                'Number of vessels', 'Carbon Emissions', 'Sulfur Emissions'])\n",
    "    \n",
    "    for i in range(generation_limit):\n",
    "        #Step 1 : Sort solutions in the population of generation i based on fitness to select the best 2 solutions \n",
    "        population = sorted(population, key=lambda chromo: fitness_func(chromo)[0], reverse=True) \n",
    "        \n",
    "        progress = progress.append({'Generation': i,\n",
    "                          'Vessel Speed': population[0],\n",
    "                          'Firm Discounted profit': fitness_func(population[0])[0],\n",
    "                          'Number of vessels': fitness_func(population[0])[1] , \n",
    "                          'Carbon Emissions': fitness_func(population[0])[2] , \n",
    "                          'Sulfur Emissions': fitness_func(population[0])[3] }, ignore_index=True) \n",
    "        \n",
    "        #Similarity check\n",
    "        if fitness_similarity_chech(progress['Firm Discounted profit'], number_of_similarity) == 1:\n",
    "            break\n",
    "#         print(progress)\n",
    "#         print (i)\n",
    "#         print(\"Best vessel speed in the\", i, \"th generation is\" ,population[0] ) \n",
    "#         print(\"Best fitness in the\", i, \"th generation is\", fitness_func(population[0]))\n",
    "    \n",
    "              \n",
    "        #Step 2: Implement elitism and pick the top 2 chromo(speed) in the population based on fitness for the next gernation \n",
    "        next_generation = population[0:2]      \n",
    "        max = np.sum([fitness_func(chromo)[0] for chromo in population])\n",
    "        weights= np.hstack([fitness_func(chromo)[0] / max for chromo in population])\n",
    "        \n",
    "        #Step 3: j in range 24 \n",
    "        for j in range(int(len(population) / 2) - 1):\n",
    "            #Step 1: Selection\n",
    "            parents = selection_func(population, fitness_func, weights = weights)\n",
    "            #print(\"parent are\", parents) \n",
    "            \n",
    "            #Step 2: Crossover\n",
    "            offspring_a, offspring_b = crossover_func(parents[0], parents[1])\n",
    "            \n",
    "\n",
    "            #Step 3: mutation \n",
    "            offspring_a = mutation_func(offspring_a)\n",
    "            offspring_b = mutation_func(offspring_b)\n",
    "            #print(\"offspring a \", offspring_a) \n",
    "            #print(\"offspring b\", offspring_b) \n",
    "            \n",
    "            #Step 4: Next generation \n",
    "            next_generation += [offspring_a, offspring_b]\n",
    "            \n",
    "        #print(\"next generation\",i, \"is\", next_generation)       \n",
    "        population = next_generation #update current population with our next generation and start into the next round of the algo by sorting the population and checking if we reached our fitness limit \n",
    "    \n",
    "    #Sort the population one last time in case we run out of generation  \n",
    "    population = sorted(population, key=lambda chromo: fitness_func(chromo)[0], reverse=True)\n",
    "    progress = progress.append({'Generation': i+1,\n",
    "                          'Vessel Speed': population[0],\n",
    "                          'Firm Discounted profit': fitness_func(population[0])[0],\n",
    "                          'Number of vessels': fitness_func(population[0])[1] , \n",
    "                          'Carbon Emissions': fitness_func(population[0])[2] , \n",
    "                          'Sulfur Emissions': fitness_func(population[0])[3] }, ignore_index=True) \n",
    "    print(progress)\n",
    "    \n",
    "    \n",
    "    # Resutls: \n",
    "#each firm has its final population , ie  a set of its chromosomes  \n",
    "#each chromo has a fitness value and partners collected from the other population \n",
    "#during the fitness evaluation of the corresponding chromosome. \n",
    "# Each firm has a set of integrated solutions each of which consists of the chromo for all the firms.\n",
    "    return progress\n",
    "\n",
    "\n",
    "# termination conditions for the coevolution genetic al\u0002gorithm :\n",
    "#1. the maximum number of coevolving generations. \n",
    "#2. The deviation of fitness values becomes smaller than a pre-specified threshold value for all populations.\n"
   ]
  },
  {
   "cell_type": "code",
   "execution_count": null,
   "metadata": {},
   "outputs": [],
   "source": [
    "def sequential_bidding_procedure():\n",
    "# U[firm_j] ={d[i=0, firm1], d[i=1,firm1], ..., .} : \n",
    "# set of all the Pareto-optimal integrated solutions of firm j\n",
    "# d: integrated solution\n",
    "#d[i, firm_j] : ith Pareto-optimal integrated solution of firm j\n",
    "# s_firm_j(d) :  solution of firm j in an integrated solution d.\n",
    "# net_present_value[firm_j](d): net present value of firm j in an integrated solution d\n",
    "# net_present_value[i, firm_j] : payoff of firm j in the i th Pareto-optimal integrated solution of firm j\n",
    "\n",
    "\n",
    "#Step 1: inialisation: \n",
    "# Solution_set = np.empty\n",
    "# i = 0 # ith Pareto-optimal integrated solution of the firm \n",
    "\n",
    "\n",
    "# Step 2:\n",
    " # i = i + 1\n",
    "# for all firms j : for all firm_object in (Firm._registry):\n",
    "    # if U[firm] is empty for any firm j:\n",
    "        # there is no agreed solution, Stop break!\n",
    "    #else:\n",
    "            #Solution_set += d[i, firm_j] #add all firms 1st integrated solution to the solution set\n",
    "            # U[firm_j].remve (d[i, firm_j]) #remove all  firms 1st  integrated solution from the set of all the Pareto-optimal integrated solutions of firm j U[firm_j]\n",
    "  # Step 3:\n",
    "  # Check for all firms whether there exists any integrated solution 'd' in Solution_set such that \n",
    "  # if net_present_value[firm_j](d[i,firm_j]) > net_present_value[firm_j](d): \n",
    "        # i = i +1  #increment the indices \n",
    "    #else :\n",
    "    #d* = d #if If there is multiple d, then select d with the largest total payoff, as d*     \n"
   ]
  },
  {
   "cell_type": "code",
   "execution_count": null,
   "metadata": {},
   "outputs": [],
   "source": [
    "def one_integrated_solution_selection():\n",
    "    \"\"\" Select 1 integrated solution for all the firms \n",
    "A biding process  for deriving agreement among firms with multiple alternative solutions from the CoGA \"\"\"\n",
    "# to derive an agreement on the final solution among all the firms. \n",
    "# Rule:  The final agreement should satisfy each player as much as possible. \n",
    "\n",
    "#The bidding process:\n",
    "    # each player submits one solution in each round \n",
    "    # until all the players agree with the same solution among all the solutions submitted thus far.\n",
    "\n",
    "# Players agree with a solution if :\n",
    "# (1) It is one of the Pareto optimal solutions among all the solutions the players have.\n",
    "# (2) When the bidding process is applied, no other solution gives a higher profit to each player than the agreed solution.\n",
    "#return a selected integreated solution \n",
    "    pass"
   ]
  },
  {
   "cell_type": "code",
   "execution_count": null,
   "metadata": {},
   "outputs": [],
   "source": [
    "def local_search_procedure():\n",
    "    \"\"\" perform a locaal serach using the selected solution\n",
    "    fine tuning of the selected integrated solution with a local search \n",
    "    to find the  NE \"\"\"  \n",
    "#The iterative local search algorithm optimizes the solution of a player \n",
    "# to maximize the profit of the player with fixed solutions of the other players \n",
    "# until no player can increase its profit or a termination condition is met \n",
    "    pass \n"
   ]
  },
  {
   "cell_type": "code",
   "execution_count": null,
   "metadata": {},
   "outputs": [],
   "source": []
  },
  {
   "cell_type": "markdown",
   "metadata": {},
   "source": [
    "# 1. Set Up Simulation Parameters:"
   ]
  },
  {
   "cell_type": "markdown",
   "metadata": {},
   "source": [
    "## * Firm 1:"
   ]
  },
  {
   "cell_type": "code",
   "execution_count": 7,
   "metadata": {},
   "outputs": [],
   "source": [
    "####################################### 1. Firm & Market specific Parameters ###########################################\n",
    "                    #===========================>  Firm 1 Attributes <==========================#\n",
    "index_1 = 1\n",
    "capacity_1 = np.array([5905]) \n",
    "max_number_of_vessel_1= np.array([100]) \n",
    "design_speed_1 = np.array([23.3]) #design speed of the vessel in knots\n",
    "min_speed_1 = np.array([10])\n",
    "max_speed_1 = np.array([30])\n",
    "main_engine_power_1 =np.array([41186])  # main engine power in kW\n",
    "aux_engine_power_1 =np.array([2433])  # auxiliary engine power [kW] \n",
    "fix_cost_1 = np.array([6750000])   #Daily cost of vessel (USD/Day) $25,000\n",
    "fuel_type_1 = \"HFO\""
   ]
  },
  {
   "cell_type": "markdown",
   "metadata": {},
   "source": [
    "## * Firm 2:"
   ]
  },
  {
   "cell_type": "code",
   "execution_count": 8,
   "metadata": {},
   "outputs": [],
   "source": [
    "                    #===========================>  Firm 2 Attributes <==========================#\n",
    "index_2 = 2\n",
    "capacity_2 = np.array([6470])\n",
    "max_number_of_vessel_2 = np.array([100])\n",
    "design_speed_2 = np.array([24.7])  #design speed of the vessel in knots\n",
    "min_speed_2 = np.array([10])\n",
    "max_speed_2 = np.array([30])\n",
    "main_engine_power_2 = np.array([56273]) # main engine power in kW\n",
    "aux_engine_power_2 =np.array([2433])   # auxiliary engine power [kW] \n",
    "fix_cost_2 =np.array([ 6750000]) #Daily cost of vessel (USD/Day) $25,000\n",
    "fuel_type_2 = \"HFO\""
   ]
  },
  {
   "cell_type": "markdown",
   "metadata": {},
   "source": [
    "## * Firm 3:"
   ]
  },
  {
   "cell_type": "code",
   "execution_count": 9,
   "metadata": {},
   "outputs": [],
   "source": [
    "                    #===========================>  Firm 3 Attributes <==========================#\n",
    "index_3 = 3\n",
    "capacity_3 = np.array([6470])\n",
    "max_number_of_vessel_3 = np.array([100])\n",
    "design_speed_3 = np.array([24.7])  #design speed of the vessel in knots\n",
    "min_speed_3 = np.array([10])\n",
    "max_speed_3 = np.array([30])\n",
    "main_engine_power_3 = np.array([56273]) # main engine power in kW\n",
    "aux_engine_power_3 =np.array([2433])   # auxiliary engine power [kW] \n",
    "fix_cost_3 =np.array([ 6750000]) #Daily cost of vessel (USD/Day) $25,000\n",
    "fuel_type_3 = \"HFO\""
   ]
  },
  {
   "cell_type": "markdown",
   "metadata": {},
   "source": [
    "## * Market :"
   ]
  },
  {
   "cell_type": "code",
   "execution_count": 10,
   "metadata": {},
   "outputs": [],
   "source": [
    "                    #===========================> Market Attributes <==========================#\n",
    "number_of_firms = 3\n",
    "pollution_decay_parameter =  np.array([0.2])\n",
    "pollution_damage_parameter =  np.array([1.5])\n",
    "\n",
    "year = np.arange(2016, 2051)\n",
    "income_elasticity = np.array([0.8]) #Constant income elasticity #IMF\n",
    "price_elasticity = np.array([-0.7])   #Constant own price elasticity#IMF\n",
    "freight_rate = np.array([1800]) ## in US$/TEU\n",
    "fuel_data = pd.DataFrame(np.array([[422.50, 525.50, 597.00], \n",
    "                                [3.114,3.206,3.206],\n",
    "                                [0.07,0.01,0.002]]),\n",
    "                         columns=['HFO', 'ULSFO', 'MGO'],\n",
    "                         index = ['price', 'carbon_factor', 'sulfur_factor'])\n",
    "discount = np.array([0.02])  ##3  to 5 % transport canada ,#to be updated using the Ramsey rule,#pure rate of time preference of 1.5% + growth rate of consumption g * rate of risk conversion , an elasticity value of 2"
   ]
  },
  {
   "cell_type": "markdown",
   "metadata": {},
   "source": [
    "# 2. Initialize Game and Set up firm and market objects "
   ]
  },
  {
   "cell_type": "code",
   "execution_count": 11,
   "metadata": {},
   "outputs": [],
   "source": [
    "\"\"\" This cell needs to run once throughout the kernel\"\"\"\n",
    "####################################### 2.Simulation Game Initialisation ###########################################\n",
    "firm_1 = Firm(index_1, capacity_1, max_number_of_vessel_1, design_speed_1, \n",
    "                 min_speed_1, max_speed_1, main_engine_power_1, aux_engine_power_1,\n",
    "                 fix_cost_1, fuel_type_1) \n",
    "\n",
    "firm_2 = Firm(index_2, capacity_2, max_number_of_vessel_2, design_speed_2, \n",
    "                 min_speed_2, max_speed_2, main_engine_power_2, aux_engine_power_2,\n",
    "                 fix_cost_2, fuel_type_2) \n",
    "\n",
    "firm_3 = Firm(index_3, capacity_3, max_number_of_vessel_3, design_speed_3, \n",
    "                 min_speed_3, max_speed_3, main_engine_power_3, aux_engine_power_3,\n",
    "                 fix_cost_3, fuel_type_3) \n",
    "\n",
    "\n",
    "\n",
    "game_config = MarketConfig(number_of_firms, pollution_decay_parameter, pollution_damage_parameter, income_elasticity, price_elasticity, freight_rate, \n",
    "                           fuel_data, discount)\n",
    "\n",
    "####################################### 3.Get market capacity #################################\n",
    "for  firm_object in Firm._registry:\n",
    "    market_capacity_sim = game_config.get_market_capacity(firm_object)"
   ]
  },
  {
   "cell_type": "markdown",
   "metadata": {},
   "source": [
    "# 3. Market Demand"
   ]
  },
  {
   "cell_type": "code",
   "execution_count": 12,
   "metadata": {},
   "outputs": [
    {
     "name": "stdout",
     "output_type": "stream",
     "text": [
      "market demand [1303780.         1378613.27053661 1417081.19385409 1448735.913652\n",
      " 1397511.98183639 1455352.28446974 1504050.11466377 1549602.07735933\n",
      " 1594072.22320876 1638552.17226732 1684273.26074193 1731270.12057536\n",
      " 1779578.35005746 1829234.54078948 1880276.30540081 1932742.30603904\n",
      " 1986672.28365504 2042107.08810522 2099088.70909364 2157660.30797763\n",
      " 2217866.2504608  2279752.14019835 2343364.85334008 2408752.57403719\n",
      " 2475964.83093995 2545052.53471369 2616068.01660168 2689065.06806397\n",
      " 2764098.98152235 2841226.59224218 2920506.32138292 3001998.22024985\n",
      " 3085764.01578064 3171867.15730103 3260372.86458528]\n",
      "firm 1 market share [0.31334572]\n",
      "firm 2 market share [0.34332714]\n",
      "firm 3 market share [0.34332714]\n"
     ]
    }
   ],
   "source": [
    "## Get freight ratio for passethrough\n",
    "beta_sim = game_config.get_freight_rate_ratio()\n",
    "\n",
    "# Get market demand  \n",
    "market_demand_sim, gdp_sim, market_psy_sim = game_config.get_market_demand()\n",
    "print(\"market demand\", market_demand_sim)\n",
    "\n",
    "# Get each firm's  market share  \n",
    "firm_1_market_share_sim = firm_1.get_market_share(game_config)\n",
    "print(\"firm 1 market share\", firm_1_market_share_sim)\n",
    "\n",
    "firm_2_market_share_sim = firm_2.get_market_share(game_config)\n",
    "print(\"firm 2 market share\", firm_2_market_share_sim)\n",
    "\n",
    "firm_3_market_share_sim = firm_3.get_market_share(game_config)\n",
    "print(\"firm 3 market share\", firm_3_market_share_sim)"
   ]
  },
  {
   "cell_type": "markdown",
   "metadata": {},
   "source": [
    "### Graphing Market Demand:"
   ]
  },
  {
   "cell_type": "code",
   "execution_count": 13,
   "metadata": {},
   "outputs": [
    {
     "data": {
      "image/png": "[encoded data removed]",
      "text/plain": [
       "<Figure size 432x288 with 1 Axes>"
      ]
     },
     "metadata": {},
     "output_type": "display_data"
    },
    {
     "data": {
      "image/png": "[encoded data removed]",
      "text/plain": [
       "<Figure size 432x288 with 1 Axes>"
      ]
     },
     "metadata": {},
     "output_type": "display_data"
    }
   ],
   "source": [
    "#======> Plotting BAU GDP,2016=100\n",
    "sns.set()\n",
    "ax=sns.lineplot(x=year ,y =gdp_sim, color = 'red')\n",
    "ax.set(xlabel='year', ylabel='GDP')\n",
    "plt.title(\"BAU GDP,2016=100\" )\n",
    "plt.show()\n",
    "\n",
    "#======> Plotting Market Demand Projections in BAU senario: Y\n",
    "ax=sns.lineplot(x=year ,y = market_demand_sim, color = 'green')\n",
    "ax.set(xlabel='year', ylabel='transport work in TEU')\n",
    "plt.title(\"market demand in TEU \" )\n",
    "plt.show()\n",
    "\n",
    "#======> Plotting Marketshare per firm\n",
    "\n"
   ]
  },
  {
   "cell_type": "markdown",
   "metadata": {},
   "source": [
    "## a. Firm 1:"
   ]
  },
  {
   "cell_type": "code",
   "execution_count": 14,
   "metadata": {},
   "outputs": [
    {
     "name": "stdout",
     "output_type": "stream",
     "text": [
      "firm 1 demand [ 408533.87635978  431982.56102514  444036.3199633   453955.19077289\n",
      "  437904.39123077  456028.40221777  471287.65864099  485561.17096348\n",
      "  499495.70061277  513433.30205564  527759.8092163   542486.07386561\n",
      "  557623.25057518  573182.80516646  589176.52339569  605616.51988116\n",
      "  622515.24727954  639885.5057183   657740.45249127  676093.61202483\n",
      "  694958.8861221   714350.56449304  734283.33557831  754772.29767522\n",
      "  775832.97037412  797481.30631384  819733.70326521  842607.01655175\n",
      "  866118.5718169   890286.17814752  915128.1415636   940663.27888434\n",
      "  966910.93198114  993890.98242837 1021623.86656281]\n",
      "firm 1 ship energy [0.00053659]\n"
     ]
    }
   ],
   "source": [
    " # 7.Get firm passthrough parameter\n",
    "firm_1_psy_sim = firm_1.get_firm_param(game_config)\n",
    "\n",
    "# 7.Get firm level demand  \n",
    "firm_1_demand_sim = firm_1.get_firm_demand(game_config)\n",
    "print(\"firm 1 demand\", firm_1_demand_sim)\n",
    "    \n",
    "# 9.Get ship energy efficiency  \n",
    "firm_1_ship_energy_sim = firm_1.get_ship_energy_efficiency(game_config)\n",
    "print(\"firm 1 ship energy\", firm_1_ship_energy_sim)"
   ]
  },
  {
   "cell_type": "code",
   "execution_count": 15,
   "metadata": {
    "scrolled": true
   },
   "outputs": [
    {
     "data": {
      "image/png": "[encoded data removed]",
      "text/plain": [
       "<Figure size 432x288 with 1 Axes>"
      ]
     },
     "metadata": {},
     "output_type": "display_data"
    }
   ],
   "source": [
    "#======> Plotting The firm's \n",
    "ax=sns.lineplot(x=year ,y = firm_1_demand_sim , color = 'green')\n",
    "ax.set(xlabel='year', ylabel='transport work in TEU')\n",
    "plt.title(\"firm 1 level demand in TEU \" )\n",
    "plt.show()"
   ]
  },
  {
   "cell_type": "markdown",
   "metadata": {},
   "source": [
    "## b. Firm 2"
   ]
  },
  {
   "cell_type": "code",
   "execution_count": 16,
   "metadata": {},
   "outputs": [
    {
     "name": "stdout",
     "output_type": "stream",
     "text": [
      "firm 2 demand [ 447623.06182011  473315.35475574  486522.4369454   497390.36143956\n",
      "  479803.79530281  499661.94112599  516381.22801139  532020.45319792\n",
      "  547288.26129799  562559.43510584  578256.72576282  594392.02335487\n",
      "  610977.54974114  628025.86781151  645549.89100256  663562.89307894\n",
      "  682078.51818775  701110.79119346  720674.12830119  740783.3479764\n",
      "  761453.68216935  782700.78785266  804540.75888089  826990.13818098\n",
      "  850065.93028291  873785.61419992  898167.15666823  923229.02575611\n",
      "  948990.20485272  975470.20704733 1002689.08990966 1030667.47068276\n",
      " 1059426.54189975 1088988.08743633 1119374.49901124]\n",
      "firm 2 ship energy [0.00061541]\n"
     ]
    }
   ],
   "source": [
    "# 7.Get firm passthrough parameter\n",
    "firm_2_psy_sim = firm_2.get_firm_param(game_config)\n",
    "\n",
    "# 7.Get firm level demand  \n",
    "firm_2_demand_sim = firm_2.get_firm_demand(game_config)\n",
    "print(\"firm 2 demand\", firm_2_demand_sim)\n",
    "\n",
    "\n",
    "# 9.Get ship energy efficiency  \n",
    "firm_2_ship_energy_sim = firm_2.get_ship_energy_efficiency(game_config)\n",
    "print(\"firm 2 ship energy\", firm_2_ship_energy_sim)"
   ]
  },
  {
   "cell_type": "code",
   "execution_count": 17,
   "metadata": {},
   "outputs": [
    {
     "data": {
      "image/png": "[encoded data removed]",
      "text/plain": [
       "<Figure size 432x288 with 1 Axes>"
      ]
     },
     "metadata": {},
     "output_type": "display_data"
    }
   ],
   "source": [
    "#======> Plotting The firm's \n",
    "ax=sns.lineplot(x=year ,y = firm_2_demand_sim , color = 'green')\n",
    "ax.set(xlabel='year', ylabel='transport work in TEU')\n",
    "plt.title(\"firm 2 level demand in TEU \" )\n",
    "plt.show()"
   ]
  },
  {
   "cell_type": "markdown",
   "metadata": {},
   "source": [
    "## c. Firm 3"
   ]
  },
  {
   "cell_type": "code",
   "execution_count": 18,
   "metadata": {},
   "outputs": [
    {
     "name": "stdout",
     "output_type": "stream",
     "text": [
      "firm 3 demand [ 447623.06182011  473315.35475574  486522.4369454   497390.36143956\n",
      "  479803.79530281  499661.94112599  516381.22801139  532020.45319792\n",
      "  547288.26129799  562559.43510584  578256.72576282  594392.02335487\n",
      "  610977.54974114  628025.86781151  645549.89100256  663562.89307894\n",
      "  682078.51818775  701110.79119346  720674.12830119  740783.3479764\n",
      "  761453.68216935  782700.78785266  804540.75888089  826990.13818098\n",
      "  850065.93028291  873785.61419992  898167.15666823  923229.02575611\n",
      "  948990.20485272  975470.20704733 1002689.08990966 1030667.47068276\n",
      " 1059426.54189975 1088988.08743633 1119374.49901124]\n",
      "firm 3 ship energy [0.00061541]\n"
     ]
    }
   ],
   "source": [
    "# 7.Get firm passthrough parameter\n",
    "firm_3_psy_sim = firm_3.get_firm_param(game_config)\n",
    "\n",
    "# 7.Get firm level demand  \n",
    "firm_3_demand_sim = firm_3.get_firm_demand(game_config)\n",
    "print(\"firm 3 demand\", firm_3_demand_sim)\n",
    "\n",
    "\n",
    "# 9.Get ship energy efficiency  \n",
    "firm_3_ship_energy_sim = firm_3.get_ship_energy_efficiency(game_config)\n",
    "print(\"firm 3 ship energy\", firm_3_ship_energy_sim)"
   ]
  },
  {
   "cell_type": "code",
   "execution_count": 19,
   "metadata": {},
   "outputs": [
    {
     "data": {
      "image/png": "[encoded data removed]",
      "text/plain": [
       "<Figure size 432x288 with 1 Axes>"
      ]
     },
     "metadata": {},
     "output_type": "display_data"
    }
   ],
   "source": [
    "#======> Plotting The firm's \n",
    "ax=sns.lineplot(x=year ,y = firm_3_demand_sim , color = 'green')\n",
    "ax.set(xlabel='year', ylabel='transport work in TEU')\n",
    "plt.title(\"firm 3 level demand in TEU \" )\n",
    "plt.show()"
   ]
  },
  {
   "cell_type": "markdown",
   "metadata": {},
   "source": [
    "##  c. Memership Decision and coalition formation"
   ]
  },
  {
   "cell_type": "code",
   "execution_count": null,
   "metadata": {},
   "outputs": [],
   "source": [
    "initial_carbon_tax_sim = 20 #USD/ton\n",
    "taxation_scheme_rate_sim = 0.04"
   ]
  },
  {
   "cell_type": "code",
   "execution_count": null,
   "metadata": {},
   "outputs": [],
   "source": [
    "def BAU_emissions_period(p_index):\n",
    "    results_period = {}\n",
    "    optimum_solution_period ={}\n",
    "    carbon_industry_emission_period = 0\n",
    "    sulfur_industry_emission_period = 0\n",
    "    for firm_object in (Firm._registry):\n",
    "        results  = run_evolution(\n",
    "            populate_func = partial(generate_population,\n",
    "                                    size=50,\n",
    "                                    chromo_lower_bound = firm_object.min_speed ,\n",
    "                                    chromo_upper_bound = firm_object.max_speed, \n",
    "                                    planning_horizon = MarketConfig.T),\n",
    "            fitness_func = partial(fitness,\n",
    "                                   firm = firm_object,\n",
    "                                   sim_game = game_config,\n",
    "                                   max_number_of_vessel = firm_object.max_number_of_vessel,\n",
    "                                   period_index = my_period_index),\n",
    "            crossover_func = partial(BLX_alpha_crossover,\n",
    "                                     chromo_lower_bound= firm_object.min_speed ,\n",
    "                                     chromo_upper_bound = firm_object.max_speed),\n",
    "            generation_limit = 100,\n",
    "            number_of_similarity = 30,\n",
    "            mutation_func = partial (mutation,\n",
    "                                     variance = 0.009,\n",
    "                                     chromo_lower_bound =  firm_object.min_speed,\n",
    "                                     chromo_upper_bound= firm_object.max_speed,\n",
    "                                     probability = 0.5))\n",
    "        results_period[\"firm\" + str(firm_object.index)] = results\n",
    "        \n",
    "        # Store Optimum Solution table     \n",
    "        optimum_solution_period[\"firm\" + str(firm_object.index)] = results_period[\"firm\" + str(firm_object.index)].iloc[[-1]]\n",
    "\n",
    "        # Compute industry level BAU emissions\n",
    "        carbon_industry_emission_period += optimum_solution_period[\"firm\" + str(firm_object.index)][\"Carbon Emissions\"].values\n",
    "        sulfur_industry_emission_period += optimum_solution_period[\"firm\" + str(firm_object.index)][\"Sulfur Emissions\"].values\n",
    "        #print(\"carbon_industry_emission_period\")\n",
    "    #print(carbon_industry_emission_period)\n",
    "    return results_period, optimum_solution_period, carbon_industry_emission_period, sulfur_industry_emission_period"
   ]
  },
  {
   "cell_type": "code",
   "execution_count": null,
   "metadata": {},
   "outputs": [],
   "source": [
    "BAU_carbon_pollution_stock = np.zeros(MarketConfig.T+1)\n",
    "BAU_sulfur_pollution_stock = np.zeros(MarketConfig.T+1)\n",
    "results = {} #empty dict\n",
    "optimum_solution={} #empty dict \n",
    "for my_period_index in range(MarketConfig.T):\n",
    "    results_period, optimum_solution_period, carbon_industry_emission_period, sulfur_industry_emission_period = BAU_emissions_period(my_period_index +1)\n",
    "    results[my_period_index+1]  = results_period\n",
    "    optimum_solution [my_period_index +1 ] = optimum_solution_period # a dict ''    \n",
    "    BAU_carbon_pollution_stock[my_period_index + 1] = (1- pollution_decay_parameter ) * BAU_carbon_pollution_stock[my_period_index ] + carbon_industry_emission_period\n",
    "    BAU_sulfur_pollution_stock[my_period_index+1] = (1- pollution_decay_parameter ) * BAU_sulfur_pollution_stock[my_period_index] + sulfur_industry_emission_period"
   ]
  },
  {
   "cell_type": "markdown",
   "metadata": {},
   "source": [
    "## c. Compute BAU emissions throughout the planning horizon"
   ]
  },
  {
   "cell_type": "code",
   "execution_count": null,
   "metadata": {},
   "outputs": [],
   "source": [
    "#results[2][\"firm1\"]"
   ]
  },
  {
   "cell_type": "code",
   "execution_count": null,
   "metadata": {},
   "outputs": [],
   "source": [
    "#optimum_solution[2]['firm1']"
   ]
  },
  {
   "cell_type": "markdown",
   "metadata": {},
   "source": [
    "## Placeholders Analysis: No carbon emissions constraints policy"
   ]
  },
  {
   "cell_type": "code",
   "execution_count": null,
   "metadata": {},
   "outputs": [],
   "source": [
    "firms = optimum_solution[1].keys()\n",
    "periodes = optimum_solution.keys()"
   ]
  },
  {
   "cell_type": "markdown",
   "metadata": {},
   "source": [
    "##### Discounted Period Profits"
   ]
  },
  {
   "cell_type": "code",
   "execution_count": null,
   "metadata": {},
   "outputs": [],
   "source": [
    "Discounted_period_profits = pd.DataFrame(columns = firms,  index = periodes )\n",
    "for periode in periodes:\n",
    "    for firm in firms:\n",
    "        Discounted_period_profits[firm][periode] = ((optimum_solution[periode][firm][\"Firm Discounted profit\"]).values).astype(float)\n",
    "Discounted_period_profits"
   ]
  },
  {
   "cell_type": "markdown",
   "metadata": {},
   "source": [
    "#####  Vessel Speed"
   ]
  },
  {
   "cell_type": "code",
   "execution_count": null,
   "metadata": {},
   "outputs": [],
   "source": [
    "Vessel_speed_optimum = pd.DataFrame(columns = firms,  index = periodes )\n",
    "for periode in periodes:\n",
    "    for firm in firms:\n",
    "        Vessel_speed_optimum[firm][periode] = ((optimum_solution[periode][firm][\"Vessel Speed\"]).values).astype(float)\n",
    "Vessel_speed_optimum"
   ]
  },
  {
   "cell_type": "markdown",
   "metadata": {},
   "source": [
    "#####  Number of vessels"
   ]
  },
  {
   "cell_type": "code",
   "execution_count": null,
   "metadata": {},
   "outputs": [],
   "source": [
    "number_of_vessel_optimum = pd.DataFrame(columns = firms,  index = periodes )\n",
    "for periode in periodes:\n",
    "    for firm in firms:\n",
    "        number_of_vessel_optimum[firm][periode] = ((optimum_solution[periode][firm][\"Number of vessels\"]).values).astype(float)\n",
    "number_of_vessel_optimum"
   ]
  },
  {
   "cell_type": "markdown",
   "metadata": {},
   "source": [
    "#####  Carbon Emissions Path"
   ]
  },
  {
   "cell_type": "code",
   "execution_count": null,
   "metadata": {
    "scrolled": true
   },
   "outputs": [],
   "source": [
    "carbon_emission = pd.DataFrame(columns = firms,  index = periodes )\n",
    "\n",
    "for periode in periodes:\n",
    "    for firm in firms:\n",
    "        carbon_emission[firm][periode] = ((optimum_solution[periode][firm][\"Carbon Emissions\"]).values).astype(float)\n",
    "\n",
    "carbon_emission.to_csv(\"carbonemissionpath\")\n",
    "\n",
    "\n",
    "plt.plot(list(range(1,MarketConfig.T+1)),carbon_emission)\n",
    "plt.title(\"Carbon emission path \" )\n",
    "plt.ylabel('Carbon emissions')\n",
    "plt.legend(labels  =carbon_emission.columns.tolist())\n",
    "plt.show()\n",
    "\n",
    "carbon_emission"
   ]
  },
  {
   "cell_type": "markdown",
   "metadata": {},
   "source": [
    "### Sulfur Emission Path\n"
   ]
  },
  {
   "cell_type": "code",
   "execution_count": null,
   "metadata": {},
   "outputs": [],
   "source": [
    "sulfur_emission = pd.DataFrame(columns = firms,  index = periodes )\n",
    "\n",
    "for periode in periodes:\n",
    "    for firm in firms:\n",
    "        sulfur_emission[firm][periode] = ((optimum_solution[periode][firm][\"Sulfur Emissions\"]).values).astype(float)\n",
    "\n",
    "        \n",
    "plt.plot(list(range(1,MarketConfig.T+1)),sulfur_emission)\n",
    "plt.title(\"Sulfur emission path \" )\n",
    "plt.ylabel('Sulfur emissions')\n",
    "plt.legend(labels  = sulfur_emission.columns.tolist())\n",
    "plt.show()\n",
    "\n",
    "\n",
    "\n",
    "sulfur_emission.to_csv(\"sulfuremissionpath\")\n",
    "sulfur_emission"
   ]
  },
  {
   "cell_type": "markdown",
   "metadata": {},
   "source": [
    "#####  Carbon and Sulfur Pollution Stock"
   ]
  },
  {
   "cell_type": "code",
   "execution_count": null,
   "metadata": {},
   "outputs": [],
   "source": [
    "Pollution_Stock = pd.DataFrame(columns = [\"Carbon Pollution Stock\", \"Sulfur Pollution Stock\"] ,  index = periodes )\n",
    "\n",
    "for periode in periodes:\n",
    "    Pollution_Stock[\"Carbon Pollution Stock\"][periode] = BAU_carbon_pollution_stock[periode -1]\n",
    "    Pollution_Stock[\"Sulfur Pollution Stock\"][periode] = BAU_sulfur_pollution_stock[periode -1]\n",
    "\n",
    "# Create some mock data\n",
    "\n",
    "fig, ax1 = plt.subplots()\n",
    "\n",
    "color = 'tab:red'\n",
    "ax1.set_xlabel('periode')\n",
    "ax1.set_ylabel('Carbon Pollution Stock', color=color)\n",
    "ax1.plot(list(range(1,MarketConfig.T+1)), Pollution_Stock[\"Carbon Pollution Stock\"], color=color)\n",
    "ax1.tick_params(axis='y', labelcolor=color)\n",
    "\n",
    "ax2 = ax1.twinx()  # instantiate a second axes that shares the same x-axis\n",
    "\n",
    "color = 'tab:blue'\n",
    "ax2.set_ylabel('Sulfur Pollution Stock', color=color)  # we already handled the x-label with ax1\n",
    "ax2.plot(list(range(1,MarketConfig.T+1)), Pollution_Stock[\"Sulfur Pollution Stock\"], color=color)\n",
    "ax2.tick_params(axis='y', labelcolor=color)\n",
    "\n",
    "#fig.tight_layout()  # otherwise the right y-label is slightly clipped\n",
    "plt.show()\n",
    "\n",
    "Pollution_Stock"
   ]
  },
  {
   "cell_type": "markdown",
   "metadata": {},
   "source": [
    "#####  Carbon and Sulfur Pollution Damages"
   ]
  },
  {
   "cell_type": "code",
   "execution_count": null,
   "metadata": {},
   "outputs": [],
   "source": [
    "sulfur_industry_carbon_damages = 0.5* pollution_damage_parameter * np.power(BAU_sulfur_pollution_stock,2)\n",
    "#sulfur_industry_carbon_damages\n",
    "BAU_industry_carbon_damages = 0.5* pollution_damage_parameter * np.power(BAU_carbon_pollution_stock,2)\n",
    "#BAU_industry_carbon_damages"
   ]
  },
  {
   "cell_type": "code",
   "execution_count": null,
   "metadata": {
    "scrolled": true
   },
   "outputs": [],
   "source": [
    "Industry_Damages = pd.DataFrame(columns = [\"Carbon Industry Damages\", \"Sulfur Industry Damages \"] ,  index = periodes )\n",
    "\n",
    "for periode in periodes:\n",
    "    Industry_Damages[\"Carbon Industry Damages\"][periode] = BAU_industry_carbon_damages[periode-1]\n",
    "    Industry_Damages[\"Sulfur Industry Damages \"][periode] = sulfur_industry_carbon_damages[periode-1]\n",
    "\n",
    "    \n",
    "    \n",
    "# Create some mock data\n",
    "\n",
    "fig, ax1 = plt.subplots()\n",
    "\n",
    "color = 'tab:red'\n",
    "ax1.set_xlabel('periode')\n",
    "ax1.set_ylabel(\"Carbon Industry Damages\", color=color)\n",
    "ax1.plot(list(range(1,MarketConfig.T+1)), Industry_Damages[\"Carbon Industry Damages\"] , color=color)\n",
    "ax1.tick_params(axis='y', labelcolor=color)\n",
    "\n",
    "ax2 = ax1.twinx()  # instantiate a second axes that shares the same x-axis\n",
    "\n",
    "color = 'tab:blue'\n",
    "ax2.set_ylabel(\"Sulfur Industry Damages \", color=color)  # we already handled the x-label with ax1\n",
    "ax2.plot(list(range(1,MarketConfig.T+1)), Industry_Damages[\"Sulfur Industry Damages \"] , color=color)\n",
    "ax2.tick_params(axis='y', labelcolor=color)\n",
    "\n",
    "#fig.tight_layout()  # otherwise the right y-label is slightly clipped\n",
    "plt.show()\n",
    "\n",
    "\n",
    "Industry_Damages"
   ]
  },
  {
   "cell_type": "markdown",
   "metadata": {},
   "source": [
    "### Evaluatin GA performance"
   ]
  },
  {
   "cell_type": "markdown",
   "metadata": {},
   "source": [
    "### Profit,   Revenue, Cost CO2 Cost,  SOx Cos in 1 graph as a function of generation ??"
   ]
  },
  {
   "cell_type": "markdown",
   "metadata": {},
   "source": [
    "### Firm 1, Period 1"
   ]
  },
  {
   "cell_type": "code",
   "execution_count": null,
   "metadata": {},
   "outputs": [],
   "source": [
    "plt.plot(results[1][\"firm1\"]['Generation'].values, results[1][\"firm1\"]['Firm Discounted profit'].values)\n",
    "plt.title(\"Convergence \" )\n",
    "plt.ylabel('Firm discounted profits')\n",
    "plt.xlabel('Generation')\n",
    "plt.show()\n",
    "#############\n",
    "plt.plot(results[1][\"firm1\"]['Vessel Speed'].values, results[1][\"firm1\"]['Firm Discounted profit'].values)\n",
    "plt.title(\"Profits \" )\n",
    "plt.ylabel('Firm discounted profits')\n",
    "plt.xlabel('Vessel Speed')\n",
    "plt.show()"
   ]
  },
  {
   "cell_type": "markdown",
   "metadata": {},
   "source": [
    "## Export Results to spreadsheet"
   ]
  },
  {
   "cell_type": "code",
   "execution_count": null,
   "metadata": {},
   "outputs": [],
   "source": [
    "writer = pd.ExcelWriter('results.xlsx', engine='xlsxwriter')   \n",
    "for periode in results.keys():\n",
    "    for firm in results[periode].keys():\n",
    "        sheet_name = \"period\" + str(periode) + firm\n",
    "        results[periode][firm].to_excel(writer, sheet_name = sheet_name, index =False)\n",
    "writer.save()"
   ]
  },
  {
   "cell_type": "code",
   "execution_count": null,
   "metadata": {},
   "outputs": [],
   "source": [
    "writer_1 = pd.ExcelWriter('optimum_solution.xlsx', engine='xlsxwriter')   \n",
    "for periode in optimum_solution.keys():\n",
    "    for firm in optimum_solution[periode].keys():\n",
    "        sheet_name = \"period\" + str(periode) + firm\n",
    "        optimum_solution[periode][firm].to_excel(writer_1, sheet_name = sheet_name, index =False)\n",
    "writer_1.save()"
   ]
  },
  {
   "cell_type": "code",
   "execution_count": 24,
   "metadata": {
    "scrolled": true
   },
   "outputs": [
    {
     "data": {
      "text/plain": [
       "array([[0, 0, 0],\n",
       "       [0, 0, 1],\n",
       "       [0, 1, 0],\n",
       "       [0, 1, 1],\n",
       "       [1, 0, 0],\n",
       "       [1, 0, 1],\n",
       "       [1, 1, 0],\n",
       "       [1, 1, 1]])"
      ]
     },
     "execution_count": 24,
     "metadata": {},
     "output_type": "execute_result"
    }
   ],
   "source": [
    "#\"Singerons are denoted by '0' while signatories are denoted by '1'\"\n",
    "coalition_structure =np.asarray([list(i) for i in itertools.product([0, 1], repeat= number_of_firms)])\n",
    "All_singelton = coalition_structure[0]\n",
    "Grand_coalition  = coalition_structure[-1]\n",
    "coalition_structure\n",
    "#coalition_stru[3]"
   ]
  },
  {
   "cell_type": "code",
   "execution_count": 36,
   "metadata": {},
   "outputs": [
    {
     "name": "stdout",
     "output_type": "stream",
     "text": [
      "(array([], dtype=int64),)\n",
      "(array([2], dtype=int64),)\n",
      "(array([1], dtype=int64),)\n",
      "(array([1, 2], dtype=int64),)\n",
      "(array([0], dtype=int64),)\n",
      "(array([0, 2], dtype=int64),)\n",
      "(array([0, 1], dtype=int64),)\n",
      "(array([0, 1, 2], dtype=int64),)\n"
     ]
    }
   ],
   "source": [
    "for compteur in range (len(coalition_structure)): \n",
    "    coalition = np.where(coalition_structure[compteur] == 1)\n",
    "    singleton = np.where(coalition_structure[compteur] == 0)\n",
    "    print(coalition)"
   ]
  },
  {
   "cell_type": "markdown",
   "metadata": {},
   "source": [
    "## Import BAU emissions, pollution stock and industry damages"
   ]
  },
  {
   "cell_type": "markdown",
   "metadata": {},
   "source": [
    "### Benefits from abatement "
   ]
  },
  {
   "cell_type": "markdown",
   "metadata": {},
   "source": [
    "### coalition model : \n",
    "Assume am emission threshold -condition for joining the coalition "
   ]
  },
  {
   "cell_type": "markdown",
   "metadata": {},
   "source": [
    "gen = 0\n",
    "for each species s do begin\n",
    "Pops(gen) = randomly initialized population\n",
    "evaluate fitness of each individual in Pops(gen)\n",
    "end\n",
    "while termination condition = false do begin\n",
    "gen = gen + 1\n",
    "for each species s do begin\n",
    "select Pops(gen) from Pops(gen − 1) based on fitness\n",
    "apply genetic operators to Pops(gen)\n",
    "evaluate fitness of each individual in Pops(gen)\n",
    "end\n",
    "end"
   ]
  }
 ],
 "metadata": {
  "kernelspec": {
   "display_name": "Python 3",
   "language": "python",
   "name": "python3"
  },
  "language_info": {
   "codemirror_mode": {
    "name": "ipython",
    "version": 3
   },
   "file_extension": ".py",
   "mimetype": "text/x-python",
   "name": "python",
   "nbconvert_exporter": "python",
   "pygments_lexer": "ipython3",
   "version": "3.7.7"
  }
 },
 "nbformat": 4,
 "nbformat_minor": 4
}
