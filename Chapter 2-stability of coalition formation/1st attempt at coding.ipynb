{
 "cells": [
  {
   "cell_type": "markdown",
   "metadata": {},
   "source": [
    "### A fine grained PGA (parallel genetic algorithm)"
   ]
  },
  {
   "cell_type": "code",
   "execution_count": 1,
   "metadata": {},
   "outputs": [],
   "source": [
    "import numpy as np # importing numpy for matrix operations \n",
    "from scipy import *\n",
    "from scipy.optimize import minimize\n",
    "import pandas as pd\n",
    "import matplotlib.pyplot as plt\n",
    "import seaborn as sns\n",
    "from IPython import display \n",
    "import itertools\n",
    "from IPython.display import display\n",
    "import random\n",
    "import operator\n",
    "from random import choices, randint, randrange, random, sample, seed, uniform, choice\n",
    "from collections import namedtuple\n",
    "from typing import List, Optional, Callable, Tuple\n",
    "from functools import partial\n",
    "sns.set()\n",
    "import random"
   ]
  },
  {
   "cell_type": "code",
   "execution_count": 2,
   "metadata": {},
   "outputs": [],
   "source": [
    "#np.random.seed(0)\n",
    "#random.seed(0)"
   ]
  },
  {
   "cell_type": "code",
   "execution_count": 3,
   "metadata": {},
   "outputs": [],
   "source": [
    "class IterRegistry(type):\n",
    "    def __iter__(cls):\n",
    "        return iter(cls._registry)"
   ]
  },
  {
   "cell_type": "code",
   "execution_count": 4,
   "metadata": {},
   "outputs": [],
   "source": [
    "class MarketConfig: \n",
    "    #class attributes\n",
    "    t0 = 2016 #The starting year for evaluation of the pay-offs\n",
    "    T = 35  # Planning Horizon t = 2016,...,2040 # 100 year scope \n",
    "    year = np.arange(2016, 2051)\n",
    "    distance = np.array([11810]) #nautical miles #Notteboom (2006)  \n",
    "    port_time =  np.array([264])  #hours ==> 11 days in a year  #Notteboom (2006)\n",
    "    demand_16_20 = np.array([1303780  for j in range(5)]) #in TEU #placehplder to be calibrated with the chosen route \n",
    "    annual_working_time = np.array([6480])  #hours per year, assumption   #hours per year, assumption \n",
    "    initial_freight_rate = np.array([1800])  ## in US$/TEU \n",
    "    SFOC_main = np.array([206])  #g/kWh, specific daily main engine fuel oil consumption rate\n",
    "    SFOC_aux = np.array([221]) # specific fuel oil consumption of the auxiliary engine [g/kW h], \n",
    "    eng_load_main = np.array([0.8]) # % \n",
    "    eng_load_aux = np.array([0.5])  # engine load of the auxiliary engine [\\%]\n",
    "\n",
    "\n",
    "    def __init__(self, number_of_firms, pollution_decay_parameter, pollution_damage_parameter, demand_income_elasticity, demand_price_elasticity, \n",
    "                 freight_rate, fuel_data, discount_rate ):\n",
    "        '''__init__ a method to describe the poperty that the shipping market and simulation game has'''\n",
    "        self.number_of_firms = number_of_firms\n",
    "        self.pollution_decay_parameter = pollution_decay_parameter\n",
    "        self.pollution_damage_parameter = pollution_damage_parameter\n",
    "        self.demand_income_elasticity = demand_income_elasticity #Constant income elasticity #IMF\n",
    "        self.demand_price_elasticity =  demand_price_elasticity #Constant own price elasticity#IMF\n",
    "        self.freight_rate = freight_rate ## in US$/TEU\n",
    "        self.fuel_data = fuel_data \n",
    "        self.discount_rate = discount_rate \n",
    "        #self.bau_industry_emission =  bau_industry_emission \n",
    "        #self.bau_pollution_stock = bau_pollution_stock\n",
    "        self.market_capacity = 0 \n",
    "         \n",
    "    \n",
    "    def get_market_capacity (self, firm_instance):\n",
    "        self.market_capacity += np.multiply(firm_instance.max_number_of_vessel, firm_instance.capacity) \n",
    "        return self.market_capacity \n",
    "    \n",
    "    def get_freight_rate_ratio(self):\n",
    "        self.beta = np.true_divide(self.freight_rate, MarketConfig.initial_freight_rate) \n",
    "        return self.beta\n",
    "   \n",
    "    def get_market_demand(self):\n",
    "        '''compute market level demand'''\n",
    "        #---------> 1.Import real GDP growth data & compute GDP ratio : Source IMF@2020 #\n",
    "        G_df = pd.read_csv('./data/real_growth_rate.csv') #import IMF data\n",
    "        #-------> 2.Construct GDP projection path 2016-2050 based on projection growth data \n",
    "        gdp_growth= G_df.values[:,1:] \n",
    "        g =1 +(gdp_growth/100)  \n",
    "        self.gdp = np.array([100.00 for j in range(MarketConfig.T)])\n",
    "        for foo in range (1,MarketConfig.T):\n",
    "            self.gdp[foo] = g[:,foo]* self.gdp[foo-1]\n",
    "        #print(self.gdp)\n",
    "        #--------->  \"compute GDP ratio based on IMF@2020\"\n",
    "        gdp_ratio = np.array([1.00 for j in range(MarketConfig.T)])\n",
    "        for moo in range (1,MarketConfig.T):\n",
    "            sub_g = g[:,0:moo+1]\n",
    "            #print(sub_g)\n",
    "            gdp_ratio[moo] = np.prod(sub_g)\n",
    "        \n",
    "        #--------->  \"compute freight rate ratio\"\n",
    "        self.freight_rate_ratio_multiplied = np.power(self.beta, self.demand_price_elasticity)\n",
    "        #print(freight_rate_ratio_multiplied)\n",
    "        \n",
    "        #---------> \"Project Transport Demand (industry demand)\"\n",
    "        loo =np.multiply(np.power(gdp_ratio, self.demand_income_elasticity), self.freight_rate_ratio_multiplied ) #Will need to be updated in case fuel prices are varied over time  \n",
    "        self.market_demand = np.multiply(loo, MarketConfig.demand_16_20[0])\n",
    "        #print(Y) # size = 1 dimesion array with size T=35 years\n",
    "        self.market_psy = np.multiply(np.power(gdp_ratio, self.demand_income_elasticity), MarketConfig.demand_16_20[0] )\n",
    "        return self.market_demand, self.gdp, self.market_psy"
   ]
  },
  {
   "cell_type": "code",
   "execution_count": 5,
   "metadata": {},
   "outputs": [],
   "source": [
    "class Firm:\n",
    "    #class attributes intialisation, to be updated with the addition of each instance\n",
    "    _registry = []\n",
    "    \n",
    "    def __init__(self, index, capacity, max_number_of_vessel, design_speed, \n",
    "                 min_speed, max_speed, main_engine_power, aux_engine_power,\n",
    "                 fix_cost, fuel_type):\n",
    "        '''__init__ a method to describe the poperty that all shipping firm have'''\n",
    "        self._registry.append(self)\n",
    "        self.index = index\n",
    "        self.capacity = capacity # Vessel capacity in TEU per firm, \n",
    "        self.max_number_of_vessel = max_number_of_vessel # # of vessels per firms\n",
    "        self.design_speed = design_speed  #design speed of the vessel in knots\n",
    "        self.min_speed = min_speed #min vessel speed\n",
    "        self.max_speed = max_speed #max vessel speed         \n",
    "        self.main_engine_power =  main_engine_power  # PS_m : main engine power in kW\n",
    "        self.aux_engine_power =  aux_engine_power  # auxiliary engine power [kW] \n",
    "        self.fix_cost = fix_cost #Daily cost of vessel (USD/Day) $25,000\n",
    "        self.fuel_type = fuel_type\n",
    "        #self.bau_emission = bau_emission\n",
    "         \n",
    "   \n",
    "    # Firm methods \n",
    "    def get_market_share(self , market_instance):\n",
    "        '''return market share of the firm accoding to it s capacity'''\n",
    "        self.transport_capacity = np.multiply(self.max_number_of_vessel , self.capacity)\n",
    "        self.market_share= np.true_divide(self.transport_capacity, market_instance.market_capacity)\n",
    "        return self.market_share\n",
    "        \n",
    "    def get_firm_param(self, market_instance):\n",
    "        self.psy = np.multiply (self.market_share , market_instance.market_psy)\n",
    "        return self.psy\n",
    "    \n",
    "    def get_firm_demand(self, market_instance):\n",
    "        self.firm_demand = np.multiply (self.market_share , market_instance.market_demand)\n",
    "        return self.firm_demand \n",
    "    \n",
    "    def update_vessel_speed(self, operational_speed):\n",
    "        self.operational_speed = operational_speed\n",
    "        return self.operational_speed \n",
    "    \n",
    "    def get_min_number_of_vessel(self, market_instance):\n",
    "        self.time_at_sea = np.true_divide(market_instance.distance,  self.operational_speed) #returns a vector \n",
    "        self.voyage_time = self.time_at_sea + market_instance.port_time #returns a vector \n",
    "        self.number_of_trips_to_meet_demand = np.true_divide(self.firm_demand, self.capacity) #returns a vector\n",
    "        self.max_trips_per_vessel = np.true_divide(market_instance.annual_working_time, self.voyage_time) #returns a vector\n",
    "        self.min_number_of_vessel_to_meet_demand = np.true_divide(self.number_of_trips_to_meet_demand, self.max_trips_per_vessel) #returns a vector\n",
    "        return self.min_number_of_vessel_to_meet_demand, self.number_of_trips_to_meet_demand, self.time_at_sea \n",
    "    \n",
    "    def get_number_of_vessel(self):\n",
    "        self.number_of_vessel = np.ceil(self.min_number_of_vessel_to_meet_demand) #returns a vector\n",
    "        return self.number_of_vessel\n",
    "            \n",
    "    def get_ship_energy_efficiency(self, market_instance):\n",
    "        self.main_fuel_parameter =np.multiply(np.multiply(np.multiply(market_instance.SFOC_main,market_instance.eng_load_main),self.main_engine_power), 10**(-6))\n",
    "        #self.main_fuel_parameter = market_instance.SFOC_main * market_instance.eng_load_main * self.main_engine_power * 10**(-6)\n",
    "        self.ship_energy = np.multiply(self.main_fuel_parameter, np.power(self.design_speed, -3) )      \n",
    "        return self.ship_energy\n",
    "        \n",
    "    def get_main_fuel_cons(self, market_instance):\n",
    "        self.main_fuel_con= np.multiply(np.multiply(np.multiply(market_instance.distance, self.ship_energy), np.power(self.operational_speed, 2)) , self.number_of_trips_to_meet_demand)\n",
    "        self.main_fuel_cons = market_instance.distance * self.ship_energy * (self.operational_speed**2) *self.number_of_trips_to_meet_demand\n",
    "        return self.main_fuel_cons #returns a vector\n",
    "        \n",
    "    def get_aux_fuel_cons(self, market_instance): \n",
    "        self.aux_fuel_parameter = np.multiply(np.multiply(np.multiply( market_instance.SFOC_aux, market_instance.eng_load_aux), self.aux_engine_power),  10**(-6))\n",
    "        #self.aux_fuel_parameter = market_instance.SFOC_aux * market_instance.eng_load_aux * self.aux_engine_power * 10**(-6)\n",
    "        self.aux_fuel_cons =  np.true_divide((self.aux_fuel_parameter * self.number_of_trips_to_meet_demand * market_instance.distance), self.operational_speed)        \n",
    "        return self.aux_fuel_cons #returns a vector   \n",
    "    \n",
    "        \n",
    "    def get_fuel_cost(self, market_instance):\n",
    "        self.aux_fuel_cost =np.multiply(self.aux_fuel_cons, market_instance.fuel_data['MGO']['price'])  \n",
    "        self.main_fuel_cost = np.multiply(self.main_fuel_cons, market_instance.fuel_data[self.fuel_type]['price'])   \n",
    "        self.fuel_cost = self.main_fuel_cost + self.aux_fuel_cost \n",
    "        return self.fuel_cost #returns a vector\n",
    "    \n",
    "    \n",
    "    def get_firm_carbon_emission(self, market_instance):\n",
    "        self.carbon_aux_emision_factor = market_instance.fuel_data['MGO']['carbon_factor']\n",
    "        self_carbon_aux_emissions = np.multiply(self.carbon_aux_emision_factor, self.aux_fuel_cons )  \n",
    "        self.carbon_main_emision_factor =  market_instance.fuel_data[self.fuel_type]['carbon_factor']\n",
    "        self_carbon_main_emissions =np.multiply(self.carbon_main_emision_factor, self.main_fuel_cons)  \n",
    "        self_carbon_emissions = self_carbon_main_emissions + self_carbon_aux_emissions \n",
    "        return self_carbon_emissions\n",
    "    \n",
    "    def get_firm_sulfur_emission(self, market_instance):\n",
    "        self.sulfur_aux_emision_factor = market_instance.fuel_data['MGO']['sulfur_factor']\n",
    "        self_sulfur_aux_emissions = np.multiply(self.sulfur_aux_emision_factor, self.aux_fuel_cons)  \n",
    "        self.sulfur_main_emision_factor =  market_instance.fuel_data[self.fuel_type]['sulfur_factor']\n",
    "        self_sulfur_main_emissions = np.multiply(self.sulfur_main_emision_factor, self.main_fuel_cons)  \n",
    "        self_sulfur_emissions = self_sulfur_main_emissions + self_sulfur_aux_emissions \n",
    "        return self_sulfur_emissions      \n",
    "    \n",
    "            \n",
    "    def get_total_cost(self):\n",
    "        self.operating_cost = np.multiply(self.fix_cost, self.number_of_vessel)  #Fixed Cost\n",
    "        self.total_cost = self.operating_cost + self.fuel_cost\n",
    "        return self.total_cost #returns a vector    \n",
    "    \n",
    "    def update_total_cost(self, total_cost_with_policy):\n",
    "        self.total_cost = total_cost_with_policy\n",
    "        return self.total_cost \n",
    "                 \n",
    "    def get_revenue(self,market_instance):\n",
    "        self.revenue = np.multiply(self.firm_demand, market_instance.freight_rate)\n",
    "        return self.revenue #returns a vector\n",
    "    \n",
    "    def get_period_profits(self):\n",
    "        self.period_profit = self.revenue - self.total_cost\n",
    "        return self.period_profit #returns a vector\n",
    "    \n",
    "    def get_discounted_period_profit(self,market_instance, planning_horizon):\n",
    "        self.period_index_vector = np.arange(1,planning_horizon + 1)\n",
    "        self.discount_multiplier = np.power( 1+ market_instance.discount_rate, - self.period_index_vector)\n",
    "        self.discounted_period_profit = np.multiply( self.discount_multiplie, self.period_profit) \n",
    "        return self.discounted_period_profit #returns a vector\n",
    "\n"
   ]
  },
  {
   "cell_type": "code",
   "execution_count": 6,
   "metadata": {},
   "outputs": [],
   "source": [
    "#====> Iinitialisation of chromo and population objects \n",
    "Chromo = List[float] \n",
    "Population = List[Chromo]  \n",
    "\n",
    "#====> Iinitialisation of function objects\n",
    "PopulateFunc = Callable[[], Population]\n",
    "FitnessFunc = Callable[[Chromo], Tuple[float, int, float, float]] #int to refelct max # of vessel\n",
    "SelectionFunc = Callable[[Population, FitnessFunc], Tuple[Chromo, Chromo]]  #takes a population and a fitness fn to select 2 solutions to be the parents of our next generaation solution\n",
    "CrossoverFunc = Callable[[Chromo, Chromo], Tuple[Chromo, Chromo]] #takes 2 genomes and returns 2 new genomes \n",
    "MutationFunc = Callable[[Chromo], Chromo] #takes 1 genome and sometimes returns a modified one"
   ]
  },
  {
   "cell_type": "code",
   "execution_count": 7,
   "metadata": {},
   "outputs": [],
   "source": [
    "#======>\n",
    "def generate_chromo(lower_bound:float, upper_bound:float, planning_horizon:int ,fitness_func: FitnessFunc) :\n",
    "    while True:\n",
    "        chromo = np.random.uniform(lower_bound, upper_bound, planning_horizon )   \n",
    "        if fitness_func(chromo)[0] != 0:\n",
    "            break\n",
    "    return chromo  \n",
    "def generate_population(fitness_func: FitnessFunc, \n",
    "                        size: int, chromo_lower_bound: float, \n",
    "                        chromo_upper_bound: float, planning_horizon:int ): \n",
    "    return np.array([generate_chromo(chromo_lower_bound, chromo_upper_bound, planning_horizon, fitness_func) for _ in range(size)])\n"
   ]
  },
  {
   "cell_type": "code",
   "execution_count": 8,
   "metadata": {},
   "outputs": [
    {
     "data": {
      "text/plain": [
       "array([[10.02733905, 10.30828729],\n",
       "       [10.95233229, 11.4304653 ],\n",
       "       [10.2605828 , 11.91957063],\n",
       "       [11.5573592 , 11.86083643],\n",
       "       [10.97351253, 10.54363103],\n",
       "       [11.35650611, 11.51352875],\n",
       "       [11.99289141, 10.24770857],\n",
       "       [10.9682427 , 11.28989747],\n",
       "       [11.83295401, 11.56082154],\n",
       "       [10.01660715, 10.67203462],\n",
       "       [11.20258701, 11.15884496],\n",
       "       [11.81119978, 10.90737755],\n",
       "       [10.434337  , 10.49046728],\n",
       "       [10.43582625, 10.82993221],\n",
       "       [11.16172744, 10.21555924],\n",
       "       [11.06490624, 10.07445328]])"
      ]
     },
     "execution_count": 8,
     "metadata": {},
     "output_type": "execute_result"
    }
   ],
   "source": [
    "#======> Sample of the population: Assume 5 periods(chromo length ) and a population size of 10\n",
    "data =  np.array([(np.random.uniform(10, 12, 2)) for _ in range(16)])\n",
    "data"
   ]
  },
  {
   "cell_type": "code",
   "execution_count": 9,
   "metadata": {},
   "outputs": [
    {
     "data": {
      "text/plain": [
       "array([[[10.02733905, 10.30828729],\n",
       "        [10.95233229, 11.4304653 ],\n",
       "        [10.2605828 , 11.91957063],\n",
       "        [11.5573592 , 11.86083643]],\n",
       "\n",
       "       [[10.97351253, 10.54363103],\n",
       "        [11.35650611, 11.51352875],\n",
       "        [11.99289141, 10.24770857],\n",
       "        [10.9682427 , 11.28989747]],\n",
       "\n",
       "       [[11.83295401, 11.56082154],\n",
       "        [10.01660715, 10.67203462],\n",
       "        [11.20258701, 11.15884496],\n",
       "        [11.81119978, 10.90737755]],\n",
       "\n",
       "       [[10.434337  , 10.49046728],\n",
       "        [10.43582625, 10.82993221],\n",
       "        [11.16172744, 10.21555924],\n",
       "        [11.06490624, 10.07445328]]])"
      ]
     },
     "execution_count": 9,
     "metadata": {},
     "output_type": "execute_result"
    }
   ],
   "source": [
    "data = data.reshape(4,4,2)#(sqrt(pop size) , sqrt(pop size), #of periods )\n",
    "data"
   ]
  },
  {
   "cell_type": "code",
   "execution_count": 10,
   "metadata": {},
   "outputs": [
    {
     "data": {
      "text/plain": [
       "array([[[10.02733905, 10.30828729],\n",
       "        [10.95233229, 11.4304653 ],\n",
       "        [10.2605828 , 11.91957063],\n",
       "        [11.5573592 , 11.86083643]],\n",
       "\n",
       "       [[10.97351253, 10.54363103],\n",
       "        [11.35650611, 11.51352875],\n",
       "        [11.99289141, 10.24770857],\n",
       "        [10.9682427 , 11.28989747]],\n",
       "\n",
       "       [[11.83295401, 11.56082154],\n",
       "        [10.01660715, 10.67203462],\n",
       "        [11.20258701, 11.15884496],\n",
       "        [11.81119978, 10.90737755]],\n",
       "\n",
       "       [[10.434337  , 10.49046728],\n",
       "        [10.43582625, 10.82993221],\n",
       "        [11.16172744, 10.21555924],\n",
       "        [11.06490624, 10.07445328]]])"
      ]
     },
     "execution_count": 10,
     "metadata": {},
     "output_type": "execute_result"
    }
   ],
   "source": [
    "data #returns first row"
   ]
  },
  {
   "cell_type": "code",
   "execution_count": null,
   "metadata": {},
   "outputs": [],
   "source": [
    "Firm._registry"
   ]
  },
  {
   "cell_type": "code",
   "execution_count": null,
   "metadata": {},
   "outputs": [],
   "source": [
    "#=====>\n",
    "def selection_pair (population: Population, weights: list):\n",
    "    return  np.random.choice(np.hstack( population),\n",
    "                            size = 2, \n",
    "                            replace=False,\n",
    "                            p= weights) \n",
    "#=======>\n",
    "def BLX_alpha_crossover (a: Chromo, b: Chromo, chromo_lower_bound: float, chromo_upper_bound:float) :\n",
    "    lower = min(a,b) -  0.5 * (max(a,b) - min (a,b))\n",
    "    upper = max(a,b) +  0.5 * (max(a,b) - min (a,b))   \n",
    "    lower = chromo_lower_bound if lower < chromo_lower_bound else lower\n",
    "    upper = chromo_upper_bound if upper > chromo_upper_bound else upper\n",
    "    return np.random.uniform (lower, upper, 2) \n",
    "\n",
    "#=====>\n",
    "def mutation(chromo: Chromo, chromo_lower_bound: float, chromo_upper_bound: float\n",
    "             , variance: float, probability: float = 0.5 ) : \n",
    "        chromo = np.random.normal(chromo, variance, 1) if random.random() > probability else chromo\n",
    "        chromo = chromo_lower_bound if chromo <chromo_lower_bound else chromo\n",
    "        chromo =chromo_upper_bound if chromo > chromo_upper_bound else chromo\n",
    "        return chromo"
   ]
  },
  {
   "cell_type": "code",
   "execution_count": null,
   "metadata": {},
   "outputs": [],
   "source": [
    "def fitness_similarity_chech(max_fitness, number_of_similarity):\n",
    "    result = 0\n",
    "    similarity = 0\n",
    "    for n in range(len(max_fitness)-1):\n",
    "        if np.round(max_fitness[n], 3 ) == np.round(max_fitness[n+1],3):\n",
    "            similarity += 1\n",
    "        else:\n",
    "            similarity = 0\n",
    "    if similarity == number_of_similarity-1:\n",
    "        result = 1\n",
    "    return result\n",
    "\n",
    "\n",
    "\n",
    "def chromo_deviation_chech(max_fitness, number_of_similarity):\n",
    "    pass"
   ]
  },
  {
   "cell_type": "code",
   "execution_count": 57,
   "metadata": {},
   "outputs": [
    {
     "data": {
      "text/plain": [
       "8"
      ]
     },
     "execution_count": 57,
     "metadata": {},
     "output_type": "execute_result"
    }
   ],
   "source": [
    "randrange(10+1)"
   ]
  },
  {
   "cell_type": "code",
   "execution_count": 58,
   "metadata": {},
   "outputs": [
    {
     "data": {
      "text/plain": [
       "[<__main__.Firm at 0x1dee6c9e610>,\n",
       " <__main__.Firm at 0x1dee6c9eac0>,\n",
       " <__main__.Firm at 0x1dee6c9e100>]"
      ]
     },
     "execution_count": 58,
     "metadata": {},
     "output_type": "execute_result"
    }
   ],
   "source": [
    "Firm._registry"
   ]
  },
  {
   "cell_type": "code",
   "execution_count": 59,
   "metadata": {},
   "outputs": [
    {
     "ename": "NameError",
     "evalue": "name 'evolving_species' is not defined",
     "output_type": "error",
     "traceback": [
      "\u001b[1;31m---------------------------------------------------------------------------\u001b[0m",
      "\u001b[1;31mNameError\u001b[0m                                 Traceback (most recent call last)",
      "\u001b[1;32m<ipython-input-59-26deaa88fdb7>\u001b[0m in \u001b[0;36m<module>\u001b[1;34m\u001b[0m\n\u001b[0;32m      1\u001b[0m \u001b[0mpopulation\u001b[0m \u001b[1;33m=\u001b[0m \u001b[1;33m{\u001b[0m\u001b[1;33m}\u001b[0m\u001b[1;33m\u001b[0m\u001b[1;33m\u001b[0m\u001b[0m\n\u001b[1;32m----> 2\u001b[1;33m \u001b[0mpopulation\u001b[0m\u001b[1;33m[\u001b[0m\u001b[1;34m\"firm\"\u001b[0m \u001b[1;33m+\u001b[0m \u001b[0mstr\u001b[0m\u001b[1;33m(\u001b[0m\u001b[0mevolving_species\u001b[0m\u001b[1;33m.\u001b[0m\u001b[0mindex\u001b[0m\u001b[1;33m)\u001b[0m\u001b[1;33m]\u001b[0m \u001b[1;33m=\u001b[0m \u001b[0mdata\u001b[0m\u001b[1;33m\u001b[0m\u001b[1;33m\u001b[0m\u001b[0m\n\u001b[0m\u001b[0;32m      3\u001b[0m \u001b[1;33m\u001b[0m\u001b[0m\n\u001b[0;32m      4\u001b[0m \u001b[0mpopulation\u001b[0m\u001b[1;33m\u001b[0m\u001b[1;33m\u001b[0m\u001b[0m\n",
      "\u001b[1;31mNameError\u001b[0m: name 'evolving_species' is not defined"
     ]
    }
   ],
   "source": [
    "population = {} \n",
    "population[\"firm\" + str(evolving_species.index)] = data \n",
    "\n",
    "population"
   ]
  },
  {
   "cell_type": "code",
   "execution_count": 60,
   "metadata": {},
   "outputs": [
    {
     "ename": "NameError",
     "evalue": "name 'evolving_species' is not defined",
     "output_type": "error",
     "traceback": [
      "\u001b[1;31m---------------------------------------------------------------------------\u001b[0m",
      "\u001b[1;31mNameError\u001b[0m                                 Traceback (most recent call last)",
      "\u001b[1;32m<ipython-input-60-2a4e210c11ba>\u001b[0m in \u001b[0;36m<module>\u001b[1;34m\u001b[0m\n\u001b[1;32m----> 1\u001b[1;33m \u001b[0mpopulation\u001b[0m\u001b[1;33m[\u001b[0m\u001b[1;34m\"firm\"\u001b[0m \u001b[1;33m+\u001b[0m \u001b[0mstr\u001b[0m\u001b[1;33m(\u001b[0m\u001b[0mevolving_species\u001b[0m\u001b[1;33m.\u001b[0m\u001b[0mindex\u001b[0m\u001b[1;33m)\u001b[0m\u001b[1;33m]\u001b[0m\u001b[1;33m[\u001b[0m\u001b[1;36m2\u001b[0m\u001b[1;33m,\u001b[0m\u001b[1;36m2\u001b[0m\u001b[1;33m]\u001b[0m\u001b[1;33m\u001b[0m\u001b[1;33m\u001b[0m\u001b[0m\n\u001b[0m",
      "\u001b[1;31mNameError\u001b[0m: name 'evolving_species' is not defined"
     ]
    }
   ],
   "source": [
    "population[\"firm\" + str(evolving_species.index)][2,2]"
   ]
  },
  {
   "cell_type": "code",
   "execution_count": 61,
   "metadata": {},
   "outputs": [
    {
     "ename": "NameError",
     "evalue": "name 'evolving_species' is not defined",
     "output_type": "error",
     "traceback": [
      "\u001b[1;31m---------------------------------------------------------------------------\u001b[0m",
      "\u001b[1;31mNameError\u001b[0m                                 Traceback (most recent call last)",
      "\u001b[1;32m<ipython-input-61-1dc45c2a12ef>\u001b[0m in \u001b[0;36m<module>\u001b[1;34m\u001b[0m\n\u001b[1;32m----> 1\u001b[1;33m \u001b[0mpopulation\u001b[0m\u001b[1;33m[\u001b[0m\u001b[1;34m\"firm\"\u001b[0m \u001b[1;33m+\u001b[0m \u001b[0mstr\u001b[0m\u001b[1;33m(\u001b[0m\u001b[0mevolving_species\u001b[0m\u001b[1;33m.\u001b[0m\u001b[0mindex\u001b[0m\u001b[1;33m)\u001b[0m\u001b[1;33m]\u001b[0m\u001b[1;33m[\u001b[0m\u001b[1;36m2\u001b[0m\u001b[1;33m-\u001b[0m\u001b[1;36m1\u001b[0m\u001b[1;33m:\u001b[0m\u001b[1;36m2\u001b[0m\u001b[1;33m+\u001b[0m\u001b[1;36m2\u001b[0m\u001b[1;33m,\u001b[0m \u001b[1;36m2\u001b[0m\u001b[1;33m-\u001b[0m\u001b[1;36m1\u001b[0m\u001b[1;33m:\u001b[0m\u001b[1;36m2\u001b[0m\u001b[1;33m+\u001b[0m\u001b[1;36m2\u001b[0m \u001b[1;33m]\u001b[0m\u001b[1;33m\u001b[0m\u001b[1;33m\u001b[0m\u001b[0m\n\u001b[0m",
      "\u001b[1;31mNameError\u001b[0m: name 'evolving_species' is not defined"
     ]
    }
   ],
   "source": [
    "population[\"firm\" + str(evolving_species.index)][2-1:2+2, 2-1:2+2 ]"
   ]
  },
  {
   "cell_type": "code",
   "execution_count": 62,
   "metadata": {},
   "outputs": [
    {
     "ename": "NameError",
     "evalue": "name 'evolving_species' is not defined",
     "output_type": "error",
     "traceback": [
      "\u001b[1;31m---------------------------------------------------------------------------\u001b[0m",
      "\u001b[1;31mNameError\u001b[0m                                 Traceback (most recent call last)",
      "\u001b[1;32m<ipython-input-62-baa4db02c776>\u001b[0m in \u001b[0;36m<module>\u001b[1;34m\u001b[0m\n\u001b[1;32m----> 1\u001b[1;33m \u001b[0mpopulation\u001b[0m\u001b[1;33m[\u001b[0m\u001b[1;34m\"firm\"\u001b[0m \u001b[1;33m+\u001b[0m \u001b[0mstr\u001b[0m\u001b[1;33m(\u001b[0m\u001b[0mevolving_species\u001b[0m\u001b[1;33m.\u001b[0m\u001b[0mindex\u001b[0m\u001b[1;33m)\u001b[0m\u001b[1;33m]\u001b[0m\u001b[1;33m.\u001b[0m\u001b[0mtake\u001b[0m\u001b[1;33m(\u001b[0m\u001b[0mrange\u001b[0m\u001b[1;33m(\u001b[0m\u001b[1;36m2\u001b[0m\u001b[1;33m-\u001b[0m\u001b[1;36m1\u001b[0m\u001b[1;33m,\u001b[0m\u001b[1;36m2\u001b[0m\u001b[1;33m+\u001b[0m\u001b[1;36m2\u001b[0m\u001b[1;33m)\u001b[0m\u001b[1;33m,\u001b[0m\u001b[0mmode\u001b[0m\u001b[1;33m=\u001b[0m\u001b[1;34m'wrap'\u001b[0m\u001b[1;33m,\u001b[0m \u001b[0maxis\u001b[0m\u001b[1;33m=\u001b[0m\u001b[1;36m0\u001b[0m\u001b[1;33m)\u001b[0m\u001b[1;33m.\u001b[0m\u001b[0mtake\u001b[0m\u001b[1;33m(\u001b[0m\u001b[0mrange\u001b[0m\u001b[1;33m(\u001b[0m\u001b[1;36m2\u001b[0m\u001b[1;33m-\u001b[0m\u001b[1;36m1\u001b[0m\u001b[1;33m,\u001b[0m\u001b[1;36m2\u001b[0m\u001b[1;33m+\u001b[0m\u001b[1;36m2\u001b[0m\u001b[1;33m)\u001b[0m\u001b[1;33m,\u001b[0m\u001b[0mmode\u001b[0m\u001b[1;33m=\u001b[0m\u001b[1;34m'wrap'\u001b[0m\u001b[1;33m,\u001b[0m\u001b[0maxis\u001b[0m\u001b[1;33m=\u001b[0m\u001b[1;36m1\u001b[0m\u001b[1;33m)\u001b[0m\u001b[1;33m\u001b[0m\u001b[1;33m\u001b[0m\u001b[0m\n\u001b[0m",
      "\u001b[1;31mNameError\u001b[0m: name 'evolving_species' is not defined"
     ]
    }
   ],
   "source": [
    "population[\"firm\" + str(evolving_species.index)].take(range(2-1,2+2),mode='wrap', axis=0).take(range(2-1,2+2),mode='wrap',axis=1)\n"
   ]
  },
  {
   "cell_type": "code",
   "execution_count": 63,
   "metadata": {},
   "outputs": [
    {
     "ename": "SyntaxError",
     "evalue": "invalid syntax (<ipython-input-63-a147c6a8845c>, line 1)",
     "output_type": "error",
     "traceback": [
      "\u001b[1;36m  File \u001b[1;32m\"<ipython-input-63-a147c6a8845c>\"\u001b[1;36m, line \u001b[1;32m1\u001b[0m\n\u001b[1;33m    np.choose([2-1:2+2, 2-1:2+2 ], population[\"firm\" + str(evolving_species.index)], mode='wrap')\u001b[0m\n\u001b[1;37m                  ^\u001b[0m\n\u001b[1;31mSyntaxError\u001b[0m\u001b[1;31m:\u001b[0m invalid syntax\n"
     ]
    }
   ],
   "source": [
    "np.choose([2-1:2+2, 2-1:2+2 ], population[\"firm\" + str(evolving_species.index)], mode='wrap')"
   ]
  },
  {
   "cell_type": "code",
   "execution_count": 64,
   "metadata": {},
   "outputs": [
    {
     "ename": "NameError",
     "evalue": "name 'evolving_species' is not defined",
     "output_type": "error",
     "traceback": [
      "\u001b[1;31m---------------------------------------------------------------------------\u001b[0m",
      "\u001b[1;31mNameError\u001b[0m                                 Traceback (most recent call last)",
      "\u001b[1;32m<ipython-input-64-7f630602018f>\u001b[0m in \u001b[0;36m<module>\u001b[1;34m\u001b[0m\n\u001b[1;32m----> 1\u001b[1;33m \u001b[1;34m\"population_\"\u001b[0m\u001b[1;33m+\u001b[0m\u001b[1;34m\"firm_\"\u001b[0m \u001b[1;33m+\u001b[0m \u001b[0mstr\u001b[0m\u001b[1;33m(\u001b[0m\u001b[0mevolving_species\u001b[0m\u001b[1;33m.\u001b[0m\u001b[0mindex\u001b[0m\u001b[1;33m)\u001b[0m\u001b[1;33m\u001b[0m\u001b[1;33m\u001b[0m\u001b[0m\n\u001b[0m",
      "\u001b[1;31mNameError\u001b[0m: name 'evolving_species' is not defined"
     ]
    }
   ],
   "source": [
    "\"population_\"+\"firm_\" + str(evolving_species.index) "
   ]
  },
  {
   "cell_type": "code",
   "execution_count": 65,
   "metadata": {},
   "outputs": [
    {
     "data": {
      "text/plain": [
       "2"
      ]
     },
     "execution_count": 65,
     "metadata": {},
     "output_type": "execute_result"
    }
   ],
   "source": [
    "evolving_species = random.choice(Firm._registry)\n",
    "evolving_species.index       "
   ]
  },
  {
   "cell_type": "code",
   "execution_count": 66,
   "metadata": {},
   "outputs": [
    {
     "data": {
      "text/plain": [
       "<__main__.Firm at 0x1dee6c9e100>"
      ]
     },
     "execution_count": 66,
     "metadata": {},
     "output_type": "execute_result"
    }
   ],
   "source": [
    "symbiotic_species = [ _ for _ in Firm._registry if _ != evolving_species]\n",
    "symbiotic_species[1]"
   ]
  },
  {
   "cell_type": "code",
   "execution_count": 67,
   "metadata": {},
   "outputs": [],
   "source": [
    "population[\"firm1\"] = data \n",
    "population[\"firm2\"] = data \n"
   ]
  },
  {
   "cell_type": "code",
   "execution_count": 68,
   "metadata": {},
   "outputs": [
    {
     "ename": "KeyError",
     "evalue": "'firm3'",
     "output_type": "error",
     "traceback": [
      "\u001b[1;31m---------------------------------------------------------------------------\u001b[0m",
      "\u001b[1;31mKeyError\u001b[0m                                  Traceback (most recent call last)",
      "\u001b[1;32m<ipython-input-68-4fb88f78b9e8>\u001b[0m in \u001b[0;36m<module>\u001b[1;34m\u001b[0m\n\u001b[1;32m----> 1\u001b[1;33m \u001b[0mpopulation\u001b[0m\u001b[1;33m[\u001b[0m\u001b[1;34m\"firm3\"\u001b[0m\u001b[1;33m]\u001b[0m\u001b[1;33m\u001b[0m\u001b[1;33m\u001b[0m\u001b[0m\n\u001b[0m",
      "\u001b[1;31mKeyError\u001b[0m: 'firm3'"
     ]
    }
   ],
   "source": [
    "population[\"firm3\"]"
   ]
  },
  {
   "cell_type": "code",
   "execution_count": 69,
   "metadata": {},
   "outputs": [
    {
     "data": {
      "text/plain": [
       "array([[[10.02733905, 10.30828729],\n",
       "        [10.95233229, 11.4304653 ],\n",
       "        [10.2605828 , 11.91957063],\n",
       "        [11.5573592 , 11.86083643]],\n",
       "\n",
       "       [[10.97351253, 10.54363103],\n",
       "        [11.35650611, 11.51352875],\n",
       "        [11.99289141, 10.24770857],\n",
       "        [10.9682427 , 11.28989747]],\n",
       "\n",
       "       [[11.83295401, 11.56082154],\n",
       "        [10.01660715, 10.67203462],\n",
       "        [11.20258701, 11.15884496],\n",
       "        [11.81119978, 10.90737755]],\n",
       "\n",
       "       [[10.434337  , 10.49046728],\n",
       "        [10.43582625, 10.82993221],\n",
       "        [11.16172744, 10.21555924],\n",
       "        [11.06490624, 10.07445328]]])"
      ]
     },
     "execution_count": 69,
     "metadata": {},
     "output_type": "execute_result"
    }
   ],
   "source": [
    "population[\"firm1\"]"
   ]
  },
  {
   "cell_type": "code",
   "execution_count": 70,
   "metadata": {},
   "outputs": [
    {
     "ename": "SyntaxError",
     "evalue": "invalid syntax (<ipython-input-70-5b2735f9d837>, line 1)",
     "output_type": "error",
     "traceback": [
      "\u001b[1;36m  File \u001b[1;32m\"<ipython-input-70-5b2735f9d837>\"\u001b[1;36m, line \u001b[1;32m1\u001b[0m\n\u001b[1;33m    symbiotic_population[] = [population[\"firm\" + str(_.index)]  for _ in Firm._registry if _ != evolving_species ]\u001b[0m\n\u001b[1;37m                         ^\u001b[0m\n\u001b[1;31mSyntaxError\u001b[0m\u001b[1;31m:\u001b[0m invalid syntax\n"
     ]
    }
   ],
   "source": [
    "symbiotic_population[] = [population[\"firm\" + str(_.index)]  for _ in Firm._registry if _ != evolving_species ]\n",
    "symbiotic_population[\"firm1\"]"
   ]
  },
  {
   "cell_type": "code",
   "execution_count": 71,
   "metadata": {},
   "outputs": [
    {
     "ename": "KeyError",
     "evalue": "'firm3'",
     "output_type": "error",
     "traceback": [
      "\u001b[1;31m---------------------------------------------------------------------------\u001b[0m",
      "\u001b[1;31mKeyError\u001b[0m                                  Traceback (most recent call last)",
      "\u001b[1;32m<ipython-input-71-c44f0239d33d>\u001b[0m in \u001b[0;36m<module>\u001b[1;34m\u001b[0m\n\u001b[0;32m      1\u001b[0m \u001b[0msymbiotic_population\u001b[0m \u001b[1;33m=\u001b[0m \u001b[1;33m{\u001b[0m\u001b[1;33m}\u001b[0m\u001b[1;33m\u001b[0m\u001b[1;33m\u001b[0m\u001b[0m\n\u001b[0;32m      2\u001b[0m \u001b[1;32mfor\u001b[0m \u001b[0m_\u001b[0m \u001b[1;32min\u001b[0m \u001b[1;33m(\u001b[0m\u001b[0msymbiotic_species\u001b[0m\u001b[1;33m)\u001b[0m\u001b[1;33m:\u001b[0m\u001b[1;33m\u001b[0m\u001b[1;33m\u001b[0m\u001b[0m\n\u001b[1;32m----> 3\u001b[1;33m     \u001b[0msymbiotic_population\u001b[0m\u001b[1;33m[\u001b[0m\u001b[1;34m\"firm\"\u001b[0m \u001b[1;33m+\u001b[0m \u001b[0mstr\u001b[0m\u001b[1;33m(\u001b[0m\u001b[0m_\u001b[0m\u001b[1;33m.\u001b[0m\u001b[0mindex\u001b[0m\u001b[1;33m)\u001b[0m\u001b[1;33m]\u001b[0m \u001b[1;33m=\u001b[0m \u001b[0mpopulation\u001b[0m\u001b[1;33m[\u001b[0m\u001b[1;34m\"firm\"\u001b[0m \u001b[1;33m+\u001b[0m \u001b[0mstr\u001b[0m\u001b[1;33m(\u001b[0m\u001b[0m_\u001b[0m\u001b[1;33m.\u001b[0m\u001b[0mindex\u001b[0m\u001b[1;33m)\u001b[0m\u001b[1;33m]\u001b[0m\u001b[1;33m\u001b[0m\u001b[1;33m\u001b[0m\u001b[0m\n\u001b[0m\u001b[0;32m      4\u001b[0m \u001b[1;33m\u001b[0m\u001b[0m\n",
      "\u001b[1;31mKeyError\u001b[0m: 'firm3'"
     ]
    }
   ],
   "source": [
    "symbiotic_population = {}\n",
    "for _ in (symbiotic_species):\n",
    "    symbiotic_population[\"firm\" + str(_.index)] = population[\"firm\" + str(_.index)]  \n",
    "   "
   ]
  },
  {
   "cell_type": "code",
   "execution_count": 72,
   "metadata": {},
   "outputs": [
    {
     "ename": "IndexError",
     "evalue": "only integers, slices (`:`), ellipsis (`...`), numpy.newaxis (`None`) and integer or boolean arrays are valid indices",
     "output_type": "error",
     "traceback": [
      "\u001b[1;31m---------------------------------------------------------------------------\u001b[0m",
      "\u001b[1;31mIndexError\u001b[0m                                Traceback (most recent call last)",
      "\u001b[1;32m<ipython-input-72-8e0d1d110412>\u001b[0m in \u001b[0;36m<module>\u001b[1;34m\u001b[0m\n\u001b[1;32m----> 1\u001b[1;33m \u001b[0msymbiotic_population\u001b[0m\u001b[1;33m[\u001b[0m\u001b[1;34m'firm1'\u001b[0m\u001b[1;33m]\u001b[0m\u001b[1;33m[\u001b[0m\u001b[1;34m''\u001b[0m\u001b[1;33m]\u001b[0m\u001b[1;33m\u001b[0m\u001b[1;33m\u001b[0m\u001b[0m\n\u001b[0m",
      "\u001b[1;31mIndexError\u001b[0m: only integers, slices (`:`), ellipsis (`...`), numpy.newaxis (`None`) and integer or boolean arrays are valid indices"
     ]
    }
   ],
   "source": [
    "symbiotic_population['firm1']['']"
   ]
  },
  {
   "cell_type": "code",
   "execution_count": 73,
   "metadata": {},
   "outputs": [
    {
     "ename": "KeyError",
     "evalue": "'firm3'",
     "output_type": "error",
     "traceback": [
      "\u001b[1;31m---------------------------------------------------------------------------\u001b[0m",
      "\u001b[1;31mKeyError\u001b[0m                                  Traceback (most recent call last)",
      "\u001b[1;32m<ipython-input-73-c052ef5557b6>\u001b[0m in \u001b[0;36m<module>\u001b[1;34m\u001b[0m\n\u001b[0;32m      1\u001b[0m \u001b[0msymbiotic_neighberhood\u001b[0m \u001b[1;33m=\u001b[0m\u001b[1;33m{\u001b[0m\u001b[1;33m}\u001b[0m\u001b[1;33m\u001b[0m\u001b[1;33m\u001b[0m\u001b[0m\n\u001b[0;32m      2\u001b[0m \u001b[1;32mfor\u001b[0m \u001b[0m_\u001b[0m \u001b[1;32min\u001b[0m \u001b[1;33m(\u001b[0m\u001b[0msymbiotic_species\u001b[0m\u001b[1;33m)\u001b[0m\u001b[1;33m:\u001b[0m\u001b[1;33m\u001b[0m\u001b[1;33m\u001b[0m\u001b[0m\n\u001b[1;32m----> 3\u001b[1;33m     symbiotic_neighberhood[\"firm\" + str(_.index)] = symbiotic_population[\"firm\" + str(_.index)].take(range(2 - 1,\n\u001b[0m\u001b[0;32m      4\u001b[0m                                                        2 + 2 ),\n\u001b[0;32m      5\u001b[0m                                                  \u001b[0mmode\u001b[0m\u001b[1;33m=\u001b[0m\u001b[1;34m'wrap'\u001b[0m\u001b[1;33m,\u001b[0m\u001b[1;33m\u001b[0m\u001b[1;33m\u001b[0m\u001b[0m\n",
      "\u001b[1;31mKeyError\u001b[0m: 'firm3'"
     ]
    }
   ],
   "source": [
    "symbiotic_neighberhood ={}\n",
    "for _ in (symbiotic_species):\n",
    "    symbiotic_neighberhood[\"firm\" + str(_.index)] = symbiotic_population[\"firm\" + str(_.index)].take(range(2 - 1,\n",
    "                                                       2 + 2 ),\n",
    "                                                 mode='wrap', \n",
    "                                                 axis = 0).take(range(2 - 1, \n",
    "                                                                      2 + 2),\n",
    "                                                                mode='wrap',\n",
    "                                                                axis=1)"
   ]
  },
  {
   "cell_type": "code",
   "execution_count": 74,
   "metadata": {},
   "outputs": [
    {
     "data": {
      "text/plain": [
       "array([[[11.35650611, 11.51352875],\n",
       "        [11.99289141, 10.24770857],\n",
       "        [10.9682427 , 11.28989747]],\n",
       "\n",
       "       [[10.01660715, 10.67203462],\n",
       "        [11.20258701, 11.15884496],\n",
       "        [11.81119978, 10.90737755]],\n",
       "\n",
       "       [[10.43582625, 10.82993221],\n",
       "        [11.16172744, 10.21555924],\n",
       "        [11.06490624, 10.07445328]]])"
      ]
     },
     "execution_count": 74,
     "metadata": {},
     "output_type": "execute_result"
    }
   ],
   "source": [
    "symbiotic_neighberhood[\"firm1\" ]#[0][1]\n"
   ]
  },
  {
   "cell_type": "code",
   "execution_count": 75,
   "metadata": {},
   "outputs": [],
   "source": [
    "#evolving_population\n",
    "candidate_partner ={}"
   ]
  },
  {
   "cell_type": "code",
   "execution_count": 76,
   "metadata": {},
   "outputs": [],
   "source": [
    "candidate_partner[\"firm1\"] = np.reshape(symbiotic_neighberhood[\"firm1\" ], (9, 2)) #(l*m, n)"
   ]
  },
  {
   "cell_type": "code",
   "execution_count": 77,
   "metadata": {},
   "outputs": [
    {
     "ename": "KeyError",
     "evalue": "'firm2'",
     "output_type": "error",
     "traceback": [
      "\u001b[1;31m---------------------------------------------------------------------------\u001b[0m",
      "\u001b[1;31mKeyError\u001b[0m                                  Traceback (most recent call last)",
      "\u001b[1;32m<ipython-input-77-12ac481a5896>\u001b[0m in \u001b[0;36m<module>\u001b[1;34m\u001b[0m\n\u001b[1;32m----> 1\u001b[1;33m \u001b[0mcandidate_partner\u001b[0m\u001b[1;33m[\u001b[0m\u001b[1;34m\"firm2\"\u001b[0m\u001b[1;33m]\u001b[0m \u001b[1;33m=\u001b[0m \u001b[0mnp\u001b[0m\u001b[1;33m.\u001b[0m\u001b[0mreshape\u001b[0m\u001b[1;33m(\u001b[0m\u001b[0msymbiotic_neighberhood\u001b[0m\u001b[1;33m[\u001b[0m\u001b[1;34m\"firm2\"\u001b[0m \u001b[1;33m]\u001b[0m\u001b[1;33m,\u001b[0m \u001b[1;33m(\u001b[0m\u001b[1;36m9\u001b[0m\u001b[1;33m,\u001b[0m \u001b[1;36m2\u001b[0m\u001b[1;33m)\u001b[0m\u001b[1;33m)\u001b[0m \u001b[1;31m#(l*m, n)\u001b[0m\u001b[1;33m\u001b[0m\u001b[1;33m\u001b[0m\u001b[0m\n\u001b[0m",
      "\u001b[1;31mKeyError\u001b[0m: 'firm2'"
     ]
    }
   ],
   "source": [
    "candidate_partner[\"firm2\"] = np.reshape(symbiotic_neighberhood[\"firm2\" ], (9, 2)) #(l*m, n)"
   ]
  },
  {
   "cell_type": "code",
   "execution_count": 78,
   "metadata": {},
   "outputs": [
    {
     "data": {
      "text/plain": [
       "array([11.35650611, 11.51352875])"
      ]
     },
     "execution_count": 78,
     "metadata": {},
     "output_type": "execute_result"
    }
   ],
   "source": [
    "candidate_partner['firm1'][0]"
   ]
  },
  {
   "cell_type": "code",
   "execution_count": 905,
   "metadata": {},
   "outputs": [],
   "source": [
    "carbon_emissions={}\n",
    "carbon_emissions[\"firm1\"]={}\n",
    "carbon_emissions[\"firm2\"]={}\n",
    "carbon_emissions[\"firm3\"]={}\n",
    "carbon_emissions[\"firm1\"][\"chromo0\"]= [3,10] \n",
    "carbon_emissions[\"firm1\"][\"chromo1\"]= [4,15]\n",
    "carbon_emissions[\"firm2\"][\"chromo0\"]= [5,16] \n",
    "carbon_emissions[\"firm2\"][\"chromo1\"]= [6,16] \n",
    "carbon_emissions[\"firm3\"][\"chromo0\"]= [7,17]\n",
    "carbon_emissions[\"firm3\"][\"chromo1\"]= [8,18]\n",
    "carbon_emissions"
   ]
  },
  {
   "cell_type": "code",
   "execution_count": 906,
   "metadata": {},
   "outputs": [],
   "source": [
    "carbon_emissions[\"firm1\"]={}\n",
    "carbon_emissions[\"firm2\"]={}\n",
    "carbon_emissions[\"firm3\"]={}"
   ]
  },
  {
   "cell_type": "code",
   "execution_count": 907,
   "metadata": {},
   "outputs": [
    {
     "data": {
      "text/plain": [
       "{'firm1': {'chromo0': [3, 10], 'chromo1': [4, 15]},\n",
       " 'firm2': {'chromo0': [5, 16], 'chromo1': [6, 16]},\n",
       " 'firm3': {'chromo0': [7, 17], 'chromo1': [8, 18]}}"
      ]
     },
     "execution_count": 907,
     "metadata": {},
     "output_type": "execute_result"
    }
   ],
   "source": [
    "carbon_emissions[\"firm1\"][\"chromo0\"]= [3,10] \n",
    "carbon_emissions[\"firm1\"][\"chromo1\"]= [4,15]\n",
    "carbon_emissions[\"firm2\"][\"chromo0\"]= [5,16] \n",
    "carbon_emissions[\"firm2\"][\"chromo1\"]= [6,16] \n",
    "carbon_emissions[\"firm3\"][\"chromo0\"]= [7,17]\n",
    "carbon_emissions[\"firm3\"][\"chromo1\"]= [8,18]\n",
    "carbon_emissions"
   ]
  },
  {
   "cell_type": "code",
   "execution_count": 1173,
   "metadata": {},
   "outputs": [
    {
     "data": {
      "text/plain": [
       "{'firm1': {'chromo0': [3, 10, 20], 'chromo1': [4, 15, 30]},\n",
       " 'firm2': {'chromo0': [5, 16, 40], 'chromo1': [6, 16, 50]},\n",
       " 'firm3': {'chromo0': [7, 17, 60], 'chromo1': [8, 18, 70]}}"
      ]
     },
     "execution_count": 1173,
     "metadata": {},
     "output_type": "execute_result"
    }
   ],
   "source": [
    "carbon_emissions"
   ]
  },
  {
   "cell_type": "code",
   "execution_count": 859,
   "metadata": {},
   "outputs": [
    {
     "data": {
      "text/plain": [
       "[('firm1', 'chromo0'), ('firm2', 'chromo0'), ('firm3', 'chromo0')]"
      ]
     },
     "execution_count": 859,
     "metadata": {},
     "output_type": "execute_result"
    }
   ],
   "source": [
    "q = [list(zip(carbon_emissions.keys(), a)) for a in itertools.product(*carbon_emissions.values())]\n",
    "q[0]"
   ]
  },
  {
   "cell_type": "code",
   "execution_count": 860,
   "metadata": {},
   "outputs": [],
   "source": [
    "q[0]#['firm1']\n",
    "bobo = {}"
   ]
  },
  {
   "cell_type": "code",
   "execution_count": 861,
   "metadata": {},
   "outputs": [
    {
     "ename": "KeyError",
     "evalue": "0",
     "output_type": "error",
     "traceback": [
      "\u001b[1;31m---------------------------------------------------------------------------\u001b[0m",
      "\u001b[1;31mKeyError\u001b[0m                                  Traceback (most recent call last)",
      "\u001b[1;32m<ipython-input-861-47e0f60e61fc>\u001b[0m in \u001b[0;36m<module>\u001b[1;34m\u001b[0m\n\u001b[0;32m      3\u001b[0m     \u001b[1;32mfor\u001b[0m \u001b[0mfirm\u001b[0m \u001b[1;32min\u001b[0m \u001b[0mmycombo\u001b[0m\u001b[1;33m[\u001b[0m\u001b[0m_\u001b[0m\u001b[1;33m]\u001b[0m\u001b[1;33m.\u001b[0m\u001b[0mkeys\u001b[0m\u001b[1;33m(\u001b[0m\u001b[1;33m)\u001b[0m\u001b[1;33m:\u001b[0m\u001b[1;33m\u001b[0m\u001b[1;33m\u001b[0m\u001b[0m\n\u001b[0;32m      4\u001b[0m         mycombo[_].update({str(firm): {str(mycombo[_][str(firm)]): \n\u001b[1;32m----> 5\u001b[1;33m                          carbon_emissions[str(firm)][str(bobo[0][str(firm)])]}})\n\u001b[0m\u001b[0;32m      6\u001b[0m \u001b[1;33m\u001b[0m\u001b[0m\n",
      "\u001b[1;31mKeyError\u001b[0m: 0"
     ]
    }
   ],
   "source": [
    "combo = [dict(zip(carbon_emissions.keys(), a)) for a in itertools.product(*carbon_emissions.values())]\n",
    "for _ in range(len(mycombo)):\n",
    "    for firm in mycombo[_].keys():\n",
    "        mycombo[_].update({str(firm): {str(mycombo[_][str(firm)]): \n",
    "                         carbon_emissions[str(firm)][str(bobo[0][str(firm)])]}})\n",
    "\n"
   ]
  },
  {
   "cell_type": "code",
   "execution_count": 892,
   "metadata": {},
   "outputs": [
    {
     "data": {
      "text/plain": [
       "[{'firm1': {'chromo0': [3, 10]},\n",
       "  'firm2': {'chromo0': [5, 16]},\n",
       "  'firm3': {'chromo0': [7, 17]},\n",
       "  'em': {}},\n",
       " {'firm1': {'chromo0': [3, 10]},\n",
       "  'firm2': {'chromo0': [5, 16]},\n",
       "  'firm3': {'chromo1': [8, 18]},\n",
       "  'em': {}},\n",
       " {'firm1': {'chromo0': [3, 10]},\n",
       "  'firm2': {'chromo1': [6, 16]},\n",
       "  'firm3': {'chromo0': [7, 17]},\n",
       "  'em': {}},\n",
       " {'firm1': {'chromo0': [3, 10]},\n",
       "  'firm2': {'chromo1': [6, 16]},\n",
       "  'firm3': {'chromo1': [8, 18]},\n",
       "  'em': {}},\n",
       " {'firm1': {'chromo1': [4, 15]},\n",
       "  'firm2': {'chromo0': [5, 16]},\n",
       "  'firm3': {'chromo0': [7, 17]},\n",
       "  'em': {}},\n",
       " {'firm1': {'chromo1': [4, 15]},\n",
       "  'firm2': {'chromo0': [5, 16]},\n",
       "  'firm3': {'chromo1': [8, 18]},\n",
       "  'em': {}},\n",
       " {'firm1': {'chromo1': [4, 15]},\n",
       "  'firm2': {'chromo1': [6, 16]},\n",
       "  'firm3': {'chromo0': [7, 17]},\n",
       "  'em': {}},\n",
       " {'firm1': {'chromo1': [4, 15]},\n",
       "  'firm2': {'chromo1': [6, 16]},\n",
       "  'firm3': {'chromo1': [8, 18]},\n",
       "  'em': {}}]"
      ]
     },
     "execution_count": 892,
     "metadata": {},
     "output_type": "execute_result"
    }
   ],
   "source": [
    "industry_carbon_emission_combo"
   ]
  },
  {
   "cell_type": "code",
   "execution_count": 936,
   "metadata": {},
   "outputs": [],
   "source": [
    "industry_carbon_emission_combo={}\n",
    "industry_carbon_emission_combo = [dict(zip(carbon_emissions.keys(), a)) for a in itertools.product(*carbon_emissions.values())]\n",
    "for _ in range(len(industry_carbon_emission_combo)):\n",
    "    for firm in industry_carbon_emission_combo[_].keys():\n",
    "        industry_carbon_emission_combo[_].update({str(firm): {str(industry_carbon_emission_combo[_][str(firm)]): \n",
    "                                 carbon_emissions[str(firm)][str(industry_carbon_emission_combo[_][str(firm)])]}})\n",
    "industry_carbon_emission_combo\n",
    "\n",
    "for _ in range(len(industry_carbon_emission_combo)):\n",
    "    industry_carbon_emission_combo[_][\"industry_carbon_emission\"] = 0\n",
    "    for firm in firms:\n",
    "        #print(firm)\n",
    "        chromos, firm_carbon_emission = zip(*industry_carbon_emission_combo[_][str(firm)].items())\n",
    "        industry_carbon_emission_combo[_][\"industry_carbon_emission\"] += np.array(industry_carbon_emission_combo[_].get(str(firm)).get(str(chromos[0])))\n",
    "\n"
   ]
  },
  {
   "cell_type": "code",
   "execution_count": 924,
   "metadata": {},
   "outputs": [
    {
     "data": {
      "text/plain": [
       "[{'firm1': {'chromo0': [3, 10]},\n",
       "  'firm2': {'chromo0': [5, 16]},\n",
       "  'firm3': {'chromo0': [7, 17]}},\n",
       " {'firm1': {'chromo0': [3, 10]},\n",
       "  'firm2': {'chromo0': [5, 16]},\n",
       "  'firm3': {'chromo1': [8, 18]}},\n",
       " {'firm1': {'chromo0': [3, 10]},\n",
       "  'firm2': {'chromo1': [6, 16]},\n",
       "  'firm3': {'chromo0': [7, 17]}},\n",
       " {'firm1': {'chromo0': [3, 10]},\n",
       "  'firm2': {'chromo1': [6, 16]},\n",
       "  'firm3': {'chromo1': [8, 18]}},\n",
       " {'firm1': {'chromo1': [4, 15]},\n",
       "  'firm2': {'chromo0': [5, 16]},\n",
       "  'firm3': {'chromo0': [7, 17]}},\n",
       " {'firm1': {'chromo1': [4, 15]},\n",
       "  'firm2': {'chromo0': [5, 16]},\n",
       "  'firm3': {'chromo1': [8, 18]}},\n",
       " {'firm1': {'chromo1': [4, 15]},\n",
       "  'firm2': {'chromo1': [6, 16]},\n",
       "  'firm3': {'chromo0': [7, 17]}},\n",
       " {'firm1': {'chromo1': [4, 15]},\n",
       "  'firm2': {'chromo1': [6, 16]},\n",
       "  'firm3': {'chromo1': [8, 18]}}]"
      ]
     },
     "execution_count": 924,
     "metadata": {},
     "output_type": "execute_result"
    }
   ],
   "source": [
    "industry_carbon_emission_combo = [dict(zip(carbon_emissions.keys(), a)) for a in itertools.product(*carbon_emissions.values())]\n",
    "for _ in range(len(industry_carbon_emission_combo)):\n",
    "    for firm in industry_carbon_emission_combo[_].keys():\n",
    "        industry_carbon_emission_combo[_].update({str(firm): {str(industry_carbon_emission_combo[_][str(firm)]): \n",
    "                                 carbon_emissions[str(firm)][str(industry_carbon_emission_combo[_][str(firm)])]}})\n",
    "industry_carbon_emission_combo"
   ]
  },
  {
   "cell_type": "code",
   "execution_count": 925,
   "metadata": {},
   "outputs": [
    {
     "data": {
      "text/plain": [
       "['firm1', 'firm2', 'firm3']"
      ]
     },
     "execution_count": 925,
     "metadata": {},
     "output_type": "execute_result"
    }
   ],
   "source": [
    "firms = list (industry_carbon_emission_combo[0].keys())\n",
    "firms"
   ]
  },
  {
   "cell_type": "code",
   "execution_count": 926,
   "metadata": {},
   "outputs": [
    {
     "name": "stdout",
     "output_type": "stream",
     "text": [
      "[ 8 18]\n",
      "[ 8 18]\n",
      "[ 8 18]\n",
      "[ 8 18]\n",
      "[ 8 18]\n",
      "[ 8 18]\n",
      "[ 8 18]\n",
      "[ 8 18]\n",
      "[ 8 18]\n",
      "[ 8 18]\n",
      "[ 8 18]\n",
      "[ 8 18]\n",
      "[ 8 18]\n",
      "[ 8 18]\n",
      "[ 8 18]\n",
      "[ 8 18]\n",
      "[ 8 18]\n",
      "[ 8 18]\n",
      "[ 8 18]\n",
      "[ 8 18]\n",
      "[ 8 18]\n",
      "[ 8 18]\n",
      "[ 8 18]\n",
      "[ 8 18]\n"
     ]
    }
   ],
   "source": [
    "for _ in range(len(industry_carbon_emission_combo)):\n",
    "    industry_carbon_emission_combo[_][\"industry_carbon_emission\"] = 0\n",
    "    for firm in firms:\n",
    "        #print(firm)\n",
    "        chromos, firm_carbon_emission = zip(*industry_carbon_emission_combo[_][str(firm)].items())\n",
    "        industry_carbon_emission_combo[_][\"industry_carbon_emission\"] += np.array(industry_carbon_emission_combo[_].get(str(firm)).get(str(chromos[0])))\n"
   ]
  },
  {
   "cell_type": "code",
   "execution_count": 929,
   "metadata": {},
   "outputs": [
    {
     "data": {
      "text/plain": [
       "array([15, 43])"
      ]
     },
     "execution_count": 929,
     "metadata": {},
     "output_type": "execute_result"
    }
   ],
   "source": [
    "industry_carbon_emission_combo[0]['industry_carbon_emission']"
   ]
  },
  {
   "cell_type": "code",
   "execution_count": null,
   "metadata": {},
   "outputs": [],
   "source": []
  },
  {
   "cell_type": "code",
   "execution_count": 833,
   "metadata": {},
   "outputs": [
    {
     "data": {
      "text/plain": [
       "[3, 10]"
      ]
     },
     "execution_count": 833,
     "metadata": {},
     "output_type": "execute_result"
    }
   ],
   "source": [
    "industry_carbon_emission_combo[0]['firm1'].get('chromo0')"
   ]
  },
  {
   "cell_type": "code",
   "execution_count": 758,
   "metadata": {},
   "outputs": [
    {
     "data": {
      "text/plain": [
       "dict_items([('chromo0', [3, 10])])"
      ]
     },
     "execution_count": 758,
     "metadata": {},
     "output_type": "execute_result"
    }
   ],
   "source": [
    "industry_carbon_emission_combo[0]['firm1'].items()"
   ]
  },
  {
   "cell_type": "code",
   "execution_count": null,
   "metadata": {},
   "outputs": [],
   "source": [
    "industry_carbon_emission_combo[0]['firm1'].get('chromo0')"
   ]
  },
  {
   "cell_type": "code",
   "execution_count": 768,
   "metadata": {},
   "outputs": [
    {
     "ename": "AttributeError",
     "evalue": "'str' object has no attribute 'keys'",
     "output_type": "error",
     "traceback": [
      "\u001b[1;31m---------------------------------------------------------------------------\u001b[0m",
      "\u001b[1;31mAttributeError\u001b[0m                            Traceback (most recent call last)",
      "\u001b[1;32m<ipython-input-768-2419cfa133b9>\u001b[0m in \u001b[0;36m<module>\u001b[1;34m\u001b[0m\n\u001b[0;32m      1\u001b[0m \u001b[0mfirm\u001b[0m \u001b[1;33m=\u001b[0m \u001b[1;34m'firm1'\u001b[0m\u001b[1;33m\u001b[0m\u001b[1;33m\u001b[0m\u001b[0m\n\u001b[1;32m----> 2\u001b[1;33m \u001b[1;32mfor\u001b[0m \u001b[0mbla\u001b[0m \u001b[1;32min\u001b[0m \u001b[1;33m(\u001b[0m\u001b[1;33m(\u001b[0m\u001b[0mindustry_carbon_emission_combo\u001b[0m\u001b[1;33m[\u001b[0m\u001b[1;36m0\u001b[0m\u001b[1;33m]\u001b[0m\u001b[1;33m[\u001b[0m\u001b[1;34m\"firm1\"\u001b[0m\u001b[1;33m]\u001b[0m\u001b[1;33m.\u001b[0m\u001b[0mkeys\u001b[0m\u001b[1;33m(\u001b[0m\u001b[1;33m)\u001b[0m\u001b[1;33m)\u001b[0m\u001b[1;33m)\u001b[0m\u001b[1;33m:\u001b[0m\u001b[1;33m\u001b[0m\u001b[1;33m\u001b[0m\u001b[0m\n\u001b[0m\u001b[0;32m      3\u001b[0m     \u001b[0mprint\u001b[0m\u001b[1;33m(\u001b[0m\u001b[0mbla\u001b[0m\u001b[1;33m)\u001b[0m\u001b[1;33m\u001b[0m\u001b[1;33m\u001b[0m\u001b[0m\n",
      "\u001b[1;31mAttributeError\u001b[0m: 'str' object has no attribute 'keys'"
     ]
    }
   ],
   "source": [
    "firm = 'firm1'\n",
    "\n",
    "\n",
    "\n",
    "for bla in ((industry_carbon_emission_combo[0][\"firm1\"].keys())):\n",
    "    print(bla)"
   ]
  },
  {
   "cell_type": "code",
   "execution_count": 704,
   "metadata": {},
   "outputs": [
    {
     "data": {
      "text/plain": [
       "[[3, 10]]"
      ]
     },
     "execution_count": 704,
     "metadata": {},
     "output_type": "execute_result"
    }
   ],
   "source": [
    "list(industry_carbon_emission_combo[0]['firm1'].values())\n"
   ]
  },
  {
   "cell_type": "code",
   "execution_count": 710,
   "metadata": {},
   "outputs": [
    {
     "ename": "TypeError",
     "evalue": "fromiter() missing required argument 'dtype' (pos 2)",
     "output_type": "error",
     "traceback": [
      "\u001b[1;31m---------------------------------------------------------------------------\u001b[0m",
      "\u001b[1;31mTypeError\u001b[0m                                 Traceback (most recent call last)",
      "\u001b[1;32m<ipython-input-710-19043100330e>\u001b[0m in \u001b[0;36m<module>\u001b[1;34m\u001b[0m\n\u001b[0;32m      1\u001b[0m \u001b[0mgen\u001b[0m \u001b[1;33m=\u001b[0m \u001b[1;33m(\u001b[0m\u001b[0mlist\u001b[0m\u001b[1;33m(\u001b[0m\u001b[0mindustry_carbon_emission_combo\u001b[0m\u001b[1;33m[\u001b[0m\u001b[1;36m0\u001b[0m\u001b[1;33m]\u001b[0m\u001b[1;33m[\u001b[0m\u001b[0mstr\u001b[0m\u001b[1;33m(\u001b[0m\u001b[0mfirm\u001b[0m\u001b[1;33m)\u001b[0m\u001b[1;33m]\u001b[0m\u001b[1;33m.\u001b[0m\u001b[0mvalues\u001b[0m\u001b[1;33m(\u001b[0m\u001b[1;33m)\u001b[0m\u001b[1;33m)\u001b[0m \u001b[1;32mfor\u001b[0m \u001b[0mfirm\u001b[0m \u001b[1;32min\u001b[0m \u001b[0mindustry_carbon_emission_combo\u001b[0m\u001b[1;33m[\u001b[0m\u001b[0m_\u001b[0m\u001b[1;33m]\u001b[0m\u001b[1;33m.\u001b[0m\u001b[0mkeys\u001b[0m\u001b[1;33m(\u001b[0m\u001b[1;33m)\u001b[0m\u001b[1;33m)\u001b[0m\u001b[1;33m\u001b[0m\u001b[1;33m\u001b[0m\u001b[0m\n\u001b[0;32m      2\u001b[0m \u001b[1;33m\u001b[0m\u001b[0m\n\u001b[1;32m----> 3\u001b[1;33m \u001b[0mnp\u001b[0m\u001b[1;33m.\u001b[0m\u001b[0msum\u001b[0m\u001b[1;33m(\u001b[0m\u001b[0mnp\u001b[0m\u001b[1;33m.\u001b[0m\u001b[0mfromiter\u001b[0m\u001b[1;33m(\u001b[0m\u001b[0mgen\u001b[0m\u001b[1;33m)\u001b[0m\u001b[1;33m)\u001b[0m\u001b[1;33m\u001b[0m\u001b[1;33m\u001b[0m\u001b[0m\n\u001b[0m",
      "\u001b[1;31mTypeError\u001b[0m: fromiter() missing required argument 'dtype' (pos 2)"
     ]
    }
   ],
   "source": [
    "gen = (list(industry_carbon_emission_combo[0][str(firm)].values()) for firm in industry_carbon_emission_combo[_].keys())\n",
    "\n",
    "np.sum(np.fromiter(gen))"
   ]
  },
  {
   "cell_type": "code",
   "execution_count": 660,
   "metadata": {},
   "outputs": [
    {
     "data": {
      "text/plain": [
       "dict_values([{'chromo0': [3, 10]}, {'chromo0': [5, 16]}, {'chromo0': [7, 17]}])"
      ]
     },
     "execution_count": 660,
     "metadata": {},
     "output_type": "execute_result"
    }
   ],
   "source": [
    "industry_carbon_emission_combo[0].values()"
   ]
  },
  {
   "cell_type": "code",
   "execution_count": 917,
   "metadata": {},
   "outputs": [
    {
     "data": {
      "text/plain": [
       "array([15, 43])"
      ]
     },
     "execution_count": 917,
     "metadata": {},
     "output_type": "execute_result"
    }
   ],
   "source": [
    "x=np.array(industry_carbon_emission_combo[0].get('firm1').get(\"chromo0\"))\n",
    "y=np.array(industry_carbon_emission_combo[0].get('firm2').get(\"chromo0\"))\n",
    "z=np.array(industry_carbon_emission_combo[0].get('firm3').get(\"chromo0\"))\n",
    "\n",
    "# np.sum([np.array(industry_carbon_emission_combo[0].get('firm1').get(\"chromo0\")),\n",
    "#         np.array(industry_carbon_emission_combo[0].get('firm2').get(\"chromo0\")),\n",
    "#         np.array(industry_carbon_emission_combo[0].get('firm3').get(\"chromo0\"))],\n",
    "#        axis=0)\n",
    "x+y+z\n"
   ]
  },
  {
   "cell_type": "code",
   "execution_count": 918,
   "metadata": {},
   "outputs": [
    {
     "data": {
      "text/plain": [
       "array([ 3, 10])"
      ]
     },
     "execution_count": 918,
     "metadata": {},
     "output_type": "execute_result"
    }
   ],
   "source": [
    "x"
   ]
  },
  {
   "cell_type": "code",
   "execution_count": 790,
   "metadata": {},
   "outputs": [
    {
     "data": {
      "text/plain": [
       "[3, 10]"
      ]
     },
     "execution_count": 790,
     "metadata": {},
     "output_type": "execute_result"
    }
   ],
   "source": [
    "keys, values = zip(*industry_carbon_emission_combo[0]['firm1'].items())\n",
    "keys[0]\n",
    "values[0]"
   ]
  },
  {
   "cell_type": "code",
   "execution_count": 791,
   "metadata": {},
   "outputs": [
    {
     "data": {
      "text/plain": [
       "[3, 10]"
      ]
     },
     "execution_count": 791,
     "metadata": {},
     "output_type": "execute_result"
    }
   ],
   "source": [
    "industry_carbon_emission_combo[0]['firm1'].get('chromo0')"
   ]
  },
  {
   "cell_type": "code",
   "execution_count": null,
   "metadata": {},
   "outputs": [],
   "source": [
    "np.sum([np.array(industry_carbon_emission_combo[0].get('firm1').get(\"chromo0\")),\n",
    "        np.array(industry_carbon_emission_combo[0].get('firm2').get(\"chromo0\")),\n",
    "        np.array(industry_carbon_emission_combo[0].get('firm3').get(\"chromo0\"))],\n",
    "       axis=0)"
   ]
  },
  {
   "cell_type": "code",
   "execution_count": 683,
   "metadata": {},
   "outputs": [
    {
     "data": {
      "text/plain": [
       "dict_values([[3, 10]])"
      ]
     },
     "execution_count": 683,
     "metadata": {},
     "output_type": "execute_result"
    }
   ],
   "source": [
    "industry_carbon_emission_combo[0][\"firm1\"].values()"
   ]
  },
  {
   "cell_type": "code",
   "execution_count": 743,
   "metadata": {},
   "outputs": [
    {
     "data": {
      "text/plain": [
       "['chromo1']"
      ]
     },
     "execution_count": 743,
     "metadata": {},
     "output_type": "execute_result"
    }
   ],
   "source": [
    "list(industry_carbon_emission_combo[3]['firm2'].keys())"
   ]
  },
  {
   "cell_type": "code",
   "execution_count": 828,
   "metadata": {},
   "outputs": [
    {
     "data": {
      "text/plain": [
       "{}"
      ]
     },
     "execution_count": 828,
     "metadata": {},
     "output_type": "execute_result"
    }
   ],
   "source": [
    "industry_carbon_emission_combo = {}\n",
    "industry_carbon_emission_combo\n"
   ]
  },
  {
   "cell_type": "code",
   "execution_count": 870,
   "metadata": {},
   "outputs": [
    {
     "data": {
      "text/plain": [
       "[{'firm1': {'chromo0': [3, 10]},\n",
       "  'firm2': {'chromo0': [5, 16]},\n",
       "  'firm3': {'chromo0': [7, 17]},\n",
       "  'em': {}},\n",
       " {'firm1': {'chromo0': [3, 10]},\n",
       "  'firm2': {'chromo0': [5, 16]},\n",
       "  'firm3': {'chromo1': [8, 18]}},\n",
       " {'firm1': {'chromo0': [3, 10]},\n",
       "  'firm2': {'chromo1': [6, 16]},\n",
       "  'firm3': {'chromo0': [7, 17]}},\n",
       " {'firm1': {'chromo0': [3, 10]},\n",
       "  'firm2': {'chromo1': [6, 16]},\n",
       "  'firm3': {'chromo1': [8, 18]}},\n",
       " {'firm1': {'chromo1': [4, 15]},\n",
       "  'firm2': {'chromo0': [5, 16]},\n",
       "  'firm3': {'chromo0': [7, 17]}},\n",
       " {'firm1': {'chromo1': [4, 15]},\n",
       "  'firm2': {'chromo0': [5, 16]},\n",
       "  'firm3': {'chromo1': [8, 18]}},\n",
       " {'firm1': {'chromo1': [4, 15]},\n",
       "  'firm2': {'chromo1': [6, 16]},\n",
       "  'firm3': {'chromo0': [7, 17]}},\n",
       " {'firm1': {'chromo1': [4, 15]},\n",
       "  'firm2': {'chromo1': [6, 16]},\n",
       "  'firm3': {'chromo1': [8, 18]}}]"
      ]
     },
     "execution_count": 870,
     "metadata": {},
     "output_type": "execute_result"
    }
   ],
   "source": [
    "industry_carbon_emission_combo"
   ]
  },
  {
   "cell_type": "code",
   "execution_count": 874,
   "metadata": {},
   "outputs": [
    {
     "name": "stdout",
     "output_type": "stream",
     "text": [
      "0\n",
      "1\n",
      "2\n",
      "3\n",
      "4\n",
      "5\n",
      "6\n",
      "7\n"
     ]
    }
   ],
   "source": [
    "for _ in range(len(industry_carbon_emission_combo)):\n",
    "    print(_)\n",
    "    industry_carbon_emission_combo[_][\"em\"]= {}"
   ]
  },
  {
   "cell_type": "code",
   "execution_count": 875,
   "metadata": {},
   "outputs": [
    {
     "data": {
      "text/plain": [
       "[{'firm1': {'chromo0': [3, 10]},\n",
       "  'firm2': {'chromo0': [5, 16]},\n",
       "  'firm3': {'chromo0': [7, 17]},\n",
       "  'em': {}},\n",
       " {'firm1': {'chromo0': [3, 10]},\n",
       "  'firm2': {'chromo0': [5, 16]},\n",
       "  'firm3': {'chromo1': [8, 18]},\n",
       "  'em': {}},\n",
       " {'firm1': {'chromo0': [3, 10]},\n",
       "  'firm2': {'chromo1': [6, 16]},\n",
       "  'firm3': {'chromo0': [7, 17]},\n",
       "  'em': {}},\n",
       " {'firm1': {'chromo0': [3, 10]},\n",
       "  'firm2': {'chromo1': [6, 16]},\n",
       "  'firm3': {'chromo1': [8, 18]},\n",
       "  'em': {}},\n",
       " {'firm1': {'chromo1': [4, 15]},\n",
       "  'firm2': {'chromo0': [5, 16]},\n",
       "  'firm3': {'chromo0': [7, 17]},\n",
       "  'em': {}},\n",
       " {'firm1': {'chromo1': [4, 15]},\n",
       "  'firm2': {'chromo0': [5, 16]},\n",
       "  'firm3': {'chromo1': [8, 18]},\n",
       "  'em': {}},\n",
       " {'firm1': {'chromo1': [4, 15]},\n",
       "  'firm2': {'chromo1': [6, 16]},\n",
       "  'firm3': {'chromo0': [7, 17]},\n",
       "  'em': {}},\n",
       " {'firm1': {'chromo1': [4, 15]},\n",
       "  'firm2': {'chromo1': [6, 16]},\n",
       "  'firm3': {'chromo1': [8, 18]},\n",
       "  'em': {}}]"
      ]
     },
     "execution_count": 875,
     "metadata": {},
     "output_type": "execute_result"
    }
   ],
   "source": [
    "industry_carbon_emission_combo"
   ]
  },
  {
   "cell_type": "code",
   "execution_count": 886,
   "metadata": {},
   "outputs": [
    {
     "data": {
      "text/plain": [
       "dict_items([])"
      ]
     },
     "execution_count": 886,
     "metadata": {},
     "output_type": "execute_result"
    }
   ],
   "source": [
    "industry_carbon_emission_combo[1][str(firm)].items()"
   ]
  },
  {
   "cell_type": "code",
   "execution_count": 890,
   "metadata": {},
   "outputs": [
    {
     "data": {
      "text/plain": [
       "dict_items([('firm1', {'chromo0': [3, 10]}), ('firm2', {'chromo0': [5, 16]}), ('firm3', {'chromo1': [8, 18]}), ('em', {})])"
      ]
     },
     "execution_count": 890,
     "metadata": {},
     "output_type": "execute_result"
    }
   ],
   "source": [
    "industry_carbon_emission_combo[1].items()"
   ]
  },
  {
   "cell_type": "code",
   "execution_count": 891,
   "metadata": {},
   "outputs": [
    {
     "name": "stdout",
     "output_type": "stream",
     "text": [
      "dict_values([{'chromo0': [3, 10]}, {'chromo0': [5, 16]}, {'chromo0': [7, 17]}, {}])\n"
     ]
    },
    {
     "name": "stderr",
     "output_type": "stream",
     "text": [
      "<ipython-input-891-1552490487a7>:1: DeprecationWarning: scipy.sum is deprecated and will be removed in SciPy 2.0.0, use numpy.sum instead\n",
      "  print(sum(industry_carbon_emission_combo[0].values()))\n"
     ]
    }
   ],
   "source": [
    "print(sum(industry_carbon_emission_combo[0].values()))\n"
   ]
  },
  {
   "cell_type": "code",
   "execution_count": 899,
   "metadata": {},
   "outputs": [
    {
     "data": {
      "text/plain": [
       "dict_keys"
      ]
     },
     "execution_count": 899,
     "metadata": {},
     "output_type": "execute_result"
    }
   ],
   "source": [
    "firms = industry_carbon_emission_combo[0].keys()\n",
    "type(firms)\n",
    "for _ in range(len(industry_carbon_emission_combo)):\n",
    "    industry_carbon_emission_combo[_][\"industry_carbon_emission\"] = 0\n",
    "    for firm in firms:\n",
    "        #print(firm)\n",
    "        chromos, firm_carbon_emission = zip(*industry_carbon_emission_combo[_][str(firm)].items())\n",
    "        industry_carbon_emission_combo[_][\"industry_carbon_emission\"] += np.array(industry_carbon_emission_combo[_].get(str(firm)).get(str(chromos[0])))\n",
    "        print(x)"
   ]
  },
  {
   "cell_type": "code",
   "execution_count": null,
   "metadata": {},
   "outputs": [],
   "source": [
    "industry_carbon_emission_combo[] = "
   ]
  },
  {
   "cell_type": "code",
   "execution_count": 910,
   "metadata": {},
   "outputs": [
    {
     "data": {
      "text/plain": [
       "['firm1', 'firm2', 'firm3']"
      ]
     },
     "execution_count": 910,
     "metadata": {},
     "output_type": "execute_result"
    }
   ],
   "source": [
    "firms = list (industry_carbon_emission_combo[0].keys())\n",
    "firms"
   ]
  },
  {
   "cell_type": "code",
   "execution_count": 922,
   "metadata": {},
   "outputs": [
    {
     "name": "stdout",
     "output_type": "stream",
     "text": [
      "[ 8 18]\n",
      "[ 8 18]\n",
      "[ 8 18]\n",
      "[ 8 18]\n",
      "[ 8 18]\n",
      "[ 8 18]\n",
      "[ 8 18]\n",
      "[ 8 18]\n",
      "[ 8 18]\n",
      "[ 8 18]\n",
      "[ 8 18]\n",
      "[ 8 18]\n",
      "[ 8 18]\n",
      "[ 8 18]\n",
      "[ 8 18]\n",
      "[ 8 18]\n",
      "[ 8 18]\n",
      "[ 8 18]\n",
      "[ 8 18]\n",
      "[ 8 18]\n",
      "[ 8 18]\n",
      "[ 8 18]\n",
      "[ 8 18]\n",
      "[ 8 18]\n"
     ]
    },
    {
     "data": {
      "text/plain": [
       "[{'firm1': {'chromo0': [3, 10]},\n",
       "  'firm2': {'chromo0': [5, 16]},\n",
       "  'firm3': {'chromo0': [7, 17]},\n",
       "  'industry_carbon_emission': array([15, 43])},\n",
       " {'firm1': {'chromo0': [3, 10]},\n",
       "  'firm2': {'chromo0': [5, 16]},\n",
       "  'firm3': {'chromo1': [8, 18]},\n",
       "  'industry_carbon_emission': array([16, 44])},\n",
       " {'firm1': {'chromo0': [3, 10]},\n",
       "  'firm2': {'chromo1': [6, 16]},\n",
       "  'firm3': {'chromo0': [7, 17]},\n",
       "  'industry_carbon_emission': array([16, 43])},\n",
       " {'firm1': {'chromo0': [3, 10]},\n",
       "  'firm2': {'chromo1': [6, 16]},\n",
       "  'firm3': {'chromo1': [8, 18]},\n",
       "  'industry_carbon_emission': array([17, 44])},\n",
       " {'firm1': {'chromo1': [4, 15]},\n",
       "  'firm2': {'chromo0': [5, 16]},\n",
       "  'firm3': {'chromo0': [7, 17]},\n",
       "  'industry_carbon_emission': array([16, 48])},\n",
       " {'firm1': {'chromo1': [4, 15]},\n",
       "  'firm2': {'chromo0': [5, 16]},\n",
       "  'firm3': {'chromo1': [8, 18]},\n",
       "  'industry_carbon_emission': array([17, 49])},\n",
       " {'firm1': {'chromo1': [4, 15]},\n",
       "  'firm2': {'chromo1': [6, 16]},\n",
       "  'firm3': {'chromo0': [7, 17]},\n",
       "  'industry_carbon_emission': array([17, 48])},\n",
       " {'firm1': {'chromo1': [4, 15]},\n",
       "  'firm2': {'chromo1': [6, 16]},\n",
       "  'firm3': {'chromo1': [8, 18]},\n",
       "  'industry_carbon_emission': array([18, 49])}]"
      ]
     },
     "execution_count": 922,
     "metadata": {},
     "output_type": "execute_result"
    }
   ],
   "source": [
    "for _ in range(len(industry_carbon_emission_combo)):\n",
    "    industry_carbon_emission_combo[_][\"industry_carbon_emission\"] = 0\n",
    "    for firm in firms:\n",
    "        #print(firm)\n",
    "        chromos, firm_carbon_emission = zip(*industry_carbon_emission_combo[_][str(firm)].items())\n",
    "        industry_carbon_emission_combo[_][\"industry_carbon_emission\"] += np.array(industry_carbon_emission_combo[_].get(str(firm)).get(str(chromos[0])))\n",
    "        print(x)\n",
    "        #print(chromos[0], firm_carbon_emission[0])\n",
    "        \n",
    "        #x = industry_carbon_emission_combo[0]['firm1'].get('chromo0')\n",
    "        #print(firm)\n",
    "        #industry_carbon_emission_combo[_][\"industry_carbon_emission\"]= firm_carbon_emission[0]\n",
    "        #industry_carbon_emission_combo[_].update({'em': firm_carbon_emission[0]})\n",
    "\n",
    "\n",
    "    \n",
    "industry_carbon_emission_combo    \n",
    "    \n",
    "   \n",
    "    \n",
    "    \n",
    "    \n",
    "#     for firm in industry_carbon_emission_combo[_].keys():\n",
    "#         industry_carbon_emission_combo[_]['industry_carbon_emission'] = 0\n",
    "#         for chromo in industry_carbon_emission_combo[_][str(firm)].keys():\n",
    "#             carbon_emissions = industry_carbon_emission_combo[_][str(firm)].get(str(chromo))\n",
    "            \n",
    "#             #industry_carbon_emission_combo[_]['industry_carbon_emission'] = list(industry_carbon_emission_combo[_][str(firm)].get(str(chromo)))\n",
    "#             print(carbon_emissions)\n",
    "\n",
    "#         #print(keys[0], values[0])\n",
    "#         #print(industry_carbon_emission_combo[_][firm].keys())\n",
    "            \n",
    "# #             industry_carbon_emission_combo[_].update({str(firm): {str(industry_carbon_emission_combo[_][str(firm)]): \n",
    "# #                                  carbon_emissions[str(firm)][str(industry_carbon_emission_combo[_][str(firm)])]}})\n",
    "# industry_carbon_emission_combo"
   ]
  },
  {
   "cell_type": "code",
   "execution_count": null,
   "metadata": {},
   "outputs": [],
   "source": [
    "def fun():\n",
    "    for firm in firms:\n",
    "        #print(firm)\n",
    "        #chromos, firm_carbon_emission = zip(*industry_carbon_emission_combo[_][str(firm)].items())\n",
    "        #print(chromos[0], firm_carbon_emission[0])\n",
    "        #print(firm)\n",
    "        #industry_carbon_emission_combo[_][\"industry_carbon_emission\"]= firm_carbon_emission[0]\n",
    "        #industry_carbon_emission_combo[_].update({'em': firm_carbon_emission[0]})\n",
    "    \n",
    "\n",
    "\n",
    "\n",
    "map(fun, industry_carbon_emission_combo)\n"
   ]
  },
  {
   "cell_type": "code",
   "execution_count": 703,
   "metadata": {},
   "outputs": [
    {
     "data": {
      "text/plain": [
       "[[3, 10], [5, 16]]"
      ]
     },
     "execution_count": 703,
     "metadata": {},
     "output_type": "execute_result"
    }
   ],
   "source": [
    "list(industry_carbon_emission_combo[0]['firm1'].values())+ list(industry_carbon_emission_combo[0]['firm2'].values())"
   ]
  },
  {
   "cell_type": "code",
   "execution_count": 731,
   "metadata": {},
   "outputs": [
    {
     "data": {
      "text/plain": [
       "[4, 15]"
      ]
     },
     "execution_count": 731,
     "metadata": {},
     "output_type": "execute_result"
    }
   ],
   "source": [
    "industry_carbon_emission_combo[_].get('firm1').get('chromo1')"
   ]
  },
  {
   "cell_type": "code",
   "execution_count": 747,
   "metadata": {},
   "outputs": [
    {
     "name": "stdout",
     "output_type": "stream",
     "text": [
      "dict_keys(['chromo0'])\n",
      "dict_keys(['chromo0'])\n",
      "dict_keys(['chromo0'])\n"
     ]
    },
    {
     "ename": "AttributeError",
     "evalue": "'int' object has no attribute 'keys'",
     "output_type": "error",
     "traceback": [
      "\u001b[1;31m---------------------------------------------------------------------------\u001b[0m",
      "\u001b[1;31mAttributeError\u001b[0m                            Traceback (most recent call last)",
      "\u001b[1;32m<ipython-input-747-9cf87cb42496>\u001b[0m in \u001b[0;36m<module>\u001b[1;34m\u001b[0m\n\u001b[0;32m      3\u001b[0m     \u001b[1;32mfor\u001b[0m \u001b[0mfirm\u001b[0m \u001b[1;32min\u001b[0m \u001b[0mindustry_carbon_emission_combo\u001b[0m\u001b[1;33m[\u001b[0m\u001b[0m_\u001b[0m\u001b[1;33m]\u001b[0m\u001b[1;33m.\u001b[0m\u001b[0mkeys\u001b[0m\u001b[1;33m(\u001b[0m\u001b[1;33m)\u001b[0m\u001b[1;33m:\u001b[0m\u001b[1;33m\u001b[0m\u001b[1;33m\u001b[0m\u001b[0m\n\u001b[0;32m      4\u001b[0m         \u001b[1;31m#print(industry_carbon_emission_combo[_].get(str(firm)).get('chromo0'))\u001b[0m\u001b[1;33m\u001b[0m\u001b[1;33m\u001b[0m\u001b[1;33m\u001b[0m\u001b[0m\n\u001b[1;32m----> 5\u001b[1;33m         \u001b[0mprint\u001b[0m\u001b[1;33m(\u001b[0m\u001b[1;33m(\u001b[0m\u001b[0mindustry_carbon_emission_combo\u001b[0m\u001b[1;33m[\u001b[0m\u001b[0m_\u001b[0m\u001b[1;33m]\u001b[0m\u001b[1;33m[\u001b[0m\u001b[0mstr\u001b[0m\u001b[1;33m(\u001b[0m\u001b[0mfirm\u001b[0m\u001b[1;33m)\u001b[0m\u001b[1;33m]\u001b[0m\u001b[1;33m.\u001b[0m\u001b[0mkeys\u001b[0m\u001b[1;33m(\u001b[0m\u001b[1;33m)\u001b[0m\u001b[1;33m)\u001b[0m\u001b[1;33m)\u001b[0m\u001b[1;33m\u001b[0m\u001b[1;33m\u001b[0m\u001b[0m\n\u001b[0m\u001b[0;32m      6\u001b[0m \u001b[1;33m\u001b[0m\u001b[0m\n\u001b[0;32m      7\u001b[0m \u001b[1;33m\u001b[0m\u001b[0m\n",
      "\u001b[1;31mAttributeError\u001b[0m: 'int' object has no attribute 'keys'"
     ]
    }
   ],
   "source": [
    "for _ in range(len(industry_carbon_emission_combo)):\n",
    "    #industry_carbon_emission_combo[_]['industry_carbon_emission'] = 0\n",
    "    for firm in industry_carbon_emission_combo[_].keys():\n",
    "        #print(industry_carbon_emission_combo[_].get(str(firm)).get('chromo0'))\n",
    "        print((industry_carbon_emission_combo[_][str(firm)].keys()))\n",
    "        \n",
    "        \n",
    "        \n",
    "        \n",
    "        #print(industry_carbon_emission_combo[_].get(str(firm)).get(str(list(industry_carbon_emission_combo[0]['firm1'].keys()))))\n",
    "        #print(industry_carbon_emission_combo[_].get(str(firm)))\n",
    "              \n",
    "              #get(str(list(industry_carbon_emission_combo[0]['firm1'].keys()))))\n",
    "\n",
    "        \n",
    "        \n",
    "        \n",
    "        #print(str(industry_carbon_emission_combo[_][str(firm)][]))\n",
    "        #industry_carbon_emission_combo[_]['industry_carbon_emission'] = np.sum()\n",
    "        #(industry_carbon_emission_combo[_][str(firm)]).values()\n",
    "        \n",
    "        \n",
    "        #str(list(industry_carbon_emission_combo[0]['firm1'].keys()))\n",
    "    \n"
   ]
  },
  {
   "cell_type": "code",
   "execution_count": null,
   "metadata": {},
   "outputs": [],
   "source": [
    "for _ in range(len(industry_carbon_emission_combo)):\n",
    "    for\n",
    "    industry_carbon_emission_combo[_]['industry_carbon_emission'] += np.add()\n"
   ]
  },
  {
   "cell_type": "code",
   "execution_count": 608,
   "metadata": {},
   "outputs": [
    {
     "data": {
      "text/plain": [
       "[{'firm1': {'chromo0': [3, 3]},\n",
       "  'firm2': {'chromo0': [5, 5]},\n",
       "  'firm3': {'chromo0': [7, 7]},\n",
       "  'industry_emissions': 2},\n",
       " {'firm1': {'chromo0': [3, 3]},\n",
       "  'firm2': {'chromo0': [5, 5]},\n",
       "  'firm3': {'chromo1': [7, 7]}},\n",
       " {'firm1': {'chromo0': [3, 3]},\n",
       "  'firm2': {'chromo1': [5, 5]},\n",
       "  'firm3': {'chromo0': [7, 7]}},\n",
       " {'firm1': {'chromo0': [3, 3]},\n",
       "  'firm2': {'chromo1': [5, 5]},\n",
       "  'firm3': {'chromo1': [7, 7]}},\n",
       " {'firm1': {'chromo1': [3, 3]},\n",
       "  'firm2': {'chromo0': [5, 5]},\n",
       "  'firm3': {'chromo0': [7, 7]}},\n",
       " {'firm1': {'chromo1': [3, 3]},\n",
       "  'firm2': {'chromo0': [5, 5]},\n",
       "  'firm3': {'chromo1': [7, 7]}},\n",
       " {'firm1': {'chromo1': [3, 3]},\n",
       "  'firm2': {'chromo1': [5, 5]},\n",
       "  'firm3': {'chromo0': [7, 7]}},\n",
       " {'firm1': {'chromo1': [3, 3]},\n",
       "  'firm2': {'chromo1': [5, 5]},\n",
       "  'firm3': {'chromo1': [7, 7]}}]"
      ]
     },
     "execution_count": 608,
     "metadata": {},
     "output_type": "execute_result"
    }
   ],
   "source": [
    "mycombo"
   ]
  },
  {
   "cell_type": "code",
   "execution_count": 595,
   "metadata": {},
   "outputs": [
    {
     "data": {
      "text/plain": [
       "[{'firm1': 'chromo0', 'firm2': 'chromo0', 'firm3': 'chromo0'},\n",
       " {'firm1': 'chromo0', 'firm2': 'chromo0', 'firm3': 'chromo1'},\n",
       " {'firm1': 'chromo0', 'firm2': 'chromo1', 'firm3': 'chromo0'},\n",
       " {'firm1': 'chromo0', 'firm2': 'chromo1', 'firm3': 'chromo1'},\n",
       " {'firm1': 'chromo1', 'firm2': 'chromo0', 'firm3': 'chromo0'},\n",
       " {'firm1': 'chromo1', 'firm2': 'chromo0', 'firm3': 'chromo1'},\n",
       " {'firm1': 'chromo1', 'firm2': 'chromo1', 'firm3': 'chromo0'},\n",
       " {'firm1': 'chromo1', 'firm2': 'chromo1', 'firm3': 'chromo1'}]"
      ]
     },
     "execution_count": 595,
     "metadata": {},
     "output_type": "execute_result"
    }
   ],
   "source": [
    "bobo = [dict(zip(carbon_emissions.keys(), a)) for a in itertools.product(*carbon_emissions.values())]\n",
    "bobo"
   ]
  },
  {
   "cell_type": "code",
   "execution_count": 599,
   "metadata": {},
   "outputs": [
    {
     "ename": "TypeError",
     "evalue": "'dict_keys' object is not subscriptable",
     "output_type": "error",
     "traceback": [
      "\u001b[1;31m---------------------------------------------------------------------------\u001b[0m",
      "\u001b[1;31mTypeError\u001b[0m                                 Traceback (most recent call last)",
      "\u001b[1;32m<ipython-input-599-37fa6d4b1652>\u001b[0m in \u001b[0;36m<module>\u001b[1;34m\u001b[0m\n\u001b[1;32m----> 1\u001b[1;33m \u001b[0mbobo\u001b[0m\u001b[1;33m[\u001b[0m\u001b[1;36m0\u001b[0m\u001b[1;33m]\u001b[0m\u001b[1;33m.\u001b[0m\u001b[0mkeys\u001b[0m\u001b[1;33m(\u001b[0m\u001b[1;33m)\u001b[0m\u001b[1;33m[\u001b[0m\u001b[1;36m1\u001b[0m\u001b[1;33m]\u001b[0m\u001b[1;33m\u001b[0m\u001b[1;33m\u001b[0m\u001b[0m\n\u001b[0m",
      "\u001b[1;31mTypeError\u001b[0m: 'dict_keys' object is not subscriptable"
     ]
    }
   ],
   "source": [
    "bobo[0].keys()"
   ]
  },
  {
   "cell_type": "code",
   "execution_count": 591,
   "metadata": {},
   "outputs": [
    {
     "data": {
      "text/plain": [
       "[{'firm1': {'chromo0': 3}, 'firm2': 'chromo0', 'firm3': 'chromo0'},\n",
       " {'firm1': 'chromo0', 'firm2': 'chromo0', 'firm3': 'chromo1'},\n",
       " {'firm1': 'chromo0', 'firm2': 'chromo1', 'firm3': 'chromo0'},\n",
       " {'firm1': 'chromo0', 'firm2': 'chromo1', 'firm3': 'chromo1'},\n",
       " {'firm1': 'chromo1', 'firm2': 'chromo0', 'firm3': 'chromo0'},\n",
       " {'firm1': 'chromo1', 'firm2': 'chromo0', 'firm3': 'chromo1'},\n",
       " {'firm1': 'chromo1', 'firm2': 'chromo1', 'firm3': 'chromo0'},\n",
       " {'firm1': 'chromo1', 'firm2': 'chromo1', 'firm3': 'chromo1'}]"
      ]
     },
     "execution_count": 591,
     "metadata": {},
     "output_type": "execute_result"
    }
   ],
   "source": [
    "bobo[0].update({'firm1': {str(bobo[0]['firm1']): 3}})\n",
    "bobo"
   ]
  },
  {
   "cell_type": "code",
   "execution_count": 593,
   "metadata": {},
   "outputs": [
    {
     "data": {
      "text/plain": [
       "3"
      ]
     },
     "execution_count": 593,
     "metadata": {},
     "output_type": "execute_result"
    }
   ],
   "source": [
    "bobo[0]['firm1']['chromo0']"
   ]
  },
  {
   "cell_type": "code",
   "execution_count": 581,
   "metadata": {},
   "outputs": [
    {
     "data": {
      "text/plain": [
       "[{'firm1': {3, 'chromo0'}, 'firm2': 'chromo0', 'firm3': 'chromo0'},\n",
       " {'firm1': 'chromo0', 'firm2': 'chromo0', 'firm3': 'chromo1'},\n",
       " {'firm1': 'chromo0', 'firm2': 'chromo1', 'firm3': 'chromo0'},\n",
       " {'firm1': 'chromo0', 'firm2': 'chromo1', 'firm3': 'chromo1'},\n",
       " {'firm1': 'chromo1', 'firm2': 'chromo0', 'firm3': 'chromo0'},\n",
       " {'firm1': 'chromo1', 'firm2': 'chromo0', 'firm3': 'chromo1'},\n",
       " {'firm1': 'chromo1', 'firm2': 'chromo1', 'firm3': 'chromo0'},\n",
       " {'firm1': 'chromo1', 'firm2': 'chromo1', 'firm3': 'chromo1'}]"
      ]
     },
     "execution_count": 581,
     "metadata": {},
     "output_type": "execute_result"
    }
   ],
   "source": [
    "bobo"
   ]
  },
  {
   "cell_type": "code",
   "execution_count": 561,
   "metadata": {},
   "outputs": [
    {
     "data": {
      "text/plain": [
       "[{'firm1': 'chromo0', 'firm2': 'chromo0', 'firm3': 'chromo0', 'emission': 2},\n",
       " {'firm1': 'chromo0', 'firm2': 'chromo0', 'firm3': 'chromo1'},\n",
       " {'firm1': 'chromo0', 'firm2': 'chromo1', 'firm3': 'chromo0'},\n",
       " {'firm1': 'chromo0', 'firm2': 'chromo1', 'firm3': 'chromo1'},\n",
       " {'firm1': 'chromo1', 'firm2': 'chromo0', 'firm3': 'chromo0'},\n",
       " {'firm1': 'chromo1', 'firm2': 'chromo0', 'firm3': 'chromo1'},\n",
       " {'firm1': 'chromo1', 'firm2': 'chromo1', 'firm3': 'chromo0'},\n",
       " {'firm1': 'chromo1', 'firm2': 'chromo1', 'firm3': 'chromo1'}]"
      ]
     },
     "execution_count": 561,
     "metadata": {},
     "output_type": "execute_result"
    }
   ],
   "source": [
    "bobo[0]['emission'] = 2 #['firm1']['chromo0']['emissions'] = 2\n",
    "bobo"
   ]
  },
  {
   "cell_type": "code",
   "execution_count": null,
   "metadata": {},
   "outputs": [],
   "source": [
    "D['city'] = 'New York'\n"
   ]
  },
  {
   "cell_type": "code",
   "execution_count": 544,
   "metadata": {},
   "outputs": [
    {
     "ename": "KeyError",
     "evalue": "0",
     "output_type": "error",
     "traceback": [
      "\u001b[1;31m---------------------------------------------------------------------------\u001b[0m",
      "\u001b[1;31mKeyError\u001b[0m                                  Traceback (most recent call last)",
      "\u001b[1;32m<ipython-input-544-de006044a874>\u001b[0m in \u001b[0;36m<module>\u001b[1;34m\u001b[0m\n\u001b[0;32m      5\u001b[0m \u001b[1;32mfor\u001b[0m \u001b[0m_\u001b[0m \u001b[1;32min\u001b[0m \u001b[0mrange\u001b[0m\u001b[1;33m(\u001b[0m\u001b[0mlen\u001b[0m\u001b[1;33m(\u001b[0m\u001b[0mmycombo\u001b[0m\u001b[1;33m)\u001b[0m\u001b[1;33m)\u001b[0m\u001b[1;33m:\u001b[0m\u001b[1;33m\u001b[0m\u001b[1;33m\u001b[0m\u001b[0m\n\u001b[0;32m      6\u001b[0m     \u001b[1;32mfor\u001b[0m \u001b[0msoo\u001b[0m \u001b[1;32min\u001b[0m \u001b[0mrange\u001b[0m\u001b[1;33m(\u001b[0m\u001b[0mlen\u001b[0m\u001b[1;33m(\u001b[0m\u001b[0mmycombo\u001b[0m\u001b[1;33m[\u001b[0m\u001b[0m_\u001b[0m\u001b[1;33m]\u001b[0m\u001b[1;33m)\u001b[0m\u001b[1;33m)\u001b[0m\u001b[1;33m:\u001b[0m\u001b[1;33m\u001b[0m\u001b[1;33m\u001b[0m\u001b[0m\n\u001b[1;32m----> 7\u001b[1;33m         \u001b[0mmycombo\u001b[0m\u001b[1;33m[\u001b[0m\u001b[0m_\u001b[0m\u001b[1;33m]\u001b[0m\u001b[1;33m[\u001b[0m\u001b[0msoo\u001b[0m\u001b[1;33m]\u001b[0m \u001b[1;33m+=\u001b[0m\u001b[1;33m(\u001b[0m\u001b[0mnp\u001b[0m\u001b[1;33m.\u001b[0m\u001b[0marray\u001b[0m\u001b[1;33m(\u001b[0m\u001b[0mcarbon_emissions\u001b[0m\u001b[1;33m[\u001b[0m\u001b[0mstr\u001b[0m\u001b[1;33m(\u001b[0m\u001b[0mmycombo\u001b[0m\u001b[1;33m[\u001b[0m\u001b[0m_\u001b[0m\u001b[1;33m]\u001b[0m\u001b[1;33m[\u001b[0m\u001b[0msoo\u001b[0m\u001b[1;33m]\u001b[0m\u001b[1;33m[\u001b[0m\u001b[1;36m0\u001b[0m\u001b[1;33m]\u001b[0m\u001b[1;33m)\u001b[0m\u001b[1;33m]\u001b[0m\u001b[1;33m[\u001b[0m\u001b[0mstr\u001b[0m\u001b[1;33m(\u001b[0m\u001b[0mmycombo\u001b[0m\u001b[1;33m[\u001b[0m\u001b[0m_\u001b[0m\u001b[1;33m]\u001b[0m\u001b[1;33m[\u001b[0m\u001b[0msoo\u001b[0m\u001b[1;33m]\u001b[0m\u001b[1;33m[\u001b[0m\u001b[1;36m1\u001b[0m\u001b[1;33m]\u001b[0m\u001b[1;33m)\u001b[0m\u001b[1;33m]\u001b[0m\u001b[1;33m)\u001b[0m\u001b[1;33m,\u001b[0m\u001b[1;33m)\u001b[0m\u001b[1;33m\u001b[0m\u001b[1;33m\u001b[0m\u001b[0m\n\u001b[0m\u001b[0;32m      8\u001b[0m \u001b[0mmycombo\u001b[0m\u001b[1;33m\u001b[0m\u001b[1;33m\u001b[0m\u001b[0m\n",
      "\u001b[1;31mKeyError\u001b[0m: 0"
     ]
    }
   ],
   "source": [
    "#Generate all possible combination\n",
    "mycombo = [dict(zip(carbon_emissions.keys(), a)) for a in itertools.product(*carbon_emissions.values())]\n",
    "\n",
    "#add emissions to cell: \n",
    "for _ in range(len(mycombo)):\n",
    "    bobo[_]['carbon emission'] = 2 \n",
    "    for soo in range(len(mycombo[_])):\n",
    "        mycombo[_][soo] +=(np.array(carbon_emissions[str(mycombo[_][soo][0])][str(mycombo[_][soo][1])]),)\n",
    "mycombo"
   ]
  },
  {
   "cell_type": "code",
   "execution_count": 562,
   "metadata": {},
   "outputs": [
    {
     "data": {
      "text/plain": [
       "[[('firm1', 'chromo0', array([3, 3])),\n",
       "  ('firm2', 'chromo0', array([5, 5])),\n",
       "  ('firm3', 'chromo0', array([7, 7]))],\n",
       " [('firm1', 'chromo0', array([3, 3])),\n",
       "  ('firm2', 'chromo0', array([5, 5])),\n",
       "  ('firm3', 'chromo1', array([8, 8]))],\n",
       " [('firm1', 'chromo0', array([3, 3])),\n",
       "  ('firm2', 'chromo1', array([6, 6])),\n",
       "  ('firm3', 'chromo0', array([7, 7]))],\n",
       " [('firm1', 'chromo0', array([3, 3])),\n",
       "  ('firm2', 'chromo1', array([6, 6])),\n",
       "  ('firm3', 'chromo1', array([8, 8]))],\n",
       " [('firm1', 'chromo1', array([4, 4])),\n",
       "  ('firm2', 'chromo0', array([5, 5])),\n",
       "  ('firm3', 'chromo0', array([7, 7]))],\n",
       " [('firm1', 'chromo1', array([4, 4])),\n",
       "  ('firm2', 'chromo0', array([5, 5])),\n",
       "  ('firm3', 'chromo1', array([8, 8]))],\n",
       " [('firm1', 'chromo1', array([4, 4])),\n",
       "  ('firm2', 'chromo1', array([6, 6])),\n",
       "  ('firm3', 'chromo0', array([7, 7]))],\n",
       " [('firm1', 'chromo1', array([4, 4])),\n",
       "  ('firm2', 'chromo1', array([6, 6])),\n",
       "  ('firm3', 'chromo1', array([8, 8]))]]"
      ]
     },
     "execution_count": 562,
     "metadata": {},
     "output_type": "execute_result"
    }
   ],
   "source": [
    "#Generate all possible combination\n",
    "q = [list(zip(carbon_emissions.keys(), a)) for a in itertools.product(*carbon_emissions.values())]\n",
    "\n",
    "#add emissions to cell: \n",
    "for _ in range(len(q)):\n",
    "    for soo in range(len(q[_])):\n",
    "        q[_][soo] +=(np.array(carbon_emissions[str(q[_][soo][0])][str(q[_][soo][1])]),)\n",
    "q"
   ]
  },
  {
   "cell_type": "code",
   "execution_count": 550,
   "metadata": {},
   "outputs": [
    {
     "ename": "ValueError",
     "evalue": "dictionary update sequence element #0 has length 12; 2 is required",
     "output_type": "error",
     "traceback": [
      "\u001b[1;31m---------------------------------------------------------------------------\u001b[0m",
      "\u001b[1;31mValueError\u001b[0m                                Traceback (most recent call last)",
      "\u001b[1;32m<ipython-input-550-dda6e011764c>\u001b[0m in \u001b[0;36m<module>\u001b[1;34m\u001b[0m\n\u001b[1;32m----> 1\u001b[1;33m \u001b[0mdict\u001b[0m\u001b[1;33m(\u001b[0m\u001b[0mq\u001b[0m\u001b[1;33m)\u001b[0m\u001b[1;33m\u001b[0m\u001b[1;33m\u001b[0m\u001b[0m\n\u001b[0m",
      "\u001b[1;31mValueError\u001b[0m: dictionary update sequence element #0 has length 12; 2 is required"
     ]
    }
   ],
   "source": [
    "dict(q)"
   ]
  },
  {
   "cell_type": "code",
   "execution_count": 512,
   "metadata": {},
   "outputs": [
    {
     "data": {
      "text/plain": [
       "array([5, 5])"
      ]
     },
     "execution_count": 512,
     "metadata": {},
     "output_type": "execute_result"
    }
   ],
   "source": [
    "q[0][1][2]"
   ]
  },
  {
   "cell_type": "code",
   "execution_count": 563,
   "metadata": {},
   "outputs": [],
   "source": [
    "l={}"
   ]
  },
  {
   "cell_type": "code",
   "execution_count": 564,
   "metadata": {},
   "outputs": [
    {
     "data": {
      "text/plain": [
       "[[('firm1', 'chromo0', array([3, 3])),\n",
       "  ('firm2', 'chromo0', array([5, 5])),\n",
       "  ('firm3', 'chromo0', array([7, 7]))],\n",
       " [('firm1', 'chromo0', array([3, 3])),\n",
       "  ('firm2', 'chromo0', array([5, 5])),\n",
       "  ('firm3', 'chromo1', array([8, 8]))],\n",
       " [('firm1', 'chromo0', array([3, 3])),\n",
       "  ('firm2', 'chromo1', array([6, 6])),\n",
       "  ('firm3', 'chromo0', array([7, 7]))],\n",
       " [('firm1', 'chromo0', array([3, 3])),\n",
       "  ('firm2', 'chromo1', array([6, 6])),\n",
       "  ('firm3', 'chromo1', array([8, 8]))],\n",
       " [('firm1', 'chromo1', array([4, 4])),\n",
       "  ('firm2', 'chromo0', array([5, 5])),\n",
       "  ('firm3', 'chromo0', array([7, 7]))],\n",
       " [('firm1', 'chromo1', array([4, 4])),\n",
       "  ('firm2', 'chromo0', array([5, 5])),\n",
       "  ('firm3', 'chromo1', array([8, 8]))],\n",
       " [('firm1', 'chromo1', array([4, 4])),\n",
       "  ('firm2', 'chromo1', array([6, 6])),\n",
       "  ('firm3', 'chromo0', array([7, 7]))],\n",
       " [('firm1', 'chromo1', array([4, 4])),\n",
       "  ('firm2', 'chromo1', array([6, 6])),\n",
       "  ('firm3', 'chromo1', array([8, 8]))]]"
      ]
     },
     "execution_count": 564,
     "metadata": {},
     "output_type": "execute_result"
    }
   ],
   "source": [
    "#Generate all possible combination\n",
    "l = [list(zip(carbon_emissions.keys(), a)) for a in itertools.product(*carbon_emissions.values())]\n",
    "\n",
    "#add emissions to cell: \n",
    "for _ in range(len(l)):\n",
    "    for soo in range(len(l[_])):\n",
    "        l[_][soo] +=(np.array(carbon_emissions[str(l[_][soo][0])][str(l[_][soo][1])]),)\n",
    "\n",
    "l\n",
    "# for _ in range(len(l)):\n",
    "#     l[_]+= (sum(l[_][i][2], axis = 0) for i in range(len(l[_])) )"
   ]
  },
  {
   "cell_type": "code",
   "execution_count": 526,
   "metadata": {},
   "outputs": [
    {
     "data": {
      "text/plain": [
       "[[('firm1', 'chromo0', array([3, 3])),\n",
       "  ('firm2', 'chromo0', array([5, 5])),\n",
       "  ('firm3', 'chromo0', array([7, 7])),\n",
       "  6,\n",
       "  10,\n",
       "  14],\n",
       " [('firm1', 'chromo0', array([3, 3])),\n",
       "  ('firm2', 'chromo0', array([5, 5])),\n",
       "  ('firm3', 'chromo1', array([8, 8])),\n",
       "  6,\n",
       "  10,\n",
       "  16],\n",
       " [('firm1', 'chromo0', array([3, 3])),\n",
       "  ('firm2', 'chromo1', array([6, 6])),\n",
       "  ('firm3', 'chromo0', array([7, 7])),\n",
       "  6,\n",
       "  12,\n",
       "  14],\n",
       " [('firm1', 'chromo0', array([3, 3])),\n",
       "  ('firm2', 'chromo1', array([6, 6])),\n",
       "  ('firm3', 'chromo1', array([8, 8])),\n",
       "  6,\n",
       "  12,\n",
       "  16],\n",
       " [('firm1', 'chromo1', array([4, 4])),\n",
       "  ('firm2', 'chromo0', array([5, 5])),\n",
       "  ('firm3', 'chromo0', array([7, 7])),\n",
       "  8,\n",
       "  10,\n",
       "  14],\n",
       " [('firm1', 'chromo1', array([4, 4])),\n",
       "  ('firm2', 'chromo0', array([5, 5])),\n",
       "  ('firm3', 'chromo1', array([8, 8])),\n",
       "  8,\n",
       "  10,\n",
       "  16],\n",
       " [('firm1', 'chromo1', array([4, 4])),\n",
       "  ('firm2', 'chromo1', array([6, 6])),\n",
       "  ('firm3', 'chromo0', array([7, 7])),\n",
       "  8,\n",
       "  12,\n",
       "  14],\n",
       " [('firm1', 'chromo1', array([4, 4])),\n",
       "  ('firm2', 'chromo1', array([6, 6])),\n",
       "  ('firm3', 'chromo1', array([8, 8])),\n",
       "  8,\n",
       "  12,\n",
       "  16]]"
      ]
     },
     "execution_count": 526,
     "metadata": {},
     "output_type": "execute_result"
    }
   ],
   "source": [
    "l"
   ]
  },
  {
   "cell_type": "code",
   "execution_count": 508,
   "metadata": {},
   "outputs": [
    {
     "data": {
      "text/plain": [
       "[[('firm1', 'chromo0', [3, 3]),\n",
       "  ('firm2', 'chromo0', [5, 5]),\n",
       "  ('firm3', 'chromo0', [7, 7]),\n",
       "  ('firm1',\n",
       "   'chromo0',\n",
       "   [3, 3],\n",
       "   'firm2',\n",
       "   'chromo0',\n",
       "   [5, 5],\n",
       "   'firm3',\n",
       "   'chromo0',\n",
       "   [7, 7]),\n",
       "  ('firm1',\n",
       "   'chromo0',\n",
       "   [3, 3],\n",
       "   'firm2',\n",
       "   'chromo0',\n",
       "   [5, 5],\n",
       "   'firm3',\n",
       "   'chromo0',\n",
       "   [7, 7]),\n",
       "  [3, 3, 5, 5, 7, 7],\n",
       "  [3, 3, 5, 5, 7, 7]],\n",
       " [('firm1', 'chromo0', [3, 3]),\n",
       "  ('firm2', 'chromo0', [5, 5]),\n",
       "  ('firm3', 'chromo1', [8, 8])],\n",
       " [('firm1', 'chromo0', [3, 3]),\n",
       "  ('firm2', 'chromo1', [6, 6]),\n",
       "  ('firm3', 'chromo0', [7, 7])],\n",
       " [('firm1', 'chromo0', [3, 3]),\n",
       "  ('firm2', 'chromo1', [6, 6]),\n",
       "  ('firm3', 'chromo1', [8, 8])],\n",
       " [('firm1', 'chromo1', [4, 4]),\n",
       "  ('firm2', 'chromo0', [5, 5]),\n",
       "  ('firm3', 'chromo0', [7, 7])],\n",
       " [('firm1', 'chromo1', [4, 4]),\n",
       "  ('firm2', 'chromo0', [5, 5]),\n",
       "  ('firm3', 'chromo1', [8, 8])],\n",
       " [('firm1', 'chromo1', [4, 4]),\n",
       "  ('firm2', 'chromo1', [6, 6]),\n",
       "  ('firm3', 'chromo0', [7, 7])],\n",
       " [('firm1', 'chromo1', [4, 4]),\n",
       "  ('firm2', 'chromo1', [6, 6]),\n",
       "  ('firm3', 'chromo1', [8, 8])]]"
      ]
     },
     "execution_count": 508,
     "metadata": {},
     "output_type": "execute_result"
    }
   ],
   "source": [
    "q[0]+= (q[0][0][2]+q[0][1][2]+q[0][2][2]\n",
    "    ,)\n",
    "q"
   ]
  },
  {
   "cell_type": "code",
   "execution_count": 506,
   "metadata": {},
   "outputs": [
    {
     "data": {
      "text/plain": [
       "dict_values([{'chromo0': [3, 3], 'chromo1': [4, 4]}, {'chromo0': [5, 5], 'chromo1': [6, 6]}, {'chromo0': [7, 7], 'chromo1': [8, 8]}])"
      ]
     },
     "execution_count": 506,
     "metadata": {},
     "output_type": "execute_result"
    }
   ],
   "source": [
    "carbon_emissions.values()"
   ]
  },
  {
   "cell_type": "code",
   "execution_count": 398,
   "metadata": {},
   "outputs": [
    {
     "ename": "TypeError",
     "evalue": "'NoneType' object is not iterable",
     "output_type": "error",
     "traceback": [
      "\u001b[1;31m---------------------------------------------------------------------------\u001b[0m",
      "\u001b[1;31mTypeError\u001b[0m                                 Traceback (most recent call last)",
      "\u001b[1;32m<ipython-input-398-39c1a50ab020>\u001b[0m in \u001b[0;36m<module>\u001b[1;34m\u001b[0m\n\u001b[0;32m      9\u001b[0m         \u001b[0mprint\u001b[0m\u001b[1;33m(\u001b[0m\u001b[0mc\u001b[0m\u001b[1;33m)\u001b[0m\u001b[1;33m\u001b[0m\u001b[1;33m\u001b[0m\u001b[0m\n\u001b[0;32m     10\u001b[0m         \u001b[0mprint\u001b[0m \u001b[1;33m(\u001b[0m\u001b[0mlist\u001b[0m\u001b[1;33m(\u001b[0m\u001b[0mdict\u001b[0m\u001b[1;33m(\u001b[0m\u001b[0mzip\u001b[0m\u001b[1;33m(\u001b[0m\u001b[0mkeys\u001b[0m\u001b[1;33m,\u001b[0m \u001b[0mc\u001b[0m\u001b[1;33m)\u001b[0m\u001b[1;33m)\u001b[0m\u001b[1;33m)\u001b[0m\u001b[1;33m)\u001b[0m\u001b[1;33m\u001b[0m\u001b[1;33m\u001b[0m\u001b[0m\n\u001b[1;32m---> 11\u001b[1;33m \u001b[0mmoo\u001b[0m \u001b[1;33m=\u001b[0m \u001b[0mgen_dict_combinations\u001b[0m\u001b[1;33m(\u001b[0m\u001b[0mcarbon_emissions\u001b[0m\u001b[1;33m)\u001b[0m\u001b[1;33m\u001b[0m\u001b[1;33m\u001b[0m\u001b[0m\n\u001b[0m\u001b[0;32m     12\u001b[0m \u001b[1;31m#moo\u001b[0m\u001b[1;33m\u001b[0m\u001b[1;33m\u001b[0m\u001b[1;33m\u001b[0m\u001b[0m\n",
      "\u001b[1;32m<ipython-input-398-39c1a50ab020>\u001b[0m in \u001b[0;36mgen_dict_combinations\u001b[1;34m(d)\u001b[0m\n\u001b[0;32m      6\u001b[0m \u001b[1;32mdef\u001b[0m \u001b[0mgen_dict_combinations\u001b[0m\u001b[1;33m(\u001b[0m\u001b[0md\u001b[0m\u001b[1;33m)\u001b[0m\u001b[1;33m:\u001b[0m\u001b[1;33m\u001b[0m\u001b[1;33m\u001b[0m\u001b[0m\n\u001b[0;32m      7\u001b[0m     \u001b[0mkeys\u001b[0m\u001b[1;33m,\u001b[0m \u001b[0mvalues\u001b[0m \u001b[1;33m=\u001b[0m \u001b[0md\u001b[0m\u001b[1;33m.\u001b[0m\u001b[0mkeys\u001b[0m\u001b[1;33m(\u001b[0m\u001b[1;33m)\u001b[0m\u001b[1;33m,\u001b[0m \u001b[0md\u001b[0m\u001b[1;33m.\u001b[0m\u001b[0mvalues\u001b[0m\u001b[1;33m(\u001b[0m\u001b[1;33m)\u001b[0m\u001b[1;33m\u001b[0m\u001b[1;33m\u001b[0m\u001b[0m\n\u001b[1;32m----> 8\u001b[1;33m     \u001b[1;32mfor\u001b[0m \u001b[0mc\u001b[0m \u001b[1;32min\u001b[0m \u001b[0mitertools\u001b[0m\u001b[1;33m.\u001b[0m\u001b[0mproduct\u001b[0m\u001b[1;33m(\u001b[0m\u001b[1;33m*\u001b[0m\u001b[1;33m(\u001b[0m\u001b[0mgen_combinations\u001b[0m\u001b[1;33m(\u001b[0m\u001b[0mv\u001b[0m\u001b[1;33m)\u001b[0m \u001b[1;32mfor\u001b[0m \u001b[0mv\u001b[0m \u001b[1;32min\u001b[0m \u001b[0mvalues\u001b[0m\u001b[1;33m)\u001b[0m\u001b[1;33m)\u001b[0m\u001b[1;33m:\u001b[0m\u001b[1;33m\u001b[0m\u001b[1;33m\u001b[0m\u001b[0m\n\u001b[0m\u001b[0;32m      9\u001b[0m         \u001b[0mprint\u001b[0m\u001b[1;33m(\u001b[0m\u001b[0mc\u001b[0m\u001b[1;33m)\u001b[0m\u001b[1;33m\u001b[0m\u001b[1;33m\u001b[0m\u001b[0m\n\u001b[0;32m     10\u001b[0m         \u001b[0mprint\u001b[0m \u001b[1;33m(\u001b[0m\u001b[0mlist\u001b[0m\u001b[1;33m(\u001b[0m\u001b[0mdict\u001b[0m\u001b[1;33m(\u001b[0m\u001b[0mzip\u001b[0m\u001b[1;33m(\u001b[0m\u001b[0mkeys\u001b[0m\u001b[1;33m,\u001b[0m \u001b[0mc\u001b[0m\u001b[1;33m)\u001b[0m\u001b[1;33m)\u001b[0m\u001b[1;33m)\u001b[0m\u001b[1;33m)\u001b[0m\u001b[1;33m\u001b[0m\u001b[1;33m\u001b[0m\u001b[0m\n",
      "\u001b[1;31mTypeError\u001b[0m: 'NoneType' object is not iterable"
     ]
    }
   ],
   "source": [
    "def gen_combinations(d):\n",
    "    keys, values = d.keys(), d.values()\n",
    "    combinations = itertools.product(*values)\n",
    "    \n",
    "\n",
    "def gen_dict_combinations(d):\n",
    "    keys, values = d.keys(), d.values()\n",
    "    for c in itertools.product(*(gen_combinations(v) for v in values)):\n",
    "        print(c)\n",
    "        print (list(dict(zip(keys, c))))\n",
    "moo = gen_dict_combinations(carbon_emissions) \n",
    "#moo"
   ]
  },
  {
   "cell_type": "code",
   "execution_count": 397,
   "metadata": {},
   "outputs": [
    {
     "data": {
      "text/plain": [
       "<generator object gen_combinations at 0x000001DEE8AC0EB0>"
      ]
     },
     "execution_count": 397,
     "metadata": {},
     "output_type": "execute_result"
    }
   ],
   "source": [
    "def gen_combinations(d):\n",
    "    keys, values = d.keys(), d.values()\n",
    "    values_choices = (gen_combinations(v) if isinstance(v, dict) else v for v in values)\n",
    "    for comb in itertools.product(*values_choices):\n",
    "        yield dict(zip(keys, comb))\n",
    "        \n",
    "        \n",
    "        \n",
    "x =gen_combinations(carbon_emissions)\n",
    "x"
   ]
  },
  {
   "cell_type": "code",
   "execution_count": 420,
   "metadata": {},
   "outputs": [
    {
     "data": {
      "text/plain": [
       "[3, 3]"
      ]
     },
     "execution_count": 420,
     "metadata": {},
     "output_type": "execute_result"
    }
   ],
   "source": [
    "carbon_emissions['firm1'] ['chromo0']"
   ]
  },
  {
   "cell_type": "code",
   "execution_count": 450,
   "metadata": {},
   "outputs": [
    {
     "data": {
      "text/plain": [
       "['firm1',\n",
       " 'firm2',\n",
       " 'firm3',\n",
       " 'firm1',\n",
       " 'firm2',\n",
       " 'firm3',\n",
       " 'firm1',\n",
       " 'firm2',\n",
       " 'firm3',\n",
       " 'firm1',\n",
       " 'firm2',\n",
       " 'firm3',\n",
       " 'firm1',\n",
       " 'firm2',\n",
       " 'firm3',\n",
       " 'firm1',\n",
       " 'firm2',\n",
       " 'firm3',\n",
       " 'firm1',\n",
       " 'firm2',\n",
       " 'firm3',\n",
       " 'firm1',\n",
       " 'firm2',\n",
       " 'firm3']"
      ]
     },
     "execution_count": 450,
     "metadata": {},
     "output_type": "execute_result"
    }
   ],
   "source": [
    "keys, values = zip(*carbon_emissions.items())\n",
    "y = [dict(zip(keys, v)) for v in itertools.product(*values) ]\n",
    "\n",
    "mk"
   ]
  },
  {
   "cell_type": "code",
   "execution_count": 410,
   "metadata": {},
   "outputs": [
    {
     "ename": "TypeError",
     "evalue": "list indices must be integers or slices, not str",
     "output_type": "error",
     "traceback": [
      "\u001b[1;31m---------------------------------------------------------------------------\u001b[0m",
      "\u001b[1;31mTypeError\u001b[0m                                 Traceback (most recent call last)",
      "\u001b[1;32m<ipython-input-410-a2163779e09d>\u001b[0m in \u001b[0;36m<module>\u001b[1;34m\u001b[0m\n\u001b[1;32m----> 1\u001b[1;33m \u001b[0my\u001b[0m\u001b[1;33m[\u001b[0m\u001b[1;36m0\u001b[0m\u001b[1;33m]\u001b[0m\u001b[1;33m[\u001b[0m\u001b[1;34m'firm1'\u001b[0m\u001b[1;33m]\u001b[0m\u001b[1;33m[\u001b[0m\u001b[1;34m'chromo0'\u001b[0m\u001b[1;33m]\u001b[0m \u001b[1;33m+=\u001b[0m \u001b[1;34m'2'\u001b[0m\u001b[1;33m\u001b[0m\u001b[1;33m\u001b[0m\u001b[0m\n\u001b[0m",
      "\u001b[1;31mTypeError\u001b[0m: list indices must be integers or slices, not str"
     ]
    }
   ],
   "source": [
    "y[0]['firm1']['chromo0'] += '2'"
   ]
  },
  {
   "cell_type": "code",
   "execution_count": 331,
   "metadata": {},
   "outputs": [],
   "source": [
    "firms, chromos_and_value = zip(*carbon_emissions.items()) "
   ]
  },
  {
   "cell_type": "code",
   "execution_count": 440,
   "metadata": {},
   "outputs": [
    {
     "data": {
      "text/plain": [
       "('firm2', 'chromo0')"
      ]
     },
     "execution_count": 440,
     "metadata": {},
     "output_type": "execute_result"
    }
   ],
   "source": [
    "keys, values = zip(*carbon_emissions.items())\n",
    "\n",
    "y = [list(zip(keys, v)) for v in itertools.product(*values) ]\n",
    "y[1][1]"
   ]
  },
  {
   "cell_type": "code",
   "execution_count": 408,
   "metadata": {},
   "outputs": [
    {
     "name": "stdout",
     "output_type": "stream",
     "text": [
      "('firm1', {'chromo0': [3, 3], 'chromo1': [4, 4]})\n",
      "('firm2', {'chromo0': [5, 5], 'chromo1': [6, 6]})\n",
      "('firm3', {'chromo0': [7, 7], 'chromo1': [8, 8]})\n"
     ]
    }
   ],
   "source": [
    "res = None\n",
    "for sub, in carbon_emissions.items():\n",
    "    print(sub)\n",
    "    #if sub['is'] == 7:\n",
    "        #res = sub\n",
    "        #break"
   ]
  },
  {
   "cell_type": "code",
   "execution_count": 380,
   "metadata": {},
   "outputs": [
    {
     "ename": "AttributeError",
     "evalue": "'list' object has no attribute 'items'",
     "output_type": "error",
     "traceback": [
      "\u001b[1;31m---------------------------------------------------------------------------\u001b[0m",
      "\u001b[1;31mAttributeError\u001b[0m                            Traceback (most recent call last)",
      "\u001b[1;32m<ipython-input-380-1adbc70887e5>\u001b[0m in \u001b[0;36m<module>\u001b[1;34m\u001b[0m\n\u001b[1;32m----> 1\u001b[1;33m \u001b[0my\u001b[0m\u001b[1;33m.\u001b[0m\u001b[0mitems\u001b[0m\u001b[1;33m(\u001b[0m\u001b[1;33m)\u001b[0m\u001b[1;33m\u001b[0m\u001b[1;33m\u001b[0m\u001b[0m\n\u001b[0m",
      "\u001b[1;31mAttributeError\u001b[0m: 'list' object has no attribute 'items'"
     ]
    }
   ],
   "source": [
    "y.items()"
   ]
  },
  {
   "cell_type": "code",
   "execution_count": null,
   "metadata": {},
   "outputs": [],
   "source": [
    "new_dict = {}\n",
    "for d1, d2 in combinations(d, 2):\n",
    "    new_dict[int(str(d1) + str(d2))] = {'p': d[d1]['z'] + d[d2]['z']}\n",
    "\n",
    "print(new_dict)"
   ]
  },
  {
   "cell_type": "code",
   "execution_count": null,
   "metadata": {},
   "outputs": [],
   "source": [
    "experiment = {}\n",
    "keys, values = zip(*carbon_emissions.items())\n",
    "for v in itertools.product(*values):\n",
    "    #print(v)\n",
    "    experiment[(list(zip(keys, v)))]= {}\n",
    "    print(experiment)\n",
    "    # etc."
   ]
  },
  {
   "cell_type": "code",
   "execution_count": 301,
   "metadata": {},
   "outputs": [
    {
     "name": "stdout",
     "output_type": "stream",
     "text": [
      "('firm1', 'firm2', 'firm3')\n",
      "chromo0\n",
      "chromo0\n",
      "chromo0\n",
      "('firm1', 'firm2', 'firm3')\n",
      "chromo0\n",
      "chromo0\n",
      "chromo1\n",
      "('firm1', 'firm2', 'firm3')\n",
      "chromo0\n",
      "chromo1\n",
      "chromo0\n",
      "('firm1', 'firm2', 'firm3')\n",
      "chromo0\n",
      "chromo1\n",
      "chromo1\n",
      "('firm1', 'firm2', 'firm3')\n",
      "chromo1\n",
      "chromo0\n",
      "chromo0\n",
      "('firm1', 'firm2', 'firm3')\n",
      "chromo1\n",
      "chromo0\n",
      "chromo1\n",
      "('firm1', 'firm2', 'firm3')\n",
      "chromo1\n",
      "chromo1\n",
      "chromo0\n",
      "('firm1', 'firm2', 'firm3')\n",
      "chromo1\n",
      "chromo1\n",
      "chromo1\n"
     ]
    }
   ],
   "source": [
    "experiment = {}\n",
    "keys, values = zip(*carbon_emissions.items())\n",
    "for v in itertools.product(*values):\n",
    "    for \n",
    "    print(keys)\n",
    "    for _ in v:\n",
    "        print(carbon_emissions[\"\"] [\"\"])\n",
    "    #carbon_emissions[str()][()][str(list(zip(keys, v)))]\n",
    "    #print(v)\n",
    "    #experiment[str(list(zip(keys, v)))]= {}\n",
    "    #print(experiment)\n",
    "    # etc."
   ]
  },
  {
   "cell_type": "code",
   "execution_count": 285,
   "metadata": {
    "collapsed": true
   },
   "outputs": [
    {
     "name": "stdout",
     "output_type": "stream",
     "text": [
      "chromo0\n",
      "chromo0\n",
      "chromo0\n",
      "chromo0\n",
      "chromo0\n",
      "chromo1\n",
      "chromo0\n",
      "chromo1\n",
      "chromo0\n",
      "chromo0\n",
      "chromo1\n",
      "chromo1\n",
      "chromo1\n",
      "chromo0\n",
      "chromo0\n",
      "chromo1\n",
      "chromo0\n",
      "chromo1\n",
      "chromo1\n",
      "chromo1\n",
      "chromo0\n",
      "chromo1\n",
      "chromo1\n",
      "chromo1\n"
     ]
    }
   ],
   "source": [
    "keys, values = zip(*carbon_emissions.items())\n",
    "for v in itertools.product(*values):\n",
    "    print(v)\n",
    "    experiment['firm1']['chromo0'] = \n",
    "    "
   ]
  },
  {
   "cell_type": "code",
   "execution_count": null,
   "metadata": {},
   "outputs": [],
   "source": [
    "x = {'key1': 1, 'key2': 3, 'key3': 2}\n",
    "y = {'key1': 1, 'key2': 2}\n",
    "for (key, value) in set(x.items()) & set(y.items()):\n",
    "    print('%s: %s is present in both x and y' % (key, value))\n",
    "\t"
   ]
  },
  {
   "cell_type": "code",
   "execution_count": 273,
   "metadata": {
    "collapsed": true
   },
   "outputs": [
    {
     "ename": "ValueError",
     "evalue": "If using all scalar values, you must pass an index",
     "output_type": "error",
     "traceback": [
      "\u001b[1;31m---------------------------------------------------------------------------\u001b[0m",
      "\u001b[1;31mValueError\u001b[0m                                Traceback (most recent call last)",
      "\u001b[1;32m<ipython-input-273-e5a5c66af010>\u001b[0m in \u001b[0;36m<module>\u001b[1;34m\u001b[0m\n\u001b[1;32m----> 1\u001b[1;33m \u001b[0mdf\u001b[0m \u001b[1;33m=\u001b[0m \u001b[0mpd\u001b[0m\u001b[1;33m.\u001b[0m\u001b[0mDataFrame\u001b[0m\u001b[1;33m.\u001b[0m\u001b[0mfrom_dict\u001b[0m\u001b[1;33m(\u001b[0m\u001b[0mexperiment\u001b[0m\u001b[1;33m)\u001b[0m\u001b[1;33m\u001b[0m\u001b[1;33m\u001b[0m\u001b[0m\n\u001b[0m",
      "\u001b[1;32m~\\anaconda3\\lib\\site-packages\\pandas\\core\\frame.py\u001b[0m in \u001b[0;36mfrom_dict\u001b[1;34m(cls, data, orient, dtype, columns)\u001b[0m\n\u001b[0;32m   1371\u001b[0m             \u001b[1;32mraise\u001b[0m \u001b[0mValueError\u001b[0m\u001b[1;33m(\u001b[0m\u001b[1;34m\"only recognize index or columns for orient\"\u001b[0m\u001b[1;33m)\u001b[0m\u001b[1;33m\u001b[0m\u001b[1;33m\u001b[0m\u001b[0m\n\u001b[0;32m   1372\u001b[0m \u001b[1;33m\u001b[0m\u001b[0m\n\u001b[1;32m-> 1373\u001b[1;33m         \u001b[1;32mreturn\u001b[0m \u001b[0mcls\u001b[0m\u001b[1;33m(\u001b[0m\u001b[0mdata\u001b[0m\u001b[1;33m,\u001b[0m \u001b[0mindex\u001b[0m\u001b[1;33m=\u001b[0m\u001b[0mindex\u001b[0m\u001b[1;33m,\u001b[0m \u001b[0mcolumns\u001b[0m\u001b[1;33m=\u001b[0m\u001b[0mcolumns\u001b[0m\u001b[1;33m,\u001b[0m \u001b[0mdtype\u001b[0m\u001b[1;33m=\u001b[0m\u001b[0mdtype\u001b[0m\u001b[1;33m)\u001b[0m\u001b[1;33m\u001b[0m\u001b[1;33m\u001b[0m\u001b[0m\n\u001b[0m\u001b[0;32m   1374\u001b[0m \u001b[1;33m\u001b[0m\u001b[0m\n\u001b[0;32m   1375\u001b[0m     def to_numpy(\n",
      "\u001b[1;32m~\\anaconda3\\lib\\site-packages\\pandas\\core\\frame.py\u001b[0m in \u001b[0;36m__init__\u001b[1;34m(self, data, index, columns, dtype, copy)\u001b[0m\n\u001b[0;32m    527\u001b[0m \u001b[1;33m\u001b[0m\u001b[0m\n\u001b[0;32m    528\u001b[0m         \u001b[1;32melif\u001b[0m \u001b[0misinstance\u001b[0m\u001b[1;33m(\u001b[0m\u001b[0mdata\u001b[0m\u001b[1;33m,\u001b[0m \u001b[0mdict\u001b[0m\u001b[1;33m)\u001b[0m\u001b[1;33m:\u001b[0m\u001b[1;33m\u001b[0m\u001b[1;33m\u001b[0m\u001b[0m\n\u001b[1;32m--> 529\u001b[1;33m             \u001b[0mmgr\u001b[0m \u001b[1;33m=\u001b[0m \u001b[0minit_dict\u001b[0m\u001b[1;33m(\u001b[0m\u001b[0mdata\u001b[0m\u001b[1;33m,\u001b[0m \u001b[0mindex\u001b[0m\u001b[1;33m,\u001b[0m \u001b[0mcolumns\u001b[0m\u001b[1;33m,\u001b[0m \u001b[0mdtype\u001b[0m\u001b[1;33m=\u001b[0m\u001b[0mdtype\u001b[0m\u001b[1;33m)\u001b[0m\u001b[1;33m\u001b[0m\u001b[1;33m\u001b[0m\u001b[0m\n\u001b[0m\u001b[0;32m    530\u001b[0m         \u001b[1;32melif\u001b[0m \u001b[0misinstance\u001b[0m\u001b[1;33m(\u001b[0m\u001b[0mdata\u001b[0m\u001b[1;33m,\u001b[0m \u001b[0mma\u001b[0m\u001b[1;33m.\u001b[0m\u001b[0mMaskedArray\u001b[0m\u001b[1;33m)\u001b[0m\u001b[1;33m:\u001b[0m\u001b[1;33m\u001b[0m\u001b[1;33m\u001b[0m\u001b[0m\n\u001b[0;32m    531\u001b[0m             \u001b[1;32mimport\u001b[0m \u001b[0mnumpy\u001b[0m\u001b[1;33m.\u001b[0m\u001b[0mma\u001b[0m\u001b[1;33m.\u001b[0m\u001b[0mmrecords\u001b[0m \u001b[1;32mas\u001b[0m \u001b[0mmrecords\u001b[0m\u001b[1;33m\u001b[0m\u001b[1;33m\u001b[0m\u001b[0m\n",
      "\u001b[1;32m~\\anaconda3\\lib\\site-packages\\pandas\\core\\internals\\construction.py\u001b[0m in \u001b[0;36minit_dict\u001b[1;34m(data, index, columns, dtype)\u001b[0m\n\u001b[0;32m    285\u001b[0m             \u001b[0marr\u001b[0m \u001b[1;32mif\u001b[0m \u001b[1;32mnot\u001b[0m \u001b[0mis_datetime64tz_dtype\u001b[0m\u001b[1;33m(\u001b[0m\u001b[0marr\u001b[0m\u001b[1;33m)\u001b[0m \u001b[1;32melse\u001b[0m \u001b[0marr\u001b[0m\u001b[1;33m.\u001b[0m\u001b[0mcopy\u001b[0m\u001b[1;33m(\u001b[0m\u001b[1;33m)\u001b[0m \u001b[1;32mfor\u001b[0m \u001b[0marr\u001b[0m \u001b[1;32min\u001b[0m \u001b[0marrays\u001b[0m\u001b[1;33m\u001b[0m\u001b[1;33m\u001b[0m\u001b[0m\n\u001b[0;32m    286\u001b[0m         ]\n\u001b[1;32m--> 287\u001b[1;33m     \u001b[1;32mreturn\u001b[0m \u001b[0marrays_to_mgr\u001b[0m\u001b[1;33m(\u001b[0m\u001b[0marrays\u001b[0m\u001b[1;33m,\u001b[0m \u001b[0mdata_names\u001b[0m\u001b[1;33m,\u001b[0m \u001b[0mindex\u001b[0m\u001b[1;33m,\u001b[0m \u001b[0mcolumns\u001b[0m\u001b[1;33m,\u001b[0m \u001b[0mdtype\u001b[0m\u001b[1;33m=\u001b[0m\u001b[0mdtype\u001b[0m\u001b[1;33m)\u001b[0m\u001b[1;33m\u001b[0m\u001b[1;33m\u001b[0m\u001b[0m\n\u001b[0m\u001b[0;32m    288\u001b[0m \u001b[1;33m\u001b[0m\u001b[0m\n\u001b[0;32m    289\u001b[0m \u001b[1;33m\u001b[0m\u001b[0m\n",
      "\u001b[1;32m~\\anaconda3\\lib\\site-packages\\pandas\\core\\internals\\construction.py\u001b[0m in \u001b[0;36marrays_to_mgr\u001b[1;34m(arrays, arr_names, index, columns, dtype, verify_integrity)\u001b[0m\n\u001b[0;32m     78\u001b[0m         \u001b[1;31m# figure out the index, if necessary\u001b[0m\u001b[1;33m\u001b[0m\u001b[1;33m\u001b[0m\u001b[1;33m\u001b[0m\u001b[0m\n\u001b[0;32m     79\u001b[0m         \u001b[1;32mif\u001b[0m \u001b[0mindex\u001b[0m \u001b[1;32mis\u001b[0m \u001b[1;32mNone\u001b[0m\u001b[1;33m:\u001b[0m\u001b[1;33m\u001b[0m\u001b[1;33m\u001b[0m\u001b[0m\n\u001b[1;32m---> 80\u001b[1;33m             \u001b[0mindex\u001b[0m \u001b[1;33m=\u001b[0m \u001b[0mextract_index\u001b[0m\u001b[1;33m(\u001b[0m\u001b[0marrays\u001b[0m\u001b[1;33m)\u001b[0m\u001b[1;33m\u001b[0m\u001b[1;33m\u001b[0m\u001b[0m\n\u001b[0m\u001b[0;32m     81\u001b[0m         \u001b[1;32melse\u001b[0m\u001b[1;33m:\u001b[0m\u001b[1;33m\u001b[0m\u001b[1;33m\u001b[0m\u001b[0m\n\u001b[0;32m     82\u001b[0m             \u001b[0mindex\u001b[0m \u001b[1;33m=\u001b[0m \u001b[0mensure_index\u001b[0m\u001b[1;33m(\u001b[0m\u001b[0mindex\u001b[0m\u001b[1;33m)\u001b[0m\u001b[1;33m\u001b[0m\u001b[1;33m\u001b[0m\u001b[0m\n",
      "\u001b[1;32m~\\anaconda3\\lib\\site-packages\\pandas\\core\\internals\\construction.py\u001b[0m in \u001b[0;36mextract_index\u001b[1;34m(data)\u001b[0m\n\u001b[0;32m    389\u001b[0m \u001b[1;33m\u001b[0m\u001b[0m\n\u001b[0;32m    390\u001b[0m         \u001b[1;32mif\u001b[0m \u001b[1;32mnot\u001b[0m \u001b[0mindexes\u001b[0m \u001b[1;32mand\u001b[0m \u001b[1;32mnot\u001b[0m \u001b[0mraw_lengths\u001b[0m\u001b[1;33m:\u001b[0m\u001b[1;33m\u001b[0m\u001b[1;33m\u001b[0m\u001b[0m\n\u001b[1;32m--> 391\u001b[1;33m             \u001b[1;32mraise\u001b[0m \u001b[0mValueError\u001b[0m\u001b[1;33m(\u001b[0m\u001b[1;34m\"If using all scalar values, you must pass an index\"\u001b[0m\u001b[1;33m)\u001b[0m\u001b[1;33m\u001b[0m\u001b[1;33m\u001b[0m\u001b[0m\n\u001b[0m\u001b[0;32m    392\u001b[0m \u001b[1;33m\u001b[0m\u001b[0m\n\u001b[0;32m    393\u001b[0m         \u001b[1;32mif\u001b[0m \u001b[0mhave_series\u001b[0m\u001b[1;33m:\u001b[0m\u001b[1;33m\u001b[0m\u001b[1;33m\u001b[0m\u001b[0m\n",
      "\u001b[1;31mValueError\u001b[0m: If using all scalar values, you must pass an index"
     ]
    }
   ],
   "source": [
    "df = pd.DataFrame.from_dict(experiment)\n"
   ]
  },
  {
   "cell_type": "code",
   "execution_count": 223,
   "metadata": {
    "collapsed": true
   },
   "outputs": [
    {
     "ename": "KeyError",
     "evalue": "'firm1'",
     "output_type": "error",
     "traceback": [
      "\u001b[1;31m---------------------------------------------------------------------------\u001b[0m",
      "\u001b[1;31mKeyError\u001b[0m                                  Traceback (most recent call last)",
      "\u001b[1;32m~\\anaconda3\\lib\\site-packages\\pandas\\core\\indexes\\base.py\u001b[0m in \u001b[0;36mget_loc\u001b[1;34m(self, key, method, tolerance)\u001b[0m\n\u001b[0;32m   3079\u001b[0m             \u001b[1;32mtry\u001b[0m\u001b[1;33m:\u001b[0m\u001b[1;33m\u001b[0m\u001b[1;33m\u001b[0m\u001b[0m\n\u001b[1;32m-> 3080\u001b[1;33m                 \u001b[1;32mreturn\u001b[0m \u001b[0mself\u001b[0m\u001b[1;33m.\u001b[0m\u001b[0m_engine\u001b[0m\u001b[1;33m.\u001b[0m\u001b[0mget_loc\u001b[0m\u001b[1;33m(\u001b[0m\u001b[0mcasted_key\u001b[0m\u001b[1;33m)\u001b[0m\u001b[1;33m\u001b[0m\u001b[1;33m\u001b[0m\u001b[0m\n\u001b[0m\u001b[0;32m   3081\u001b[0m             \u001b[1;32mexcept\u001b[0m \u001b[0mKeyError\u001b[0m \u001b[1;32mas\u001b[0m \u001b[0merr\u001b[0m\u001b[1;33m:\u001b[0m\u001b[1;33m\u001b[0m\u001b[1;33m\u001b[0m\u001b[0m\n",
      "\u001b[1;32mpandas\\_libs\\index.pyx\u001b[0m in \u001b[0;36mpandas._libs.index.IndexEngine.get_loc\u001b[1;34m()\u001b[0m\n",
      "\u001b[1;32mpandas\\_libs\\index.pyx\u001b[0m in \u001b[0;36mpandas._libs.index.IndexEngine.get_loc\u001b[1;34m()\u001b[0m\n",
      "\u001b[1;32mpandas\\_libs\\hashtable_class_helper.pxi\u001b[0m in \u001b[0;36mpandas._libs.hashtable.PyObjectHashTable.get_item\u001b[1;34m()\u001b[0m\n",
      "\u001b[1;32mpandas\\_libs\\hashtable_class_helper.pxi\u001b[0m in \u001b[0;36mpandas._libs.hashtable.PyObjectHashTable.get_item\u001b[1;34m()\u001b[0m\n",
      "\u001b[1;31mKeyError\u001b[0m: 'firm1'",
      "\nThe above exception was the direct cause of the following exception:\n",
      "\u001b[1;31mKeyError\u001b[0m                                  Traceback (most recent call last)",
      "\u001b[1;32m<ipython-input-223-ec46a968c8f6>\u001b[0m in \u001b[0;36m<module>\u001b[1;34m\u001b[0m\n\u001b[0;32m      1\u001b[0m \u001b[0ms\u001b[0m \u001b[1;33m=\u001b[0m \u001b[0mpd\u001b[0m\u001b[1;33m.\u001b[0m\u001b[0mSeries\u001b[0m\u001b[1;33m(\u001b[0m\u001b[0mcarbon_emissions\u001b[0m\u001b[1;33m,\u001b[0m \u001b[0mindex\u001b[0m \u001b[1;33m=\u001b[0m \u001b[1;33m[\u001b[0m\u001b[1;34m'chromo0'\u001b[0m\u001b[1;33m,\u001b[0m \u001b[1;34m'chromo1'\u001b[0m\u001b[1;33m]\u001b[0m \u001b[1;33m)\u001b[0m\u001b[1;33m\u001b[0m\u001b[1;33m\u001b[0m\u001b[0m\n\u001b[0;32m      2\u001b[0m \u001b[0ms\u001b[0m\u001b[1;33m\u001b[0m\u001b[1;33m\u001b[0m\u001b[0m\n\u001b[1;32m----> 3\u001b[1;33m \u001b[0moutlist\u001b[0m \u001b[1;33m=\u001b[0m \u001b[1;33m(\u001b[0m\u001b[0mlist\u001b[0m\u001b[1;33m(\u001b[0m\u001b[0mproduct\u001b[0m\u001b[1;33m(\u001b[0m\u001b[0ms\u001b[0m\u001b[1;33m[\u001b[0m\u001b[1;34m'firm1'\u001b[0m\u001b[1;33m]\u001b[0m\u001b[1;33m,\u001b[0m \u001b[0ms\u001b[0m\u001b[1;33m[\u001b[0m\u001b[1;34m'firm2'\u001b[0m\u001b[1;33m]\u001b[0m\u001b[1;33m,\u001b[0m \u001b[0ms\u001b[0m\u001b[1;33m[\u001b[0m\u001b[1;34m'firm3'\u001b[0m\u001b[1;33m]\u001b[0m \u001b[1;33m)\u001b[0m\u001b[1;33m)\u001b[0m\u001b[1;33m)\u001b[0m\u001b[1;33m\u001b[0m\u001b[1;33m\u001b[0m\u001b[0m\n\u001b[0m\u001b[0;32m      4\u001b[0m \u001b[1;33m\u001b[0m\u001b[0m\n\u001b[0;32m      5\u001b[0m \u001b[0mnewdf\u001b[0m \u001b[1;33m=\u001b[0m \u001b[0mpd\u001b[0m\u001b[1;33m.\u001b[0m\u001b[0mDataFrame\u001b[0m\u001b[1;33m(\u001b[0m\u001b[0mdata\u001b[0m\u001b[1;33m=\u001b[0m\u001b[0moutlist\u001b[0m\u001b[1;33m,\u001b[0m \u001b[0mcolumns\u001b[0m\u001b[1;33m=\u001b[0m\u001b[1;33m[\u001b[0m\u001b[1;34m'firm1'\u001b[0m\u001b[1;33m,\u001b[0m\u001b[1;34m'firm2'\u001b[0m \u001b[1;33m,\u001b[0m\u001b[1;34m'firm3'\u001b[0m \u001b[1;33m]\u001b[0m\u001b[1;33m)\u001b[0m\u001b[1;33m\u001b[0m\u001b[1;33m\u001b[0m\u001b[0m\n",
      "\u001b[1;32m~\\anaconda3\\lib\\site-packages\\pandas\\core\\series.py\u001b[0m in \u001b[0;36m__getitem__\u001b[1;34m(self, key)\u001b[0m\n\u001b[0;32m    851\u001b[0m \u001b[1;33m\u001b[0m\u001b[0m\n\u001b[0;32m    852\u001b[0m         \u001b[1;32melif\u001b[0m \u001b[0mkey_is_scalar\u001b[0m\u001b[1;33m:\u001b[0m\u001b[1;33m\u001b[0m\u001b[1;33m\u001b[0m\u001b[0m\n\u001b[1;32m--> 853\u001b[1;33m             \u001b[1;32mreturn\u001b[0m \u001b[0mself\u001b[0m\u001b[1;33m.\u001b[0m\u001b[0m_get_value\u001b[0m\u001b[1;33m(\u001b[0m\u001b[0mkey\u001b[0m\u001b[1;33m)\u001b[0m\u001b[1;33m\u001b[0m\u001b[1;33m\u001b[0m\u001b[0m\n\u001b[0m\u001b[0;32m    854\u001b[0m \u001b[1;33m\u001b[0m\u001b[0m\n\u001b[0;32m    855\u001b[0m         \u001b[1;32mif\u001b[0m \u001b[0mis_hashable\u001b[0m\u001b[1;33m(\u001b[0m\u001b[0mkey\u001b[0m\u001b[1;33m)\u001b[0m\u001b[1;33m:\u001b[0m\u001b[1;33m\u001b[0m\u001b[1;33m\u001b[0m\u001b[0m\n",
      "\u001b[1;32m~\\anaconda3\\lib\\site-packages\\pandas\\core\\series.py\u001b[0m in \u001b[0;36m_get_value\u001b[1;34m(self, label, takeable)\u001b[0m\n\u001b[0;32m    959\u001b[0m \u001b[1;33m\u001b[0m\u001b[0m\n\u001b[0;32m    960\u001b[0m         \u001b[1;31m# Similar to Index.get_value, but we do not fall back to positional\u001b[0m\u001b[1;33m\u001b[0m\u001b[1;33m\u001b[0m\u001b[1;33m\u001b[0m\u001b[0m\n\u001b[1;32m--> 961\u001b[1;33m         \u001b[0mloc\u001b[0m \u001b[1;33m=\u001b[0m \u001b[0mself\u001b[0m\u001b[1;33m.\u001b[0m\u001b[0mindex\u001b[0m\u001b[1;33m.\u001b[0m\u001b[0mget_loc\u001b[0m\u001b[1;33m(\u001b[0m\u001b[0mlabel\u001b[0m\u001b[1;33m)\u001b[0m\u001b[1;33m\u001b[0m\u001b[1;33m\u001b[0m\u001b[0m\n\u001b[0m\u001b[0;32m    962\u001b[0m         \u001b[1;32mreturn\u001b[0m \u001b[0mself\u001b[0m\u001b[1;33m.\u001b[0m\u001b[0mindex\u001b[0m\u001b[1;33m.\u001b[0m\u001b[0m_get_values_for_loc\u001b[0m\u001b[1;33m(\u001b[0m\u001b[0mself\u001b[0m\u001b[1;33m,\u001b[0m \u001b[0mloc\u001b[0m\u001b[1;33m,\u001b[0m \u001b[0mlabel\u001b[0m\u001b[1;33m)\u001b[0m\u001b[1;33m\u001b[0m\u001b[1;33m\u001b[0m\u001b[0m\n\u001b[0;32m    963\u001b[0m \u001b[1;33m\u001b[0m\u001b[0m\n",
      "\u001b[1;32m~\\anaconda3\\lib\\site-packages\\pandas\\core\\indexes\\base.py\u001b[0m in \u001b[0;36mget_loc\u001b[1;34m(self, key, method, tolerance)\u001b[0m\n\u001b[0;32m   3080\u001b[0m                 \u001b[1;32mreturn\u001b[0m \u001b[0mself\u001b[0m\u001b[1;33m.\u001b[0m\u001b[0m_engine\u001b[0m\u001b[1;33m.\u001b[0m\u001b[0mget_loc\u001b[0m\u001b[1;33m(\u001b[0m\u001b[0mcasted_key\u001b[0m\u001b[1;33m)\u001b[0m\u001b[1;33m\u001b[0m\u001b[1;33m\u001b[0m\u001b[0m\n\u001b[0;32m   3081\u001b[0m             \u001b[1;32mexcept\u001b[0m \u001b[0mKeyError\u001b[0m \u001b[1;32mas\u001b[0m \u001b[0merr\u001b[0m\u001b[1;33m:\u001b[0m\u001b[1;33m\u001b[0m\u001b[1;33m\u001b[0m\u001b[0m\n\u001b[1;32m-> 3082\u001b[1;33m                 \u001b[1;32mraise\u001b[0m \u001b[0mKeyError\u001b[0m\u001b[1;33m(\u001b[0m\u001b[0mkey\u001b[0m\u001b[1;33m)\u001b[0m \u001b[1;32mfrom\u001b[0m \u001b[0merr\u001b[0m\u001b[1;33m\u001b[0m\u001b[1;33m\u001b[0m\u001b[0m\n\u001b[0m\u001b[0;32m   3083\u001b[0m \u001b[1;33m\u001b[0m\u001b[0m\n\u001b[0;32m   3084\u001b[0m         \u001b[1;32mif\u001b[0m \u001b[0mtolerance\u001b[0m \u001b[1;32mis\u001b[0m \u001b[1;32mnot\u001b[0m \u001b[1;32mNone\u001b[0m\u001b[1;33m:\u001b[0m\u001b[1;33m\u001b[0m\u001b[1;33m\u001b[0m\u001b[0m\n",
      "\u001b[1;31mKeyError\u001b[0m: 'firm1'"
     ]
    }
   ],
   "source": [
    "s = pd.Series(carbon_emissions, ,index = ['chromo0', 'chromo1'] )\n",
    "s\n",
    "outlist = (list(product(s['firm1'], s['firm2'], s['firm3'] )))\n",
    "\n",
    "newdf = pd.DataFrame(data=outlist, columns=['firm1','firm2' ,'firm3' ])\n",
    "newdf['firm1']\n"
   ]
  },
  {
   "cell_type": "code",
   "execution_count": 168,
   "metadata": {
    "collapsed": true
   },
   "outputs": [
    {
     "data": {
      "text/plain": [
       "[({'chromo0': [3, 3], 'chromo1': [4, 4]},),\n",
       " ({'chromo0': [5, 5], 'chromo1': [6, 6]},),\n",
       " ({'chromo0': [7, 7], 'chromo1': [8, 8]},)]"
      ]
     },
     "execution_count": 168,
     "metadata": {},
     "output_type": "execute_result"
    }
   ],
   "source": [
    "list(product(carbon_emissions.values() ))"
   ]
  },
  {
   "cell_type": "code",
   "execution_count": 173,
   "metadata": {
    "collapsed": true
   },
   "outputs": [
    {
     "data": {
      "text/plain": [
       "{'chromo0': [3, 3], 'chromo1': [4, 4]}"
      ]
     },
     "execution_count": 173,
     "metadata": {},
     "output_type": "execute_result"
    }
   ],
   "source": [
    "s = pd.Series(carbon_emissions, name='DateValue')\n",
    "s['firm1']"
   ]
  },
  {
   "cell_type": "code",
   "execution_count": 172,
   "metadata": {
    "collapsed": true
   },
   "outputs": [
    {
     "data": {
      "text/html": [
       "<div>\n",
       "<style scoped>\n",
       "    .dataframe tbody tr th:only-of-type {\n",
       "        vertical-align: middle;\n",
       "    }\n",
       "\n",
       "    .dataframe tbody tr th {\n",
       "        vertical-align: top;\n",
       "    }\n",
       "\n",
       "    .dataframe thead th {\n",
       "        text-align: right;\n",
       "    }\n",
       "</style>\n",
       "<table border=\"1\" class=\"dataframe\">\n",
       "  <thead>\n",
       "    <tr style=\"text-align: right;\">\n",
       "      <th></th>\n",
       "      <th>firm1</th>\n",
       "      <th>firm2</th>\n",
       "      <th>firm3</th>\n",
       "    </tr>\n",
       "  </thead>\n",
       "  <tbody>\n",
       "    <tr>\n",
       "      <th>0</th>\n",
       "      <td>chromo0</td>\n",
       "      <td>chromo0</td>\n",
       "      <td>chromo0</td>\n",
       "    </tr>\n",
       "    <tr>\n",
       "      <th>1</th>\n",
       "      <td>chromo0</td>\n",
       "      <td>chromo0</td>\n",
       "      <td>chromo1</td>\n",
       "    </tr>\n",
       "    <tr>\n",
       "      <th>2</th>\n",
       "      <td>chromo0</td>\n",
       "      <td>chromo1</td>\n",
       "      <td>chromo0</td>\n",
       "    </tr>\n",
       "    <tr>\n",
       "      <th>3</th>\n",
       "      <td>chromo0</td>\n",
       "      <td>chromo1</td>\n",
       "      <td>chromo1</td>\n",
       "    </tr>\n",
       "    <tr>\n",
       "      <th>4</th>\n",
       "      <td>chromo1</td>\n",
       "      <td>chromo0</td>\n",
       "      <td>chromo0</td>\n",
       "    </tr>\n",
       "    <tr>\n",
       "      <th>5</th>\n",
       "      <td>chromo1</td>\n",
       "      <td>chromo0</td>\n",
       "      <td>chromo1</td>\n",
       "    </tr>\n",
       "    <tr>\n",
       "      <th>6</th>\n",
       "      <td>chromo1</td>\n",
       "      <td>chromo1</td>\n",
       "      <td>chromo0</td>\n",
       "    </tr>\n",
       "    <tr>\n",
       "      <th>7</th>\n",
       "      <td>chromo1</td>\n",
       "      <td>chromo1</td>\n",
       "      <td>chromo1</td>\n",
       "    </tr>\n",
       "  </tbody>\n",
       "</table>\n",
       "</div>"
      ],
      "text/plain": [
       "     firm1    firm2    firm3\n",
       "0  chromo0  chromo0  chromo0\n",
       "1  chromo0  chromo0  chromo1\n",
       "2  chromo0  chromo1  chromo0\n",
       "3  chromo0  chromo1  chromo1\n",
       "4  chromo1  chromo0  chromo0\n",
       "5  chromo1  chromo0  chromo1\n",
       "6  chromo1  chromo1  chromo0\n",
       "7  chromo1  chromo1  chromo1"
      ]
     },
     "execution_count": 172,
     "metadata": {},
     "output_type": "execute_result"
    }
   ],
   "source": [
    "# apply product method\n",
    "outlist = (list(product(s['firm1'], s['firm2'], s['firm3'] )))\n",
    "\n",
    "\n",
    "newdf = pd.DataFrame(data=outlist, columns=['firm1','firm2' ,'firm3' ]  )\n",
    "newdf"
   ]
  },
  {
   "cell_type": "code",
   "execution_count": 111,
   "metadata": {
    "collapsed": true
   },
   "outputs": [
    {
     "data": {
      "text/plain": [
       "dict_keys(['firm1', 'firm2', 'firm3'])"
      ]
     },
     "execution_count": 111,
     "metadata": {},
     "output_type": "execute_result"
    }
   ],
   "source": [
    "carbon_emissions.keys()"
   ]
  },
  {
   "cell_type": "code",
   "execution_count": null,
   "metadata": {},
   "outputs": [],
   "source": [
    "import itertools\n",
    "pd.DataFrame({'{}{}'.format(a, b): df[a] - df[b] for a, \n",
    "              b in itertools.combinations(df.columns, 2)})"
   ]
  },
  {
   "cell_type": "code",
   "execution_count": 224,
   "metadata": {
    "collapsed": true
   },
   "outputs": [
    {
     "data": {
      "text/html": [
       "<div>\n",
       "<style scoped>\n",
       "    .dataframe tbody tr th:only-of-type {\n",
       "        vertical-align: middle;\n",
       "    }\n",
       "\n",
       "    .dataframe tbody tr th {\n",
       "        vertical-align: top;\n",
       "    }\n",
       "\n",
       "    .dataframe thead th {\n",
       "        text-align: right;\n",
       "    }\n",
       "</style>\n",
       "<table border=\"1\" class=\"dataframe\">\n",
       "  <thead>\n",
       "    <tr style=\"text-align: right;\">\n",
       "      <th></th>\n",
       "      <th>firm1</th>\n",
       "      <th>firm2</th>\n",
       "      <th>firm3</th>\n",
       "    </tr>\n",
       "  </thead>\n",
       "  <tbody>\n",
       "    <tr>\n",
       "      <th>chromo0</th>\n",
       "      <td>[3, 3]</td>\n",
       "      <td>[5, 5]</td>\n",
       "      <td>[7, 7]</td>\n",
       "    </tr>\n",
       "    <tr>\n",
       "      <th>chromo1</th>\n",
       "      <td>[4, 4]</td>\n",
       "      <td>[6, 6]</td>\n",
       "      <td>[8, 8]</td>\n",
       "    </tr>\n",
       "  </tbody>\n",
       "</table>\n",
       "</div>"
      ],
      "text/plain": [
       "          firm1   firm2   firm3\n",
       "chromo0  [3, 3]  [5, 5]  [7, 7]\n",
       "chromo1  [4, 4]  [6, 6]  [8, 8]"
      ]
     },
     "execution_count": 224,
     "metadata": {},
     "output_type": "execute_result"
    }
   ],
   "source": [
    "df = pd.DataFrame.from_dict(carbon_emissions)\n",
    "df"
   ]
  },
  {
   "cell_type": "code",
   "execution_count": 225,
   "metadata": {},
   "outputs": [
    {
     "ename": "TypeError",
     "evalue": "unhashable type: 'dict'",
     "output_type": "error",
     "traceback": [
      "\u001b[1;31m---------------------------------------------------------------------------\u001b[0m",
      "\u001b[1;31mTypeError\u001b[0m                                 Traceback (most recent call last)",
      "\u001b[1;32m<ipython-input-225-547e98457da6>\u001b[0m in \u001b[0;36m<module>\u001b[1;34m\u001b[0m\n\u001b[0;32m      4\u001b[0m \u001b[1;33m\u001b[0m\u001b[0m\n\u001b[0;32m      5\u001b[0m df = expand_grid(\n\u001b[1;32m----> 6\u001b[1;33m     \u001b[1;33m{\u001b[0m\u001b[0mcarbon_emissions\u001b[0m\u001b[1;33m}\u001b[0m\u001b[1;33m\u001b[0m\u001b[1;33m\u001b[0m\u001b[0m\n\u001b[0m\u001b[0;32m      7\u001b[0m )\n\u001b[0;32m      8\u001b[0m \u001b[0mprint\u001b[0m\u001b[1;33m(\u001b[0m\u001b[0mdf\u001b[0m\u001b[1;33m)\u001b[0m\u001b[1;33m\u001b[0m\u001b[1;33m\u001b[0m\u001b[0m\n",
      "\u001b[1;31mTypeError\u001b[0m: unhashable type: 'dict'"
     ]
    }
   ],
   "source": [
    "def expand_grid(dct):\n",
    "    rows = itertools.product(*dct.values())\n",
    "    return pd.DataFrame.from_records(rows, columns=dct.keys())\n",
    "\n",
    "df = expand_grid(\n",
    "    {carbon_emissions}\n",
    ")\n",
    "print(df)"
   ]
  },
  {
   "cell_type": "code",
   "execution_count": 232,
   "metadata": {},
   "outputs": [
    {
     "data": {
      "text/plain": [
       "[(('firm1', {'chromo0': [3, 3], 'chromo1': [4, 4]}),\n",
       "  ('firm2', {'chromo0': [5, 5], 'chromo1': [6, 6]}),\n",
       "  ('firm3', {'chromo0': [7, 7], 'chromo1': [8, 8]}))]"
      ]
     },
     "execution_count": 232,
     "metadata": {},
     "output_type": "execute_result"
    }
   ],
   "source": [
    "rows = itertools.combinations(carbon_emissions.items(),3)\n",
    "list(rows)"
   ]
  },
  {
   "cell_type": "code",
   "execution_count": 204,
   "metadata": {},
   "outputs": [
    {
     "data": {
      "text/plain": [
       "[('firm1', 'firm2', 'firm3')]"
      ]
     },
     "execution_count": 204,
     "metadata": {},
     "output_type": "execute_result"
    }
   ],
   "source": [
    "list(itertools.combinations(df,3 ))"
   ]
  },
  {
   "cell_type": "code",
   "execution_count": 196,
   "metadata": {},
   "outputs": [
    {
     "data": {
      "text/plain": [
       "[([3, 3], [5, 5], [7, 7]),\n",
       " ([3, 3], [5, 5], [8, 8]),\n",
       " ([3, 3], [6, 6], [7, 7]),\n",
       " ([3, 3], [6, 6], [8, 8]),\n",
       " ([4, 4], [5, 5], [7, 7]),\n",
       " ([4, 4], [5, 5], [8, 8]),\n",
       " ([4, 4], [6, 6], [7, 7]),\n",
       " ([4, 4], [6, 6], [8, 8])]"
      ]
     },
     "execution_count": 196,
     "metadata": {},
     "output_type": "execute_result"
    }
   ],
   "source": [
    "list(product(df['firm1'], df['firm2'], df['firm3'] ))\n"
   ]
  },
  {
   "cell_type": "code",
   "execution_count": 182,
   "metadata": {},
   "outputs": [
    {
     "ename": "SyntaxError",
     "evalue": "invalid syntax (<ipython-input-182-b6fa008f6dda>, line 7)",
     "output_type": "error",
     "traceback": [
      "\u001b[1;36m  File \u001b[1;32m\"<ipython-input-182-b6fa008f6dda>\"\u001b[1;36m, line \u001b[1;32m7\u001b[0m\n\u001b[1;33m    newdf = pd.DataFrame(data=outlist, columns=['firm1','firm2' ,'firm3' ] , index = )\u001b[0m\n\u001b[1;37m                                                                                     ^\u001b[0m\n\u001b[1;31mSyntaxError\u001b[0m\u001b[1;31m:\u001b[0m invalid syntax\n"
     ]
    }
   ],
   "source": [
    "from itertools import product\n",
    "  \n",
    "# apply product method\n",
    "outlist = (list(product(df['firm1'], df['firm2'], df['firm3'] )))\n",
    "\n",
    "\n",
    "newdf = pd.DataFrame(data=outlist, columns=['firm1','firm2' ,'firm3' ] , index = )\n",
    "newdf"
   ]
  },
  {
   "cell_type": "code",
   "execution_count": 184,
   "metadata": {},
   "outputs": [
    {
     "data": {
      "text/plain": [
       "Index(['firm1', 'firm2', 'firm3'], dtype='object')"
      ]
     },
     "execution_count": 184,
     "metadata": {},
     "output_type": "execute_result"
    }
   ],
   "source": [
    "df.columns"
   ]
  },
  {
   "cell_type": "code",
   "execution_count": 190,
   "metadata": {},
   "outputs": [
    {
     "ename": "TypeError",
     "evalue": "'Series' objects are mutable, thus they cannot be hashed",
     "output_type": "error",
     "traceback": [
      "\u001b[1;31m---------------------------------------------------------------------------\u001b[0m",
      "\u001b[1;31mTypeError\u001b[0m                                 Traceback (most recent call last)",
      "\u001b[1;32m<ipython-input-190-4fad32856924>\u001b[0m in \u001b[0;36m<module>\u001b[1;34m\u001b[0m\n\u001b[1;32m----> 1\u001b[1;33m \u001b[0mpd\u001b[0m\u001b[1;33m.\u001b[0m\u001b[0munique\u001b[0m\u001b[1;33m(\u001b[0m\u001b[1;33m[\u001b[0m\u001b[0mdf\u001b[0m\u001b[1;33m[\u001b[0m\u001b[0mi\u001b[0m\u001b[1;33m]\u001b[0m \u001b[1;32mfor\u001b[0m \u001b[0mi\u001b[0m \u001b[1;32min\u001b[0m \u001b[0mdf\u001b[0m\u001b[1;33m.\u001b[0m\u001b[0mcolumns\u001b[0m\u001b[1;33m]\u001b[0m\u001b[1;33m)\u001b[0m\u001b[1;33m\u001b[0m\u001b[1;33m\u001b[0m\u001b[0m\n\u001b[0m",
      "\u001b[1;32m~\\anaconda3\\lib\\site-packages\\pandas\\core\\algorithms.py\u001b[0m in \u001b[0;36munique\u001b[1;34m(values)\u001b[0m\n\u001b[0;32m    405\u001b[0m \u001b[1;33m\u001b[0m\u001b[0m\n\u001b[0;32m    406\u001b[0m     \u001b[0mtable\u001b[0m \u001b[1;33m=\u001b[0m \u001b[0mhtable\u001b[0m\u001b[1;33m(\u001b[0m\u001b[0mlen\u001b[0m\u001b[1;33m(\u001b[0m\u001b[0mvalues\u001b[0m\u001b[1;33m)\u001b[0m\u001b[1;33m)\u001b[0m\u001b[1;33m\u001b[0m\u001b[1;33m\u001b[0m\u001b[0m\n\u001b[1;32m--> 407\u001b[1;33m     \u001b[0muniques\u001b[0m \u001b[1;33m=\u001b[0m \u001b[0mtable\u001b[0m\u001b[1;33m.\u001b[0m\u001b[0munique\u001b[0m\u001b[1;33m(\u001b[0m\u001b[0mvalues\u001b[0m\u001b[1;33m)\u001b[0m\u001b[1;33m\u001b[0m\u001b[1;33m\u001b[0m\u001b[0m\n\u001b[0m\u001b[0;32m    408\u001b[0m     \u001b[0muniques\u001b[0m \u001b[1;33m=\u001b[0m \u001b[0m_reconstruct_data\u001b[0m\u001b[1;33m(\u001b[0m\u001b[0muniques\u001b[0m\u001b[1;33m,\u001b[0m \u001b[0moriginal\u001b[0m\u001b[1;33m.\u001b[0m\u001b[0mdtype\u001b[0m\u001b[1;33m,\u001b[0m \u001b[0moriginal\u001b[0m\u001b[1;33m)\u001b[0m\u001b[1;33m\u001b[0m\u001b[1;33m\u001b[0m\u001b[0m\n\u001b[0;32m    409\u001b[0m     \u001b[1;32mreturn\u001b[0m \u001b[0muniques\u001b[0m\u001b[1;33m\u001b[0m\u001b[1;33m\u001b[0m\u001b[0m\n",
      "\u001b[1;32mpandas\\_libs\\hashtable_class_helper.pxi\u001b[0m in \u001b[0;36mpandas._libs.hashtable.PyObjectHashTable.unique\u001b[1;34m()\u001b[0m\n",
      "\u001b[1;32mpandas\\_libs\\hashtable_class_helper.pxi\u001b[0m in \u001b[0;36mpandas._libs.hashtable.PyObjectHashTable._unique\u001b[1;34m()\u001b[0m\n",
      "\u001b[1;32m~\\anaconda3\\lib\\site-packages\\pandas\\core\\generic.py\u001b[0m in \u001b[0;36m__hash__\u001b[1;34m(self)\u001b[0m\n\u001b[0;32m   1783\u001b[0m \u001b[1;33m\u001b[0m\u001b[0m\n\u001b[0;32m   1784\u001b[0m     \u001b[1;32mdef\u001b[0m \u001b[0m__hash__\u001b[0m\u001b[1;33m(\u001b[0m\u001b[0mself\u001b[0m\u001b[1;33m)\u001b[0m \u001b[1;33m->\u001b[0m \u001b[0mint\u001b[0m\u001b[1;33m:\u001b[0m\u001b[1;33m\u001b[0m\u001b[1;33m\u001b[0m\u001b[0m\n\u001b[1;32m-> 1785\u001b[1;33m         raise TypeError(\n\u001b[0m\u001b[0;32m   1786\u001b[0m             \u001b[1;34mf\"{repr(type(self).__name__)} objects are mutable, \"\u001b[0m\u001b[1;33m\u001b[0m\u001b[1;33m\u001b[0m\u001b[0m\n\u001b[0;32m   1787\u001b[0m             \u001b[1;34mf\"thus they cannot be hashed\"\u001b[0m\u001b[1;33m\u001b[0m\u001b[1;33m\u001b[0m\u001b[0m\n",
      "\u001b[1;31mTypeError\u001b[0m: 'Series' objects are mutable, thus they cannot be hashed"
     ]
    }
   ],
   "source": [
    "pd.unique([df[i] for i in df.columns]) "
   ]
  },
  {
   "cell_type": "code",
   "execution_count": null,
   "metadata": {},
   "outputs": [],
   "source": [
    "df[i].unique() f"
   ]
  },
  {
   "cell_type": "code",
   "execution_count": 183,
   "metadata": {},
   "outputs": [
    {
     "ename": "TypeError",
     "evalue": "unhashable type: 'list'",
     "output_type": "error",
     "traceback": [
      "\u001b[1;31m---------------------------------------------------------------------------\u001b[0m",
      "\u001b[1;31mTypeError\u001b[0m                                 Traceback (most recent call last)",
      "\u001b[1;32m<ipython-input-183-3f2594a39ad1>\u001b[0m in \u001b[0;36m<module>\u001b[1;34m\u001b[0m\n\u001b[1;32m----> 1\u001b[1;33m \u001b[1;33m[\u001b[0m\u001b[0mdf\u001b[0m\u001b[1;33m[\u001b[0m\u001b[0mi\u001b[0m\u001b[1;33m]\u001b[0m\u001b[1;33m.\u001b[0m\u001b[0munique\u001b[0m\u001b[1;33m(\u001b[0m\u001b[1;33m)\u001b[0m \u001b[1;32mfor\u001b[0m \u001b[0mi\u001b[0m \u001b[1;32min\u001b[0m \u001b[0mdf\u001b[0m\u001b[1;33m.\u001b[0m\u001b[0mcolumns\u001b[0m\u001b[1;33m]\u001b[0m\u001b[1;33m\u001b[0m\u001b[1;33m\u001b[0m\u001b[0m\n\u001b[0m",
      "\u001b[1;32m<ipython-input-183-3f2594a39ad1>\u001b[0m in \u001b[0;36m<listcomp>\u001b[1;34m(.0)\u001b[0m\n\u001b[1;32m----> 1\u001b[1;33m \u001b[1;33m[\u001b[0m\u001b[0mdf\u001b[0m\u001b[1;33m[\u001b[0m\u001b[0mi\u001b[0m\u001b[1;33m]\u001b[0m\u001b[1;33m.\u001b[0m\u001b[0munique\u001b[0m\u001b[1;33m(\u001b[0m\u001b[1;33m)\u001b[0m \u001b[1;32mfor\u001b[0m \u001b[0mi\u001b[0m \u001b[1;32min\u001b[0m \u001b[0mdf\u001b[0m\u001b[1;33m.\u001b[0m\u001b[0mcolumns\u001b[0m\u001b[1;33m]\u001b[0m\u001b[1;33m\u001b[0m\u001b[1;33m\u001b[0m\u001b[0m\n\u001b[0m",
      "\u001b[1;32m~\\anaconda3\\lib\\site-packages\\pandas\\core\\series.py\u001b[0m in \u001b[0;36munique\u001b[1;34m(self)\u001b[0m\n\u001b[0;32m   1870\u001b[0m         \u001b[0mCategories\u001b[0m \u001b[1;33m(\u001b[0m\u001b[1;36m3\u001b[0m\u001b[1;33m,\u001b[0m \u001b[0mobject\u001b[0m\u001b[1;33m)\u001b[0m\u001b[1;33m:\u001b[0m \u001b[1;33m[\u001b[0m\u001b[1;34m'a'\u001b[0m \u001b[1;33m<\u001b[0m \u001b[1;34m'b'\u001b[0m \u001b[1;33m<\u001b[0m \u001b[1;34m'c'\u001b[0m\u001b[1;33m]\u001b[0m\u001b[1;33m\u001b[0m\u001b[1;33m\u001b[0m\u001b[0m\n\u001b[0;32m   1871\u001b[0m         \"\"\"\n\u001b[1;32m-> 1872\u001b[1;33m         \u001b[0mresult\u001b[0m \u001b[1;33m=\u001b[0m \u001b[0msuper\u001b[0m\u001b[1;33m(\u001b[0m\u001b[1;33m)\u001b[0m\u001b[1;33m.\u001b[0m\u001b[0munique\u001b[0m\u001b[1;33m(\u001b[0m\u001b[1;33m)\u001b[0m\u001b[1;33m\u001b[0m\u001b[1;33m\u001b[0m\u001b[0m\n\u001b[0m\u001b[0;32m   1873\u001b[0m         \u001b[1;32mreturn\u001b[0m \u001b[0mresult\u001b[0m\u001b[1;33m\u001b[0m\u001b[1;33m\u001b[0m\u001b[0m\n\u001b[0;32m   1874\u001b[0m \u001b[1;33m\u001b[0m\u001b[0m\n",
      "\u001b[1;32m~\\anaconda3\\lib\\site-packages\\pandas\\core\\base.py\u001b[0m in \u001b[0;36munique\u001b[1;34m(self)\u001b[0m\n\u001b[0;32m   1045\u001b[0m                     \u001b[0mresult\u001b[0m \u001b[1;33m=\u001b[0m \u001b[0mnp\u001b[0m\u001b[1;33m.\u001b[0m\u001b[0masarray\u001b[0m\u001b[1;33m(\u001b[0m\u001b[0mresult\u001b[0m\u001b[1;33m)\u001b[0m\u001b[1;33m\u001b[0m\u001b[1;33m\u001b[0m\u001b[0m\n\u001b[0;32m   1046\u001b[0m         \u001b[1;32melse\u001b[0m\u001b[1;33m:\u001b[0m\u001b[1;33m\u001b[0m\u001b[1;33m\u001b[0m\u001b[0m\n\u001b[1;32m-> 1047\u001b[1;33m             \u001b[0mresult\u001b[0m \u001b[1;33m=\u001b[0m \u001b[0munique1d\u001b[0m\u001b[1;33m(\u001b[0m\u001b[0mvalues\u001b[0m\u001b[1;33m)\u001b[0m\u001b[1;33m\u001b[0m\u001b[1;33m\u001b[0m\u001b[0m\n\u001b[0m\u001b[0;32m   1048\u001b[0m \u001b[1;33m\u001b[0m\u001b[0m\n\u001b[0;32m   1049\u001b[0m         \u001b[1;32mreturn\u001b[0m \u001b[0mresult\u001b[0m\u001b[1;33m\u001b[0m\u001b[1;33m\u001b[0m\u001b[0m\n",
      "\u001b[1;32m~\\anaconda3\\lib\\site-packages\\pandas\\core\\algorithms.py\u001b[0m in \u001b[0;36munique\u001b[1;34m(values)\u001b[0m\n\u001b[0;32m    405\u001b[0m \u001b[1;33m\u001b[0m\u001b[0m\n\u001b[0;32m    406\u001b[0m     \u001b[0mtable\u001b[0m \u001b[1;33m=\u001b[0m \u001b[0mhtable\u001b[0m\u001b[1;33m(\u001b[0m\u001b[0mlen\u001b[0m\u001b[1;33m(\u001b[0m\u001b[0mvalues\u001b[0m\u001b[1;33m)\u001b[0m\u001b[1;33m)\u001b[0m\u001b[1;33m\u001b[0m\u001b[1;33m\u001b[0m\u001b[0m\n\u001b[1;32m--> 407\u001b[1;33m     \u001b[0muniques\u001b[0m \u001b[1;33m=\u001b[0m \u001b[0mtable\u001b[0m\u001b[1;33m.\u001b[0m\u001b[0munique\u001b[0m\u001b[1;33m(\u001b[0m\u001b[0mvalues\u001b[0m\u001b[1;33m)\u001b[0m\u001b[1;33m\u001b[0m\u001b[1;33m\u001b[0m\u001b[0m\n\u001b[0m\u001b[0;32m    408\u001b[0m     \u001b[0muniques\u001b[0m \u001b[1;33m=\u001b[0m \u001b[0m_reconstruct_data\u001b[0m\u001b[1;33m(\u001b[0m\u001b[0muniques\u001b[0m\u001b[1;33m,\u001b[0m \u001b[0moriginal\u001b[0m\u001b[1;33m.\u001b[0m\u001b[0mdtype\u001b[0m\u001b[1;33m,\u001b[0m \u001b[0moriginal\u001b[0m\u001b[1;33m)\u001b[0m\u001b[1;33m\u001b[0m\u001b[1;33m\u001b[0m\u001b[0m\n\u001b[0;32m    409\u001b[0m     \u001b[1;32mreturn\u001b[0m \u001b[0muniques\u001b[0m\u001b[1;33m\u001b[0m\u001b[1;33m\u001b[0m\u001b[0m\n",
      "\u001b[1;32mpandas\\_libs\\hashtable_class_helper.pxi\u001b[0m in \u001b[0;36mpandas._libs.hashtable.PyObjectHashTable.unique\u001b[1;34m()\u001b[0m\n",
      "\u001b[1;32mpandas\\_libs\\hashtable_class_helper.pxi\u001b[0m in \u001b[0;36mpandas._libs.hashtable.PyObjectHashTable._unique\u001b[1;34m()\u001b[0m\n",
      "\u001b[1;31mTypeError\u001b[0m: unhashable type: 'list'"
     ]
    }
   ],
   "source": [
    "[df[i].unique() for i in df.columns]"
   ]
  },
  {
   "cell_type": "code",
   "execution_count": null,
   "metadata": {},
   "outputs": [],
   "source": [
    "df[\"industry\"] = df.sum(axis=1)\n"
   ]
  },
  {
   "cell_type": "code",
   "execution_count": 176,
   "metadata": {},
   "outputs": [
    {
     "ename": "TypeError",
     "evalue": "unhashable type: 'list'",
     "output_type": "error",
     "traceback": [
      "\u001b[1;31m---------------------------------------------------------------------------\u001b[0m",
      "\u001b[1;31mTypeError\u001b[0m                                 Traceback (most recent call last)",
      "\u001b[1;32m<ipython-input-176-add7a4a0947b>\u001b[0m in \u001b[0;36m<module>\u001b[1;34m\u001b[0m\n\u001b[1;32m----> 1\u001b[1;33m \u001b[0muniques\u001b[0m \u001b[1;33m=\u001b[0m \u001b[1;33m[\u001b[0m\u001b[0mdf\u001b[0m\u001b[1;33m[\u001b[0m\u001b[0mi\u001b[0m\u001b[1;33m]\u001b[0m\u001b[1;33m.\u001b[0m\u001b[0munique\u001b[0m\u001b[1;33m(\u001b[0m\u001b[1;33m)\u001b[0m \u001b[1;32mfor\u001b[0m \u001b[0mi\u001b[0m \u001b[1;32min\u001b[0m \u001b[0mdf\u001b[0m\u001b[1;33m.\u001b[0m\u001b[0mcolumns\u001b[0m \u001b[1;33m]\u001b[0m\u001b[1;33m\u001b[0m\u001b[1;33m\u001b[0m\u001b[0m\n\u001b[0m\u001b[0;32m      2\u001b[0m \u001b[1;31m#pd.DataFrame(np.product(*uniques), columns = df.columns)\u001b[0m\u001b[1;33m\u001b[0m\u001b[1;33m\u001b[0m\u001b[1;33m\u001b[0m\u001b[0m\n",
      "\u001b[1;32m<ipython-input-176-add7a4a0947b>\u001b[0m in \u001b[0;36m<listcomp>\u001b[1;34m(.0)\u001b[0m\n\u001b[1;32m----> 1\u001b[1;33m \u001b[0muniques\u001b[0m \u001b[1;33m=\u001b[0m \u001b[1;33m[\u001b[0m\u001b[0mdf\u001b[0m\u001b[1;33m[\u001b[0m\u001b[0mi\u001b[0m\u001b[1;33m]\u001b[0m\u001b[1;33m.\u001b[0m\u001b[0munique\u001b[0m\u001b[1;33m(\u001b[0m\u001b[1;33m)\u001b[0m \u001b[1;32mfor\u001b[0m \u001b[0mi\u001b[0m \u001b[1;32min\u001b[0m \u001b[0mdf\u001b[0m\u001b[1;33m.\u001b[0m\u001b[0mcolumns\u001b[0m \u001b[1;33m]\u001b[0m\u001b[1;33m\u001b[0m\u001b[1;33m\u001b[0m\u001b[0m\n\u001b[0m\u001b[0;32m      2\u001b[0m \u001b[1;31m#pd.DataFrame(np.product(*uniques), columns = df.columns)\u001b[0m\u001b[1;33m\u001b[0m\u001b[1;33m\u001b[0m\u001b[1;33m\u001b[0m\u001b[0m\n",
      "\u001b[1;32m~\\anaconda3\\lib\\site-packages\\pandas\\core\\series.py\u001b[0m in \u001b[0;36munique\u001b[1;34m(self)\u001b[0m\n\u001b[0;32m   1870\u001b[0m         \u001b[0mCategories\u001b[0m \u001b[1;33m(\u001b[0m\u001b[1;36m3\u001b[0m\u001b[1;33m,\u001b[0m \u001b[0mobject\u001b[0m\u001b[1;33m)\u001b[0m\u001b[1;33m:\u001b[0m \u001b[1;33m[\u001b[0m\u001b[1;34m'a'\u001b[0m \u001b[1;33m<\u001b[0m \u001b[1;34m'b'\u001b[0m \u001b[1;33m<\u001b[0m \u001b[1;34m'c'\u001b[0m\u001b[1;33m]\u001b[0m\u001b[1;33m\u001b[0m\u001b[1;33m\u001b[0m\u001b[0m\n\u001b[0;32m   1871\u001b[0m         \"\"\"\n\u001b[1;32m-> 1872\u001b[1;33m         \u001b[0mresult\u001b[0m \u001b[1;33m=\u001b[0m \u001b[0msuper\u001b[0m\u001b[1;33m(\u001b[0m\u001b[1;33m)\u001b[0m\u001b[1;33m.\u001b[0m\u001b[0munique\u001b[0m\u001b[1;33m(\u001b[0m\u001b[1;33m)\u001b[0m\u001b[1;33m\u001b[0m\u001b[1;33m\u001b[0m\u001b[0m\n\u001b[0m\u001b[0;32m   1873\u001b[0m         \u001b[1;32mreturn\u001b[0m \u001b[0mresult\u001b[0m\u001b[1;33m\u001b[0m\u001b[1;33m\u001b[0m\u001b[0m\n\u001b[0;32m   1874\u001b[0m \u001b[1;33m\u001b[0m\u001b[0m\n",
      "\u001b[1;32m~\\anaconda3\\lib\\site-packages\\pandas\\core\\base.py\u001b[0m in \u001b[0;36munique\u001b[1;34m(self)\u001b[0m\n\u001b[0;32m   1045\u001b[0m                     \u001b[0mresult\u001b[0m \u001b[1;33m=\u001b[0m \u001b[0mnp\u001b[0m\u001b[1;33m.\u001b[0m\u001b[0masarray\u001b[0m\u001b[1;33m(\u001b[0m\u001b[0mresult\u001b[0m\u001b[1;33m)\u001b[0m\u001b[1;33m\u001b[0m\u001b[1;33m\u001b[0m\u001b[0m\n\u001b[0;32m   1046\u001b[0m         \u001b[1;32melse\u001b[0m\u001b[1;33m:\u001b[0m\u001b[1;33m\u001b[0m\u001b[1;33m\u001b[0m\u001b[0m\n\u001b[1;32m-> 1047\u001b[1;33m             \u001b[0mresult\u001b[0m \u001b[1;33m=\u001b[0m \u001b[0munique1d\u001b[0m\u001b[1;33m(\u001b[0m\u001b[0mvalues\u001b[0m\u001b[1;33m)\u001b[0m\u001b[1;33m\u001b[0m\u001b[1;33m\u001b[0m\u001b[0m\n\u001b[0m\u001b[0;32m   1048\u001b[0m \u001b[1;33m\u001b[0m\u001b[0m\n\u001b[0;32m   1049\u001b[0m         \u001b[1;32mreturn\u001b[0m \u001b[0mresult\u001b[0m\u001b[1;33m\u001b[0m\u001b[1;33m\u001b[0m\u001b[0m\n",
      "\u001b[1;32m~\\anaconda3\\lib\\site-packages\\pandas\\core\\algorithms.py\u001b[0m in \u001b[0;36munique\u001b[1;34m(values)\u001b[0m\n\u001b[0;32m    405\u001b[0m \u001b[1;33m\u001b[0m\u001b[0m\n\u001b[0;32m    406\u001b[0m     \u001b[0mtable\u001b[0m \u001b[1;33m=\u001b[0m \u001b[0mhtable\u001b[0m\u001b[1;33m(\u001b[0m\u001b[0mlen\u001b[0m\u001b[1;33m(\u001b[0m\u001b[0mvalues\u001b[0m\u001b[1;33m)\u001b[0m\u001b[1;33m)\u001b[0m\u001b[1;33m\u001b[0m\u001b[1;33m\u001b[0m\u001b[0m\n\u001b[1;32m--> 407\u001b[1;33m     \u001b[0muniques\u001b[0m \u001b[1;33m=\u001b[0m \u001b[0mtable\u001b[0m\u001b[1;33m.\u001b[0m\u001b[0munique\u001b[0m\u001b[1;33m(\u001b[0m\u001b[0mvalues\u001b[0m\u001b[1;33m)\u001b[0m\u001b[1;33m\u001b[0m\u001b[1;33m\u001b[0m\u001b[0m\n\u001b[0m\u001b[0;32m    408\u001b[0m     \u001b[0muniques\u001b[0m \u001b[1;33m=\u001b[0m \u001b[0m_reconstruct_data\u001b[0m\u001b[1;33m(\u001b[0m\u001b[0muniques\u001b[0m\u001b[1;33m,\u001b[0m \u001b[0moriginal\u001b[0m\u001b[1;33m.\u001b[0m\u001b[0mdtype\u001b[0m\u001b[1;33m,\u001b[0m \u001b[0moriginal\u001b[0m\u001b[1;33m)\u001b[0m\u001b[1;33m\u001b[0m\u001b[1;33m\u001b[0m\u001b[0m\n\u001b[0;32m    409\u001b[0m     \u001b[1;32mreturn\u001b[0m \u001b[0muniques\u001b[0m\u001b[1;33m\u001b[0m\u001b[1;33m\u001b[0m\u001b[0m\n",
      "\u001b[1;32mpandas\\_libs\\hashtable_class_helper.pxi\u001b[0m in \u001b[0;36mpandas._libs.hashtable.PyObjectHashTable.unique\u001b[1;34m()\u001b[0m\n",
      "\u001b[1;32mpandas\\_libs\\hashtable_class_helper.pxi\u001b[0m in \u001b[0;36mpandas._libs.hashtable.PyObjectHashTable._unique\u001b[1;34m()\u001b[0m\n",
      "\u001b[1;31mTypeError\u001b[0m: unhashable type: 'list'"
     ]
    }
   ],
   "source": [
    "uniques = [df[i].unique() for i in df.columns ]\n",
    "#pd.DataFrame(np.product(*uniques), columns = df.columns)"
   ]
  },
  {
   "cell_type": "code",
   "execution_count": 82,
   "metadata": {},
   "outputs": [],
   "source": [
    "# carbon_emissions[(\"firm1\",\"chromo0\")]"
   ]
  },
  {
   "cell_type": "code",
   "execution_count": 233,
   "metadata": {},
   "outputs": [
    {
     "data": {
      "text/plain": [
       "[['firm1', 'firm1', 'firm1'],\n",
       " ['firm1', 'firm1', 'firm2'],\n",
       " ['firm1', 'firm1', 'firm3'],\n",
       " ['firm1', 'firm2', 'firm1'],\n",
       " ['firm1', 'firm2', 'firm2'],\n",
       " ['firm1', 'firm2', 'firm3'],\n",
       " ['firm1', 'firm3', 'firm1'],\n",
       " ['firm1', 'firm3', 'firm2'],\n",
       " ['firm1', 'firm3', 'firm3'],\n",
       " ['firm2', 'firm1', 'firm1'],\n",
       " ['firm2', 'firm1', 'firm2'],\n",
       " ['firm2', 'firm1', 'firm3'],\n",
       " ['firm2', 'firm2', 'firm1'],\n",
       " ['firm2', 'firm2', 'firm2'],\n",
       " ['firm2', 'firm2', 'firm3'],\n",
       " ['firm2', 'firm3', 'firm1'],\n",
       " ['firm2', 'firm3', 'firm2'],\n",
       " ['firm2', 'firm3', 'firm3'],\n",
       " ['firm3', 'firm1', 'firm1'],\n",
       " ['firm3', 'firm1', 'firm2'],\n",
       " ['firm3', 'firm1', 'firm3'],\n",
       " ['firm3', 'firm2', 'firm1'],\n",
       " ['firm3', 'firm2', 'firm2'],\n",
       " ['firm3', 'firm2', 'firm3'],\n",
       " ['firm3', 'firm3', 'firm1'],\n",
       " ['firm3', 'firm3', 'firm2'],\n",
       " ['firm3', 'firm3', 'firm3']]"
      ]
     },
     "execution_count": 233,
     "metadata": {},
     "output_type": "execute_result"
    }
   ],
   "source": [
    "x= [list(i) for i in itertools.product(carbon_emissions, repeat=3)] #3firms \n",
    "x\n",
    "#only keep array where the first "
   ]
  },
  {
   "cell_type": "code",
   "execution_count": 234,
   "metadata": {},
   "outputs": [
    {
     "data": {
      "text/html": [
       "<div>\n",
       "<style scoped>\n",
       "    .dataframe tbody tr th:only-of-type {\n",
       "        vertical-align: middle;\n",
       "    }\n",
       "\n",
       "    .dataframe tbody tr th {\n",
       "        vertical-align: top;\n",
       "    }\n",
       "\n",
       "    .dataframe thead th {\n",
       "        text-align: right;\n",
       "    }\n",
       "</style>\n",
       "<table border=\"1\" class=\"dataframe\">\n",
       "  <thead>\n",
       "    <tr style=\"text-align: right;\">\n",
       "      <th></th>\n",
       "      <th>firm1</th>\n",
       "      <th>firm2</th>\n",
       "      <th>firm3</th>\n",
       "    </tr>\n",
       "  </thead>\n",
       "  <tbody>\n",
       "    <tr>\n",
       "      <th>0</th>\n",
       "      <td>firm1</td>\n",
       "      <td>firm1</td>\n",
       "      <td>firm1</td>\n",
       "    </tr>\n",
       "    <tr>\n",
       "      <th>1</th>\n",
       "      <td>firm1</td>\n",
       "      <td>firm1</td>\n",
       "      <td>firm2</td>\n",
       "    </tr>\n",
       "    <tr>\n",
       "      <th>2</th>\n",
       "      <td>firm1</td>\n",
       "      <td>firm1</td>\n",
       "      <td>firm3</td>\n",
       "    </tr>\n",
       "    <tr>\n",
       "      <th>3</th>\n",
       "      <td>firm1</td>\n",
       "      <td>firm2</td>\n",
       "      <td>firm1</td>\n",
       "    </tr>\n",
       "    <tr>\n",
       "      <th>4</th>\n",
       "      <td>firm1</td>\n",
       "      <td>firm2</td>\n",
       "      <td>firm2</td>\n",
       "    </tr>\n",
       "    <tr>\n",
       "      <th>5</th>\n",
       "      <td>firm1</td>\n",
       "      <td>firm2</td>\n",
       "      <td>firm3</td>\n",
       "    </tr>\n",
       "    <tr>\n",
       "      <th>6</th>\n",
       "      <td>firm1</td>\n",
       "      <td>firm3</td>\n",
       "      <td>firm1</td>\n",
       "    </tr>\n",
       "    <tr>\n",
       "      <th>7</th>\n",
       "      <td>firm1</td>\n",
       "      <td>firm3</td>\n",
       "      <td>firm2</td>\n",
       "    </tr>\n",
       "    <tr>\n",
       "      <th>8</th>\n",
       "      <td>firm1</td>\n",
       "      <td>firm3</td>\n",
       "      <td>firm3</td>\n",
       "    </tr>\n",
       "    <tr>\n",
       "      <th>9</th>\n",
       "      <td>firm2</td>\n",
       "      <td>firm1</td>\n",
       "      <td>firm1</td>\n",
       "    </tr>\n",
       "    <tr>\n",
       "      <th>10</th>\n",
       "      <td>firm2</td>\n",
       "      <td>firm1</td>\n",
       "      <td>firm2</td>\n",
       "    </tr>\n",
       "    <tr>\n",
       "      <th>11</th>\n",
       "      <td>firm2</td>\n",
       "      <td>firm1</td>\n",
       "      <td>firm3</td>\n",
       "    </tr>\n",
       "    <tr>\n",
       "      <th>12</th>\n",
       "      <td>firm2</td>\n",
       "      <td>firm2</td>\n",
       "      <td>firm1</td>\n",
       "    </tr>\n",
       "    <tr>\n",
       "      <th>13</th>\n",
       "      <td>firm2</td>\n",
       "      <td>firm2</td>\n",
       "      <td>firm2</td>\n",
       "    </tr>\n",
       "    <tr>\n",
       "      <th>14</th>\n",
       "      <td>firm2</td>\n",
       "      <td>firm2</td>\n",
       "      <td>firm3</td>\n",
       "    </tr>\n",
       "    <tr>\n",
       "      <th>15</th>\n",
       "      <td>firm2</td>\n",
       "      <td>firm3</td>\n",
       "      <td>firm1</td>\n",
       "    </tr>\n",
       "    <tr>\n",
       "      <th>16</th>\n",
       "      <td>firm2</td>\n",
       "      <td>firm3</td>\n",
       "      <td>firm2</td>\n",
       "    </tr>\n",
       "    <tr>\n",
       "      <th>17</th>\n",
       "      <td>firm2</td>\n",
       "      <td>firm3</td>\n",
       "      <td>firm3</td>\n",
       "    </tr>\n",
       "    <tr>\n",
       "      <th>18</th>\n",
       "      <td>firm3</td>\n",
       "      <td>firm1</td>\n",
       "      <td>firm1</td>\n",
       "    </tr>\n",
       "    <tr>\n",
       "      <th>19</th>\n",
       "      <td>firm3</td>\n",
       "      <td>firm1</td>\n",
       "      <td>firm2</td>\n",
       "    </tr>\n",
       "    <tr>\n",
       "      <th>20</th>\n",
       "      <td>firm3</td>\n",
       "      <td>firm1</td>\n",
       "      <td>firm3</td>\n",
       "    </tr>\n",
       "    <tr>\n",
       "      <th>21</th>\n",
       "      <td>firm3</td>\n",
       "      <td>firm2</td>\n",
       "      <td>firm1</td>\n",
       "    </tr>\n",
       "    <tr>\n",
       "      <th>22</th>\n",
       "      <td>firm3</td>\n",
       "      <td>firm2</td>\n",
       "      <td>firm2</td>\n",
       "    </tr>\n",
       "    <tr>\n",
       "      <th>23</th>\n",
       "      <td>firm3</td>\n",
       "      <td>firm2</td>\n",
       "      <td>firm3</td>\n",
       "    </tr>\n",
       "    <tr>\n",
       "      <th>24</th>\n",
       "      <td>firm3</td>\n",
       "      <td>firm3</td>\n",
       "      <td>firm1</td>\n",
       "    </tr>\n",
       "    <tr>\n",
       "      <th>25</th>\n",
       "      <td>firm3</td>\n",
       "      <td>firm3</td>\n",
       "      <td>firm2</td>\n",
       "    </tr>\n",
       "    <tr>\n",
       "      <th>26</th>\n",
       "      <td>firm3</td>\n",
       "      <td>firm3</td>\n",
       "      <td>firm3</td>\n",
       "    </tr>\n",
       "  </tbody>\n",
       "</table>\n",
       "</div>"
      ],
      "text/plain": [
       "    firm1  firm2  firm3\n",
       "0   firm1  firm1  firm1\n",
       "1   firm1  firm1  firm2\n",
       "2   firm1  firm1  firm3\n",
       "3   firm1  firm2  firm1\n",
       "4   firm1  firm2  firm2\n",
       "5   firm1  firm2  firm3\n",
       "6   firm1  firm3  firm1\n",
       "7   firm1  firm3  firm2\n",
       "8   firm1  firm3  firm3\n",
       "9   firm2  firm1  firm1\n",
       "10  firm2  firm1  firm2\n",
       "11  firm2  firm1  firm3\n",
       "12  firm2  firm2  firm1\n",
       "13  firm2  firm2  firm2\n",
       "14  firm2  firm2  firm3\n",
       "15  firm2  firm3  firm1\n",
       "16  firm2  firm3  firm2\n",
       "17  firm2  firm3  firm3\n",
       "18  firm3  firm1  firm1\n",
       "19  firm3  firm1  firm2\n",
       "20  firm3  firm1  firm3\n",
       "21  firm3  firm2  firm1\n",
       "22  firm3  firm2  firm2\n",
       "23  firm3  firm2  firm3\n",
       "24  firm3  firm3  firm1\n",
       "25  firm3  firm3  firm2\n",
       "26  firm3  firm3  firm3"
      ]
     },
     "execution_count": 234,
     "metadata": {},
     "output_type": "execute_result"
    }
   ],
   "source": [
    "df = pd.DataFrame(x,\n",
    "                 columns=['firm1', \n",
    "                      'firm2',\n",
    "                         'firm3'])\n",
    "df\n",
    "df.groupby(['firm1','firm2'])\n",
    "df"
   ]
  },
  {
   "cell_type": "code",
   "execution_count": null,
   "metadata": {},
   "outputs": [],
   "source": [
    "group by chromos index "
   ]
  },
  {
   "cell_type": "code",
   "execution_count": 235,
   "metadata": {},
   "outputs": [
    {
     "data": {
      "text/plain": [
       "dict_keys(['firm1', 'firm2', 'firm3'])"
      ]
     },
     "execution_count": 235,
     "metadata": {},
     "output_type": "execute_result"
    }
   ],
   "source": [
    "combinations = np.product(carbon_emissions.keys())\n",
    "#[{'root': 'key', **dict(zip(d2['key'].keys(), c))} for c in combinations]   \n",
    "combinations"
   ]
  },
  {
   "cell_type": "code",
   "execution_count": 237,
   "metadata": {},
   "outputs": [
    {
     "name": "stdout",
     "output_type": "stream",
     "text": [
      "{'firm1': 'chromo0', 'firm2': 'chromo0', 'firm3': 'chromo0'}\n",
      "{'firm1': 'chromo0', 'firm2': 'chromo0', 'firm3': 'chromo1'}\n",
      "{'firm1': 'chromo0', 'firm2': 'chromo1', 'firm3': 'chromo0'}\n",
      "{'firm1': 'chromo0', 'firm2': 'chromo1', 'firm3': 'chromo1'}\n",
      "{'firm1': 'chromo1', 'firm2': 'chromo0', 'firm3': 'chromo0'}\n",
      "{'firm1': 'chromo1', 'firm2': 'chromo0', 'firm3': 'chromo1'}\n",
      "{'firm1': 'chromo1', 'firm2': 'chromo1', 'firm3': 'chromo0'}\n",
      "{'firm1': 'chromo1', 'firm2': 'chromo1', 'firm3': 'chromo1'}\n"
     ]
    }
   ],
   "source": [
    "keys, values = zip(*carbon_emissions.items())\n",
    "for v in itertools.product(*values):\n",
    "    experiment = dict(zip(keys, v))\n",
    "    print(experiment)\n",
    "    # etc."
   ]
  },
  {
   "cell_type": "code",
   "execution_count": null,
   "metadata": {},
   "outputs": [],
   "source": [
    "carbon_emissions[\"firm1chromo0\"]+ carbon_emissions[\"firm2chromo0\"] + carbon_emissions[\"firm3chromo0\"] "
   ]
  },
  {
   "cell_type": "code",
   "execution_count": null,
   "metadata": {},
   "outputs": [],
   "source": [
    "chromo_combinations = np.asarray([list(i) for i in itertools.product(range(9),repeat=3)]) #3firms\n",
    "chromo_combinations\n"
   ]
  },
  {
   "cell_type": "code",
   "execution_count": null,
   "metadata": {},
   "outputs": [],
   "source": [
    "Firm._registry"
   ]
  },
  {
   "cell_type": "code",
   "execution_count": null,
   "metadata": {},
   "outputs": [],
   "source": [
    "fruits = [\"firm1\", \"firm2\", \"firm3\"]\n"
   ]
  },
  {
   "cell_type": "code",
   "execution_count": null,
   "metadata": {},
   "outputs": [],
   "source": [
    "mydict = dict.fromkeys(fruits, \"In stock\")\n",
    "chromo_combinations = [list(i) for i in itertools.product(range(9),repeat=3)] #3firms\n"
   ]
  },
  {
   "cell_type": "code",
   "execution_count": null,
   "metadata": {},
   "outputs": [],
   "source": [
    "carbon_emissions_industry = 0\n",
    "for chromos_index in chromo_combinations:\n",
    "    #print(chromos_index)\n",
    "    for firm in Firm._registry:\n",
    "        print (\"firm\"firm.index + )\n",
    "        #print(carbon_emissions[\"firm\" +str(firm.index)]) #[str(chromos_index[firm.index-1])]"
   ]
  },
  {
   "cell_type": "code",
   "execution_count": null,
   "metadata": {},
   "outputs": [],
   "source": [
    "myrange = list(itertools.product(range(2) , symbiotic_species, repeat =3))\n",
    "\n",
    "myrange"
   ]
  },
  {
   "cell_type": "code",
   "execution_count": null,
   "metadata": {},
   "outputs": [],
   "source": [
    "import itertools\n",
    "carbon_emissions_industry = 0\n",
    "myrange = list(itertools.product(range(2) , symbiotic_species))\n",
    "for chromos , firm in ( myrange):\n",
    "    #print(chromos)\n",
    "    #print (firm)\n",
    "    carbon_emissions_industry += carbon_emissions[\"firm\"+ str(firm.index)][\"chromo\" +str(chromos)] \n",
    "    print(carbon_emissions_industry)\n",
    "    \n",
    "    \n",
    "    \n",
    "    res_list = [i for i in range(len(test_list)) if test_list[i] == 3]\n",
    "res = sum(res_list)\n",
    "\n"
   ]
  },
  {
   "cell_type": "code",
   "execution_count": null,
   "metadata": {},
   "outputs": [],
   "source": [
    "carbon_emissions.items()"
   ]
  },
  {
   "cell_type": "code",
   "execution_count": null,
   "metadata": {},
   "outputs": [],
   "source": [
    "carbon_emissions.keys()\n"
   ]
  },
  {
   "cell_type": "code",
   "execution_count": null,
   "metadata": {},
   "outputs": [],
   "source": [
    "carbon_emissions.values()"
   ]
  },
  {
   "cell_type": "code",
   "execution_count": null,
   "metadata": {},
   "outputs": [],
   "source": [
    " for k1,v1 in carbon_emissions.items(): # the basic way\n",
    "        for k2,v2 in v1.iteritems():\n",
    "        print (temp)"
   ]
  },
  {
   "cell_type": "code",
   "execution_count": null,
   "metadata": {},
   "outputs": [],
   "source": [
    "def summer(lst):\n",
    "    if not isinstance(lst, list) : return lst\n",
    "\n",
    "    sum = 0\n",
    "\n",
    "    for x in lst:\n",
    "        sum += summer(x)\n",
    "    return sum\n",
    "\n",
    "\n",
    "def main():\n",
    "    a= [1,2,3, [5,6]]\n",
    "\n",
    "    print(summer(a))"
   ]
  },
  {
   "cell_type": "code",
   "execution_count": null,
   "metadata": {},
   "outputs": [],
   "source": [
    "myrange"
   ]
  },
  {
   "cell_type": "code",
   "execution_count": null,
   "metadata": {},
   "outputs": [],
   "source": [
    "for firm_id, chromo_val in carbon_emissions.items():\n",
    "    for firm_key in chromo_val:\n",
    "        print(chromo_val[key])\n",
    "        #print(firm_key + ':', chromo_val[key])\n",
    "        #chromo_val[key]\n",
    "        \n",
    "        "
   ]
  },
  {
   "cell_type": "code",
   "execution_count": null,
   "metadata": {},
   "outputs": [],
   "source": [
    "import itertools\n",
    "list(itertools.product(carbon_emissions))"
   ]
  },
  {
   "cell_type": "code",
   "execution_count": null,
   "metadata": {},
   "outputs": [],
   "source": [
    "carbon_emissions_industry={}\n",
    "carbon_emissions_industry[\"firm_1_chromo1\"] ={}"
   ]
  },
  {
   "cell_type": "code",
   "execution_count": null,
   "metadata": {},
   "outputs": [],
   "source": [
    "carbon_emissions_industry[\"firm_1_chromo1\"][\"firm_2_chromo1\"] = carbon_emissions['firm1']['chromo1'] +carbon_emissions['firm2']['chromo1']\n"
   ]
  },
  {
   "cell_type": "code",
   "execution_count": null,
   "metadata": {},
   "outputs": [],
   "source": [
    "carbon_emissions_industry ={}"
   ]
  },
  {
   "cell_type": "code",
   "execution_count": null,
   "metadata": {},
   "outputs": [],
   "source": [
    "for p_id, p_info in people.items():\n",
    "    print(\"\\nPerson ID:\", p_id)\n",
    "    \n",
    "    for key in p_info:\n",
    "        print(key + ':', p_info[key])"
   ]
  },
  {
   "cell_type": "code",
   "execution_count": null,
   "metadata": {},
   "outputs": [],
   "source": []
  },
  {
   "cell_type": "code",
   "execution_count": null,
   "metadata": {},
   "outputs": [],
   "source": [
    "keys, values = zip(carbon_emissions.items())\n"
   ]
  },
  {
   "cell_type": "code",
   "execution_count": null,
   "metadata": {},
   "outputs": [],
   "source": [
    "type(keys)"
   ]
  },
  {
   "cell_type": "code",
   "execution_count": null,
   "metadata": {},
   "outputs": [],
   "source": [
    "values"
   ]
  },
  {
   "cell_type": "code",
   "execution_count": null,
   "metadata": {},
   "outputs": [],
   "source": [
    "from collections import Counter\n",
    "\n",
    "c = Counter()\n",
    "\n",
    "for dct in carbon_emissions: \n",
    "    c.update(dct)\n",
    "\n",
    "print(c)"
   ]
  },
  {
   "cell_type": "code",
   "execution_count": null,
   "metadata": {},
   "outputs": [],
   "source": [
    "sum(item['gold'] for item in myList)"
   ]
  },
  {
   "cell_type": "code",
   "execution_count": null,
   "metadata": {},
   "outputs": [],
   "source": [
    "def get_all_values(carbon_emissions):\n",
    "    for key, value in carbon_emissions.items():\n",
    "        if type(value) is dict:\n",
    "            get_all_values(value)\n",
    "            print(type(value))\n",
    "        else:\n",
    "            print(key, \": is bla\", value)\n",
    "\n",
    "get_all_values(carbon_emissions)"
   ]
  },
  {
   "cell_type": "code",
   "execution_count": null,
   "metadata": {},
   "outputs": [],
   "source": [
    "#Faster method for sovling the problem\n",
    "MarketConfig.T = 2\n",
    "results = {(my_period_index,\"firm\" + str(firm_object.index)): \n",
    "           run_evolution(populate_func = partial(generate_population,\n",
    "                                                 size=50,\n",
    "                                                 chromo_lower_bound = firm_object.min_speed ,\n",
    "                                                 chromo_upper_bound = firm_object.max_speed),\n",
    "                         fitness_func = partial(fitness,\n",
    "                                                firm = firm_object,\n",
    "                                                sim_game = game_config,\n",
    "                                                max_number_of_vessel = firm_object.max_number_of_vessel,\n",
    "                                                period_index = my_period_index),\n",
    "                         generation_limit = 100,\n",
    "                         number_of_similarity = 30,\n",
    "                         mutation_func = partial (mutation,\n",
    "                                                  variance = 0.009,\n",
    "                                                  chromo_lower_bound =  firm_object.min_speed,\n",
    "                                                  chromo_upper_bound= firm_object.max_speed, \n",
    "                                                  probability = 0.5)\n",
    "                        ) \n",
    "           for my_period_index in range(MarketConfig.T)\n",
    "           for firm_object in (Firm._registry)}\n",
    "results[(1, 'firm1')]"
   ]
  },
  {
   "cell_type": "code",
   "execution_count": null,
   "metadata": {},
   "outputs": [],
   "source": [
    "p = {\"key1\":{\"keyA\":{\"value1\": 1}, \n",
    "             \"keyB\":{\"value1\":3}}}\n",
    "\n",
    "p = {kOuter:{kInner:{kVal: vVal/sum(map(lambda x: sum(x.values()), \n",
    "                                        vOuter.values())) for kVal, vVal in vInner.iteritems()} for kInner, vInner in vOuter.iteritems()} for kOuter, vOuter in p.iteritems()}"
   ]
  },
  {
   "cell_type": "code",
   "execution_count": null,
   "metadata": {},
   "outputs": [],
   "source": [
    "for key in carbon_emissions.items():\n",
    "    print(key[1])"
   ]
  },
  {
   "cell_type": "code",
   "execution_count": null,
   "metadata": {},
   "outputs": [],
   "source": [
    "gen = ({k:sum(v)} for k, v in carbon_emissions.items()) \n",
    "gen"
   ]
  },
  {
   "cell_type": "code",
   "execution_count": null,
   "metadata": {},
   "outputs": [],
   "source": [
    "carbon_emissions.values()"
   ]
  },
  {
   "cell_type": "code",
   "execution_count": null,
   "metadata": {},
   "outputs": [],
   "source": [
    "for key ,value in carbon_emissions.items():\n",
    "  \n",
    "    if value and 'sharpness' in value.keys():\n",
    "        # Adding value of sharpness to sum\n",
    "        carbon_industry[] += value['sharpness'] \n",
    "  \n",
    "print(sum)"
   ]
  },
  {
   "cell_type": "code",
   "execution_count": null,
   "metadata": {},
   "outputs": [],
   "source": [
    "carbon_emissions.items()[1]"
   ]
  },
  {
   "cell_type": "code",
   "execution_count": null,
   "metadata": {},
   "outputs": [],
   "source": [
    "import itertools\n",
    "result = list(map(dict, itertools.combinations(carbon_emissions.items(), 2)))\n",
    "result"
   ]
  },
  {
   "cell_type": "code",
   "execution_count": null,
   "metadata": {},
   "outputs": [],
   "source": [
    "np.asarray([list(i) for i in itertools.product(carbon_emissions.items(), repeat=3)]) #3firms\n"
   ]
  },
  {
   "cell_type": "code",
   "execution_count": null,
   "metadata": {},
   "outputs": [],
   "source": [
    "np.asarray([list(i) for i in itertools.product(carbon_emissions.values(), repeat=3)]) #3firms\n"
   ]
  },
  {
   "cell_type": "code",
   "execution_count": null,
   "metadata": {},
   "outputs": [],
   "source": [
    "carbon_emissions.values()"
   ]
  },
  {
   "cell_type": "code",
   "execution_count": null,
   "metadata": {},
   "outputs": [],
   "source": [
    "from itertools import combinations\n",
    "\n",
    "for i in combinations(carbon_emissions.values(), 4):\n",
    "    print(i)"
   ]
  },
  {
   "cell_type": "code",
   "execution_count": null,
   "metadata": {},
   "outputs": [],
   "source": [
    "for key ,value in carbon_emissions.items():\n",
    "  \n",
    "    if value and 'sharpness' in value.keys():\n",
    "        # Adding value of sharpness to sum\n",
    "        sum += value['sharpness'] \n",
    "  \n",
    "print(sum)"
   ]
  },
  {
   "cell_type": "code",
   "execution_count": null,
   "metadata": {},
   "outputs": [],
   "source": [
    "carbon_emissions.values()"
   ]
  },
  {
   "cell_type": "code",
   "execution_count": null,
   "metadata": {},
   "outputs": [],
   "source": [
    "carbon_emissions.values()"
   ]
  },
  {
   "cell_type": "code",
   "execution_count": null,
   "metadata": {},
   "outputs": [],
   "source": [
    "from collections import Counter"
   ]
  },
  {
   "cell_type": "code",
   "execution_count": null,
   "metadata": {},
   "outputs": [],
   "source": [
    "res = Counter()\n",
    "for val in carbon_emissions.values():\n",
    "    res.update(val)\n",
    "\n",
    "    \n",
    "res"
   ]
  },
  {
   "cell_type": "code",
   "execution_count": null,
   "metadata": {},
   "outputs": [],
   "source": [
    "for sub in carbon_emissions.values():\n",
    "    for key, ele in sub.items():\n",
    "        res[key] = ele + res.get(key, 0)"
   ]
  },
  {
   "cell_type": "code",
   "execution_count": null,
   "metadata": {},
   "outputs": [],
   "source": [
    "import itertools\n",
    "\n",
    "keys = carbon_emissions_sim()\n",
    "values = (carbon_emissions_sim[key] for key in keys)\n",
    "combinations = [dict(zip(keys, combination)) for combination in itertools.product(*values)]\n",
    "print (combinations)\n",
    "\n"
   ]
  },
  {
   "cell_type": "code",
   "execution_count": null,
   "metadata": {},
   "outputs": [],
   "source": [
    "last_char = sample_str[-1]\n"
   ]
  },
  {
   "cell_type": "code",
   "execution_count": null,
   "metadata": {},
   "outputs": [],
   "source": [
    "for i in range(9):\n",
    "    print(candidate_partner['firm1'][i])\n",
    "    print('---')"
   ]
  },
  {
   "cell_type": "code",
   "execution_count": null,
   "metadata": {},
   "outputs": [],
   "source": []
  },
  {
   "cell_type": "code",
   "execution_count": null,
   "metadata": {},
   "outputs": [],
   "source": [
    "def double(x, y):\n",
    "    y= x-2\n",
    "    return x * 2"
   ]
  },
  {
   "cell_type": "code",
   "execution_count": null,
   "metadata": {},
   "outputs": [],
   "source": [
    "double(symbiotic_neighberhood[\"firm1\" ], 10)"
   ]
  },
  {
   "cell_type": "markdown",
   "metadata": {},
   "source": [
    "# Begin"
   ]
  },
  {
   "cell_type": "code",
   "execution_count": 11,
   "metadata": {},
   "outputs": [
    {
     "ename": "NameError",
     "evalue": "name 'chromo' is not defined",
     "output_type": "error",
     "traceback": [
      "\u001b[1;31m---------------------------------------------------------------------------\u001b[0m",
      "\u001b[1;31mNameError\u001b[0m                                 Traceback (most recent call last)",
      "\u001b[1;32m<ipython-input-11-1f6d38a4b653>\u001b[0m in \u001b[0;36m<module>\u001b[1;34m\u001b[0m\n\u001b[1;32m----> 1\u001b[1;33m def vessel_operation_procedure (chromo: chromo, \n\u001b[0m\u001b[0;32m      2\u001b[0m                                 \u001b[0mfirm\u001b[0m\u001b[1;33m:\u001b[0m \u001b[0mFirm\u001b[0m\u001b[1;33m,\u001b[0m\u001b[1;33m\u001b[0m\u001b[1;33m\u001b[0m\u001b[0m\n\u001b[0;32m      3\u001b[0m                                 \u001b[0msim_game\u001b[0m\u001b[1;33m:\u001b[0m \u001b[0mMarketConfig\u001b[0m\u001b[1;33m,\u001b[0m\u001b[1;33m\u001b[0m\u001b[1;33m\u001b[0m\u001b[0m\n\u001b[0;32m      4\u001b[0m                                 max_number_of_vessel: int): \n\u001b[0;32m      5\u001b[0m \u001b[1;33m\u001b[0m\u001b[0m\n",
      "\u001b[1;31mNameError\u001b[0m: name 'chromo' is not defined"
     ]
    }
   ],
   "source": [
    "def vessel_operation_procedure (chromo: chromo, \n",
    "                                firm: Firm, \n",
    "                                sim_game: MarketConfig, \n",
    "                                max_number_of_vessel: int): \n",
    "    \n",
    "    operational_speed_ = firm.update_vessel_speed(chromo)     \n",
    "    \n",
    "    min_number_vessels_sim , trips_to_meet_demand_sim, time_at_sea_sim  = firm.get_min_number_of_vessel(sim_game)\n",
    "    \n",
    "    number_vessels_sim  = firm.get_number_of_vessel()\n",
    "    \n",
    "    if number_vessels_sim > max_number_of_vessel:\n",
    "        return np.zeros(4) #np.array([-9, -9, -9, -9])\n",
    "    else:\n",
    "        main_fuel_con_sim = firm.get_main_fuel_cons(sim_game)        \n",
    "        aux_fuel_con_sim = firm.get_aux_fuel_cons(sim_game)\n",
    "        fuel_cost_sim = firm.get_fuel_cost(sim_game)        \n",
    "                \n",
    "        carbon_emissions_sim = firm.get_firm_carbon_emission(sim_game)        \n",
    "        sulfur_emissions_sim = firm.get_firm_sulfur_emission(sim_game)\n",
    "    return number_vessels_sim, fuel_cost_sim,  carbon_emissions_sim, sulfur_emissions_sim "
   ]
  },
  {
   "cell_type": "code",
   "execution_count": null,
   "metadata": {},
   "outputs": [],
   "source": [
    "fitness_evaluation_procedure (chromo:, \n",
    "                              partner_chromos: chromo\n",
    "                              firm: Firm, \n",
    "                              sim_game: MarketConfig, \n",
    "                              max_number_of_vessel: int,\n",
    "                              planning_horizon: int,\n",
    "                              initial_carbon_tax: int ,\n",
    "                              taxation_scheme_rate: float)\n",
    "\n",
    "\n",
    "\n",
    "\n",
    "\n",
    "\n",
    "\n",
    "\n",
    "#======>\n",
    "def fitness_evaluation_procedure (chromo: Chromo, \n",
    "                              partner_chromos: chromo\n",
    "                              firm: Firm, \n",
    "                              sim_game: MarketConfig, \n",
    "                              max_number_of_vessel: int,\n",
    "                              planning_horizon: int,\n",
    "                              initial_carbon_tax: int ,\n",
    "                              taxation_scheme_rate: float):\n",
    "    \n",
    "    \n",
    "    #get chromo and the index of the player to evaluate \n",
    "    \n",
    "    operation_evaluation_procedure ()\n",
    "    \n",
    "    #get other chromos at the same location from the other pop\n",
    "    #fitness of the chromo : \n",
    "\n",
    "\n",
    "    \n",
    "        \n",
    "        \n",
    "        \n",
    "        \n",
    "               \n",
    "        BAU_carbon_pollution_stock\n",
    "        BAU_sulfur_pollution_stock\n",
    "        dynamic_tax = np.zeros(MarketConfig.T+1)\n",
    "        dynamic_tax[0] = initial_carbon_tax_sim\n",
    "        \n",
    "        #start the loop\n",
    "        for my_period_index in range (MarketConfig.T+1):\n",
    "            \n",
    "        #Remove and multipy instead of using loop \n",
    "            BAU_carbon_pollution_stock[my_period_index + 1] = (1- pollution_decay_parameter ) * BAU_carbon_pollution_stock[my_period_index ] + carbon_industry_emission_period\n",
    "            BAU_sulfur_pollution_stock[my_period_index+1] = (1- pollution_decay_parameter ) * BAU_sulfur_pollution_stock[my_period_index] + sulfur_industry_emission_period\n",
    "             #Policy and Update Cost \n",
    "            dynamic_tax [my_period_index+1] = initial_carbon_tax_sim + taxation_scheme_rate_sim * BAU_carbon_pollution_stock[my_period_index +1 ]\n",
    "            policy_cost = np.multiply(carbon_emissions_sim, dynamic_tax[period_index - 1 ]) # a numpy vectore\n",
    "        \n",
    "        \n",
    "        BAU_industry_sulfur_damages = 0.5* pollution_damage_parameter * np.power(BAU_sulfur_pollution_stock,2)\n",
    "        BAU_industry_carbon_damages = 0.5* pollution_damage_parameter * np.power(BAU_carbon_pollution_stock,2)       \n",
    "            \n",
    "        # break the loop\n",
    "        total_cost_sim =  firm.get_total_cost()\n",
    "        total_cost_sim_update =  total_cost_sim + policy_cost \n",
    "        total_cost = firm.update_total_cost(total_cost_sim_update)\n",
    "        \n",
    "\n",
    "        #Compute net present value\n",
    "        revenues_sim = firm.get_revenue(sim_game, Update_total_cost_sim)        \n",
    "        period_profits_sim = firm.get_period_profits()           \n",
    "        discounted_period_profits_sim = firm.get_discounted_period_profit(sim_game, planning_horizon)             \n",
    "        net_present_value = np.sum(discounted_period_profits_sim)\n",
    "        return  net_present_value, discounted_period_profits_sim, number_vessels_sim, carbon_emissions_sim, sulfur_emissions_sim\n"
   ]
  },
  {
   "cell_type": "code",
   "execution_count": null,
   "metadata": {},
   "outputs": [],
   "source": []
  },
  {
   "cell_type": "code",
   "execution_count": 12,
   "metadata": {},
   "outputs": [
    {
     "ename": "NameError",
     "evalue": "name 'PartnerSelection' is not defined",
     "output_type": "error",
     "traceback": [
      "\u001b[1;31m---------------------------------------------------------------------------\u001b[0m",
      "\u001b[1;31mNameError\u001b[0m                                 Traceback (most recent call last)",
      "\u001b[1;32m<ipython-input-12-9d86db54b6e3>\u001b[0m in \u001b[0;36m<module>\u001b[1;34m\u001b[0m\n\u001b[1;32m----> 1\u001b[1;33m \u001b[0mtempNeighborhood\u001b[0m \u001b[1;33m=\u001b[0m  \u001b[0mPartnerSelection\u001b[0m\u001b[1;33m(\u001b[0m\u001b[0mindividualId\u001b[0m\u001b[1;33m)\u001b[0m\u001b[1;33m;\u001b[0m\u001b[1;33m\u001b[0m\u001b[1;33m\u001b[0m\u001b[0m\n\u001b[0m\u001b[0;32m      2\u001b[0m \u001b[0msymbioticghborhood\u001b[0m \u001b[1;33m=\u001b[0m \u001b[0m_SpeciesVec\u001b[0m\u001b[1;33m[\u001b[0m\u001b[0mspecciesId\u001b[0m\u001b[1;33m]\u001b[0m\u001b[1;33m.\u001b[0m\u001b[0mGetIndividuals\u001b[0m\u001b[1;33m(\u001b[0m\u001b[0mtempNeighborhood\u001b[0m\u001b[1;33m)\u001b[0m\u001b[1;33m;\u001b[0m\u001b[1;33m\u001b[0m\u001b[1;33m\u001b[0m\u001b[0m\n\u001b[0;32m      3\u001b[0m \u001b[0mbestPartner\u001b[0m \u001b[1;33m=\u001b[0m \u001b[0mSelectBestFitnessRouletteWheel\u001b[0m\u001b[1;33m(\u001b[0m\u001b[0msymbioticghborhood\u001b[0m\u001b[1;33m,\u001b[0m \u001b[0m_pCoGAParameter\u001b[0m\u001b[1;33m.\u001b[0m\u001b[0m_PartnerNum\u001b[0m\u001b[1;33m)\u001b[0m\u001b[1;33m;\u001b[0m\u001b[1;33m\u001b[0m\u001b[1;33m\u001b[0m\u001b[0m\n",
      "\u001b[1;31mNameError\u001b[0m: name 'PartnerSelection' is not defined"
     ]
    }
   ],
   "source": [
    "tempNeighborhood =  PartnerSelection(individualId); \n",
    "symbioticghborhood = _SpeciesVec[specciesId].GetIndividuals(tempNeighborhood);\n",
    "bestPartner = SelectBestFitnessRouletteWheel(symbioticghborhood, _pCoGAParameter._PartnerNum);"
   ]
  },
  {
   "cell_type": "code",
   "execution_count": 13,
   "metadata": {},
   "outputs": [
    {
     "ename": "NameError",
     "evalue": "name 'PartnerSelection' is not defined",
     "output_type": "error",
     "traceback": [
      "\u001b[1;31m---------------------------------------------------------------------------\u001b[0m",
      "\u001b[1;31mNameError\u001b[0m                                 Traceback (most recent call last)",
      "\u001b[1;32m<ipython-input-13-40888a5611dc>\u001b[0m in \u001b[0;36m<module>\u001b[1;34m\u001b[0m\n\u001b[0;32m      1\u001b[0m \u001b[1;31m#Steps:\u001b[0m\u001b[1;33m\u001b[0m\u001b[1;33m\u001b[0m\u001b[1;33m\u001b[0m\u001b[0m\n\u001b[1;32m----> 2\u001b[1;33m \u001b[0mtempNeighborhood\u001b[0m \u001b[1;33m=\u001b[0m  \u001b[0mPartnerSelection\u001b[0m\u001b[1;33m(\u001b[0m\u001b[0mchromo\u001b[0m\u001b[1;33m)\u001b[0m\u001b[1;33m\u001b[0m\u001b[1;33m\u001b[0m\u001b[0m\n\u001b[0m\u001b[0;32m      3\u001b[0m \u001b[0msymbioticghborhood\u001b[0m \u001b[1;33m=\u001b[0m \u001b[0m_SpeciesVec\u001b[0m\u001b[1;33m[\u001b[0m\u001b[0mspecciesId\u001b[0m\u001b[1;33m]\u001b[0m\u001b[1;33m.\u001b[0m\u001b[0mGetIndividuals\u001b[0m\u001b[1;33m(\u001b[0m\u001b[0mtempNeighborhood\u001b[0m\u001b[1;33m)\u001b[0m\u001b[1;33m;\u001b[0m\u001b[1;33m\u001b[0m\u001b[1;33m\u001b[0m\u001b[0m\n\u001b[0;32m      4\u001b[0m \u001b[0mbestPartner\u001b[0m \u001b[1;33m=\u001b[0m \u001b[0mSelectBestFitnessRouletteWheel\u001b[0m\u001b[1;33m(\u001b[0m\u001b[0msymbioticghborhood\u001b[0m\u001b[1;33m,\u001b[0m \u001b[0m_pCoGAParameter\u001b[0m\u001b[1;33m.\u001b[0m\u001b[0m_PartnerNum\u001b[0m\u001b[1;33m)\u001b[0m\u001b[1;33m;\u001b[0m\u001b[1;33m\u001b[0m\u001b[1;33m\u001b[0m\u001b[0m\n",
      "\u001b[1;31mNameError\u001b[0m: name 'PartnerSelection' is not defined"
     ]
    }
   ],
   "source": [
    "#Steps: \n",
    "tempNeighborhood =  PartnerSelection(chromo) \n",
    "symbioticghborhood = _SpeciesVec[specciesId].GetIndividuals(tempNeighborhood);\n",
    "bestPartner = SelectBestFitnessRouletteWheel(symbioticghborhood, _pCoGAParameter._PartnerNum);\n"
   ]
  },
  {
   "cell_type": "code",
   "execution_count": 14,
   "metadata": {},
   "outputs": [
    {
     "ename": "SyntaxError",
     "evalue": "invalid syntax (<ipython-input-14-5e677a9129fc>, line 1)",
     "output_type": "error",
     "traceback": [
      "\u001b[1;36m  File \u001b[1;32m\"<ipython-input-14-5e677a9129fc>\"\u001b[1;36m, line \u001b[1;32m1\u001b[0m\n\u001b[1;33m    fitness_evaluation_procedure (chromo_id):\u001b[0m\n\u001b[1;37m                                             ^\u001b[0m\n\u001b[1;31mSyntaxError\u001b[0m\u001b[1;31m:\u001b[0m invalid syntax\n"
     ]
    }
   ],
   "source": [
    "fitness_evaluation_procedure (chromo_id):\n",
    "    #Input: \n",
    "    # firm \n",
    "    # chromo a,b of population  ; [v1,vn]\n",
    "    \n",
    "    \n",
    "    #define chromo Neighberhood \n",
    "    \n",
    "    #define symbio Neighberhood \n",
    "    \n",
    "    #partner selection  "
   ]
  },
  {
   "cell_type": "code",
   "execution_count": 15,
   "metadata": {},
   "outputs": [],
   "source": [
    "population = {}\n",
    "for firm_object in (Firm._registry):\n",
    "    population[\"firm\" + str(firm_object.index)] = (populate_func(fitness_func,firm_object)).reshape(int(np.sqrt(size)),\n",
    "                                                                                                             int(np.sqrt(size)),\n",
    "                                                                                                             planning_horizon) #(sqrt(pop size) , sqrt(pop size), #of periods )\n",
    "  \n",
    "\n",
    "\n",
    "\n",
    "\n",
    "while () or () :\n",
    "    symbiotic_population = {}\n",
    "    symbiotic_neighberhood ={}\n",
    "    evolving_species = random.choice(Firm._registry) #<__main__.Firm at 0x2026cf1e8e0>\n",
    "    symbiotic_species = [ _ for _ in Firm._registry if _ != evolving_species] #<__main__.Firm at 0x2026cf1e8e0>\n",
    "    evolving_population = population[\"firm\" + str(evolving_species.index)] \n",
    "    for _ in (symbiotic_species):\n",
    "        symbiotic_population[\"firm\" + str(_.index)] = population[\"firm\" + str(_.index)]  \n",
    "    \n",
    "    arbitrary_row_loc = randrange(np.sqrt(size)) \n",
    "    arbitrary_column_loc =  randrange(np.sqrt(size))\n",
    "    intial_point_of_evolution = population[\"firm\" + str(evolving_species.index)][arbitrary_loc_row,\n",
    "                                                                                    arbitrary_loc_column] \n",
    "    evolving_neighberhood = evolving_population.take(range(arbitrary_loc_row - 1,\n",
    "                                                           arbitrary_loc_row + 2 ),\n",
    "                                                     mode='wrap',\n",
    "                                                     axis = 0).take(range(arbitrary_loc_row - 1, \n",
    "                                                                          arbitrary_loc_row + 2),\n",
    "                                                                    mode='wrap',\n",
    "                                                                    axis=1)\n",
    "              \n",
    "    for _ in (symbiotic_species):\n",
    "        symbiotic_neighberhood[\"firm\" + str(_.index)] = symbiotic_population[\"firm\" + str(_.index)].take(range(arbitrary_loc_row - 1,\n",
    "                                                       arbitrary_loc_row + 2 ),\n",
    "                                                 mode='wrap', \n",
    "                                                 axis = 0).take(range(arbitrary_loc_row - 1, \n",
    "                                                                      arbitrary_loc_row + 2),\n",
    "                                                                mode='wrap',\n",
    "                                                                axis=1)\n",
    "    max_number_of_partner_candidate = 4\n",
    "        \n",
    "        \n",
    "  "
   ]
  },
  {
   "cell_type": "code",
   "execution_count": 16,
   "metadata": {},
   "outputs": [
    {
     "ename": "SyntaxError",
     "evalue": "invalid syntax (<ipython-input-16-88be00be526a>, line 137)",
     "output_type": "error",
     "traceback": [
      "\u001b[1;36m  File \u001b[1;32m\"<ipython-input-16-88be00be526a>\"\u001b[1;36m, line \u001b[1;32m137\u001b[0m\n\u001b[1;33m    bestPartner = SelectBestFitnessRandomly(symbioticghborhood, _pCoGAParameter->_PartnerNum);\u001b[0m\n\u001b[1;37m                                                                               ^\u001b[0m\n\u001b[1;31mSyntaxError\u001b[0m\u001b[1;31m:\u001b[0m invalid syntax\n"
     ]
    }
   ],
   "source": [
    "def Coevo_GA(populate_func: PopulateFunc, \n",
    "                  fitness_func: FitnessFunc, \n",
    "                  crossover_func: CrossoverFunc,\n",
    "                  mutation_func: MutationFunc, \n",
    "                  generation_limit: int = 1000, \n",
    "                  number_of_similarity: int = 50, \n",
    "                  selection_func: SelectionFunc = selection_pair):\n",
    "\n",
    "#I.Initialisation :\n",
    "    #1.Initilise population for each player and map population into a 2x2 lattice ; each chromo must have T genes \n",
    "    #2.map The population of each player into toroidal grids \n",
    "      # each population represents the coevolving solution communicating with other population,\n",
    "     #Each of the populations forms a two-dimensional structure of toroidal square lattic\n",
    "    #result :  3 population \n",
    "    population = {}\n",
    "    \n",
    "    for firm_object in (Firm._registry):\n",
    "        population[\"firm\" + str(firm_object.index)] = (populate_func(fitness_func,firm_object)).reshape(int(np.sqrt(size)),\n",
    "                                                                                                             int(np.sqrt(size)),\n",
    "                                                                                                             planning_horizon)#(sqrt(pop size) , sqrt(pop size), #of periods )\n",
    "###   \n",
    "  \n",
    "#II. Initial fitness evaluation   \n",
    "    #======#\n",
    "    # Evaluate each chromo such that it is combined with all symbiotic partners that are located at the same position in all of the other populations.\n",
    "    #get chromo list \n",
    "    \n",
    "    \n",
    "    #Set fbest to be the fitnesss of the best combination.\n",
    "    \n",
    "    \n",
    "    \n",
    "    \n",
    "    #======#\n",
    "    \n",
    "    \n",
    "# Run the coevolutionnary loop / the evolution of populations:While one population evolves, it interacts with the other population. \n",
    "#while (number_of_generation < generation_limit) or (chromo_deviation_chech() > deviation_threshold);\n",
    "        # the coevolving process runs for a predefined number of generations:\n",
    "        # the deviation of the chromosome for each species is smaller than the pre-specified threshold, ψ) == false:\n",
    "        \n",
    "while () or () :       \n",
    "        \n",
    "    #III. Neighbehood construction : \n",
    "        #1. Randomly select a firm, h.,ie the evolving spiecees.\n",
    "            #identify the remainder as symbiotic spieces \n",
    "                # the evolving firm =  firm h\n",
    "                # symbiotic firms = firn l.\n",
    "                \n",
    "        symbiotic_population = {}\n",
    "        symbiotic_neighberhood ={}\n",
    "        \n",
    "        \n",
    "        evolving_species = random.choice(Firm._registry) #<__main__.Firm at 0x2026cf1e8e0>\n",
    "        symbiotic_species = [ _ for _ in Firm._registry if _ != evolving_species] #<__main__.Firm at 0x2026cf1e8e0>\n",
    "        \n",
    "        evolving_population = population[\"firm\" + str(evolving_species.index)] \n",
    "        \n",
    "        for _ in (symbiotic_species):\n",
    "            symbiotic_population[\"firm\" + str(_.index)] = population[\"firm\" + str(_.index)]  \n",
    "   \n",
    " \n",
    "\n",
    "   \n",
    "        # 2: Select an arbitrary location (m,n) from toroidal grids for firm h \n",
    "            #for which a neighborhood will be defined for the evolution process#Scope_of_Partners_Toroidal_grids_ST()\n",
    "        arbitrary_row_loc = randrange(np.sqrt(size)) \n",
    "        arbitrary_column_loc =  randrange(np.sqrt(size))\n",
    "            \n",
    "            # Identify the corrosponding chromo of the evolving firm \"\" chromo(m,n)\" \" as the center of evolution \n",
    "             # \"\"\"chromo@ (3,3) of firm 2 is selected as the initial point for the evolution \"\"\"\n",
    "        intial_point_of_evolution = population[\"firm\" + str(evolving_species.index)][arbitrary_loc_row,\n",
    "                                                                                    arbitrary_loc_column]\n",
    "\n",
    "                \n",
    "        # 3: Set  up the Neighberhood N_mn structure for the evolution process based on the selected chromo location\n",
    "         #For the localized coevolution, a structure of 3 × 3 neighborhood is used for the localized coevolution.\n",
    "                        ##Toroidal_grids (ST): are  the scope of an evolving neighborhood (EN) \"\"\"\n",
    "                # Example:  Nmn: 3x3 neighbors of the chromosomes  (3,3)  \n",
    "        #4. Set  up the Evolving Neighberhood from the evolving firm EN_mn[h]\n",
    "        # EN_mn[h]: the neighborhood including chromo @location (m; n) and its 8 neighbors in the evolving firm pop Pop[h]\n",
    "        #Once chromo@ (3,3) of evolving firm 2 is selected as the initial point for the evolution, \n",
    "            #==> the neighborhoods of the evolving speicies (EN=N_mn) of the selected chromosome is identifies\n",
    "            # these 9 chromos are selcted from the chosen firm's population \n",
    "            #  These are candidate partners for the fitness evaluation,  Chromo @ the same positions in the population of the other firms\n",
    "   \n",
    "                \n",
    "        evolving_neighberhood = evolving_population.take(range(arbitrary_loc_row - 1,\n",
    "                                                       arbitrary_loc_row + 2 ),\n",
    "                                                 mode='wrap', \n",
    "                                                 axis = 0).take(range(arbitrary_loc_row - 1, \n",
    "                                                                      arbitrary_loc_row + 2),\n",
    "                                                                mode='wrap',\n",
    "                                                                axis=1)\n",
    "        # 5: Set  up the Neighberhood for the sympioses firm SN_mn[l]\n",
    "        # SNmn[l]: the neighborhood including individual (m,n) and its eight neighbors in the sympioses  firm  pop\n",
    "        # these are candidate partners for the fitness evaluation: \n",
    "        # these are  Chromo @ the same positions in the population of the other firms\n",
    "        #Once chromo@ (3,3) of evolving firm 2 is selected as the initial point for the evolution, \n",
    "         #====> the neighborhoods of the arbitrary symbiotic speicies (SN= Nmn ) are identified.  \n",
    "            \n",
    "            \n",
    "        for _ in (symbiotic_species):\n",
    "            symbiotic_neighberhood[\"firm\" + str(_.index)] = symbiotic_population[\"firm\" + str(_.index)].take(range(arbitrary_loc_row - 1,\n",
    "                                                       arbitrary_loc_row + 2 ),\n",
    "                                                 mode='wrap', \n",
    "                                                 axis = 0).take(range(arbitrary_loc_row - 1, \n",
    "                                                                      arbitrary_loc_row + 2),\n",
    "                                                                mode='wrap',\n",
    "                                                                axis=1)\n",
    "    \n",
    "        #6: select The best partner in scope (PB): call on \"Partner chromo selection strategies\" fn:  \n",
    "         #====>#Partner selection : select the chromos from the symbios firms using single partner by fitness based random selection    \n",
    "        # match each chromosome with a partner chromosome from the population of each player\n",
    "        #matching process, ie Symbiotic partner selection Partner Selection method :\n",
    "      \n",
    "        \n",
    " #================================================================================================#\n",
    "                #Single partner by fitness-based random selection (PF) procedure:\n",
    "    #1). Input max # of selected candidate partners for the evaluation process (Assume 4). \n",
    "\n",
    "        max_number_of_partner_candidate = 4\n",
    "        \n",
    "        \n",
    "        #Input chromo to be evaluatred from EN : \n",
    "        \n",
    "        \n",
    "        \n",
    "    #2). For each symbiotic firm: \n",
    "        for _ in (symbiotic_species): \n",
    "        #evaluate the fitness for each chromo \n",
    "        \n",
    "            symbiotic_neighberhood[\"firm\" + str(_.index)]\n",
    "        # sort the neighberhood based on fitness \n",
    "        \n",
    "        #Step 1: select the best 4 chromo\n",
    "        bestPartner = SelectBestFitnessRandomly(symbioticghborhood, _pCoGAParameter->_PartnerNum);\n",
    "        \n",
    "        #randomly select 1 chromo from the 4 based on fitness \n",
    "        \n",
    "        \n",
    "        #Candidate chromo from SN_mn[l] based on fitness \n",
    "            # select the 4 chromosomes with the highest fitness values in the SN_mn[l] : \n",
    "            # exple of chosen chromo for a sumbio firm; firm 3: chromo^3_32, chromo^3_33, chromo^3_22, chromo^3_43  \n",
    "        #Step 2: Randomly and with selection probability dependent on their fitness values , return 1 partner (chromo) from each firm l\n",
    "                                #Output :\n",
    "                                # ============================================\n",
    "                                # sumbio Firm  | Selected Partner fron the SN           \n",
    "                                #=============================================\n",
    "                                #   1        |   [v1,......., vn]\n",
    "                                #=============================================\n",
    "\n",
    "                                #    3        |   [v1,......., vn]\n",
    "\n",
    "                                #=============================================\n",
    " #================================================================================================#\n",
    "\n",
    "        # 7. evalute the fitness\n",
    "            # now that symbiotic partners are determined for each symbio firm, we can assess the fitness of the chosen chromo / individual from the evolving firm\n",
    "            #expl: evaluate the fitness of the randomly choson chromo P^2_34 using P^1_33, P^3_43, P^4_23  \n",
    "            ##exple 2: to be able to evaluare the fitness of chromo^h_ab in EN:  the chromo located (a, b)  from the evolving firm's population, a partner\n",
    "            #P^l_cd ={P^3_cd, P^1_cd } : chromo with the best fitness value belonging a symbiotic species, for each of the other players is selected.\n",
    "            #With the set of these selected chromosomes, we can evalute the fitness of  each chromo :\n",
    "\n",
    "\n",
    "        \n",
    "    \n",
    "    #Step 6: combine to complete an integrated solution \n",
    "            # store Information on partners and the fitness value for each chromosome.\n",
    "\n",
    "\n",
    "    \n",
    "     #IV.Crossover and mutation: Coevolution process is responsible for the localized coevolution.\n",
    "        # The neighbors are evolved and maintained throughou the following steps\n",
    "        \n",
    "\n",
    " \n",
    "    #4. Selection function: \n",
    "        #Select two parents from EN using the roulettewheel selection method based on fitness \n",
    "            parents = selection_func(population, fitness_func, weights = weights)\n",
    "            #print(\"parent are\", parents) \n",
    "            \n",
    "    \n",
    "    #5. Crossover function: \n",
    "        #Generate 2 offspring by a crossover operation. \n",
    "            offspring_a, offspring_b = crossover_func(parents[0], parents[1])  \n",
    "\n",
    "        \n",
    "    #6. replacememt \n",
    "        # Replace the two worst individuals in EN with the two new offspring \n",
    "        #evalute fitness of the new offspring \n",
    "        \n",
    "    #6. mutation operation. \n",
    "        #select random chromo from EN using a mutation probabilty \n",
    "        # mutate the selected chromo\n",
    "    \n",
    "    #7. Update the fitness values of the two offspring using the fitness evaluation procedure: fitness function\n",
    "        # Evaluate The fittness is of the 2 offspring \n",
    "        # where the symbiotic partners are randomly selected from the other firms l neighberhood  \n",
    " \n",
    "    #8.  If fitness of the best individual >  fbest, then fbest is updated with the new best fitness.\n",
    "\n",
    "        \n",
    "    #9. update number_of_generation: number_of_generation += 1 \n",
    "       \n",
    "    \n",
    "    #10. check for fitness simularities (chromo_deviation_chech() > deviation_threshold); (repeat neigberhood construction for another generation)\n",
    "\n",
    "\n",
    "    \n",
    "    \n",
    "#END OF WHILE LOOP : ==> STORING Resutls:  3populations \n",
    "#each firm has its final population composed its chromosomes  \n",
    "#each chromo in each population of each firm has:\n",
    "    #1. fitness values\n",
    "    #2. selected partners (collected from other population during fitness evaluation)\n",
    "\n",
    "# Each firm has a set of integrated solutions\n",
    "# integrated solution of firm 1= {chromo_firm1, chromo_firm2, chromo_firm3 } #the chromo for all the firms.\n",
    "\n",
    "# ----------------------------------------\n",
    "#  Firm 1 | Population | Chromo | Fitness \n",
    "#-----------------------------------------\n",
    "#  Firm 1 |1           | Chromo | Fitness \n",
    "#-----------------------------------------\n",
    "#  Firm 1 | Generation limit | Chromo | Fitness \n",
    "#-----------------------------------------\n",
    "\n",
    "# ----------------------------------------\n",
    "#  Firm 2 | Population | Chromo | Fitness \n",
    "#-----------------------------------------\n",
    "#  Firm 2 |1           | Chromo | Fitness \n",
    "#-----------------------------------------\n",
    "#  Firm 2 | Generation limit | Chromo | Fitness \n",
    "#-----------------------------------------\n",
    "\n",
    "# ----------------------------------------\n",
    "#  Firm 3 | Population | Chromo | Fitness \n",
    "#-----------------------------------------\n",
    "#  Firm 3 |1           | Chromo | Fitness \n",
    "#-----------------------------------------\n",
    "#  Firm 3 | Generation limit | Chromo | Fitness \n",
    "#-----------------------------------------\n",
    "\n",
    "    \n",
    "#================================================================================================#\n",
    "#Selection of 1 integrated sollution\n",
    "#A biding process  for deriving agreement among firms with multiple alternative solutions from the CoGA \"\"\"\n",
    "#The sequential_bidding_procedure:\n",
    "    # each player submits one solution in each round \n",
    "    # until all the players agree on the same solution among all the solutions submitted thus far.\n",
    "    \n",
    "def Selectio_nof1 integrated sollution sequential_bidding_procedure():\n",
    "# U[firm_j] ={d[i=0, firm1], d[i=1,firm1], ..., .} : \n",
    "# set of all the Pareto-optimal integrated solutions of firm j wt we get fron coev\n",
    "# d: integrated solution\n",
    "#d[i, firm_j] : ith Pareto-optimal integrated solution of firm j\n",
    "# s_firm_j(d) :  solution of firm j in an integrated solution d.\n",
    "# fitness[firm_j](d): net present value of firm j in an integrated solution d\n",
    "# fitness[i, firm_j] : payoff of firm j in the i th Pareto-optimal integrated solution of firm j\n",
    "\n",
    "\n",
    "#I: inialisation: \n",
    "    # Solution_set = np.empty\n",
    "    #Sort The integrated solutions of each playerin decreasing order of the profit of the corresponding player.\n",
    "    # i = 0 # ith Pareto-optimal integrated solution of the firm \n",
    "    #check = false \n",
    "# while terminate = false : \n",
    "    # II: increment \n",
    "    # i = i + 1\n",
    "    \n",
    "    # III. for all firms j : for all firm_object in (Firm._registry):\n",
    "    # if U[firm] is empty for any firm j:\n",
    "        # there is no agreed solution, Stop break!\n",
    "    #else:\n",
    "        #Solution_set += d[i, firm_j] #add all firms 1st integrated solution to the solution set\n",
    "        # U[firm_j].remve (d[i, firm_j]) #remove all  firms 1st  integrated solution from the set of all the Pareto-optimal integrated solutions of firm j U[firm_j]\n",
    "          # Check for all firms whether there exists any integrated solution 'd' in Solution_set such that \n",
    "          # if fitness[firm_j](d[i,firm_j]) <= fitness[firm_j](d) for all firm j : \n",
    "            #terminate = true      \n",
    "        \n",
    "#d* = d #if If there is multiple d, then select d with the largest total payoff, as d*     \n",
    "#return a selected integreated solution \n",
    "# When each players submit their bids (chromo1, chromo2, chromo3)\n",
    "# firm x  accepts the  bid proposed by firm y because its profit in the bid by player x is larger than its profit\n",
    "# withh its ownn bid.\n",
    "\n",
    "#================================================================================================#\n",
    "def local_search_procedure():\n",
    "    \"\"\" perform a locaal serach using the selected solution\n",
    "    fine tuning of the selected integrated solution with a local search \n",
    "    to find the  NE \"\"\"  \n",
    "#The iterative local search algorithm optimizes the solution of a player \n",
    "# to maximize the profit of the player with fixed solutions of the other players \n",
    "# until no player can increase its profit or a termination condition is met \n",
    "#step size of the local search mu = 0.0001\n",
    "#range of the local search\n",
    "    pass \n",
    "\n",
    " #================================================================================================#\n",
    "\n",
    "\n",
    "########    \n",
    "    #2 Simulate until you reach generation limit,\n",
    "    i = 0\n",
    "    progress = pd.DataFrame(columns=['Generation', 'Vessel Speed', 'Firm Discounted profit', \n",
    "                                'Number of vessels', 'Carbon Emissions', 'Sulfur Emissions'])\n",
    "    \n",
    "    for i in range(generation_limit):\n",
    "        #Step 1 : Sort solutions in the population of generation i based on fitness to select the best 2 solutions \n",
    "        population = sorted(population, key=lambda chromo: fitness_func(chromo)[0], reverse=True) \n",
    "        \n",
    "        progress = progress.append({'Generation': i,\n",
    "                          'Vessel Speed': population[0],\n",
    "                          'Firm Discounted profit': fitness_func(population[0])[0],\n",
    "                          'Number of vessels': fitness_func(population[0])[1] , \n",
    "                          'Carbon Emissions': fitness_func(population[0])[2] , \n",
    "                          'Sulfur Emissions': fitness_func(population[0])[3] }, ignore_index=True) \n",
    "        \n",
    "        #Similarity check\n",
    "        if fitness_similarity_chech(progress['Firm Discounted profit'], number_of_similarity) == 1:\n",
    "            break\n",
    "#         print(progress)\n",
    "#         print (i)\n",
    "#         print(\"Best vessel speed in the\", i, \"th generation is\" ,population[0] ) \n",
    "#         print(\"Best fitness in the\", i, \"th generation is\", fitness_func(population[0]))\n",
    "    \n",
    "              \n",
    "        #Step 2: Implement elitism and pick the top 2 chromo(speed) in the population based on fitness for the next gernation \n",
    "        next_generation = population[0:2]      \n",
    "        max = np.sum([fitness_func(chromo)[0] for chromo in population])\n",
    "        weights= np.hstack([fitness_func(chromo)[0] / max for chromo in population])\n",
    "        \n",
    "        #Step 3: j in range 24 \n",
    "        for j in range(int(len(population) / 2) - 1):\n",
    "            #Step 1: Selection\n",
    "            parents = selection_func(population, fitness_func, weights = weights)\n",
    "            #print(\"parent are\", parents) \n",
    "            \n",
    "            #Step 2: Crossover\n",
    "            offspring_a, offspring_b = crossover_func(parents[0], parents[1])\n",
    "            \n",
    "\n",
    "            #Step 3: mutation \n",
    "            offspring_a = mutation_func(offspring_a)\n",
    "            offspring_b = mutation_func(offspring_b)\n",
    "            #print(\"offspring a \", offspring_a) \n",
    "            #print(\"offspring b\", offspring_b) \n",
    "            \n",
    "            #Step 4: Next generation \n",
    "            next_generation += [offspring_a, offspring_b]\n",
    "            \n",
    "        #print(\"next generation\",i, \"is\", next_generation)       \n",
    "        population = next_generation #update current population with our next generation and start into the next round of the algo by sorting the population and checking if we reached our fitness limit \n",
    "    \n",
    "    #Sort the population one last time in case we run out of generation  \n",
    "    population = sorted(population, key=lambda chromo: fitness_func(chromo)[0], reverse=True)\n",
    "    progress = progress.append({'Generation': i+1,\n",
    "                          'Vessel Speed': population[0],\n",
    "                          'Firm Discounted profit': fitness_func(population[0])[0],\n",
    "                          'Number of vessels': fitness_func(population[0])[1] , \n",
    "                          'Carbon Emissions': fitness_func(population[0])[2] , \n",
    "                          'Sulfur Emissions': fitness_func(population[0])[3] }, ignore_index=True) \n",
    "    print(progress)\n",
    "    return progress\n",
    "\n",
    "\n"
   ]
  },
  {
   "cell_type": "code",
   "execution_count": 17,
   "metadata": {},
   "outputs": [],
   "source": [
    "def one_integrated_solution_selection():\n",
    "    \"\"\" Select 1 integrated solution for all the firms \n",
    "A biding process  for deriving agreement among firms with multiple alternative solutions from the CoGA \"\"\"\n",
    "# to derive an agreement on the final solution among all the firms. \n",
    "# Rule:  The final agreement should satisfy each player as much as possible. \n",
    "\n",
    "#The bidding process:\n",
    "    # each player submits one solution in each round \n",
    "    # until all the players agree with the same solution among all the solutions submitted thus far.\n",
    "\n",
    "# Players agree with a solution if :\n",
    "# (1) It is one of the Pareto optimal solutions among all the solutions the players have.\n",
    "# (2) When the bidding process is applied, no other solution gives a higher profit to each player than the agreed solution.\n",
    "#return a selected integreated solution \n",
    "    pass"
   ]
  },
  {
   "cell_type": "code",
   "execution_count": 18,
   "metadata": {},
   "outputs": [],
   "source": [
    "def local_search_procedure():\n",
    "    \"\"\" perform a locaal serach using the selected solution\n",
    "    fine tuning of the selected integrated solution with a local search \n",
    "    to find the  NE \"\"\"  \n",
    "#The iterative local search algorithm optimizes the solution of a player \n",
    "# to maximize the profit of the player with fixed solutions of the other players \n",
    "# until no player can increase its profit or a termination condition is met \n",
    "#step size of the local search mu = 0.0001\n",
    "#range of the local search\n",
    "    pass \n"
   ]
  },
  {
   "cell_type": "markdown",
   "metadata": {},
   "source": [
    "# 1. Set Up Simulation Parameters:"
   ]
  },
  {
   "cell_type": "markdown",
   "metadata": {},
   "source": [
    "## * Firm 1:"
   ]
  },
  {
   "cell_type": "code",
   "execution_count": 19,
   "metadata": {},
   "outputs": [],
   "source": [
    "####################################### 1. Firm & Market specific Parameters ###########################################\n",
    "                    #===========================>  Firm 1 Attributes <==========================#\n",
    "index_1 = 1\n",
    "capacity_1 = np.array([5905]) \n",
    "max_number_of_vessel_1= np.array([100]) \n",
    "design_speed_1 = np.array([23.3]) #design speed of the vessel in knots\n",
    "min_speed_1 = np.array([10])\n",
    "max_speed_1 = np.array([30])\n",
    "main_engine_power_1 =np.array([41186])  # main engine power in kW\n",
    "aux_engine_power_1 =np.array([2433])  # auxiliary engine power [kW] \n",
    "fix_cost_1 = np.array([6750000])   #Daily cost of vessel (USD/Day) $25,000\n",
    "fuel_type_1 = \"HFO\""
   ]
  },
  {
   "cell_type": "markdown",
   "metadata": {},
   "source": [
    "## * Firm 2:"
   ]
  },
  {
   "cell_type": "code",
   "execution_count": 20,
   "metadata": {},
   "outputs": [],
   "source": [
    "                    #===========================>  Firm 2 Attributes <==========================#\n",
    "index_2 = 2\n",
    "capacity_2 = np.array([6470])\n",
    "max_number_of_vessel_2 = np.array([100])\n",
    "design_speed_2 = np.array([24.7])  #design speed of the vessel in knots\n",
    "min_speed_2 = np.array([10])\n",
    "max_speed_2 = np.array([30])\n",
    "main_engine_power_2 = np.array([56273]) # main engine power in kW\n",
    "aux_engine_power_2 =np.array([2433])   # auxiliary engine power [kW] \n",
    "fix_cost_2 =np.array([ 6750000]) #Daily cost of vessel (USD/Day) $25,000\n",
    "fuel_type_2 = \"HFO\""
   ]
  },
  {
   "cell_type": "markdown",
   "metadata": {},
   "source": [
    "## * Firm 3:"
   ]
  },
  {
   "cell_type": "code",
   "execution_count": 21,
   "metadata": {},
   "outputs": [],
   "source": [
    "                    #===========================>  Firm 3 Attributes <==========================#\n",
    "index_3 = 3\n",
    "capacity_3 = np.array([6470])\n",
    "max_number_of_vessel_3 = np.array([100])\n",
    "design_speed_3 = np.array([24.7])  #design speed of the vessel in knots\n",
    "min_speed_3 = np.array([10])\n",
    "max_speed_3 = np.array([30])\n",
    "main_engine_power_3 = np.array([56273]) # main engine power in kW\n",
    "aux_engine_power_3 =np.array([2433])   # auxiliary engine power [kW] \n",
    "fix_cost_3 =np.array([ 6750000]) #Daily cost of vessel (USD/Day) $25,000\n",
    "fuel_type_3 = \"HFO\""
   ]
  },
  {
   "cell_type": "markdown",
   "metadata": {},
   "source": [
    "## * Market :"
   ]
  },
  {
   "cell_type": "code",
   "execution_count": 22,
   "metadata": {},
   "outputs": [],
   "source": [
    "                    #===========================> Market Attributes <==========================#\n",
    "number_of_firms = 3\n",
    "pollution_decay_parameter =  np.array([0.2])\n",
    "pollution_damage_parameter =  np.array([1.5])\n",
    "\n",
    "year = np.arange(2016, 2051)\n",
    "income_elasticity = np.array([0.8]) #Constant income elasticity #IMF\n",
    "price_elasticity = np.array([-0.7])   #Constant own price elasticity#IMF\n",
    "freight_rate = np.array([1800]) ## in US$/TEU\n",
    "fuel_data = pd.DataFrame(np.array([[422.50, 525.50, 597.00], \n",
    "                                [3.114,3.206,3.206],\n",
    "                                [0.07,0.01,0.002]]),\n",
    "                         columns=['HFO', 'ULSFO', 'MGO'],\n",
    "                         index = ['price', 'carbon_factor', 'sulfur_factor'])\n",
    "discount = np.array([0.02])  ##3  to 5 % transport canada ,#to be updated using the Ramsey rule,#pure rate of time preference of 1.5% + growth rate of consumption g * rate of risk conversion , an elasticity value of 2"
   ]
  },
  {
   "cell_type": "markdown",
   "metadata": {},
   "source": [
    "# 2. Initialize Game and Set up firm and market objects "
   ]
  },
  {
   "cell_type": "code",
   "execution_count": 23,
   "metadata": {},
   "outputs": [],
   "source": [
    "\"\"\" This cell needs to run once throughout the kernel\"\"\"\n",
    "####################################### 2.Simulation Game Initialisation ###########################################\n",
    "firm_1 = Firm(index_1, capacity_1, max_number_of_vessel_1, design_speed_1, \n",
    "                 min_speed_1, max_speed_1, main_engine_power_1, aux_engine_power_1,\n",
    "                 fix_cost_1, fuel_type_1) \n",
    "\n",
    "firm_2 = Firm(index_2, capacity_2, max_number_of_vessel_2, design_speed_2, \n",
    "                 min_speed_2, max_speed_2, main_engine_power_2, aux_engine_power_2,\n",
    "                 fix_cost_2, fuel_type_2) \n",
    "\n",
    "firm_3 = Firm(index_3, capacity_3, max_number_of_vessel_3, design_speed_3, \n",
    "                 min_speed_3, max_speed_3, main_engine_power_3, aux_engine_power_3,\n",
    "                 fix_cost_3, fuel_type_3) \n",
    "\n",
    "\n",
    "\n",
    "game_config = MarketConfig(number_of_firms, pollution_decay_parameter, pollution_damage_parameter, income_elasticity, price_elasticity, freight_rate, \n",
    "                           fuel_data, discount)\n",
    "\n",
    "####################################### 3.Get market capacity #################################\n",
    "for  firm_object in Firm._registry:\n",
    "    market_capacity_sim = game_config.get_market_capacity(firm_object)"
   ]
  },
  {
   "cell_type": "markdown",
   "metadata": {},
   "source": [
    "# 3. Market Demand"
   ]
  },
  {
   "cell_type": "code",
   "execution_count": 24,
   "metadata": {},
   "outputs": [
    {
     "name": "stdout",
     "output_type": "stream",
     "text": [
      "market demand [1303780.         1378613.27053661 1417081.19385409 1448735.913652\n",
      " 1397511.98183639 1455352.28446974 1504050.11466377 1549602.07735933\n",
      " 1594072.22320876 1638552.17226732 1684273.26074193 1731270.12057536\n",
      " 1779578.35005746 1829234.54078948 1880276.30540081 1932742.30603904\n",
      " 1986672.28365504 2042107.08810522 2099088.70909364 2157660.30797763\n",
      " 2217866.2504608  2279752.14019835 2343364.85334008 2408752.57403719\n",
      " 2475964.83093995 2545052.53471369 2616068.01660168 2689065.06806397\n",
      " 2764098.98152235 2841226.59224218 2920506.32138292 3001998.22024985\n",
      " 3085764.01578064 3171867.15730103 3260372.86458528]\n",
      "firm 1 market share [0.31334572]\n",
      "firm 2 market share [0.34332714]\n",
      "firm 3 market share [0.34332714]\n"
     ]
    }
   ],
   "source": [
    "## Get freight ratio for passethrough\n",
    "beta_sim = game_config.get_freight_rate_ratio()\n",
    "\n",
    "# Get market demand  \n",
    "market_demand_sim, gdp_sim, market_psy_sim = game_config.get_market_demand()\n",
    "print(\"market demand\", market_demand_sim)\n",
    "\n",
    "# Get each firm's  market share  \n",
    "firm_1_market_share_sim = firm_1.get_market_share(game_config)\n",
    "print(\"firm 1 market share\", firm_1_market_share_sim)\n",
    "\n",
    "firm_2_market_share_sim = firm_2.get_market_share(game_config)\n",
    "print(\"firm 2 market share\", firm_2_market_share_sim)\n",
    "\n",
    "firm_3_market_share_sim = firm_3.get_market_share(game_config)\n",
    "print(\"firm 3 market share\", firm_3_market_share_sim)"
   ]
  },
  {
   "cell_type": "markdown",
   "metadata": {},
   "source": [
    "### Graphing Market Demand:"
   ]
  },
  {
   "cell_type": "code",
   "execution_count": 25,
   "metadata": {},
   "outputs": [
    {
     "data": {
      "image/png": "[encoded data removed]",
      "text/plain": [
       "<Figure size 432x288 with 1 Axes>"
      ]
     },
     "metadata": {},
     "output_type": "display_data"
    },
    {
     "data": {
      "image/png": "[encoded data removed]",
      "text/plain": [
       "<Figure size 432x288 with 1 Axes>"
      ]
     },
     "metadata": {},
     "output_type": "display_data"
    }
   ],
   "source": [
    "#======> Plotting BAU GDP,2016=100\n",
    "sns.set()\n",
    "ax=sns.lineplot(x=year ,y =gdp_sim, color = 'red')\n",
    "ax.set(xlabel='year', ylabel='GDP')\n",
    "plt.title(\"BAU GDP,2016=100\" )\n",
    "plt.show()\n",
    "\n",
    "#======> Plotting Market Demand Projections in BAU senario: Y\n",
    "ax=sns.lineplot(x=year ,y = market_demand_sim, color = 'green')\n",
    "ax.set(xlabel='year', ylabel='transport work in TEU')\n",
    "plt.title(\"market demand in TEU \" )\n",
    "plt.show()\n",
    "\n",
    "#======> Plotting Marketshare per firm\n",
    "\n"
   ]
  },
  {
   "cell_type": "markdown",
   "metadata": {},
   "source": [
    "## a. Firm 1:"
   ]
  },
  {
   "cell_type": "code",
   "execution_count": 26,
   "metadata": {},
   "outputs": [
    {
     "name": "stdout",
     "output_type": "stream",
     "text": [
      "firm 1 demand [ 408533.87635978  431982.56102514  444036.3199633   453955.19077289\n",
      "  437904.39123077  456028.40221777  471287.65864099  485561.17096348\n",
      "  499495.70061277  513433.30205564  527759.8092163   542486.07386561\n",
      "  557623.25057518  573182.80516646  589176.52339569  605616.51988116\n",
      "  622515.24727954  639885.5057183   657740.45249127  676093.61202483\n",
      "  694958.8861221   714350.56449304  734283.33557831  754772.29767522\n",
      "  775832.97037412  797481.30631384  819733.70326521  842607.01655175\n",
      "  866118.5718169   890286.17814752  915128.1415636   940663.27888434\n",
      "  966910.93198114  993890.98242837 1021623.86656281]\n",
      "firm 1 ship energy [0.00053659]\n"
     ]
    }
   ],
   "source": [
    " # 7.Get firm passthrough parameter\n",
    "firm_1_psy_sim = firm_1.get_firm_param(game_config)\n",
    "\n",
    "# 7.Get firm level demand  \n",
    "firm_1_demand_sim = firm_1.get_firm_demand(game_config)\n",
    "print(\"firm 1 demand\", firm_1_demand_sim)\n",
    "    \n",
    "# 9.Get ship energy efficiency  \n",
    "firm_1_ship_energy_sim = firm_1.get_ship_energy_efficiency(game_config)\n",
    "print(\"firm 1 ship energy\", firm_1_ship_energy_sim)"
   ]
  },
  {
   "cell_type": "code",
   "execution_count": null,
   "metadata": {
    "scrolled": true
   },
   "outputs": [],
   "source": [
    "#======> Plotting The firm's \n",
    "ax=sns.lineplot(x=year ,y = firm_1_demand_sim , color = 'green')\n",
    "ax.set(xlabel='year', ylabel='transport work in TEU')\n",
    "plt.title(\"firm 1 level demand in TEU \" )\n",
    "plt.show()"
   ]
  },
  {
   "cell_type": "markdown",
   "metadata": {},
   "source": [
    "## b. Firm 2"
   ]
  },
  {
   "cell_type": "code",
   "execution_count": null,
   "metadata": {},
   "outputs": [],
   "source": [
    "# 7.Get firm passthrough parameter\n",
    "firm_2_psy_sim = firm_2.get_firm_param(game_config)\n",
    "\n",
    "# 7.Get firm level demand  \n",
    "firm_2_demand_sim = firm_2.get_firm_demand(game_config)\n",
    "print(\"firm 2 demand\", firm_2_demand_sim)\n",
    "\n",
    "\n",
    "# 9.Get ship energy efficiency  \n",
    "firm_2_ship_energy_sim = firm_2.get_ship_energy_efficiency(game_config)\n",
    "print(\"firm 2 ship energy\", firm_2_ship_energy_sim)"
   ]
  },
  {
   "cell_type": "code",
   "execution_count": null,
   "metadata": {},
   "outputs": [],
   "source": [
    "#======> Plotting The firm's \n",
    "ax=sns.lineplot(x=year ,y = firm_2_demand_sim , color = 'green')\n",
    "ax.set(xlabel='year', ylabel='transport work in TEU')\n",
    "plt.title(\"firm 2 level demand in TEU \" )\n",
    "plt.show()"
   ]
  },
  {
   "cell_type": "markdown",
   "metadata": {},
   "source": [
    "## c. Firm 3"
   ]
  },
  {
   "cell_type": "code",
   "execution_count": null,
   "metadata": {},
   "outputs": [],
   "source": [
    "# 7.Get firm passthrough parameter\n",
    "firm_3_psy_sim = firm_3.get_firm_param(game_config)\n",
    "\n",
    "# 7.Get firm level demand  \n",
    "firm_3_demand_sim = firm_3.get_firm_demand(game_config)\n",
    "print(\"firm 3 demand\", firm_3_demand_sim)\n",
    "\n",
    "\n",
    "# 9.Get ship energy efficiency  \n",
    "firm_3_ship_energy_sim = firm_3.get_ship_energy_efficiency(game_config)\n",
    "print(\"firm 3 ship energy\", firm_3_ship_energy_sim)"
   ]
  },
  {
   "cell_type": "code",
   "execution_count": null,
   "metadata": {},
   "outputs": [],
   "source": [
    "#======> Plotting The firm's \n",
    "ax=sns.lineplot(x=year ,y = firm_3_demand_sim , color = 'green')\n",
    "ax.set(xlabel='year', ylabel='transport work in TEU')\n",
    "plt.title(\"firm 3 level demand in TEU \" )\n",
    "plt.show()"
   ]
  },
  {
   "cell_type": "markdown",
   "metadata": {},
   "source": [
    "##  c. Memership Decision and coalition formation"
   ]
  },
  {
   "cell_type": "code",
   "execution_count": null,
   "metadata": {},
   "outputs": [],
   "source": [
    "initial_carbon_tax_sim = 20 #USD/ton\n",
    "taxation_scheme_rate_sim = 0.04"
   ]
  },
  {
   "cell_type": "code",
   "execution_count": null,
   "metadata": {},
   "outputs": [],
   "source": [
    "def BAU_emissions_period(p_index):\n",
    "    results_period = {}\n",
    "    optimum_solution_period ={}\n",
    "    carbon_industry_emission_period = 0\n",
    "    sulfur_industry_emission_period = 0\n",
    "    for firm_object in (Firm._registry):\n",
    "        results  = run_evolution(\n",
    "            populate_func = partial(generate_population,\n",
    "                                    size=50,\n",
    "                                    chromo_lower_bound = firm_object.min_speed ,\n",
    "                                    chromo_upper_bound = firm_object.max_speed, \n",
    "                                    planning_horizon = MarketConfig.T),\n",
    "            fitness_func = partial(fitness,\n",
    "                                   firm = firm_object,\n",
    "                                   sim_game = game_config,\n",
    "                                   max_number_of_vessel = firm_object.max_number_of_vessel,\n",
    "                                   period_index = my_period_index),\n",
    "            crossover_func = partial(BLX_alpha_crossover,\n",
    "                                     chromo_lower_bound= firm_object.min_speed ,\n",
    "                                     chromo_upper_bound = firm_object.max_speed),\n",
    "            generation_limit = 100,\n",
    "            number_of_similarity = 30,\n",
    "            mutation_func = partial (mutation,\n",
    "                                     variance = 0.009,\n",
    "                                     chromo_lower_bound =  firm_object.min_speed,\n",
    "                                     chromo_upper_bound= firm_object.max_speed,\n",
    "                                     probability = 0.5))\n",
    "        results_period[\"firm\" + str(firm_object.index)] = results\n",
    "        \n",
    "        # Store Optimum Solution table     \n",
    "        optimum_solution_period[\"firm\" + str(firm_object.index)] = results_period[\"firm\" + str(firm_object.index)].iloc[[-1]]\n",
    "\n",
    "        # Compute industry level BAU emissions\n",
    "        carbon_industry_emission_period += optimum_solution_period[\"firm\" + str(firm_object.index)][\"Carbon Emissions\"].values\n",
    "        sulfur_industry_emission_period += optimum_solution_period[\"firm\" + str(firm_object.index)][\"Sulfur Emissions\"].values\n",
    "        #print(\"carbon_industry_emission_period\")\n",
    "    #print(carbon_industry_emission_period)\n",
    "    return results_period, optimum_solution_period, carbon_industry_emission_period, sulfur_industry_emission_period"
   ]
  },
  {
   "cell_type": "code",
   "execution_count": null,
   "metadata": {},
   "outputs": [],
   "source": [
    "BAU_carbon_pollution_stock = np.zeros(MarketConfig.T+1)\n",
    "BAU_sulfur_pollution_stock = np.zeros(MarketConfig.T+1)\n",
    "results = {} #empty dict\n",
    "optimum_solution={} #empty dict \n",
    "for my_period_index in range(MarketConfig.T):\n",
    "    results_period, optimum_solution_period, carbon_industry_emission_period, sulfur_industry_emission_period = BAU_emissions_period(my_period_index +1)\n",
    "    results[my_period_index+1]  = results_period\n",
    "    optimum_solution [my_period_index +1 ] = optimum_solution_period # a dict ''    \n",
    "    BAU_carbon_pollution_stock[my_period_index + 1] = (1- pollution_decay_parameter ) * BAU_carbon_pollution_stock[my_period_index ] + carbon_industry_emission_period\n",
    "    BAU_sulfur_pollution_stock[my_period_index+1] = (1- pollution_decay_parameter ) * BAU_sulfur_pollution_stock[my_period_index] + sulfur_industry_emission_period"
   ]
  },
  {
   "cell_type": "markdown",
   "metadata": {},
   "source": [
    "## c. Compute BAU emissions throughout the planning horizon"
   ]
  },
  {
   "cell_type": "code",
   "execution_count": null,
   "metadata": {},
   "outputs": [],
   "source": [
    "#results[2][\"firm1\"]"
   ]
  },
  {
   "cell_type": "code",
   "execution_count": null,
   "metadata": {},
   "outputs": [],
   "source": [
    "#optimum_solution[2]['firm1']"
   ]
  },
  {
   "cell_type": "markdown",
   "metadata": {},
   "source": [
    "## Placeholders Analysis: No carbon emissions constraints policy"
   ]
  },
  {
   "cell_type": "code",
   "execution_count": null,
   "metadata": {},
   "outputs": [],
   "source": [
    "firms = optimum_solution[1].keys()\n",
    "periodes = optimum_solution.keys()"
   ]
  },
  {
   "cell_type": "markdown",
   "metadata": {},
   "source": [
    "##### Discounted Period Profits"
   ]
  },
  {
   "cell_type": "code",
   "execution_count": null,
   "metadata": {},
   "outputs": [],
   "source": [
    "Discounted_period_profits = pd.DataFrame(columns = firms,  index = periodes )\n",
    "for periode in periodes:\n",
    "    for firm in firms:\n",
    "        Discounted_period_profits[firm][periode] = ((optimum_solution[periode][firm][\"Firm Discounted profit\"]).values).astype(float)\n",
    "Discounted_period_profits"
   ]
  },
  {
   "cell_type": "markdown",
   "metadata": {},
   "source": [
    "#####  Vessel Speed"
   ]
  },
  {
   "cell_type": "code",
   "execution_count": null,
   "metadata": {},
   "outputs": [],
   "source": [
    "Vessel_speed_optimum = pd.DataFrame(columns = firms,  index = periodes )\n",
    "for periode in periodes:\n",
    "    for firm in firms:\n",
    "        Vessel_speed_optimum[firm][periode] = ((optimum_solution[periode][firm][\"Vessel Speed\"]).values).astype(float)\n",
    "Vessel_speed_optimum"
   ]
  },
  {
   "cell_type": "markdown",
   "metadata": {},
   "source": [
    "#####  Number of vessels"
   ]
  },
  {
   "cell_type": "code",
   "execution_count": null,
   "metadata": {},
   "outputs": [],
   "source": [
    "number_of_vessel_optimum = pd.DataFrame(columns = firms,  index = periodes )\n",
    "for periode in periodes:\n",
    "    for firm in firms:\n",
    "        number_of_vessel_optimum[firm][periode] = ((optimum_solution[periode][firm][\"Number of vessels\"]).values).astype(float)\n",
    "number_of_vessel_optimum"
   ]
  },
  {
   "cell_type": "markdown",
   "metadata": {},
   "source": [
    "#####  Carbon Emissions Path"
   ]
  },
  {
   "cell_type": "code",
   "execution_count": null,
   "metadata": {
    "scrolled": true
   },
   "outputs": [],
   "source": [
    "carbon_emission = pd.DataFrame(columns = firms,  index = periodes )\n",
    "\n",
    "for periode in periodes:\n",
    "    for firm in firms:\n",
    "        carbon_emission[firm][periode] = ((optimum_solution[periode][firm][\"Carbon Emissions\"]).values).astype(float)\n",
    "\n",
    "carbon_emission.to_csv(\"carbonemissionpath\")\n",
    "\n",
    "\n",
    "plt.plot(list(range(1,MarketConfig.T+1)),carbon_emission)\n",
    "plt.title(\"Carbon emission path \" )\n",
    "plt.ylabel('Carbon emissions')\n",
    "plt.legend(labels  =carbon_emission.columns.tolist())\n",
    "plt.show()\n",
    "\n",
    "carbon_emission"
   ]
  },
  {
   "cell_type": "markdown",
   "metadata": {},
   "source": [
    "### Sulfur Emission Path\n"
   ]
  },
  {
   "cell_type": "code",
   "execution_count": null,
   "metadata": {},
   "outputs": [],
   "source": [
    "sulfur_emission = pd.DataFrame(columns = firms,  index = periodes )\n",
    "\n",
    "for periode in periodes:\n",
    "    for firm in firms:\n",
    "        sulfur_emission[firm][periode] = ((optimum_solution[periode][firm][\"Sulfur Emissions\"]).values).astype(float)\n",
    "\n",
    "        \n",
    "plt.plot(list(range(1,MarketConfig.T+1)),sulfur_emission)\n",
    "plt.title(\"Sulfur emission path \" )\n",
    "plt.ylabel('Sulfur emissions')\n",
    "plt.legend(labels  = sulfur_emission.columns.tolist())\n",
    "plt.show()\n",
    "\n",
    "\n",
    "\n",
    "sulfur_emission.to_csv(\"sulfuremissionpath\")\n",
    "sulfur_emission"
   ]
  },
  {
   "cell_type": "markdown",
   "metadata": {},
   "source": [
    "#####  Carbon and Sulfur Pollution Stock"
   ]
  },
  {
   "cell_type": "code",
   "execution_count": null,
   "metadata": {},
   "outputs": [],
   "source": [
    "Pollution_Stock = pd.DataFrame(columns = [\"Carbon Pollution Stock\", \"Sulfur Pollution Stock\"] ,  index = periodes )\n",
    "\n",
    "for periode in periodes:\n",
    "    Pollution_Stock[\"Carbon Pollution Stock\"][periode] = BAU_carbon_pollution_stock[periode -1]\n",
    "    Pollution_Stock[\"Sulfur Pollution Stock\"][periode] = BAU_sulfur_pollution_stock[periode -1]\n",
    "\n",
    "# Create some mock data\n",
    "\n",
    "fig, ax1 = plt.subplots()\n",
    "\n",
    "color = 'tab:red'\n",
    "ax1.set_xlabel('periode')\n",
    "ax1.set_ylabel('Carbon Pollution Stock', color=color)\n",
    "ax1.plot(list(range(1,MarketConfig.T+1)), Pollution_Stock[\"Carbon Pollution Stock\"], color=color)\n",
    "ax1.tick_params(axis='y', labelcolor=color)\n",
    "\n",
    "ax2 = ax1.twinx()  # instantiate a second axes that shares the same x-axis\n",
    "\n",
    "color = 'tab:blue'\n",
    "ax2.set_ylabel('Sulfur Pollution Stock', color=color)  # we already handled the x-label with ax1\n",
    "ax2.plot(list(range(1,MarketConfig.T+1)), Pollution_Stock[\"Sulfur Pollution Stock\"], color=color)\n",
    "ax2.tick_params(axis='y', labelcolor=color)\n",
    "\n",
    "#fig.tight_layout()  # otherwise the right y-label is slightly clipped\n",
    "plt.show()\n",
    "\n",
    "Pollution_Stock"
   ]
  },
  {
   "cell_type": "markdown",
   "metadata": {},
   "source": [
    "#####  Carbon and Sulfur Pollution Damages"
   ]
  },
  {
   "cell_type": "code",
   "execution_count": null,
   "metadata": {},
   "outputs": [],
   "source": [
    "sulfur_industry_carbon_damages = 0.5* pollution_damage_parameter * np.power(BAU_sulfur_pollution_stock,2)\n",
    "#sulfur_industry_carbon_damages\n",
    "BAU_industry_carbon_damages = 0.5* pollution_damage_parameter * np.power(BAU_carbon_pollution_stock,2)\n",
    "#BAU_industry_carbon_damages"
   ]
  },
  {
   "cell_type": "code",
   "execution_count": null,
   "metadata": {
    "scrolled": true
   },
   "outputs": [],
   "source": [
    "Industry_Damages = pd.DataFrame(columns = [\"Carbon Industry Damages\", \"Sulfur Industry Damages \"] ,  index = periodes )\n",
    "\n",
    "for periode in periodes:\n",
    "    Industry_Damages[\"Carbon Industry Damages\"][periode] = BAU_industry_carbon_damages[periode-1]\n",
    "    Industry_Damages[\"Sulfur Industry Damages \"][periode] = sulfur_industry_carbon_damages[periode-1]\n",
    "\n",
    "    \n",
    "    \n",
    "# Create some mock data\n",
    "\n",
    "fig, ax1 = plt.subplots()\n",
    "\n",
    "color = 'tab:red'\n",
    "ax1.set_xlabel('periode')\n",
    "ax1.set_ylabel(\"Carbon Industry Damages\", color=color)\n",
    "ax1.plot(list(range(1,MarketConfig.T+1)), Industry_Damages[\"Carbon Industry Damages\"] , color=color)\n",
    "ax1.tick_params(axis='y', labelcolor=color)\n",
    "\n",
    "ax2 = ax1.twinx()  # instantiate a second axes that shares the same x-axis\n",
    "\n",
    "color = 'tab:blue'\n",
    "ax2.set_ylabel(\"Sulfur Industry Damages \", color=color)  # we already handled the x-label with ax1\n",
    "ax2.plot(list(range(1,MarketConfig.T+1)), Industry_Damages[\"Sulfur Industry Damages \"] , color=color)\n",
    "ax2.tick_params(axis='y', labelcolor=color)\n",
    "\n",
    "#fig.tight_layout()  # otherwise the right y-label is slightly clipped\n",
    "plt.show()\n",
    "\n",
    "\n",
    "Industry_Damages"
   ]
  },
  {
   "cell_type": "markdown",
   "metadata": {},
   "source": [
    "### Evaluatin GA performance"
   ]
  },
  {
   "cell_type": "markdown",
   "metadata": {},
   "source": [
    "### Profit,   Revenue, Cost CO2 Cost,  SOx Cos in 1 graph as a function of generation ??"
   ]
  },
  {
   "cell_type": "markdown",
   "metadata": {},
   "source": [
    "### Firm 1, Period 1"
   ]
  },
  {
   "cell_type": "code",
   "execution_count": null,
   "metadata": {},
   "outputs": [],
   "source": [
    "plt.plot(results[1][\"firm1\"]['Generation'].values, results[1][\"firm1\"]['Firm Discounted profit'].values)\n",
    "plt.title(\"Convergence \" )\n",
    "plt.ylabel('Firm discounted profits')\n",
    "plt.xlabel('Generation')\n",
    "plt.show()\n",
    "#############\n",
    "plt.plot(results[1][\"firm1\"]['Vessel Speed'].values, results[1][\"firm1\"]['Firm Discounted profit'].values)\n",
    "plt.title(\"Profits \" )\n",
    "plt.ylabel('Firm discounted profits')\n",
    "plt.xlabel('Vessel Speed')\n",
    "plt.show()"
   ]
  },
  {
   "cell_type": "markdown",
   "metadata": {},
   "source": [
    "## Export Results to spreadsheet"
   ]
  },
  {
   "cell_type": "code",
   "execution_count": null,
   "metadata": {},
   "outputs": [],
   "source": [
    "writer = pd.ExcelWriter('results.xlsx', engine='xlsxwriter')   \n",
    "for periode in results.keys():\n",
    "    for firm in results[periode].keys():\n",
    "        sheet_name = \"period\" + str(periode) + firm\n",
    "        results[periode][firm].to_excel(writer, sheet_name = sheet_name, index =False)\n",
    "writer.save()"
   ]
  },
  {
   "cell_type": "code",
   "execution_count": null,
   "metadata": {},
   "outputs": [],
   "source": [
    "writer_1 = pd.ExcelWriter('optimum_solution.xlsx', engine='xlsxwriter')   \n",
    "for periode in optimum_solution.keys():\n",
    "    for firm in optimum_solution[periode].keys():\n",
    "        sheet_name = \"period\" + str(periode) + firm\n",
    "        optimum_solution[periode][firm].to_excel(writer_1, sheet_name = sheet_name, index =False)\n",
    "writer_1.save()"
   ]
  },
  {
   "cell_type": "code",
   "execution_count": null,
   "metadata": {
    "scrolled": true
   },
   "outputs": [],
   "source": [
    "#\"Singerons are denoted by '0' while signatories are denoted by '1'\"\n",
    "coalition_structure =np.asarray([list(i) for i in itertools.product([0, 1], repeat= number_of_firms)])\n",
    "All_singelton = coalition_structure[0]\n",
    "Grand_coalition  = coalition_structure[-1]\n",
    "coalition_structure\n",
    "#coalition_stru[3]"
   ]
  },
  {
   "cell_type": "code",
   "execution_count": null,
   "metadata": {},
   "outputs": [],
   "source": [
    "for compteur in range (len(coalition_structure)): \n",
    "    coalition = np.where(coalition_structure[compteur] == 1)\n",
    "    singleton = np.where(coalition_structure[compteur] == 0)\n",
    "    print(coalition)"
   ]
  },
  {
   "cell_type": "markdown",
   "metadata": {},
   "source": [
    "## Import BAU emissions, pollution stock and industry damages"
   ]
  },
  {
   "cell_type": "markdown",
   "metadata": {},
   "source": [
    "### Benefits from abatement "
   ]
  },
  {
   "cell_type": "markdown",
   "metadata": {},
   "source": [
    "### coalition model : \n",
    "Assume am emission threshold -condition for joining the coalition "
   ]
  },
  {
   "cell_type": "markdown",
   "metadata": {},
   "source": [
    "gen = 0\n",
    "for each species s do begin\n",
    "Pops(gen) = randomly initialized population\n",
    "evaluate fitness of each individual in Pops(gen)\n",
    "end\n",
    "while termination condition = false do begin\n",
    "gen = gen + 1\n",
    "for each species s do begin\n",
    "select Pops(gen) from Pops(gen − 1) based on fitness\n",
    "apply genetic operators to Pops(gen)\n",
    "evaluate fitness of each individual in Pops(gen)\n",
    "end\n",
    "end"
   ]
  },
  {
   "cell_type": "code",
   "execution_count": 930,
   "metadata": {},
   "outputs": [
    {
     "data": {
      "text/plain": [
       "[{'firm1': {'chromo0': [3, 10]},\n",
       "  'firm2': {'chromo0': [5, 16]},\n",
       "  'firm3': {'chromo0': [7, 17]},\n",
       "  'industry_carbon_emission': array([15, 43])},\n",
       " {'firm1': {'chromo0': [3, 10]},\n",
       "  'firm2': {'chromo0': [5, 16]},\n",
       "  'firm3': {'chromo1': [8, 18]},\n",
       "  'industry_carbon_emission': array([16, 44])},\n",
       " {'firm1': {'chromo0': [3, 10]},\n",
       "  'firm2': {'chromo1': [6, 16]},\n",
       "  'firm3': {'chromo0': [7, 17]},\n",
       "  'industry_carbon_emission': array([16, 43])},\n",
       " {'firm1': {'chromo0': [3, 10]},\n",
       "  'firm2': {'chromo1': [6, 16]},\n",
       "  'firm3': {'chromo1': [8, 18]},\n",
       "  'industry_carbon_emission': array([17, 44])},\n",
       " {'firm1': {'chromo1': [4, 15]},\n",
       "  'firm2': {'chromo0': [5, 16]},\n",
       "  'firm3': {'chromo0': [7, 17]},\n",
       "  'industry_carbon_emission': array([16, 48])},\n",
       " {'firm1': {'chromo1': [4, 15]},\n",
       "  'firm2': {'chromo0': [5, 16]},\n",
       "  'firm3': {'chromo1': [8, 18]},\n",
       "  'industry_carbon_emission': array([17, 49])},\n",
       " {'firm1': {'chromo1': [4, 15]},\n",
       "  'firm2': {'chromo1': [6, 16]},\n",
       "  'firm3': {'chromo0': [7, 17]},\n",
       "  'industry_carbon_emission': array([17, 48])},\n",
       " {'firm1': {'chromo1': [4, 15]},\n",
       "  'firm2': {'chromo1': [6, 16]},\n",
       "  'firm3': {'chromo1': [8, 18]},\n",
       "  'industry_carbon_emission': array([18, 49])}]"
      ]
     },
     "execution_count": 930,
     "metadata": {},
     "output_type": "execute_result"
    }
   ],
   "source": [
    "industry_carbon_emission_combo"
   ]
  },
  {
   "cell_type": "code",
   "execution_count": 932,
   "metadata": {
    "scrolled": true
   },
   "outputs": [
    {
     "data": {
      "text/html": [
       "<div>\n",
       "<style scoped>\n",
       "    .dataframe tbody tr th:only-of-type {\n",
       "        vertical-align: middle;\n",
       "    }\n",
       "\n",
       "    .dataframe tbody tr th {\n",
       "        vertical-align: top;\n",
       "    }\n",
       "\n",
       "    .dataframe thead th {\n",
       "        text-align: right;\n",
       "    }\n",
       "</style>\n",
       "<table border=\"1\" class=\"dataframe\">\n",
       "  <thead>\n",
       "    <tr style=\"text-align: right;\">\n",
       "      <th></th>\n",
       "      <th>firm1</th>\n",
       "      <th>firm2</th>\n",
       "      <th>firm3</th>\n",
       "      <th>industry_carbon_emission</th>\n",
       "    </tr>\n",
       "  </thead>\n",
       "  <tbody>\n",
       "    <tr>\n",
       "      <th>0</th>\n",
       "      <td>{'chromo0': [3, 10]}</td>\n",
       "      <td>{'chromo0': [5, 16]}</td>\n",
       "      <td>{'chromo0': [7, 17]}</td>\n",
       "      <td>[15, 43]</td>\n",
       "    </tr>\n",
       "    <tr>\n",
       "      <th>1</th>\n",
       "      <td>{'chromo0': [3, 10]}</td>\n",
       "      <td>{'chromo0': [5, 16]}</td>\n",
       "      <td>{'chromo1': [8, 18]}</td>\n",
       "      <td>[16, 44]</td>\n",
       "    </tr>\n",
       "    <tr>\n",
       "      <th>2</th>\n",
       "      <td>{'chromo0': [3, 10]}</td>\n",
       "      <td>{'chromo1': [6, 16]}</td>\n",
       "      <td>{'chromo0': [7, 17]}</td>\n",
       "      <td>[16, 43]</td>\n",
       "    </tr>\n",
       "    <tr>\n",
       "      <th>3</th>\n",
       "      <td>{'chromo0': [3, 10]}</td>\n",
       "      <td>{'chromo1': [6, 16]}</td>\n",
       "      <td>{'chromo1': [8, 18]}</td>\n",
       "      <td>[17, 44]</td>\n",
       "    </tr>\n",
       "    <tr>\n",
       "      <th>4</th>\n",
       "      <td>{'chromo1': [4, 15]}</td>\n",
       "      <td>{'chromo0': [5, 16]}</td>\n",
       "      <td>{'chromo0': [7, 17]}</td>\n",
       "      <td>[16, 48]</td>\n",
       "    </tr>\n",
       "    <tr>\n",
       "      <th>5</th>\n",
       "      <td>{'chromo1': [4, 15]}</td>\n",
       "      <td>{'chromo0': [5, 16]}</td>\n",
       "      <td>{'chromo1': [8, 18]}</td>\n",
       "      <td>[17, 49]</td>\n",
       "    </tr>\n",
       "    <tr>\n",
       "      <th>6</th>\n",
       "      <td>{'chromo1': [4, 15]}</td>\n",
       "      <td>{'chromo1': [6, 16]}</td>\n",
       "      <td>{'chromo0': [7, 17]}</td>\n",
       "      <td>[17, 48]</td>\n",
       "    </tr>\n",
       "    <tr>\n",
       "      <th>7</th>\n",
       "      <td>{'chromo1': [4, 15]}</td>\n",
       "      <td>{'chromo1': [6, 16]}</td>\n",
       "      <td>{'chromo1': [8, 18]}</td>\n",
       "      <td>[18, 49]</td>\n",
       "    </tr>\n",
       "  </tbody>\n",
       "</table>\n",
       "</div>"
      ],
      "text/plain": [
       "                  firm1                 firm2                 firm3  \\\n",
       "0  {'chromo0': [3, 10]}  {'chromo0': [5, 16]}  {'chromo0': [7, 17]}   \n",
       "1  {'chromo0': [3, 10]}  {'chromo0': [5, 16]}  {'chromo1': [8, 18]}   \n",
       "2  {'chromo0': [3, 10]}  {'chromo1': [6, 16]}  {'chromo0': [7, 17]}   \n",
       "3  {'chromo0': [3, 10]}  {'chromo1': [6, 16]}  {'chromo1': [8, 18]}   \n",
       "4  {'chromo1': [4, 15]}  {'chromo0': [5, 16]}  {'chromo0': [7, 17]}   \n",
       "5  {'chromo1': [4, 15]}  {'chromo0': [5, 16]}  {'chromo1': [8, 18]}   \n",
       "6  {'chromo1': [4, 15]}  {'chromo1': [6, 16]}  {'chromo0': [7, 17]}   \n",
       "7  {'chromo1': [4, 15]}  {'chromo1': [6, 16]}  {'chromo1': [8, 18]}   \n",
       "\n",
       "  industry_carbon_emission  \n",
       "0                 [15, 43]  \n",
       "1                 [16, 44]  \n",
       "2                 [16, 43]  \n",
       "3                 [17, 44]  \n",
       "4                 [16, 48]  \n",
       "5                 [17, 49]  \n",
       "6                 [17, 48]  \n",
       "7                 [18, 49]  "
      ]
     },
     "execution_count": 932,
     "metadata": {},
     "output_type": "execute_result"
    }
   ],
   "source": [
    "df = pd.DataFrame.from_dict(industry_carbon_emission_combo)\n",
    "df"
   ]
  },
  {
   "cell_type": "markdown",
   "metadata": {},
   "source": [
    "# here"
   ]
  },
  {
   "cell_type": "code",
   "execution_count": 1033,
   "metadata": {},
   "outputs": [
    {
     "data": {
      "text/plain": [
       "array([ 15,  43, 120])"
      ]
     },
     "execution_count": 1033,
     "metadata": {},
     "output_type": "execute_result"
    }
   ],
   "source": [
    "industry_carbon_emission_combo[0][\"industry_carbon_emission\"]"
   ]
  },
  {
   "cell_type": "code",
   "execution_count": null,
   "metadata": {},
   "outputs": [],
   "source": [
    "BAU_carbon_pollution_stock\n",
    "=(1- pollution_decay_parameter ) * BAU_carbon_pollution_stock[my_period_index ] + carbon_industry_emission_period\n",
    "BAU_industry_carbon_damages = 0.5* pollution_damage_parameter * np.power(BAU_carbon_pollution_stock,2)\n"
   ]
  },
  {
   "cell_type": "code",
   "execution_count": 1039,
   "metadata": {},
   "outputs": [],
   "source": []
  },
  {
   "cell_type": "code",
   "execution_count": 1040,
   "metadata": {},
   "outputs": [
    {
     "data": {
      "text/plain": [
       "array([0., 0., 0., 0.])"
      ]
     },
     "execution_count": 1040,
     "metadata": {},
     "output_type": "execute_result"
    }
   ],
   "source": [
    "industry_carbon_emission_combo[0][\"carbon_pollution_stock\"]=np.zeros(4)\n",
    "industry_carbon_emission_combo[0][\"carbon_pollution_stock\"]"
   ]
  },
  {
   "cell_type": "code",
   "execution_count": 1041,
   "metadata": {},
   "outputs": [
    {
     "data": {
      "text/plain": [
       "[15.0, 43.0, 120.0]"
      ]
     },
     "execution_count": 1041,
     "metadata": {},
     "output_type": "execute_result"
    }
   ],
   "source": [
    "#industry_carbon_emission_combo[0][\"carbon_pollution_stock\"] = \n",
    "x =np.zeros(4)\n",
    "x = [np.multiply(1- pollution_decay_parameter, x[_]) + industry_carbon_emission_combo[0][\"industry_carbon_emission\"][_] for _ in range(3)]\n",
    "x"
   ]
  },
  {
   "cell_type": "code",
   "execution_count": 1028,
   "metadata": {},
   "outputs": [
    {
     "data": {
      "text/plain": [
       "[15.0, 43.0, 120.0]"
      ]
     },
     "execution_count": 1028,
     "metadata": {},
     "output_type": "execute_result"
    }
   ],
   "source": [
    "industry_carbon_emission_combo[0][\"carbon_pollution_stock\"]"
   ]
  },
  {
   "cell_type": "code",
   "execution_count": 1034,
   "metadata": {},
   "outputs": [
    {
     "data": {
      "text/plain": [
       "array([ 15,  43, 120])"
      ]
     },
     "execution_count": 1034,
     "metadata": {},
     "output_type": "execute_result"
    }
   ],
   "source": [
    "industry_carbon_emission_combo[0][\"industry_carbon_emission\"]"
   ]
  },
  {
   "cell_type": "code",
   "execution_count": 1030,
   "metadata": {},
   "outputs": [
    {
     "ename": "NameError",
     "evalue": "name 'BAU_carbon_pollution_stock' is not defined",
     "output_type": "error",
     "traceback": [
      "\u001b[1;31m---------------------------------------------------------------------------\u001b[0m",
      "\u001b[1;31mNameError\u001b[0m                                 Traceback (most recent call last)",
      "\u001b[1;32m<ipython-input-1030-3b6928cca3cd>\u001b[0m in \u001b[0;36m<module>\u001b[1;34m\u001b[0m\n\u001b[0;32m      3\u001b[0m \u001b[1;33m\u001b[0m\u001b[0m\n\u001b[0;32m      4\u001b[0m \u001b[1;33m\u001b[0m\u001b[0m\n\u001b[1;32m----> 5\u001b[1;33m \u001b[1;33m(\u001b[0m\u001b[1;36m1\u001b[0m\u001b[1;33m-\u001b[0m \u001b[0mpollution_decay_parameter\u001b[0m \u001b[1;33m)\u001b[0m \u001b[1;33m*\u001b[0m \u001b[0mBAU_carbon_pollution_stock\u001b[0m\u001b[1;33m[\u001b[0m\u001b[1;36m0\u001b[0m\u001b[1;33m]\u001b[0m\u001b[1;33m\u001b[0m\u001b[1;33m\u001b[0m\u001b[0m\n\u001b[0m",
      "\u001b[1;31mNameError\u001b[0m: name 'BAU_carbon_pollution_stock' is not defined"
     ]
    }
   ],
   "source": [
    "industry_carbon_emission_combo[0][\"carbon_pollution_stock\"] = np.concatenate(([0], \n",
    "                                                                              industry_carbon_emission_combo[0][\"industry_carbon_emission\"]))\n",
    "\n",
    "\n",
    "(1- pollution_decay_parameter ) * BAU_carbon_pollution_stock[0]"
   ]
  },
  {
   "cell_type": "code",
   "execution_count": 1014,
   "metadata": {},
   "outputs": [
    {
     "data": {
      "text/plain": [
       "array([ 15,  43, 120])"
      ]
     },
     "execution_count": 1014,
     "metadata": {},
     "output_type": "execute_result"
    }
   ],
   "source": [
    "industry_carbon_emission_combo[0][\"industry_carbon_emission\"] "
   ]
  },
  {
   "cell_type": "code",
   "execution_count": null,
   "metadata": {},
   "outputs": [],
   "source": [
    "BAU_carbon_pollution_stock= []"
   ]
  },
  {
   "cell_type": "code",
   "execution_count": 1012,
   "metadata": {},
   "outputs": [
    {
     "ename": "TypeError",
     "evalue": "_cumsum_dispatcher() got an unexpected keyword argument 'weights'",
     "output_type": "error",
     "traceback": [
      "\u001b[1;31m---------------------------------------------------------------------------\u001b[0m",
      "\u001b[1;31mTypeError\u001b[0m                                 Traceback (most recent call last)",
      "\u001b[1;32m<ipython-input-1012-8bc528dc4f28>\u001b[0m in \u001b[0;36m<module>\u001b[1;34m\u001b[0m\n\u001b[1;32m----> 1\u001b[1;33m \u001b[0mnp\u001b[0m\u001b[1;33m.\u001b[0m\u001b[0mcumsum\u001b[0m\u001b[1;33m(\u001b[0m\u001b[0mindustry_carbon_emission_combo\u001b[0m\u001b[1;33m[\u001b[0m\u001b[1;36m0\u001b[0m\u001b[1;33m]\u001b[0m\u001b[1;33m[\u001b[0m\u001b[1;34m\"carbon_pollution_stock\"\u001b[0m\u001b[1;33m]\u001b[0m\u001b[1;33m,\u001b[0m \u001b[0mweights\u001b[0m \u001b[1;33m=\u001b[0m \u001b[1;33m[\u001b[0m\u001b[1;36m2\u001b[0m\u001b[1;33m]\u001b[0m \u001b[1;33m)\u001b[0m\u001b[1;33m\u001b[0m\u001b[1;33m\u001b[0m\u001b[0m\n\u001b[0m",
      "\u001b[1;32m<__array_function__ internals>\u001b[0m in \u001b[0;36mcumsum\u001b[1;34m(*args, **kwargs)\u001b[0m\n",
      "\u001b[1;31mTypeError\u001b[0m: _cumsum_dispatcher() got an unexpected keyword argument 'weights'"
     ]
    }
   ],
   "source": [
    " np.cumsum(industry_carbon_emission_combo[0][\"carbon_pollution_stock\"], weights = [2] )"
   ]
  },
  {
   "cell_type": "code",
   "execution_count": null,
   "metadata": {},
   "outputs": [],
   "source": [
    "#Carbon pollution stock \n",
    "BAU_carbon_pollution_stock = 0  \n",
    "dynamic_tax = np.zeros(planning_horizon +1)\n",
    "dynamic_tax[0] = initial_carbon_tax_sim"
   ]
  },
  {
   "cell_type": "code",
   "execution_count": null,
   "metadata": {},
   "outputs": [],
   "source": [
    "BAU_carbon_pollution_stock[0] =0\n",
    "\n",
    "BAU_carbon_pollution_stock[1] = (1- pollution_decay_parameter ) * BAU_carbon_pollution_stock[0] + carbon_industry_emission_period[0]\n",
    "\n",
    "\n",
    "BAU_carbon_pollution_stock[2] = (1- pollution_decay_parameter ) * BAU_carbon_pollution_stock[1 ] + carbon_industry_emission_period[1]\n",
    "\n",
    "\n",
    "\n",
    "BAU_carbon_pollution_stock[my_period_index + 1] = (1- pollution_decay_parameter ) * BAU_carbon_pollution_stock[my_period_index ] + carbon_industry_emission_period\n",
    "BAU_industry_sulfur_damages = 0.5* pollution_damage_parameter * np.power(BAU_sulfur_pollution_stock,2)\n",
    "            "
   ]
  },
  {
   "cell_type": "code",
   "execution_count": null,
   "metadata": {},
   "outputs": [],
   "source": [
    "BAU_sulfur_pollution_stock[my_period_index+1] = (1- pollution_decay_parameter ) * BAU_sulfur_pollution_stock[my_period_index] + sulfur_industry_emission_period\n"
   ]
  },
  {
   "cell_type": "code",
   "execution_count": null,
   "metadata": {},
   "outputs": [],
   "source": [
    "dynamic_tax [my_period_index+1] = initial_carbon_tax_sim + taxation_scheme_rate_sim * BAU_carbon_pollution_stock[my_period_index +1 ]\n",
    "policy_cost = np.multiply(carbon_emissions_sim, dynamic_tax[period_index]) # a numpy vectore\n",
    "   "
   ]
  },
  {
   "cell_type": "code",
   "execution_count": 1066,
   "metadata": {},
   "outputs": [],
   "source": [
    "pollution_decay_parameter = 0.5\n",
    "pollution_damage_parameter = 1\n",
    "initial_carbon_tax_sim = [2]\n",
    "taxation_scheme_rate_sim =0.5"
   ]
  },
  {
   "cell_type": "code",
   "execution_count": 1075,
   "metadata": {},
   "outputs": [
    {
     "ename": "TypeError",
     "evalue": "only integer scalar arrays can be converted to a scalar index",
     "output_type": "error",
     "traceback": [
      "\u001b[1;31m---------------------------------------------------------------------------\u001b[0m",
      "\u001b[1;31mTypeError\u001b[0m                                 Traceback (most recent call last)",
      "\u001b[1;32m<ipython-input-1075-c02c1959c913>\u001b[0m in \u001b[0;36m<module>\u001b[1;34m\u001b[0m\n\u001b[0;32m      1\u001b[0m \u001b[0my\u001b[0m \u001b[1;33m=\u001b[0m \u001b[0mnp\u001b[0m\u001b[1;33m.\u001b[0m\u001b[0mzeros\u001b[0m \u001b[1;33m(\u001b[0m\u001b[1;36m2\u001b[0m\u001b[1;33m)\u001b[0m\u001b[1;33m\u001b[0m\u001b[1;33m\u001b[0m\u001b[0m\n\u001b[0;32m      2\u001b[0m \u001b[1;33m\u001b[0m\u001b[0m\n\u001b[1;32m----> 3\u001b[1;33m \u001b[0mnp\u001b[0m\u001b[1;33m.\u001b[0m\u001b[0mconcatenate\u001b[0m\u001b[1;33m(\u001b[0m\u001b[1;33m[\u001b[0m\u001b[1;36m2\u001b[0m\u001b[1;33m]\u001b[0m\u001b[1;33m,\u001b[0m\u001b[0my\u001b[0m\u001b[1;33m)\u001b[0m\u001b[1;33m\u001b[0m\u001b[1;33m\u001b[0m\u001b[0m\n\u001b[0m",
      "\u001b[1;32m<__array_function__ internals>\u001b[0m in \u001b[0;36mconcatenate\u001b[1;34m(*args, **kwargs)\u001b[0m\n",
      "\u001b[1;31mTypeError\u001b[0m: only integer scalar arrays can be converted to a scalar index"
     ]
    }
   ],
   "source": [
    "y = np.zeros (2)\n",
    "\n",
    "np.concatenate([2],y)\n"
   ]
  },
  {
   "cell_type": "code",
   "execution_count": 1081,
   "metadata": {},
   "outputs": [
    {
     "data": {
      "text/plain": [
       "2"
      ]
     },
     "execution_count": 1081,
     "metadata": {},
     "output_type": "execute_result"
    }
   ],
   "source": [
    "evolving_species.index"
   ]
  },
  {
   "cell_type": "code",
   "execution_count": 1099,
   "metadata": {},
   "outputs": [
    {
     "data": {
      "text/plain": [
       "([5, 16, 40],)"
      ]
     },
     "execution_count": 1099,
     "metadata": {},
     "output_type": "execute_result"
    }
   ],
   "source": [
    "chromos, firm_carbon_emission = zip(*industry_carbon_emission_combo[_][\"firm\"+str(evolving_species.index)].items())\n",
    "firm_carbon_emission"
   ]
  },
  {
   "cell_type": "code",
   "execution_count": 1101,
   "metadata": {},
   "outputs": [
    {
     "data": {
      "text/plain": [
       "{'firm1': {'chromo0': [3, 10, 20]},\n",
       " 'firm2': {'chromo0': [5, 16, 40]},\n",
       " 'firm3': {'chromo0': [7, 17, 60]},\n",
       " 'industry_carbon_emission': array([ 15,  43, 120]),\n",
       " 'carbon_pollution_stock': array([ 0. , 15. , 50.5]),\n",
       " 'industry_carbon_damages': array([   0.   ,  112.5  , 1275.125]),\n",
       " 'dynamic_tax': array([ 2.  ,  9.5 , 27.25])}"
      ]
     },
     "execution_count": 1101,
     "metadata": {},
     "output_type": "execute_result"
    }
   ],
   "source": [
    "industry_carbon_emission_combo[0]"
   ]
  },
  {
   "cell_type": "code",
   "execution_count": 1103,
   "metadata": {},
   "outputs": [
    {
     "data": {
      "text/plain": [
       "array([ 5, 16, 40])"
      ]
     },
     "execution_count": 1103,
     "metadata": {},
     "output_type": "execute_result"
    }
   ],
   "source": [
    "np.array(industry_carbon_emission_combo[0][\"firm\"+str(evolving_species.index)].get(str(chromos[0])))"
   ]
  },
  {
   "cell_type": "code",
   "execution_count": 1089,
   "metadata": {},
   "outputs": [
    {
     "data": {
      "text/plain": [
       "dict_items([('chromo0', [5, 16, 40])])"
      ]
     },
     "execution_count": 1089,
     "metadata": {},
     "output_type": "execute_result"
    }
   ],
   "source": [
    "industry_carbon_emission_combo[_][\"firm\"+str(evolving_species.index)].items()"
   ]
  },
  {
   "cell_type": "code",
   "execution_count": 1085,
   "metadata": {},
   "outputs": [
    {
     "data": {
      "text/plain": [
       "array([ 2.  ,  9.5 , 27.25])"
      ]
     },
     "execution_count": 1085,
     "metadata": {},
     "output_type": "execute_result"
    }
   ],
   "source": [
    "industry_carbon_emission_combo[_][\"dynamic_tax\"]"
   ]
  },
  {
   "cell_type": "code",
   "execution_count": null,
   "metadata": {},
   "outputs": [],
   "source": [
    "carbon_emissions={}\n",
    "carbon_emissions[\"firm1\"]={}\n",
    "carbon_emissions[\"firm2\"]={}\n",
    "carbon_emissions[\"firm3\"]={}\n",
    "carbon_emissions[\"firm1\"][\"chromo0\"]= [3,10,20] \n",
    "carbon_emissions[\"firm1\"][\"chromo1\"]= [4,15,30]\n",
    "carbon_emissions[\"firm2\"][\"chromo0\"]= [5,16,40] \n",
    "carbon_emissions[\"firm2\"][\"chromo1\"]= [6,16,50] \n",
    "carbon_emissions[\"firm3\"][\"chromo0\"]= [7,17,60]\n",
    "carbon_emissions[\"firm3\"][\"chromo1\"]= [8,18,70]\n",
    "carbon_emissions\n",
    "industry_carbon_emission_combo= {}\n",
    "industry_carbon_emission_combo = [dict(zip(carbon_emissions.keys(), a)) for a in itertools.product(*carbon_emissions.values())]\n",
    "for _ in range(len(industry_carbon_emission_combo)):\n",
    "    for firm in industry_carbon_emission_combo[_].keys():\n",
    "        industry_carbon_emission_combo[_].update({str(firm): {str(industry_carbon_emission_combo[_][str(firm)]): \n",
    "                                 carbon_emissions[str(firm)][str(industry_carbon_emission_combo[_][str(firm)])]}})\n",
    "        \n",
    "        \n",
    "firms = (tuple(industry_carbon_emission_combo[0].keys()))\n",
    "firms\n",
    "for _ in range(len(industry_carbon_emission_combo)):\n",
    "    industry_carbon_emission_combo[_][\"industry_carbon_emission\"] = 0\n",
    "    for firm in firms:\n",
    "        #print(firm)\n",
    "        chromos, firm_carbon_emission = zip(*industry_carbon_emission_combo[_][str(firm)].items())\n",
    "        industry_carbon_emission_combo[_][\"industry_carbon_emission\"] += np.array(industry_carbon_emission_combo[_].get(str(firm)).get(str(chromos[0])))\n",
    "        \n",
    "        \n",
    "        \n",
    "        \n",
    "for _ in range(len(industry_carbon_emission_combo)):\n",
    "    industry_carbon_emission_combo[_][\"carbon_pollution_stock\"] =np.zeros (3)\n",
    "    industry_carbon_emission_combo[_][\"industry_carbon_damages\"]= np.zeros (3)\n",
    "    industry_carbon_emission_combo[_][\"carbon_dynamic_tax\"]  = np.zeros (3)\n",
    "    industry_carbon_emission_combo[_][\"carbon_dynamic_tax\"][0]  = initial_carbon_tax_sim\n",
    "    \n",
    "    for my_period_index in range (2): \n",
    "        #Remove and multipy instead of using loop \n",
    "        industry_carbon_emission_combo[_][\"carbon_pollution_stock\"] [my_period_index + 1] = (1- pollution_decay_parameter ) * industry_carbon_emission_combo[_][\"carbon_pollution_stock\"][my_period_index ] + industry_carbon_emission_combo[0][\"industry_carbon_emission\"][my_period_index]\n",
    "        industry_carbon_emission_combo[_][\"carbon_dynamic_tax\"] [my_period_index+1] = initial_carbon_tax_sim + taxation_scheme_rate_sim * industry_carbon_emission_combo[_][\"carbon_pollution_stock\"][my_period_index +1 ]\n",
    "\n",
    "    \n",
    "    industry_carbon_emission_combo[_][\"industry_carbon_damages\"] = 0.5* pollution_damage_parameter * np.power( industry_carbon_emission_combo[_][\"carbon_pollution_stock\"],2)\n",
    "\n",
    "    #Policy and Update Cost \n",
    "    chromos, firm_carbon_emission = zip(*industry_carbon_emission_combo[_][\"firm\"+str(evolving_species.index)].items())\n",
    "    print(firm_carbon_emission)\n",
    "    industry_carbon_emission_combo[_][\"carbon_policy_cost\"] = np.multiply(firm_carbon_emission[0], \n",
    "                                                                industry_carbon_emission_combo[_][\"carbon_dynamic_tax\"]) # a numpy vectore\n",
    "\n",
    "        "
   ]
  },
  {
   "cell_type": "code",
   "execution_count": 1144,
   "metadata": {},
   "outputs": [
    {
     "data": {
      "text/plain": [
       "{'firm1': {'chromo0': [3, 10, 20], 'chromo1': [4, 15, 30]},\n",
       " 'firm2': {'chromo0': [5, 16, 40], 'chromo1': [6, 16, 50]},\n",
       " 'firm3': {'chromo0': [7, 17, 60], 'chromo1': [8, 18, 70]}}"
      ]
     },
     "execution_count": 1144,
     "metadata": {},
     "output_type": "execute_result"
    }
   ],
   "source": [
    "carbon_emissions={}\n",
    "carbon_emissions[\"firm1\"]={}\n",
    "carbon_emissions[\"firm2\"]={}\n",
    "carbon_emissions[\"firm3\"]={}\n",
    "carbon_emissions[\"firm1\"][\"chromo0\"]= [3,10,20] \n",
    "carbon_emissions[\"firm1\"][\"chromo1\"]= [4,15,30]\n",
    "carbon_emissions[\"firm2\"][\"chromo0\"]= [5,16,40] \n",
    "carbon_emissions[\"firm2\"][\"chromo1\"]= [6,16,50] \n",
    "carbon_emissions[\"firm3\"][\"chromo0\"]= [7,17,60]\n",
    "carbon_emissions[\"firm3\"][\"chromo1\"]= [8,18,70]\n",
    "carbon_emissions"
   ]
  },
  {
   "cell_type": "code",
   "execution_count": 1145,
   "metadata": {},
   "outputs": [],
   "source": [
    "industry_carbon_emission_combo= {}"
   ]
  },
  {
   "cell_type": "code",
   "execution_count": 1146,
   "metadata": {},
   "outputs": [],
   "source": [
    "industry_carbon_emission_combo = [dict(zip(carbon_emissions.keys(), a)) for a in itertools.product(*carbon_emissions.values())]\n",
    "for _ in range(len(industry_carbon_emission_combo)):\n",
    "    for firm in industry_carbon_emission_combo[_].keys():\n",
    "        industry_carbon_emission_combo[_].update({str(firm): {str(industry_carbon_emission_combo[_][str(firm)]): \n",
    "                                 carbon_emissions[str(firm)][str(industry_carbon_emission_combo[_][str(firm)])]}})"
   ]
  },
  {
   "cell_type": "code",
   "execution_count": 1147,
   "metadata": {},
   "outputs": [
    {
     "data": {
      "text/plain": [
       "[{'firm1': {'chromo0': [3, 10, 20]},\n",
       "  'firm2': {'chromo0': [5, 16, 40]},\n",
       "  'firm3': {'chromo0': [7, 17, 60]}},\n",
       " {'firm1': {'chromo0': [3, 10, 20]},\n",
       "  'firm2': {'chromo0': [5, 16, 40]},\n",
       "  'firm3': {'chromo1': [8, 18, 70]}},\n",
       " {'firm1': {'chromo0': [3, 10, 20]},\n",
       "  'firm2': {'chromo1': [6, 16, 50]},\n",
       "  'firm3': {'chromo0': [7, 17, 60]}},\n",
       " {'firm1': {'chromo0': [3, 10, 20]},\n",
       "  'firm2': {'chromo1': [6, 16, 50]},\n",
       "  'firm3': {'chromo1': [8, 18, 70]}},\n",
       " {'firm1': {'chromo1': [4, 15, 30]},\n",
       "  'firm2': {'chromo0': [5, 16, 40]},\n",
       "  'firm3': {'chromo0': [7, 17, 60]}},\n",
       " {'firm1': {'chromo1': [4, 15, 30]},\n",
       "  'firm2': {'chromo0': [5, 16, 40]},\n",
       "  'firm3': {'chromo1': [8, 18, 70]}},\n",
       " {'firm1': {'chromo1': [4, 15, 30]},\n",
       "  'firm2': {'chromo1': [6, 16, 50]},\n",
       "  'firm3': {'chromo0': [7, 17, 60]}},\n",
       " {'firm1': {'chromo1': [4, 15, 30]},\n",
       "  'firm2': {'chromo1': [6, 16, 50]},\n",
       "  'firm3': {'chromo1': [8, 18, 70]}}]"
      ]
     },
     "execution_count": 1147,
     "metadata": {},
     "output_type": "execute_result"
    }
   ],
   "source": [
    "industry_carbon_emission_combo"
   ]
  },
  {
   "cell_type": "code",
   "execution_count": 1148,
   "metadata": {},
   "outputs": [
    {
     "data": {
      "text/plain": [
       "('firm1', 'firm2', 'firm3')"
      ]
     },
     "execution_count": 1148,
     "metadata": {},
     "output_type": "execute_result"
    }
   ],
   "source": [
    "firms = (tuple(industry_carbon_emission_combo[0].keys()))\n",
    "firms"
   ]
  },
  {
   "cell_type": "code",
   "execution_count": 1149,
   "metadata": {},
   "outputs": [],
   "source": [
    "for _ in range(len(industry_carbon_emission_combo)):\n",
    "    industry_carbon_emission_combo[_][\"industry_carbon_emission\"] = 0\n",
    "    for firm in firms:\n",
    "        #print(firm)\n",
    "        chromos, firm_carbon_emission = zip(*industry_carbon_emission_combo[_][str(firm)].items())\n",
    "        industry_carbon_emission_combo[_][\"industry_carbon_emission\"] += np.array(industry_carbon_emission_combo[_].get(str(firm)).get(str(chromos[0])))\n"
   ]
  },
  {
   "cell_type": "code",
   "execution_count": 1150,
   "metadata": {},
   "outputs": [
    {
     "data": {
      "text/plain": [
       "[{'firm1': {'chromo0': [3, 10, 20]},\n",
       "  'firm2': {'chromo0': [5, 16, 40]},\n",
       "  'firm3': {'chromo0': [7, 17, 60]},\n",
       "  'industry_carbon_emission': array([ 15,  43, 120])},\n",
       " {'firm1': {'chromo0': [3, 10, 20]},\n",
       "  'firm2': {'chromo0': [5, 16, 40]},\n",
       "  'firm3': {'chromo1': [8, 18, 70]},\n",
       "  'industry_carbon_emission': array([ 16,  44, 130])},\n",
       " {'firm1': {'chromo0': [3, 10, 20]},\n",
       "  'firm2': {'chromo1': [6, 16, 50]},\n",
       "  'firm3': {'chromo0': [7, 17, 60]},\n",
       "  'industry_carbon_emission': array([ 16,  43, 130])},\n",
       " {'firm1': {'chromo0': [3, 10, 20]},\n",
       "  'firm2': {'chromo1': [6, 16, 50]},\n",
       "  'firm3': {'chromo1': [8, 18, 70]},\n",
       "  'industry_carbon_emission': array([ 17,  44, 140])},\n",
       " {'firm1': {'chromo1': [4, 15, 30]},\n",
       "  'firm2': {'chromo0': [5, 16, 40]},\n",
       "  'firm3': {'chromo0': [7, 17, 60]},\n",
       "  'industry_carbon_emission': array([ 16,  48, 130])},\n",
       " {'firm1': {'chromo1': [4, 15, 30]},\n",
       "  'firm2': {'chromo0': [5, 16, 40]},\n",
       "  'firm3': {'chromo1': [8, 18, 70]},\n",
       "  'industry_carbon_emission': array([ 17,  49, 140])},\n",
       " {'firm1': {'chromo1': [4, 15, 30]},\n",
       "  'firm2': {'chromo1': [6, 16, 50]},\n",
       "  'firm3': {'chromo0': [7, 17, 60]},\n",
       "  'industry_carbon_emission': array([ 17,  48, 140])},\n",
       " {'firm1': {'chromo1': [4, 15, 30]},\n",
       "  'firm2': {'chromo1': [6, 16, 50]},\n",
       "  'firm3': {'chromo1': [8, 18, 70]},\n",
       "  'industry_carbon_emission': array([ 18,  49, 150])}]"
      ]
     },
     "execution_count": 1150,
     "metadata": {},
     "output_type": "execute_result"
    }
   ],
   "source": [
    "for _ in range(len(industry_carbon_emission_combo)):\n",
    "    industry_carbon_emission_combo[_][\"industry_carbon_emission\"] = 0\n",
    "    for firm in firms:\n",
    "        #print(firm)\n",
    "        chromos, firm_carbon_emission = zip(*industry_carbon_emission_combo[_][str(firm)].items())\n",
    "        industry_carbon_emission_combo[_][\"industry_carbon_emission\"] += np.array(industry_carbon_emission_combo[_].get(str(firm)).get(str(chromos[0])))\n",
    "        \n",
    "industry_carbon_emission_combo"
   ]
  },
  {
   "cell_type": "code",
   "execution_count": 1151,
   "metadata": {},
   "outputs": [
    {
     "name": "stdout",
     "output_type": "stream",
     "text": [
      "([5, 16, 40],)\n",
      "([5, 16, 40],)\n",
      "([6, 16, 50],)\n",
      "([6, 16, 50],)\n",
      "([5, 16, 40],)\n",
      "([5, 16, 40],)\n",
      "([6, 16, 50],)\n",
      "([6, 16, 50],)\n"
     ]
    }
   ],
   "source": [
    "for _ in range(len(industry_carbon_emission_combo)):\n",
    "    industry_carbon_emission_combo[_][\"carbon_pollution_stock\"] =np.zeros (3)\n",
    "    industry_carbon_emission_combo[_][\"industry_carbon_damages\"]= np.zeros (3)\n",
    "    industry_carbon_emission_combo[_][\"carbon_dynamic_tax\"]  = np.zeros (3)\n",
    "    industry_carbon_emission_combo[_][\"carbon_dynamic_tax\"][0]  = initial_carbon_tax_sim\n",
    "    \n",
    "    for my_period_index in range (2): \n",
    "        #Remove and multipy instead of using loop \n",
    "        industry_carbon_emission_combo[_][\"carbon_pollution_stock\"] [my_period_index + 1] = (1- pollution_decay_parameter ) * industry_carbon_emission_combo[_][\"carbon_pollution_stock\"][my_period_index ] + industry_carbon_emission_combo[0][\"industry_carbon_emission\"][my_period_index]\n",
    "        industry_carbon_emission_combo[_][\"carbon_dynamic_tax\"] [my_period_index+1] = initial_carbon_tax_sim + taxation_scheme_rate_sim * industry_carbon_emission_combo[_][\"carbon_pollution_stock\"][my_period_index +1 ]\n",
    "\n",
    "    \n",
    "    industry_carbon_emission_combo[_][\"industry_carbon_damages\"] = 0.5* pollution_damage_parameter * np.power( industry_carbon_emission_combo[_][\"carbon_pollution_stock\"],2)\n",
    "\n",
    "    #Policy and Update Cost \n",
    "    chromos, firm_carbon_emission = zip(*industry_carbon_emission_combo[_][\"firm\"+str(evolving_species.index)].items())\n",
    "    print(firm_carbon_emission)\n",
    "    industry_carbon_emission_combo[_][\"carbon_policy_cost\"] = np.multiply(firm_carbon_emission[0], \n",
    "                                                                industry_carbon_emission_combo[_][\"carbon_dynamic_tax\"]) # a numpy vectore\n",
    "\n",
    "\n",
    "\n",
    "\n",
    "#BAU_sulfur_pollution_stock[my_period_index+1] = (1- pollution_decay_parameter ) * BAU_sulfur_pollution_stock[my_period_index] + sulfur_industry_emission_period\n",
    "#             BAU_industry_sulfur_damages = 0.5* pollution_damage_parameter * np.power(BAU_sulfur_pollution_stock,2)\n",
    "#            "
   ]
  },
  {
   "cell_type": "code",
   "execution_count": 1153,
   "metadata": {},
   "outputs": [
    {
     "data": {
      "text/plain": [
       "[{'firm1': {'chromo0': [3, 10, 20]},\n",
       "  'firm2': {'chromo0': [5, 16, 40]},\n",
       "  'firm3': {'chromo0': [7, 17, 60]},\n",
       "  'industry_carbon_emission': array([ 15,  43, 120]),\n",
       "  'carbon_pollution_stock': array([ 0. , 15. , 50.5]),\n",
       "  'industry_carbon_damages': array([   0.   ,  112.5  , 1275.125]),\n",
       "  'carbon_dynamic_tax': array([ 2.  ,  9.5 , 27.25]),\n",
       "  'carbon_policy_cost': array([  10.,  152., 1090.])},\n",
       " {'firm1': {'chromo0': [3, 10, 20]},\n",
       "  'firm2': {'chromo0': [5, 16, 40]},\n",
       "  'firm3': {'chromo1': [8, 18, 70]},\n",
       "  'industry_carbon_emission': array([ 16,  44, 130]),\n",
       "  'carbon_pollution_stock': array([ 0. , 15. , 50.5]),\n",
       "  'industry_carbon_damages': array([   0.   ,  112.5  , 1275.125]),\n",
       "  'carbon_dynamic_tax': array([ 2.  ,  9.5 , 27.25]),\n",
       "  'carbon_policy_cost': array([  10.,  152., 1090.])},\n",
       " {'firm1': {'chromo0': [3, 10, 20]},\n",
       "  'firm2': {'chromo1': [6, 16, 50]},\n",
       "  'firm3': {'chromo0': [7, 17, 60]},\n",
       "  'industry_carbon_emission': array([ 16,  43, 130]),\n",
       "  'carbon_pollution_stock': array([ 0. , 15. , 50.5]),\n",
       "  'industry_carbon_damages': array([   0.   ,  112.5  , 1275.125]),\n",
       "  'carbon_dynamic_tax': array([ 2.  ,  9.5 , 27.25]),\n",
       "  'carbon_policy_cost': array([  12. ,  152. , 1362.5])},\n",
       " {'firm1': {'chromo0': [3, 10, 20]},\n",
       "  'firm2': {'chromo1': [6, 16, 50]},\n",
       "  'firm3': {'chromo1': [8, 18, 70]},\n",
       "  'industry_carbon_emission': array([ 17,  44, 140]),\n",
       "  'carbon_pollution_stock': array([ 0. , 15. , 50.5]),\n",
       "  'industry_carbon_damages': array([   0.   ,  112.5  , 1275.125]),\n",
       "  'carbon_dynamic_tax': array([ 2.  ,  9.5 , 27.25]),\n",
       "  'carbon_policy_cost': array([  12. ,  152. , 1362.5])},\n",
       " {'firm1': {'chromo1': [4, 15, 30]},\n",
       "  'firm2': {'chromo0': [5, 16, 40]},\n",
       "  'firm3': {'chromo0': [7, 17, 60]},\n",
       "  'industry_carbon_emission': array([ 16,  48, 130]),\n",
       "  'carbon_pollution_stock': array([ 0. , 15. , 50.5]),\n",
       "  'industry_carbon_damages': array([   0.   ,  112.5  , 1275.125]),\n",
       "  'carbon_dynamic_tax': array([ 2.  ,  9.5 , 27.25]),\n",
       "  'carbon_policy_cost': array([  10.,  152., 1090.])},\n",
       " {'firm1': {'chromo1': [4, 15, 30]},\n",
       "  'firm2': {'chromo0': [5, 16, 40]},\n",
       "  'firm3': {'chromo1': [8, 18, 70]},\n",
       "  'industry_carbon_emission': array([ 17,  49, 140]),\n",
       "  'carbon_pollution_stock': array([ 0. , 15. , 50.5]),\n",
       "  'industry_carbon_damages': array([   0.   ,  112.5  , 1275.125]),\n",
       "  'carbon_dynamic_tax': array([ 2.  ,  9.5 , 27.25]),\n",
       "  'carbon_policy_cost': array([  10.,  152., 1090.])},\n",
       " {'firm1': {'chromo1': [4, 15, 30]},\n",
       "  'firm2': {'chromo1': [6, 16, 50]},\n",
       "  'firm3': {'chromo0': [7, 17, 60]},\n",
       "  'industry_carbon_emission': array([ 17,  48, 140]),\n",
       "  'carbon_pollution_stock': array([ 0. , 15. , 50.5]),\n",
       "  'industry_carbon_damages': array([   0.   ,  112.5  , 1275.125]),\n",
       "  'carbon_dynamic_tax': array([ 2.  ,  9.5 , 27.25]),\n",
       "  'carbon_policy_cost': array([  12. ,  152. , 1362.5])},\n",
       " {'firm1': {'chromo1': [4, 15, 30]},\n",
       "  'firm2': {'chromo1': [6, 16, 50]},\n",
       "  'firm3': {'chromo1': [8, 18, 70]},\n",
       "  'industry_carbon_emission': array([ 18,  49, 150]),\n",
       "  'carbon_pollution_stock': array([ 0. , 15. , 50.5]),\n",
       "  'industry_carbon_damages': array([   0.   ,  112.5  , 1275.125]),\n",
       "  'carbon_dynamic_tax': array([ 2.  ,  9.5 , 27.25]),\n",
       "  'carbon_policy_cost': array([  12. ,  152. , 1362.5])}]"
      ]
     },
     "execution_count": 1153,
     "metadata": {},
     "output_type": "execute_result"
    }
   ],
   "source": [
    "industry_carbon_emission_combo"
   ]
  },
  {
   "cell_type": "code",
   "execution_count": 1154,
   "metadata": {},
   "outputs": [
    {
     "data": {
      "text/html": [
       "<div>\n",
       "<style scoped>\n",
       "    .dataframe tbody tr th:only-of-type {\n",
       "        vertical-align: middle;\n",
       "    }\n",
       "\n",
       "    .dataframe tbody tr th {\n",
       "        vertical-align: top;\n",
       "    }\n",
       "\n",
       "    .dataframe thead th {\n",
       "        text-align: right;\n",
       "    }\n",
       "</style>\n",
       "<table border=\"1\" class=\"dataframe\">\n",
       "  <thead>\n",
       "    <tr style=\"text-align: right;\">\n",
       "      <th></th>\n",
       "      <th>firm1</th>\n",
       "      <th>firm2</th>\n",
       "      <th>firm3</th>\n",
       "      <th>industry_carbon_emission</th>\n",
       "      <th>carbon_pollution_stock</th>\n",
       "      <th>industry_carbon_damages</th>\n",
       "      <th>carbon_dynamic_tax</th>\n",
       "      <th>carbon_policy_cost</th>\n",
       "    </tr>\n",
       "  </thead>\n",
       "  <tbody>\n",
       "    <tr>\n",
       "      <th>0</th>\n",
       "      <td>{'chromo0': [3, 10, 20]}</td>\n",
       "      <td>{'chromo0': [5, 16, 40]}</td>\n",
       "      <td>{'chromo0': [7, 17, 60]}</td>\n",
       "      <td>[15, 43, 120]</td>\n",
       "      <td>[0.0, 15.0, 50.5]</td>\n",
       "      <td>[0.0, 112.5, 1275.125]</td>\n",
       "      <td>[2.0, 9.5, 27.25]</td>\n",
       "      <td>[10.0, 152.0, 1090.0]</td>\n",
       "    </tr>\n",
       "    <tr>\n",
       "      <th>1</th>\n",
       "      <td>{'chromo0': [3, 10, 20]}</td>\n",
       "      <td>{'chromo0': [5, 16, 40]}</td>\n",
       "      <td>{'chromo1': [8, 18, 70]}</td>\n",
       "      <td>[16, 44, 130]</td>\n",
       "      <td>[0.0, 15.0, 50.5]</td>\n",
       "      <td>[0.0, 112.5, 1275.125]</td>\n",
       "      <td>[2.0, 9.5, 27.25]</td>\n",
       "      <td>[10.0, 152.0, 1090.0]</td>\n",
       "    </tr>\n",
       "    <tr>\n",
       "      <th>2</th>\n",
       "      <td>{'chromo0': [3, 10, 20]}</td>\n",
       "      <td>{'chromo1': [6, 16, 50]}</td>\n",
       "      <td>{'chromo0': [7, 17, 60]}</td>\n",
       "      <td>[16, 43, 130]</td>\n",
       "      <td>[0.0, 15.0, 50.5]</td>\n",
       "      <td>[0.0, 112.5, 1275.125]</td>\n",
       "      <td>[2.0, 9.5, 27.25]</td>\n",
       "      <td>[12.0, 152.0, 1362.5]</td>\n",
       "    </tr>\n",
       "    <tr>\n",
       "      <th>3</th>\n",
       "      <td>{'chromo0': [3, 10, 20]}</td>\n",
       "      <td>{'chromo1': [6, 16, 50]}</td>\n",
       "      <td>{'chromo1': [8, 18, 70]}</td>\n",
       "      <td>[17, 44, 140]</td>\n",
       "      <td>[0.0, 15.0, 50.5]</td>\n",
       "      <td>[0.0, 112.5, 1275.125]</td>\n",
       "      <td>[2.0, 9.5, 27.25]</td>\n",
       "      <td>[12.0, 152.0, 1362.5]</td>\n",
       "    </tr>\n",
       "    <tr>\n",
       "      <th>4</th>\n",
       "      <td>{'chromo1': [4, 15, 30]}</td>\n",
       "      <td>{'chromo0': [5, 16, 40]}</td>\n",
       "      <td>{'chromo0': [7, 17, 60]}</td>\n",
       "      <td>[16, 48, 130]</td>\n",
       "      <td>[0.0, 15.0, 50.5]</td>\n",
       "      <td>[0.0, 112.5, 1275.125]</td>\n",
       "      <td>[2.0, 9.5, 27.25]</td>\n",
       "      <td>[10.0, 152.0, 1090.0]</td>\n",
       "    </tr>\n",
       "    <tr>\n",
       "      <th>5</th>\n",
       "      <td>{'chromo1': [4, 15, 30]}</td>\n",
       "      <td>{'chromo0': [5, 16, 40]}</td>\n",
       "      <td>{'chromo1': [8, 18, 70]}</td>\n",
       "      <td>[17, 49, 140]</td>\n",
       "      <td>[0.0, 15.0, 50.5]</td>\n",
       "      <td>[0.0, 112.5, 1275.125]</td>\n",
       "      <td>[2.0, 9.5, 27.25]</td>\n",
       "      <td>[10.0, 152.0, 1090.0]</td>\n",
       "    </tr>\n",
       "    <tr>\n",
       "      <th>6</th>\n",
       "      <td>{'chromo1': [4, 15, 30]}</td>\n",
       "      <td>{'chromo1': [6, 16, 50]}</td>\n",
       "      <td>{'chromo0': [7, 17, 60]}</td>\n",
       "      <td>[17, 48, 140]</td>\n",
       "      <td>[0.0, 15.0, 50.5]</td>\n",
       "      <td>[0.0, 112.5, 1275.125]</td>\n",
       "      <td>[2.0, 9.5, 27.25]</td>\n",
       "      <td>[12.0, 152.0, 1362.5]</td>\n",
       "    </tr>\n",
       "    <tr>\n",
       "      <th>7</th>\n",
       "      <td>{'chromo1': [4, 15, 30]}</td>\n",
       "      <td>{'chromo1': [6, 16, 50]}</td>\n",
       "      <td>{'chromo1': [8, 18, 70]}</td>\n",
       "      <td>[18, 49, 150]</td>\n",
       "      <td>[0.0, 15.0, 50.5]</td>\n",
       "      <td>[0.0, 112.5, 1275.125]</td>\n",
       "      <td>[2.0, 9.5, 27.25]</td>\n",
       "      <td>[12.0, 152.0, 1362.5]</td>\n",
       "    </tr>\n",
       "  </tbody>\n",
       "</table>\n",
       "</div>"
      ],
      "text/plain": [
       "                      firm1                     firm2  \\\n",
       "0  {'chromo0': [3, 10, 20]}  {'chromo0': [5, 16, 40]}   \n",
       "1  {'chromo0': [3, 10, 20]}  {'chromo0': [5, 16, 40]}   \n",
       "2  {'chromo0': [3, 10, 20]}  {'chromo1': [6, 16, 50]}   \n",
       "3  {'chromo0': [3, 10, 20]}  {'chromo1': [6, 16, 50]}   \n",
       "4  {'chromo1': [4, 15, 30]}  {'chromo0': [5, 16, 40]}   \n",
       "5  {'chromo1': [4, 15, 30]}  {'chromo0': [5, 16, 40]}   \n",
       "6  {'chromo1': [4, 15, 30]}  {'chromo1': [6, 16, 50]}   \n",
       "7  {'chromo1': [4, 15, 30]}  {'chromo1': [6, 16, 50]}   \n",
       "\n",
       "                      firm3 industry_carbon_emission carbon_pollution_stock  \\\n",
       "0  {'chromo0': [7, 17, 60]}            [15, 43, 120]      [0.0, 15.0, 50.5]   \n",
       "1  {'chromo1': [8, 18, 70]}            [16, 44, 130]      [0.0, 15.0, 50.5]   \n",
       "2  {'chromo0': [7, 17, 60]}            [16, 43, 130]      [0.0, 15.0, 50.5]   \n",
       "3  {'chromo1': [8, 18, 70]}            [17, 44, 140]      [0.0, 15.0, 50.5]   \n",
       "4  {'chromo0': [7, 17, 60]}            [16, 48, 130]      [0.0, 15.0, 50.5]   \n",
       "5  {'chromo1': [8, 18, 70]}            [17, 49, 140]      [0.0, 15.0, 50.5]   \n",
       "6  {'chromo0': [7, 17, 60]}            [17, 48, 140]      [0.0, 15.0, 50.5]   \n",
       "7  {'chromo1': [8, 18, 70]}            [18, 49, 150]      [0.0, 15.0, 50.5]   \n",
       "\n",
       "  industry_carbon_damages carbon_dynamic_tax     carbon_policy_cost  \n",
       "0  [0.0, 112.5, 1275.125]  [2.0, 9.5, 27.25]  [10.0, 152.0, 1090.0]  \n",
       "1  [0.0, 112.5, 1275.125]  [2.0, 9.5, 27.25]  [10.0, 152.0, 1090.0]  \n",
       "2  [0.0, 112.5, 1275.125]  [2.0, 9.5, 27.25]  [12.0, 152.0, 1362.5]  \n",
       "3  [0.0, 112.5, 1275.125]  [2.0, 9.5, 27.25]  [12.0, 152.0, 1362.5]  \n",
       "4  [0.0, 112.5, 1275.125]  [2.0, 9.5, 27.25]  [10.0, 152.0, 1090.0]  \n",
       "5  [0.0, 112.5, 1275.125]  [2.0, 9.5, 27.25]  [10.0, 152.0, 1090.0]  \n",
       "6  [0.0, 112.5, 1275.125]  [2.0, 9.5, 27.25]  [12.0, 152.0, 1362.5]  \n",
       "7  [0.0, 112.5, 1275.125]  [2.0, 9.5, 27.25]  [12.0, 152.0, 1362.5]  "
      ]
     },
     "execution_count": 1154,
     "metadata": {},
     "output_type": "execute_result"
    }
   ],
   "source": [
    "pd.DataFrame.from_dict(industry_carbon_emission_combo)"
   ]
  },
  {
   "cell_type": "code",
   "execution_count": 1165,
   "metadata": {},
   "outputs": [],
   "source": [
    "evolving_species_sim ={}"
   ]
  },
  {
   "cell_type": "code",
   "execution_count": 1168,
   "metadata": {},
   "outputs": [],
   "source": [
    "evolving_species_sim [\"selected_chromo\"] = [2, 2, 2]\n",
    "evolving_species_sim [\"number_vessels_sim\"] = [2, 2, 2]\n",
    "evolving_species_sim[\"main_fuel_con_sim\"]  = [2, 2, 2]\n",
    "evolving_species_sim[\"aux_fuel_con_sim\"]  =[2, 2, 2]\n",
    "evolving_species_sim[\"fuel_cost_sim\"]  =[2, 2, 2]\n",
    "evolving_species_sim [\"total_cost_sim\"]  = [2, 2, 2]\n",
    "evolving_species_sim [\"revenue_sim\"] =[2, 2, 2]\n",
    "evolving_species_sim[\"profit_vector_sim\"] = [2, 2, 2]\n"
   ]
  },
  {
   "cell_type": "code",
   "execution_count": 1169,
   "metadata": {},
   "outputs": [
    {
     "data": {
      "text/plain": [
       "{'slected_chromo': [2, 2, 2],\n",
       " 'number_vessels_sim': [2, 2, 2],\n",
       " 'main_fuel_con_sim': [2, 2, 2],\n",
       " 'aux_fuel_con_sim': [2, 2, 2],\n",
       " 'fuel_cost_sim': [2, 2, 2],\n",
       " 'total_cost_sim': [2, 2, 2],\n",
       " 'revenue_sim': [2, 2, 2],\n",
       " 'profit_vector_sim': [2, 2, 2],\n",
       " 'selected_chromo': [2, 2, 2]}"
      ]
     },
     "execution_count": 1169,
     "metadata": {},
     "output_type": "execute_result"
    }
   ],
   "source": [
    "evolving_species_sim"
   ]
  },
  {
   "cell_type": "code",
   "execution_count": 1170,
   "metadata": {},
   "outputs": [
    {
     "data": {
      "text/plain": [
       "[{'firm1': {'chromo0': [3, 10, 20]},\n",
       "  'firm2': {'chromo0': [5, 16, 40]},\n",
       "  'firm3': {'chromo0': [7, 17, 60]},\n",
       "  'industry_carbon_emission': array([ 15,  43, 120]),\n",
       "  'carbon_pollution_stock': array([ 0. , 15. , 50.5]),\n",
       "  'industry_carbon_damages': array([   0.   ,  112.5  , 1275.125]),\n",
       "  'carbon_dynamic_tax': array([ 2.  ,  9.5 , 27.25]),\n",
       "  'carbon_policy_cost': array([  10.,  152., 1090.])},\n",
       " {'firm1': {'chromo0': [3, 10, 20]},\n",
       "  'firm2': {'chromo0': [5, 16, 40]},\n",
       "  'firm3': {'chromo1': [8, 18, 70]},\n",
       "  'industry_carbon_emission': array([ 16,  44, 130]),\n",
       "  'carbon_pollution_stock': array([ 0. , 15. , 50.5]),\n",
       "  'industry_carbon_damages': array([   0.   ,  112.5  , 1275.125]),\n",
       "  'carbon_dynamic_tax': array([ 2.  ,  9.5 , 27.25]),\n",
       "  'carbon_policy_cost': array([  10.,  152., 1090.])},\n",
       " {'firm1': {'chromo0': [3, 10, 20]},\n",
       "  'firm2': {'chromo1': [6, 16, 50]},\n",
       "  'firm3': {'chromo0': [7, 17, 60]},\n",
       "  'industry_carbon_emission': array([ 16,  43, 130]),\n",
       "  'carbon_pollution_stock': array([ 0. , 15. , 50.5]),\n",
       "  'industry_carbon_damages': array([   0.   ,  112.5  , 1275.125]),\n",
       "  'carbon_dynamic_tax': array([ 2.  ,  9.5 , 27.25]),\n",
       "  'carbon_policy_cost': array([  12. ,  152. , 1362.5])},\n",
       " {'firm1': {'chromo0': [3, 10, 20]},\n",
       "  'firm2': {'chromo1': [6, 16, 50]},\n",
       "  'firm3': {'chromo1': [8, 18, 70]},\n",
       "  'industry_carbon_emission': array([ 17,  44, 140]),\n",
       "  'carbon_pollution_stock': array([ 0. , 15. , 50.5]),\n",
       "  'industry_carbon_damages': array([   0.   ,  112.5  , 1275.125]),\n",
       "  'carbon_dynamic_tax': array([ 2.  ,  9.5 , 27.25]),\n",
       "  'carbon_policy_cost': array([  12. ,  152. , 1362.5])},\n",
       " {'firm1': {'chromo1': [4, 15, 30]},\n",
       "  'firm2': {'chromo0': [5, 16, 40]},\n",
       "  'firm3': {'chromo0': [7, 17, 60]},\n",
       "  'industry_carbon_emission': array([ 16,  48, 130]),\n",
       "  'carbon_pollution_stock': array([ 0. , 15. , 50.5]),\n",
       "  'industry_carbon_damages': array([   0.   ,  112.5  , 1275.125]),\n",
       "  'carbon_dynamic_tax': array([ 2.  ,  9.5 , 27.25]),\n",
       "  'carbon_policy_cost': array([  10.,  152., 1090.])},\n",
       " {'firm1': {'chromo1': [4, 15, 30]},\n",
       "  'firm2': {'chromo0': [5, 16, 40]},\n",
       "  'firm3': {'chromo1': [8, 18, 70]},\n",
       "  'industry_carbon_emission': array([ 17,  49, 140]),\n",
       "  'carbon_pollution_stock': array([ 0. , 15. , 50.5]),\n",
       "  'industry_carbon_damages': array([   0.   ,  112.5  , 1275.125]),\n",
       "  'carbon_dynamic_tax': array([ 2.  ,  9.5 , 27.25]),\n",
       "  'carbon_policy_cost': array([  10.,  152., 1090.])},\n",
       " {'firm1': {'chromo1': [4, 15, 30]},\n",
       "  'firm2': {'chromo1': [6, 16, 50]},\n",
       "  'firm3': {'chromo0': [7, 17, 60]},\n",
       "  'industry_carbon_emission': array([ 17,  48, 140]),\n",
       "  'carbon_pollution_stock': array([ 0. , 15. , 50.5]),\n",
       "  'industry_carbon_damages': array([   0.   ,  112.5  , 1275.125]),\n",
       "  'carbon_dynamic_tax': array([ 2.  ,  9.5 , 27.25]),\n",
       "  'carbon_policy_cost': array([  12. ,  152. , 1362.5])},\n",
       " {'firm1': {'chromo1': [4, 15, 30]},\n",
       "  'firm2': {'chromo1': [6, 16, 50]},\n",
       "  'firm3': {'chromo1': [8, 18, 70]},\n",
       "  'industry_carbon_emission': array([ 18,  49, 150]),\n",
       "  'carbon_pollution_stock': array([ 0. , 15. , 50.5]),\n",
       "  'industry_carbon_damages': array([   0.   ,  112.5  , 1275.125]),\n",
       "  'carbon_dynamic_tax': array([ 2.  ,  9.5 , 27.25]),\n",
       "  'carbon_policy_cost': array([  12. ,  152. , 1362.5])}]"
      ]
     },
     "execution_count": 1170,
     "metadata": {},
     "output_type": "execute_result"
    }
   ],
   "source": [
    "industry_carbon_emission_combo"
   ]
  },
  {
   "cell_type": "code",
   "execution_count": 1172,
   "metadata": {},
   "outputs": [
    {
     "data": {
      "text/plain": [
       "[{'firm1': {'chromo0': [3, 10, 20]},\n",
       "  'firm2': {'chromo0': [5, 16, 40]},\n",
       "  'firm3': {'chromo0': [7, 17, 60]},\n",
       "  'industry_carbon_emission': array([ 15,  43, 120]),\n",
       "  'carbon_pollution_stock': array([ 0. , 15. , 50.5]),\n",
       "  'industry_carbon_damages': array([   0.   ,  112.5  , 1275.125]),\n",
       "  'carbon_dynamic_tax': array([ 2.  ,  9.5 , 27.25]),\n",
       "  'carbon_policy_cost': array([  10.,  152., 1090.])},\n",
       " {'firm1': {'chromo0': [3, 10, 20]},\n",
       "  'firm2': {'chromo0': [5, 16, 40]},\n",
       "  'firm3': {'chromo1': [8, 18, 70]},\n",
       "  'industry_carbon_emission': array([ 16,  44, 130]),\n",
       "  'carbon_pollution_stock': array([ 0. , 15. , 50.5]),\n",
       "  'industry_carbon_damages': array([   0.   ,  112.5  , 1275.125]),\n",
       "  'carbon_dynamic_tax': array([ 2.  ,  9.5 , 27.25]),\n",
       "  'carbon_policy_cost': array([  10.,  152., 1090.])},\n",
       " {'firm1': {'chromo0': [3, 10, 20]},\n",
       "  'firm2': {'chromo1': [6, 16, 50]},\n",
       "  'firm3': {'chromo0': [7, 17, 60]},\n",
       "  'industry_carbon_emission': array([ 16,  43, 130]),\n",
       "  'carbon_pollution_stock': array([ 0. , 15. , 50.5]),\n",
       "  'industry_carbon_damages': array([   0.   ,  112.5  , 1275.125]),\n",
       "  'carbon_dynamic_tax': array([ 2.  ,  9.5 , 27.25]),\n",
       "  'carbon_policy_cost': array([  12. ,  152. , 1362.5])},\n",
       " {'firm1': {'chromo0': [3, 10, 20]},\n",
       "  'firm2': {'chromo1': [6, 16, 50]},\n",
       "  'firm3': {'chromo1': [8, 18, 70]},\n",
       "  'industry_carbon_emission': array([ 17,  44, 140]),\n",
       "  'carbon_pollution_stock': array([ 0. , 15. , 50.5]),\n",
       "  'industry_carbon_damages': array([   0.   ,  112.5  , 1275.125]),\n",
       "  'carbon_dynamic_tax': array([ 2.  ,  9.5 , 27.25]),\n",
       "  'carbon_policy_cost': array([  12. ,  152. , 1362.5])},\n",
       " {'firm1': {'chromo1': [4, 15, 30]},\n",
       "  'firm2': {'chromo0': [5, 16, 40]},\n",
       "  'firm3': {'chromo0': [7, 17, 60]},\n",
       "  'industry_carbon_emission': array([ 16,  48, 130]),\n",
       "  'carbon_pollution_stock': array([ 0. , 15. , 50.5]),\n",
       "  'industry_carbon_damages': array([   0.   ,  112.5  , 1275.125]),\n",
       "  'carbon_dynamic_tax': array([ 2.  ,  9.5 , 27.25]),\n",
       "  'carbon_policy_cost': array([  10.,  152., 1090.])},\n",
       " {'firm1': {'chromo1': [4, 15, 30]},\n",
       "  'firm2': {'chromo0': [5, 16, 40]},\n",
       "  'firm3': {'chromo1': [8, 18, 70]},\n",
       "  'industry_carbon_emission': array([ 17,  49, 140]),\n",
       "  'carbon_pollution_stock': array([ 0. , 15. , 50.5]),\n",
       "  'industry_carbon_damages': array([   0.   ,  112.5  , 1275.125]),\n",
       "  'carbon_dynamic_tax': array([ 2.  ,  9.5 , 27.25]),\n",
       "  'carbon_policy_cost': array([  10.,  152., 1090.])},\n",
       " {'firm1': {'chromo1': [4, 15, 30]},\n",
       "  'firm2': {'chromo1': [6, 16, 50]},\n",
       "  'firm3': {'chromo0': [7, 17, 60]},\n",
       "  'industry_carbon_emission': array([ 17,  48, 140]),\n",
       "  'carbon_pollution_stock': array([ 0. , 15. , 50.5]),\n",
       "  'industry_carbon_damages': array([   0.   ,  112.5  , 1275.125]),\n",
       "  'carbon_dynamic_tax': array([ 2.  ,  9.5 , 27.25]),\n",
       "  'carbon_policy_cost': array([  12. ,  152. , 1362.5])},\n",
       " {'firm1': {'chromo1': [4, 15, 30]},\n",
       "  'firm2': {'chromo1': [6, 16, 50]},\n",
       "  'firm3': {'chromo1': [8, 18, 70]},\n",
       "  'industry_carbon_emission': array([ 18,  49, 150]),\n",
       "  'carbon_pollution_stock': array([ 0. , 15. , 50.5]),\n",
       "  'industry_carbon_damages': array([   0.   ,  112.5  , 1275.125]),\n",
       "  'carbon_dynamic_tax': array([ 2.  ,  9.5 , 27.25]),\n",
       "  'carbon_policy_cost': array([  12. ,  152. , 1362.5])}]"
      ]
     },
     "execution_count": 1172,
     "metadata": {},
     "output_type": "execute_result"
    }
   ],
   "source": [
    "industry_sulfur_emission_combo = industry_carbon_emission_combo\n",
    "industry_sulfur_emission_combo"
   ]
  },
  {
   "cell_type": "code",
   "execution_count": 1190,
   "metadata": {},
   "outputs": [],
   "source": [
    "bla = industry_carbon_emission_combo + industry_sulfur_emission_combo"
   ]
  },
  {
   "cell_type": "code",
   "execution_count": 1192,
   "metadata": {},
   "outputs": [
    {
     "data": {
      "text/html": [
       "<div>\n",
       "<style scoped>\n",
       "    .dataframe tbody tr th:only-of-type {\n",
       "        vertical-align: middle;\n",
       "    }\n",
       "\n",
       "    .dataframe tbody tr th {\n",
       "        vertical-align: top;\n",
       "    }\n",
       "\n",
       "    .dataframe thead th {\n",
       "        text-align: right;\n",
       "    }\n",
       "</style>\n",
       "<table border=\"1\" class=\"dataframe\">\n",
       "  <thead>\n",
       "    <tr style=\"text-align: right;\">\n",
       "      <th></th>\n",
       "      <th>firm1</th>\n",
       "      <th>firm2</th>\n",
       "      <th>firm3</th>\n",
       "      <th>industry_carbon_emission</th>\n",
       "      <th>carbon_pollution_stock</th>\n",
       "      <th>industry_carbon_damages</th>\n",
       "      <th>carbon_dynamic_tax</th>\n",
       "      <th>carbon_policy_cost</th>\n",
       "    </tr>\n",
       "  </thead>\n",
       "  <tbody>\n",
       "    <tr>\n",
       "      <th>0</th>\n",
       "      <td>{'chromo0': [3, 10, 20]}</td>\n",
       "      <td>{'chromo0': [5, 16, 40]}</td>\n",
       "      <td>{'chromo0': [7, 17, 60]}</td>\n",
       "      <td>[15, 43, 120]</td>\n",
       "      <td>[0.0, 15.0, 50.5]</td>\n",
       "      <td>[0.0, 112.5, 1275.125]</td>\n",
       "      <td>[2.0, 9.5, 27.25]</td>\n",
       "      <td>[10.0, 152.0, 1090.0]</td>\n",
       "    </tr>\n",
       "    <tr>\n",
       "      <th>1</th>\n",
       "      <td>{'chromo0': [3, 10, 20]}</td>\n",
       "      <td>{'chromo0': [5, 16, 40]}</td>\n",
       "      <td>{'chromo1': [8, 18, 70]}</td>\n",
       "      <td>[16, 44, 130]</td>\n",
       "      <td>[0.0, 15.0, 50.5]</td>\n",
       "      <td>[0.0, 112.5, 1275.125]</td>\n",
       "      <td>[2.0, 9.5, 27.25]</td>\n",
       "      <td>[10.0, 152.0, 1090.0]</td>\n",
       "    </tr>\n",
       "    <tr>\n",
       "      <th>2</th>\n",
       "      <td>{'chromo0': [3, 10, 20]}</td>\n",
       "      <td>{'chromo1': [6, 16, 50]}</td>\n",
       "      <td>{'chromo0': [7, 17, 60]}</td>\n",
       "      <td>[16, 43, 130]</td>\n",
       "      <td>[0.0, 15.0, 50.5]</td>\n",
       "      <td>[0.0, 112.5, 1275.125]</td>\n",
       "      <td>[2.0, 9.5, 27.25]</td>\n",
       "      <td>[12.0, 152.0, 1362.5]</td>\n",
       "    </tr>\n",
       "    <tr>\n",
       "      <th>3</th>\n",
       "      <td>{'chromo0': [3, 10, 20]}</td>\n",
       "      <td>{'chromo1': [6, 16, 50]}</td>\n",
       "      <td>{'chromo1': [8, 18, 70]}</td>\n",
       "      <td>[17, 44, 140]</td>\n",
       "      <td>[0.0, 15.0, 50.5]</td>\n",
       "      <td>[0.0, 112.5, 1275.125]</td>\n",
       "      <td>[2.0, 9.5, 27.25]</td>\n",
       "      <td>[12.0, 152.0, 1362.5]</td>\n",
       "    </tr>\n",
       "    <tr>\n",
       "      <th>4</th>\n",
       "      <td>{'chromo1': [4, 15, 30]}</td>\n",
       "      <td>{'chromo0': [5, 16, 40]}</td>\n",
       "      <td>{'chromo0': [7, 17, 60]}</td>\n",
       "      <td>[16, 48, 130]</td>\n",
       "      <td>[0.0, 15.0, 50.5]</td>\n",
       "      <td>[0.0, 112.5, 1275.125]</td>\n",
       "      <td>[2.0, 9.5, 27.25]</td>\n",
       "      <td>[10.0, 152.0, 1090.0]</td>\n",
       "    </tr>\n",
       "    <tr>\n",
       "      <th>5</th>\n",
       "      <td>{'chromo1': [4, 15, 30]}</td>\n",
       "      <td>{'chromo0': [5, 16, 40]}</td>\n",
       "      <td>{'chromo1': [8, 18, 70]}</td>\n",
       "      <td>[17, 49, 140]</td>\n",
       "      <td>[0.0, 15.0, 50.5]</td>\n",
       "      <td>[0.0, 112.5, 1275.125]</td>\n",
       "      <td>[2.0, 9.5, 27.25]</td>\n",
       "      <td>[10.0, 152.0, 1090.0]</td>\n",
       "    </tr>\n",
       "    <tr>\n",
       "      <th>6</th>\n",
       "      <td>{'chromo1': [4, 15, 30]}</td>\n",
       "      <td>{'chromo1': [6, 16, 50]}</td>\n",
       "      <td>{'chromo0': [7, 17, 60]}</td>\n",
       "      <td>[17, 48, 140]</td>\n",
       "      <td>[0.0, 15.0, 50.5]</td>\n",
       "      <td>[0.0, 112.5, 1275.125]</td>\n",
       "      <td>[2.0, 9.5, 27.25]</td>\n",
       "      <td>[12.0, 152.0, 1362.5]</td>\n",
       "    </tr>\n",
       "    <tr>\n",
       "      <th>7</th>\n",
       "      <td>{'chromo1': [4, 15, 30]}</td>\n",
       "      <td>{'chromo1': [6, 16, 50]}</td>\n",
       "      <td>{'chromo1': [8, 18, 70]}</td>\n",
       "      <td>[18, 49, 150]</td>\n",
       "      <td>[0.0, 15.0, 50.5]</td>\n",
       "      <td>[0.0, 112.5, 1275.125]</td>\n",
       "      <td>[2.0, 9.5, 27.25]</td>\n",
       "      <td>[12.0, 152.0, 1362.5]</td>\n",
       "    </tr>\n",
       "    <tr>\n",
       "      <th>8</th>\n",
       "      <td>{'chromo0': [3, 10, 20]}</td>\n",
       "      <td>{'chromo0': [5, 16, 40]}</td>\n",
       "      <td>{'chromo0': [7, 17, 60]}</td>\n",
       "      <td>[15, 43, 120]</td>\n",
       "      <td>[0.0, 15.0, 50.5]</td>\n",
       "      <td>[0.0, 112.5, 1275.125]</td>\n",
       "      <td>[2.0, 9.5, 27.25]</td>\n",
       "      <td>[10.0, 152.0, 1090.0]</td>\n",
       "    </tr>\n",
       "    <tr>\n",
       "      <th>9</th>\n",
       "      <td>{'chromo0': [3, 10, 20]}</td>\n",
       "      <td>{'chromo0': [5, 16, 40]}</td>\n",
       "      <td>{'chromo1': [8, 18, 70]}</td>\n",
       "      <td>[16, 44, 130]</td>\n",
       "      <td>[0.0, 15.0, 50.5]</td>\n",
       "      <td>[0.0, 112.5, 1275.125]</td>\n",
       "      <td>[2.0, 9.5, 27.25]</td>\n",
       "      <td>[10.0, 152.0, 1090.0]</td>\n",
       "    </tr>\n",
       "    <tr>\n",
       "      <th>10</th>\n",
       "      <td>{'chromo0': [3, 10, 20]}</td>\n",
       "      <td>{'chromo1': [6, 16, 50]}</td>\n",
       "      <td>{'chromo0': [7, 17, 60]}</td>\n",
       "      <td>[16, 43, 130]</td>\n",
       "      <td>[0.0, 15.0, 50.5]</td>\n",
       "      <td>[0.0, 112.5, 1275.125]</td>\n",
       "      <td>[2.0, 9.5, 27.25]</td>\n",
       "      <td>[12.0, 152.0, 1362.5]</td>\n",
       "    </tr>\n",
       "    <tr>\n",
       "      <th>11</th>\n",
       "      <td>{'chromo0': [3, 10, 20]}</td>\n",
       "      <td>{'chromo1': [6, 16, 50]}</td>\n",
       "      <td>{'chromo1': [8, 18, 70]}</td>\n",
       "      <td>[17, 44, 140]</td>\n",
       "      <td>[0.0, 15.0, 50.5]</td>\n",
       "      <td>[0.0, 112.5, 1275.125]</td>\n",
       "      <td>[2.0, 9.5, 27.25]</td>\n",
       "      <td>[12.0, 152.0, 1362.5]</td>\n",
       "    </tr>\n",
       "    <tr>\n",
       "      <th>12</th>\n",
       "      <td>{'chromo1': [4, 15, 30]}</td>\n",
       "      <td>{'chromo0': [5, 16, 40]}</td>\n",
       "      <td>{'chromo0': [7, 17, 60]}</td>\n",
       "      <td>[16, 48, 130]</td>\n",
       "      <td>[0.0, 15.0, 50.5]</td>\n",
       "      <td>[0.0, 112.5, 1275.125]</td>\n",
       "      <td>[2.0, 9.5, 27.25]</td>\n",
       "      <td>[10.0, 152.0, 1090.0]</td>\n",
       "    </tr>\n",
       "    <tr>\n",
       "      <th>13</th>\n",
       "      <td>{'chromo1': [4, 15, 30]}</td>\n",
       "      <td>{'chromo0': [5, 16, 40]}</td>\n",
       "      <td>{'chromo1': [8, 18, 70]}</td>\n",
       "      <td>[17, 49, 140]</td>\n",
       "      <td>[0.0, 15.0, 50.5]</td>\n",
       "      <td>[0.0, 112.5, 1275.125]</td>\n",
       "      <td>[2.0, 9.5, 27.25]</td>\n",
       "      <td>[10.0, 152.0, 1090.0]</td>\n",
       "    </tr>\n",
       "    <tr>\n",
       "      <th>14</th>\n",
       "      <td>{'chromo1': [4, 15, 30]}</td>\n",
       "      <td>{'chromo1': [6, 16, 50]}</td>\n",
       "      <td>{'chromo0': [7, 17, 60]}</td>\n",
       "      <td>[17, 48, 140]</td>\n",
       "      <td>[0.0, 15.0, 50.5]</td>\n",
       "      <td>[0.0, 112.5, 1275.125]</td>\n",
       "      <td>[2.0, 9.5, 27.25]</td>\n",
       "      <td>[12.0, 152.0, 1362.5]</td>\n",
       "    </tr>\n",
       "    <tr>\n",
       "      <th>15</th>\n",
       "      <td>{'chromo1': [4, 15, 30]}</td>\n",
       "      <td>{'chromo1': [6, 16, 50]}</td>\n",
       "      <td>{'chromo1': [8, 18, 70]}</td>\n",
       "      <td>[18, 49, 150]</td>\n",
       "      <td>[0.0, 15.0, 50.5]</td>\n",
       "      <td>[0.0, 112.5, 1275.125]</td>\n",
       "      <td>[2.0, 9.5, 27.25]</td>\n",
       "      <td>[12.0, 152.0, 1362.5]</td>\n",
       "    </tr>\n",
       "  </tbody>\n",
       "</table>\n",
       "</div>"
      ],
      "text/plain": [
       "                       firm1                     firm2  \\\n",
       "0   {'chromo0': [3, 10, 20]}  {'chromo0': [5, 16, 40]}   \n",
       "1   {'chromo0': [3, 10, 20]}  {'chromo0': [5, 16, 40]}   \n",
       "2   {'chromo0': [3, 10, 20]}  {'chromo1': [6, 16, 50]}   \n",
       "3   {'chromo0': [3, 10, 20]}  {'chromo1': [6, 16, 50]}   \n",
       "4   {'chromo1': [4, 15, 30]}  {'chromo0': [5, 16, 40]}   \n",
       "5   {'chromo1': [4, 15, 30]}  {'chromo0': [5, 16, 40]}   \n",
       "6   {'chromo1': [4, 15, 30]}  {'chromo1': [6, 16, 50]}   \n",
       "7   {'chromo1': [4, 15, 30]}  {'chromo1': [6, 16, 50]}   \n",
       "8   {'chromo0': [3, 10, 20]}  {'chromo0': [5, 16, 40]}   \n",
       "9   {'chromo0': [3, 10, 20]}  {'chromo0': [5, 16, 40]}   \n",
       "10  {'chromo0': [3, 10, 20]}  {'chromo1': [6, 16, 50]}   \n",
       "11  {'chromo0': [3, 10, 20]}  {'chromo1': [6, 16, 50]}   \n",
       "12  {'chromo1': [4, 15, 30]}  {'chromo0': [5, 16, 40]}   \n",
       "13  {'chromo1': [4, 15, 30]}  {'chromo0': [5, 16, 40]}   \n",
       "14  {'chromo1': [4, 15, 30]}  {'chromo1': [6, 16, 50]}   \n",
       "15  {'chromo1': [4, 15, 30]}  {'chromo1': [6, 16, 50]}   \n",
       "\n",
       "                       firm3 industry_carbon_emission carbon_pollution_stock  \\\n",
       "0   {'chromo0': [7, 17, 60]}            [15, 43, 120]      [0.0, 15.0, 50.5]   \n",
       "1   {'chromo1': [8, 18, 70]}            [16, 44, 130]      [0.0, 15.0, 50.5]   \n",
       "2   {'chromo0': [7, 17, 60]}            [16, 43, 130]      [0.0, 15.0, 50.5]   \n",
       "3   {'chromo1': [8, 18, 70]}            [17, 44, 140]      [0.0, 15.0, 50.5]   \n",
       "4   {'chromo0': [7, 17, 60]}            [16, 48, 130]      [0.0, 15.0, 50.5]   \n",
       "5   {'chromo1': [8, 18, 70]}            [17, 49, 140]      [0.0, 15.0, 50.5]   \n",
       "6   {'chromo0': [7, 17, 60]}            [17, 48, 140]      [0.0, 15.0, 50.5]   \n",
       "7   {'chromo1': [8, 18, 70]}            [18, 49, 150]      [0.0, 15.0, 50.5]   \n",
       "8   {'chromo0': [7, 17, 60]}            [15, 43, 120]      [0.0, 15.0, 50.5]   \n",
       "9   {'chromo1': [8, 18, 70]}            [16, 44, 130]      [0.0, 15.0, 50.5]   \n",
       "10  {'chromo0': [7, 17, 60]}            [16, 43, 130]      [0.0, 15.0, 50.5]   \n",
       "11  {'chromo1': [8, 18, 70]}            [17, 44, 140]      [0.0, 15.0, 50.5]   \n",
       "12  {'chromo0': [7, 17, 60]}            [16, 48, 130]      [0.0, 15.0, 50.5]   \n",
       "13  {'chromo1': [8, 18, 70]}            [17, 49, 140]      [0.0, 15.0, 50.5]   \n",
       "14  {'chromo0': [7, 17, 60]}            [17, 48, 140]      [0.0, 15.0, 50.5]   \n",
       "15  {'chromo1': [8, 18, 70]}            [18, 49, 150]      [0.0, 15.0, 50.5]   \n",
       "\n",
       "   industry_carbon_damages carbon_dynamic_tax     carbon_policy_cost  \n",
       "0   [0.0, 112.5, 1275.125]  [2.0, 9.5, 27.25]  [10.0, 152.0, 1090.0]  \n",
       "1   [0.0, 112.5, 1275.125]  [2.0, 9.5, 27.25]  [10.0, 152.0, 1090.0]  \n",
       "2   [0.0, 112.5, 1275.125]  [2.0, 9.5, 27.25]  [12.0, 152.0, 1362.5]  \n",
       "3   [0.0, 112.5, 1275.125]  [2.0, 9.5, 27.25]  [12.0, 152.0, 1362.5]  \n",
       "4   [0.0, 112.5, 1275.125]  [2.0, 9.5, 27.25]  [10.0, 152.0, 1090.0]  \n",
       "5   [0.0, 112.5, 1275.125]  [2.0, 9.5, 27.25]  [10.0, 152.0, 1090.0]  \n",
       "6   [0.0, 112.5, 1275.125]  [2.0, 9.5, 27.25]  [12.0, 152.0, 1362.5]  \n",
       "7   [0.0, 112.5, 1275.125]  [2.0, 9.5, 27.25]  [12.0, 152.0, 1362.5]  \n",
       "8   [0.0, 112.5, 1275.125]  [2.0, 9.5, 27.25]  [10.0, 152.0, 1090.0]  \n",
       "9   [0.0, 112.5, 1275.125]  [2.0, 9.5, 27.25]  [10.0, 152.0, 1090.0]  \n",
       "10  [0.0, 112.5, 1275.125]  [2.0, 9.5, 27.25]  [12.0, 152.0, 1362.5]  \n",
       "11  [0.0, 112.5, 1275.125]  [2.0, 9.5, 27.25]  [12.0, 152.0, 1362.5]  \n",
       "12  [0.0, 112.5, 1275.125]  [2.0, 9.5, 27.25]  [10.0, 152.0, 1090.0]  \n",
       "13  [0.0, 112.5, 1275.125]  [2.0, 9.5, 27.25]  [10.0, 152.0, 1090.0]  \n",
       "14  [0.0, 112.5, 1275.125]  [2.0, 9.5, 27.25]  [12.0, 152.0, 1362.5]  \n",
       "15  [0.0, 112.5, 1275.125]  [2.0, 9.5, 27.25]  [12.0, 152.0, 1362.5]  "
      ]
     },
     "execution_count": 1192,
     "metadata": {},
     "output_type": "execute_result"
    }
   ],
   "source": [
    "pd.DataFrame.from_dict(bla)"
   ]
  },
  {
   "cell_type": "code",
   "execution_count": null,
   "metadata": {},
   "outputs": [],
   "source": [
    "candidate_partner_chromo[\"firm\"] = np.reshape(symbiotic_neighberhood[\"firm\" + str(_.index) ], (9, 2)) #(l*m, n)\n"
   ]
  },
  {
   "cell_type": "code",
   "execution_count": 1174,
   "metadata": {},
   "outputs": [
    {
     "data": {
      "text/plain": [
       "{'firm1': [8, 18, 70], 'firm2': [8, 18, 70], 'firm3': [8, 18, 70]}"
      ]
     },
     "execution_count": 1174,
     "metadata": {},
     "output_type": "execute_result"
    }
   ],
   "source": [
    "candidate_partner_chromo={}\n",
    "candidate_partner_chromo[\"firm1\"]=[8,18,70]\n",
    "candidate_partner_chromo[\"firm2\"]=[8,18,70]\n",
    "candidate_partner_chromo[\"firm3\"]= [8,18,70]\n",
    "candidate_partner_chromo"
   ]
  },
  {
   "cell_type": "code",
   "execution_count": 1177,
   "metadata": {},
   "outputs": [
    {
     "data": {
      "text/plain": [
       "array([[[11.35650611, 11.51352875],\n",
       "        [11.99289141, 10.24770857],\n",
       "        [10.9682427 , 11.28989747]],\n",
       "\n",
       "       [[10.01660715, 10.67203462],\n",
       "        [11.20258701, 11.15884496],\n",
       "        [11.81119978, 10.90737755]],\n",
       "\n",
       "       [[10.43582625, 10.82993221],\n",
       "        [11.16172744, 10.21555924],\n",
       "        [11.06490624, 10.07445328]]])"
      ]
     },
     "execution_count": 1177,
     "metadata": {},
     "output_type": "execute_result"
    }
   ],
   "source": [
    "symbiotic_neighberhood[\"firm1\" ]"
   ]
  },
  {
   "cell_type": "code",
   "execution_count": 1180,
   "metadata": {},
   "outputs": [],
   "source": [
    "symbiotic_neighberhood[\"firm3\" ] = symbiotic_neighberhood[\"firm1\" ]"
   ]
  },
  {
   "cell_type": "code",
   "execution_count": 1250,
   "metadata": {},
   "outputs": [],
   "source": [
    "symbiotic_neighberhood[\"firm2\" ] = symbiotic_neighberhood[\"firm1\" ]"
   ]
  },
  {
   "cell_type": "code",
   "execution_count": 1181,
   "metadata": {},
   "outputs": [],
   "source": [
    "candidate_partner_chromo={}\n",
    "for _ in (symbiotic_species):\n",
    "    candidate_partner_chromo[\"firm\" + str(_.index)] = np.reshape(symbiotic_neighberhood[\"firm\" + str(_.index) ], (9, 2)) #(l*m, n)\n"
   ]
  },
  {
   "cell_type": "code",
   "execution_count": 1188,
   "metadata": {},
   "outputs": [
    {
     "data": {
      "text/plain": [
       "array([[11.35650611, 11.51352875],\n",
       "       [11.99289141, 10.24770857],\n",
       "       [10.9682427 , 11.28989747],\n",
       "       [10.01660715, 10.67203462],\n",
       "       [11.20258701, 11.15884496],\n",
       "       [11.81119978, 10.90737755],\n",
       "       [10.43582625, 10.82993221],\n",
       "       [11.16172744, 10.21555924],\n",
       "       [11.06490624, 10.07445328]])"
      ]
     },
     "execution_count": 1188,
     "metadata": {},
     "output_type": "execute_result"
    }
   ],
   "source": [
    "candidate_partner_chromo['firm1']"
   ]
  },
  {
   "cell_type": "code",
   "execution_count": 1254,
   "metadata": {},
   "outputs": [
    {
     "data": {
      "text/plain": [
       "{'firm1': array([[11.35650611, 11.51352875],\n",
       "        [11.99289141, 10.24770857],\n",
       "        [10.9682427 , 11.28989747],\n",
       "        [10.01660715, 10.67203462],\n",
       "        [11.20258701, 11.15884496],\n",
       "        [11.81119978, 10.90737755],\n",
       "        [10.43582625, 10.82993221],\n",
       "        [11.16172744, 10.21555924],\n",
       "        [11.06490624, 10.07445328]]),\n",
       " 'firm3': array([[11.35650611, 11.51352875],\n",
       "        [11.99289141, 10.24770857],\n",
       "        [10.9682427 , 11.28989747],\n",
       "        [10.01660715, 10.67203462],\n",
       "        [11.20258701, 11.15884496],\n",
       "        [11.81119978, 10.90737755],\n",
       "        [10.43582625, 10.82993221],\n",
       "        [11.16172744, 10.21555924],\n",
       "        [11.06490624, 10.07445328]]),\n",
       " 'firm2': array([[11.35650611, 11.51352875],\n",
       "        [11.99289141, 10.24770857],\n",
       "        [10.9682427 , 11.28989747],\n",
       "        [10.01660715, 10.67203462],\n",
       "        [11.20258701, 11.15884496],\n",
       "        [11.81119978, 10.90737755],\n",
       "        [10.43582625, 10.82993221],\n",
       "        [11.16172744, 10.21555924],\n",
       "        [11.06490624, 10.07445328]])}"
      ]
     },
     "execution_count": 1254,
     "metadata": {},
     "output_type": "execute_result"
    }
   ],
   "source": [
    "candidate_partner_chromo['firm2'] = candidate_partner_chromo['firm1']\n",
    "candidate_partner_chromo"
   ]
  },
  {
   "cell_type": "code",
   "execution_count": 1185,
   "metadata": {},
   "outputs": [
    {
     "data": {
      "text/plain": [
       "array([11.35650611, 11.51352875])"
      ]
     },
     "execution_count": 1185,
     "metadata": {},
     "output_type": "execute_result"
    }
   ],
   "source": [
    "chromo_0 #chromo_0 = candidate_partner_chromo['firm1'][0]"
   ]
  },
  {
   "cell_type": "code",
   "execution_count": 1194,
   "metadata": {},
   "outputs": [],
   "source": [
    "initial_sulfur_tax_sim = 2"
   ]
  },
  {
   "cell_type": "code",
   "execution_count": 1344,
   "metadata": {},
   "outputs": [
    {
     "name": "stdout",
     "output_type": "stream",
     "text": [
      "([5, 16, 40],)\n",
      "([5, 16, 40],)\n",
      "([6, 16, 50],)\n",
      "([6, 16, 50],)\n",
      "([5, 16, 40],)\n",
      "([5, 16, 40],)\n",
      "([6, 16, 50],)\n",
      "([6, 16, 50],)\n"
     ]
    },
    {
     "data": {
      "text/html": [
       "<div>\n",
       "<style scoped>\n",
       "    .dataframe tbody tr th:only-of-type {\n",
       "        vertical-align: middle;\n",
       "    }\n",
       "\n",
       "    .dataframe tbody tr th {\n",
       "        vertical-align: top;\n",
       "    }\n",
       "\n",
       "    .dataframe thead th {\n",
       "        text-align: right;\n",
       "    }\n",
       "</style>\n",
       "<table border=\"1\" class=\"dataframe\">\n",
       "  <thead>\n",
       "    <tr style=\"text-align: right;\">\n",
       "      <th></th>\n",
       "      <th>firm1</th>\n",
       "      <th>firm2</th>\n",
       "      <th>firm3</th>\n",
       "      <th>industry_sulfur_emission</th>\n",
       "      <th>sulfur_pollution_stock</th>\n",
       "      <th>industry_sulfur_damages</th>\n",
       "      <th>sulfur_dynamic_tax</th>\n",
       "      <th>sulfur_policy_cost</th>\n",
       "    </tr>\n",
       "  </thead>\n",
       "  <tbody>\n",
       "    <tr>\n",
       "      <th>0</th>\n",
       "      <td>{'chromo0': [3, 10, 20]}</td>\n",
       "      <td>{'chromo0': [5, 16, 40]}</td>\n",
       "      <td>{'chromo0': [7, 17, 60]}</td>\n",
       "      <td>[15, 43, 120]</td>\n",
       "      <td>[0.0, 15.0, 50.5]</td>\n",
       "      <td>[0.0, 112.5, 1275.125]</td>\n",
       "      <td>[2.0, 9.5, 27.25]</td>\n",
       "      <td>[10.0, 152.0, 1090.0]</td>\n",
       "    </tr>\n",
       "    <tr>\n",
       "      <th>1</th>\n",
       "      <td>{'chromo0': [3, 10, 20]}</td>\n",
       "      <td>{'chromo0': [5, 16, 40]}</td>\n",
       "      <td>{'chromo1': [8, 18, 70]}</td>\n",
       "      <td>[16, 44, 130]</td>\n",
       "      <td>[0.0, 15.0, 50.5]</td>\n",
       "      <td>[0.0, 112.5, 1275.125]</td>\n",
       "      <td>[2.0, 9.5, 27.25]</td>\n",
       "      <td>[10.0, 152.0, 1090.0]</td>\n",
       "    </tr>\n",
       "    <tr>\n",
       "      <th>2</th>\n",
       "      <td>{'chromo0': [3, 10, 20]}</td>\n",
       "      <td>{'chromo1': [6, 16, 50]}</td>\n",
       "      <td>{'chromo0': [7, 17, 60]}</td>\n",
       "      <td>[16, 43, 130]</td>\n",
       "      <td>[0.0, 15.0, 50.5]</td>\n",
       "      <td>[0.0, 112.5, 1275.125]</td>\n",
       "      <td>[2.0, 9.5, 27.25]</td>\n",
       "      <td>[12.0, 152.0, 1362.5]</td>\n",
       "    </tr>\n",
       "    <tr>\n",
       "      <th>3</th>\n",
       "      <td>{'chromo0': [3, 10, 20]}</td>\n",
       "      <td>{'chromo1': [6, 16, 50]}</td>\n",
       "      <td>{'chromo1': [8, 18, 70]}</td>\n",
       "      <td>[17, 44, 140]</td>\n",
       "      <td>[0.0, 15.0, 50.5]</td>\n",
       "      <td>[0.0, 112.5, 1275.125]</td>\n",
       "      <td>[2.0, 9.5, 27.25]</td>\n",
       "      <td>[12.0, 152.0, 1362.5]</td>\n",
       "    </tr>\n",
       "    <tr>\n",
       "      <th>4</th>\n",
       "      <td>{'chromo1': [4, 15, 30]}</td>\n",
       "      <td>{'chromo0': [5, 16, 40]}</td>\n",
       "      <td>{'chromo0': [7, 17, 60]}</td>\n",
       "      <td>[16, 48, 130]</td>\n",
       "      <td>[0.0, 15.0, 50.5]</td>\n",
       "      <td>[0.0, 112.5, 1275.125]</td>\n",
       "      <td>[2.0, 9.5, 27.25]</td>\n",
       "      <td>[10.0, 152.0, 1090.0]</td>\n",
       "    </tr>\n",
       "    <tr>\n",
       "      <th>5</th>\n",
       "      <td>{'chromo1': [4, 15, 30]}</td>\n",
       "      <td>{'chromo0': [5, 16, 40]}</td>\n",
       "      <td>{'chromo1': [8, 18, 70]}</td>\n",
       "      <td>[17, 49, 140]</td>\n",
       "      <td>[0.0, 15.0, 50.5]</td>\n",
       "      <td>[0.0, 112.5, 1275.125]</td>\n",
       "      <td>[2.0, 9.5, 27.25]</td>\n",
       "      <td>[10.0, 152.0, 1090.0]</td>\n",
       "    </tr>\n",
       "    <tr>\n",
       "      <th>6</th>\n",
       "      <td>{'chromo1': [4, 15, 30]}</td>\n",
       "      <td>{'chromo1': [6, 16, 50]}</td>\n",
       "      <td>{'chromo0': [7, 17, 60]}</td>\n",
       "      <td>[17, 48, 140]</td>\n",
       "      <td>[0.0, 15.0, 50.5]</td>\n",
       "      <td>[0.0, 112.5, 1275.125]</td>\n",
       "      <td>[2.0, 9.5, 27.25]</td>\n",
       "      <td>[12.0, 152.0, 1362.5]</td>\n",
       "    </tr>\n",
       "    <tr>\n",
       "      <th>7</th>\n",
       "      <td>{'chromo1': [4, 15, 30]}</td>\n",
       "      <td>{'chromo1': [6, 16, 50]}</td>\n",
       "      <td>{'chromo1': [8, 18, 70]}</td>\n",
       "      <td>[18, 49, 150]</td>\n",
       "      <td>[0.0, 15.0, 50.5]</td>\n",
       "      <td>[0.0, 112.5, 1275.125]</td>\n",
       "      <td>[2.0, 9.5, 27.25]</td>\n",
       "      <td>[12.0, 152.0, 1362.5]</td>\n",
       "    </tr>\n",
       "  </tbody>\n",
       "</table>\n",
       "</div>"
      ],
      "text/plain": [
       "                      firm1                     firm2  \\\n",
       "0  {'chromo0': [3, 10, 20]}  {'chromo0': [5, 16, 40]}   \n",
       "1  {'chromo0': [3, 10, 20]}  {'chromo0': [5, 16, 40]}   \n",
       "2  {'chromo0': [3, 10, 20]}  {'chromo1': [6, 16, 50]}   \n",
       "3  {'chromo0': [3, 10, 20]}  {'chromo1': [6, 16, 50]}   \n",
       "4  {'chromo1': [4, 15, 30]}  {'chromo0': [5, 16, 40]}   \n",
       "5  {'chromo1': [4, 15, 30]}  {'chromo0': [5, 16, 40]}   \n",
       "6  {'chromo1': [4, 15, 30]}  {'chromo1': [6, 16, 50]}   \n",
       "7  {'chromo1': [4, 15, 30]}  {'chromo1': [6, 16, 50]}   \n",
       "\n",
       "                      firm3 industry_sulfur_emission sulfur_pollution_stock  \\\n",
       "0  {'chromo0': [7, 17, 60]}            [15, 43, 120]      [0.0, 15.0, 50.5]   \n",
       "1  {'chromo1': [8, 18, 70]}            [16, 44, 130]      [0.0, 15.0, 50.5]   \n",
       "2  {'chromo0': [7, 17, 60]}            [16, 43, 130]      [0.0, 15.0, 50.5]   \n",
       "3  {'chromo1': [8, 18, 70]}            [17, 44, 140]      [0.0, 15.0, 50.5]   \n",
       "4  {'chromo0': [7, 17, 60]}            [16, 48, 130]      [0.0, 15.0, 50.5]   \n",
       "5  {'chromo1': [8, 18, 70]}            [17, 49, 140]      [0.0, 15.0, 50.5]   \n",
       "6  {'chromo0': [7, 17, 60]}            [17, 48, 140]      [0.0, 15.0, 50.5]   \n",
       "7  {'chromo1': [8, 18, 70]}            [18, 49, 150]      [0.0, 15.0, 50.5]   \n",
       "\n",
       "  industry_sulfur_damages sulfur_dynamic_tax     sulfur_policy_cost  \n",
       "0  [0.0, 112.5, 1275.125]  [2.0, 9.5, 27.25]  [10.0, 152.0, 1090.0]  \n",
       "1  [0.0, 112.5, 1275.125]  [2.0, 9.5, 27.25]  [10.0, 152.0, 1090.0]  \n",
       "2  [0.0, 112.5, 1275.125]  [2.0, 9.5, 27.25]  [12.0, 152.0, 1362.5]  \n",
       "3  [0.0, 112.5, 1275.125]  [2.0, 9.5, 27.25]  [12.0, 152.0, 1362.5]  \n",
       "4  [0.0, 112.5, 1275.125]  [2.0, 9.5, 27.25]  [10.0, 152.0, 1090.0]  \n",
       "5  [0.0, 112.5, 1275.125]  [2.0, 9.5, 27.25]  [10.0, 152.0, 1090.0]  \n",
       "6  [0.0, 112.5, 1275.125]  [2.0, 9.5, 27.25]  [12.0, 152.0, 1362.5]  \n",
       "7  [0.0, 112.5, 1275.125]  [2.0, 9.5, 27.25]  [12.0, 152.0, 1362.5]  "
      ]
     },
     "execution_count": 1344,
     "metadata": {},
     "output_type": "execute_result"
    }
   ],
   "source": [
    "sulfur_emissions={}\n",
    "sulfur_emissions[\"firm1\"]={}\n",
    "sulfur_emissions[\"firm2\"]={}\n",
    "sulfur_emissions[\"firm3\"]={}\n",
    "sulfur_emissions[\"firm1\"][\"chromo0\"]= [3,10,20] \n",
    "sulfur_emissions[\"firm1\"][\"chromo1\"]= [4,15,30]\n",
    "sulfur_emissions[\"firm2\"][\"chromo0\"]= [5,16,40] \n",
    "sulfur_emissions[\"firm2\"][\"chromo1\"]= [6,16,50] \n",
    "sulfur_emissions[\"firm3\"][\"chromo0\"]= [7,17,60]\n",
    "sulfur_emissions[\"firm3\"][\"chromo1\"]= [8,18,70]\n",
    "sulfur_emissions\n",
    "industry_sulfur_emission_combo= {}\n",
    "industry_sulfur_emission_combo = [dict(zip(sulfur_emissions.keys(), a)) for a in itertools.product(*sulfur_emissions.values())]\n",
    "for _ in range(len(industry_sulfur_emission_combo)):\n",
    "    for firm in industry_sulfur_emission_combo[_].keys():\n",
    "        industry_sulfur_emission_combo[_].update({str(firm): {str(industry_sulfur_emission_combo[_][str(firm)]): \n",
    "                                 sulfur_emissions[str(firm)][str(industry_sulfur_emission_combo[_][str(firm)])]}})\n",
    "        \n",
    "        \n",
    "firms = (tuple(industry_sulfur_emission_combo[0].keys()))\n",
    "firms\n",
    "for _ in range(len(industry_sulfur_emission_combo)):\n",
    "    industry_sulfur_emission_combo[_][\"industry_sulfur_emission\"] = 0\n",
    "    for firm in firms:\n",
    "        #print(firm)\n",
    "        chromos, firm_sulfur_emission = zip(*industry_sulfur_emission_combo[_][str(firm)].items())\n",
    "        industry_sulfur_emission_combo[_][\"industry_sulfur_emission\"] += np.array(industry_sulfur_emission_combo[_].get(str(firm)).get(str(chromos[0])))\n",
    "        \n",
    "        \n",
    "        \n",
    "        \n",
    "for _ in range(len(industry_sulfur_emission_combo)):\n",
    "    industry_sulfur_emission_combo[_][\"sulfur_pollution_stock\"] =np.zeros (3)\n",
    "    industry_sulfur_emission_combo[_][\"industry_sulfur_damages\"]= np.zeros (3)\n",
    "    industry_sulfur_emission_combo[_][\"sulfur_dynamic_tax\"]  = np.zeros (3)\n",
    "    industry_sulfur_emission_combo[_][\"sulfur_dynamic_tax\"][0]  = initial_sulfur_tax_sim\n",
    "    \n",
    "    for my_period_index in range (2): \n",
    "        #Remove and multipy instead of using loop \n",
    "        industry_sulfur_emission_combo[_][\"sulfur_pollution_stock\"] [my_period_index + 1] = (1- pollution_decay_parameter ) * industry_sulfur_emission_combo[_][\"sulfur_pollution_stock\"][my_period_index ] + industry_sulfur_emission_combo[0][\"industry_sulfur_emission\"][my_period_index]\n",
    "        industry_sulfur_emission_combo[_][\"sulfur_dynamic_tax\"] [my_period_index+1] = initial_sulfur_tax_sim + taxation_scheme_rate_sim * industry_sulfur_emission_combo[_][\"sulfur_pollution_stock\"][my_period_index +1 ]\n",
    "\n",
    "    \n",
    "    industry_sulfur_emission_combo[_][\"industry_sulfur_damages\"] = 0.5* pollution_damage_parameter * np.power( industry_sulfur_emission_combo[_][\"sulfur_pollution_stock\"],2)\n",
    "\n",
    "    #Policy and Update Cost \n",
    "    chromos, firm_sulfur_emission = zip(*industry_sulfur_emission_combo[_][\"firm\"+str(evolving_species.index)].items())\n",
    "    print(firm_sulfur_emission)\n",
    "    industry_sulfur_emission_combo[_][\"sulfur_policy_cost\"] = np.multiply(firm_sulfur_emission[0], \n",
    "                                                                industry_sulfur_emission_combo[_][\"sulfur_dynamic_tax\"]) # a numpy vectore\n",
    "\n",
    "pd.DataFrame.from_dict(industry_sulfur_emission_combo)"
   ]
  },
  {
   "cell_type": "code",
   "execution_count": 1358,
   "metadata": {},
   "outputs": [
    {
     "name": "stdout",
     "output_type": "stream",
     "text": [
      "([5, 16, 40],)\n",
      "([5, 16, 40],)\n",
      "([6, 16, 50],)\n",
      "([6, 16, 50],)\n",
      "([5, 16, 40],)\n",
      "([5, 16, 40],)\n",
      "([6, 16, 50],)\n",
      "([6, 16, 50],)\n"
     ]
    },
    {
     "data": {
      "text/html": [
       "<div>\n",
       "<style scoped>\n",
       "    .dataframe tbody tr th:only-of-type {\n",
       "        vertical-align: middle;\n",
       "    }\n",
       "\n",
       "    .dataframe tbody tr th {\n",
       "        vertical-align: top;\n",
       "    }\n",
       "\n",
       "    .dataframe thead th {\n",
       "        text-align: right;\n",
       "    }\n",
       "</style>\n",
       "<table border=\"1\" class=\"dataframe\">\n",
       "  <thead>\n",
       "    <tr style=\"text-align: right;\">\n",
       "      <th></th>\n",
       "      <th>firm1</th>\n",
       "      <th>firm2</th>\n",
       "      <th>firm3</th>\n",
       "      <th>industry_carbon_emission</th>\n",
       "      <th>carbon_pollution_stock</th>\n",
       "      <th>industry_carbon_damages</th>\n",
       "      <th>carbon_dynamic_tax</th>\n",
       "      <th>carbon_policy_cost</th>\n",
       "    </tr>\n",
       "  </thead>\n",
       "  <tbody>\n",
       "    <tr>\n",
       "      <th>0</th>\n",
       "      <td>{'chromo0': [3, 10, 20]}</td>\n",
       "      <td>{'chromo0': [5, 16, 40]}</td>\n",
       "      <td>{'chromo0': [7, 17, 60]}</td>\n",
       "      <td>[15, 43, 120]</td>\n",
       "      <td>[0.0, 15.0, 50.5]</td>\n",
       "      <td>[0.0, 112.5, 1275.125]</td>\n",
       "      <td>[2.0, 9.5, 27.25]</td>\n",
       "      <td>[10.0, 152.0, 1090.0]</td>\n",
       "    </tr>\n",
       "    <tr>\n",
       "      <th>1</th>\n",
       "      <td>{'chromo0': [3, 10, 20]}</td>\n",
       "      <td>{'chromo0': [5, 16, 40]}</td>\n",
       "      <td>{'chromo1': [8, 18, 70]}</td>\n",
       "      <td>[16, 44, 130]</td>\n",
       "      <td>[0.0, 15.0, 50.5]</td>\n",
       "      <td>[0.0, 112.5, 1275.125]</td>\n",
       "      <td>[2.0, 9.5, 27.25]</td>\n",
       "      <td>[10.0, 152.0, 1090.0]</td>\n",
       "    </tr>\n",
       "    <tr>\n",
       "      <th>2</th>\n",
       "      <td>{'chromo0': [3, 10, 20]}</td>\n",
       "      <td>{'chromo1': [6, 16, 50]}</td>\n",
       "      <td>{'chromo0': [7, 17, 60]}</td>\n",
       "      <td>[16, 43, 130]</td>\n",
       "      <td>[0.0, 15.0, 50.5]</td>\n",
       "      <td>[0.0, 112.5, 1275.125]</td>\n",
       "      <td>[2.0, 9.5, 27.25]</td>\n",
       "      <td>[12.0, 152.0, 1362.5]</td>\n",
       "    </tr>\n",
       "    <tr>\n",
       "      <th>3</th>\n",
       "      <td>{'chromo0': [3, 10, 20]}</td>\n",
       "      <td>{'chromo1': [6, 16, 50]}</td>\n",
       "      <td>{'chromo1': [8, 18, 70]}</td>\n",
       "      <td>[17, 44, 140]</td>\n",
       "      <td>[0.0, 15.0, 50.5]</td>\n",
       "      <td>[0.0, 112.5, 1275.125]</td>\n",
       "      <td>[2.0, 9.5, 27.25]</td>\n",
       "      <td>[12.0, 152.0, 1362.5]</td>\n",
       "    </tr>\n",
       "    <tr>\n",
       "      <th>4</th>\n",
       "      <td>{'chromo1': [4, 15, 30]}</td>\n",
       "      <td>{'chromo0': [5, 16, 40]}</td>\n",
       "      <td>{'chromo0': [7, 17, 60]}</td>\n",
       "      <td>[16, 48, 130]</td>\n",
       "      <td>[0.0, 15.0, 50.5]</td>\n",
       "      <td>[0.0, 112.5, 1275.125]</td>\n",
       "      <td>[2.0, 9.5, 27.25]</td>\n",
       "      <td>[10.0, 152.0, 1090.0]</td>\n",
       "    </tr>\n",
       "    <tr>\n",
       "      <th>5</th>\n",
       "      <td>{'chromo1': [4, 15, 30]}</td>\n",
       "      <td>{'chromo0': [5, 16, 40]}</td>\n",
       "      <td>{'chromo1': [8, 18, 70]}</td>\n",
       "      <td>[17, 49, 140]</td>\n",
       "      <td>[0.0, 15.0, 50.5]</td>\n",
       "      <td>[0.0, 112.5, 1275.125]</td>\n",
       "      <td>[2.0, 9.5, 27.25]</td>\n",
       "      <td>[10.0, 152.0, 1090.0]</td>\n",
       "    </tr>\n",
       "    <tr>\n",
       "      <th>6</th>\n",
       "      <td>{'chromo1': [4, 15, 30]}</td>\n",
       "      <td>{'chromo1': [6, 16, 50]}</td>\n",
       "      <td>{'chromo0': [7, 17, 60]}</td>\n",
       "      <td>[17, 48, 140]</td>\n",
       "      <td>[0.0, 15.0, 50.5]</td>\n",
       "      <td>[0.0, 112.5, 1275.125]</td>\n",
       "      <td>[2.0, 9.5, 27.25]</td>\n",
       "      <td>[12.0, 152.0, 1362.5]</td>\n",
       "    </tr>\n",
       "    <tr>\n",
       "      <th>7</th>\n",
       "      <td>{'chromo1': [4, 15, 30]}</td>\n",
       "      <td>{'chromo1': [6, 16, 50]}</td>\n",
       "      <td>{'chromo1': [8, 18, 70]}</td>\n",
       "      <td>[18, 49, 150]</td>\n",
       "      <td>[0.0, 15.0, 50.5]</td>\n",
       "      <td>[0.0, 112.5, 1275.125]</td>\n",
       "      <td>[2.0, 9.5, 27.25]</td>\n",
       "      <td>[12.0, 152.0, 1362.5]</td>\n",
       "    </tr>\n",
       "  </tbody>\n",
       "</table>\n",
       "</div>"
      ],
      "text/plain": [
       "                      firm1                     firm2  \\\n",
       "0  {'chromo0': [3, 10, 20]}  {'chromo0': [5, 16, 40]}   \n",
       "1  {'chromo0': [3, 10, 20]}  {'chromo0': [5, 16, 40]}   \n",
       "2  {'chromo0': [3, 10, 20]}  {'chromo1': [6, 16, 50]}   \n",
       "3  {'chromo0': [3, 10, 20]}  {'chromo1': [6, 16, 50]}   \n",
       "4  {'chromo1': [4, 15, 30]}  {'chromo0': [5, 16, 40]}   \n",
       "5  {'chromo1': [4, 15, 30]}  {'chromo0': [5, 16, 40]}   \n",
       "6  {'chromo1': [4, 15, 30]}  {'chromo1': [6, 16, 50]}   \n",
       "7  {'chromo1': [4, 15, 30]}  {'chromo1': [6, 16, 50]}   \n",
       "\n",
       "                      firm3 industry_carbon_emission carbon_pollution_stock  \\\n",
       "0  {'chromo0': [7, 17, 60]}            [15, 43, 120]      [0.0, 15.0, 50.5]   \n",
       "1  {'chromo1': [8, 18, 70]}            [16, 44, 130]      [0.0, 15.0, 50.5]   \n",
       "2  {'chromo0': [7, 17, 60]}            [16, 43, 130]      [0.0, 15.0, 50.5]   \n",
       "3  {'chromo1': [8, 18, 70]}            [17, 44, 140]      [0.0, 15.0, 50.5]   \n",
       "4  {'chromo0': [7, 17, 60]}            [16, 48, 130]      [0.0, 15.0, 50.5]   \n",
       "5  {'chromo1': [8, 18, 70]}            [17, 49, 140]      [0.0, 15.0, 50.5]   \n",
       "6  {'chromo0': [7, 17, 60]}            [17, 48, 140]      [0.0, 15.0, 50.5]   \n",
       "7  {'chromo1': [8, 18, 70]}            [18, 49, 150]      [0.0, 15.0, 50.5]   \n",
       "\n",
       "  industry_carbon_damages carbon_dynamic_tax     carbon_policy_cost  \n",
       "0  [0.0, 112.5, 1275.125]  [2.0, 9.5, 27.25]  [10.0, 152.0, 1090.0]  \n",
       "1  [0.0, 112.5, 1275.125]  [2.0, 9.5, 27.25]  [10.0, 152.0, 1090.0]  \n",
       "2  [0.0, 112.5, 1275.125]  [2.0, 9.5, 27.25]  [12.0, 152.0, 1362.5]  \n",
       "3  [0.0, 112.5, 1275.125]  [2.0, 9.5, 27.25]  [12.0, 152.0, 1362.5]  \n",
       "4  [0.0, 112.5, 1275.125]  [2.0, 9.5, 27.25]  [10.0, 152.0, 1090.0]  \n",
       "5  [0.0, 112.5, 1275.125]  [2.0, 9.5, 27.25]  [10.0, 152.0, 1090.0]  \n",
       "6  [0.0, 112.5, 1275.125]  [2.0, 9.5, 27.25]  [12.0, 152.0, 1362.5]  \n",
       "7  [0.0, 112.5, 1275.125]  [2.0, 9.5, 27.25]  [12.0, 152.0, 1362.5]  "
      ]
     },
     "execution_count": 1358,
     "metadata": {},
     "output_type": "execute_result"
    }
   ],
   "source": [
    "carbon_emissions={}\n",
    "carbon_emissions[\"firm1\"]={}\n",
    "carbon_emissions[\"firm2\"]={}\n",
    "carbon_emissions[\"firm3\"]={}\n",
    "carbon_emissions[\"firm1\"][\"chromo0\"]= [3,10,20] \n",
    "carbon_emissions[\"firm1\"][\"chromo1\"]= [4,15,30]\n",
    "carbon_emissions[\"firm2\"][\"chromo0\"]= [5,16,40] \n",
    "carbon_emissions[\"firm2\"][\"chromo1\"]= [6,16,50] \n",
    "carbon_emissions[\"firm3\"][\"chromo0\"]= [7,17,60]\n",
    "carbon_emissions[\"firm3\"][\"chromo1\"]= [8,18,70]\n",
    "carbon_emissions\n",
    "industry_carbon_emission_combo= {}\n",
    "industry_carbon_emission_combo = [dict(zip(carbon_emissions.keys(), a)) for a in itertools.product(*carbon_emissions.values())]\n",
    "for _ in range(len(industry_carbon_emission_combo)):\n",
    "    for firm in industry_carbon_emission_combo[_].keys():\n",
    "        industry_carbon_emission_combo[_].update({str(firm): {str(industry_carbon_emission_combo[_][str(firm)]): \n",
    "                                 carbon_emissions[str(firm)][str(industry_carbon_emission_combo[_][str(firm)])]}})\n",
    "        \n",
    "        \n",
    "firms = (tuple(industry_carbon_emission_combo[0].keys()))\n",
    "firms\n",
    "for _ in range(len(industry_carbon_emission_combo)):\n",
    "    industry_carbon_emission_combo[_][\"industry_carbon_emission\"] = 0\n",
    "    for firm in firms:\n",
    "        #print(firm)\n",
    "        chromos, firm_carbon_emission = zip(*industry_carbon_emission_combo[_][str(firm)].items())\n",
    "        industry_carbon_emission_combo[_][\"industry_carbon_emission\"] += np.array(industry_carbon_emission_combo[_].get(str(firm)).get(str(chromos[0])))\n",
    "        \n",
    "        \n",
    "        \n",
    "        \n",
    "for _ in range(len(industry_carbon_emission_combo)):\n",
    "    industry_carbon_emission_combo[_][\"carbon_pollution_stock\"] =np.zeros (3)\n",
    "    industry_carbon_emission_combo[_][\"industry_carbon_damages\"]= np.zeros (3)\n",
    "    industry_carbon_emission_combo[_][\"carbon_dynamic_tax\"]  = np.zeros (3)\n",
    "    industry_carbon_emission_combo[_][\"carbon_dynamic_tax\"][0]  = initial_carbon_tax_sim\n",
    "    \n",
    "    for my_period_index in range (2): \n",
    "        #Remove and multipy instead of using loop \n",
    "        industry_carbon_emission_combo[_][\"carbon_pollution_stock\"] [my_period_index + 1] = (1- pollution_decay_parameter ) * industry_carbon_emission_combo[_][\"carbon_pollution_stock\"][my_period_index ] + industry_carbon_emission_combo[0][\"industry_carbon_emission\"][my_period_index]\n",
    "        industry_carbon_emission_combo[_][\"carbon_dynamic_tax\"] [my_period_index+1] = initial_carbon_tax_sim + taxation_scheme_rate_sim * industry_carbon_emission_combo[_][\"carbon_pollution_stock\"][my_period_index +1 ]\n",
    "\n",
    "    \n",
    "    industry_carbon_emission_combo[_][\"industry_carbon_damages\"] = 0.5* pollution_damage_parameter * np.power( industry_carbon_emission_combo[_][\"carbon_pollution_stock\"],2)\n",
    "\n",
    "    #Policy and Update Cost \n",
    "    chromos, firm_carbon_emission = zip(*industry_carbon_emission_combo[_][\"firm\"+str(evolving_species.index)].items())\n",
    "    print(firm_carbon_emission)\n",
    "    industry_carbon_emission_combo[_][\"carbon_policy_cost\"] = np.multiply(firm_carbon_emission[0], \n",
    "                                                                industry_carbon_emission_combo[_][\"carbon_dynamic_tax\"]) # a numpy vectore\n",
    "\n",
    "pd.DataFrame.from_dict(industry_carbon_emission_combo)        "
   ]
  },
  {
   "cell_type": "code",
   "execution_count": 1359,
   "metadata": {},
   "outputs": [],
   "source": [
    "industry_carbon_emission_combo[0][\"firm1\"]['chromo0'] = candidate_partner_chromo['firm1'][0]"
   ]
  },
  {
   "cell_type": "code",
   "execution_count": null,
   "metadata": {},
   "outputs": [],
   "source": []
  },
  {
   "cell_type": "code",
   "execution_count": 1360,
   "metadata": {},
   "outputs": [],
   "source": [
    "for _ in range(len(industry_carbon_emission_combo)):\n",
    "    for firm in firms:\n",
    "        chromos, chromo_tobe_updated = zip(*industry_carbon_emission_combo[_][str(firm)].items())\n",
    "        industry_carbon_emission_combo[_][str(firm)][str(chromos[0])] = candidate_partner_chromo[str(firm)][int(re.findall(r'\\d+', chromos[0])[0])]"
   ]
  },
  {
   "cell_type": "code",
   "execution_count": 1361,
   "metadata": {},
   "outputs": [],
   "source": [
    "chromos, chromo_tobe_updated = zip(*industry_carbon_emission_combo[_][str(firm)].items())\n"
   ]
  },
  {
   "cell_type": "code",
   "execution_count": 1362,
   "metadata": {},
   "outputs": [
    {
     "data": {
      "text/plain": [
       "'chromo1'"
      ]
     },
     "execution_count": 1362,
     "metadata": {},
     "output_type": "execute_result"
    }
   ],
   "source": [
    "chromos[0]"
   ]
  },
  {
   "cell_type": "code",
   "execution_count": 1363,
   "metadata": {},
   "outputs": [
    {
     "data": {
      "text/plain": [
       "([6, 16, 50],)"
      ]
     },
     "execution_count": 1363,
     "metadata": {},
     "output_type": "execute_result"
    }
   ],
   "source": [
    "firm_carbon_emission"
   ]
  },
  {
   "cell_type": "code",
   "execution_count": 1364,
   "metadata": {},
   "outputs": [
    {
     "data": {
      "text/plain": [
       "1"
      ]
     },
     "execution_count": 1364,
     "metadata": {},
     "output_type": "execute_result"
    }
   ],
   "source": [
    "import re\n",
    "\n",
    "int(re.findall(r'\\d+', chromos[0])[0])\n"
   ]
  },
  {
   "cell_type": "code",
   "execution_count": 1365,
   "metadata": {},
   "outputs": [],
   "source": [
    "for _ in range(len(industry_sulfur_emission_combo)):\n",
    "    for firm in firms:\n",
    "        chromos, chromo_tobe_updated = zip(*industry_sulfur_emission_combo[_][str(firm)].items())\n",
    "        industry_sulfur_emission_combo[_][str(firm)][str(chromos[0])] = candidate_partner_chromo[str(firm)][int(re.findall(r'\\d+', chromos[0])[0])]\n",
    "    "
   ]
  },
  {
   "cell_type": "code",
   "execution_count": 1366,
   "metadata": {},
   "outputs": [
    {
     "data": {
      "text/plain": [
       "[{'firm1': {'chromo0': array([11.35650611, 11.51352875])},\n",
       "  'firm2': {'chromo0': array([11.35650611, 11.51352875])},\n",
       "  'firm3': {'chromo0': array([11.35650611, 11.51352875])},\n",
       "  'industry_carbon_emission': array([ 15,  43, 120]),\n",
       "  'carbon_pollution_stock': array([ 0. , 15. , 50.5]),\n",
       "  'industry_carbon_damages': array([   0.   ,  112.5  , 1275.125]),\n",
       "  'carbon_dynamic_tax': array([ 2.  ,  9.5 , 27.25]),\n",
       "  'carbon_policy_cost': array([  10.,  152., 1090.]),\n",
       "  'industry_sulfur_emission': array([ 15,  43, 120]),\n",
       "  'sulfur_pollution_stock': array([ 0. , 15. , 50.5]),\n",
       "  'industry_sulfur_damages': array([   0.   ,  112.5  , 1275.125]),\n",
       "  'sulfur_dynamic_tax': array([ 2.  ,  9.5 , 27.25]),\n",
       "  'sulfur_policy_cost': array([  10.,  152., 1090.])},\n",
       " {'firm1': {'chromo0': array([11.35650611, 11.51352875])},\n",
       "  'firm2': {'chromo0': array([11.35650611, 11.51352875])},\n",
       "  'firm3': {'chromo1': array([11.99289141, 10.24770857])},\n",
       "  'industry_carbon_emission': array([ 16,  44, 130]),\n",
       "  'carbon_pollution_stock': array([ 0. , 15. , 50.5]),\n",
       "  'industry_carbon_damages': array([   0.   ,  112.5  , 1275.125]),\n",
       "  'carbon_dynamic_tax': array([ 2.  ,  9.5 , 27.25]),\n",
       "  'carbon_policy_cost': array([  10.,  152., 1090.]),\n",
       "  'industry_sulfur_emission': array([ 16,  44, 130]),\n",
       "  'sulfur_pollution_stock': array([ 0. , 15. , 50.5]),\n",
       "  'industry_sulfur_damages': array([   0.   ,  112.5  , 1275.125]),\n",
       "  'sulfur_dynamic_tax': array([ 2.  ,  9.5 , 27.25]),\n",
       "  'sulfur_policy_cost': array([  10.,  152., 1090.])},\n",
       " {'firm1': {'chromo0': array([11.35650611, 11.51352875])},\n",
       "  'firm2': {'chromo1': array([11.99289141, 10.24770857])},\n",
       "  'firm3': {'chromo0': array([11.35650611, 11.51352875])},\n",
       "  'industry_carbon_emission': array([ 16,  43, 130]),\n",
       "  'carbon_pollution_stock': array([ 0. , 15. , 50.5]),\n",
       "  'industry_carbon_damages': array([   0.   ,  112.5  , 1275.125]),\n",
       "  'carbon_dynamic_tax': array([ 2.  ,  9.5 , 27.25]),\n",
       "  'carbon_policy_cost': array([  12. ,  152. , 1362.5]),\n",
       "  'industry_sulfur_emission': array([ 16,  43, 130]),\n",
       "  'sulfur_pollution_stock': array([ 0. , 15. , 50.5]),\n",
       "  'industry_sulfur_damages': array([   0.   ,  112.5  , 1275.125]),\n",
       "  'sulfur_dynamic_tax': array([ 2.  ,  9.5 , 27.25]),\n",
       "  'sulfur_policy_cost': array([  12. ,  152. , 1362.5])},\n",
       " {'firm1': {'chromo0': array([11.35650611, 11.51352875])},\n",
       "  'firm2': {'chromo1': array([11.99289141, 10.24770857])},\n",
       "  'firm3': {'chromo1': array([11.99289141, 10.24770857])},\n",
       "  'industry_carbon_emission': array([ 17,  44, 140]),\n",
       "  'carbon_pollution_stock': array([ 0. , 15. , 50.5]),\n",
       "  'industry_carbon_damages': array([   0.   ,  112.5  , 1275.125]),\n",
       "  'carbon_dynamic_tax': array([ 2.  ,  9.5 , 27.25]),\n",
       "  'carbon_policy_cost': array([  12. ,  152. , 1362.5]),\n",
       "  'industry_sulfur_emission': array([ 17,  44, 140]),\n",
       "  'sulfur_pollution_stock': array([ 0. , 15. , 50.5]),\n",
       "  'industry_sulfur_damages': array([   0.   ,  112.5  , 1275.125]),\n",
       "  'sulfur_dynamic_tax': array([ 2.  ,  9.5 , 27.25]),\n",
       "  'sulfur_policy_cost': array([  12. ,  152. , 1362.5])},\n",
       " {'firm1': {'chromo1': array([11.99289141, 10.24770857])},\n",
       "  'firm2': {'chromo0': array([11.35650611, 11.51352875])},\n",
       "  'firm3': {'chromo0': array([11.35650611, 11.51352875])},\n",
       "  'industry_carbon_emission': array([ 16,  48, 130]),\n",
       "  'carbon_pollution_stock': array([ 0. , 15. , 50.5]),\n",
       "  'industry_carbon_damages': array([   0.   ,  112.5  , 1275.125]),\n",
       "  'carbon_dynamic_tax': array([ 2.  ,  9.5 , 27.25]),\n",
       "  'carbon_policy_cost': array([  10.,  152., 1090.]),\n",
       "  'industry_sulfur_emission': array([ 16,  48, 130]),\n",
       "  'sulfur_pollution_stock': array([ 0. , 15. , 50.5]),\n",
       "  'industry_sulfur_damages': array([   0.   ,  112.5  , 1275.125]),\n",
       "  'sulfur_dynamic_tax': array([ 2.  ,  9.5 , 27.25]),\n",
       "  'sulfur_policy_cost': array([  10.,  152., 1090.])},\n",
       " {'firm1': {'chromo1': array([11.99289141, 10.24770857])},\n",
       "  'firm2': {'chromo0': array([11.35650611, 11.51352875])},\n",
       "  'firm3': {'chromo1': array([11.99289141, 10.24770857])},\n",
       "  'industry_carbon_emission': array([ 17,  49, 140]),\n",
       "  'carbon_pollution_stock': array([ 0. , 15. , 50.5]),\n",
       "  'industry_carbon_damages': array([   0.   ,  112.5  , 1275.125]),\n",
       "  'carbon_dynamic_tax': array([ 2.  ,  9.5 , 27.25]),\n",
       "  'carbon_policy_cost': array([  10.,  152., 1090.]),\n",
       "  'industry_sulfur_emission': array([ 17,  49, 140]),\n",
       "  'sulfur_pollution_stock': array([ 0. , 15. , 50.5]),\n",
       "  'industry_sulfur_damages': array([   0.   ,  112.5  , 1275.125]),\n",
       "  'sulfur_dynamic_tax': array([ 2.  ,  9.5 , 27.25]),\n",
       "  'sulfur_policy_cost': array([  10.,  152., 1090.])},\n",
       " {'firm1': {'chromo1': array([11.99289141, 10.24770857])},\n",
       "  'firm2': {'chromo1': array([11.99289141, 10.24770857])},\n",
       "  'firm3': {'chromo0': array([11.35650611, 11.51352875])},\n",
       "  'industry_carbon_emission': array([ 17,  48, 140]),\n",
       "  'carbon_pollution_stock': array([ 0. , 15. , 50.5]),\n",
       "  'industry_carbon_damages': array([   0.   ,  112.5  , 1275.125]),\n",
       "  'carbon_dynamic_tax': array([ 2.  ,  9.5 , 27.25]),\n",
       "  'carbon_policy_cost': array([  12. ,  152. , 1362.5]),\n",
       "  'industry_sulfur_emission': array([ 17,  48, 140]),\n",
       "  'sulfur_pollution_stock': array([ 0. , 15. , 50.5]),\n",
       "  'industry_sulfur_damages': array([   0.   ,  112.5  , 1275.125]),\n",
       "  'sulfur_dynamic_tax': array([ 2.  ,  9.5 , 27.25]),\n",
       "  'sulfur_policy_cost': array([  12. ,  152. , 1362.5])},\n",
       " {'firm1': {'chromo1': array([11.99289141, 10.24770857])},\n",
       "  'firm2': {'chromo1': array([11.99289141, 10.24770857])},\n",
       "  'firm3': {'chromo1': array([11.99289141, 10.24770857])},\n",
       "  'industry_carbon_emission': array([ 18,  49, 150]),\n",
       "  'carbon_pollution_stock': array([ 0. , 15. , 50.5]),\n",
       "  'industry_carbon_damages': array([   0.   ,  112.5  , 1275.125]),\n",
       "  'carbon_dynamic_tax': array([ 2.  ,  9.5 , 27.25]),\n",
       "  'carbon_policy_cost': array([  12. ,  152. , 1362.5]),\n",
       "  'industry_sulfur_emission': array([ 18,  49, 150]),\n",
       "  'sulfur_pollution_stock': array([ 0. , 15. , 50.5]),\n",
       "  'industry_sulfur_damages': array([   0.   ,  112.5  , 1275.125]),\n",
       "  'sulfur_dynamic_tax': array([ 2.  ,  9.5 , 27.25]),\n",
       "  'sulfur_policy_cost': array([  12. ,  152. , 1362.5])}]"
      ]
     },
     "execution_count": 1366,
     "metadata": {},
     "output_type": "execute_result"
    }
   ],
   "source": [
    "pollution_analysis = [{**a, **b} for a, b in zip(industry_carbon_emission_combo, industry_sulfur_emission_combo)]\n",
    "pollution_analysis"
   ]
  },
  {
   "cell_type": "code",
   "execution_count": 1367,
   "metadata": {},
   "outputs": [
    {
     "data": {
      "text/html": [
       "<div>\n",
       "<style scoped>\n",
       "    .dataframe tbody tr th:only-of-type {\n",
       "        vertical-align: middle;\n",
       "    }\n",
       "\n",
       "    .dataframe tbody tr th {\n",
       "        vertical-align: top;\n",
       "    }\n",
       "\n",
       "    .dataframe thead th {\n",
       "        text-align: right;\n",
       "    }\n",
       "</style>\n",
       "<table border=\"1\" class=\"dataframe\">\n",
       "  <thead>\n",
       "    <tr style=\"text-align: right;\">\n",
       "      <th></th>\n",
       "      <th>firm1</th>\n",
       "      <th>firm2</th>\n",
       "      <th>firm3</th>\n",
       "      <th>industry_carbon_emission</th>\n",
       "      <th>carbon_pollution_stock</th>\n",
       "      <th>industry_carbon_damages</th>\n",
       "      <th>carbon_dynamic_tax</th>\n",
       "      <th>carbon_policy_cost</th>\n",
       "      <th>industry_sulfur_emission</th>\n",
       "      <th>sulfur_pollution_stock</th>\n",
       "      <th>industry_sulfur_damages</th>\n",
       "      <th>sulfur_dynamic_tax</th>\n",
       "      <th>sulfur_policy_cost</th>\n",
       "    </tr>\n",
       "  </thead>\n",
       "  <tbody>\n",
       "    <tr>\n",
       "      <th>0</th>\n",
       "      <td>{'chromo0': [11.35650610807846, 11.51352875056...</td>\n",
       "      <td>{'chromo0': [11.35650610807846, 11.51352875056...</td>\n",
       "      <td>{'chromo0': [11.35650610807846, 11.51352875056...</td>\n",
       "      <td>[15, 43, 120]</td>\n",
       "      <td>[0.0, 15.0, 50.5]</td>\n",
       "      <td>[0.0, 112.5, 1275.125]</td>\n",
       "      <td>[2.0, 9.5, 27.25]</td>\n",
       "      <td>[10.0, 152.0, 1090.0]</td>\n",
       "      <td>[15, 43, 120]</td>\n",
       "      <td>[0.0, 15.0, 50.5]</td>\n",
       "      <td>[0.0, 112.5, 1275.125]</td>\n",
       "      <td>[2.0, 9.5, 27.25]</td>\n",
       "      <td>[10.0, 152.0, 1090.0]</td>\n",
       "    </tr>\n",
       "    <tr>\n",
       "      <th>1</th>\n",
       "      <td>{'chromo0': [11.35650610807846, 11.51352875056...</td>\n",
       "      <td>{'chromo0': [11.35650610807846, 11.51352875056...</td>\n",
       "      <td>{'chromo1': [11.992891407021851, 10.2477085746...</td>\n",
       "      <td>[16, 44, 130]</td>\n",
       "      <td>[0.0, 15.0, 50.5]</td>\n",
       "      <td>[0.0, 112.5, 1275.125]</td>\n",
       "      <td>[2.0, 9.5, 27.25]</td>\n",
       "      <td>[10.0, 152.0, 1090.0]</td>\n",
       "      <td>[16, 44, 130]</td>\n",
       "      <td>[0.0, 15.0, 50.5]</td>\n",
       "      <td>[0.0, 112.5, 1275.125]</td>\n",
       "      <td>[2.0, 9.5, 27.25]</td>\n",
       "      <td>[10.0, 152.0, 1090.0]</td>\n",
       "    </tr>\n",
       "    <tr>\n",
       "      <th>2</th>\n",
       "      <td>{'chromo0': [11.35650610807846, 11.51352875056...</td>\n",
       "      <td>{'chromo1': [11.992891407021851, 10.2477085746...</td>\n",
       "      <td>{'chromo0': [11.35650610807846, 11.51352875056...</td>\n",
       "      <td>[16, 43, 130]</td>\n",
       "      <td>[0.0, 15.0, 50.5]</td>\n",
       "      <td>[0.0, 112.5, 1275.125]</td>\n",
       "      <td>[2.0, 9.5, 27.25]</td>\n",
       "      <td>[12.0, 152.0, 1362.5]</td>\n",
       "      <td>[16, 43, 130]</td>\n",
       "      <td>[0.0, 15.0, 50.5]</td>\n",
       "      <td>[0.0, 112.5, 1275.125]</td>\n",
       "      <td>[2.0, 9.5, 27.25]</td>\n",
       "      <td>[12.0, 152.0, 1362.5]</td>\n",
       "    </tr>\n",
       "    <tr>\n",
       "      <th>3</th>\n",
       "      <td>{'chromo0': [11.35650610807846, 11.51352875056...</td>\n",
       "      <td>{'chromo1': [11.992891407021851, 10.2477085746...</td>\n",
       "      <td>{'chromo1': [11.992891407021851, 10.2477085746...</td>\n",
       "      <td>[17, 44, 140]</td>\n",
       "      <td>[0.0, 15.0, 50.5]</td>\n",
       "      <td>[0.0, 112.5, 1275.125]</td>\n",
       "      <td>[2.0, 9.5, 27.25]</td>\n",
       "      <td>[12.0, 152.0, 1362.5]</td>\n",
       "      <td>[17, 44, 140]</td>\n",
       "      <td>[0.0, 15.0, 50.5]</td>\n",
       "      <td>[0.0, 112.5, 1275.125]</td>\n",
       "      <td>[2.0, 9.5, 27.25]</td>\n",
       "      <td>[12.0, 152.0, 1362.5]</td>\n",
       "    </tr>\n",
       "    <tr>\n",
       "      <th>4</th>\n",
       "      <td>{'chromo1': [11.992891407021851, 10.2477085746...</td>\n",
       "      <td>{'chromo0': [11.35650610807846, 11.51352875056...</td>\n",
       "      <td>{'chromo0': [11.35650610807846, 11.51352875056...</td>\n",
       "      <td>[16, 48, 130]</td>\n",
       "      <td>[0.0, 15.0, 50.5]</td>\n",
       "      <td>[0.0, 112.5, 1275.125]</td>\n",
       "      <td>[2.0, 9.5, 27.25]</td>\n",
       "      <td>[10.0, 152.0, 1090.0]</td>\n",
       "      <td>[16, 48, 130]</td>\n",
       "      <td>[0.0, 15.0, 50.5]</td>\n",
       "      <td>[0.0, 112.5, 1275.125]</td>\n",
       "      <td>[2.0, 9.5, 27.25]</td>\n",
       "      <td>[10.0, 152.0, 1090.0]</td>\n",
       "    </tr>\n",
       "    <tr>\n",
       "      <th>5</th>\n",
       "      <td>{'chromo1': [11.992891407021851, 10.2477085746...</td>\n",
       "      <td>{'chromo0': [11.35650610807846, 11.51352875056...</td>\n",
       "      <td>{'chromo1': [11.992891407021851, 10.2477085746...</td>\n",
       "      <td>[17, 49, 140]</td>\n",
       "      <td>[0.0, 15.0, 50.5]</td>\n",
       "      <td>[0.0, 112.5, 1275.125]</td>\n",
       "      <td>[2.0, 9.5, 27.25]</td>\n",
       "      <td>[10.0, 152.0, 1090.0]</td>\n",
       "      <td>[17, 49, 140]</td>\n",
       "      <td>[0.0, 15.0, 50.5]</td>\n",
       "      <td>[0.0, 112.5, 1275.125]</td>\n",
       "      <td>[2.0, 9.5, 27.25]</td>\n",
       "      <td>[10.0, 152.0, 1090.0]</td>\n",
       "    </tr>\n",
       "    <tr>\n",
       "      <th>6</th>\n",
       "      <td>{'chromo1': [11.992891407021851, 10.2477085746...</td>\n",
       "      <td>{'chromo1': [11.992891407021851, 10.2477085746...</td>\n",
       "      <td>{'chromo0': [11.35650610807846, 11.51352875056...</td>\n",
       "      <td>[17, 48, 140]</td>\n",
       "      <td>[0.0, 15.0, 50.5]</td>\n",
       "      <td>[0.0, 112.5, 1275.125]</td>\n",
       "      <td>[2.0, 9.5, 27.25]</td>\n",
       "      <td>[12.0, 152.0, 1362.5]</td>\n",
       "      <td>[17, 48, 140]</td>\n",
       "      <td>[0.0, 15.0, 50.5]</td>\n",
       "      <td>[0.0, 112.5, 1275.125]</td>\n",
       "      <td>[2.0, 9.5, 27.25]</td>\n",
       "      <td>[12.0, 152.0, 1362.5]</td>\n",
       "    </tr>\n",
       "    <tr>\n",
       "      <th>7</th>\n",
       "      <td>{'chromo1': [11.992891407021851, 10.2477085746...</td>\n",
       "      <td>{'chromo1': [11.992891407021851, 10.2477085746...</td>\n",
       "      <td>{'chromo1': [11.992891407021851, 10.2477085746...</td>\n",
       "      <td>[18, 49, 150]</td>\n",
       "      <td>[0.0, 15.0, 50.5]</td>\n",
       "      <td>[0.0, 112.5, 1275.125]</td>\n",
       "      <td>[2.0, 9.5, 27.25]</td>\n",
       "      <td>[12.0, 152.0, 1362.5]</td>\n",
       "      <td>[18, 49, 150]</td>\n",
       "      <td>[0.0, 15.0, 50.5]</td>\n",
       "      <td>[0.0, 112.5, 1275.125]</td>\n",
       "      <td>[2.0, 9.5, 27.25]</td>\n",
       "      <td>[12.0, 152.0, 1362.5]</td>\n",
       "    </tr>\n",
       "  </tbody>\n",
       "</table>\n",
       "</div>"
      ],
      "text/plain": [
       "                                               firm1  \\\n",
       "0  {'chromo0': [11.35650610807846, 11.51352875056...   \n",
       "1  {'chromo0': [11.35650610807846, 11.51352875056...   \n",
       "2  {'chromo0': [11.35650610807846, 11.51352875056...   \n",
       "3  {'chromo0': [11.35650610807846, 11.51352875056...   \n",
       "4  {'chromo1': [11.992891407021851, 10.2477085746...   \n",
       "5  {'chromo1': [11.992891407021851, 10.2477085746...   \n",
       "6  {'chromo1': [11.992891407021851, 10.2477085746...   \n",
       "7  {'chromo1': [11.992891407021851, 10.2477085746...   \n",
       "\n",
       "                                               firm2  \\\n",
       "0  {'chromo0': [11.35650610807846, 11.51352875056...   \n",
       "1  {'chromo0': [11.35650610807846, 11.51352875056...   \n",
       "2  {'chromo1': [11.992891407021851, 10.2477085746...   \n",
       "3  {'chromo1': [11.992891407021851, 10.2477085746...   \n",
       "4  {'chromo0': [11.35650610807846, 11.51352875056...   \n",
       "5  {'chromo0': [11.35650610807846, 11.51352875056...   \n",
       "6  {'chromo1': [11.992891407021851, 10.2477085746...   \n",
       "7  {'chromo1': [11.992891407021851, 10.2477085746...   \n",
       "\n",
       "                                               firm3 industry_carbon_emission  \\\n",
       "0  {'chromo0': [11.35650610807846, 11.51352875056...            [15, 43, 120]   \n",
       "1  {'chromo1': [11.992891407021851, 10.2477085746...            [16, 44, 130]   \n",
       "2  {'chromo0': [11.35650610807846, 11.51352875056...            [16, 43, 130]   \n",
       "3  {'chromo1': [11.992891407021851, 10.2477085746...            [17, 44, 140]   \n",
       "4  {'chromo0': [11.35650610807846, 11.51352875056...            [16, 48, 130]   \n",
       "5  {'chromo1': [11.992891407021851, 10.2477085746...            [17, 49, 140]   \n",
       "6  {'chromo0': [11.35650610807846, 11.51352875056...            [17, 48, 140]   \n",
       "7  {'chromo1': [11.992891407021851, 10.2477085746...            [18, 49, 150]   \n",
       "\n",
       "  carbon_pollution_stock industry_carbon_damages carbon_dynamic_tax  \\\n",
       "0      [0.0, 15.0, 50.5]  [0.0, 112.5, 1275.125]  [2.0, 9.5, 27.25]   \n",
       "1      [0.0, 15.0, 50.5]  [0.0, 112.5, 1275.125]  [2.0, 9.5, 27.25]   \n",
       "2      [0.0, 15.0, 50.5]  [0.0, 112.5, 1275.125]  [2.0, 9.5, 27.25]   \n",
       "3      [0.0, 15.0, 50.5]  [0.0, 112.5, 1275.125]  [2.0, 9.5, 27.25]   \n",
       "4      [0.0, 15.0, 50.5]  [0.0, 112.5, 1275.125]  [2.0, 9.5, 27.25]   \n",
       "5      [0.0, 15.0, 50.5]  [0.0, 112.5, 1275.125]  [2.0, 9.5, 27.25]   \n",
       "6      [0.0, 15.0, 50.5]  [0.0, 112.5, 1275.125]  [2.0, 9.5, 27.25]   \n",
       "7      [0.0, 15.0, 50.5]  [0.0, 112.5, 1275.125]  [2.0, 9.5, 27.25]   \n",
       "\n",
       "      carbon_policy_cost industry_sulfur_emission sulfur_pollution_stock  \\\n",
       "0  [10.0, 152.0, 1090.0]            [15, 43, 120]      [0.0, 15.0, 50.5]   \n",
       "1  [10.0, 152.0, 1090.0]            [16, 44, 130]      [0.0, 15.0, 50.5]   \n",
       "2  [12.0, 152.0, 1362.5]            [16, 43, 130]      [0.0, 15.0, 50.5]   \n",
       "3  [12.0, 152.0, 1362.5]            [17, 44, 140]      [0.0, 15.0, 50.5]   \n",
       "4  [10.0, 152.0, 1090.0]            [16, 48, 130]      [0.0, 15.0, 50.5]   \n",
       "5  [10.0, 152.0, 1090.0]            [17, 49, 140]      [0.0, 15.0, 50.5]   \n",
       "6  [12.0, 152.0, 1362.5]            [17, 48, 140]      [0.0, 15.0, 50.5]   \n",
       "7  [12.0, 152.0, 1362.5]            [18, 49, 150]      [0.0, 15.0, 50.5]   \n",
       "\n",
       "  industry_sulfur_damages sulfur_dynamic_tax     sulfur_policy_cost  \n",
       "0  [0.0, 112.5, 1275.125]  [2.0, 9.5, 27.25]  [10.0, 152.0, 1090.0]  \n",
       "1  [0.0, 112.5, 1275.125]  [2.0, 9.5, 27.25]  [10.0, 152.0, 1090.0]  \n",
       "2  [0.0, 112.5, 1275.125]  [2.0, 9.5, 27.25]  [12.0, 152.0, 1362.5]  \n",
       "3  [0.0, 112.5, 1275.125]  [2.0, 9.5, 27.25]  [12.0, 152.0, 1362.5]  \n",
       "4  [0.0, 112.5, 1275.125]  [2.0, 9.5, 27.25]  [10.0, 152.0, 1090.0]  \n",
       "5  [0.0, 112.5, 1275.125]  [2.0, 9.5, 27.25]  [10.0, 152.0, 1090.0]  \n",
       "6  [0.0, 112.5, 1275.125]  [2.0, 9.5, 27.25]  [12.0, 152.0, 1362.5]  \n",
       "7  [0.0, 112.5, 1275.125]  [2.0, 9.5, 27.25]  [12.0, 152.0, 1362.5]  "
      ]
     },
     "execution_count": 1367,
     "metadata": {},
     "output_type": "execute_result"
    }
   ],
   "source": [
    "pd.DataFrame(pollution_analysis)"
   ]
  },
  {
   "cell_type": "code",
   "execution_count": 1368,
   "metadata": {},
   "outputs": [],
   "source": [
    "#combine policy cost \n",
    "for _ in range(len(pollution_analysis)):\n",
    "    pollution_analysis[_][\"policy_cost\"] = pollution_analysis[_][\"carbon_policy_cost\"]+ pollution_analysis[_][\"sulfur_policy_cost\"] "
   ]
  },
  {
   "cell_type": "code",
   "execution_count": 1369,
   "metadata": {},
   "outputs": [
    {
     "data": {
      "text/plain": [
       "[{'firm1': {'chromo0': array([11.35650611, 11.51352875])},\n",
       "  'firm2': {'chromo0': array([11.35650611, 11.51352875])},\n",
       "  'firm3': {'chromo0': array([11.35650611, 11.51352875])},\n",
       "  'industry_carbon_emission': array([ 15,  43, 120]),\n",
       "  'carbon_pollution_stock': array([ 0. , 15. , 50.5]),\n",
       "  'industry_carbon_damages': array([   0.   ,  112.5  , 1275.125]),\n",
       "  'carbon_dynamic_tax': array([ 2.  ,  9.5 , 27.25]),\n",
       "  'carbon_policy_cost': array([  10.,  152., 1090.]),\n",
       "  'industry_sulfur_emission': array([ 15,  43, 120]),\n",
       "  'sulfur_pollution_stock': array([ 0. , 15. , 50.5]),\n",
       "  'industry_sulfur_damages': array([   0.   ,  112.5  , 1275.125]),\n",
       "  'sulfur_dynamic_tax': array([ 2.  ,  9.5 , 27.25]),\n",
       "  'sulfur_policy_cost': array([  10.,  152., 1090.]),\n",
       "  'policy_cost': array([  20.,  304., 2180.])},\n",
       " {'firm1': {'chromo0': array([11.35650611, 11.51352875])},\n",
       "  'firm2': {'chromo0': array([11.35650611, 11.51352875])},\n",
       "  'firm3': {'chromo1': array([11.99289141, 10.24770857])},\n",
       "  'industry_carbon_emission': array([ 16,  44, 130]),\n",
       "  'carbon_pollution_stock': array([ 0. , 15. , 50.5]),\n",
       "  'industry_carbon_damages': array([   0.   ,  112.5  , 1275.125]),\n",
       "  'carbon_dynamic_tax': array([ 2.  ,  9.5 , 27.25]),\n",
       "  'carbon_policy_cost': array([  10.,  152., 1090.]),\n",
       "  'industry_sulfur_emission': array([ 16,  44, 130]),\n",
       "  'sulfur_pollution_stock': array([ 0. , 15. , 50.5]),\n",
       "  'industry_sulfur_damages': array([   0.   ,  112.5  , 1275.125]),\n",
       "  'sulfur_dynamic_tax': array([ 2.  ,  9.5 , 27.25]),\n",
       "  'sulfur_policy_cost': array([  10.,  152., 1090.]),\n",
       "  'policy_cost': array([  20.,  304., 2180.])},\n",
       " {'firm1': {'chromo0': array([11.35650611, 11.51352875])},\n",
       "  'firm2': {'chromo1': array([11.99289141, 10.24770857])},\n",
       "  'firm3': {'chromo0': array([11.35650611, 11.51352875])},\n",
       "  'industry_carbon_emission': array([ 16,  43, 130]),\n",
       "  'carbon_pollution_stock': array([ 0. , 15. , 50.5]),\n",
       "  'industry_carbon_damages': array([   0.   ,  112.5  , 1275.125]),\n",
       "  'carbon_dynamic_tax': array([ 2.  ,  9.5 , 27.25]),\n",
       "  'carbon_policy_cost': array([  12. ,  152. , 1362.5]),\n",
       "  'industry_sulfur_emission': array([ 16,  43, 130]),\n",
       "  'sulfur_pollution_stock': array([ 0. , 15. , 50.5]),\n",
       "  'industry_sulfur_damages': array([   0.   ,  112.5  , 1275.125]),\n",
       "  'sulfur_dynamic_tax': array([ 2.  ,  9.5 , 27.25]),\n",
       "  'sulfur_policy_cost': array([  12. ,  152. , 1362.5]),\n",
       "  'policy_cost': array([  24.,  304., 2725.])},\n",
       " {'firm1': {'chromo0': array([11.35650611, 11.51352875])},\n",
       "  'firm2': {'chromo1': array([11.99289141, 10.24770857])},\n",
       "  'firm3': {'chromo1': array([11.99289141, 10.24770857])},\n",
       "  'industry_carbon_emission': array([ 17,  44, 140]),\n",
       "  'carbon_pollution_stock': array([ 0. , 15. , 50.5]),\n",
       "  'industry_carbon_damages': array([   0.   ,  112.5  , 1275.125]),\n",
       "  'carbon_dynamic_tax': array([ 2.  ,  9.5 , 27.25]),\n",
       "  'carbon_policy_cost': array([  12. ,  152. , 1362.5]),\n",
       "  'industry_sulfur_emission': array([ 17,  44, 140]),\n",
       "  'sulfur_pollution_stock': array([ 0. , 15. , 50.5]),\n",
       "  'industry_sulfur_damages': array([   0.   ,  112.5  , 1275.125]),\n",
       "  'sulfur_dynamic_tax': array([ 2.  ,  9.5 , 27.25]),\n",
       "  'sulfur_policy_cost': array([  12. ,  152. , 1362.5]),\n",
       "  'policy_cost': array([  24.,  304., 2725.])},\n",
       " {'firm1': {'chromo1': array([11.99289141, 10.24770857])},\n",
       "  'firm2': {'chromo0': array([11.35650611, 11.51352875])},\n",
       "  'firm3': {'chromo0': array([11.35650611, 11.51352875])},\n",
       "  'industry_carbon_emission': array([ 16,  48, 130]),\n",
       "  'carbon_pollution_stock': array([ 0. , 15. , 50.5]),\n",
       "  'industry_carbon_damages': array([   0.   ,  112.5  , 1275.125]),\n",
       "  'carbon_dynamic_tax': array([ 2.  ,  9.5 , 27.25]),\n",
       "  'carbon_policy_cost': array([  10.,  152., 1090.]),\n",
       "  'industry_sulfur_emission': array([ 16,  48, 130]),\n",
       "  'sulfur_pollution_stock': array([ 0. , 15. , 50.5]),\n",
       "  'industry_sulfur_damages': array([   0.   ,  112.5  , 1275.125]),\n",
       "  'sulfur_dynamic_tax': array([ 2.  ,  9.5 , 27.25]),\n",
       "  'sulfur_policy_cost': array([  10.,  152., 1090.]),\n",
       "  'policy_cost': array([  20.,  304., 2180.])},\n",
       " {'firm1': {'chromo1': array([11.99289141, 10.24770857])},\n",
       "  'firm2': {'chromo0': array([11.35650611, 11.51352875])},\n",
       "  'firm3': {'chromo1': array([11.99289141, 10.24770857])},\n",
       "  'industry_carbon_emission': array([ 17,  49, 140]),\n",
       "  'carbon_pollution_stock': array([ 0. , 15. , 50.5]),\n",
       "  'industry_carbon_damages': array([   0.   ,  112.5  , 1275.125]),\n",
       "  'carbon_dynamic_tax': array([ 2.  ,  9.5 , 27.25]),\n",
       "  'carbon_policy_cost': array([  10.,  152., 1090.]),\n",
       "  'industry_sulfur_emission': array([ 17,  49, 140]),\n",
       "  'sulfur_pollution_stock': array([ 0. , 15. , 50.5]),\n",
       "  'industry_sulfur_damages': array([   0.   ,  112.5  , 1275.125]),\n",
       "  'sulfur_dynamic_tax': array([ 2.  ,  9.5 , 27.25]),\n",
       "  'sulfur_policy_cost': array([  10.,  152., 1090.]),\n",
       "  'policy_cost': array([  20.,  304., 2180.])},\n",
       " {'firm1': {'chromo1': array([11.99289141, 10.24770857])},\n",
       "  'firm2': {'chromo1': array([11.99289141, 10.24770857])},\n",
       "  'firm3': {'chromo0': array([11.35650611, 11.51352875])},\n",
       "  'industry_carbon_emission': array([ 17,  48, 140]),\n",
       "  'carbon_pollution_stock': array([ 0. , 15. , 50.5]),\n",
       "  'industry_carbon_damages': array([   0.   ,  112.5  , 1275.125]),\n",
       "  'carbon_dynamic_tax': array([ 2.  ,  9.5 , 27.25]),\n",
       "  'carbon_policy_cost': array([  12. ,  152. , 1362.5]),\n",
       "  'industry_sulfur_emission': array([ 17,  48, 140]),\n",
       "  'sulfur_pollution_stock': array([ 0. , 15. , 50.5]),\n",
       "  'industry_sulfur_damages': array([   0.   ,  112.5  , 1275.125]),\n",
       "  'sulfur_dynamic_tax': array([ 2.  ,  9.5 , 27.25]),\n",
       "  'sulfur_policy_cost': array([  12. ,  152. , 1362.5]),\n",
       "  'policy_cost': array([  24.,  304., 2725.])},\n",
       " {'firm1': {'chromo1': array([11.99289141, 10.24770857])},\n",
       "  'firm2': {'chromo1': array([11.99289141, 10.24770857])},\n",
       "  'firm3': {'chromo1': array([11.99289141, 10.24770857])},\n",
       "  'industry_carbon_emission': array([ 18,  49, 150]),\n",
       "  'carbon_pollution_stock': array([ 0. , 15. , 50.5]),\n",
       "  'industry_carbon_damages': array([   0.   ,  112.5  , 1275.125]),\n",
       "  'carbon_dynamic_tax': array([ 2.  ,  9.5 , 27.25]),\n",
       "  'carbon_policy_cost': array([  12. ,  152. , 1362.5]),\n",
       "  'industry_sulfur_emission': array([ 18,  49, 150]),\n",
       "  'sulfur_pollution_stock': array([ 0. , 15. , 50.5]),\n",
       "  'industry_sulfur_damages': array([   0.   ,  112.5  , 1275.125]),\n",
       "  'sulfur_dynamic_tax': array([ 2.  ,  9.5 , 27.25]),\n",
       "  'sulfur_policy_cost': array([  12. ,  152. , 1362.5]),\n",
       "  'policy_cost': array([  24.,  304., 2725.])}]"
      ]
     },
     "execution_count": 1369,
     "metadata": {},
     "output_type": "execute_result"
    }
   ],
   "source": [
    "pollution_analysis"
   ]
  },
  {
   "cell_type": "code",
   "execution_count": 1370,
   "metadata": {},
   "outputs": [
    {
     "data": {
      "text/html": [
       "<div>\n",
       "<style scoped>\n",
       "    .dataframe tbody tr th:only-of-type {\n",
       "        vertical-align: middle;\n",
       "    }\n",
       "\n",
       "    .dataframe tbody tr th {\n",
       "        vertical-align: top;\n",
       "    }\n",
       "\n",
       "    .dataframe thead th {\n",
       "        text-align: right;\n",
       "    }\n",
       "</style>\n",
       "<table border=\"1\" class=\"dataframe\">\n",
       "  <thead>\n",
       "    <tr style=\"text-align: right;\">\n",
       "      <th></th>\n",
       "      <th>firm1</th>\n",
       "      <th>firm2</th>\n",
       "      <th>firm3</th>\n",
       "      <th>industry_carbon_emission</th>\n",
       "      <th>carbon_pollution_stock</th>\n",
       "      <th>industry_carbon_damages</th>\n",
       "      <th>carbon_dynamic_tax</th>\n",
       "      <th>carbon_policy_cost</th>\n",
       "      <th>industry_sulfur_emission</th>\n",
       "      <th>sulfur_pollution_stock</th>\n",
       "      <th>industry_sulfur_damages</th>\n",
       "      <th>sulfur_dynamic_tax</th>\n",
       "      <th>sulfur_policy_cost</th>\n",
       "      <th>policy_cost</th>\n",
       "    </tr>\n",
       "  </thead>\n",
       "  <tbody>\n",
       "    <tr>\n",
       "      <th>0</th>\n",
       "      <td>{'chromo0': [11.35650610807846, 11.51352875056...</td>\n",
       "      <td>{'chromo0': [11.35650610807846, 11.51352875056...</td>\n",
       "      <td>{'chromo0': [11.35650610807846, 11.51352875056...</td>\n",
       "      <td>[15, 43, 120]</td>\n",
       "      <td>[0.0, 15.0, 50.5]</td>\n",
       "      <td>[0.0, 112.5, 1275.125]</td>\n",
       "      <td>[2.0, 9.5, 27.25]</td>\n",
       "      <td>[10.0, 152.0, 1090.0]</td>\n",
       "      <td>[15, 43, 120]</td>\n",
       "      <td>[0.0, 15.0, 50.5]</td>\n",
       "      <td>[0.0, 112.5, 1275.125]</td>\n",
       "      <td>[2.0, 9.5, 27.25]</td>\n",
       "      <td>[10.0, 152.0, 1090.0]</td>\n",
       "      <td>[20.0, 304.0, 2180.0]</td>\n",
       "    </tr>\n",
       "    <tr>\n",
       "      <th>1</th>\n",
       "      <td>{'chromo0': [11.35650610807846, 11.51352875056...</td>\n",
       "      <td>{'chromo0': [11.35650610807846, 11.51352875056...</td>\n",
       "      <td>{'chromo1': [11.992891407021851, 10.2477085746...</td>\n",
       "      <td>[16, 44, 130]</td>\n",
       "      <td>[0.0, 15.0, 50.5]</td>\n",
       "      <td>[0.0, 112.5, 1275.125]</td>\n",
       "      <td>[2.0, 9.5, 27.25]</td>\n",
       "      <td>[10.0, 152.0, 1090.0]</td>\n",
       "      <td>[16, 44, 130]</td>\n",
       "      <td>[0.0, 15.0, 50.5]</td>\n",
       "      <td>[0.0, 112.5, 1275.125]</td>\n",
       "      <td>[2.0, 9.5, 27.25]</td>\n",
       "      <td>[10.0, 152.0, 1090.0]</td>\n",
       "      <td>[20.0, 304.0, 2180.0]</td>\n",
       "    </tr>\n",
       "    <tr>\n",
       "      <th>2</th>\n",
       "      <td>{'chromo0': [11.35650610807846, 11.51352875056...</td>\n",
       "      <td>{'chromo1': [11.992891407021851, 10.2477085746...</td>\n",
       "      <td>{'chromo0': [11.35650610807846, 11.51352875056...</td>\n",
       "      <td>[16, 43, 130]</td>\n",
       "      <td>[0.0, 15.0, 50.5]</td>\n",
       "      <td>[0.0, 112.5, 1275.125]</td>\n",
       "      <td>[2.0, 9.5, 27.25]</td>\n",
       "      <td>[12.0, 152.0, 1362.5]</td>\n",
       "      <td>[16, 43, 130]</td>\n",
       "      <td>[0.0, 15.0, 50.5]</td>\n",
       "      <td>[0.0, 112.5, 1275.125]</td>\n",
       "      <td>[2.0, 9.5, 27.25]</td>\n",
       "      <td>[12.0, 152.0, 1362.5]</td>\n",
       "      <td>[24.0, 304.0, 2725.0]</td>\n",
       "    </tr>\n",
       "    <tr>\n",
       "      <th>3</th>\n",
       "      <td>{'chromo0': [11.35650610807846, 11.51352875056...</td>\n",
       "      <td>{'chromo1': [11.992891407021851, 10.2477085746...</td>\n",
       "      <td>{'chromo1': [11.992891407021851, 10.2477085746...</td>\n",
       "      <td>[17, 44, 140]</td>\n",
       "      <td>[0.0, 15.0, 50.5]</td>\n",
       "      <td>[0.0, 112.5, 1275.125]</td>\n",
       "      <td>[2.0, 9.5, 27.25]</td>\n",
       "      <td>[12.0, 152.0, 1362.5]</td>\n",
       "      <td>[17, 44, 140]</td>\n",
       "      <td>[0.0, 15.0, 50.5]</td>\n",
       "      <td>[0.0, 112.5, 1275.125]</td>\n",
       "      <td>[2.0, 9.5, 27.25]</td>\n",
       "      <td>[12.0, 152.0, 1362.5]</td>\n",
       "      <td>[24.0, 304.0, 2725.0]</td>\n",
       "    </tr>\n",
       "    <tr>\n",
       "      <th>4</th>\n",
       "      <td>{'chromo1': [11.992891407021851, 10.2477085746...</td>\n",
       "      <td>{'chromo0': [11.35650610807846, 11.51352875056...</td>\n",
       "      <td>{'chromo0': [11.35650610807846, 11.51352875056...</td>\n",
       "      <td>[16, 48, 130]</td>\n",
       "      <td>[0.0, 15.0, 50.5]</td>\n",
       "      <td>[0.0, 112.5, 1275.125]</td>\n",
       "      <td>[2.0, 9.5, 27.25]</td>\n",
       "      <td>[10.0, 152.0, 1090.0]</td>\n",
       "      <td>[16, 48, 130]</td>\n",
       "      <td>[0.0, 15.0, 50.5]</td>\n",
       "      <td>[0.0, 112.5, 1275.125]</td>\n",
       "      <td>[2.0, 9.5, 27.25]</td>\n",
       "      <td>[10.0, 152.0, 1090.0]</td>\n",
       "      <td>[20.0, 304.0, 2180.0]</td>\n",
       "    </tr>\n",
       "    <tr>\n",
       "      <th>5</th>\n",
       "      <td>{'chromo1': [11.992891407021851, 10.2477085746...</td>\n",
       "      <td>{'chromo0': [11.35650610807846, 11.51352875056...</td>\n",
       "      <td>{'chromo1': [11.992891407021851, 10.2477085746...</td>\n",
       "      <td>[17, 49, 140]</td>\n",
       "      <td>[0.0, 15.0, 50.5]</td>\n",
       "      <td>[0.0, 112.5, 1275.125]</td>\n",
       "      <td>[2.0, 9.5, 27.25]</td>\n",
       "      <td>[10.0, 152.0, 1090.0]</td>\n",
       "      <td>[17, 49, 140]</td>\n",
       "      <td>[0.0, 15.0, 50.5]</td>\n",
       "      <td>[0.0, 112.5, 1275.125]</td>\n",
       "      <td>[2.0, 9.5, 27.25]</td>\n",
       "      <td>[10.0, 152.0, 1090.0]</td>\n",
       "      <td>[20.0, 304.0, 2180.0]</td>\n",
       "    </tr>\n",
       "    <tr>\n",
       "      <th>6</th>\n",
       "      <td>{'chromo1': [11.992891407021851, 10.2477085746...</td>\n",
       "      <td>{'chromo1': [11.992891407021851, 10.2477085746...</td>\n",
       "      <td>{'chromo0': [11.35650610807846, 11.51352875056...</td>\n",
       "      <td>[17, 48, 140]</td>\n",
       "      <td>[0.0, 15.0, 50.5]</td>\n",
       "      <td>[0.0, 112.5, 1275.125]</td>\n",
       "      <td>[2.0, 9.5, 27.25]</td>\n",
       "      <td>[12.0, 152.0, 1362.5]</td>\n",
       "      <td>[17, 48, 140]</td>\n",
       "      <td>[0.0, 15.0, 50.5]</td>\n",
       "      <td>[0.0, 112.5, 1275.125]</td>\n",
       "      <td>[2.0, 9.5, 27.25]</td>\n",
       "      <td>[12.0, 152.0, 1362.5]</td>\n",
       "      <td>[24.0, 304.0, 2725.0]</td>\n",
       "    </tr>\n",
       "    <tr>\n",
       "      <th>7</th>\n",
       "      <td>{'chromo1': [11.992891407021851, 10.2477085746...</td>\n",
       "      <td>{'chromo1': [11.992891407021851, 10.2477085746...</td>\n",
       "      <td>{'chromo1': [11.992891407021851, 10.2477085746...</td>\n",
       "      <td>[18, 49, 150]</td>\n",
       "      <td>[0.0, 15.0, 50.5]</td>\n",
       "      <td>[0.0, 112.5, 1275.125]</td>\n",
       "      <td>[2.0, 9.5, 27.25]</td>\n",
       "      <td>[12.0, 152.0, 1362.5]</td>\n",
       "      <td>[18, 49, 150]</td>\n",
       "      <td>[0.0, 15.0, 50.5]</td>\n",
       "      <td>[0.0, 112.5, 1275.125]</td>\n",
       "      <td>[2.0, 9.5, 27.25]</td>\n",
       "      <td>[12.0, 152.0, 1362.5]</td>\n",
       "      <td>[24.0, 304.0, 2725.0]</td>\n",
       "    </tr>\n",
       "  </tbody>\n",
       "</table>\n",
       "</div>"
      ],
      "text/plain": [
       "                                               firm1  \\\n",
       "0  {'chromo0': [11.35650610807846, 11.51352875056...   \n",
       "1  {'chromo0': [11.35650610807846, 11.51352875056...   \n",
       "2  {'chromo0': [11.35650610807846, 11.51352875056...   \n",
       "3  {'chromo0': [11.35650610807846, 11.51352875056...   \n",
       "4  {'chromo1': [11.992891407021851, 10.2477085746...   \n",
       "5  {'chromo1': [11.992891407021851, 10.2477085746...   \n",
       "6  {'chromo1': [11.992891407021851, 10.2477085746...   \n",
       "7  {'chromo1': [11.992891407021851, 10.2477085746...   \n",
       "\n",
       "                                               firm2  \\\n",
       "0  {'chromo0': [11.35650610807846, 11.51352875056...   \n",
       "1  {'chromo0': [11.35650610807846, 11.51352875056...   \n",
       "2  {'chromo1': [11.992891407021851, 10.2477085746...   \n",
       "3  {'chromo1': [11.992891407021851, 10.2477085746...   \n",
       "4  {'chromo0': [11.35650610807846, 11.51352875056...   \n",
       "5  {'chromo0': [11.35650610807846, 11.51352875056...   \n",
       "6  {'chromo1': [11.992891407021851, 10.2477085746...   \n",
       "7  {'chromo1': [11.992891407021851, 10.2477085746...   \n",
       "\n",
       "                                               firm3 industry_carbon_emission  \\\n",
       "0  {'chromo0': [11.35650610807846, 11.51352875056...            [15, 43, 120]   \n",
       "1  {'chromo1': [11.992891407021851, 10.2477085746...            [16, 44, 130]   \n",
       "2  {'chromo0': [11.35650610807846, 11.51352875056...            [16, 43, 130]   \n",
       "3  {'chromo1': [11.992891407021851, 10.2477085746...            [17, 44, 140]   \n",
       "4  {'chromo0': [11.35650610807846, 11.51352875056...            [16, 48, 130]   \n",
       "5  {'chromo1': [11.992891407021851, 10.2477085746...            [17, 49, 140]   \n",
       "6  {'chromo0': [11.35650610807846, 11.51352875056...            [17, 48, 140]   \n",
       "7  {'chromo1': [11.992891407021851, 10.2477085746...            [18, 49, 150]   \n",
       "\n",
       "  carbon_pollution_stock industry_carbon_damages carbon_dynamic_tax  \\\n",
       "0      [0.0, 15.0, 50.5]  [0.0, 112.5, 1275.125]  [2.0, 9.5, 27.25]   \n",
       "1      [0.0, 15.0, 50.5]  [0.0, 112.5, 1275.125]  [2.0, 9.5, 27.25]   \n",
       "2      [0.0, 15.0, 50.5]  [0.0, 112.5, 1275.125]  [2.0, 9.5, 27.25]   \n",
       "3      [0.0, 15.0, 50.5]  [0.0, 112.5, 1275.125]  [2.0, 9.5, 27.25]   \n",
       "4      [0.0, 15.0, 50.5]  [0.0, 112.5, 1275.125]  [2.0, 9.5, 27.25]   \n",
       "5      [0.0, 15.0, 50.5]  [0.0, 112.5, 1275.125]  [2.0, 9.5, 27.25]   \n",
       "6      [0.0, 15.0, 50.5]  [0.0, 112.5, 1275.125]  [2.0, 9.5, 27.25]   \n",
       "7      [0.0, 15.0, 50.5]  [0.0, 112.5, 1275.125]  [2.0, 9.5, 27.25]   \n",
       "\n",
       "      carbon_policy_cost industry_sulfur_emission sulfur_pollution_stock  \\\n",
       "0  [10.0, 152.0, 1090.0]            [15, 43, 120]      [0.0, 15.0, 50.5]   \n",
       "1  [10.0, 152.0, 1090.0]            [16, 44, 130]      [0.0, 15.0, 50.5]   \n",
       "2  [12.0, 152.0, 1362.5]            [16, 43, 130]      [0.0, 15.0, 50.5]   \n",
       "3  [12.0, 152.0, 1362.5]            [17, 44, 140]      [0.0, 15.0, 50.5]   \n",
       "4  [10.0, 152.0, 1090.0]            [16, 48, 130]      [0.0, 15.0, 50.5]   \n",
       "5  [10.0, 152.0, 1090.0]            [17, 49, 140]      [0.0, 15.0, 50.5]   \n",
       "6  [12.0, 152.0, 1362.5]            [17, 48, 140]      [0.0, 15.0, 50.5]   \n",
       "7  [12.0, 152.0, 1362.5]            [18, 49, 150]      [0.0, 15.0, 50.5]   \n",
       "\n",
       "  industry_sulfur_damages sulfur_dynamic_tax     sulfur_policy_cost  \\\n",
       "0  [0.0, 112.5, 1275.125]  [2.0, 9.5, 27.25]  [10.0, 152.0, 1090.0]   \n",
       "1  [0.0, 112.5, 1275.125]  [2.0, 9.5, 27.25]  [10.0, 152.0, 1090.0]   \n",
       "2  [0.0, 112.5, 1275.125]  [2.0, 9.5, 27.25]  [12.0, 152.0, 1362.5]   \n",
       "3  [0.0, 112.5, 1275.125]  [2.0, 9.5, 27.25]  [12.0, 152.0, 1362.5]   \n",
       "4  [0.0, 112.5, 1275.125]  [2.0, 9.5, 27.25]  [10.0, 152.0, 1090.0]   \n",
       "5  [0.0, 112.5, 1275.125]  [2.0, 9.5, 27.25]  [10.0, 152.0, 1090.0]   \n",
       "6  [0.0, 112.5, 1275.125]  [2.0, 9.5, 27.25]  [12.0, 152.0, 1362.5]   \n",
       "7  [0.0, 112.5, 1275.125]  [2.0, 9.5, 27.25]  [12.0, 152.0, 1362.5]   \n",
       "\n",
       "             policy_cost  \n",
       "0  [20.0, 304.0, 2180.0]  \n",
       "1  [20.0, 304.0, 2180.0]  \n",
       "2  [24.0, 304.0, 2725.0]  \n",
       "3  [24.0, 304.0, 2725.0]  \n",
       "4  [20.0, 304.0, 2180.0]  \n",
       "5  [20.0, 304.0, 2180.0]  \n",
       "6  [24.0, 304.0, 2725.0]  \n",
       "7  [24.0, 304.0, 2725.0]  "
      ]
     },
     "execution_count": 1370,
     "metadata": {},
     "output_type": "execute_result"
    }
   ],
   "source": [
    "pd.DataFrame(pollution_analysis)"
   ]
  },
  {
   "cell_type": "code",
   "execution_count": 1373,
   "metadata": {},
   "outputs": [],
   "source": [
    "discount_multiplier = np.power( 1+ game_config.discount_rate, - np.arange(1,3 + 1))"
   ]
  },
  {
   "cell_type": "code",
   "execution_count": 1374,
   "metadata": {},
   "outputs": [
    {
     "data": {
      "text/plain": [
       "array([0.98039216, 0.96116878, 0.94232233])"
      ]
     },
     "execution_count": 1374,
     "metadata": {},
     "output_type": "execute_result"
    }
   ],
   "source": [
    "discount_multiplier"
   ]
  },
  {
   "cell_type": "code",
   "execution_count": 1380,
   "metadata": {},
   "outputs": [
    {
     "data": {
      "text/plain": [
       "{'slected_chromo': [2, 2, 2],\n",
       " 'number_vessels_sim': [2, 2, 2],\n",
       " 'main_fuel_con_sim': [2, 2, 2],\n",
       " 'aux_fuel_con_sim': [2, 2, 2],\n",
       " 'fuel_cost_sim': [2, 2, 2],\n",
       " 'total_cost_sim': [2, 2, 2],\n",
       " 'revenue_sim': [2, 2, 2],\n",
       " 'profit_vector_sim': 100,\n",
       " 'selected_chromo': [2, 2, 2]}"
      ]
     },
     "execution_count": 1380,
     "metadata": {},
     "output_type": "execute_result"
    }
   ],
   "source": [
    "evolving_species_sim[\"profit_vector_sim\"] = 100\n",
    "evolving_species_sim"
   ]
  },
  {
   "cell_type": "code",
   "execution_count": 1384,
   "metadata": {},
   "outputs": [
    {
     "name": "stdout",
     "output_type": "stream",
     "text": [
      "[   80.  -204. -2080.]\n",
      "[   78.43137255  -196.07843137 -1960.03045586]\n",
      "-2077.677514681382\n",
      "[   80.  -204. -2080.]\n",
      "[   78.43137255  -196.07843137 -1960.03045586]\n",
      "-2077.677514681382\n",
      "[   76.  -204. -2625.]\n",
      "[   74.50980392  -196.07843137 -2473.59612819]\n",
      "-2595.164755636972\n",
      "[   76.  -204. -2625.]\n",
      "[   74.50980392  -196.07843137 -2473.59612819]\n",
      "-2595.164755636972\n",
      "[   80.  -204. -2080.]\n",
      "[   78.43137255  -196.07843137 -1960.03045586]\n",
      "-2077.677514681382\n",
      "[   80.  -204. -2080.]\n",
      "[   78.43137255  -196.07843137 -1960.03045586]\n",
      "-2077.677514681382\n",
      "[   76.  -204. -2625.]\n",
      "[   74.50980392  -196.07843137 -2473.59612819]\n",
      "-2595.164755636972\n",
      "[   76.  -204. -2625.]\n",
      "[   74.50980392  -196.07843137 -2473.59612819]\n",
      "-2595.164755636972\n"
     ]
    }
   ],
   "source": [
    "for _ in range(len(pollution_analysis)):\n",
    "    pollution_analysis[_][\"policy_cost\"] = pollution_analysis[_][\"carbon_policy_cost\"]+ pollution_analysis[_][\"sulfur_policy_cost\"] \n",
    "    pollution_analysis[_][\"period_profit\"] = evolving_species_sim[\"profit_vector_sim\"] -  pollution_analysis[_][\"policy_cost\"]\n",
    "    print(pollution_analysis[_][\"period_profit\"])\n",
    "    pollution_analysis[_][\"discounted_period_profit\"]=  np.multiply( discount_multiplier,pollution_analysis[_][\"period_profit\"]  ) \n",
    "    print(pollution_analysis[_][\"discounted_period_profit\"])\n",
    "    pollution_analysis[_][\"NPV\"]= np.sum(pollution_analysis[_][\"discounted_period_profit\"])\n",
    "    print(pollution_analysis[_][\"NPV\"])\n"
   ]
  },
  {
   "cell_type": "code",
   "execution_count": 1385,
   "metadata": {},
   "outputs": [
    {
     "data": {
      "text/plain": [
       "[{'firm1': {'chromo0': array([11.35650611, 11.51352875])},\n",
       "  'firm2': {'chromo0': array([11.35650611, 11.51352875])},\n",
       "  'firm3': {'chromo0': array([11.35650611, 11.51352875])},\n",
       "  'industry_carbon_emission': array([ 15,  43, 120]),\n",
       "  'carbon_pollution_stock': array([ 0. , 15. , 50.5]),\n",
       "  'industry_carbon_damages': array([   0.   ,  112.5  , 1275.125]),\n",
       "  'carbon_dynamic_tax': array([ 2.  ,  9.5 , 27.25]),\n",
       "  'carbon_policy_cost': array([  10.,  152., 1090.]),\n",
       "  'industry_sulfur_emission': array([ 15,  43, 120]),\n",
       "  'sulfur_pollution_stock': array([ 0. , 15. , 50.5]),\n",
       "  'industry_sulfur_damages': array([   0.   ,  112.5  , 1275.125]),\n",
       "  'sulfur_dynamic_tax': array([ 2.  ,  9.5 , 27.25]),\n",
       "  'sulfur_policy_cost': array([  10.,  152., 1090.]),\n",
       "  'policy_cost': array([  20.,  304., 2180.]),\n",
       "  'period_profit': array([   80.,  -204., -2080.]),\n",
       "  'discounted_period_profit': array([   78.43137255,  -196.07843137, -1960.03045586]),\n",
       "  'NPV': -2077.677514681382},\n",
       " {'firm1': {'chromo0': array([11.35650611, 11.51352875])},\n",
       "  'firm2': {'chromo0': array([11.35650611, 11.51352875])},\n",
       "  'firm3': {'chromo1': array([11.99289141, 10.24770857])},\n",
       "  'industry_carbon_emission': array([ 16,  44, 130]),\n",
       "  'carbon_pollution_stock': array([ 0. , 15. , 50.5]),\n",
       "  'industry_carbon_damages': array([   0.   ,  112.5  , 1275.125]),\n",
       "  'carbon_dynamic_tax': array([ 2.  ,  9.5 , 27.25]),\n",
       "  'carbon_policy_cost': array([  10.,  152., 1090.]),\n",
       "  'industry_sulfur_emission': array([ 16,  44, 130]),\n",
       "  'sulfur_pollution_stock': array([ 0. , 15. , 50.5]),\n",
       "  'industry_sulfur_damages': array([   0.   ,  112.5  , 1275.125]),\n",
       "  'sulfur_dynamic_tax': array([ 2.  ,  9.5 , 27.25]),\n",
       "  'sulfur_policy_cost': array([  10.,  152., 1090.]),\n",
       "  'policy_cost': array([  20.,  304., 2180.]),\n",
       "  'period_profit': array([   80.,  -204., -2080.]),\n",
       "  'discounted_period_profit': array([   78.43137255,  -196.07843137, -1960.03045586]),\n",
       "  'NPV': -2077.677514681382},\n",
       " {'firm1': {'chromo0': array([11.35650611, 11.51352875])},\n",
       "  'firm2': {'chromo1': array([11.99289141, 10.24770857])},\n",
       "  'firm3': {'chromo0': array([11.35650611, 11.51352875])},\n",
       "  'industry_carbon_emission': array([ 16,  43, 130]),\n",
       "  'carbon_pollution_stock': array([ 0. , 15. , 50.5]),\n",
       "  'industry_carbon_damages': array([   0.   ,  112.5  , 1275.125]),\n",
       "  'carbon_dynamic_tax': array([ 2.  ,  9.5 , 27.25]),\n",
       "  'carbon_policy_cost': array([  12. ,  152. , 1362.5]),\n",
       "  'industry_sulfur_emission': array([ 16,  43, 130]),\n",
       "  'sulfur_pollution_stock': array([ 0. , 15. , 50.5]),\n",
       "  'industry_sulfur_damages': array([   0.   ,  112.5  , 1275.125]),\n",
       "  'sulfur_dynamic_tax': array([ 2.  ,  9.5 , 27.25]),\n",
       "  'sulfur_policy_cost': array([  12. ,  152. , 1362.5]),\n",
       "  'policy_cost': array([  24.,  304., 2725.]),\n",
       "  'period_profit': array([   76.,  -204., -2625.]),\n",
       "  'discounted_period_profit': array([   74.50980392,  -196.07843137, -2473.59612819]),\n",
       "  'NPV': -2595.164755636972},\n",
       " {'firm1': {'chromo0': array([11.35650611, 11.51352875])},\n",
       "  'firm2': {'chromo1': array([11.99289141, 10.24770857])},\n",
       "  'firm3': {'chromo1': array([11.99289141, 10.24770857])},\n",
       "  'industry_carbon_emission': array([ 17,  44, 140]),\n",
       "  'carbon_pollution_stock': array([ 0. , 15. , 50.5]),\n",
       "  'industry_carbon_damages': array([   0.   ,  112.5  , 1275.125]),\n",
       "  'carbon_dynamic_tax': array([ 2.  ,  9.5 , 27.25]),\n",
       "  'carbon_policy_cost': array([  12. ,  152. , 1362.5]),\n",
       "  'industry_sulfur_emission': array([ 17,  44, 140]),\n",
       "  'sulfur_pollution_stock': array([ 0. , 15. , 50.5]),\n",
       "  'industry_sulfur_damages': array([   0.   ,  112.5  , 1275.125]),\n",
       "  'sulfur_dynamic_tax': array([ 2.  ,  9.5 , 27.25]),\n",
       "  'sulfur_policy_cost': array([  12. ,  152. , 1362.5]),\n",
       "  'policy_cost': array([  24.,  304., 2725.]),\n",
       "  'period_profit': array([   76.,  -204., -2625.]),\n",
       "  'discounted_period_profit': array([   74.50980392,  -196.07843137, -2473.59612819]),\n",
       "  'NPV': -2595.164755636972},\n",
       " {'firm1': {'chromo1': array([11.99289141, 10.24770857])},\n",
       "  'firm2': {'chromo0': array([11.35650611, 11.51352875])},\n",
       "  'firm3': {'chromo0': array([11.35650611, 11.51352875])},\n",
       "  'industry_carbon_emission': array([ 16,  48, 130]),\n",
       "  'carbon_pollution_stock': array([ 0. , 15. , 50.5]),\n",
       "  'industry_carbon_damages': array([   0.   ,  112.5  , 1275.125]),\n",
       "  'carbon_dynamic_tax': array([ 2.  ,  9.5 , 27.25]),\n",
       "  'carbon_policy_cost': array([  10.,  152., 1090.]),\n",
       "  'industry_sulfur_emission': array([ 16,  48, 130]),\n",
       "  'sulfur_pollution_stock': array([ 0. , 15. , 50.5]),\n",
       "  'industry_sulfur_damages': array([   0.   ,  112.5  , 1275.125]),\n",
       "  'sulfur_dynamic_tax': array([ 2.  ,  9.5 , 27.25]),\n",
       "  'sulfur_policy_cost': array([  10.,  152., 1090.]),\n",
       "  'policy_cost': array([  20.,  304., 2180.]),\n",
       "  'period_profit': array([   80.,  -204., -2080.]),\n",
       "  'discounted_period_profit': array([   78.43137255,  -196.07843137, -1960.03045586]),\n",
       "  'NPV': -2077.677514681382},\n",
       " {'firm1': {'chromo1': array([11.99289141, 10.24770857])},\n",
       "  'firm2': {'chromo0': array([11.35650611, 11.51352875])},\n",
       "  'firm3': {'chromo1': array([11.99289141, 10.24770857])},\n",
       "  'industry_carbon_emission': array([ 17,  49, 140]),\n",
       "  'carbon_pollution_stock': array([ 0. , 15. , 50.5]),\n",
       "  'industry_carbon_damages': array([   0.   ,  112.5  , 1275.125]),\n",
       "  'carbon_dynamic_tax': array([ 2.  ,  9.5 , 27.25]),\n",
       "  'carbon_policy_cost': array([  10.,  152., 1090.]),\n",
       "  'industry_sulfur_emission': array([ 17,  49, 140]),\n",
       "  'sulfur_pollution_stock': array([ 0. , 15. , 50.5]),\n",
       "  'industry_sulfur_damages': array([   0.   ,  112.5  , 1275.125]),\n",
       "  'sulfur_dynamic_tax': array([ 2.  ,  9.5 , 27.25]),\n",
       "  'sulfur_policy_cost': array([  10.,  152., 1090.]),\n",
       "  'policy_cost': array([  20.,  304., 2180.]),\n",
       "  'period_profit': array([   80.,  -204., -2080.]),\n",
       "  'discounted_period_profit': array([   78.43137255,  -196.07843137, -1960.03045586]),\n",
       "  'NPV': -2077.677514681382},\n",
       " {'firm1': {'chromo1': array([11.99289141, 10.24770857])},\n",
       "  'firm2': {'chromo1': array([11.99289141, 10.24770857])},\n",
       "  'firm3': {'chromo0': array([11.35650611, 11.51352875])},\n",
       "  'industry_carbon_emission': array([ 17,  48, 140]),\n",
       "  'carbon_pollution_stock': array([ 0. , 15. , 50.5]),\n",
       "  'industry_carbon_damages': array([   0.   ,  112.5  , 1275.125]),\n",
       "  'carbon_dynamic_tax': array([ 2.  ,  9.5 , 27.25]),\n",
       "  'carbon_policy_cost': array([  12. ,  152. , 1362.5]),\n",
       "  'industry_sulfur_emission': array([ 17,  48, 140]),\n",
       "  'sulfur_pollution_stock': array([ 0. , 15. , 50.5]),\n",
       "  'industry_sulfur_damages': array([   0.   ,  112.5  , 1275.125]),\n",
       "  'sulfur_dynamic_tax': array([ 2.  ,  9.5 , 27.25]),\n",
       "  'sulfur_policy_cost': array([  12. ,  152. , 1362.5]),\n",
       "  'policy_cost': array([  24.,  304., 2725.]),\n",
       "  'period_profit': array([   76.,  -204., -2625.]),\n",
       "  'discounted_period_profit': array([   74.50980392,  -196.07843137, -2473.59612819]),\n",
       "  'NPV': -2595.164755636972},\n",
       " {'firm1': {'chromo1': array([11.99289141, 10.24770857])},\n",
       "  'firm2': {'chromo1': array([11.99289141, 10.24770857])},\n",
       "  'firm3': {'chromo1': array([11.99289141, 10.24770857])},\n",
       "  'industry_carbon_emission': array([ 18,  49, 150]),\n",
       "  'carbon_pollution_stock': array([ 0. , 15. , 50.5]),\n",
       "  'industry_carbon_damages': array([   0.   ,  112.5  , 1275.125]),\n",
       "  'carbon_dynamic_tax': array([ 2.  ,  9.5 , 27.25]),\n",
       "  'carbon_policy_cost': array([  12. ,  152. , 1362.5]),\n",
       "  'industry_sulfur_emission': array([ 18,  49, 150]),\n",
       "  'sulfur_pollution_stock': array([ 0. , 15. , 50.5]),\n",
       "  'industry_sulfur_damages': array([   0.   ,  112.5  , 1275.125]),\n",
       "  'sulfur_dynamic_tax': array([ 2.  ,  9.5 , 27.25]),\n",
       "  'sulfur_policy_cost': array([  12. ,  152. , 1362.5]),\n",
       "  'policy_cost': array([  24.,  304., 2725.]),\n",
       "  'period_profit': array([   76.,  -204., -2625.]),\n",
       "  'discounted_period_profit': array([   74.50980392,  -196.07843137, -2473.59612819]),\n",
       "  'NPV': -2595.164755636972}]"
      ]
     },
     "execution_count": 1385,
     "metadata": {},
     "output_type": "execute_result"
    }
   ],
   "source": [
    "pollution_analysis"
   ]
  },
  {
   "cell_type": "code",
   "execution_count": 1386,
   "metadata": {
    "scrolled": true
   },
   "outputs": [
    {
     "data": {
      "text/html": [
       "<div>\n",
       "<style scoped>\n",
       "    .dataframe tbody tr th:only-of-type {\n",
       "        vertical-align: middle;\n",
       "    }\n",
       "\n",
       "    .dataframe tbody tr th {\n",
       "        vertical-align: top;\n",
       "    }\n",
       "\n",
       "    .dataframe thead th {\n",
       "        text-align: right;\n",
       "    }\n",
       "</style>\n",
       "<table border=\"1\" class=\"dataframe\">\n",
       "  <thead>\n",
       "    <tr style=\"text-align: right;\">\n",
       "      <th></th>\n",
       "      <th>firm1</th>\n",
       "      <th>firm2</th>\n",
       "      <th>firm3</th>\n",
       "      <th>industry_carbon_emission</th>\n",
       "      <th>carbon_pollution_stock</th>\n",
       "      <th>industry_carbon_damages</th>\n",
       "      <th>carbon_dynamic_tax</th>\n",
       "      <th>carbon_policy_cost</th>\n",
       "      <th>industry_sulfur_emission</th>\n",
       "      <th>sulfur_pollution_stock</th>\n",
       "      <th>industry_sulfur_damages</th>\n",
       "      <th>sulfur_dynamic_tax</th>\n",
       "      <th>sulfur_policy_cost</th>\n",
       "      <th>policy_cost</th>\n",
       "      <th>period_profit</th>\n",
       "      <th>discounted_period_profit</th>\n",
       "      <th>NPV</th>\n",
       "    </tr>\n",
       "  </thead>\n",
       "  <tbody>\n",
       "    <tr>\n",
       "      <th>0</th>\n",
       "      <td>{'chromo0': [11.35650610807846, 11.51352875056...</td>\n",
       "      <td>{'chromo0': [11.35650610807846, 11.51352875056...</td>\n",
       "      <td>{'chromo0': [11.35650610807846, 11.51352875056...</td>\n",
       "      <td>[15, 43, 120]</td>\n",
       "      <td>[0.0, 15.0, 50.5]</td>\n",
       "      <td>[0.0, 112.5, 1275.125]</td>\n",
       "      <td>[2.0, 9.5, 27.25]</td>\n",
       "      <td>[10.0, 152.0, 1090.0]</td>\n",
       "      <td>[15, 43, 120]</td>\n",
       "      <td>[0.0, 15.0, 50.5]</td>\n",
       "      <td>[0.0, 112.5, 1275.125]</td>\n",
       "      <td>[2.0, 9.5, 27.25]</td>\n",
       "      <td>[10.0, 152.0, 1090.0]</td>\n",
       "      <td>[20.0, 304.0, 2180.0]</td>\n",
       "      <td>[80.0, -204.0, -2080.0]</td>\n",
       "      <td>[78.4313725490196, -196.078431372549, -1960.03...</td>\n",
       "      <td>-2077.677515</td>\n",
       "    </tr>\n",
       "    <tr>\n",
       "      <th>1</th>\n",
       "      <td>{'chromo0': [11.35650610807846, 11.51352875056...</td>\n",
       "      <td>{'chromo0': [11.35650610807846, 11.51352875056...</td>\n",
       "      <td>{'chromo1': [11.992891407021851, 10.2477085746...</td>\n",
       "      <td>[16, 44, 130]</td>\n",
       "      <td>[0.0, 15.0, 50.5]</td>\n",
       "      <td>[0.0, 112.5, 1275.125]</td>\n",
       "      <td>[2.0, 9.5, 27.25]</td>\n",
       "      <td>[10.0, 152.0, 1090.0]</td>\n",
       "      <td>[16, 44, 130]</td>\n",
       "      <td>[0.0, 15.0, 50.5]</td>\n",
       "      <td>[0.0, 112.5, 1275.125]</td>\n",
       "      <td>[2.0, 9.5, 27.25]</td>\n",
       "      <td>[10.0, 152.0, 1090.0]</td>\n",
       "      <td>[20.0, 304.0, 2180.0]</td>\n",
       "      <td>[80.0, -204.0, -2080.0]</td>\n",
       "      <td>[78.4313725490196, -196.078431372549, -1960.03...</td>\n",
       "      <td>-2077.677515</td>\n",
       "    </tr>\n",
       "    <tr>\n",
       "      <th>2</th>\n",
       "      <td>{'chromo0': [11.35650610807846, 11.51352875056...</td>\n",
       "      <td>{'chromo1': [11.992891407021851, 10.2477085746...</td>\n",
       "      <td>{'chromo0': [11.35650610807846, 11.51352875056...</td>\n",
       "      <td>[16, 43, 130]</td>\n",
       "      <td>[0.0, 15.0, 50.5]</td>\n",
       "      <td>[0.0, 112.5, 1275.125]</td>\n",
       "      <td>[2.0, 9.5, 27.25]</td>\n",
       "      <td>[12.0, 152.0, 1362.5]</td>\n",
       "      <td>[16, 43, 130]</td>\n",
       "      <td>[0.0, 15.0, 50.5]</td>\n",
       "      <td>[0.0, 112.5, 1275.125]</td>\n",
       "      <td>[2.0, 9.5, 27.25]</td>\n",
       "      <td>[12.0, 152.0, 1362.5]</td>\n",
       "      <td>[24.0, 304.0, 2725.0]</td>\n",
       "      <td>[76.0, -204.0, -2625.0]</td>\n",
       "      <td>[74.50980392156862, -196.078431372549, -2473.5...</td>\n",
       "      <td>-2595.164756</td>\n",
       "    </tr>\n",
       "    <tr>\n",
       "      <th>3</th>\n",
       "      <td>{'chromo0': [11.35650610807846, 11.51352875056...</td>\n",
       "      <td>{'chromo1': [11.992891407021851, 10.2477085746...</td>\n",
       "      <td>{'chromo1': [11.992891407021851, 10.2477085746...</td>\n",
       "      <td>[17, 44, 140]</td>\n",
       "      <td>[0.0, 15.0, 50.5]</td>\n",
       "      <td>[0.0, 112.5, 1275.125]</td>\n",
       "      <td>[2.0, 9.5, 27.25]</td>\n",
       "      <td>[12.0, 152.0, 1362.5]</td>\n",
       "      <td>[17, 44, 140]</td>\n",
       "      <td>[0.0, 15.0, 50.5]</td>\n",
       "      <td>[0.0, 112.5, 1275.125]</td>\n",
       "      <td>[2.0, 9.5, 27.25]</td>\n",
       "      <td>[12.0, 152.0, 1362.5]</td>\n",
       "      <td>[24.0, 304.0, 2725.0]</td>\n",
       "      <td>[76.0, -204.0, -2625.0]</td>\n",
       "      <td>[74.50980392156862, -196.078431372549, -2473.5...</td>\n",
       "      <td>-2595.164756</td>\n",
       "    </tr>\n",
       "    <tr>\n",
       "      <th>4</th>\n",
       "      <td>{'chromo1': [11.992891407021851, 10.2477085746...</td>\n",
       "      <td>{'chromo0': [11.35650610807846, 11.51352875056...</td>\n",
       "      <td>{'chromo0': [11.35650610807846, 11.51352875056...</td>\n",
       "      <td>[16, 48, 130]</td>\n",
       "      <td>[0.0, 15.0, 50.5]</td>\n",
       "      <td>[0.0, 112.5, 1275.125]</td>\n",
       "      <td>[2.0, 9.5, 27.25]</td>\n",
       "      <td>[10.0, 152.0, 1090.0]</td>\n",
       "      <td>[16, 48, 130]</td>\n",
       "      <td>[0.0, 15.0, 50.5]</td>\n",
       "      <td>[0.0, 112.5, 1275.125]</td>\n",
       "      <td>[2.0, 9.5, 27.25]</td>\n",
       "      <td>[10.0, 152.0, 1090.0]</td>\n",
       "      <td>[20.0, 304.0, 2180.0]</td>\n",
       "      <td>[80.0, -204.0, -2080.0]</td>\n",
       "      <td>[78.4313725490196, -196.078431372549, -1960.03...</td>\n",
       "      <td>-2077.677515</td>\n",
       "    </tr>\n",
       "    <tr>\n",
       "      <th>5</th>\n",
       "      <td>{'chromo1': [11.992891407021851, 10.2477085746...</td>\n",
       "      <td>{'chromo0': [11.35650610807846, 11.51352875056...</td>\n",
       "      <td>{'chromo1': [11.992891407021851, 10.2477085746...</td>\n",
       "      <td>[17, 49, 140]</td>\n",
       "      <td>[0.0, 15.0, 50.5]</td>\n",
       "      <td>[0.0, 112.5, 1275.125]</td>\n",
       "      <td>[2.0, 9.5, 27.25]</td>\n",
       "      <td>[10.0, 152.0, 1090.0]</td>\n",
       "      <td>[17, 49, 140]</td>\n",
       "      <td>[0.0, 15.0, 50.5]</td>\n",
       "      <td>[0.0, 112.5, 1275.125]</td>\n",
       "      <td>[2.0, 9.5, 27.25]</td>\n",
       "      <td>[10.0, 152.0, 1090.0]</td>\n",
       "      <td>[20.0, 304.0, 2180.0]</td>\n",
       "      <td>[80.0, -204.0, -2080.0]</td>\n",
       "      <td>[78.4313725490196, -196.078431372549, -1960.03...</td>\n",
       "      <td>-2077.677515</td>\n",
       "    </tr>\n",
       "    <tr>\n",
       "      <th>6</th>\n",
       "      <td>{'chromo1': [11.992891407021851, 10.2477085746...</td>\n",
       "      <td>{'chromo1': [11.992891407021851, 10.2477085746...</td>\n",
       "      <td>{'chromo0': [11.35650610807846, 11.51352875056...</td>\n",
       "      <td>[17, 48, 140]</td>\n",
       "      <td>[0.0, 15.0, 50.5]</td>\n",
       "      <td>[0.0, 112.5, 1275.125]</td>\n",
       "      <td>[2.0, 9.5, 27.25]</td>\n",
       "      <td>[12.0, 152.0, 1362.5]</td>\n",
       "      <td>[17, 48, 140]</td>\n",
       "      <td>[0.0, 15.0, 50.5]</td>\n",
       "      <td>[0.0, 112.5, 1275.125]</td>\n",
       "      <td>[2.0, 9.5, 27.25]</td>\n",
       "      <td>[12.0, 152.0, 1362.5]</td>\n",
       "      <td>[24.0, 304.0, 2725.0]</td>\n",
       "      <td>[76.0, -204.0, -2625.0]</td>\n",
       "      <td>[74.50980392156862, -196.078431372549, -2473.5...</td>\n",
       "      <td>-2595.164756</td>\n",
       "    </tr>\n",
       "    <tr>\n",
       "      <th>7</th>\n",
       "      <td>{'chromo1': [11.992891407021851, 10.2477085746...</td>\n",
       "      <td>{'chromo1': [11.992891407021851, 10.2477085746...</td>\n",
       "      <td>{'chromo1': [11.992891407021851, 10.2477085746...</td>\n",
       "      <td>[18, 49, 150]</td>\n",
       "      <td>[0.0, 15.0, 50.5]</td>\n",
       "      <td>[0.0, 112.5, 1275.125]</td>\n",
       "      <td>[2.0, 9.5, 27.25]</td>\n",
       "      <td>[12.0, 152.0, 1362.5]</td>\n",
       "      <td>[18, 49, 150]</td>\n",
       "      <td>[0.0, 15.0, 50.5]</td>\n",
       "      <td>[0.0, 112.5, 1275.125]</td>\n",
       "      <td>[2.0, 9.5, 27.25]</td>\n",
       "      <td>[12.0, 152.0, 1362.5]</td>\n",
       "      <td>[24.0, 304.0, 2725.0]</td>\n",
       "      <td>[76.0, -204.0, -2625.0]</td>\n",
       "      <td>[74.50980392156862, -196.078431372549, -2473.5...</td>\n",
       "      <td>-2595.164756</td>\n",
       "    </tr>\n",
       "  </tbody>\n",
       "</table>\n",
       "</div>"
      ],
      "text/plain": [
       "                                               firm1  \\\n",
       "0  {'chromo0': [11.35650610807846, 11.51352875056...   \n",
       "1  {'chromo0': [11.35650610807846, 11.51352875056...   \n",
       "2  {'chromo0': [11.35650610807846, 11.51352875056...   \n",
       "3  {'chromo0': [11.35650610807846, 11.51352875056...   \n",
       "4  {'chromo1': [11.992891407021851, 10.2477085746...   \n",
       "5  {'chromo1': [11.992891407021851, 10.2477085746...   \n",
       "6  {'chromo1': [11.992891407021851, 10.2477085746...   \n",
       "7  {'chromo1': [11.992891407021851, 10.2477085746...   \n",
       "\n",
       "                                               firm2  \\\n",
       "0  {'chromo0': [11.35650610807846, 11.51352875056...   \n",
       "1  {'chromo0': [11.35650610807846, 11.51352875056...   \n",
       "2  {'chromo1': [11.992891407021851, 10.2477085746...   \n",
       "3  {'chromo1': [11.992891407021851, 10.2477085746...   \n",
       "4  {'chromo0': [11.35650610807846, 11.51352875056...   \n",
       "5  {'chromo0': [11.35650610807846, 11.51352875056...   \n",
       "6  {'chromo1': [11.992891407021851, 10.2477085746...   \n",
       "7  {'chromo1': [11.992891407021851, 10.2477085746...   \n",
       "\n",
       "                                               firm3 industry_carbon_emission  \\\n",
       "0  {'chromo0': [11.35650610807846, 11.51352875056...            [15, 43, 120]   \n",
       "1  {'chromo1': [11.992891407021851, 10.2477085746...            [16, 44, 130]   \n",
       "2  {'chromo0': [11.35650610807846, 11.51352875056...            [16, 43, 130]   \n",
       "3  {'chromo1': [11.992891407021851, 10.2477085746...            [17, 44, 140]   \n",
       "4  {'chromo0': [11.35650610807846, 11.51352875056...            [16, 48, 130]   \n",
       "5  {'chromo1': [11.992891407021851, 10.2477085746...            [17, 49, 140]   \n",
       "6  {'chromo0': [11.35650610807846, 11.51352875056...            [17, 48, 140]   \n",
       "7  {'chromo1': [11.992891407021851, 10.2477085746...            [18, 49, 150]   \n",
       "\n",
       "  carbon_pollution_stock industry_carbon_damages carbon_dynamic_tax  \\\n",
       "0      [0.0, 15.0, 50.5]  [0.0, 112.5, 1275.125]  [2.0, 9.5, 27.25]   \n",
       "1      [0.0, 15.0, 50.5]  [0.0, 112.5, 1275.125]  [2.0, 9.5, 27.25]   \n",
       "2      [0.0, 15.0, 50.5]  [0.0, 112.5, 1275.125]  [2.0, 9.5, 27.25]   \n",
       "3      [0.0, 15.0, 50.5]  [0.0, 112.5, 1275.125]  [2.0, 9.5, 27.25]   \n",
       "4      [0.0, 15.0, 50.5]  [0.0, 112.5, 1275.125]  [2.0, 9.5, 27.25]   \n",
       "5      [0.0, 15.0, 50.5]  [0.0, 112.5, 1275.125]  [2.0, 9.5, 27.25]   \n",
       "6      [0.0, 15.0, 50.5]  [0.0, 112.5, 1275.125]  [2.0, 9.5, 27.25]   \n",
       "7      [0.0, 15.0, 50.5]  [0.0, 112.5, 1275.125]  [2.0, 9.5, 27.25]   \n",
       "\n",
       "      carbon_policy_cost industry_sulfur_emission sulfur_pollution_stock  \\\n",
       "0  [10.0, 152.0, 1090.0]            [15, 43, 120]      [0.0, 15.0, 50.5]   \n",
       "1  [10.0, 152.0, 1090.0]            [16, 44, 130]      [0.0, 15.0, 50.5]   \n",
       "2  [12.0, 152.0, 1362.5]            [16, 43, 130]      [0.0, 15.0, 50.5]   \n",
       "3  [12.0, 152.0, 1362.5]            [17, 44, 140]      [0.0, 15.0, 50.5]   \n",
       "4  [10.0, 152.0, 1090.0]            [16, 48, 130]      [0.0, 15.0, 50.5]   \n",
       "5  [10.0, 152.0, 1090.0]            [17, 49, 140]      [0.0, 15.0, 50.5]   \n",
       "6  [12.0, 152.0, 1362.5]            [17, 48, 140]      [0.0, 15.0, 50.5]   \n",
       "7  [12.0, 152.0, 1362.5]            [18, 49, 150]      [0.0, 15.0, 50.5]   \n",
       "\n",
       "  industry_sulfur_damages sulfur_dynamic_tax     sulfur_policy_cost  \\\n",
       "0  [0.0, 112.5, 1275.125]  [2.0, 9.5, 27.25]  [10.0, 152.0, 1090.0]   \n",
       "1  [0.0, 112.5, 1275.125]  [2.0, 9.5, 27.25]  [10.0, 152.0, 1090.0]   \n",
       "2  [0.0, 112.5, 1275.125]  [2.0, 9.5, 27.25]  [12.0, 152.0, 1362.5]   \n",
       "3  [0.0, 112.5, 1275.125]  [2.0, 9.5, 27.25]  [12.0, 152.0, 1362.5]   \n",
       "4  [0.0, 112.5, 1275.125]  [2.0, 9.5, 27.25]  [10.0, 152.0, 1090.0]   \n",
       "5  [0.0, 112.5, 1275.125]  [2.0, 9.5, 27.25]  [10.0, 152.0, 1090.0]   \n",
       "6  [0.0, 112.5, 1275.125]  [2.0, 9.5, 27.25]  [12.0, 152.0, 1362.5]   \n",
       "7  [0.0, 112.5, 1275.125]  [2.0, 9.5, 27.25]  [12.0, 152.0, 1362.5]   \n",
       "\n",
       "             policy_cost            period_profit  \\\n",
       "0  [20.0, 304.0, 2180.0]  [80.0, -204.0, -2080.0]   \n",
       "1  [20.0, 304.0, 2180.0]  [80.0, -204.0, -2080.0]   \n",
       "2  [24.0, 304.0, 2725.0]  [76.0, -204.0, -2625.0]   \n",
       "3  [24.0, 304.0, 2725.0]  [76.0, -204.0, -2625.0]   \n",
       "4  [20.0, 304.0, 2180.0]  [80.0, -204.0, -2080.0]   \n",
       "5  [20.0, 304.0, 2180.0]  [80.0, -204.0, -2080.0]   \n",
       "6  [24.0, 304.0, 2725.0]  [76.0, -204.0, -2625.0]   \n",
       "7  [24.0, 304.0, 2725.0]  [76.0, -204.0, -2625.0]   \n",
       "\n",
       "                            discounted_period_profit          NPV  \n",
       "0  [78.4313725490196, -196.078431372549, -1960.03... -2077.677515  \n",
       "1  [78.4313725490196, -196.078431372549, -1960.03... -2077.677515  \n",
       "2  [74.50980392156862, -196.078431372549, -2473.5... -2595.164756  \n",
       "3  [74.50980392156862, -196.078431372549, -2473.5... -2595.164756  \n",
       "4  [78.4313725490196, -196.078431372549, -1960.03... -2077.677515  \n",
       "5  [78.4313725490196, -196.078431372549, -1960.03... -2077.677515  \n",
       "6  [74.50980392156862, -196.078431372549, -2473.5... -2595.164756  \n",
       "7  [74.50980392156862, -196.078431372549, -2473.5... -2595.164756  "
      ]
     },
     "execution_count": 1386,
     "metadata": {},
     "output_type": "execute_result"
    }
   ],
   "source": [
    "pd.DataFrame(pollution_analysis)"
   ]
  },
  {
   "cell_type": "code",
   "execution_count": 1387,
   "metadata": {},
   "outputs": [],
   "source": [
    "def getNPV(elem):\n",
    "    return elem[\"NPV\"]"
   ]
  },
  {
   "cell_type": "code",
   "execution_count": 1400,
   "metadata": {},
   "outputs": [],
   "source": [
    "integrated_solution_list = sorted(pollution_analysis, key=getNPV, reverse = True )"
   ]
  },
  {
   "cell_type": "code",
   "execution_count": 1397,
   "metadata": {},
   "outputs": [
    {
     "data": {
      "text/plain": [
       "[{'firm1': {'chromo0': array([11.35650611, 11.51352875])},\n",
       "  'firm2': {'chromo0': array([11.35650611, 11.51352875])},\n",
       "  'firm3': {'chromo0': array([11.35650611, 11.51352875])},\n",
       "  'industry_carbon_emission': array([ 15,  43, 120]),\n",
       "  'carbon_pollution_stock': array([ 0. , 15. , 50.5]),\n",
       "  'industry_carbon_damages': array([   0.   ,  112.5  , 1275.125]),\n",
       "  'carbon_dynamic_tax': array([ 2.  ,  9.5 , 27.25]),\n",
       "  'carbon_policy_cost': array([  10.,  152., 1090.]),\n",
       "  'industry_sulfur_emission': array([ 15,  43, 120]),\n",
       "  'sulfur_pollution_stock': array([ 0. , 15. , 50.5]),\n",
       "  'industry_sulfur_damages': array([   0.   ,  112.5  , 1275.125]),\n",
       "  'sulfur_dynamic_tax': array([ 2.  ,  9.5 , 27.25]),\n",
       "  'sulfur_policy_cost': array([  10.,  152., 1090.]),\n",
       "  'policy_cost': array([  20.,  304., 2180.]),\n",
       "  'period_profit': array([   80.,  -204., -2080.]),\n",
       "  'discounted_period_profit': array([   78.43137255,  -196.07843137, -1960.03045586]),\n",
       "  'NPV': -2077.677514681382},\n",
       " {'firm1': {'chromo0': array([11.35650611, 11.51352875])},\n",
       "  'firm2': {'chromo0': array([11.35650611, 11.51352875])},\n",
       "  'firm3': {'chromo1': array([11.99289141, 10.24770857])},\n",
       "  'industry_carbon_emission': array([ 16,  44, 130]),\n",
       "  'carbon_pollution_stock': array([ 0. , 15. , 50.5]),\n",
       "  'industry_carbon_damages': array([   0.   ,  112.5  , 1275.125]),\n",
       "  'carbon_dynamic_tax': array([ 2.  ,  9.5 , 27.25]),\n",
       "  'carbon_policy_cost': array([  10.,  152., 1090.]),\n",
       "  'industry_sulfur_emission': array([ 16,  44, 130]),\n",
       "  'sulfur_pollution_stock': array([ 0. , 15. , 50.5]),\n",
       "  'industry_sulfur_damages': array([   0.   ,  112.5  , 1275.125]),\n",
       "  'sulfur_dynamic_tax': array([ 2.  ,  9.5 , 27.25]),\n",
       "  'sulfur_policy_cost': array([  10.,  152., 1090.]),\n",
       "  'policy_cost': array([  20.,  304., 2180.]),\n",
       "  'period_profit': array([   80.,  -204., -2080.]),\n",
       "  'discounted_period_profit': array([   78.43137255,  -196.07843137, -1960.03045586]),\n",
       "  'NPV': -2077.677514681382},\n",
       " {'firm1': {'chromo1': array([11.99289141, 10.24770857])},\n",
       "  'firm2': {'chromo0': array([11.35650611, 11.51352875])},\n",
       "  'firm3': {'chromo0': array([11.35650611, 11.51352875])},\n",
       "  'industry_carbon_emission': array([ 16,  48, 130]),\n",
       "  'carbon_pollution_stock': array([ 0. , 15. , 50.5]),\n",
       "  'industry_carbon_damages': array([   0.   ,  112.5  , 1275.125]),\n",
       "  'carbon_dynamic_tax': array([ 2.  ,  9.5 , 27.25]),\n",
       "  'carbon_policy_cost': array([  10.,  152., 1090.]),\n",
       "  'industry_sulfur_emission': array([ 16,  48, 130]),\n",
       "  'sulfur_pollution_stock': array([ 0. , 15. , 50.5]),\n",
       "  'industry_sulfur_damages': array([   0.   ,  112.5  , 1275.125]),\n",
       "  'sulfur_dynamic_tax': array([ 2.  ,  9.5 , 27.25]),\n",
       "  'sulfur_policy_cost': array([  10.,  152., 1090.]),\n",
       "  'policy_cost': array([  20.,  304., 2180.]),\n",
       "  'period_profit': array([   80.,  -204., -2080.]),\n",
       "  'discounted_period_profit': array([   78.43137255,  -196.07843137, -1960.03045586]),\n",
       "  'NPV': -2077.677514681382},\n",
       " {'firm1': {'chromo1': array([11.99289141, 10.24770857])},\n",
       "  'firm2': {'chromo0': array([11.35650611, 11.51352875])},\n",
       "  'firm3': {'chromo1': array([11.99289141, 10.24770857])},\n",
       "  'industry_carbon_emission': array([ 17,  49, 140]),\n",
       "  'carbon_pollution_stock': array([ 0. , 15. , 50.5]),\n",
       "  'industry_carbon_damages': array([   0.   ,  112.5  , 1275.125]),\n",
       "  'carbon_dynamic_tax': array([ 2.  ,  9.5 , 27.25]),\n",
       "  'carbon_policy_cost': array([  10.,  152., 1090.]),\n",
       "  'industry_sulfur_emission': array([ 17,  49, 140]),\n",
       "  'sulfur_pollution_stock': array([ 0. , 15. , 50.5]),\n",
       "  'industry_sulfur_damages': array([   0.   ,  112.5  , 1275.125]),\n",
       "  'sulfur_dynamic_tax': array([ 2.  ,  9.5 , 27.25]),\n",
       "  'sulfur_policy_cost': array([  10.,  152., 1090.]),\n",
       "  'policy_cost': array([  20.,  304., 2180.]),\n",
       "  'period_profit': array([   80.,  -204., -2080.]),\n",
       "  'discounted_period_profit': array([   78.43137255,  -196.07843137, -1960.03045586]),\n",
       "  'NPV': -2077.677514681382},\n",
       " {'firm1': {'chromo0': array([11.35650611, 11.51352875])},\n",
       "  'firm2': {'chromo1': array([11.99289141, 10.24770857])},\n",
       "  'firm3': {'chromo0': array([11.35650611, 11.51352875])},\n",
       "  'industry_carbon_emission': array([ 16,  43, 130]),\n",
       "  'carbon_pollution_stock': array([ 0. , 15. , 50.5]),\n",
       "  'industry_carbon_damages': array([   0.   ,  112.5  , 1275.125]),\n",
       "  'carbon_dynamic_tax': array([ 2.  ,  9.5 , 27.25]),\n",
       "  'carbon_policy_cost': array([  12. ,  152. , 1362.5]),\n",
       "  'industry_sulfur_emission': array([ 16,  43, 130]),\n",
       "  'sulfur_pollution_stock': array([ 0. , 15. , 50.5]),\n",
       "  'industry_sulfur_damages': array([   0.   ,  112.5  , 1275.125]),\n",
       "  'sulfur_dynamic_tax': array([ 2.  ,  9.5 , 27.25]),\n",
       "  'sulfur_policy_cost': array([  12. ,  152. , 1362.5]),\n",
       "  'policy_cost': array([  24.,  304., 2725.]),\n",
       "  'period_profit': array([   76.,  -204., -2625.]),\n",
       "  'discounted_period_profit': array([   74.50980392,  -196.07843137, -2473.59612819]),\n",
       "  'NPV': -2595.164755636972},\n",
       " {'firm1': {'chromo0': array([11.35650611, 11.51352875])},\n",
       "  'firm2': {'chromo1': array([11.99289141, 10.24770857])},\n",
       "  'firm3': {'chromo1': array([11.99289141, 10.24770857])},\n",
       "  'industry_carbon_emission': array([ 17,  44, 140]),\n",
       "  'carbon_pollution_stock': array([ 0. , 15. , 50.5]),\n",
       "  'industry_carbon_damages': array([   0.   ,  112.5  , 1275.125]),\n",
       "  'carbon_dynamic_tax': array([ 2.  ,  9.5 , 27.25]),\n",
       "  'carbon_policy_cost': array([  12. ,  152. , 1362.5]),\n",
       "  'industry_sulfur_emission': array([ 17,  44, 140]),\n",
       "  'sulfur_pollution_stock': array([ 0. , 15. , 50.5]),\n",
       "  'industry_sulfur_damages': array([   0.   ,  112.5  , 1275.125]),\n",
       "  'sulfur_dynamic_tax': array([ 2.  ,  9.5 , 27.25]),\n",
       "  'sulfur_policy_cost': array([  12. ,  152. , 1362.5]),\n",
       "  'policy_cost': array([  24.,  304., 2725.]),\n",
       "  'period_profit': array([   76.,  -204., -2625.]),\n",
       "  'discounted_period_profit': array([   74.50980392,  -196.07843137, -2473.59612819]),\n",
       "  'NPV': -2595.164755636972},\n",
       " {'firm1': {'chromo1': array([11.99289141, 10.24770857])},\n",
       "  'firm2': {'chromo1': array([11.99289141, 10.24770857])},\n",
       "  'firm3': {'chromo0': array([11.35650611, 11.51352875])},\n",
       "  'industry_carbon_emission': array([ 17,  48, 140]),\n",
       "  'carbon_pollution_stock': array([ 0. , 15. , 50.5]),\n",
       "  'industry_carbon_damages': array([   0.   ,  112.5  , 1275.125]),\n",
       "  'carbon_dynamic_tax': array([ 2.  ,  9.5 , 27.25]),\n",
       "  'carbon_policy_cost': array([  12. ,  152. , 1362.5]),\n",
       "  'industry_sulfur_emission': array([ 17,  48, 140]),\n",
       "  'sulfur_pollution_stock': array([ 0. , 15. , 50.5]),\n",
       "  'industry_sulfur_damages': array([   0.   ,  112.5  , 1275.125]),\n",
       "  'sulfur_dynamic_tax': array([ 2.  ,  9.5 , 27.25]),\n",
       "  'sulfur_policy_cost': array([  12. ,  152. , 1362.5]),\n",
       "  'policy_cost': array([  24.,  304., 2725.]),\n",
       "  'period_profit': array([   76.,  -204., -2625.]),\n",
       "  'discounted_period_profit': array([   74.50980392,  -196.07843137, -2473.59612819]),\n",
       "  'NPV': -2595.164755636972},\n",
       " {'firm1': {'chromo1': array([11.99289141, 10.24770857])},\n",
       "  'firm2': {'chromo1': array([11.99289141, 10.24770857])},\n",
       "  'firm3': {'chromo1': array([11.99289141, 10.24770857])},\n",
       "  'industry_carbon_emission': array([ 18,  49, 150]),\n",
       "  'carbon_pollution_stock': array([ 0. , 15. , 50.5]),\n",
       "  'industry_carbon_damages': array([   0.   ,  112.5  , 1275.125]),\n",
       "  'carbon_dynamic_tax': array([ 2.  ,  9.5 , 27.25]),\n",
       "  'carbon_policy_cost': array([  12. ,  152. , 1362.5]),\n",
       "  'industry_sulfur_emission': array([ 18,  49, 150]),\n",
       "  'sulfur_pollution_stock': array([ 0. , 15. , 50.5]),\n",
       "  'industry_sulfur_damages': array([   0.   ,  112.5  , 1275.125]),\n",
       "  'sulfur_dynamic_tax': array([ 2.  ,  9.5 , 27.25]),\n",
       "  'sulfur_policy_cost': array([  12. ,  152. , 1362.5]),\n",
       "  'policy_cost': array([  24.,  304., 2725.]),\n",
       "  'period_profit': array([   76.,  -204., -2625.]),\n",
       "  'discounted_period_profit': array([   74.50980392,  -196.07843137, -2473.59612819]),\n",
       "  'NPV': -2595.164755636972}]"
      ]
     },
     "execution_count": 1397,
     "metadata": {},
     "output_type": "execute_result"
    }
   ],
   "source": [
    "x"
   ]
  },
  {
   "cell_type": "code",
   "execution_count": 1398,
   "metadata": {},
   "outputs": [
    {
     "data": {
      "text/html": [
       "<div>\n",
       "<style scoped>\n",
       "    .dataframe tbody tr th:only-of-type {\n",
       "        vertical-align: middle;\n",
       "    }\n",
       "\n",
       "    .dataframe tbody tr th {\n",
       "        vertical-align: top;\n",
       "    }\n",
       "\n",
       "    .dataframe thead th {\n",
       "        text-align: right;\n",
       "    }\n",
       "</style>\n",
       "<table border=\"1\" class=\"dataframe\">\n",
       "  <thead>\n",
       "    <tr style=\"text-align: right;\">\n",
       "      <th></th>\n",
       "      <th>firm1</th>\n",
       "      <th>firm2</th>\n",
       "      <th>firm3</th>\n",
       "      <th>industry_carbon_emission</th>\n",
       "      <th>carbon_pollution_stock</th>\n",
       "      <th>industry_carbon_damages</th>\n",
       "      <th>carbon_dynamic_tax</th>\n",
       "      <th>carbon_policy_cost</th>\n",
       "      <th>industry_sulfur_emission</th>\n",
       "      <th>sulfur_pollution_stock</th>\n",
       "      <th>industry_sulfur_damages</th>\n",
       "      <th>sulfur_dynamic_tax</th>\n",
       "      <th>sulfur_policy_cost</th>\n",
       "      <th>policy_cost</th>\n",
       "      <th>period_profit</th>\n",
       "      <th>discounted_period_profit</th>\n",
       "      <th>NPV</th>\n",
       "    </tr>\n",
       "  </thead>\n",
       "  <tbody>\n",
       "    <tr>\n",
       "      <th>0</th>\n",
       "      <td>{'chromo0': [11.35650610807846, 11.51352875056...</td>\n",
       "      <td>{'chromo0': [11.35650610807846, 11.51352875056...</td>\n",
       "      <td>{'chromo0': [11.35650610807846, 11.51352875056...</td>\n",
       "      <td>[15, 43, 120]</td>\n",
       "      <td>[0.0, 15.0, 50.5]</td>\n",
       "      <td>[0.0, 112.5, 1275.125]</td>\n",
       "      <td>[2.0, 9.5, 27.25]</td>\n",
       "      <td>[10.0, 152.0, 1090.0]</td>\n",
       "      <td>[15, 43, 120]</td>\n",
       "      <td>[0.0, 15.0, 50.5]</td>\n",
       "      <td>[0.0, 112.5, 1275.125]</td>\n",
       "      <td>[2.0, 9.5, 27.25]</td>\n",
       "      <td>[10.0, 152.0, 1090.0]</td>\n",
       "      <td>[20.0, 304.0, 2180.0]</td>\n",
       "      <td>[80.0, -204.0, -2080.0]</td>\n",
       "      <td>[78.4313725490196, -196.078431372549, -1960.03...</td>\n",
       "      <td>-2077.677515</td>\n",
       "    </tr>\n",
       "    <tr>\n",
       "      <th>1</th>\n",
       "      <td>{'chromo0': [11.35650610807846, 11.51352875056...</td>\n",
       "      <td>{'chromo0': [11.35650610807846, 11.51352875056...</td>\n",
       "      <td>{'chromo1': [11.992891407021851, 10.2477085746...</td>\n",
       "      <td>[16, 44, 130]</td>\n",
       "      <td>[0.0, 15.0, 50.5]</td>\n",
       "      <td>[0.0, 112.5, 1275.125]</td>\n",
       "      <td>[2.0, 9.5, 27.25]</td>\n",
       "      <td>[10.0, 152.0, 1090.0]</td>\n",
       "      <td>[16, 44, 130]</td>\n",
       "      <td>[0.0, 15.0, 50.5]</td>\n",
       "      <td>[0.0, 112.5, 1275.125]</td>\n",
       "      <td>[2.0, 9.5, 27.25]</td>\n",
       "      <td>[10.0, 152.0, 1090.0]</td>\n",
       "      <td>[20.0, 304.0, 2180.0]</td>\n",
       "      <td>[80.0, -204.0, -2080.0]</td>\n",
       "      <td>[78.4313725490196, -196.078431372549, -1960.03...</td>\n",
       "      <td>-2077.677515</td>\n",
       "    </tr>\n",
       "    <tr>\n",
       "      <th>2</th>\n",
       "      <td>{'chromo1': [11.992891407021851, 10.2477085746...</td>\n",
       "      <td>{'chromo0': [11.35650610807846, 11.51352875056...</td>\n",
       "      <td>{'chromo0': [11.35650610807846, 11.51352875056...</td>\n",
       "      <td>[16, 48, 130]</td>\n",
       "      <td>[0.0, 15.0, 50.5]</td>\n",
       "      <td>[0.0, 112.5, 1275.125]</td>\n",
       "      <td>[2.0, 9.5, 27.25]</td>\n",
       "      <td>[10.0, 152.0, 1090.0]</td>\n",
       "      <td>[16, 48, 130]</td>\n",
       "      <td>[0.0, 15.0, 50.5]</td>\n",
       "      <td>[0.0, 112.5, 1275.125]</td>\n",
       "      <td>[2.0, 9.5, 27.25]</td>\n",
       "      <td>[10.0, 152.0, 1090.0]</td>\n",
       "      <td>[20.0, 304.0, 2180.0]</td>\n",
       "      <td>[80.0, -204.0, -2080.0]</td>\n",
       "      <td>[78.4313725490196, -196.078431372549, -1960.03...</td>\n",
       "      <td>-2077.677515</td>\n",
       "    </tr>\n",
       "    <tr>\n",
       "      <th>3</th>\n",
       "      <td>{'chromo1': [11.992891407021851, 10.2477085746...</td>\n",
       "      <td>{'chromo0': [11.35650610807846, 11.51352875056...</td>\n",
       "      <td>{'chromo1': [11.992891407021851, 10.2477085746...</td>\n",
       "      <td>[17, 49, 140]</td>\n",
       "      <td>[0.0, 15.0, 50.5]</td>\n",
       "      <td>[0.0, 112.5, 1275.125]</td>\n",
       "      <td>[2.0, 9.5, 27.25]</td>\n",
       "      <td>[10.0, 152.0, 1090.0]</td>\n",
       "      <td>[17, 49, 140]</td>\n",
       "      <td>[0.0, 15.0, 50.5]</td>\n",
       "      <td>[0.0, 112.5, 1275.125]</td>\n",
       "      <td>[2.0, 9.5, 27.25]</td>\n",
       "      <td>[10.0, 152.0, 1090.0]</td>\n",
       "      <td>[20.0, 304.0, 2180.0]</td>\n",
       "      <td>[80.0, -204.0, -2080.0]</td>\n",
       "      <td>[78.4313725490196, -196.078431372549, -1960.03...</td>\n",
       "      <td>-2077.677515</td>\n",
       "    </tr>\n",
       "    <tr>\n",
       "      <th>4</th>\n",
       "      <td>{'chromo0': [11.35650610807846, 11.51352875056...</td>\n",
       "      <td>{'chromo1': [11.992891407021851, 10.2477085746...</td>\n",
       "      <td>{'chromo0': [11.35650610807846, 11.51352875056...</td>\n",
       "      <td>[16, 43, 130]</td>\n",
       "      <td>[0.0, 15.0, 50.5]</td>\n",
       "      <td>[0.0, 112.5, 1275.125]</td>\n",
       "      <td>[2.0, 9.5, 27.25]</td>\n",
       "      <td>[12.0, 152.0, 1362.5]</td>\n",
       "      <td>[16, 43, 130]</td>\n",
       "      <td>[0.0, 15.0, 50.5]</td>\n",
       "      <td>[0.0, 112.5, 1275.125]</td>\n",
       "      <td>[2.0, 9.5, 27.25]</td>\n",
       "      <td>[12.0, 152.0, 1362.5]</td>\n",
       "      <td>[24.0, 304.0, 2725.0]</td>\n",
       "      <td>[76.0, -204.0, -2625.0]</td>\n",
       "      <td>[74.50980392156862, -196.078431372549, -2473.5...</td>\n",
       "      <td>-2595.164756</td>\n",
       "    </tr>\n",
       "    <tr>\n",
       "      <th>5</th>\n",
       "      <td>{'chromo0': [11.35650610807846, 11.51352875056...</td>\n",
       "      <td>{'chromo1': [11.992891407021851, 10.2477085746...</td>\n",
       "      <td>{'chromo1': [11.992891407021851, 10.2477085746...</td>\n",
       "      <td>[17, 44, 140]</td>\n",
       "      <td>[0.0, 15.0, 50.5]</td>\n",
       "      <td>[0.0, 112.5, 1275.125]</td>\n",
       "      <td>[2.0, 9.5, 27.25]</td>\n",
       "      <td>[12.0, 152.0, 1362.5]</td>\n",
       "      <td>[17, 44, 140]</td>\n",
       "      <td>[0.0, 15.0, 50.5]</td>\n",
       "      <td>[0.0, 112.5, 1275.125]</td>\n",
       "      <td>[2.0, 9.5, 27.25]</td>\n",
       "      <td>[12.0, 152.0, 1362.5]</td>\n",
       "      <td>[24.0, 304.0, 2725.0]</td>\n",
       "      <td>[76.0, -204.0, -2625.0]</td>\n",
       "      <td>[74.50980392156862, -196.078431372549, -2473.5...</td>\n",
       "      <td>-2595.164756</td>\n",
       "    </tr>\n",
       "    <tr>\n",
       "      <th>6</th>\n",
       "      <td>{'chromo1': [11.992891407021851, 10.2477085746...</td>\n",
       "      <td>{'chromo1': [11.992891407021851, 10.2477085746...</td>\n",
       "      <td>{'chromo0': [11.35650610807846, 11.51352875056...</td>\n",
       "      <td>[17, 48, 140]</td>\n",
       "      <td>[0.0, 15.0, 50.5]</td>\n",
       "      <td>[0.0, 112.5, 1275.125]</td>\n",
       "      <td>[2.0, 9.5, 27.25]</td>\n",
       "      <td>[12.0, 152.0, 1362.5]</td>\n",
       "      <td>[17, 48, 140]</td>\n",
       "      <td>[0.0, 15.0, 50.5]</td>\n",
       "      <td>[0.0, 112.5, 1275.125]</td>\n",
       "      <td>[2.0, 9.5, 27.25]</td>\n",
       "      <td>[12.0, 152.0, 1362.5]</td>\n",
       "      <td>[24.0, 304.0, 2725.0]</td>\n",
       "      <td>[76.0, -204.0, -2625.0]</td>\n",
       "      <td>[74.50980392156862, -196.078431372549, -2473.5...</td>\n",
       "      <td>-2595.164756</td>\n",
       "    </tr>\n",
       "    <tr>\n",
       "      <th>7</th>\n",
       "      <td>{'chromo1': [11.992891407021851, 10.2477085746...</td>\n",
       "      <td>{'chromo1': [11.992891407021851, 10.2477085746...</td>\n",
       "      <td>{'chromo1': [11.992891407021851, 10.2477085746...</td>\n",
       "      <td>[18, 49, 150]</td>\n",
       "      <td>[0.0, 15.0, 50.5]</td>\n",
       "      <td>[0.0, 112.5, 1275.125]</td>\n",
       "      <td>[2.0, 9.5, 27.25]</td>\n",
       "      <td>[12.0, 152.0, 1362.5]</td>\n",
       "      <td>[18, 49, 150]</td>\n",
       "      <td>[0.0, 15.0, 50.5]</td>\n",
       "      <td>[0.0, 112.5, 1275.125]</td>\n",
       "      <td>[2.0, 9.5, 27.25]</td>\n",
       "      <td>[12.0, 152.0, 1362.5]</td>\n",
       "      <td>[24.0, 304.0, 2725.0]</td>\n",
       "      <td>[76.0, -204.0, -2625.0]</td>\n",
       "      <td>[74.50980392156862, -196.078431372549, -2473.5...</td>\n",
       "      <td>-2595.164756</td>\n",
       "    </tr>\n",
       "  </tbody>\n",
       "</table>\n",
       "</div>"
      ],
      "text/plain": [
       "                                               firm1  \\\n",
       "0  {'chromo0': [11.35650610807846, 11.51352875056...   \n",
       "1  {'chromo0': [11.35650610807846, 11.51352875056...   \n",
       "2  {'chromo1': [11.992891407021851, 10.2477085746...   \n",
       "3  {'chromo1': [11.992891407021851, 10.2477085746...   \n",
       "4  {'chromo0': [11.35650610807846, 11.51352875056...   \n",
       "5  {'chromo0': [11.35650610807846, 11.51352875056...   \n",
       "6  {'chromo1': [11.992891407021851, 10.2477085746...   \n",
       "7  {'chromo1': [11.992891407021851, 10.2477085746...   \n",
       "\n",
       "                                               firm2  \\\n",
       "0  {'chromo0': [11.35650610807846, 11.51352875056...   \n",
       "1  {'chromo0': [11.35650610807846, 11.51352875056...   \n",
       "2  {'chromo0': [11.35650610807846, 11.51352875056...   \n",
       "3  {'chromo0': [11.35650610807846, 11.51352875056...   \n",
       "4  {'chromo1': [11.992891407021851, 10.2477085746...   \n",
       "5  {'chromo1': [11.992891407021851, 10.2477085746...   \n",
       "6  {'chromo1': [11.992891407021851, 10.2477085746...   \n",
       "7  {'chromo1': [11.992891407021851, 10.2477085746...   \n",
       "\n",
       "                                               firm3 industry_carbon_emission  \\\n",
       "0  {'chromo0': [11.35650610807846, 11.51352875056...            [15, 43, 120]   \n",
       "1  {'chromo1': [11.992891407021851, 10.2477085746...            [16, 44, 130]   \n",
       "2  {'chromo0': [11.35650610807846, 11.51352875056...            [16, 48, 130]   \n",
       "3  {'chromo1': [11.992891407021851, 10.2477085746...            [17, 49, 140]   \n",
       "4  {'chromo0': [11.35650610807846, 11.51352875056...            [16, 43, 130]   \n",
       "5  {'chromo1': [11.992891407021851, 10.2477085746...            [17, 44, 140]   \n",
       "6  {'chromo0': [11.35650610807846, 11.51352875056...            [17, 48, 140]   \n",
       "7  {'chromo1': [11.992891407021851, 10.2477085746...            [18, 49, 150]   \n",
       "\n",
       "  carbon_pollution_stock industry_carbon_damages carbon_dynamic_tax  \\\n",
       "0      [0.0, 15.0, 50.5]  [0.0, 112.5, 1275.125]  [2.0, 9.5, 27.25]   \n",
       "1      [0.0, 15.0, 50.5]  [0.0, 112.5, 1275.125]  [2.0, 9.5, 27.25]   \n",
       "2      [0.0, 15.0, 50.5]  [0.0, 112.5, 1275.125]  [2.0, 9.5, 27.25]   \n",
       "3      [0.0, 15.0, 50.5]  [0.0, 112.5, 1275.125]  [2.0, 9.5, 27.25]   \n",
       "4      [0.0, 15.0, 50.5]  [0.0, 112.5, 1275.125]  [2.0, 9.5, 27.25]   \n",
       "5      [0.0, 15.0, 50.5]  [0.0, 112.5, 1275.125]  [2.0, 9.5, 27.25]   \n",
       "6      [0.0, 15.0, 50.5]  [0.0, 112.5, 1275.125]  [2.0, 9.5, 27.25]   \n",
       "7      [0.0, 15.0, 50.5]  [0.0, 112.5, 1275.125]  [2.0, 9.5, 27.25]   \n",
       "\n",
       "      carbon_policy_cost industry_sulfur_emission sulfur_pollution_stock  \\\n",
       "0  [10.0, 152.0, 1090.0]            [15, 43, 120]      [0.0, 15.0, 50.5]   \n",
       "1  [10.0, 152.0, 1090.0]            [16, 44, 130]      [0.0, 15.0, 50.5]   \n",
       "2  [10.0, 152.0, 1090.0]            [16, 48, 130]      [0.0, 15.0, 50.5]   \n",
       "3  [10.0, 152.0, 1090.0]            [17, 49, 140]      [0.0, 15.0, 50.5]   \n",
       "4  [12.0, 152.0, 1362.5]            [16, 43, 130]      [0.0, 15.0, 50.5]   \n",
       "5  [12.0, 152.0, 1362.5]            [17, 44, 140]      [0.0, 15.0, 50.5]   \n",
       "6  [12.0, 152.0, 1362.5]            [17, 48, 140]      [0.0, 15.0, 50.5]   \n",
       "7  [12.0, 152.0, 1362.5]            [18, 49, 150]      [0.0, 15.0, 50.5]   \n",
       "\n",
       "  industry_sulfur_damages sulfur_dynamic_tax     sulfur_policy_cost  \\\n",
       "0  [0.0, 112.5, 1275.125]  [2.0, 9.5, 27.25]  [10.0, 152.0, 1090.0]   \n",
       "1  [0.0, 112.5, 1275.125]  [2.0, 9.5, 27.25]  [10.0, 152.0, 1090.0]   \n",
       "2  [0.0, 112.5, 1275.125]  [2.0, 9.5, 27.25]  [10.0, 152.0, 1090.0]   \n",
       "3  [0.0, 112.5, 1275.125]  [2.0, 9.5, 27.25]  [10.0, 152.0, 1090.0]   \n",
       "4  [0.0, 112.5, 1275.125]  [2.0, 9.5, 27.25]  [12.0, 152.0, 1362.5]   \n",
       "5  [0.0, 112.5, 1275.125]  [2.0, 9.5, 27.25]  [12.0, 152.0, 1362.5]   \n",
       "6  [0.0, 112.5, 1275.125]  [2.0, 9.5, 27.25]  [12.0, 152.0, 1362.5]   \n",
       "7  [0.0, 112.5, 1275.125]  [2.0, 9.5, 27.25]  [12.0, 152.0, 1362.5]   \n",
       "\n",
       "             policy_cost            period_profit  \\\n",
       "0  [20.0, 304.0, 2180.0]  [80.0, -204.0, -2080.0]   \n",
       "1  [20.0, 304.0, 2180.0]  [80.0, -204.0, -2080.0]   \n",
       "2  [20.0, 304.0, 2180.0]  [80.0, -204.0, -2080.0]   \n",
       "3  [20.0, 304.0, 2180.0]  [80.0, -204.0, -2080.0]   \n",
       "4  [24.0, 304.0, 2725.0]  [76.0, -204.0, -2625.0]   \n",
       "5  [24.0, 304.0, 2725.0]  [76.0, -204.0, -2625.0]   \n",
       "6  [24.0, 304.0, 2725.0]  [76.0, -204.0, -2625.0]   \n",
       "7  [24.0, 304.0, 2725.0]  [76.0, -204.0, -2625.0]   \n",
       "\n",
       "                            discounted_period_profit          NPV  \n",
       "0  [78.4313725490196, -196.078431372549, -1960.03... -2077.677515  \n",
       "1  [78.4313725490196, -196.078431372549, -1960.03... -2077.677515  \n",
       "2  [78.4313725490196, -196.078431372549, -1960.03... -2077.677515  \n",
       "3  [78.4313725490196, -196.078431372549, -1960.03... -2077.677515  \n",
       "4  [74.50980392156862, -196.078431372549, -2473.5... -2595.164756  \n",
       "5  [74.50980392156862, -196.078431372549, -2473.5... -2595.164756  \n",
       "6  [74.50980392156862, -196.078431372549, -2473.5... -2595.164756  \n",
       "7  [74.50980392156862, -196.078431372549, -2473.5... -2595.164756  "
      ]
     },
     "execution_count": 1398,
     "metadata": {},
     "output_type": "execute_result"
    }
   ],
   "source": [
    "pd.DataFrame(x)"
   ]
  },
  {
   "cell_type": "code",
   "execution_count": 1399,
   "metadata": {},
   "outputs": [
    {
     "data": {
      "text/plain": [
       "{'firm1': {'chromo0': array([11.35650611, 11.51352875])},\n",
       " 'firm2': {'chromo0': array([11.35650611, 11.51352875])},\n",
       " 'firm3': {'chromo0': array([11.35650611, 11.51352875])},\n",
       " 'industry_carbon_emission': array([ 15,  43, 120]),\n",
       " 'carbon_pollution_stock': array([ 0. , 15. , 50.5]),\n",
       " 'industry_carbon_damages': array([   0.   ,  112.5  , 1275.125]),\n",
       " 'carbon_dynamic_tax': array([ 2.  ,  9.5 , 27.25]),\n",
       " 'carbon_policy_cost': array([  10.,  152., 1090.]),\n",
       " 'industry_sulfur_emission': array([ 15,  43, 120]),\n",
       " 'sulfur_pollution_stock': array([ 0. , 15. , 50.5]),\n",
       " 'industry_sulfur_damages': array([   0.   ,  112.5  , 1275.125]),\n",
       " 'sulfur_dynamic_tax': array([ 2.  ,  9.5 , 27.25]),\n",
       " 'sulfur_policy_cost': array([  10.,  152., 1090.]),\n",
       " 'policy_cost': array([  20.,  304., 2180.]),\n",
       " 'period_profit': array([   80.,  -204., -2080.]),\n",
       " 'discounted_period_profit': array([   78.43137255,  -196.07843137, -1960.03045586]),\n",
       " 'NPV': -2077.677514681382}"
      ]
     },
     "execution_count": 1399,
     "metadata": {},
     "output_type": "execute_result"
    }
   ],
   "source": [
    "x[0]"
   ]
  },
  {
   "cell_type": "code",
   "execution_count": null,
   "metadata": {},
   "outputs": [],
   "source": [
    "def Coevo_GA(populate_func: PopulateFunc,\n",
    "             fitness_func: FitnessFunc, \n",
    "             crossover_func: CrossoverFunc,\n",
    "             mutation_func: MutationFunc, \n",
    "             generation_limit: int = 1000, \n",
    "             number_of_similarity: int = 50, \n",
    "             selection_func: SelectionFunc = selection_pair):\n",
    "\n",
    "#I.Initialisation :\n",
    "    #1.Initilise population for each player and map population into a 2x2 lattice ; each chromo must have T genes \n",
    "    #2.map The population of each player into toroidal grids \n",
    "      # each population represents the coevolving solution communicating with other population,\n",
    "     #Each of the populations forms a two-dimensional structure of toroidal square lattic\n",
    "    #result :  3 population \n",
    "    population = {}\n",
    "    \n",
    "    for firm_object in (Firm._registry):\n",
    "        population[\"firm\" + str(firm_object.index)] = (populate_func(fitness_func,firm_object)).reshape(int(np.sqrt(size)),\n",
    "                                                                                                             int(np.sqrt(size)),\n",
    "                                                                                                             planning_horizon)#(sqrt(pop size) , sqrt(pop size), #of periods )\n",
    "###   \n",
    "  \n",
    "#II. Initial fitness evaluation   \n",
    "    #======#\n",
    "    # Evaluate each chromo such that it is combined with all symbiotic partners that are located at the same position in all of the other populations.\n",
    "    #get chromo list \n",
    "    \n",
    "    \n",
    "    #Set fbest to be the fitnesss of the best combination.\n",
    "    \n",
    "    \n",
    "    \n",
    "    \n",
    "    \n",
    "    \n",
    "    \n",
    "    #======#\n",
    "    \n",
    "    \n",
    "# Run the coevolutionnary loop / the evolution of populations:While one population evolves, it interacts with the other population. \n",
    "#while (number_of_generation < generation_limit) or (chromo_deviation_chech() > deviation_threshold);\n",
    "        # the coevolving process runs for a predefined number of generations:\n",
    "        # the deviation of the chromosome for each species is smaller than the pre-specified threshold, ψ) == false:\n",
    "        \n",
    "while () or () :       \n",
    "        \n",
    "    #III. Neighbehood construction : \n",
    "        #1. Randomly select a firm, h.,ie the evolving spiecees.\n",
    "            #identify the remainder as symbiotic spieces \n",
    "                # the evolving firm =  firm h\n",
    "                # symbiotic firms = firn l.\n",
    "                \n",
    "        symbiotic_population = {}\n",
    "        symbiotic_neighberhood ={}\n",
    "        \n",
    "        \n",
    "        evolving_species = random.choice(Firm._registry) #<__main__.Firm at 0x2026cf1e8e0>\n",
    "        symbiotic_species = [ _ for _ in Firm._registry if _ != evolving_species] #<__main__.Firm at 0x2026cf1e8e0>\n",
    "        \n",
    "        evolving_population =population[\"firm\" +  str(evolving_species.index)] \n",
    "        \n",
    "        for _ in (symbiotic_species):\n",
    "            symbiotic_population[\"firm\" + str(_.index)] = population[\"firm\" + str(_.index)]  \n",
    "   \n",
    " \n",
    "\n",
    "   \n",
    "        # 2: Select an arbitrary location (m,n) from toroidal grids for firm h \n",
    "            #for which a neighborhood will be defined for the evolution process#Scope_of_Partners_Toroidal_grids_ST()\n",
    "        arbitrary_row_loc = randrange(np.sqrt(size)) \n",
    "        arbitrary_column_loc =  randrange(np.sqrt(size))\n",
    "            \n",
    "            # Identify the corrosponding chromo of the evolving firm \"\" chromo(m,n)\" \" as the center of evolution \n",
    "             # \"\"\"chromo@ (3,3) of firm 2 is selected as the initial point for the evolution \"\"\"\n",
    "        intial_point_of_evolution = population[\"firm\" + str(evolving_species.index)][arbitrary_loc_row,\n",
    "                                                                                    arbitrary_loc_column]\n",
    "\n",
    "                \n",
    "        # 3: Set  up the Neighberhood N_mn structure for the evolution process based on the selected chromo location\n",
    "         #For the localized coevolution, a structure of 3 × 3 neighborhood is used for the localized coevolution.\n",
    "                        ##Toroidal_grids (ST): are  the scope of an evolving neighborhood (EN) \"\"\"\n",
    "                # Example:  Nmn: 3x3 neighbors of the chromosomes  (3,3)  \n",
    "        #4. Set  up the Evolving Neighberhood from the evolving firm EN_mn[h]\n",
    "        # EN_mn[h]: the neighborhood including chromo @location (m; n) and its 8 neighbors in the evolving firm pop Pop[h]\n",
    "        #Once chromo@ (3,3) of evolving firm 2 is selected as the initial point for the evolution, \n",
    "            #==> the neighborhoods of the evolving speicies (EN=N_mn) of the selected chromosome is identifies\n",
    "            # these 9 chromos are selcted from the chosen firm's population \n",
    "            #  These are candidate partners for the fitness evaluation,  Chromo @ the same positions in the population of the other firms\n",
    "   \n",
    "                \n",
    "        evolving_neighberhood = evolving_population.take(range(arbitrary_loc_row - 1,\n",
    "                                                       arbitrary_loc_row + 2 ),\n",
    "                                                 mode='wrap', \n",
    "                                                 axis = 0).take(range(arbitrary_loc_row - 1, \n",
    "                                                                      arbitrary_loc_row + 2),\n",
    "                                                                mode='wrap',\n",
    "                                                                axis=1)\n",
    "        # 5: Set  up the Neighberhood for the sympioses firm SN_mn[l]\n",
    "        # SNmn[l]: the neighborhood including individual (m,n) and its eight neighbors in the sympioses  firm  pop\n",
    "        # these are candidate partners for the fitness evaluation: \n",
    "        # these are  Chromo @ the same positions in the population of the other firms\n",
    "        #Once chromo@ (3,3) of evolving firm 2 is selected as the initial point for the evolution, \n",
    "         #====> the neighborhoods of the arbitrary symbiotic speicies (SN= Nmn ) are identified.  \n",
    "            \n",
    "            \n",
    "        for _ in (symbiotic_species):\n",
    "            symbiotic_neighberhood[\"firm\" + str(_.index)] = symbiotic_population[\"firm\" + str(_.index)].take(range(arbitrary_loc_row - 1,\n",
    "                                                       arbitrary_loc_row + 2 ),\n",
    "                                                 mode='wrap', \n",
    "                                                 axis = 0).take(range(arbitrary_loc_row - 1, \n",
    "                                                                      arbitrary_loc_row + 2),\n",
    "                                                                mode='wrap',\n",
    "                                                                axis=1)\n",
    "    \n",
    "        #6: select The best partner in scope (PB): call on \"Partner chromo selection strategies\" fn:  \n",
    "         #====>#Partner selection : select the chromos from the symbios firms using single partner by fitness based random selection    \n",
    "        # match each chromosome with a partner chromosome from the population of each player\n",
    "        #matching process, ie Symbiotic partner selection Partner Selection method :\n",
    "      \n",
    "        \n",
    " #================================================================================================#\n",
    "                #Single partner by fitness-based random selection (PF) procedure:\n",
    "    #1). Input max # of selected candidate partners for the evaluation process (Assume 4). \n",
    "\n",
    "        max_number_of_partner_candidate = 4\n",
    "        \n",
    "        \n",
    "        #Input chromo to be evaluatred from EN : \n",
    "        \n",
    "        \n",
    "        \n",
    "    #2). For each symbiotic firm: \n",
    "        for _ in (symbiotic_species): \n",
    "        #evaluate the fitness for each chromo \n",
    "        \n",
    "            symbiotic_neighberhood[\"firm\" + str(_.index)]\n",
    "        # sort the neighberhood based on fitness \n",
    "        \n",
    "        #Step 1: select the best 4 chromo\n",
    "        bestPartner = SelectBestFitnessRandomly(symbioticghborhood, _pCoGAParameter->_PartnerNum);\n",
    "        \n",
    "        #randomly select 1 chromo from the 4 based on fitness \n",
    "        \n",
    "        \n",
    "        #Candidate chromo from SN_mn[l] based on fitness \n",
    "            # select the 4 chromosomes with the highest fitness values in the SN_mn[l] : \n",
    "            # exple of chosen chromo for a sumbio firm; firm 3: chromo^3_32, chromo^3_33, chromo^3_22, chromo^3_43  \n",
    "        #Step 2: Randomly and with selection probability dependent on their fitness values , return 1 partner (chromo) from each firm l\n",
    "                                #Output :\n",
    "                                # ============================================\n",
    "                                # sumbio Firm  | Selected Partner fron the SN           \n",
    "                                #=============================================\n",
    "                                #   1        |   [v1,......., vn]\n",
    "                                #=============================================\n",
    "\n",
    "                                #    3        |   [v1,......., vn]\n",
    "\n",
    "                                #=============================================\n",
    " #================================================================================================#\n",
    "\n",
    "        # 7. evalute the fitness\n",
    "            # now that symbiotic partners are determined for each symbio firm, we can assess the fitness of the chosen chromo / individual from the evolving firm\n",
    "            #expl: evaluate the fitness of the randomly choson chromo P^2_34 using P^1_33, P^3_43, P^4_23  \n",
    "            ##exple 2: to be able to evaluare the fitness of chromo^h_ab in EN:  the chromo located (a, b)  from the evolving firm's population, a partner\n",
    "            #P^l_cd ={P^3_cd, P^1_cd } : chromo with the best fitness value belonging a symbiotic species, for each of the other players is selected.\n",
    "            #With the set of these selected chromosomes, we can evalute the fitness of  each chromo :\n",
    "\n",
    "\n",
    "        \n",
    "    \n",
    "    #Step 6: combine to complete an integrated solution \n",
    "            # store Information on partners and the fitness value for each chromosome.\n",
    "\n",
    "\n",
    "    \n",
    "     #IV.Crossover and mutation: Coevolution process is responsible for the localized coevolution.\n",
    "        # The neighbors are evolved and maintained throughou the following steps\n",
    "        \n",
    "\n",
    " \n",
    "    #4. Selection function: \n",
    "        #Select two parents from EN using the roulettewheel selection method based on fitness \n",
    "            parents = selection_func(population, fitness_func, weights = weights)\n",
    "            #print(\"parent are\", parents) \n",
    "            \n",
    "    \n",
    "    #5. Crossover function: \n",
    "        #Generate 2 offspring by a crossover operation. \n",
    "            offspring_a, offspring_b = crossover_func(parents[0], parents[1])  \n",
    "\n",
    "        \n",
    "    #6. replacememt \n",
    "        # Replace the two worst individuals in EN with the two new offspring \n",
    "        #evalute fitness of the new offspring \n",
    "        \n",
    "    #6. mutation operation. \n",
    "        #select random chromo from EN using a mutation probabilty \n",
    "        # mutate the selected chromo\n",
    "    \n",
    "    #7. Update the fitness values of the two offspring using the fitness evaluation procedure: fitness function\n",
    "        # Evaluate The fittness is of the 2 offspring \n",
    "        # where the symbiotic partners are randomly selected from the other firms l neighberhood  \n",
    " \n",
    "    #8.  If fitness of the best individual >  fbest, then fbest is updated with the new best fitness.\n",
    "\n",
    "        \n",
    "    #9. update number_of_generation: number_of_generation += 1 \n",
    "       \n",
    "    \n",
    "    #10. check for fitness simularities (chromo_deviation_chech() > deviation_threshold); (repeat neigberhood construction for another generation)\n",
    "\n",
    "\n",
    "    \n",
    "    \n",
    "#END OF WHILE LOOP : ==> STORING Resutls:  3populations \n",
    "#each firm has its final population composed its chromosomes  \n",
    "#each chromo in each population of each firm has:\n",
    "    #1. fitness values\n",
    "    #2. selected partners (collected from other population during fitness evaluation)\n",
    "\n",
    "# Each firm has a set of integrated solutions\n",
    "# integrated solution of firm 1= {chromo_firm1, chromo_firm2, chromo_firm3 } #the chromo for all the firms.\n",
    "\n",
    "# ----------------------------------------\n",
    "#  Firm 1 | Population | Chromo | Fitness \n",
    "#-----------------------------------------\n",
    "#  Firm 1 |1           | Chromo | Fitness \n",
    "#-----------------------------------------\n",
    "#  Firm 1 | Generation limit | Chromo | Fitness \n",
    "#-----------------------------------------\n",
    "\n",
    "# ----------------------------------------\n",
    "#  Firm 2 | Population | Chromo | Fitness \n",
    "#-----------------------------------------\n",
    "#  Firm 2 |1           | Chromo | Fitness \n",
    "#-----------------------------------------\n",
    "#  Firm 2 | Generation limit | Chromo | Fitness \n",
    "#-----------------------------------------\n",
    "\n",
    "# ----------------------------------------\n",
    "#  Firm 3 | Population | Chromo | Fitness \n",
    "#-----------------------------------------\n",
    "#  Firm 3 |1           | Chromo | Fitness \n",
    "#-----------------------------------------\n",
    "#  Firm 3 | Generation limit | Chromo | Fitness \n",
    "#-----------------------------------------\n",
    "\n",
    "    \n",
    "#================================================================================================#\n",
    "#Selection of 1 integrated sollution\n",
    "#A biding process  for deriving agreement among firms with multiple alternative solutions from the CoGA \"\"\"\n",
    "#The sequential_bidding_procedure:\n",
    "    # each player submits one solution in each round \n",
    "    # until all the players agree on the same solution among all the solutions submitted thus far.\n",
    "    \n",
    "def Selectio_nof1 integrated sollution sequential_bidding_procedure():\n",
    "# U[firm_j] ={d[i=0, firm1], d[i=1,firm1], ..., .} : \n",
    "# set of all the Pareto-optimal integrated solutions of firm j wt we get fron coev\n",
    "# d: integrated solution\n",
    "#d[i, firm_j] : ith Pareto-optimal integrated solution of firm j\n",
    "# s_firm_j(d) :  solution of firm j in an integrated solution d.\n",
    "# fitness[firm_j](d): net present value of firm j in an integrated solution d\n",
    "# fitness[i, firm_j] : payoff of firm j in the i th Pareto-optimal integrated solution of firm j\n",
    "\n",
    "\n",
    "#I: inialisation: \n",
    "    # Solution_set = np.empty\n",
    "    #Sort The integrated solutions of each playerin decreasing order of the profit of the corresponding player.\n",
    "    # i = 0 # ith Pareto-optimal integrated solution of the firm \n",
    "    #check = false \n",
    "# while terminate = false : \n",
    "    # II: increment \n",
    "    # i = i + 1\n",
    "    \n",
    "    # III. for all firms j : for all firm_object in (Firm._registry):\n",
    "    # if U[firm] is empty for any firm j:\n",
    "        # there is no agreed solution, Stop break!\n",
    "    #else:\n",
    "        #Solution_set += d[i, firm_j] #add all firms 1st integrated solution to the solution set\n",
    "        # U[firm_j].remve (d[i, firm_j]) #remove all  firms 1st  integrated solution from the set of all the Pareto-optimal integrated solutions of firm j U[firm_j]\n",
    "          # Check for all firms whether there exists any integrated solution 'd' in Solution_set such that \n",
    "          # if fitness[firm_j](d[i,firm_j]) <= fitness[firm_j](d) for all firm j : \n",
    "            #terminate = true      \n",
    "        \n",
    "#d* = d #if If there is multiple d, then select d with the largest total payoff, as d*     \n",
    "#return a selected integreated solution \n",
    "# When each players submit their bids (chromo1, chromo2, chromo3)\n",
    "# firm x  accepts the  bid proposed by firm y because its profit in the bid by player x is larger than its profit\n",
    "# withh its ownn bid.\n",
    "\n",
    "#================================================================================================#\n",
    "def local_search_procedure():\n",
    "    \"\"\" perform a locaal serach using the selected solution\n",
    "    fine tuning of the selected integrated solution with a local search \n",
    "    to find the  NE \"\"\"  \n",
    "#The iterative local search algorithm optimizes the solution of a player \n",
    "# to maximize the profit of the player with fixed solutions of the other players \n",
    "# until no player can increase its profit or a termination condition is met \n",
    "#step size of the local search mu = 0.0001\n",
    "#range of the local search\n",
    "    pass \n",
    "\n",
    " #================================================================================================#\n",
    "\n",
    "\n",
    "########    \n",
    "    #2 Simulate until you reach generation limit,\n",
    "    i = 0\n",
    "    progress = pd.DataFrame(columns=['Generation', 'Vessel Speed', 'Firm Discounted profit', \n",
    "                                'Number of vessels', 'Carbon Emissions', 'Sulfur Emissions'])\n",
    "    \n",
    "    for i in range(generation_limit):\n",
    "        #Step 1 : Sort solutions in the population of generation i based on fitness to select the best 2 solutions \n",
    "        population = sorted(population, key=lambda chromo: fitness_func(chromo)[0], reverse=True) \n",
    "        \n",
    "        progress = progress.append({'Generation': i,\n",
    "                          'Vessel Speed': population[0],\n",
    "                          'Firm Discounted profit': fitness_func(population[0])[0],\n",
    "                          'Number of vessels': fitness_func(population[0])[1] , \n",
    "                          'Carbon Emissions': fitness_func(population[0])[2] , \n",
    "                          'Sulfur Emissions': fitness_func(population[0])[3] }, ignore_index=True) \n",
    "        \n",
    "        #Similarity check\n",
    "        if fitness_similarity_chech(progress['Firm Discounted profit'], number_of_similarity) == 1:\n",
    "            break\n",
    "#         print(progress)\n",
    "#         print (i)\n",
    "#         print(\"Best vessel speed in the\", i, \"th generation is\" ,population[0] ) \n",
    "#         print(\"Best fitness in the\", i, \"th generation is\", fitness_func(population[0]))\n",
    "    \n",
    "              \n",
    "        #Step 2: Implement elitism and pick the top 2 chromo(speed) in the population based on fitness for the next gernation \n",
    "        next_generation = population[0:2]      \n",
    "        max = np.sum([fitness_func(chromo)[0] for chromo in population])\n",
    "        weights= np.hstack([fitness_func(chromo)[0] / max for chromo in population])\n",
    "        \n",
    "        #Step 3: j in range 24 \n",
    "        for j in range(int(len(population) / 2) - 1):\n",
    "            #Step 1: Selection\n",
    "            parents = selection_func(population, fitness_func, weights = weights)\n",
    "            #print(\"parent are\", parents) \n",
    "            \n",
    "            #Step 2: Crossover\n",
    "            offspring_a, offspring_b = crossover_func(parents[0], parents[1])\n",
    "            \n",
    "\n",
    "            #Step 3: mutation \n",
    "            offspring_a = mutation_func(offspring_a)\n",
    "            offspring_b = mutation_func(offspring_b)\n",
    "            #print(\"offspring a \", offspring_a) \n",
    "            #print(\"offspring b\", offspring_b) \n",
    "            \n",
    "            #Step 4: Next generation \n",
    "            next_generation += [offspring_a, offspring_b]\n",
    "            \n",
    "        #print(\"next generation\",i, \"is\", next_generation)       \n",
    "        population = next_generation #update current population with our next generation and start into the next round of the algo by sorting the population and checking if we reached our fitness limit \n",
    "    \n",
    "    #Sort the population one last time in case we run out of generation  \n",
    "    population = sorted(population, key=lambda chromo: fitness_func(chromo)[0], reverse=True)\n",
    "    progress = progress.append({'Generation': i+1,\n",
    "                          'Vessel Speed': population[0],\n",
    "                          'Firm Discounted profit': fitness_func(population[0])[0],\n",
    "                          'Number of vessels': fitness_func(population[0])[1] , \n",
    "                          'Carbon Emissions': fitness_func(population[0])[2] , \n",
    "                          'Sulfur Emissions': fitness_func(population[0])[3] }, ignore_index=True) \n",
    "    print(progress)\n",
    "    return progress\n",
    "\n",
    "\n"
   ]
  }
 ],
 "metadata": {
  "kernelspec": {
   "display_name": "Python 3",
   "language": "python",
   "name": "python3"
  },
  "language_info": {
   "codemirror_mode": {
    "name": "ipython",
    "version": 3
   },
   "file_extension": ".py",
   "mimetype": "text/x-python",
   "name": "python",
   "nbconvert_exporter": "python",
   "pygments_lexer": "ipython3",
   "version": "3.8.8"
  }
 },
 "nbformat": 4,
 "nbformat_minor": 4
}
