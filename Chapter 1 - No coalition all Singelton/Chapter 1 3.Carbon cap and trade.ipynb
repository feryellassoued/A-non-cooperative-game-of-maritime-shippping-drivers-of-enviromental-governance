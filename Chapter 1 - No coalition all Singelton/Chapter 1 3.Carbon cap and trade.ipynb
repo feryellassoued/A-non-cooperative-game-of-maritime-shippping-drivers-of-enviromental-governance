{
 "cells": [
  {
   "cell_type": "code",
   "execution_count": 1,
   "metadata": {},
   "outputs": [],
   "source": [
    "import numpy as np # importing numpy for matrix operations \n",
    "from scipy import *\n",
    "from scipy.optimize import minimize\n",
    "import pandas as pd\n",
    "import matplotlib.pyplot as plt\n",
    "import seaborn as sns\n",
    "from IPython import display \n",
    "import itertools\n",
    "from IPython.display import display\n",
    "import random\n",
    "import operator\n",
    "from random import choices, randint, randrange, random, sample, seed, uniform, choice\n",
    "from collections import namedtuple\n",
    "from typing import List, Optional, Callable, Tuple\n",
    "from functools import partial\n",
    "sns.set()\n",
    "import random\n"
   ]
  },
  {
   "cell_type": "code",
   "execution_count": 2,
   "metadata": {},
   "outputs": [
    {
     "data": {
      "text/plain": [
       "array([-9, -9, -9, -9])"
      ]
     },
     "execution_count": 2,
     "metadata": {},
     "output_type": "execute_result"
    }
   ],
   "source": [
    "np.array([-9, -9, -9, -9])"
   ]
  },
  {
   "cell_type": "code",
   "execution_count": 3,
   "metadata": {},
   "outputs": [
    {
     "data": {
      "text/plain": [
       "array([0., 0., 0., 0.])"
      ]
     },
     "execution_count": 3,
     "metadata": {},
     "output_type": "execute_result"
    }
   ],
   "source": [
    "np.zeros(4)"
   ]
  },
  {
   "cell_type": "code",
   "execution_count": 4,
   "metadata": {},
   "outputs": [],
   "source": [
    "#np.random.seed(0)\n",
    "#random.seed(0)"
   ]
  },
  {
   "cell_type": "code",
   "execution_count": 5,
   "metadata": {},
   "outputs": [],
   "source": [
    "class IterRegistry(type):\n",
    "    def __iter__(cls):\n",
    "        return iter(cls._registry)"
   ]
  },
  {
   "cell_type": "code",
   "execution_count": 6,
   "metadata": {},
   "outputs": [],
   "source": [
    "class MarketConfig: \n",
    "    #class attributes\n",
    "    t0 = 2016 #The starting year for evaluation of the pay-offs\n",
    "    T = 35  # Planning Horizon t = 2016,...,2040 # 100 year scope \n",
    "    year = np.arange(2016, 2051)\n",
    "    distance = np.array([11810]) #nautical miles #Notteboom (2006)  \n",
    "    port_time =  np.array([264])  #hours ==> 11 days in a year  #Notteboom (2006)\n",
    "    demand_16_20 = np.array([1303780  for j in range(5)]) #in TEU #placehplder to be calibrated with the chosen route \n",
    "    annual_working_time = np.array([6480])  #hours per year, assumption   #hours per year, assumption \n",
    "    initial_freight_rate = np.array([1800])  ## in US$/TEU \n",
    "    SFOC_main = np.array([206])  #g/kWh, specific daily main engine fuel oil consumption rate\n",
    "    SFOC_aux = np.array([221]) # specific fuel oil consumption of the auxiliary engine [g/kW h], \n",
    "    eng_load_main = np.array([0.8]) # % \n",
    "    eng_load_aux = np.array([0.5])  # engine load of the auxiliary engine [\\%]\n",
    "\n",
    "\n",
    "    def __init__(self, number_of_firms, pollution_decay_parameter, pollution_damage_parameter, demand_income_elasticity, demand_price_elasticity, \n",
    "                 freight_rate, fuel_data, discount_rate ):\n",
    "        '''__init__ a method to describe the poperty that the shipping market and simulation game has'''\n",
    "        self.number_of_firms = number_of_firms\n",
    "        self.pollution_decay_parameter = pollution_decay_parameter\n",
    "        self.pollution_damage_parameter = pollution_damage_parameter\n",
    "        self.demand_income_elasticity = demand_income_elasticity #Constant income elasticity #IMF\n",
    "        self.demand_price_elasticity =  demand_price_elasticity #Constant own price elasticity#IMF\n",
    "        self.freight_rate = freight_rate ## in US$/TEU\n",
    "        self.fuel_data = fuel_data \n",
    "        self.discount_rate = discount_rate \n",
    "        #self.bau_industry_emission =  bau_industry_emission \n",
    "        #self.bau_pollution_stock = bau_pollution_stock\n",
    "        self.market_capacity = 0 \n",
    "         \n",
    "    \n",
    "    def get_market_capacity (self, firm_instance):\n",
    "        self.market_capacity += np.multiply(firm_instance.max_number_of_vessel, firm_instance.capacity) \n",
    "        return self.market_capacity \n",
    "    \n",
    "    def get_freight_rate_ratio(self):\n",
    "        self.beta = np.true_divide(self.freight_rate, MarketConfig.initial_freight_rate) \n",
    "        return self.beta\n",
    "   \n",
    "    def get_market_demand(self):\n",
    "        '''compute market level demand'''\n",
    "        #---------> 1.Import real GDP growth data & compute GDP ratio : Source IMF@2020 #\n",
    "        G_df = pd.read_csv('./data/real_growth_rate.csv') #import IMF data\n",
    "        #-------> 2.Construct GDP projection path 2016-2050 based on projection growth data \n",
    "        gdp_growth= G_df.values[:,1:] \n",
    "        g =1 +(gdp_growth/100)  \n",
    "        self.gdp = np.array([100.00 for j in range(MarketConfig.T)])\n",
    "        for foo in range (1,MarketConfig.T):\n",
    "            self.gdp[foo] = g[:,foo]* self.gdp[foo-1]\n",
    "        #print(self.gdp)\n",
    "        #--------->  \"compute GDP ratio based on IMF@2020\"\n",
    "        gdp_ratio = np.array([1.00 for j in range(MarketConfig.T)])\n",
    "        for moo in range (1,MarketConfig.T):\n",
    "            sub_g = g[:,0:moo+1]\n",
    "            #print(sub_g)\n",
    "            gdp_ratio[moo] = np.prod(sub_g)\n",
    "        \n",
    "        #--------->  \"compute freight rate ratio\"\n",
    "        self.freight_rate_ratio_multiplied = np.power(self.beta, self.demand_price_elasticity)\n",
    "        #print(freight_rate_ratio_multiplied)\n",
    "        \n",
    "        #---------> \"Project Transport Demand (industry demand)\"\n",
    "        loo =np.multiply(np.power(gdp_ratio, self.demand_income_elasticity), self.freight_rate_ratio_multiplied ) #Will need to be updated in case fuel prices are varied over time  \n",
    "        self.market_demand = np.multiply(loo, MarketConfig.demand_16_20[0])\n",
    "        #print(Y) # size = 1 dimesion array with size T=35 years\n",
    "        self.market_psy = np.multiply(np.power(gdp_ratio, self.demand_income_elasticity), MarketConfig.demand_16_20[0] )\n",
    "        return self.market_demand, self.gdp, self.market_psy\n",
    "    \n",
    "    \n",
    "    def get_damage(self):\n",
    "        pass\n",
    "    \n",
    "    def get_global_abatement_benefits(self):\n",
    "        pass \n",
    "    \n",
    "    def get_firm_abatement_benefits():\n",
    "        pass"
   ]
  },
  {
   "cell_type": "code",
   "execution_count": 7,
   "metadata": {},
   "outputs": [],
   "source": [
    "class Firm:\n",
    "    #class attributes intialisation, to be updated with the addition of each instance\n",
    "    _registry = []\n",
    "    \n",
    "    def __init__(self, index, capacity, max_number_of_vessel, design_speed, \n",
    "                 min_speed, max_speed, main_engine_power, aux_engine_power,\n",
    "                 fix_cost, fuel_type):\n",
    "        '''__init__ a method to describe the poperty that all shipping firm have'''\n",
    "        self._registry.append(self)\n",
    "        self.index = index\n",
    "        self.capacity = capacity # Vessel capacity in TEU per firm, \n",
    "        self.max_number_of_vessel = max_number_of_vessel # # of vessels per firms\n",
    "        self.design_speed = design_speed  #design speed of the vessel in knots\n",
    "        self.min_speed = min_speed #min vessel speed\n",
    "        self.max_speed = max_speed #max vessel speed         \n",
    "        self.main_engine_power =  main_engine_power  # PS_m : main engine power in kW\n",
    "        self.aux_engine_power =  aux_engine_power  # auxiliary engine power [kW] \n",
    "        self.fix_cost = fix_cost #Daily cost of vessel (USD/Day) $25,000\n",
    "        self.fuel_type = fuel_type\n",
    "        #self.bau_emission = bau_emission\n",
    "         \n",
    "   \n",
    "    # Firm methods \n",
    "    def get_market_share(self , market_instance):\n",
    "        '''return market share of the firm accoding to it s capacity'''\n",
    "        self.transport_capacity = np.multiply(self.max_number_of_vessel , self.capacity)\n",
    "        self.market_share= np.true_divide(self.transport_capacity, market_instance.market_capacity)\n",
    "        return self.market_share\n",
    "        \n",
    "    def get_firm_param(self, market_instance):\n",
    "        self.psy = np.multiply (self.market_share , market_instance.market_psy)\n",
    "        return self.psy\n",
    "    \n",
    "    def get_firm_demand(self, market_instance):\n",
    "        self.firm_demand = np.multiply (self.market_share , market_instance.market_demand)\n",
    "        return self.firm_demand \n",
    "    \n",
    "    def update_vessel_speed(self, operational_speed):\n",
    "        self.operational_speed = operational_speed\n",
    "        return self.operational_speed \n",
    "    \n",
    "    def get_min_number_of_vessel(self, market_instance, period_index):\n",
    "        self.time_at_sea = np.true_divide(market_instance.distance,  self.operational_speed)\n",
    "        self.voyage_time = self.time_at_sea + market_instance.port_time   \n",
    "        self.number_of_trips_to_meet_demand = np.true_divide(self.firm_demand[period_index -1 ], self.capacity)\n",
    "        self.max_trips_per_vessel = np.true_divide(market_instance.annual_working_time, self.voyage_time)\n",
    "        self.min_number_of_vessel_to_meet_demand = np.true_divide(self.number_of_trips_to_meet_demand, self.max_trips_per_vessel)\n",
    "        return self.min_number_of_vessel_to_meet_demand, self.number_of_trips_to_meet_demand, self.time_at_sea \n",
    "    \n",
    "    def get_number_of_vessel(self):\n",
    "        self.number_of_vessel = np.ceil(self.min_number_of_vessel_to_meet_demand)\n",
    "        return self.number_of_vessel\n",
    "            \n",
    "    def get_ship_energy_efficiency(self, market_instance):\n",
    "        self.main_fuel_parameter =np.multiply(np.multiply(np.multiply(market_instance.SFOC_main,market_instance.eng_load_main),self.main_engine_power), 10**(-6))\n",
    "        #self.main_fuel_parameter = market_instance.SFOC_main * market_instance.eng_load_main * self.main_engine_power * 10**(-6)\n",
    "        self.ship_energy = np.multiply(self.main_fuel_parameter, np.power(self.design_speed, -3) )      \n",
    "        return self.ship_energy\n",
    "        \n",
    "    def get_main_fuel_cons(self, market_instance):\n",
    "        self.main_fuel_con= np.multiply(np.multiply(np.multiply(market_instance.distance, self.ship_energy), np.power(self.operational_speed, 2)) , self.number_of_trips_to_meet_demand)\n",
    "        self.main_fuel_cons = market_instance.distance * self.ship_energy * (self.operational_speed**2) *self.number_of_trips_to_meet_demand\n",
    "        return self.main_fuel_cons\n",
    "        \n",
    "    def get_aux_fuel_cons(self, market_instance): \n",
    "        self.aux_fuel_parameter = np.multiply(np.multiply(np.multiply( market_instance.SFOC_aux, market_instance.eng_load_aux), self.aux_engine_power),  10**(-6))\n",
    "        #self.aux_fuel_parameter = market_instance.SFOC_aux * market_instance.eng_load_aux * self.aux_engine_power * 10**(-6)\n",
    "        self.aux_fuel_cons =  np.true_divide((self.aux_fuel_parameter * self.number_of_trips_to_meet_demand * market_instance.distance), self.operational_speed)        \n",
    "        return self.aux_fuel_cons \n",
    "        \n",
    "    def get_fuel_cost(self, market_instance):\n",
    "        self.aux_fuel_cost =np.multiply(self.aux_fuel_cons, market_instance.fuel_data['MGO']['price'])  \n",
    "        self.main_fuel_cost = np.multiply(self.main_fuel_cons, market_instance.fuel_data[self.fuel_type]['price'])   \n",
    "        self.fuel_cost = self.main_fuel_cost + self.aux_fuel_cost \n",
    "        return self.fuel_cost\n",
    "        \n",
    "    def get_total_cost(self):\n",
    "        self.operating_cost = np.multiply(self.fix_cost, self.number_of_vessel)  #Fixed Cost\n",
    "        self.total_cost = self.operating_cost + self.fuel_cost\n",
    "        return self.total_cost \n",
    "    \n",
    "    def get_revenue(self,market_instance, period_index):\n",
    "        self.revenue = np.multiply(self.firm_demand[period_index - 1], market_instance.freight_rate)\n",
    "        return self.revenue\n",
    "    \n",
    "    def get_period_profits(self):\n",
    "        self.period_profit = self.revenue - self.total_cost\n",
    "        return self.period_profit\n",
    "    \n",
    "    def get_discounted_period_profit(self,market_instance, period_index):\n",
    "        self.discounted_period_profit = np.multiply( np.power( 1+ market_instance.discount_rate, - period_index), self.period_profit) \n",
    "        return self.discounted_period_profit\n",
    "    \n",
    "    def get_firm_carbon_emission(self, market_instance):\n",
    "        self.carbon_aux_emision_factor = market_instance.fuel_data['MGO']['carbon_factor']\n",
    "        self_carbon_aux_emissions = np.multiply(self.carbon_aux_emision_factor, self.aux_fuel_cons )  \n",
    "\n",
    "        self.carbon_main_emision_factor =  market_instance.fuel_data[self.fuel_type]['carbon_factor']\n",
    "        self_carbon_main_emissions =np.multiply(self.carbon_main_emision_factor, self.main_fuel_cons)  \n",
    "\n",
    "        self_carbon_emissions = self_carbon_main_emissions + self_carbon_aux_emissions \n",
    "        return self_carbon_emissions\n",
    "    \n",
    "    def get_firm_sulfur_emission(self, market_instance):\n",
    "        self.sulfur_aux_emision_factor = market_instance.fuel_data['MGO']['sulfur_factor']\n",
    "        self_sulfur_aux_emissions = np.multiply(self.sulfur_aux_emision_factor, self.aux_fuel_cons)  \n",
    "\n",
    "        self.sulfur_main_emision_factor =  market_instance.fuel_data[self.fuel_type]['sulfur_factor']\n",
    "        self_sulfur_main_emissions = np.multiply(self.sulfur_main_emision_factor, self.main_fuel_cons)  \n",
    "\n",
    "        self_sulfur_emissions = self_sulfur_main_emissions + self_sulfur_aux_emissions \n",
    "        return self_sulfur_emissions"
   ]
  },
  {
   "cell_type": "code",
   "execution_count": 8,
   "metadata": {},
   "outputs": [],
   "source": [
    "#====> Iinitialisation of chromo and population objects \n",
    "Chromo = List[float] \n",
    "Population = List[Chromo]  \n",
    "\n",
    "#====> Iinitialisation of function objects\n",
    "PopulateFunc = Callable[[], Population]\n",
    "FitnessFunc = Callable[[Chromo], Tuple[float, int, float, float]] #int to refelct max # of vessel\n",
    "SelectionFunc = Callable[[Population, FitnessFunc], Tuple[Chromo, Chromo]]  #takes a population and a fitness fn to select 2 solutions to be the parents of our next generaation solution\n",
    "CrossoverFunc = Callable[[Chromo, Chromo], Tuple[Chromo, Chromo]] #takes 2 genomes and returns 2 new genomes \n",
    "MutationFunc = Callable[[Chromo], Chromo] #takes 1 genome and sometimes returns a modified one\n",
    "\n",
    "#======>\n",
    "def generate_chromo(lower_bound:float, upper_bound:float) -> Chromo:\n",
    "    return np.random.uniform(lower_bound, upper_bound)\n",
    "\n",
    "#======>\n",
    "def generate_population(size: int, chromo_lower_bound: float, chromo_upper_bound: float) -> Population: \n",
    "    return np.array([generate_chromo(chromo_lower_bound, chromo_upper_bound) for _ in range(size)])\n",
    "\n",
    "#=====>\n",
    "def fitness (chromo: Chromo, firm: Firm, sim_game: MarketConfig, max_number_of_vessel: int, period_index: int) -> Tuple[float, int, float, float]:\n",
    "    \n",
    "    operational_speed = firm.update_vessel_speed(chromo)\n",
    "    #print(\"operational_speed\", operational_speed)\n",
    "    \n",
    "    min_number_vessels_sim , trips_to_meet_demand_sim, time_at_sea_sim  = firm.get_min_number_of_vessel(sim_game, period_index)\n",
    "    #print(\"min number of vessel is\", min_number_vessels_sim )\n",
    "    #print(\"number of trips to meet demand\", trips_to_meet_demand_sim )\n",
    "    #print(\"Time spent at sea\", time_at_sea_sim )\n",
    "\n",
    "    number_vessels_sim  = firm.get_number_of_vessel()\n",
    "    #print(\"number of vessel is\", number_vessels_sim)\n",
    "    \n",
    "    #Insert Model Constraints Here, Update Vessel speed constraint \n",
    "    if number_vessels_sim > max_number_of_vessel:\n",
    "        return np.array([-9, -9, -9, -9])\n",
    "    else:\n",
    "        main_fuel_con_sim = firm.get_main_fuel_cons(sim_game)\n",
    "        #print('main fuel consumption is ', main_fuel_con_sim)\n",
    "        \n",
    "        aux_fuel_con_sim = firm.get_aux_fuel_cons(sim_game)\n",
    "        #print('aux fuel consumption is ', aux_fuel_con_sim)\n",
    "\n",
    "        fuel_cost_sim = firm.get_fuel_cost(sim_game)\n",
    "        #print( \"fuel cost\",fuel_cost_sim)\n",
    "        \n",
    "        total_cost_sim = firm.get_total_cost()\n",
    "        #print(\"total cost\",total_cost_sim)\n",
    "        \n",
    "        revenues_sim = firm.get_revenue(sim_game, period_index)\n",
    "        #print(\"revenues\", revenues_sim)\n",
    "        \n",
    "        period_profits_sim = firm.get_period_profits()\n",
    "        #print (\"period profits \", period_profits_sim)\n",
    "        \n",
    "        discounted_period_profits_sim = firm.get_discounted_period_profit(sim_game, period_index)\n",
    "        #print(\"discounted period profits \", discounted_period_profits_sim)\n",
    "        \n",
    "        #We will see about the carbon and sulfir emississons \n",
    "        carbon_emissions_sim = firm.get_firm_carbon_emission(sim_game)\n",
    "        #print(\"carbon emissions\",carbon_emissions_sim)\n",
    "        \n",
    "        sulfur_emissions_sim = firm.get_firm_sulfur_emission(sim_game)\n",
    "        #print( \"sulfur emissions\", sulfur_emissions_sim)\n",
    "        return  discounted_period_profits_sim, number_vessels_sim, carbon_emissions_sim, sulfur_emissions_sim\n",
    "\n",
    "#=====>\n",
    "# def selection_pair(population: Population, fitness_func: FitnessFunc) -> Population:\n",
    "#     '''Roulette Wheel Selection: select a pair of chromo which will be the parent of 2 new chromo for the next generation, Solution with higher fitness should be more likely to be chosen for reproduction'''\n",
    "#     return random.choices(population = population,weights=[fitness_func(chromo)[0] for chromo in population],k=2) \n",
    "\n",
    "\n",
    "\n",
    "def selection_pair (population: Population, fitness_func: FitnessFunc, weights: list):\n",
    "    return  np.random.choice(np.hstack( population),\n",
    "                            size = 2, \n",
    "                            replace=False,\n",
    "                            p= weights) \n",
    "\n",
    "# def selection_pair(population: Population, fitness_func: FitnessFunc):\n",
    "#     return  np.random.choice(np.hstack( population),\n",
    "#                             size = 2, \n",
    "#                             replace=False,\n",
    "#                             p= np.hstack([fitness_func(chromo)[0] / np.sum([fitness_func(chromo)[0] for chromo in population]) for chromo in population])) \n",
    "  \n",
    "\n",
    "\n",
    "#=====>\n",
    "\n",
    "def BLX_alpha_crossover (a: Chromo, b: Chromo) -> Tuple[Chromo, Chromo]:\n",
    "    lower = min(a,b) -  0.5 * (max(a,b) - min (a,b))\n",
    "    upper = max(a,b) +  0.5 * (max(a,b) - min (a,b))                    \n",
    "    return np.random.uniform (lower, upper, 2) \n",
    "\n",
    "\n",
    "\n",
    "#=====>\n",
    "def mutation(chromo: Chromo, chromo_lower_bound: float, chromo_upper_bound: float\n",
    "             , variance: float, probability: float = 0.5 ) -> Chromo: \n",
    "        chromo = np.random.normal(chromo, variance, 1) if random.random() > probability else chromo\n",
    "        chromo = chromo_lower_bound if chromo <chromo_lower_bound else chromo\n",
    "        chromo =chromo_upper_bound if chromo > chromo_upper_bound else chromo\n",
    "        return chromo\n",
    "\n",
    "#=====>\n",
    "def fitness_similarity_chech(max_fitness, number_of_similarity):\n",
    "    result = 0\n",
    "    similarity = 0\n",
    "    for n in range(len(max_fitness)-1):\n",
    "        if np.round(max_fitness[n], 3 ) == np.round(max_fitness[n+1],3):\n",
    "            similarity += 1\n",
    "        else:\n",
    "            similarity = 0\n",
    "    if similarity == number_of_similarity-1:\n",
    "        result = 1\n",
    "    return result\n",
    "\n",
    "\n",
    "#=====>\n",
    "def run_evolution(populate_func: PopulateFunc, fitness_func: FitnessFunc, mutation_func: MutationFunc, \n",
    "                  generation_limit: int = 1000, number_of_similarity: int = 50, selection_func: SelectionFunc = selection_pair,\n",
    "                  crossover_func: CrossoverFunc = BLX_alpha_crossover ) -> Tuple[Population, pd.DataFrame ]:\n",
    "    \"\"\"The evolutionnary main loop\"\"\" \n",
    "    #1. Genrate the 1st generation: Initial generation/population\n",
    "    population = populate_func()\n",
    "    \n",
    "    #2 Simulate until you reach generation limit,\n",
    "    i = 0\n",
    "    progress = pd.DataFrame(columns=['Generation', 'Vessel Speed', 'Firm Discounted profit', \n",
    "                                'Number of vessels', 'Carbon Emissions', 'Sulfur Emissions'])\n",
    "    \n",
    "    for i in range(generation_limit):\n",
    "        #Step 1 : Sort solutions in the population of generation i based on fitness to select the best 2 solutions \n",
    "        population = [chromo for chromo in population if fitness_func(chromo)[0] != -9 ]\n",
    "        print(population)\n",
    "        population = sorted(population, key=lambda chromo: fitness_func(chromo)[0], reverse=True) \n",
    "        \n",
    "        progress = progress.append({'Generation': i,\n",
    "                          'Vessel Speed': population[0],\n",
    "                          'Firm Discounted profit': fitness_func(population[0])[0],\n",
    "                          'Number of vessels': fitness_func(population[0])[1] , \n",
    "                          'Carbon Emissions': fitness_func(population[0])[2] , \n",
    "                          'Sulfur Emissions': fitness_func(population[0])[3] }, ignore_index=True) \n",
    "        \n",
    "        #Similarity check\n",
    "        if fitness_similarity_chech(progress['Firm Discounted profit'], number_of_similarity) == 1:\n",
    "            break\n",
    "#         print(progress)\n",
    "#         print (i)\n",
    "#         print(\"Best vessel speed in the\", i, \"th generation is\" ,population[0] ) \n",
    "#         print(\"Best fitness in the\", i, \"th generation is\", fitness_func(population[0]))\n",
    "    \n",
    "              \n",
    "        #Step 2: Implement elitism and pick the top 2 chromo(speed) in the population based on fitness for the next gernation \n",
    "        next_generation = population[0:2]      \n",
    "        max = np.sum([fitness_func(chromo)[0] for chromo in population])\n",
    "        weights= np.hstack([fitness_func(chromo)[0] / max for chromo in population])\n",
    "        \n",
    "        #Step 3: j in range 24 \n",
    "        for j in range(int(len(population) / 2) - 1):\n",
    "            #Step 1: Selection\n",
    "            parents = selection_func(population, fitness_func, weights = weights)\n",
    "            #print(\"parent are\", parents) \n",
    "            \n",
    "            #Step 2: Crossover\n",
    "            offspring_a, offspring_b = crossover_func(parents[0], parents[1])\n",
    "            \n",
    "\n",
    "            #Step 3: mutation \n",
    "            offspring_a = mutation_func(offspring_a)\n",
    "            offspring_b = mutation_func(offspring_b)\n",
    "            #print(\"offspring a \", offspring_a) \n",
    "            #print(\"offspring b\", offspring_b) \n",
    "            \n",
    "            #Step 4: Next generation \n",
    "            next_generation += [offspring_a, offspring_b]\n",
    "            \n",
    "        #print(\"next generation\",i, \"is\", next_generation)       \n",
    "        population = next_generation #update current population with our next generation and start into the next round of the algo by sorting the population and checking if we reached our fitness limit \n",
    "    \n",
    "    #Sort the population one last time in case we run out of generation  \n",
    "    population = sorted(population, key=lambda chromo: fitness_func(chromo)[0], reverse=True)\n",
    "    progress = progress.append({'Generation': i+1,\n",
    "                          'Vessel Speed': population[0],\n",
    "                          'Firm Discounted profit': fitness_func(population[0])[0],\n",
    "                          'Number of vessels': fitness_func(population[0])[1] , \n",
    "                          'Carbon Emissions': fitness_func(population[0])[2] , \n",
    "                          'Sulfur Emissions': fitness_func(population[0])[3] }, ignore_index=True) \n",
    "    #print(progress)\n",
    "    return progress"
   ]
  },
  {
   "cell_type": "markdown",
   "metadata": {},
   "source": [
    "# 1. Set Up Simulation Parameters:"
   ]
  },
  {
   "cell_type": "markdown",
   "metadata": {},
   "source": [
    "## * Firm 1:"
   ]
  },
  {
   "cell_type": "code",
   "execution_count": 9,
   "metadata": {},
   "outputs": [],
   "source": [
    "####################################### 1. Firm & Market specific Parameters ###########################################\n",
    "                    #===========================>  Firm 1 Attributes <==========================#\n",
    "index_1 = 1\n",
    "capacity_1 = np.array([5905]) \n",
    "max_number_of_vessel_1= np.array([50]) \n",
    "design_speed_1 = np.array([23.3]) #design speed of the vessel in knots\n",
    "min_speed_1 = np.array([10])\n",
    "max_speed_1 = np.array([30])\n",
    "main_engine_power_1 =np.array([41186])  # main engine power in kW\n",
    "aux_engine_power_1 =np.array([2433])  # auxiliary engine power [kW] \n",
    "fix_cost_1 = np.array([6750000])   #Daily cost of vessel (USD/Day) $25,000\n",
    "fuel_type_1 = \"HFO\""
   ]
  },
  {
   "cell_type": "markdown",
   "metadata": {},
   "source": [
    "## * Firm 2:"
   ]
  },
  {
   "cell_type": "code",
   "execution_count": 10,
   "metadata": {},
   "outputs": [],
   "source": [
    "                    #===========================>  Firm 2 Attributes <==========================#\n",
    "index_2 = 2\n",
    "capacity_2 = np.array([6470])\n",
    "max_number_of_vessel_2 = np.array([50])\n",
    "design_speed_2 = np.array([24.7])  #design speed of the vessel in knots\n",
    "min_speed_2 = np.array([10])\n",
    "max_speed_2 = np.array([30])\n",
    "main_engine_power_2 = np.array([56273]) # main engine power in kW\n",
    "aux_engine_power_2 =np.array([2433])   # auxiliary engine power [kW] \n",
    "fix_cost_2 =np.array([ 6750000]) #Daily cost of vessel (USD/Day) $25,000\n",
    "fuel_type_2 = \"HFO\""
   ]
  },
  {
   "cell_type": "markdown",
   "metadata": {},
   "source": [
    "## * Market :"
   ]
  },
  {
   "cell_type": "code",
   "execution_count": 11,
   "metadata": {},
   "outputs": [],
   "source": [
    "                    #===========================> Market Attributes <==========================#\n",
    "number_of_firms = 2\n",
    "pollution_decay_parameter =  np.array([0.2])\n",
    "pollution_damage_parameter =  np.array([1.5])\n",
    "\n",
    "year = np.arange(2016, 2051)\n",
    "income_elasticity = np.array([0.8]) #Constant income elasticity #IMF\n",
    "price_elasticity = np.array([-0.7])   #Constant own price elasticity#IMF\n",
    "freight_rate = np.array([1800]) ## in US$/TEU\n",
    "fuel_data = pd.DataFrame(np.array([[422.50, 525.50, 597.00], \n",
    "                                [3.114,3.206,3.206],\n",
    "                                [0.07,0.01,0.002]]),\n",
    "                         columns=['HFO', 'ULSFO', 'MGO'],\n",
    "                         index = ['price', 'carbon_factor', 'sulfur_factor'])\n",
    "discount = np.array([0.02])  ##3  to 5 % transport canada ,#to be updated using the Ramsey rule,#pure rate of time preference of 1.5% + growth rate of consumption g * rate of risk conversion , an elasticity value of 2"
   ]
  },
  {
   "cell_type": "markdown",
   "metadata": {},
   "source": [
    "# 2. Initialize Game and Set up firm and market objects "
   ]
  },
  {
   "cell_type": "code",
   "execution_count": 12,
   "metadata": {},
   "outputs": [],
   "source": [
    "\"\"\" This cell needs to run once throughout the kernel\"\"\"\n",
    "####################################### 2.Simulation Game Initialisation ###########################################\n",
    "firm_1 = Firm(index_1, capacity_1, max_number_of_vessel_1, design_speed_1, \n",
    "                 min_speed_1, max_speed_1, main_engine_power_1, aux_engine_power_1,\n",
    "                 fix_cost_1, fuel_type_1) \n",
    "\n",
    "firm_2 = Firm(index_2, capacity_2, max_number_of_vessel_2, design_speed_2, \n",
    "                 min_speed_2, max_speed_2, main_engine_power_2, aux_engine_power_2,\n",
    "                 fix_cost_2, fuel_type_2) \n",
    "\n",
    "game_config = MarketConfig(number_of_firms, pollution_decay_parameter, pollution_damage_parameter, income_elasticity, price_elasticity, freight_rate, \n",
    "                           fuel_data, discount)\n",
    "\n",
    "####################################### 3.Get market capacity #################################\n",
    "for  firm_object in Firm._registry:\n",
    "    market_capacity_sim = game_config.get_market_capacity(firm_object)"
   ]
  },
  {
   "cell_type": "markdown",
   "metadata": {},
   "source": [
    "# 3. Market Demand"
   ]
  },
  {
   "cell_type": "code",
   "execution_count": 13,
   "metadata": {},
   "outputs": [
    {
     "name": "stdout",
     "output_type": "stream",
     "text": [
      "market demand [1303780.         1378613.27053661 1417081.19385409 1448735.913652\n",
      " 1397511.98183639 1455352.28446974 1504050.11466377 1549602.07735933\n",
      " 1594072.22320876 1638552.17226732 1684273.26074193 1731270.12057536\n",
      " 1779578.35005746 1829234.54078948 1880276.30540081 1932742.30603904\n",
      " 1986672.28365504 2042107.08810522 2099088.70909364 2157660.30797763\n",
      " 2217866.2504608  2279752.14019835 2343364.85334008 2408752.57403719\n",
      " 2475964.83093995 2545052.53471369 2616068.01660168 2689065.06806397\n",
      " 2764098.98152235 2841226.59224218 2920506.32138292 3001998.22024985\n",
      " 3085764.01578064 3171867.15730103 3260372.86458528]\n",
      "firm 1 market share [0.47717172]\n",
      "firm 2 market share [0.52282828]\n"
     ]
    }
   ],
   "source": [
    "## Get freight ratio for passethrough\n",
    "beta_sim = game_config.get_freight_rate_ratio()\n",
    "\n",
    "# Get market demand  \n",
    "market_demand_sim, gdp_sim, market_psy_sim = game_config.get_market_demand()\n",
    "print(\"market demand\", market_demand_sim)\n",
    "\n",
    "# Get each firm's  market share  \n",
    "firm_1_market_share_sim = firm_1.get_market_share(game_config)\n",
    "print(\"firm 1 market share\", firm_1_market_share_sim)\n",
    "\n",
    "firm_2_market_share_sim = firm_2.get_market_share(game_config)\n",
    "print(\"firm 2 market share\", firm_2_market_share_sim)"
   ]
  },
  {
   "cell_type": "markdown",
   "metadata": {},
   "source": [
    "### Graphing Market Demand:"
   ]
  },
  {
   "cell_type": "code",
   "execution_count": 14,
   "metadata": {},
   "outputs": [
    {
     "data": {
      "image/png": "[encoded data removed]",
      "text/plain": [
       "<Figure size 432x288 with 1 Axes>"
      ]
     },
     "metadata": {},
     "output_type": "display_data"
    },
    {
     "data": {
      "image/png": "[encoded data removed]",
      "text/plain": [
       "<Figure size 432x288 with 1 Axes>"
      ]
     },
     "metadata": {},
     "output_type": "display_data"
    }
   ],
   "source": [
    "#======> Plotting BAU GDP,2016=100\n",
    "sns.set()\n",
    "ax=sns.lineplot(x=year ,y =gdp_sim, color = 'red')\n",
    "ax.set(xlabel='year', ylabel='GDP')\n",
    "plt.title(\"BAU GDP,2016=100\" )\n",
    "plt.show()\n",
    "\n",
    "#======> Plotting Market Demand Projections in BAU senario: Y\n",
    "ax=sns.lineplot(x=year ,y = market_demand_sim, color = 'green')\n",
    "ax.set(xlabel='year', ylabel='transport work in TEU')\n",
    "plt.title(\"market demand in TEU \" )\n",
    "plt.show()\n",
    "\n",
    "#======> Plotting Marketshare per firm\n",
    "\n"
   ]
  },
  {
   "cell_type": "markdown",
   "metadata": {},
   "source": [
    "# 4. Compute BAU Pollution Stock"
   ]
  },
  {
   "cell_type": "markdown",
   "metadata": {},
   "source": [
    "## a. Firm 1:"
   ]
  },
  {
   "cell_type": "code",
   "execution_count": 15,
   "metadata": {},
   "outputs": [
    {
     "name": "stdout",
     "output_type": "stream",
     "text": [
      "firm 1 demand [ 622126.94141414  657835.26161767  676191.06664311  691295.80364566\n",
      "  666853.19214092  694452.94867021  717690.17592643  739426.28418641\n",
      "  760646.18004426  781870.75371625  803687.56401464  826113.13632303\n",
      "  849164.45713853  872858.98693833  897214.6734054   922249.96502307\n",
      "  947983.82504913  974435.7458797  1001625.76381397 1029574.47423094\n",
      " 1058303.04718958 1087833.24346435 1118187.43102814 1149388.60199512\n",
      " 1181460.39003639 1214427.08828156 1248313.66771983 1283145.79611457\n",
      " 1318949.85744561 1355752.97189415 1393583.01638514 1432468.64570306\n",
      " 1472439.31419674 1513525.29808991 1555757.71841423]\n",
      "firm 1 ship energy [0.00053659]\n"
     ]
    }
   ],
   "source": [
    " # 7.Get firm passthrough parameter\n",
    "firm_1_psy_sim = firm_1.get_firm_param(game_config)\n",
    "\n",
    "# 7.Get firm level demand  \n",
    "firm_1_demand_sim = firm_1.get_firm_demand(game_config)\n",
    "print(\"firm 1 demand\", firm_1_demand_sim)\n",
    "    \n",
    "# 9.Get ship energy efficiency  \n",
    "firm_1_ship_energy_sim = firm_1.get_ship_energy_efficiency(game_config)\n",
    "print(\"firm 1 ship energy\", firm_1_ship_energy_sim)"
   ]
  },
  {
   "cell_type": "code",
   "execution_count": 16,
   "metadata": {},
   "outputs": [
    {
     "data": {
      "image/png": "[encoded data removed]",
      "text/plain": [
       "<Figure size 432x288 with 1 Axes>"
      ]
     },
     "metadata": {},
     "output_type": "display_data"
    }
   ],
   "source": [
    "#======> Plotting The firm's \n",
    "ax=sns.lineplot(x=year ,y = firm_1_demand_sim , color = 'green')\n",
    "ax.set(xlabel='year', ylabel='transport work in TEU')\n",
    "plt.title(\"firm 1 level demand in TEU \" )\n",
    "plt.show()"
   ]
  },
  {
   "cell_type": "markdown",
   "metadata": {},
   "source": [
    "## b. Firm 2"
   ]
  },
  {
   "cell_type": "code",
   "execution_count": 17,
   "metadata": {},
   "outputs": [
    {
     "name": "stdout",
     "output_type": "stream",
     "text": [
      "firm 2 demand [ 681653.05858586  720778.00891894  740890.12721099  757440.11000634\n",
      "  730658.78969547  760899.33579953  786359.93873734  810175.79317292\n",
      "  833426.0431645   856681.41855108  880585.6967273   905156.98425233\n",
      "  930413.89291893  956375.55385115  983061.63199541 1010492.34101596\n",
      " 1038688.45860591 1067671.34222552 1097462.94527966 1128085.83374669\n",
      " 1159563.20327122 1191918.89673401 1225177.42231195 1259363.97204207\n",
      " 1294504.44090355 1330625.44643213 1367754.34888185 1405919.27194941\n",
      " 1445149.12407673 1485473.62034803 1526923.30499777 1569529.57454679\n",
      " 1613324.7015839  1658341.85921112 1704615.14617105]\n",
      "firm 2 ship energy [0.00061541]\n"
     ]
    }
   ],
   "source": [
    "# 7.Get firm passthrough parameter\n",
    "firm_2_psy_sim = firm_2.get_firm_param(game_config)\n",
    "\n",
    "# 7.Get firm level demand  \n",
    "firm_2_demand_sim = firm_2.get_firm_demand(game_config)\n",
    "print(\"firm 2 demand\", firm_2_demand_sim)\n",
    "\n",
    "\n",
    "# 9.Get ship energy efficiency  \n",
    "firm_2_ship_energy_sim = firm_2.get_ship_energy_efficiency(game_config)\n",
    "print(\"firm 2 ship energy\", firm_2_ship_energy_sim)"
   ]
  },
  {
   "cell_type": "code",
   "execution_count": 18,
   "metadata": {},
   "outputs": [
    {
     "data": {
      "image/png": "[encoded data removed]",
      "text/plain": [
       "<Figure size 432x288 with 1 Axes>"
      ]
     },
     "metadata": {},
     "output_type": "display_data"
    }
   ],
   "source": [
    "#======> Plotting The firm's \n",
    "ax=sns.lineplot(x=year ,y = firm_2_demand_sim , color = 'green')\n",
    "ax.set(xlabel='year', ylabel='transport work in TEU')\n",
    "plt.title(\"firm 2 level demand in TEU \" )\n",
    "plt.show()"
   ]
  },
  {
   "cell_type": "markdown",
   "metadata": {},
   "source": [
    "## c. Compute BAU emissions throughout the planning horizon"
   ]
  },
  {
   "cell_type": "code",
   "execution_count": 19,
   "metadata": {},
   "outputs": [],
   "source": [
    "#Faster method for sovling the problem\n",
    "# MarketConfig.T = 2\n",
    "# results = {(my_period_index,\"firm\" + str(firm_object.index)): \n",
    "#            run_evolution(populate_func = partial(generate_population,\n",
    "#                                                  size=50,\n",
    "#                                                  chromo_lower_bound = firm_object.min_speed ,\n",
    "#                                                  chromo_upper_bound = firm_object.max_speed),\n",
    "#                          fitness_func = partial(fitness,\n",
    "#                                                 firm = firm_object,\n",
    "#                                                 sim_game = game_config,\n",
    "#                                                 max_number_of_vessel = firm_object.max_number_of_vessel,\n",
    "#                                                 period_index = my_period_index),\n",
    "#                          generation_limit = 100,\n",
    "#                          number_of_similarity = 30,\n",
    "#                          mutation_func = partial (mutation,\n",
    "#                                                   variance = 0.009,\n",
    "#                                                   chromo_lower_bound =  firm_object.min_speed,\n",
    "#                                                   chromo_upper_bound= firm_object.max_speed, \n",
    "#                                                   probability = 0.5)\n",
    "#                         ) \n",
    "#            for my_period_index in range(MarketConfig.T)\n",
    "#            for firm_object in (Firm._registry)}\n",
    "# results[(1, 'firm1')]"
   ]
  },
  {
   "cell_type": "code",
   "execution_count": 20,
   "metadata": {},
   "outputs": [],
   "source": [
    "def BAU_emissions_period(p_index):\n",
    "    \"\"\"results_period: dict index by firm1, .., firmn contains ganeration vessel speed,\n",
    "        p_index>= 1,..\"\"\"\n",
    "    results_period = {}\n",
    "    optimum_solution_period ={}\n",
    "    carbon_industry_emission_period = 0\n",
    "    sulfur_industry_emission_period = 0\n",
    "    for firm_object in (Firm._registry):\n",
    "        results  = run_evolution(populate_func = partial(generate_population,\n",
    "                                                 size=50,\n",
    "                                                 chromo_lower_bound = firm_object.min_speed ,\n",
    "                                                 chromo_upper_bound = firm_object.max_speed),\n",
    "                         fitness_func = partial(fitness,\n",
    "                                                firm = firm_object,\n",
    "                                                sim_game = game_config,\n",
    "                                                max_number_of_vessel = firm_object.max_number_of_vessel,\n",
    "                                                period_index = my_period_index),\n",
    "                         generation_limit = 100,\n",
    "                         number_of_similarity = 30,\n",
    "                         mutation_func = partial (mutation,\n",
    "                                                  variance = 0.009,\n",
    "                                                  chromo_lower_bound =  firm_object.min_speed,\n",
    "                                                  chromo_upper_bound= firm_object.max_speed,\n",
    "                                                  probability = 0.5)\n",
    "                        )\n",
    "        \n",
    "        results_period[\"firm\" + str(firm_object.index)] = results\n",
    "        \n",
    "        # Store Optimum Solution table     \n",
    "        optimum_solution_period[\"firm\" + str(firm_object.index)] = results_period[\"firm\" + str(firm_object.index)].iloc[[-1]]\n",
    "\n",
    "        # Compute industry level BAU emissions\n",
    "        carbon_industry_emission_period += optimum_solution_period[\"firm\" + str(firm_object.index)][\"Carbon Emissions\"].values\n",
    "        sulfur_industry_emission_period += optimum_solution_period[\"firm\" + str(firm_object.index)][\"Sulfur Emissions\"].values\n",
    "        #print(\"carbon_industry_emission_period\")\n",
    "    #print(carbon_industry_emission_period)\n",
    "    return results_period, optimum_solution_period, carbon_industry_emission_period, sulfur_industry_emission_period"
   ]
  },
  {
   "cell_type": "code",
   "execution_count": 21,
   "metadata": {},
   "outputs": [
    {
     "name": "stdout",
     "output_type": "stream",
     "text": [
      "[array([25.86137888]), array([15.65091695]), array([23.96731397]), array([25.64894475]), array([26.816123]), array([21.93698381]), array([28.82224698]), array([27.39162077]), array([27.44647343]), array([28.40957306]), array([13.92308734]), array([13.56997622]), array([18.67281915]), array([21.37968059]), array([23.91009003]), array([28.34996211]), array([27.70744664]), array([29.49792978]), array([22.94826033]), array([25.46716769]), array([21.57436587]), array([17.43087364]), array([21.37060305]), array([19.84762915]), array([21.76174699]), array([16.14665446]), array([13.58273898]), array([18.39846147]), array([13.4675937]), array([15.83460894]), array([18.44544008]), array([18.40151075]), array([28.99942571]), array([13.80798711]), array([23.84195201]), array([25.00555938]), array([15.38299754]), array([18.93787435]), array([22.72937228]), array([14.40342845]), array([26.83623666]), array([27.87368372]), array([26.34073294])]\n",
      "[array([13.80798711]), array([13.4675937]), array([24.46941964]), array([30]), 28.248300714653265, array([16.54536385]), 17.128641257688763, array([23.60938543]), array([23.79212934]), 19.138731247047957, array([17.70344232]), array([26.23948828]), 20.769822843063572, array([21.36749046]), 21.650146089734765, 26.815813887328417, 22.73092984743994, array([20.66190433]), 20.076385616264197, array([13.25279913]), 18.644964405948883, array([14.97125738]), 13.095477317070145, array([19.79336398]), array([23.32299384]), 26.669397410738622, array([20.05928198]), 16.86244157641628, array([18.83569281]), array([19.23113671]), array([16.9225999]), 29.617642845724554, 20.97485704888006, 20.519938246942484, array([26.65792388]), array([26.76252883]), array([20.20445128]), 18.757954291114636]\n",
      "[array([13.25279913]), array([13.80798711]), array([15.44629545]), array([17.71211222]), 16.449602684257396, 28.4755998712016, array([15.41416897]), 15.389897551698354, 16.920453983103513, 16.881659908072383, 22.270375624671267, array([23.66468723]), 20.86859511829276, 18.657906345088875, array([22.97713689]), array([20.29678547]), 21.324216211614853, 20.061558153990923, array([21.74601962]), array([17.77040322]), array([16.26321366]), 22.70358582521365, array([14.98614705]), 15.79923383118755, 18.344461094846444, array([24.11556395]), 15.818824276963271, array([22.36207265]), array([22.73509928]), array([18.9778327]), array([14.59382369]), 12.907645580321105, 17.075199086812766, 17.165045570017295, 15.061374949149014, 17.27765499201969, 27.959247708895997]\n",
      "[array([13.25279913]), 12.907645580321105, 24.303402909311416, array([17.63364563]), array([17.00265381]), array([27.6023996]), array([18.76890354]), 16.117830753099895, 15.977952299704459, array([22.41030375]), array([23.64989041]), 15.046041007858772, array([16.34631236]), 17.129101078172983, array([17.07881794]), 17.071314630010132, 24.672116995861607, 16.469025329964367, array([17.86559223]), 15.367279463512109, array([17.78247729]), 22.845610105103155, array([19.89964054]), array([28.62242014]), array([30]), array([16.88586089]), 17.5446185043302, 13.196809816377508, 19.58165777870482, 13.658521303558178, array([14.2746698]), 17.034590008559572, 17.157321247941354]\n",
      "[13.658521303558178, array([13.25279913]), 15.63503303170474, array([16.84647475]), array([13.08140764]), 13.568564345893327, 13.694325968122842, 16.01423911531463, 21.25594913737554, array([24.30457977]), array([15.20299557]), array([13.49473031]), array([14.07610498]), 14.027337366198775, array([17.92235031]), array([17.5526919]), array([16.41991541]), array([15.77285303]), 17.212711891588235, array([15.76317545]), array([20.09994802]), array([17.23806171]), array([17.08697334]), 18.937877518788873, 15.376978953824107, 19.968995975412746, 12.71587777366452, 18.29955927807677, 15.401681634635235, 17.454510695203602, 17.565242652314375]\n",
      "[14.027337366198775, 13.658521303558178, 15.700954262452415, 14.544655939800903, 12.25380547286781, 13.678596995558404, array([15.47241489]), array([19.49696474]), array([15.59669764]), array([13.00877876]), 15.370200993500799, 20.735065370833855, 18.76728367833901, array([19.03924981]), 12.534937336689259, 19.4752154915706, array([14.31289202]), 14.320083660551273, 15.715277572807887, array([15.65316157]), 15.629672805238846, array([14.5309428]), 13.141468475069244, array([13.22964105]), 26.012684267477802, 25.934620930665595, array([17.96775902]), 16.22681076266558, array([20.38581811])]\n",
      "[14.027337366198775, 13.658521303558178, 16.090206861218398, array([13.59475514]), 18.35495112444582, 15.039803581892897, array([14.49429982]), array([12.4811789]), 13.065489231640024, 13.542395222476124, 19.533033810306627, array([19.11691637]), 20.408213370035696, array([14.20169359]), 14.94978431248422, array([18.73318532]), 15.698012024362592, 15.72050095227783, 28.420228003473376, array([15.52526743]), 15.114990822271878, array([12.61539621]), 12.454371375752622]\n",
      "[14.027337366198775, 13.658521303558178, array([15.58814163]), 20.035979728046417, array([16.09900889]), array([14.02077964]), 12.276756361918297, array([15.14719211]), array([15.12325215]), array([13.78153888]), array([13.39660175]), array([14.97990911]), array([16.13187805]), 13.162612102951622, 13.237418080821223, array([30]), array([30]), 15.742762903633338, 15.92240502271705, array([13.58090007]), 12.605304439997797]\n",
      "[array([14.02077964]), 14.027337366198775, 12.71602916610368, array([18.7073684]), 20.978111870709157, 21.980227123680027, 19.41365425694758, array([15.70808313]), array([16.00860703]), array([15.34571224]), array([16.38013449]), 16.311920058480958, array([15.95197695]), 16.433972073259635, array([30]), 13.573750274572046, array([12.7040509]), array([15.90058337]), array([15.1707082])]\n",
      "[array([14.02077964]), 14.027337366198775, 21.441249276159848, 14.544567130324022, array([15.20070508]), array([15.47085112]), array([19.91489659]), array([30]), array([17.10571324]), 17.058780636603476, array([23.73858221]), 23.90584653891234, 16.36412049539643, 16.302412768441247, array([22.29585398]), 22.765267134435057, 13.286374388163015, 15.39209731807459]\n",
      "[array([14.02077964]), 14.027337366198775, array([15.93987146]), 23.44010778921995, 12.556718050163873, 26.28694135208373, 15.358268870777499, array([17.12294002]), array([16.02644569]), array([25.12171029]), array([20.49673663]), 23.611376077384886, array([20.78847785]), array([24.56990516]), 15.488832216492671, array([18.35019696]), 16.986970159975396]\n",
      "[array([14.02077964]), 14.027337366198775, 14.783272343006534, array([19.02074485]), 16.191021043884668, array([17.69647555]), 16.35182332609595, array([15.43985585]), 22.930691047996213, 15.105344642668753, 26.289908233544608, 16.259286138785985, 17.167113239538317, 23.81266489713106, 24.81233792054679]\n",
      "[array([14.02077964]), 14.027337366198775, 23.465619761774914, array([21.68244894]), 16.549774751140692, array([15.17342374]), 16.864651610745746, array([26.93532713]), 14.975602644384054, 14.341652200426283, 23.290961969114488, array([16.24183988]), 16.28835551172842]\n",
      "[array([14.02077964]), 14.027337366198775, 16.937136985900015, 16.667056199438594, array([14.9899298]), array([28.34563255]), 15.092783035117101, 13.97233052119872, array([20.98260879]), array([15.86663202]), array([30]), array([18.10730796])]\n",
      "[array([14.02077964]), 14.027337366198775, array([28.91862548]), 25.033933380862134, 20.30416543534502, 29.809756826040136, array([17.94888793]), array([18.13534062]), array([26.7350532]), array([23.3083222]), 14.023953839845031, array([14.01339793])]\n",
      "[array([14.01339793]), array([14.02077964]), array([30]), 14.023935712233909, array([14.01995071]), array([19.69200739]), 22.372789171614663, 25.17782412485802, 21.661820826236944, 21.67249928757273, 20.88563636854408]\n",
      "[array([14.01339793]), array([14.01995071]), 23.35816184164553, array([14.02144252]), array([14.02808229]), 17.968520767604453, 25.476389944885042, 23.30915329345058, array([25.14066526])]\n",
      "[array([14.01339793]), array([14.01995071]), 18.493820645802977, 21.463855467655314, array([26.09551206]), 29.25343604280324, 21.204202276166924]\n",
      "[array([14.01339793]), array([14.01995071]), array([23.92573164]), array([20.17032905]), array([21.50408214]), 21.306024473162314]\n",
      "[array([14.01339793]), array([14.01995071]), 21.63374204302391, array([20.08924098]), array([22.27993988]), 22.85094178877282]\n",
      "[array([14.01339793]), array([14.01995071]), 14.011635657094054, array([13.99869413]), 22.0438272034691, 22.894574659018765]\n"
     ]
    },
    {
     "name": "stdout",
     "output_type": "stream",
     "text": [
      "[array([14.01339793]), array([14.01995071]), 13.996629804343689, array([13.98765402]), array([23.55430963]), array([21.39064907])]\n",
      "[array([14.01339793]), array([14.01995071]), array([21.0954772]), array([19.41337461]), 20.387923954249235]\n",
      "[array([14.01339793]), array([14.01995071]), 23.60714546199214, array([22.66628258])]\n",
      "[array([14.01339793]), array([14.01995071]), 22.198148448307183, 22.995889978196978]\n",
      "[array([14.01339793]), array([14.01995071]), 21.081265703545316, 14.71532057861818]\n",
      "[array([14.01339793]), array([14.01995071]), 13.2827072447254, 22.23587546358093]\n",
      "[array([14.01339793]), array([14.01995071]), array([16.97639804])]\n",
      "[array([14.01339793]), array([14.01995071])]\n",
      "[array([14.01339793]), array([14.01995071])]\n",
      "[array([14.01339793]), array([14.01995071])]\n",
      "[array([14.01339793]), array([14.01995071])]\n",
      "[array([14.01339793]), array([14.01995071])]\n",
      "[array([14.01339793]), array([14.01995071])]\n",
      "[array([14.01339793]), array([14.01995071])]\n",
      "[array([14.01339793]), array([14.01995071])]\n",
      "[array([14.01339793]), array([14.01995071])]\n",
      "[array([14.01339793]), array([14.01995071])]\n",
      "[array([14.01339793]), array([14.01995071])]\n",
      "[array([14.01339793]), array([14.01995071])]\n",
      "[array([14.01339793]), array([14.01995071])]\n",
      "[array([14.01339793]), array([14.01995071])]\n",
      "[array([14.01339793]), array([14.01995071])]\n",
      "[array([14.01339793]), array([14.01995071])]\n",
      "[array([16.09919844]), array([17.20637916]), array([24.48921386]), array([22.25399501]), array([28.00956982]), array([18.43128655]), array([23.67511721]), array([28.33423967]), array([12.24459869]), array([17.39708898]), array([25.75581732]), array([15.03976165]), array([26.20718955]), array([19.52549403]), array([19.04683463]), array([13.90064057]), array([12.45460131]), array([19.48036102]), array([28.88366758]), array([12.54853656]), array([24.32606918]), array([14.95850337]), array([26.5357233]), array([29.60803689]), array([28.20669384]), array([14.94628302]), array([23.02311102]), array([15.0931254]), array([14.9973698]), array([25.58990309]), array([14.588109]), array([12.91890362]), array([27.80232179]), array([25.1825974]), array([23.91679691]), array([21.37022168]), array([15.43958817]), array([12.34978341]), array([20.4370624]), array([23.38117496]), array([25.49870774]), array([19.00729625]), array([28.84984671]), array([25.15348452]), array([27.65907089]), array([14.59472944])]\n",
      "[array([12.91890362]), array([12.54853656]), array([24.03250528]), array([24.19685442]), array([20.83360106]), array([17.85087801]), 25.435721307349773, array([28.09725049]), array([27.68984173]), array([28.21966357]), 29.961138299734237, 28.445262846054423, 27.846597194380784, array([18.60796046]), array([18.49675091]), array([15.58401211]), array([15.18073371]), array([23.90379826]), array([19.03623331]), array([12.90814179]), array([12.27708697]), 29.184716498082196, 24.668679265520122, 24.93161771413323, array([18.15632477]), 22.72857745667856, 23.46483436073872, 25.466487211664244, array([14.76978581]), 25.137813985943303, array([25.43089392]), 21.449626608825806, 20.25839598485807, 19.162321928801102, array([15.89023743]), array([15.28657258]), 15.487475773866851, array([26.30762041]), array([13.88533186]), 28.585322683627677, array([27.9305816]), array([13.51036915])]\n",
      "[array([12.90814179]), array([12.91890362]), 22.898793830774363, array([29.15243418]), array([14.94389796]), 14.703158423872363, 28.56418338714375, array([28.55487063]), array([20.61095083]), 18.497057640406496, 24.974355343122184, array([27.98153665]), 14.617792573978184, 14.604163388779426, 26.745883844067315, array([23.84458397]), array([13.53925966]), 16.455047474471602, array([25.1838852]), array([23.35839923]), array([25.42232712]), 25.43525253893203, array([19.87858798]), array([19.03086073]), 27.994789445657545, array([30]), 20.1602749963569, array([18.05718161]), 17.788395142149902, 22.215598486278708, 29.034031469808216, array([27.58388147]), 24.596359719623287, 18.735662429125426, 26.763625455118856, array([20.87823529]), array([16.7971842]), array([19.494414]), 12.61539107826465, array([12.76996042]), 27.54704330454168]\n",
      "[array([12.90814179]), array([12.91890362]), array([20.13894964]), 17.39445426463393, array([16.814429]), array([15.48097963]), 24.238478480159213, 22.97533460653021, 18.362941484446182, array([30]), array([17.17722541]), array([30]), 25.97393504366778, array([19.33239333]), 19.004228523981066, 18.54093194432298, array([19.34983788]), array([18.10837569]), array([26.41027963]), array([30]), array([20.07899107]), 26.83989206274662, array([17.57164636]), 28.05071484931053, 28.28139102207283, array([18.16521716]), array([29.38955684]), array([16.6511525]), array([18.49361564]), array([29.02359095]), array([27.25565092]), 25.12347991664382, 26.57014690425994, array([20.63907694]), 25.06797704538249, array([23.93692717]), 26.501052962732658, 28.05843816983994, 19.656357088987924]\n",
      "[array([12.90814179]), array([12.91890362]), array([28.75505894]), array([29.66149883]), 14.444943786990311, 16.219884250454527, 18.001746306428917, 20.35617736447945, 29.934183697536344, 21.20155263640424, 16.983955422578184, 26.697345567097283, array([25.82146515]), array([25.90606695]), array([17.8467359]), array([17.74829494]), array([27.51543407]), 17.663618358561838, array([30]), 13.945846797927983, array([21.53730606]), 20.110278881402138, 21.90169502026751, array([18.45178386]), array([18.53476234]), 24.786435695562474, array([26.95306275]), 29.525726449988866, array([13.21991591]), 20.630549327375856, array([30]), 22.714989322628945, 16.002123559945478, array([28.7485125]), 17.35027448168839, array([16.55157404])]\n",
      "[array([12.90814179]), array([12.91890362]), 21.47882277619751, 23.48681951454994, 24.70501973312099, array([30]), 27.176975182500545, 26.255491381056757, array([28.75095696]), array([28.76179222]), array([27.17487825]), 20.438056068624196, array([14.74467613]), 13.572847460457647, 25.52330232046792, array([13.76110067]), 12.898741710303806, array([16.13257856]), array([27.13240519]), 19.843390535498237, 21.33898953069857, array([22.7643333]), 26.34799519564959, 20.558590309862982, 18.44951151541713, 13.197030651198864, array([19.01786635]), 29.779089364738674, 17.272959110233117, 23.610184142740504, array([30]), 19.601512960909343, 20.772612869466307]\n",
      "[12.898741710303806, array([12.90814179]), 24.261949638134823, array([30]), array([29.50408648]), array([29.16540593]), array([22.39535678]), array([26.24000229]), array([20.25130758]), 29.02257745339739, 26.06512086043169, array([26.30385053]), 19.722269242081982, 19.87657680765062, 22.570180609166997, array([21.01500578]), 23.346774929269642, array([19.07941498]), array([20.45840529]), array([20.77342699]), 20.729672576997682, 22.450461151126042, 21.966574064953235, array([18.03339614]), 20.05074183850078, 27.622007245920653, array([16.11259626]), 15.228465874639191, array([14.13546493]), 14.915439294096421]\n",
      "[12.898741710303806, array([12.90814179]), array([15.12339614]), 15.661628354479376, 20.87314366030221, array([20.88970616]), array([25.74248532]), 23.20753932081849, array([26.97384794]), array([28.69003113]), array([17.78800024]), array([26.62320638]), 21.727011070489134, array([19.01251579]), array([13.53807251]), array([23.03944022]), array([13.06462707]), 14.254030568244211, array([25.15835601]), array([30]), array([15.3741199]), array([21.38049481]), array([30]), array([30]), array([26.35971328]), 18.777367609483186, array([25.30428741]), array([25.38994363]), 27.157527737669298, array([25.64239021])]\n",
      "[12.898741710303806, array([12.90814179]), array([16.0196437]), 19.459944568274693, array([26.34345499]), array([27.13598391]), array([16.88519552]), 14.774736818992658, array([18.18428731]), 16.863840515092946, 21.584415112643164, 16.042754606506527, array([14.0707671]), 14.793466940529859, 25.95282509466924, array([26.01641827]), array([17.15056941]), array([30]), array([27.95990996]), array([30]), 26.54164305231267, 17.67233658025846, 15.676153999573296, 19.17036164056487, 29.20920136939268, array([22.28784003]), array([30]), 26.814782740248923]\n",
      "[12.898741710303806, array([12.90814179]), array([20.96365669]), array([21.569598]), 22.980943239961704, array([19.17690032]), array([17.70930291]), 15.375591165307895, 13.758793782489462, array([21.67179334]), 18.962727817231084, 19.49417381691079, 19.001374697349313, array([21.97999079]), 13.268921141517833, 24.54329695018051, 27.138984581799328, 18.047015531380442, 15.449151230144345, array([13.8385032]), array([17.39602157]), array([17.3728137]), array([28.84481961]), array([27.28130913]), array([26.31731946]), array([26.49682707])]\n",
      "[12.898741710303806, 13.268921141517833, array([22.70000655]), array([30]), 16.72512235593125, array([16.98075178]), 15.464058331774098, 18.572652188126536, 21.03437006626146, array([14.34356303]), array([15.10375725]), 24.936044459583186, array([12.3432998]), 17.126361211227174, array([20.64849686]), array([21.80516018]), 21.362649018148282, array([19.99021797]), array([18.54023984]), 13.897785872628925, array([19.94673021]), 23.08697506177096, 13.34331948984388, array([24.18447575]), array([23.82099006])]\n",
      "[12.898741710303806, 13.268921141517833, 22.606860146015407, array([15.5816858]), array([15.16959888]), 19.395904901589983, array([15.69868395]), 23.813987804273403, array([16.10397662]), array([30]), array([12.4642204]), array([16.75619428]), 19.895898219293393, array([13.66929417]), 13.789997824511953, array([14.93117463]), array([16.84409071]), array([16.98049722]), 15.193740917097088, 16.140638014483788, 19.555107446061598, array([14.46425536])]\n",
      "[12.898741710303806, 13.268921141517833, array([17.82370668]), 17.865184138674458, 15.822824681895694, array([14.81024303]), array([20.69011602]), 18.139713766559026, 13.961762980063234, 14.515629754709902, 17.53823940753443, array([12.74496034]), 16.33887666474921, array([16.94653759]), 14.349549093803045, array([13.27752952]), 19.613965027949895, 15.956285948227654, 15.742533736743066, 16.403633499193393, array([20.62169936])]\n",
      "[12.898741710303806, 13.268921141517833, array([16.68291652]), array([16.39016114]), 19.174728704223632, array([17.20038257]), array([23.8274415]), 16.73740441878068, 14.336399281332268, 19.029377747506878, 16.189238099599965, 14.28781127235257, 17.67441927063385, array([17.70718629]), array([19.22331324]), 17.329281725806506, 18.614698612997284, 14.265728931687518, array([16.25139225])]\n",
      "[12.898741710303806, 13.268921141517833, array([12.81235257]), 25.458135185999147, 17.037970517155948, 12.816069977938835, array([14.02798245]), array([14.66551266]), array([16.2936573]), array([16.27475449]), 13.272618072290442, 14.520450843343784, 14.3782501904977, 15.958546335522149, 16.784201540486954, 15.655305637214315, 13.869994747412111]\n",
      "[12.898741710303806, 13.268921141517833, 17.011578350253277, 13.203449303615653, array([14.29551243]), array([15.39450455]), 17.350985410297334, 13.788923121064194, array([16.23344166]), 12.881579307330572, array([14.16080979]), 14.49692596277543, 14.48825657020693, array([13.69579987]), 13.507393626685708]\n",
      "[12.898741710303806, 13.268921141517833, array([15.21056311]), array([15.96167395]), array([14.136237]), 17.524759083521396, array([13.69018648]), array([14.45016317]), array([16.49315336]), array([15.12746561]), array([13.66423236]), array([13.28482136]), array([16.94297567])]\n",
      "[12.898741710303806, 13.268921141517833, 15.333192613954248, 15.425971066852577, 15.930204841257023, array([16.09979085]), 16.611975229557665, array([16.07593121]), 14.201802491306628, 13.383706622649212, array([17.6655483]), array([13.67749005])]\n",
      "[12.898741710303806, 13.268921141517833, 13.718227496742179, array([14.29919195]), array([13.93228149]), array([15.36277233]), array([15.87120519]), array([16.03123961]), array([15.76372432]), 15.193284098230489, 16.084233113744855, array([16.07490422])]\n",
      "[12.898741710303806, 13.268921141517833, 13.751361241341208, array([14.62100347]), 13.146829391589485, 14.10875733791411, array([15.93256529]), 14.035140567262653, 15.966626429623803, array([16.11122093]), 14.236776753571354, array([14.26281072])]\n"
     ]
    },
    {
     "name": "stdout",
     "output_type": "stream",
     "text": [
      "[12.898741710303806, 13.268921141517833, array([16.98648866]), array([16.80039537]), array([13.69154158]), 13.700012133524906, array([16.05722045]), array([17.32671884]), 15.535288681977118, 12.816176046645428, 15.252152215846346]\n",
      "[12.898741710303806, 13.268921141517833, array([12.96262309]), 13.070616427367161, 13.18134658520555, 13.221036524223297, array([13.42200406]), array([15.59563489]), array([17.45822255])]\n",
      "[12.898741710303806, 13.268921141517833, 12.844361053155593, 12.977555640911321, array([13.71930114]), 16.028482290855706, 13.466828485527797, array([13.20121926])]\n",
      "[12.898741710303806, 13.268921141517833, 13.745066416140242, 13.18556118046882, array([12.75565403]), array([13.19603764]), 12.892421328908602, array([12.48300238])]\n",
      "[12.892421328908602, 12.898741710303806, 12.499861861678324, array([12.99139321]), 12.801329232718984, 13.389838836820324, 12.775682865499169, 12.917302111739817]\n",
      "[12.892421328908602, 12.898741710303806, 12.381111207151688, 12.725010858710217, array([12.74807333]), array([13.50713852]), 12.824474212421247, array([12.38079697])]\n",
      "[12.892421328908602, 12.898741710303806, array([12.60964387]), array([12.79610191]), 13.25867965015729, 13.798209905153836, array([13.04832964]), 12.835515724526879]\n",
      "[13.25867965015729, 12.892421328908602, 13.012540401530883, array([12.92546636]), array([12.68118999]), 13.151309002017799, 13.150566070885757, array([13.0610379])]\n",
      "[13.25867965015729, 12.892421328908602, 13.018321026541717, array([13.08413134]), array([13.03239757]), array([12.61800652]), array([12.97007144]), array([13.17042657])]\n",
      "[13.25867965015729, 12.892421328908602, 13.085062211342493, 13.098191891116869, 13.06740037604002, array([12.95435815]), array([13.0499148]), array([13.0485175])]\n",
      "[13.25867965015729, 12.892421328908602, 13.092802280178484, 13.048777991249121, 12.852438313414863, array([12.94399096]), 12.986636792979821, array([13.03325203])]\n",
      "[13.25867965015729, 12.892421328908602, array([12.86538965]), array([12.90892631]), array([12.98748576]), array([12.87689017]), array([12.84724003]), array([12.79520809])]\n",
      "[13.25867965015729, 12.892421328908602, 12.878205069690921, 12.864164786118673, 12.97606112907537, array([13.00120882]), array([12.87397614]), 12.866895519016877]\n",
      "[13.25867965015729, 12.892421328908602, 13.310781413672544, array([13.26037486]), 12.8893226956944, 12.99151047393995, 12.979653952688464, 12.999616761126319]\n",
      "[13.25867965015729, 12.8893226956944, 12.908684848087196, 13.129441796322457, 13.470904087057411, 13.465617475569426, array([13.17607177]), array([12.88993511])]\n",
      "[13.25867965015729, 12.8893226956944, array([13.37209544]), array([13.15865998]), 13.184129539622463, array([13.24631159]), array([13.18541924]), array([13.62630607])]\n",
      "[array([13.24631159]), 13.25867965015729, array([13.10099628]), 13.089547517003275, array([13.28386091]), array([13.21006609]), 13.692781033210457, 13.8091818340177]\n",
      "[array([13.24631159]), 13.25867965015729, array([13.83964253]), 13.19524921444883, 13.115077904155575, 13.462973123443739, 13.263012867791371, array([13.27888931])]\n",
      "[array([13.24631159]), 13.25867965015729, 13.34769980405216, 13.203694924172272, 13.837557947713044, array([14.00320923]), array([13.31458137]), array([13.12411907])]\n",
      "[array([13.24631159]), 13.25867965015729, array([13.23348992]), array([13.16549258]), 13.139879617726455, 13.263734536709057, 13.266174241893678, array([13.3394059])]\n",
      "[array([13.24631159]), 13.25867965015729, 13.245122607601274, 13.248906927185045, 13.250723626593668, array([13.26004067]), 13.169979126107402, 13.262314435034147]\n",
      "[13.245122607601274, array([13.24631159]), 13.2507219408496, 13.26019461809027, array([13.25149421]), array([13.24368633]), array([13.23664116]), 13.239495728182106]\n",
      "[array([13.24368633]), 13.245122607601274, array([13.24427542]), 13.253860781420856, array([13.23154171]), 13.240035679930733, 13.246860810905467, array([13.24383679])]\n",
      "[array([13.24368633]), array([13.24383679]), 13.24386747738875, 13.24385800386149, array([13.23699861]), 13.244800459676634, 13.24666899400121, 13.254533717823303]\n",
      "[array([13.24368633]), array([13.24383679]), array([13.22671432]), 13.242896700640504, 13.242646254539943, array([13.237807]), 13.239779456688257, array([13.23217206])]\n",
      "[13.242646254539943, 13.242896700640504, 13.239485574017746, array([13.24058567]), 13.227938499234654, array([13.24467644]), array([13.23118266]), array([13.24202785])]\n",
      "[array([13.24058567]), array([13.24202785]), array([13.23445243]), array([13.25575136]), array([13.23197517]), 13.230243011909455, array([13.24805386]), array([13.23860192])]\n",
      "[array([13.24058567]), array([13.24202785]), 13.246174067946912, array([13.23640473]), 13.244415981621954, array([13.25166122]), array([13.23877567]), 13.240941206723711]\n",
      "[array([13.24058567]), 13.240941206723711, 13.239363444883631, array([13.22558398]), array([13.24627239]), array([13.22877887]), array([13.22910866]), array([13.23115075])]\n",
      "[array([13.24058567]), 13.240941206723711, 13.241022226871008, 13.241093471987876, 13.240475630800715, 13.240434837744546, array([13.25699403]), array([13.22407824])]\n",
      "[13.240434837744546, 13.240475630800715, array([13.22956095]), 13.24104489890892, array([13.25807393]), 13.26481920383113, array([13.25089159]), 13.256764457133174]\n",
      "[13.240434837744546, 13.240475630800715, array([13.2397402]), 13.240446512090198, array([13.2328225]), 13.241262659371838, array([13.23509917]), array([13.24120347])]\n",
      "[13.240434837744546, 13.240446512090198, 13.239671928704047, 13.242932194880186, 13.233198223167237, array([13.22018858]), 13.240453236274988, array([13.25058266])]\n",
      "[13.240434837744546, 13.240446512090198, array([13.24348877]), array([13.23436582]), array([13.22404031]), array([13.23467976]), 13.263517441853178, array([13.21445043])]\n",
      "[13.240434837744546, 13.240446512090198, 13.191664565855811, 13.271294585596577, array([13.24795528]), 13.234923579057204, 13.242088437543536, 13.242422255645595]\n",
      "[13.240434837744546, 13.240446512090198, 13.241698980861218, array([13.24430081]), array([13.27177805]), array([13.25124464]), 13.241947982952686, array([13.23703056])]\n",
      "[13.240434837744546, 13.240446512090198, array([13.23798866]), 13.249371990456265, array([13.23240222]), 13.235906990714962, 13.237898225668197, 13.256962967780137]\n",
      "[13.240434837744546, 13.240446512090198, array([13.23366791]), 13.23977846063503, 13.229457355918502, 13.255160353976677, 13.24854855236714, array([13.24292407])]\n",
      "[13.240434837744546, 13.240446512090198, array([13.24383776]), array([13.24160189]), array([13.24443583]), 13.25101914942995, 13.239754306555849, array([13.2347509])]\n",
      "[13.240434837744546, 13.240446512090198, 13.251464585427215, 13.249004111489116, 13.240402965264536, array([13.25350767]), array([13.23264502]), array([13.22839841])]\n",
      "[13.240402965264536, 13.240434837744546, array([13.24603631]), 13.240398502009668, array([13.23267107]), 13.24015830570704, array([13.25433968]), array([13.2642074])]\n",
      "[13.240398502009668, 13.240402965264536, 13.236426982380317, 13.234297907001169, 13.243646446591589, 13.246250360009933, 13.254906672253531, array([13.25939653])]\n",
      "[13.240398502009668, 13.240402965264536, array([13.2717579]), 13.237743123616289, 13.25806860983126, 13.244878023241226, array([13.22479446]), array([13.25748067])]\n",
      "[13.240398502009668, 13.240402965264536, array([13.23274977]), 13.237134876581006, 13.24102709756463, array([13.26864035]), array([13.25072359]), 13.258847165092876]\n",
      "[13.240398502009668, 13.240402965264536, 13.280461833057908, 13.269798758856624, array([13.24185207]), array([13.2216449]), array([13.25308264]), array([13.23459372])]\n",
      "[13.240398502009668, 13.240402965264536, 13.22894111791088, array([13.21675757]), array([13.25564516]), 13.235388667028179, 13.281994441687619, 13.268338850192746]\n",
      "[13.240398502009668, 13.240402965264536, 13.239277402804479, 13.258072392846087, 13.261663011293585, 13.259405863095434, array([13.27210783]), array([13.27976314])]\n",
      "[13.240398502009668, 13.240402965264536, 13.244600456039862, array([13.22465104]), array([13.22105296]), array([13.29335899]), array([13.23011323]), array([13.24983922])]\n",
      "[13.240398502009668, 13.240402965264536, array([13.24716103]), 13.213030034993213, array([13.2482456]), array([13.24555706]), array([13.21691757]), array([13.23465035])]\n",
      "[13.240398502009668, 13.240402965264536, 13.240487185598413, array([13.24075406]), array([13.23290777]), array([13.2448882]), 13.249051763929485, 13.233125624197388]\n",
      "[13.240398502009668, 13.240402965264536, 13.242999321521708, 13.230097547572967, 13.240419545401213, array([13.2498257]), array([13.25057856]), array([13.23820415])]\n",
      "[13.240398502009668, 13.240402965264536, 13.243528339044403, array([13.25323575]), 13.25077682383344, array([13.24564436]), array([13.24415405]), 13.237338723746866]\n",
      "[13.240398502009668, 13.240402965264536, 13.243481961473368, array([13.23933255]), 13.245572505779368, array([13.24430277]), array([13.25700876]), 13.24649065055156]\n",
      "[13.240398502009668, 13.240402965264536, 13.261582657792871, array([13.27602938]), 13.241154588870637, array([13.2249823]), array([13.24473657]), 13.239278882589415]\n",
      "[13.240398502009668, 13.240402965264536, array([13.2415636]), array([13.21702912]), 13.221639861881846, 13.215165196596109, array([13.25500708]), 13.237018846905524]\n",
      "[13.240398502009668, 13.240402965264536, 13.253332790138012, 13.244953717043124, array([13.25955403]), array([13.24528882]), 13.261501438167429, array([13.2553424])]\n",
      "[13.240398502009668, 13.240402965264536, 13.242774708148604, 13.2455971930218, array([13.26463834]), array([13.25426596]), array([13.28326557]), 13.257478165520121]\n",
      "[13.240398502009668, 13.240402965264536, array([13.24694202]), array([13.23198959]), array([13.23809215]), 13.242456976095012, array([13.24247093]), 13.24040095107509]\n",
      "[13.240398502009668, 13.24040095107509, array([13.24210814]), array([13.23796999]), 13.242470225387903, 13.242464991822699, array([13.23322626]), 13.237309486552995]\n",
      "[13.240398502009668, 13.24040095107509, array([13.23157309]), 13.244030888127199, array([13.24636348]), array([13.25727107]), 13.240401746555701, array([13.24156911])]\n",
      "[13.240398502009668, 13.24040095107509, 13.24057501030006, array([13.24498387]), array([13.22198795]), 13.227949039521132, array([13.2383391]), array([13.24474167])]\n",
      "[13.240398502009668, 13.24040095107509, 13.240537608470444, array([13.22924165]), 13.244970939459645, array([13.25320212]), 13.236546182535035, array([13.2357986])]\n",
      "[13.240398502009668, 13.24040095107509, 13.233344521761797, array([13.24313995]), array([13.25088717]), 13.250392812976536, array([13.25536143]), 13.25332180232806]\n"
     ]
    },
    {
     "name": "stdout",
     "output_type": "stream",
     "text": [
      "[13.240398502009668, 13.24040095107509, 13.225851869894218, array([13.27365729]), 13.252253720076514, 13.250284430651325, array([13.25800753]), array([13.22398817])]\n",
      "[13.240398502009668, 13.24040095107509, 13.25317663135696, 13.269089507147056, 13.253878094590306, array([13.2483352]), array([13.22911983]), 13.22624931484899]\n",
      "[13.240398502009668, 13.24040095107509, 13.25509873818155, 13.247085413475256, 13.243319027952197, array([13.21080507]), 13.23208992547058, array([13.26652746])]\n",
      "[13.240398502009668, 13.24040095107509, array([13.25363027]), 13.249594660987311, array([13.22426806]), array([13.24075871]), 13.245020477051751, array([13.253232])]\n",
      "[13.240398502009668, 13.24040095107509, 13.241829219093223, 13.23682408475589, array([13.22838378]), array([13.24733109]), 13.251780932689964, array([13.24865983])]\n",
      "[13.240398502009668, 13.24040095107509, 13.22962059998216, 13.222089796755183, array([13.22526226]), 13.236266077417476, 13.235587926622332, 13.237246749946053]\n",
      "[13.240398502009668, 13.24040095107509, 13.222610617406236, 13.223890511685157, array([13.23405557]), 13.23429650631215, 13.240618702398022, array([13.2426313])]\n",
      "[array([20.66098182]), array([29.10026233]), array([20.61105141]), array([22.43966707]), array([14.09786034]), array([13.32735742]), array([28.36873005]), array([23.72451914]), array([12.89115955]), array([29.78606438]), array([29.46054522]), array([28.65883311]), array([13.98617475]), array([21.77715272]), array([18.9446718]), array([11.92751205]), array([20.26631918]), array([17.45016647]), array([19.88594634]), array([29.58200847]), array([29.06048466]), array([20.70864909]), array([13.33221029]), array([29.80730277]), array([13.03120665]), array([23.79743571]), array([27.70495089]), array([26.57940414]), array([18.53567425]), array([15.17005631]), array([25.53311912]), array([27.20426074]), array([16.23815]), array([29.36983211]), array([19.62190042]), array([11.41930664]), array([11.97123311]), array([13.69129537]), array([29.29053125]), array([15.05684233]), array([29.00159405]), array([22.46882998]), array([28.2229405]), array([17.96426752]), array([14.49958549]), array([18.46140808]), array([19.23359737]), array([28.22939437]), array([10.72472587]), array([22.76554827])]\n",
      "[array([14.09786034]), array([15.17005631]), array([19.34591596]), 16.475689407637702, 14.83792085196631, 13.08210778169002, 16.6893376019685, array([30]), array([18.37954939]), 18.156820397502365, array([12.27051087]), 17.367539093203824, 12.785287164065304, 15.845166369378372, array([14.62575658]), array([12.12542245]), array([10.88395447]), 10.867451486645491, array([30]), 17.75384658878163, array([10]), array([26.4322134]), array([25.25689891]), 26.49832904902647, array([19.33409009]), array([19.66703151]), 12.65563899718644, 12.99219572038074, array([13.05451828]), array([14.18526644]), array([19.76292929]), 19.925992597858766, array([20.17086154]), 28.55442067600074, 16.163730773580397, array([30]), 25.52401721304878, array([28.48637821]), array([30]), 18.89554930252891, 22.131891369276637, 23.888796197889615, 27.353068759478834, 15.392060592279186, 17.709689166557915, array([18.22591691]), 21.113789872145475, 19.768145581494753, array([27.38410087]), 29.854771167069682]\n",
      "[array([14.09786034]), 13.08210778169002, 19.38811637012584, 19.675530352073945, 16.376812628029757, 10.322650417042, array([10]), array([16.59622455]), array([18.24596648]), array([17.47769697]), array([13.55451474]), array([13.57605778]), 18.966247092201673, 15.197117713515688, 20.071245825069685, array([19.27182766]), 12.848597401279148, array([12.62662611]), 18.936814898447558, 15.088239736156648, array([14.71543026]), array([10]), array([21.86849845]), 18.984153216959086, 20.34442135699861, 18.887722819626465, array([15.92335481]), array([14.04737569]), 16.887889409425437, array([19.13040577]), array([12.66450228]), 13.217373169048452, 12.020688207517676, 17.078861745151137, array([30]), array([23.70085086]), 26.446931209193377, array([30]), 19.276479419346913, 11.919339430920235, 12.523952130852928, array([13.05753365]), array([30]), array([13.37167731]), 29.01921379955289, 25.554203351558392, array([18.35876824]), array([21.15179635]), 18.828621416030682, 17.794806614566227]\n",
      "[array([14.04737569]), array([13.05753365]), array([17.44934187]), 18.7465796390988, 16.902096563986536, array([18.23497296]), 22.92842977066373, 17.028791673874963, 18.18655607375361, 20.542021253630594, array([16.98307422]), 14.631440320799012, 15.140851995649431, 14.58197829890172, array([30]), array([23.54543485]), array([18.55774531]), 19.7160483529219, 25.273346657004772, array([30]), array([13.78904495]), 13.630760919026875, array([16.24478326]), array([12.63963275]), array([10]), array([10]), 14.84697078749338, array([26.28858224]), 18.869331995771905, 19.159108553263795, array([30]), array([27.12607291]), 15.765637163667453, array([10.65035003]), 15.423714591415916, 14.015218837391679, 15.267061218294089, array([11.62778215]), 12.37762894135314, array([30]), array([14.51195048]), 12.942007614709471, 18.08669014930975, 15.507982906069902, 16.91485413088193, array([16.17919505]), array([17.88325689]), array([30]), 19.32889640037683, array([19.7764222])]\n",
      "[14.015218837391679, array([14.04737569]), array([16.94693613]), array([16.98006869]), array([10.8476097]), array([10.92515375]), 17.3787977609015, 16.997932208468598, 14.15032896413834, 15.622351621401252, 19.74931747435806, 18.810498214142406, 14.266030819641125, 12.202894009581277, 17.64823466108668, 20.394010815116243, array([25.43441478]), array([16.04456628]), array([10]), array([17.63178482]), array([25.82260627]), 21.866871991529653, array([27.15064282]), array([27.14111202]), 21.962497555461105, array([20.78074096]), 12.418634790915265, 17.200522103508735, array([19.21080365]), 16.624532812618167, array([17.0986919]), 13.20721974136875, array([13.79297539]), array([13.65796583]), array([15.689985]), 19.58421807037383, array([19.72907138]), array([20.3549761]), array([13.90600937]), array([14.66452631]), array([15.53839484]), 15.119057491695242, 18.81785433561374, 19.716834758805827, 12.032062500027724, array([30]), array([23.32010177]), 22.929880828274754, 18.630482257314945, array([17.10954814])]\n",
      "[14.015218837391679, array([14.04737569]), 23.958304821942765, array([10.63703391]), 21.303148767495205, 21.508102773283603, 17.19906413905879, array([11.71025724]), array([12.88821456]), array([13.2419304]), 17.483769005122294, array([17.4373467]), 13.504643300418865, 13.06214451509185, 21.933340262086737, array([24.87869971]), array([12.6050112]), array([10.93060102]), array([13.03185588]), 18.554436298803495, array([29.60208542]), array([29.19565332]), 14.237400229595602, array([10.27643155]), array([23.01627398]), array([15.49989938]), 16.41443507874557, 17.454715196831575, array([18.22456644]), 18.076931723037678, 19.31662013789578, array([19.45779131]), array([16.40166874]), array([16.66062478]), array([27.67328054]), 13.787046709546352, 13.146576915281702, 15.361275454839934, 23.198868005247878, 17.94658994665194, 15.77412487289918, 17.389382027325798, 16.77054610090416, array([15.33905286]), 18.750896897000537, array([17.43296311]), array([10]), array([20.58920941]), 17.863789310848475, array([10])]\n",
      "[14.015218837391679, array([14.04737569]), 21.520190029069564, array([26.85714017]), array([22.20549503]), 16.37123134426351, array([18.21548774]), array([16.97995408]), array([10]), 13.976199607992147, 16.90020560909257, array([17.31547625]), array([18.69728905]), array([19.97699477]), 10.33289714656667, array([14.03698215]), 10.310305768221937, array([11.68508917]), array([25.21404076]), 23.24287318012344, array([23.38999566]), 22.880252213052618, array([25.82021048]), 18.617031067906296, array([16.39952264]), array([20.56028566]), 16.83594763824229, array([24.45142045]), array([13.42856348]), 13.743857016242245, 18.969153225475626, 21.13939288059344, 17.901773359525656, 17.75973328879705, array([18.82249864]), 15.6348581449287, 13.292494740934915, 11.766074018216262, 16.770613833274208, array([14.35885897]), 19.703931952766297, 18.119208516134496, array([22.5415504]), array([27.66057475]), array([16.6274463]), array([19.65310272]), 23.07681721002807, array([17.95870014]), 24.00098244701253, array([23.56441914])]\n",
      "[14.015218837391679, array([14.03698215]), 23.60288354340339, 23.00428412485123, 17.601401850832552, 24.681346402798987, array([13.06476112]), 17.972122859853776, 25.768509060474138, array([30]), 16.743789605340705, array([16.2836229]), array([10]), array([10]), array([20.07818147]), 15.650185328018537, 13.561257597986769, 13.604786371733779, array([20.81732629]), 23.9532439793514, 12.987053477430232, 14.8773817459177, 14.388881853480791, array([10]), 22.21326009237199, 19.591237749928712, 13.130070815537428, array([11.29437473]), array([22.67678107]), 20.552555609465813, 14.957336460463132, array([16.20169167]), 16.11782274933575, array([15.78448245]), array([18.06425819]), 22.936710624995513, array([24.4991593]), array([18.4995683]), 11.674020448521302, 14.809051174583178, 25.267606836051115, 17.4053623173756, 18.84141911590012, array([17.94498953]), 11.667197018347766, 20.29278353136481, 14.015394790698952, array([17.67139055]), array([22.93223955]), 16.556266886823497]\n",
      "[14.015218837391679, 14.015394790698952, 13.276422815147361, array([14.58243348]), array([13.27457217]), array([12.33308013]), 14.569521532684488, 14.210562712167961, 13.467965994563052, array([13.55672867]), array([28.13093352]), array([30]), 24.123093643208822, 26.565745757629465, array([17.94120011]), array([11.28040925]), array([19.39946857]), array([17.14704116]), 13.797607401764928, array([29.44740401]), array([25.22554323]), array([16.3787992]), 14.253862132326518, 21.059116764460796, array([18.9230765]), array([17.55559681]), array([15.12072597]), array([15.26751805]), array([25.77011808]), 13.562094147125894, 21.172065410793817, 23.65991336661451, array([17.53495329]), array([19.93988425]), 13.260996109067895, 14.882959371711728, 17.34063687306382, array([10]), array([14.16953345]), 14.47427615590626, 21.568354515424872, 14.638604669220337, array([10]), 26.41740359420006, array([25.52913836]), 23.66452335621857, 12.605602596794244, 12.620486517721755, array([14.35577889]), 26.99457263549559]\n"
     ]
    },
    {
     "name": "stdout",
     "output_type": "stream",
     "text": [
      "[14.015218837391679, 14.015394790698952, 19.897479028476045, array([17.73919569]), array([10]), array([10]), array([25.1796959]), 24.360246650391186, 21.50502491798112, array([23.83973493]), array([11.33474977]), 18.716440191676746, 19.12500113264519, 16.063909855822434, 21.93528611592761, array([28.58783757]), array([15.05780082]), 28.77086639423831, 14.99397696590843, 16.19964184234984, 13.080491625657853, 21.036584443254927, array([16.74449504]), 18.03325609216698, array([10]), array([27.48860997]), 15.452785685924955, 15.203433627725188, array([19.59753519]), 17.718935427140025, 24.215650386530797, array([24.07192057]), array([14.77012783]), array([14.69587294]), 16.711098328983, array([21.70946378]), array([13.48533204]), 13.312677818150032, array([10]), array([28.70560322]), 21.230644546416663, 29.536094845343886, 14.476603545320451, 13.80924655753302, array([30]), array([30]), 20.73914974224235, 22.558101980934282, array([11.42713948]), array([11.84014383])]\n",
      "[14.015218837391679, 14.015394790698952, 12.904497824987391, 13.0234411878271, 21.199557721268693, array([21.59334078]), 26.714343604251425, array([14.7510133]), array([10.78155239]), array([16.64772959]), array([20.39785948]), 11.658008851665269, array([12.14711623]), array([27.78564974]), array([22.33612506]), array([21.1860324]), array([11.02352183]), 18.92880888075026, array([30]), array([30]), array([10]), 12.565061101745716, array([24.76289634]), array([20.55591467]), 27.0616182492922, 27.219842333284532, array([16.60859694]), 17.178415674185743, array([14.60248458]), 13.893332663438372, 20.695836905632785, 17.63755308654045, array([25.26845269]), array([22.2503308]), 17.40830384256188, array([17.3257215]), 23.699588113540273, 20.977979123602093, array([13.33233459]), array([15.37527212]), 16.15758789657853, 14.067717160578166, 12.157496485760687, array([23.85959459]), array([19.64858315]), 26.512055496740956, array([17.4246494]), 12.965698547204363, array([23.74958077]), 19.070697179691837]\n",
      "[14.015218837391679, 14.015394790698952, array([30]), array([30]), 17.418019347499218, 17.408983733531166, array([22.54966892]), 18.844865938530468, 21.081797649559846, array([25.4588861]), array([20.26457808]), array([20.02779899]), array([30]), array([27.64744448]), 14.857461096023933, 13.046502053291011, 10.12590170790681, array([10]), 15.023942856155347, array([15.0194303]), array([19.28429219]), 18.68554837102338, array([17.82626587]), 17.31407140455496, array([24.83580066]), array([27.22621959]), array([25.34910118]), 25.77989278755667, 17.540591249584903, array([17.53801986]), 23.61430184903402, 13.85118445131349, array([16.72084501]), 18.453995085673633, array([26.67575408]), array([10.89426751]), array([23.40472936]), array([18.32014008]), array([30]), array([17.09923158]), array([24.8912186]), array([27.60188719]), array([24.41479206]), array([30]), 14.744790830305078, 13.683739982369012, 25.332348720707976, array([13.39508857]), array([24.53556824]), 21.43269299785708]\n",
      "[14.015218837391679, 14.015394790698952, 17.636825815529875, array([13.38801896]), array([13.53450513]), array([10]), 12.479585520480773, array([16.59292397]), array([20.21082124]), 19.592864009564877, 15.565231187032989, 18.983184482515952, 25.00194940403776, 23.844046328593397, array([23.79883988]), array([30]), array([16.74451759]), array([16.72680273]), 19.682173467751944, array([17.21375913]), array([21.62433077]), array([10.6602664]), 22.526079873320448, 22.368512166948086, 22.23076196812997, array([15.68825063]), 23.88964786490822, 10.497089051147988, 23.645388866614592, array([10]), array([30]), 28.587525540756843, array([17.54271726]), array([18.75516611]), 14.655390725189049, 22.287846440534437, 24.167394840154486, array([30]), 28.56861093498506, array([19.58594684]), array([19.38355825]), 14.983260927594749, 13.921527855361916, array([13.6445392]), array([17.06474274]), array([14.27155849]), array([23.85105553]), array([17.46702575]), array([24.00450048]), array([28.18204477])]\n",
      "[14.015218837391679, 14.015394790698952, 20.06520942765734, array([21.50919701]), 15.787187486357128, array([12.39873627]), 16.697908948747042, array([16.35950052]), array([10]), 16.009310711106465, array([21.92235696]), array([23.23800559]), 15.488589451071103, 12.45134782806073, 15.72603176562264, array([11.34935211]), 16.133300159434373, array([19.90951034]), array([18.04787631]), array([20.9817045]), array([10.23105531]), array([13.43864783]), 21.4150250804669, array([12.37752283]), 23.982901515487114, 19.50905257879913, array([16.85836191]), array([15.49752372]), 23.844886663133888, 23.889267462018566, 15.288562433093924, array([19.86522676]), array([30]), array([30]), 16.36117096345178, array([19.69546765]), array([18.00418147]), array([21.30271202]), array([17.74473922]), 12.569995609820717, array([14.84134173]), 16.929596791838314, array([21.84308863]), array([30]), 19.586508761055608, 19.65338225637152, array([30]), array([30]), 19.973421296989006, array([27.82961152])]\n",
      "[14.015218837391679, 14.015394790698952, array([16.76615147]), 15.200711904780636, 16.71628968018389, array([16.31178725]), 17.886581727916447, array([22.39180247]), 18.14550326087562, array([16.76027482]), array([10.19201784]), array([10]), array([30]), array([30]), array([19.8907661]), 19.91185871574013, array([24.23268511]), 28.766275631974175, array([30]), array([30]), array([13.82195433]), array([14.6280214]), 20.626738755446084, 14.779062053644672, array([26.55431865]), array([17.03548709]), array([19.97769098]), array([20.07799732]), array([11.40616881]), array([10]), 15.10148386022698, 16.757207692217968, 18.40738906005247, 16.14407819220527, array([27.20358835]), 14.37960659998768, array([20.37191701]), array([24.65214036]), array([18.47407268]), 16.879030107811477, array([12.96851197]), array([20.64874243]), array([11.37214799]), 17.4217850444978, array([14.29351738]), array([10]), array([21.53141387]), 20.83308381891095, 19.75103248180011, array([17.2473974])]\n",
      "[14.015218837391679, 14.015394790698952, array([18.68577]), array([27.75591088]), 21.520064640830107, array([10]), array([22.2219355]), array([24.5413812]), 21.881490054194114, 27.41869092904644, 18.972158703760392, 18.099978910908582, 28.186401999960644, array([26.97020514]), array([14.63740956]), array([28.81621306]), 21.875029305684265, 18.03540183377549, array([18.53469037]), 18.871429094366988, 15.02980702922554, 15.060795097268445, 21.309521547506137, array([15.94875083]), array([10.10506079]), array([10]), 26.622430856770265, 14.936222719724313, array([13.44217842]), array([30]), array([29.90449489]), array([25.94013648]), array([16.02046522]), array([18.12610767]), array([14.35730815]), array([16.18157564]), array([15.24331381]), 17.012040753854798, 14.717915784476961, array([10]), 11.862795321424944, array([14.0887487]), array([19.11962922]), array([20.38675428]), 16.974997456430806, array([17.31476687]), 19.235421407815565, array([18.92514441]), 17.267066217432433, 15.803122319198813]\n",
      "[14.015218837391679, 14.015394790698952, array([26.91059157]), array([30]), 13.751649777974485, array([20.24297261]), array([10]), 13.617500358635004, 19.866961455720254, array([10]), array([25.55588313]), array([23.82502941]), 20.243652309330223, array([20.0150818]), array([16.48694061]), 15.57605770610556, array([10]), 10.966013457809684, 17.99409999956403, array([11.30757724]), 17.781575429284782, array([18.572291]), 13.240676884607419, 23.58274937511888, 28.763557624852822, 12.913341794038253, 16.374166685329666, array([16.5322214]), 14.113400996444325, array([19.18813559]), 22.881893956461262, array([30]), array([10]), array([10]), array([18.75888627]), 20.083356963916316, array([14.85690946]), array([16.08033869]), 26.70634983110243, 17.363300915952294, array([12.37724935]), array([12.59588337]), 28.614602764368886, 20.511658649943307, 27.382372183654976, array([29.95421797]), array([21.14417534]), 23.748363341920403, array([17.09570831]), array([17.19297455])]\n",
      "[14.015218837391679, 14.015394790698952, array([12.55147374]), array([18.81073096]), array([18.95210457]), 19.895907815306895, 15.247405662410825, array([13.69954824]), 20.736038726520995, 18.929488624481596, 14.097719050332799, 14.053446558193379, array([25.70577486]), array([19.86386167]), 11.719896132348422, array([30]), array([30]), array([24.08056829]), array([13.25254038]), 14.32481497604852, 24.662572180967658, 14.184303433937384, 10.530477681880281, array([14.95292895]), 13.231516770135563, array([18.37810357]), array([17.22709349]), 17.081275839393015, 23.221900799720178, array([14.52681078]), 11.696076202067452, array([10]), array([13.92325995]), 13.812517009306564, array([29.39522097]), 27.17887781933167, array([28.17378852]), array([25.87575861]), array([10]), array([10]), 13.774278549091242, 16.520206816711674, array([17.37727053]), array([12.54207254]), array([15.48161688]), 13.060048059667908, array([10.00426682]), array([10]), 21.64130655862097, 14.584061112050179]\n",
      "[14.015218837391679, 14.015394790698952, 22.04305188189373, 21.97337299621424, array([17.54132767]), array([15.20190826]), 19.697305508733074, 12.63951840297777, array([18.20428735]), 17.034924628209808, 22.445000336481073, 14.811786540671513, array([13.17090425]), 13.85587952656229, array([21.05450973]), array([12.42718439]), array([14.07339778]), 14.143838202679463, array([13.85751782]), array([14.838642]), 24.046299432625005, array([27.22133246]), array([30]), array([30]), 19.01477174218273, 17.8750014527784, array([18.11282606]), 15.21399708623294, 13.776646170543229, 14.351135976740123, 16.90685040026205, 15.354529020872944, 15.088046701678634, array([14.6572019]), array([17.75433484]), 16.233616943003042, array([26.33490928]), array([24.47296936]), array([14.58872977]), array([14.54081222]), array([10]), 12.505153126487066, array([14.02978812]), 14.047952037331097, array([13.90802716]), array([14.95463538]), 28.845567736173944, array([29.73712798]), array([10]), 23.295675421080993]\n",
      "[14.015218837391679, 14.015394790698952, 15.730686813463617, 15.049100130182861, array([15.10656896]), 13.394607764031901, array([10]), array([11.03281343]), array([20.97040589]), array([30]), 14.746824624527417, array([14.81607436]), array([15.90944775]), 17.044985074623682, 25.33918480489441, 18.96759333121081, array([14.61654669]), array([15.33136775]), array([23.02179717]), array([20.03402822]), array([13.75588828]), array([14.46856335]), 14.386324376348167, array([14.95612882]), array([22.53476603]), array([18.72715337]), 12.054096483063725, 11.358109451443438, array([14.095816]), array([13.96119605]), 25.420081821935828, 24.52010830722015, array([30]), array([30]), 15.063847096667555, array([14.76386018]), 14.086436443771365, 13.712659971668623, array([17.72880771]), 18.446053889550164, 11.737580685419937, array([12.12451589]), array([10]), array([30]), array([30]), 28.441510340462933, 14.717006147905739, array([13.39536247]), 17.821134531270378, array([14.25642683])]\n",
      "[14.015218837391679, 14.015394790698952, 10.924758525841971, array([11.00874055]), 13.996214852633734, 14.018628723761221, array([13.99640716]), 13.002995199554096, 23.917495656479353, array([17.69455856]), 10.245529090673564, array([17.08107719]), 12.02716121623937, 13.175800524087359, 19.230500745786024, 11.92968709023242, 11.366983815339156, array([10.81634542]), array([10]), array([11.51095286]), array([29.99934002]), array([30]), 17.68327993875777, 29.65120762805895, array([20.43178177]), array([19.45231857]), 12.464248844810148, array([15.90465758]), array([10]), array([13.96033661]), array([16.74982734]), 10.71434609987915, 13.506203511712277, array([13.2676413]), array([16.1609918]), 16.98143346421819, 30.0, array([30]), 17.913644172429247, 17.724502215771345, array([14.28503941]), array([14.28068987]), array([15.82109552]), 15.205744828663084, array([13.06663922]), array([10]), array([19.03898395]), 15.598193863496384, array([15.08657994]), array([15.10107811])]\n"
     ]
    },
    {
     "name": "stdout",
     "output_type": "stream",
     "text": [
      "[14.015218837391679, 14.015394790698952, array([13.30905483]), 13.199983719754735, array([12.97487425]), array([16.98905824]), array([28.0309281]), array([12.75961998]), 20.002943459827666, array([24.84133653]), 14.998324031048954, 14.625311089804766, array([17.61215134]), 17.593248692043833, 17.353002103024167, 12.82589407506328, 13.545507237403914, 14.827629502258352, 17.211433697862034, array([15.8804252]), 12.951935520212636, array([14.16995923]), 14.825948636575706, array([15.8509366]), 17.61027274038449, array([10.70621751]), 15.397392868474448, 15.697973766446712, 25.39752070599387, array([19.9260025]), array([18.07942854]), array([18.17962906]), 19.033894364723473, array([17.34337902]), array([12.09424552]), 11.630683074644937, 24.9785135450415, 22.06307315429082, 11.883179010638546, 15.209930619769414, array([15.79630124]), 15.73306138066457, array([10.21997696]), array([14.82912151]), array([13.7300621]), 14.485458164787682, array([13.71166192]), 14.715208753404013, array([10]), 10.789480564340302]\n",
      "[14.015218837391679, 14.015394790698952, array([16.2761659]), array([17.86788349]), array([12.00589323]), 12.521484214991807, array([14.05821741]), 14.98898570627398, array([30]), array([28.19956514]), array([15.96893061]), array([17.05618971]), array([20.57693801]), 16.085733568899045, array([15.41889507]), 13.423639692991358, 17.17482363375555, array([18.1227682]), array([14.67821802]), 14.974642154549825, array([15.16118656]), 14.494939630736631, 15.02401386948928, 14.85710096114076, array([10.16104666]), 12.840620560837149, 14.613569284521123, array([14.68253739]), 23.59682468373392, 23.19609881796158, 21.928912858440007, array([13.83079968]), 11.613700326577371, array([13.10282388]), array([10.46683745]), 13.51245323805145, array([13.7414282]), 13.784172916382252, 15.657287131555346, array([18.89073448]), array([16.97345676]), 17.87223416253878, array([30]), 11.632516608041739, 13.269775580899918, array([16.60782866]), 12.569069267018946, array([11.81788109]), 13.322339164331945, array([13.94985227])]\n",
      "[14.015218837391679, 14.015394790698952, 13.440916612479851, 14.991472166084986, array([25.10665004]), 19.34954333640963, 13.234116845057267, array([10]), 17.643163142532895, array([19.76816918]), 11.10620063606379, 17.08387313886512, array([30]), 25.0115718944782, array([13.45623729]), 13.45634362787944, 13.738775673022126, 13.828666128638856, 17.26958551960277, array([17.47144657]), 14.833008307825787, 13.702563050231738, array([12.27916507]), 23.773084109653887, array([15.10053623]), array([17.00670326]), array([10]), array([25.9745014]), 10.651334889391837, array([18.48959939]), 13.667392981960564, 14.617863833011217, 24.201200510597022, array([10]), 16.1176393438706, array([17.53617738]), array([18.6532516]), 17.245649918531374, array([12.33244286]), array([28.52383624]), array([15.3936357]), 14.179503484697928, array([10]), 29.764905828525137, array([30]), array([30]), array([12.42081257]), array([26.6935028]), array([13.49957195]), array([12.8563976])]\n",
      "[14.015218837391679, 14.015394790698952, array([10]), array([24.32596877]), 15.430136092722675, 26.760657749650132, 15.40248381495108, array([25.88274046]), array([30]), array([12.06529353]), array([25.50468025]), array([16.74837047]), array([11.14856645]), 26.56266683141238, array([12.69934829]), array([13.49013193]), array([29.45665206]), array([26.75148391]), 10.0, array([10]), 19.565031390548008, 10.53400960580481, 15.52502630506957, 12.832835516345492, 17.705139599713075, array([15.27392122]), array([12.76325681]), 13.559279110059165, array([10]), array([15.51736735]), 25.49692485206045, array([23.88184314]), 10.0, 10.0, array([13.55723211]), array([17.77627171]), 15.246670798788902, 21.641626386188193, array([25.36508812]), array([25.99025266]), array([15.11427937]), 29.554310209904834, array([10]), 16.529499163144255, array([10]), 12.46903266384923, 13.78488730214276, 13.81905811521967, array([22.99613847]), 26.15128711699276]\n",
      "[14.015218837391679, 14.015394790698952, array([13.54575196]), array([14.34678267]), array([14.80658489]), 12.153766037508662, array([10]), array([10]), array([10.64604934]), 12.094601882084383, array([26.00697572]), 26.450443074830858, array([13.00237448]), 12.644498537727227, 26.427864023405913, 12.512813824280038, 19.685907622190843, array([15.9813268]), array([24.6065762]), 23.517789769919393, 14.722340473619305, array([10]), 14.559785316977223, 15.448759833290183, array([15.23351621]), 17.14122985583281, 14.921748892842668, 16.564238212347533, array([10]), 13.142575461876397, array([10]), 20.27177508093793, array([15.89758332]), array([12.07342995]), 11.84230803594147, 13.61465350540861, array([18.10965534]), 10.876387362058258, array([19.38666271]), array([28.82503791]), 17.336336751994594, 15.498135241565736, 10.126273609624539, array([22.9237467]), array([23.71338275]), array([23.34339456]), array([10.0024074]), array([10.00210113]), array([11.1419596]), array([12.67773952])]\n",
      "[14.015218837391679, 14.015394790698952, 17.443205575454996, array([10.035849]), 27.681855422904263, array([24.03688131]), array([15.5971876]), array([15.02587185]), array([24.87263732]), 19.704190988903655, array([30]), 25.441148657715587, array([25.3828558]), 12.971687624427704, 10.0, 10.0, array([13.47416308]), array([12.82219753]), 16.15982985468008, 20.279510404824823, 12.866058095753395, array([19.87005962]), 11.18065525381061, array([11.78315449]), 28.43862451871036, 11.361638418030818, array([14.59953585]), array([20.16802488]), array([11.95924522]), 10.813695334084676, array([22.94321576]), array([21.26594245]), 12.35124361143886, 10.082606553894534, array([10]), 10.567062405639597, array([15.23154821]), array([14.61154744]), 18.813749965311082, array([10]), array([13.7464326]), array([10]), 11.212108509229784, array([13.82210129]), array([10]), array([30]), 15.870833925518639, 14.742754937605362, 15.40439576999399, 16.391685178308563]\n",
      "[14.015218837391679, 14.015394790698952, 11.393200582355432, array([10]), 10.806004340568533, array([10]), 19.58145144442136, array([26.07219122]), array([10.56415325]), array([10]), 26.470020311399118, 19.07623666435955, 14.480459081465932, array([13.95966351]), 19.353592395716554, 26.596185725512672, array([10]), 10.0, array([16.8765395]), 14.470630683011589, array([14.89550338]), 14.304655407432925, array([14.16013698]), 13.345333629847769, array([10]), array([14.59104674]), array([14.08728708]), 13.7933147933899, 13.800725341630065, 12.509762036572637, 11.590219823475044, 14.432253649773156, array([13.56156158]), 23.03762785961142, array([13.81922623]), array([14.36901612]), array([25.36789302]), array([30]), array([11.12436376]), array([13.47509377]), 11.353421455146863, 14.430001116032528, 10.514844364251529, array([18.57199863]), array([13.58799033]), array([14.68227678]), 14.720032899487551, 14.433468224192106, array([10]), array([10])]\n",
      "[14.015218837391679, 14.015394790698952, 15.108864946150268, 29.11501949198057, array([10]), 15.385173969866738, 14.944184360875528, array([14.67648408]), 13.373718669302376, array([13.66512484]), array([20.83537729]), 20.358516040296507, 14.446593274408485, 14.313290802446271, array([30]), 17.450222034021717, array([13.86868859]), 13.888737607077404, array([13.16197106]), 15.160993858993045, 16.971021945806818, array([18.2247529]), array([14.76209261]), 14.70361610825011, 14.252839695178741, 13.909803951321035, 11.934024764194675, array([19.26603744]), array([10]), 19.083697212504664, array([11.35454646]), 12.922295460834608, array([10.67452145]), 10.457858650893172, 18.795131280783323, 17.482156451494358, array([13.09030305]), array([21.57707987]), array([13.60572276]), array([13.85858042]), 13.976836477636166, 13.865034106923797, array([24.12122602]), array([26.54109841]), 10.824034632828608, array([15.34383712]), 10.71915313018997, 10.402153761732665, array([10]), array([10])]\n",
      "[14.015218837391679, 14.015394790698952, array([10]), array([10]), array([14.03237166]), array([13.24510777]), 14.734174543918847, 12.831224014571315, 17.80336688751171, 16.345585514111104, array([15.18562218]), 15.029683191346573, 15.15874356437531, 15.118729126566459, array([10]), array([10]), 14.345378677898111, array([11.72055671]), array([15.48475225]), array([14.06071948]), array([30]), array([21.04949765]), 13.19246827351874, array([12.03831218]), 14.17632559016079, array([12.49849439]), array([14.50455837]), array([15.36064853]), array([11.76381439]), 17.242326355494576, 16.754227104698145, 17.187302710604996, array([15.24934354]), array([14.87912077]), array([10]), array([10]), 13.47614121740536, 13.779058549740192, array([12.97294751]), array([12.9841782]), array([15.57229045]), 13.993313724360462, array([13.99188171]), array([14.39130916]), array([13.79997355]), array([12.59662735]), 15.199808379849317, array([10.58039336]), 17.397531751099905, array([16.84654005])]\n",
      "[14.015218837391679, 14.015394790698952, 18.29506025566203, 14.530373718884046, array([14.64832011]), array([16.98276853]), 14.361492514498899, 14.768210207411759, 16.966250861834606, array([14.9844319]), array([14.10181985]), array([14.561304]), array([14.85902691]), array([14.75454892]), 13.561125701799009, 14.588373954216353, 14.179054467942874, 12.307487140619216, array([10]), 13.822354708536444, array([15.24570287]), array([14.68312618]), 16.20103483289846, 18.480320384179688, array([14.43413312]), array([14.85775726]), array([18.1647981]), 14.73790685480007, array([16.72838647]), array([16.64783865]), array([10.064782]), 10.196765330064029, 14.096523968135072, array([13.91982937]), 13.221343075838792, array([16.18618145]), 15.063916529814062, 13.5739589401814, 11.474769895406986, array([10]), array([12.31027928]), array([12.40011427]), 14.337582384056317, array([16.09625896]), 13.54071812027598, 14.382125894747514, 13.59966629671778, array([15.9723131]), array([12.34229238]), array([13.8273901])]\n",
      "[14.015218837391679, 14.015394790698952, array([14.58882783]), array([15.82771213]), 14.510665653081647, array([13.99290349]), 14.203453932469863, array([13.97353571]), array([12.20111858]), 14.088174090786092, 17.23400870578761, 16.718595341849984, 20.336717667297375, 17.34152460461041, 10.834494984327149, array([10]), array([13.2940932]), array([13.80503815]), array([14.06950928]), 16.188502465540665, 15.38005158853515, array([10]), 14.123727362320896, 14.955843786821674, 15.777727356773733, 14.440635529885336, array([10]), array([11.2827627]), array([13.10239669]), 13.598966893352067, 13.907965218115283, array([10]), 13.162523758279624, array([15.20139293]), array([14.37740316]), 14.497697864086481, 13.175522642498832, 14.693770693363865, array([15.43890995]), array([17.50307982]), array([13.55573754]), array([13.71103574]), array([15.0235192]), array([15.60226658]), array([10]), 13.004496970278, array([13.91735436]), array([13.92221666]), 11.183286833065507, array([12.75287621])]\n"
     ]
    },
    {
     "name": "stdout",
     "output_type": "stream",
     "text": [
      "[14.015218837391679, 14.015394790698952, 16.493174400551393, array([16.88651782]), 14.543818839611333, array([14.65329383]), 14.644306722845723, array([14.73470543]), array([12.90404447]), 12.876651526364187, 14.371162433755208, array([13.99692667]), 14.080907979988652, 15.329974575070896, array([11.7379504]), 17.697503130358044, 16.27546250132834, array([15.56330268]), 14.675620574129352, array([14.14187808]), array([16.11072938]), 16.069586056331886, 11.057296189572579, array([10.17154253]), 14.850680533699604, array([14.98685287]), 14.07363082065461, array([13.9905067]), array([15.62289292]), array([14.71515671]), array([14.19924713]), 12.599521050578835, array([14.36776588]), array([14.53213684]), array([14.71159903]), array([10]), 11.202049110660623, array([11.2095196]), array([14.41615851]), array([14.36660091]), 14.257947391524564, 13.638913829106254, array([14.09042147]), array([14.14217792]), array([15.28443914]), array([13.69827168]), array([10]), 12.160649402716896, array([14.03257883]), 11.156673334775395]\n",
      "[array([18.30914183]), array([10.94210383]), array([25.95514596]), array([21.69056]), array([12.4309802]), array([15.23088613]), array([16.7936152]), array([29.5355777]), array([16.96744196]), array([13.20732724]), array([27.63853626]), array([16.01283135]), array([14.67562539]), array([26.43126036]), array([15.86839351]), array([29.15306475]), array([23.97222334]), array([29.56834202]), array([16.5479894]), array([20.02043599]), array([27.170266]), array([22.62185285]), array([17.68495577]), array([19.76611781]), array([24.57764258]), array([14.54460056]), array([14.49951823]), array([18.05557005]), array([15.31629866]), array([19.70060421]), array([10.5785344]), array([26.32802088]), array([17.45392149]), array([10.77825797]), array([25.91082879]), array([18.23138701]), array([13.93078039]), array([13.1995491]), array([23.51987835]), array([18.70326759]), array([11.87414315]), array([14.89566584]), array([26.43282274]), array([25.14056682]), array([15.70783367]), array([11.99804113]), array([29.15422118]), array([18.8606757]), array([27.29299461]), array([27.93987992])]\n",
      "[array([13.1995491]), array([13.20732724]), 20.469591665134168, array([30]), 26.34881611377447, 26.08332785080171, array([10]), 25.7444400618639, array([14.71318197]), array([14.73816185]), array([25.16065658]), 24.11763463387846, array([17.97797668]), 19.133477374090585, 15.631294263680832, array([10]), 17.699007927462155, array([17.1181382]), 16.542495297720407, 17.181586901381646, array([12.88794911]), array([12.87368402]), array([10]), 17.85743539173835, array([30]), array([25.54354676]), array([18.16206962]), 22.4708220915495, array([10]), 15.414476661314218, array([23.78524419]), array([24.85049767]), array([14.55143706]), array([25.39377762]), array([30]), array([23.78642528]), array([10]), array([29.51921578]), array([14.76283039]), array([14.76224351]), 19.147303408946684, 19.764788866792077, array([30]), array([11.11684713]), array([17.20754953]), array([23.31512829]), array([10]), array([17.43147401]), array([13.265214]), array([10.72362626])]\n",
      "[array([13.1995491]), array([13.20732724]), 13.75468908870916, array([18.88339119]), array([14.73264876]), 14.732730908689728, array([15.03110349]), 15.002020956804898, 16.85652666466284, 16.386411753445664, array([23.65429755]), array([11.72120065]), array([20.13068844]), 15.437932353854475, array([10]), 11.983991103630117, 19.459697594494095, array([10]), array([17.02850143]), 16.29689554696241, array([18.89551878]), 23.687395885220685, array([10.05788682]), 16.331652454687074, 13.402083223407132, 13.509382635535786, array([13.28140184]), array([13.28590936]), array([18.00353946]), array([10]), array([10]), array([10]), array([11.15486605]), array([11.90997939]), 29.144991623690068, 29.890083621760425, array([26.32973835]), 25.24718464324482, array([30]), array([19.46863714]), array([13.92396241]), array([12.44222186]), 18.644839494960152, array([14.37117507]), 28.608878436111596, 27.35206065955662, array([14.94588762]), array([15.93780065]), 26.95073491625564, 20.928525115533954]\n",
      "[array([13.1995491]), array([13.20732724]), array([15.88786642]), array([16.56990918]), 11.780505677474357, 11.985023756120755, array([18.80074381]), array([14.73423924]), 18.094863090740454, array([12.069921]), 18.22844660199521, 27.83049681150125, array([11.92935134]), 10.692415460309313, 21.858802884784538, array([30]), 13.455374266060177, 13.521463336302855, 14.152647595858557, 16.093324771533332, 13.81715876078733, 17.700015849840128, 18.077064559360924, 11.653775142601145, 10.13345631055238, array([22.79154604]), array([13.50922048]), 13.041667433525099, 24.909992051296456, array([25.84819965]), array([16.35067599]), 17.069923489777405, array([15.48265161]), 14.346063583675196, 13.634418655042163, array([10]), array([15.42646969]), array([10]), 24.175757880688547, array([30]), 17.777873305851735, 19.388401255825524, 17.34618671727065, array([15.98363243]), 19.577231943461463, 11.071288130938132, 15.999115251398624, 13.284853723274912, array([22.11184694]), array([20.10833167])]\n",
      "[array([13.1995491]), array([13.20732724]), array([13.10473148]), array([15.78643717]), 13.422911644720385, array([13.05310817]), 11.240741213162423, array([23.18797049]), 11.908630984026056, array([15.52327212]), 17.274612064366483, array([10.35045555]), 14.541839366852857, 15.878060989218055, array([30]), 22.875129539712383, array([11.51677504]), 14.074008125307856, array([19.37437759]), array([20.78703641]), 15.88403066242661, array([16.13455061]), array([11.88455872]), array([11.76094366]), 15.707846784699196, array([13.6634977]), array([19.6362102]), 14.851709569232241, array([10.72820526]), array([10]), array([25.01543629]), 22.013254688053454, array([10]), array([11.68430527]), 17.353945348215966, array([16.595886]), array([20.32547955]), 18.12916474157652, 28.383364208342716, 19.662125324209107, 22.543884519997203, 17.862107111457526, array([10]), array([11.67645566]), array([19.22076351]), array([18.1974173]), 13.141510310941234, 13.297441782639076, 17.855935224602607, array([19.2968845])]\n",
      "[array([13.10473148]), 13.141510310941234, array([23.35108703]), 19.171636927256284, array([15.33345042]), 11.297443474269809, 18.174235833643536, 14.333489111946626, array([14.28504271]), 17.491700674007376, 13.069722663982882, 12.9679344722, 15.462801820630869, array([22.93809679]), array([13.77820799]), 13.376175012321891, 13.075960618955621, 14.047869718025055, array([10]), array([10]), 13.259654781377803, array([12.58405037]), 20.459919408063413, array([16.41714142]), 12.267728284652664, array([11.85417255]), 12.039167084750677, 19.422512296629336, 25.53431797383185, array([24.18800235]), 13.796836322160207, 16.07494472545957, 12.731079809770875, 12.934953215367395, 15.910991565362195, 16.155547410438142, 12.495967297858959, 19.571649103804084, array([12.95764009]), 19.45571366709911, array([20.39012111]), 22.004388844427215, 10.749671306073475, 14.311907551441902, array([12.43978542]), 15.165580111107854, 15.610892217225533, 15.784761053691069, array([10]), array([10])]\n",
      "[13.069722663982882, 13.075960618955621, 13.443005776028757, 13.410973616496692, array([16.36653638]), array([30]), 14.454374769867805, array([14.44596539]), 15.73886907232474, array([13.51608884]), array([10]), array([10]), 18.560248352454018, 11.90206035501106, 20.99616937134682, array([11.55097863]), 12.895369691463486, array([19.40351765]), array([23.5786753]), 25.86509487541221, 21.586223065017734, 11.94185460096942, array([14.35580428]), 13.984964866747077, 13.41767235254175, 15.926505912638216, 28.47625385354016, array([14.47847887]), 19.85816619815189, 18.86965314835899, 11.012414420096608, array([12.72813539]), array([13.02307567]), array([13.08737649]), array([15.1434071]), array([14.67144196]), 11.969034967317835, array([10]), array([10]), array([14.27709281]), array([14.23187215]), array([14.36031213]), array([11.34061176]), array([11.39415294]), 16.550102146332435, array([13.43383142]), array([20.19908288]), array([10]), 15.109769130201716, array([16.32118271])]\n",
      "[13.069722663982882, 13.075960618955621, 15.052685607801799, array([15.46688665]), 16.019540042193377, array([10]), array([14.22196414]), 12.842240111771094, 21.081716277402336, array([30]), array([30]), array([16.96223924]), array([12.33113486]), array([10]), 16.64465733388855, 10.222274305537393, array([15.82981749]), array([13.35251831]), array([10]), array([27.06477835]), array([13.92511696]), array([13.6206673]), array([14.80743879]), array([14.51398101]), array([13.92515345]), 16.3463530614513, array([13.29340824]), 13.611218408316782, array([13.52166883]), 13.22698128017345, 11.164484400350583, 15.605653468312493, array([10.0542133]), array([14.10738686]), 16.389619470547835, array([15.48491786]), array([14.57427322]), 14.853182959561712, 15.591647865701814, array([10.34115493]), 11.481692678204192, array([13.33817441]), 15.596867034460875, array([14.12155806]), 21.93842167715498, 18.845504610981745, 21.838121216939168, 17.46120736576455, 17.446151580964997, array([16.74945237])]\n",
      "[13.069722663982882, 13.075960618955621, array([16.32635942]), 15.256728892404542, array([13.23097657]), array([13.12189054]), array([14.77133006]), array([14.79533234]), array([14.61156947]), array([15.22068361]), 16.184296466882447, 17.552009324522174, array([13.81035618]), array([21.21836678]), array([14.46795925]), 14.476903938841664, 12.920895705797744, 12.73338438275944, array([10]), array([30]), 16.59978570923683, array([15.94266288]), array([12.78070312]), 11.838208110984246, 11.815198632128967, array([14.99046983]), 12.791716667762904, array([20.53315385]), array([16.65907915]), 13.87782461197726, 12.938031802493008, array([10]), array([16.93058869]), array([13.12496605]), 17.42487815980259, 15.04818157933813, array([13.66671356]), array([10]), 14.559148623601093, 11.98422389193389, array([15.18785565]), array([10]), array([17.48386253]), 14.189044940964006, array([13.2180305]), array([11.04979055]), array([10]), 16.67689335882931, 14.910627050645566, 11.110923278447721]\n",
      "[13.069722663982882, 13.075960618955621, array([10]), array([10]), 11.312160862252206, 12.907235119501873, 14.180155967320776, array([14.81971873]), array([14.95116938]), array([10]), 12.122540842342092, 12.234006179334441, 16.86983565407683, array([18.428665]), array([14.28309294]), 13.991830375957694, array([12.84298108]), 13.031596047866444, 17.954728834886996, 18.370883153449267, array([23.39408239]), array([14.24796973]), 17.02394662046174, array([10.69534867]), array([12.77657613]), array([12.95893823]), array([15.27454092]), 11.178873586447432, array([15.71709369]), array([14.10689368]), array([10]), array([10]), array([16.63289999]), array([22.89496026]), 15.373498925874348, 15.485147575836525, array([15.49171756]), array([15.47328867]), array([14.12758195]), array([17.00540994]), array([14.52334664]), 15.06822001744202, 16.59832257143232, 16.113053737052535, 12.784143145416992, array([13.24746693]), array([30]), array([16.1294099]), array([13.93743035]), array([14.13836244])]\n"
     ]
    },
    {
     "name": "stdout",
     "output_type": "stream",
     "text": [
      "[13.069722663982882, 13.075960618955621, array([13.5564934]), array([14.78385576]), 16.56002543543234, 15.696900626797857, 14.690259628634523, array([15.85885605]), 12.790392589488226, 13.042480692034973, array([12.57143981]), array([12.78818559]), array([14.83059834]), 14.613337198870113, array([10]), array([12.895189]), array([13.62548851]), 13.290034872558032, 14.312497659072877, 14.10487007939256, 12.98188939184059, 12.89800416366705, array([13.68486589]), 13.801011283473747, array([15.8219262]), 14.431973166434032, array([15.70434081]), array([10]), array([10]), 12.855769815886942, array([15.25753964]), array([13.60338347]), array([13.78665856]), array([13.14218727]), 17.14209046365554, array([16.69568689]), array([10.70638711]), array([10.64191376]), 16.80364552058782, 17.27502933505246, 19.686419830059606, array([30]), 23.003267404556475, array([21.13361134]), 11.182635601114459, array([10]), 12.534545033400358, array([13.9772001]), array([26.86457899]), 21.972624464541678]\n",
      "[13.069722663982882, 13.075960618955621, array([19.10445189]), array([16.50751481]), array([16.95230074]), 16.09869917605027, 12.549427942815742, 11.035896498686538, array([17.58473479]), 15.50406309642499, 14.399609757033577, 15.29180614035237, array([16.8954983]), array([24.54160977]), array([14.44733828]), 12.806129151827356, array([17.45437828]), 17.4636901582611, 13.160046424004904, 10.02525138906683, 12.793219082791866, array([12.67391872]), array([13.84066634]), array([13.67933008]), array([15.00498122]), array([10]), array([12.67621688]), array([16.33757244]), 12.458225076365427, array([10]), 14.84127455305428, 14.876408961671126, array([13.46342869]), array([13.16499287]), array([17.36478099]), array([11.22980143]), 11.642050527630433, array([14.91030167]), 13.70361687743894, array([12.35587207]), array([15.3458581]), 10.155798375685976, array([10]), 16.189336606035994, array([14.25998649]), array([10]), array([13.79160216]), 13.807175279233192, array([14.17950821]), array([12.17701747])]\n",
      "[13.069722663982882, 13.075960618955621, 15.44087656206733, 14.246996909875213, 13.825362376867801, array([17.39898532]), array([15.55454536]), 16.36689454459041, 12.711223341448397, 12.717478669038075, 13.266151918042695, 18.91698695433177, 14.27963319839606, array([15.14470761]), 10.10959930515214, 15.658973457574618, 16.152629841837218, array([16.18454432]), array([10]), 14.409811576036521, array([14.35687277]), 15.281070773551125, array([16.24177967]), 12.034514538171118, array([18.642002]), 11.459422925274854, array([13.10873932]), 13.528280594922819, 11.077025364292984, 14.0936439976856, 16.24647577123692, 16.9095510521971, array([10]), 12.740556240453127, 15.783741373815374, array([12.63784007]), 14.994147574912557, 15.145482779363597, array([12.24260613]), 11.283367418088815, 13.718453026010103, 14.697014642540008, array([14.03660626]), 17.79753094263065, 17.555434732238595, array([16.77069243]), array([10]), array([21.41383706]), 11.668176041817425, 10.860763037229711]\n",
      "[13.069722663982882, 13.075960618955621, 14.182552075334637, array([14.43598819]), 12.9113121367207, 14.085654632860363, 15.557260134349125, 15.540321922642717, array([14.90406747]), 12.986833271427798, array([10.09626479]), 10.229338503941596, array([14.18834414]), array([23.29672414]), array([15.20491809]), array([15.46222584]), 10.884971342062105, array([10]), 14.015196396631083, 13.11239611869077, array([13.13240776]), 13.803381466774523, array([17.76903826]), array([14.38284599]), 13.841495946345, 10.99605227143214, array([12.80669866]), array([13.20610843]), array([11.80102616]), 12.723709557967972, array([17.06225905]), array([14.7125742]), 13.687537724195014, 14.925815509213123, array([10]), 10.803238129198618, array([10]), array([12.97462899]), array([11.73423901]), 13.518902454086849, 14.093023192099675, array([14.67004816]), array([15.28161308]), 16.28068942575336, 11.903301395244558, array([13.00075397]), 14.83900993554764, array([14.23465988]), 15.233331711478089, array([15.36251085])]\n",
      "[13.069722663982882, 13.075960618955621, array([12.8860039]), array([24.30723734]), 13.692410762098978, array([11.76842257]), 17.765266734559372, array([10]), 10.765769950383142, array([12.97171389]), 14.070610960158167, array([13.5194339]), array([16.55630547]), array([15.72036618]), array([12.43523637]), 10.318356728812095, 13.73272516042221, array([14.87095508]), 12.036858850802844, array([13.11336924]), array([16.54121287]), array([16.77687739]), array([14.97569948]), 12.60742959468425, 14.167186384230169, array([15.25698018]), array([10]), 15.340898723591692, 13.948073944074386, 14.032802882503308, array([14.33047308]), 13.228049991935167, 13.0275222277936, array([14.08223442]), 10.858159141356548, 10.831065715853722, array([13.72405856]), array([10]), array([15.41537591]), 15.479821983409986, array([14.22453046]), 14.226881211905763, array([12.96993419]), 12.915399483678385, 13.703392821064437, array([17.6150467]), array([13.32868389]), array([13.90552367]), array([11.23815854]), array([10])]\n",
      "[13.069722663982882, 13.075960618955621, 12.05036643969311, 17.700512557812885, array([15.4832805]), array([10]), 13.681892116077314, array([13.42238931]), 12.263720396985843, 12.858413633488524, 13.226975303063973, 13.06187668413316, array([13.36389094]), 13.655384605401556, array([14.85937436]), array([13.90472045]), array([17.01100066]), array([10]), 12.576436622233434, array([14.11178147]), 13.317476287329583, 17.023947163190947, 12.13461520391546, 12.45847419340073, 12.184217752297068, 14.147096216530112, 14.088912213571927, 13.966214307323169, 18.762041847915057, array([16.98586394]), array([13.83326992]), 14.064295382308295, 14.724527175661136, array([16.46399157]), 14.037292470157062, array([14.02953131]), array([16.70865418]), 17.28835288770766, array([12.40892531]), array([13.12944483]), array([11.81095124]), 11.032770877027854, array([15.30747535]), 15.766057245039466, array([10]), array([13.87007047]), array([10.26074914]), array([11.59019826]), array([13.08163322]), array([13.13448651])]\n",
      "[13.06187668413316, 13.069722663982882, array([14.65004313]), array([15.38029702]), array([13.97425528]), 14.533526378201765, 14.05556373953937, 13.42436036026601, 11.794783532560801, 14.811069918364735, array([13.4858095]), array([13.78517305]), 13.312066520881537, array([17.12872785]), array([12.74242711]), array([11.89323323]), array([17.34272508]), array([15.21858438]), array([13.61957458]), array([13.6025063]), array([12.83359488]), array([19.0232825]), array([16.58228073]), 16.41347903553287, array([16.53395045]), 16.73087278107013, array([12.33712006]), 11.609551724378552, array([13.91246477]), 12.681009273489334, 15.51415995722516, 13.292285952476824, array([12.63895571]), array([12.58387669]), array([12.29303553]), 11.966218176760702, array([14.54827025]), array([15.60158189]), array([14.06628149]), array([10]), 13.649658913661293, array([13.26548387]), 12.134974074595057, 14.719331308801848, array([13.43005041]), array([13.42674444]), array([13.19073782]), array([13.06309989]), 13.785505240839173, array([13.73536535])]\n",
      "[13.06187668413316, array([13.06309989]), 11.531486366107602, array([12.27169982]), 14.56843144560406, 14.560426108412319, array([16.54124025]), 16.332691789751273, array([12.875458]), array([11.29402107]), array([14.65980931]), array([14.07608907]), 13.89645263518384, array([13.1912569]), array([11.72063889]), 14.324323993947019, array([13.64137962]), 12.971920574306468, array([11.70230642]), 11.635592659547761, array([14.23134773]), array([12.9876887]), array([15.17840676]), 12.551122749624627, 13.578552768593159, 17.69810720070821, array([11.89529713]), 13.29166867962634, array([13.24926731]), array([13.52580145]), array([15.17552039]), array([12.25027956]), 17.31460412600365, array([14.32612365]), 13.62027789460838, 13.594491149014402, array([12.93362822]), array([11.74998657]), array([12.43208117]), array([14.65805188]), 15.288302545442217, 15.999992766352658, array([15.4231514]), 14.698798475377284, 14.087552442107103, 15.830736194707628, array([13.42584819]), array([13.42092078]), 13.679783387104788, 13.168400879121018]\n",
      "[13.06187668413316, array([13.06309989]), array([11.98347754]), array([12.31180617]), 11.676423122132885, array([15.54767756]), array([13.0111838]), array([13.11708162]), array([12.59901147]), 11.932766796418269, 13.301854760364863, 12.849636229552322, 11.356075471785731, 11.56856620214117, 13.807814948601946, 14.365999702297797, 14.29012550639965, array([14.29314221]), 14.414942693342082, array([14.1916214]), 12.396773419848056, 11.702052766520664, array([14.69709715]), 13.934889897386544, 14.818578866657488, 15.434088169286737, 14.895214794099969, 14.454190455974219, 11.454209397988366, array([11.84650609]), array([12.96726355]), array([13.89449394]), array([15.1613147]), 14.445671468100606, array([14.22597034]), array([14.86826631]), 12.036230829074333, array([13.33415968]), 13.177965098154182, array([13.73068806]), array([13.51661883]), array([13.59949416]), array([13.10913634]), array([13.79979111]), 15.334869254403747, array([15.24620986]), 13.395309478925256, array([14.79449342]), array([12.87356733]), array([10.49903643])]\n",
      "[13.06187668413316, array([13.06309989]), array([14.85396997]), 14.20437697845748, array([13.14956435]), 12.900576883745911, array([13.08764505]), 12.84754230396717, array([14.65235385]), 13.59419712139913, 14.360484099128028, array([14.62041974]), 14.93422667092144, 14.936793527868057, array([14.79300259]), array([15.523381]), array([13.13363507]), 10.027223261143071, array([12.07088808]), 14.119808070000177, 13.89343556154787, 13.751864031721782, 13.032406761796548, array([12.11315643]), array([13.29162782]), 12.911483120618271, 13.500163118994687, 12.689259460616803, 13.540458740260823, array([13.55146263]), 14.3946413324092, array([14.45225225]), 11.932166405044, array([11.4108877]), 16.244955258131743, array([14.4786363]), array([13.69577558]), array([12.95296188]), 14.655665214814947, 12.004974444381332, array([13.24596224]), array([13.33978486]), 13.586432016191988, array([14.88926709]), array([14.517586]), array([14.29366364]), array([14.74100021]), 15.653124809771615, 12.816632501389293, array([12.92103053])]\n"
     ]
    },
    {
     "name": "stdout",
     "output_type": "stream",
     "text": [
      "[13.06187668413316, array([13.06309989]), array([13.51366881]), 13.558829931339138, array([12.73889654]), 12.63236941895321, array([11.75436743]), array([13.19050754]), array([16.40193048]), array([17.18601771]), array([14.52981404]), array([14.43344249]), 13.156161025456916, 13.826459566592733, array([13.0519959]), array([13.22350271]), 13.972762938369552, array([14.00094461]), array([13.49453264]), 13.204038396740986, array([15.12060593]), 14.306549097674377, 12.202327954019324, array([14.66219907]), 14.99772105941166, 15.263985146086434, 11.978915112458521, array([12.02018708]), 12.032872306472738, 12.277172499140029, array([14.45988353]), 14.162765603328294, array([13.0754415]), array([14.87560347]), 13.488766188867821, 11.533698311411468, 14.668338697811643, 14.670108196571256, 15.614728114642736, 16.42538786086286, 13.582756878176081, 15.4764592013235, 13.192284095199678, array([14.33001895]), 12.413853101571457, 14.281615020535982, 13.356990478585365, array([13.79955007]), array([12.95651094]), 13.168094800026948]\n",
      "[13.06187668413316, array([13.06309989]), array([14.2868479]), 15.254770775009916, 13.024089417125081, 13.249435684369823, array([12.88955455]), 13.575060108271925, 12.313233880189964, 13.17273401181973, 11.670448577131676, array([15.35197921]), array([17.73220707]), array([12.38504198]), 14.522432809483373, 15.26357024106801, array([13.64826514]), array([13.33090479]), 11.497852605836622, 11.40936976020843, array([14.97938754]), 14.735643591234727, 13.55644250606872, 13.079879409602741, 14.623344406788782, 14.035523366775145, 14.175592647570484, 14.99421559208921, 14.90583057531928, array([13.57427793]), array([11.29005715]), 10.876631460334325, array([13.45390003]), array([14.10017675]), array([14.71558736]), array([13.98215232]), 15.033237254008867, 12.259779344656568, 14.233447254975317, 12.859388555245994, 15.347712815992189, 13.869762628080329, array([14.89033801]), 13.073492958896386, 11.798306465187421, array([15.56195365]), array([14.2721071]), 14.241107182569637, array([14.25150528]), 11.94897967045954]\n",
      "[13.06187668413316, array([13.06309989]), array([10.85824201]), 10.529046507600086, array([14.63233854]), 11.536368644707016, 13.608560177383985, 14.244915767091276, array([13.67366329]), array([12.68029521]), 13.011996908179905, 14.669174443532151, array([14.51241623]), array([15.13070898]), array([14.58454297]), array([14.14294384]), 13.818143511488165, 12.9612501184235, 14.781847950995818, 13.424999573723841, array([13.70609143]), 13.192900237286155, array([14.12324976]), 14.791107258302985, array([14.24618858]), 13.411936605622042, 13.833913890061766, array([14.12241931]), array([14.08780129]), array([14.04245113]), array([14.07087612]), array([14.96506117]), 13.963969563135075, array([13.5254089]), array([13.54591029]), array([13.99998254]), array([14.70270399]), array([14.76292471]), 14.253448213302024, 14.265409317208055, array([15.20076751]), 13.94987286650093, 14.089098806655805, 13.54121783221832, 14.26351655465566, 14.141626768165985, 14.282318651684063, 14.274712755979163, array([11.54595134]), array([11.23693769])]\n",
      "[13.06187668413316, array([13.06309989]), array([13.66476071]), 14.180223095786909, 14.249277407379385, array([10.70532036]), 13.998293792096442, 13.811830815592662, 13.91264271847015, 14.10987953815816, 14.588885142776126, array([12.47039918]), 13.817202590447208, array([14.14482504]), 13.531545804697979, 13.459191942551247, 14.270768968682805, 14.268907254962487, array([14.43689385]), array([14.49934031]), 15.23567071196632, array([14.37157152]), array([14.76744914]), 14.364372046457847, array([13.46668752]), array([13.79129331]), array([10.01663001]), 15.302847966325135, 14.675297642780013, 14.663105715523617, array([14.77355849]), array([14.68953408]), 10.62076807983623, array([10.79375685]), array([13.8126885]), 13.886432293540992, 13.967223374036605, array([14.31461683]), 15.565083371655788, 14.34638337872422, array([13.73125664]), array([10.60728127]), 15.184998726713179, 13.88416277723632, array([14.51501041]), 14.354392365016, 13.654524957962757, 14.20044100044517, array([13.18864375]), array([15.12949557])]\n",
      "[13.06187668413316, array([13.06309989]), 14.260890332915633, 14.14646632226714, array([13.85997217]), array([13.8678613]), 10.285321560206853, array([13.95759055]), array([13.88057077]), array([14.39193832]), 14.28917207443026, array([13.76417417]), 14.151490288243028, array([14.19251984]), array([15.32765789]), array([13.9523875]), 12.560685544138018, 12.844045577762525, 14.483547071232607, 14.089343622433477, 14.124133120071127, 13.374161052103581, array([11.80195632]), 12.600645883001082, array([12.33892279]), array([14.37264754]), array([15.67217072]), 15.160153283896141, 14.765048555169907, array([13.76965572]), array([14.18868063]), 14.353029892318832, array([14.52426128]), array([14.0888779]), 13.820900573875898, array([13.7050307]), array([14.35063372]), array([14.22604117]), 13.114256878734494, array([10.30347737]), array([12.77876312]), array([13.41397206]), array([13.77281503]), array([14.00033164]), array([15.27404579]), array([15.21477395]), 12.31509915950843, 13.090856309013729, 14.816577005921287, 14.907248884699218]\n",
      "[13.06187668413316, array([13.06309989]), 13.875571499358083, array([13.8975806]), array([14.91703897]), 14.820684736946234, 13.824065471042113, array([14.95597529]), 14.148679251961216, 12.948890668295716, array([12.25357655]), array([13.80321925]), 15.356025803428182, array([13.14847776]), 14.921235500158842, 15.182860998879072, array([14.99070868]), array([15.36834253]), 12.52296862928939, 14.01369792754162, array([15.34957607]), 15.344191412255464, array([13.21283079]), array([12.41963327]), 14.296233795573857, 14.043051804740106, 14.221557486874428, 13.835129503883437, array([14.57434565]), array([13.74588533]), array([12.25210422]), array([14.42368195]), 13.777681101212796, 14.61486067545722, array([14.05633627]), array([14.13497666]), array([14.30399504]), 12.961053247782184, array([12.80326046]), array([13.36419002]), 13.791175740638279, array([13.82342526]), 14.47661587724856, 13.465966830440697, array([14.15940553]), array([14.31266302]), 13.969432106864522, 13.843023798468941, 14.848496391292706, array([14.63417511])]\n",
      "[13.06187668413316, array([13.06309989]), 11.988156236691387, array([12.86749267]), 14.45733427810648, 13.145676912568945, array([14.2858283]), array([14.3003782]), 13.17026488447854, array([11.81896066]), 14.042658128623689, array([14.92347354]), 13.834473970331473, array([13.82313392]), array([13.95103879]), 13.601613988087209, array([14.96259511]), 15.085414715358793, array([14.41669853]), array([13.30585845]), array([13.90221611]), array([14.57632739]), array([13.92608351]), array([14.62597111]), array([13.95808304]), array([13.81558344]), array([13.8628749]), 15.06972852429212, array([13.79048769]), array([14.0139593]), 14.140689251673876, array([14.05304759]), array([14.9997957]), 15.02922695151216, array([14.41451772]), array([14.34400345]), array([14.13674656]), 13.974445902858559, array([14.63094569]), 14.269403849687478, 13.227972311026548, 13.0754838059081, array([14.45209433]), 14.356092945301613, 12.808903171567685, 12.929848491115818, array([13.15154562]), 12.44953752119693, array([14.46668622]), 13.826298241322817]\n",
      "[13.06187668413316, array([13.06309989]), array([14.81230055]), 12.208707807614571, 14.65765207444701, 14.450353388492772, 13.845900550253335, 13.948419180365237, 14.245086363551053, array([12.36565041]), 14.375308923677569, array([15.18772592]), 14.355494638070958, array([14.25852615]), array([14.29663641]), array([14.28915328]), 13.56497406065342, array([14.56974282]), 13.724322176477006, 13.500443979890244, array([12.26170989]), array([12.78536327]), 15.383269461150896, 13.915119086797063, array([15.01564441]), array([14.9020385]), 13.824011274638847, 13.824232594788315, array([13.90182164]), array([13.95819341]), 13.764790358308115, array([13.61317629]), 11.94629958723625, 13.618923448792868, array([14.9542344]), 14.941864654685867, 13.134532886435624, 12.995801846433073, 14.475259547171657, 13.7766840428243, array([12.89298876]), array([14.57930139]), array([13.81879116]), 13.361589765149311, array([13.64476912]), 13.41910151209498, array([13.97600872]), 13.998074095826802, 13.890694319393955, 14.385199070445427]\n",
      "[13.06187668413316, array([13.06309989]), 13.486888156740624, array([13.75408321]), array([14.09053543]), array([14.02624716]), array([14.00729854]), array([13.87238734]), array([13.55867379]), 13.968362754986611, array([11.39007956]), array([14.33305224]), 13.904697280414734, 13.943087616552734, 13.890188340041862, 13.896722348675146, array([14.72285928]), 13.319568336473196, 14.565191592356163, 14.44212681723871, 13.988042833129331, 13.819272288676597, 14.74272158459955, 14.900866788826976, array([14.15058188]), array([13.80689917]), 14.080880759383403, array([14.13299733]), 13.26893232379747, array([13.80456995]), 14.206652663038147, 14.212248157042522, array([14.91102649]), array([14.19659616]), array([13.8815076]), 13.824978584472511, array([14.22447015]), array([14.62879086]), array([13.47191362]), array([13.96768125]), array([13.55972121]), 13.61621218559818, array([13.98661452]), 13.965384349829492, 14.569779735764055, array([13.8358696]), 13.236688263333702, 12.760683275234562, 11.774746602546731, array([12.78662813])]\n"
     ]
    },
    {
     "name": "stdout",
     "output_type": "stream",
     "text": [
      "[13.06187668413316, array([13.06309989]), 13.286155601670545, array([13.78571474]), array([14.63629266]), 14.059195732471988, 13.99941126967648, array([14.32688797]), 14.662289648737712, 15.131936515643725, array([13.38252193]), 14.304517571412104, array([14.43434858]), 14.412501518231497, array([13.63767817]), 13.845837882131455, array([14.42125549]), array([14.00570667]), 15.177712148119303, array([15.19256407]), array([13.77973469]), 13.927397910344741, 13.891109283626655, array([14.39358233]), array([13.88898393]), 13.963499649395393, 14.644565727084673, array([14.60674961]), 13.656786934408913, 13.200967674740419, 14.169159497613606, array([13.82092163]), array([14.21489004]), 14.224121096615706, array([12.37465216]), 14.527801733255146, 14.007330452745602, array([14.48785916]), 13.229699177097082, 13.478905207146832, array([13.73972174]), array([12.58035115]), array([14.12630172]), 13.809571918933283, 14.332744616987418, array([14.20847611]), array([14.48941686]), 13.839784836318353, array([13.83738348]), array([13.48409605])]\n",
      "[13.06187668413316, array([13.06309989]), array([14.03226718]), 14.303919890214951, 14.796778053071538, 14.287762576102374, array([13.88829707]), 13.903243182375357, 13.420577308644994, 13.287998049743988, 12.914874127007725, 13.125635750845033, array([13.76894968]), array([13.34343537]), array([15.49158977]), 14.161592881268957, array([14.8387761]), array([14.49218927]), array([13.31213515]), array([13.61800877]), 14.83710609812292, 15.396067547201085, array([14.4881835]), 14.219926884906409, array([13.90374176]), 14.301861702827951, 13.868353280886543, array([14.01128892]), 13.888893761875524, 13.94663728059169, array([13.96379233]), 14.358465239315366, 14.699604581622111, 14.631982164094403, array([15.12168961]), array([14.68108119]), array([13.46627681]), array([14.43467638]), 14.656336674210051, 14.531499603122715, 13.381355200112514, array([13.41426304]), array([14.54933495]), array([14.13028904]), 13.622580186369667, 13.609020782950296, 13.752383625375929, 13.968888589016895, 15.862442490594976, array([13.11851861])]\n",
      "[13.06187668413316, array([13.06309989]), array([15.3747218]), array([14.38238932]), array([13.7982998]), 14.430126095422192, array([13.32549157]), array([13.34267673]), 14.629193708598578, 14.48442246760125, 13.442873757573793, 13.345242792107463, 13.608686433008605, 15.162926547338886, array([14.34689705]), 13.702519621389875, 14.648612143509922, array([13.99840188]), array([13.46760305]), 14.066381495662506, 15.502265865538442, 15.316131644367145, 13.791780879058376, array([14.29925473]), array([13.41985791]), 13.28016296752398, 13.710621908616613, 13.63304529337095, 13.89674232997958, array([13.9347609]), 12.791920662740887, 14.338330100451548, array([14.65517593]), 14.389754532424043, 13.909011936636961, array([13.88481774]), 13.753490606668784, 14.140430604970414, 13.17891272138738, array([14.05295137]), 13.446362826787093, array([13.37778624]), array([14.17632042]), 14.156847417735126, array([13.80129551]), array([14.07137483]), 14.307087174835257, 13.860704920553868, 14.623824098430187, array([14.0322807])]\n",
      "[13.06187668413316, array([13.06309989]), 13.773236770113003, array([13.69497715]), array([13.88666438]), array([13.74958597]), 14.79890261493936, 13.688581673918044, 14.164248146282297, array([14.16023568]), array([12.95897798]), 13.150103154390031, 14.3847098467054, 13.969957554724104, array([13.45880483]), 13.54553937830874, 14.424445061480347, array([14.45631594]), 14.159266586356939, array([14.66019502]), array([13.58329414]), array([13.55508753]), array([12.94604225]), 13.542703970894298, 14.904229716024082, 13.7616507961012, 13.85127500652462, array([15.67656724]), 14.240428397354608, array([14.46026354]), array([13.82421084]), 13.294784764272167, array([13.75827917]), array([13.75474068]), array([12.92489457]), array([13.44388687]), array([14.15198074]), array([14.21128796]), array([14.36284981]), 14.220026904289346, array([13.83672049]), 13.516236782706041, 13.967073067619172, array([14.07540139]), array([14.16392057]), array([14.13250759]), 12.792339832607512, 12.804967972770521, 14.470364024516295, array([14.5538339])]\n",
      "[13.06187668413316, array([13.06309989]), array([14.08614682]), 14.304284662581077, array([14.22945008]), array([14.14493884]), array([15.27876173]), 13.202069026913811, array([14.36551235]), array([14.47449762]), 16.042025894851477, array([12.82205991]), 13.826599058624415, 13.616894295604888, array([14.85147464]), array([14.31186704]), array([13.02909569]), 13.650478436709129, 13.403528233347803, array([14.68584419]), array([13.69823745]), array([12.83201359]), 14.357912956763089, array([14.50715975]), 13.271913336583737, array([12.78915419]), 14.555738434831179, 13.820284207261798, array([14.12772228]), array([14.14709817]), array([13.46894415]), 13.474385894338111, 14.250177123404928, array([15.27076045]), array([14.12610786]), array([13.6021067]), array([12.93269191]), 14.752399896789232, 13.907555715112304, 13.269227131272618, 14.13464760928169, array([14.78814676]), 13.9196365267264, array([13.93282347]), 13.76188167885758, array([13.83949763]), 15.852947036642968, 16.04558173635793, 14.050327283268846, 13.799868218636771]\n",
      "[13.06187668413316, array([13.06309989]), array([13.6887787]), array([13.78895585]), 13.708809492761992, 13.903720153346379, 13.384266846914333, array([14.59290385]), array([15.07362118]), 14.385457929065073, 14.271219323647927, 14.28718255071703, array([15.40700159]), 16.920632912982118, 14.265207420950246, array([13.94644625]), 14.425989074689532, array([14.33230161]), 13.874113176122894, 14.01541331332276, 13.69417250321237, 13.340910601973277, 13.030062005909597, array([13.86197451]), array([14.40455347]), 14.323659800160268, array([15.20044671]), array([15.77946581]), 16.011277238303503, 16.060629910771524, array([13.62778499]), 14.303209332842096, array([13.38671601]), array([13.1239407]), 13.874025674482986, array([13.86564936]), array([13.8923809]), array([14.63887908]), 14.758038299787653, array([14.66557676]), 14.489518642481492, array([13.00873049]), 14.803250759035055, array([15.63082877]), array([14.03798591]), array([13.00395674]), array([13.5892581]), 14.699686900635628, 13.444415310494966, array([13.63612398])]\n",
      "[13.06187668413316, array([13.06309989]), 13.93755282240011, array([13.58160642]), 15.194014143060798, 14.8182374984687, 14.637175388397305, 13.892545806738989, 15.840062473679444, 15.953069961217984, 13.716784001437963, array([13.57627729]), 14.459514806336943, array([14.56307612]), 15.022502379320787, array([14.49519058]), 16.10106957911831, 15.113377344549056, array([14.03101453]), array([14.0238902]), array([13.81034041]), array([13.73078353]), 13.983885126437567, 13.68950026317596, array([15.22539082]), 16.606633953663383, 14.372708853635633, array([14.00900944]), array([13.47310259]), 13.214935726219379, array([14.45293618]), array([13.90588131]), array([14.24862804]), array([15.08263828]), 13.307124160635473, 13.929860566431259, array([13.60164999]), 13.634519243742101, 14.244712837238165, array([15.38990422]), 14.447243196573297, array([14.70982957]), array([13.6741833]), array([13.13159446]), array([14.2016436]), 15.24817793818926, 14.462186802205412, 14.502358115337767, array([15.00500945]), array([13.83907583])]\n",
      "[13.06187668413316, array([13.06309989]), 15.122084910535643, 15.421688640304147, array([15.26669023]), 17.07541092279681, 13.78902089751392, array([13.68025453]), array([14.75759123]), 13.140822085190536, array([13.84118713]), array([13.96755352]), 13.468875985221633, 13.31384146540351, 14.539854225199306, array([14.85850939]), array([14.55714942]), array([14.06572608]), 13.639685339905807, 13.78830505012616, 13.903581229268525, array([14.34737097]), 15.835534561040959, 13.864633311485697, 13.63546852316147, array([13.3513198]), array([14.0192631]), array([14.73071889]), array([13.37518286]), 13.75856245846775, array([14.28887063]), 14.415092589627823, array([13.57314418]), array([13.05776563]), 14.46020250513534, 14.471488086554915, array([13.85382368]), array([13.62478421]), 13.56118608786789, 14.792332033558688, 12.147951649555221, 14.697229350034336, 14.321948838059154, array([14.63592552]), array([12.71705283]), array([13.75459987]), array([13.86291826]), array([13.05765187]), 14.474017220397629, array([14.63683085])]\n",
      "[array([13.05765187]), array([13.05776563]), 13.436397797067436, array([12.51754763]), array([13.29657428]), 13.492878581895972, array([13.89691293]), array([13.62422362]), array([13.58587473]), 13.811007462563676, array([13.96935391]), 13.70834581717716, 13.591889018163846, 13.788664851454458, array([14.19330094]), array([14.66093182]), 13.785205627611822, 14.097323966248203, array([13.04658634]), array([12.93286427]), array([13.12811763]), 13.780855145473067, 14.0645114520132, array([14.72777425]), 13.839103664096559, 13.763773562387128, 14.390617322240201, array([15.17507832]), 13.874299403571829, array([13.98657454]), 13.4247377537354, array([14.71824628]), 14.689759607428313, array([14.67793247]), 13.597466715344448, array([12.9777655]), 14.31313335812853, array([14.35724638]), array([13.96868205]), array([14.3928206]), array([14.81479468]), array([14.69937223]), 13.441230281423106, 13.182653731220833, 13.382500353648426, 15.005703393298534, 14.690761479500702, array([14.61209662]), array([13.81774744]), array([13.36677157])]\n",
      "[array([13.05765187]), array([13.05776563]), array([13.82306063]), 13.63654326116812, 13.565349279499861, 15.723608171731698, array([14.56182889]), array([14.11898437]), array([13.97820905]), array([14.23931659]), 13.600078849443621, 13.514794197503928, array([12.73108051]), 13.858377579888716, 14.487161701061604, array([13.52560499]), array([14.69194142]), 13.164452630430345, 13.009548670726307, 13.050132230099349, 13.965328089971091, array([13.48594807]), array([12.85913483]), array([13.45094175]), 13.496356783505664, 12.593436639684342, 14.981866294781971, array([14.3091259]), array([13.39698093]), 13.508441684173603, 13.912986229995948, 12.822722416151292, 13.661487342965627, 13.688873010281654, array([12.79657092]), array([13.61031399]), array([14.64542683]), 14.34196273633777, 14.384988007191824, 12.92803417470766, 13.313961237130783, 13.379435982169303, array([14.11969032]), 13.324675389722879, array([14.98324784]), 13.612102827660015, 13.732248937816342, array([13.82958214]), array([15.12054864]), 14.903211120157449]\n",
      "[array([13.05765187]), array([13.05776563]), 13.329098515258462, array([13.67276371]), 13.94952369963848, 13.86862365820906, array([15.3080106]), 16.241512008621026, 13.62772076154705, array([13.91183233]), array([13.08256291]), 13.674463989080081, 12.918320582052228, 13.497286197850304, 14.467740871055872, array([15.0344755]), 13.88074883932997, 13.107718725629564, array([13.01455501]), array([13.00840287]), array([13.59509959]), 13.607405171517877, array([13.60265851]), array([13.45224752]), 13.782321671262121, 13.856697817059226, 14.166122197060119, array([14.28259602]), array([13.76572382]), array([13.87964772]), 13.50141364284113, array([13.74260147]), array([13.43087023]), array([13.03052248]), array([13.57136553]), array([13.11968773]), 14.025727633185086, array([12.41863504]), array([13.69054024]), array([13.83454154]), array([13.72848498]), array([13.73431052]), 13.550144254248169, array([13.51549777]), array([15.19240166]), array([15.31358116]), 14.645719953436783, 14.607783310441176, array([14.39710961]), array([14.30381328])]\n",
      "[array([13.05765187]), array([13.05776563]), array([13.63026242]), 13.635974634469811, array([13.97294719]), array([14.50500371]), array([14.86448547]), array([15.56860787]), 13.579800895704588, 14.171711906337674, array([14.32059547]), array([16.05206103]), array([13.74150345]), 13.403018496633221, 12.674132365961313, 13.961023163545285, array([13.77450107]), array([14.31585333]), array([14.30102555]), array([15.35556565]), 13.913599404383065, array([13.316324]), 13.596715935703998, 13.863321496703566, 13.301279873300427, 13.445310616682539, array([14.34486945]), 13.715178218270882, 13.80490436652775, 14.262151523154852, 14.566519847904885, array([14.13800163]), array([12.76016681]), array([13.74120781]), array([13.66301618]), 13.450694785547531, 14.095161233392682, array([13.88015347]), array([13.09977314]), array([13.42895241]), array([13.43006614]), array([14.41299608]), array([12.96026014]), 12.927590343000087, array([14.3030022]), 13.773918199876878, array([13.00844303]), array([13.82902222]), 13.083902518054153, 13.047231464716997]\n"
     ]
    },
    {
     "name": "stdout",
     "output_type": "stream",
     "text": [
      "[array([13.05765187]), array([13.05776563]), 14.185613223410417, 14.119296644247628, array([14.24538582]), 13.585518031277449, 16.33789696788966, 15.229483812102757, 16.929047321334497, array([14.17152043]), array([13.15261109]), 13.900605076395495, array([14.50619538]), 13.679942516975677, 13.182383807695766, array([13.19163519]), 13.70359041977772, array([14.20521837]), 13.462929840360795, 13.441291555986613, array([12.77639928]), 13.730632283018386, 13.000534763410679, array([13.18781229]), 12.912320389548855, 12.938255595574054, 14.871016009390662, array([13.32043376]), 13.643065553614449, 13.773676098365351, array([14.28919037]), 13.880271307593643, 13.918157829547459, 13.751578936341765, array([13.77105305]), 14.330702670711174, 12.94408676808955, array([12.93715042]), array([14.25013553]), array([13.43036636]), 14.584883234135871, array([13.25038089]), array([14.03980597]), 14.50216095913002, 14.861689479782825, 13.66697529561387, 13.848600018171776, array([13.5623273]), 13.603802937566039, 13.29775214650386]\n",
      "[array([13.05765187]), array([13.05776563]), 13.751508172464394, array([13.59890307]), 14.988641418296208, 14.01552142803746, array([13.25780899]), 14.596077537357138, 13.39307681830677, array([13.55514709]), 13.158576386192758, 13.484596913244548, 13.288664796224385, 13.738536557443616, array([13.05355741]), 12.883512441863221, array([14.09851768]), 14.226584071700675, array([14.844617]), 13.979525590014147, 15.302971536192969, 13.859279833139889, 13.550251153789151, 14.4335631162789, array([13.89497168]), 13.845456748410918, array([13.11474479]), array([13.1387647]), array([13.03149854]), array([13.78793415]), array([13.37070643]), array([13.60642544]), array([14.58995386]), 14.442520530674997, array([17.86516651]), array([17.5932271]), array([14.91270633]), array([13.84030845]), 13.898269592498556, array([14.48229677]), 13.74040545604997, array([13.82390042]), 14.507089337405183, array([14.66546802]), 13.521159069144339, 13.591031170454212, 12.828251840969433, array([13.56724774]), array([14.24563142]), 14.25167758581978]\n",
      "[array([13.05765187]), array([13.05776563]), 13.731494784733933, 13.742588247278759, 13.646341224097771, 13.486341662840658, array([13.15795738]), array([13.01631813]), array([13.31196449]), 14.786341268168973, array([13.74981949]), array([13.74814011]), 14.754149758260418, 13.978299174649568, 13.995623415800933, array([13.81361311]), array([14.07160134]), array([13.95887433]), 14.268490562006399, 14.272283162312613, array([12.90870685]), 13.663126069733778, 13.42552573613743, array([13.44967404]), array([13.66237721]), 13.452584565802631, array([13.77188125]), 13.719592727729424, 13.631308831485402, array([13.77054019]), 13.064299259503962, 12.804690816681978, array([13.22183979]), 12.798092387301217, 14.158519398614871, array([13.52021122]), 15.322050855996135, array([15.35719892]), 13.180650946179881, array([13.1838475]), 14.618596469002979, array([13.6746592]), array([14.371579]), 15.114278480570992, 13.497425479475476, array([13.48972957]), 13.727638393844842, array([14.7327996]), array([13.17698845]), 13.498393376751885]\n",
      "[array([13.05765187]), array([13.05776563]), array([13.7474746]), 13.49061130679146, array([13.84497448]), array([13.53970418]), array([12.88801004]), 14.026651745468453, 13.728800645789764, 13.840757225133554, array([13.68693238]), array([13.68007862]), array([12.76370889]), array([13.14992999]), 13.49142691752577, 13.256046585227615, array([13.27919104]), 13.383038852405587, 13.392534875913924, 13.62650867024939, 13.704583859207439, array([13.71337151]), array([13.85325569]), array([14.13794739]), array([13.40615298]), array([13.47230288]), array([14.25654614]), array([14.25894426]), 13.223761251234762, array([13.03387566]), 13.011615674264448, 13.426333081792713, array([12.85207964]), array([13.19942821]), 13.735504079794099, array([14.44481727]), array([14.07275542]), array([13.8171641]), array([13.55120679]), array([14.03289778]), array([13.8400375]), 14.446988062074325, array([14.75153903]), array([14.67038782]), array([12.78313804]), array([14.43758916]), array([12.99911058]), 14.05234305542159, 13.023952333009554, array([12.99827285])]\n",
      "[array([13.05765187]), array([13.05776563]), 13.184393140853869, array([13.34197689]), array([12.51487768]), 14.523277046350927, array([13.28117024]), array([13.49127458]), 14.321517538115813, 14.364139663906455, array([13.82068104]), 13.79053064610762, 14.143847161805825, 13.605500094428667, 13.384473974931554, array([13.52281752]), 13.753740756413421, 14.156864857654757, array([12.76640146]), 12.650431530944289, array([14.08283015]), 14.304703692721715, array([14.72965375]), array([12.95680112]), array([13.19898463]), 13.135957178110216, 13.598602937203555, 13.608513346988964, 13.164363172259849, 13.06615183833447, array([13.70466688]), array([13.65481399]), array([13.43623899]), 13.633396681697105, array([13.55866245]), 13.590605371918736, 15.280892461711641, array([13.16754414]), 13.505261592741364, array([13.10222462]), 14.029334380337005, array([14.04999289]), array([13.34918]), 13.596152863045981, array([13.39310705]), 13.385184980533083, 13.02300599066674, 13.515976947861661, array([12.96023693]), array([13.12126777])]\n",
      "[array([13.05765187]), array([13.05776563]), array([12.97740515]), 13.378744648993385, 13.962875670170126, 13.522538393383352, 13.674942543815192, 13.467021326298125, 13.187102233436828, 13.192603772987418, array([12.76668612]), 13.151489899450556, 13.861676900124296, array([13.61328902]), array([12.70661396]), array([12.59482422]), 14.283007781043148, array([13.47404719]), array([12.8974668]), 12.226082808416992, 12.905458936973979, 13.042903823124998, 13.69797132912728, 13.436532667011374, array([13.5128672]), 13.56095307324662, 13.066034171106827, 13.068352786962148, array([13.10126756]), array([12.38850622]), 14.543780275729285, 15.273193553828397, array([13.21953339]), 13.168117818494506, array([13.49900349]), array([13.50756867]), array([13.83829289]), array([13.62156733]), array([13.05876603]), array([14.78846683]), array([13.43826098]), 13.302943624550752, array([13.83767022]), array([13.86133619]), 15.819188320228603, array([14.64725968]), array([13.487983]), array([13.73661378]), 13.281251179635253, array([13.34810597])]\n",
      "[array([13.05765187]), array([13.05776563]), 13.250384658451605, 12.915145260062726, array([14.45550323]), array([15.37380943]), 13.241255195549277, 13.613177389126033, 13.527357558216531, 13.611393601923599, 13.037231034636346, 13.336499447992745, array([13.44706726]), array([12.53201123]), array([13.48007242]), array([13.41067376]), array([13.64148514]), 13.680093120287175, array([13.33385996]), array([13.41735984]), array([13.71265069]), array([13.55361788]), 16.17941374424577, array([15.00745599]), 12.92576270038206, 13.02617375821409, 12.613797716881095, 12.901362880079983, array([13.25876393]), 13.449280639248506, 12.55990248507505, array([12.48281191]), array([13.16280305]), 13.358608212747308, array([13.21645427]), 13.104901624631124, array([13.22270856]), 13.290822098601517, 13.1111703641522, 13.066743930409496, 12.66980594423063, array([12.37912339]), array([13.11621776]), 15.106279277762368, array([15.25641792]), array([14.32848852]), array([12.75195542]), array([12.86430346]), array([13.53170746]), array([13.54424572])]\n",
      "[array([13.05765187]), array([13.05776563]), array([12.5650358]), 13.090201661763869, array([13.42712278]), 13.481809106442611, 13.358463937348061, 12.634159534755147, array([13.59038903]), array([13.17031169]), array([13.2826961]), array([13.43334917]), array([14.9889304]), 14.677960053646839, array([13.02986216]), 12.570314671113254, array([13.30324173]), 13.3089776502322, 13.523760955642164, 13.53014684807647, 13.672250789968572, array([13.3082429]), 14.229853706469232, array([14.8808852]), array([13.61878858]), 13.611559109561528, 11.697786815680933, array([15.28113779]), array([12.45261686]), 12.296504226031638, array([13.29573628]), array([13.48377817]), array([16.14615039]), 13.3412215510994, 13.476880071771904, array([13.62056497]), 13.683384299330127, array([13.64840036]), array([14.80946694]), array([13.05363329]), 13.018412500126228, 13.039411299058965, 12.472694799307796, array([12.56538606]), 12.461726182823982, 12.484040535151099, 14.369701846385007, array([14.29303071]), 13.639900567309438, 13.720534454492322]\n",
      "[array([13.05765187]), array([13.05776563]), 13.005038223222318, 13.612205338154105, 12.445835746726535, 12.386119575581866, array([13.29070121]), 13.478662908381901, 12.658360539051492, 13.821023473657485, 13.972570468006046, array([15.87245014]), 14.72375156481982, 13.204313547478517, 13.421348372911535, 13.424271358133195, 16.842828238150744, 14.32923561187588, array([12.51095821]), 13.217801312637604, array([13.66689946]), 12.825547340618106, 10.72451666870656, 12.201326083289143, 13.574007936881726, array([12.54545053]), array([13.08268724]), 13.624350240875538, array([13.07346974]), array([13.29451564]), 13.023577274921033, array([14.18692358]), 14.181603356936193, array([12.77710555]), array([12.42975838]), array([12.26765141]), 12.471484123304782, array([12.47419809]), array([12.99755816]), array([13.66465864]), 13.06290692925797, 13.071520504833543, 13.743860774118867, 13.621484929328348, array([12.64623813]), array([12.32799776]), 14.249780430300357, 13.587617648023746, array([13.59615857]), 14.01735969667772]\n",
      "[array([13.05765187]), array([13.05776563]), array([11.97318737]), array([14.1955227]), array([12.6299738]), array([13.39152054]), array([13.64466996]), 12.819528191237039, 15.926063763175348, 14.81303005770669, array([13.01110231]), array([12.42504912]), array([13.28514592]), 12.949569163899572, 12.621330484452804, array([12.61807971]), array([12.86582199]), 12.725839192518094, array([13.2865522]), 12.795658717747102, array([13.14560293]), 13.463593694498798, array([13.92294546]), 14.248191531431576, 12.963206091546203, 12.9979805442627, 14.362684369319705, array([13.68201498]), 13.31890780769269, 12.657356851150151, array([13.02372324]), 12.479253270845334, 13.65509166054669, 13.441457104513665, array([13.05102308]), 13.296094897409596, array([13.28386425]), array([13.47700137]), 14.107635053212919, array([14.22528414]), array([14.03324346]), array([11.69932814]), 14.344302624032322, 15.046675529956921, array([13.10147694]), array([13.07114071]), 12.423971376872828, 12.977128267075829, 13.054504249359855, array([13.05215951])]\n"
     ]
    },
    {
     "name": "stdout",
     "output_type": "stream",
     "text": [
      "[array([13.05765187]), array([13.05776563]), 13.053568290142458, 13.05450420991558, array([14.25969805]), 13.861555878644864, array([13.36496331]), 13.731866119632718, array([12.20565155]), 14.357636393170703, array([12.94763402]), 12.906703290613978, array([14.06942511]), 14.497191505429956, 13.281012718733185, 13.292255669119884, array([13.063764]), 13.070820617588561, array([14.15907289]), array([14.21199765]), array([12.41909002]), 13.096027173220428, 14.347778355058848, 14.228919816063966, 11.867946241269525, array([11.9182954]), 14.329781025726453, 11.9980831364658, array([12.87184318]), array([12.86924365]), array([13.39485298]), array([14.13192818]), 13.017593668970838, 13.044411363125032, 12.27866617912782, array([13.87365492]), 13.81914857757072, 13.560857290580309, array([15.33740368]), array([16.89403904]), 13.372823273372548, array([13.27505934]), 13.436578344358859, 13.578121599468778, 12.844802463686465, 12.842784414123559, array([14.04770784]), 13.06712227864277, 12.733483116422727, array([13.15673792])]\n",
      "[array([13.05765187]), array([13.05776563]), array([12.25861403]), 13.252843447282748, 13.964299597901674, array([13.66428191]), 13.178333960632502, 13.151897112893385, array([13.7929489]), 15.012943969852154, array([14.84608483]), 13.159905815718242, 12.14535825068983, array([12.72872003]), 12.963065352099884, array([12.95460687]), 13.23421585907963, array([13.96437628]), array([13.41583113]), array([12.69494964]), array([15.11284829]), array([12.36898837]), 14.041048100012535, array([14.25331498]), array([11.76112636]), array([11.69100589]), array([13.80883938]), 14.07188741428147, 14.20497849200149, array([11.71947649]), 12.767732397360827, 13.157655986654069, array([12.62060042]), array([12.93626854]), 13.221394600631823, 13.381222969779822, array([14.19712601]), 14.236253293783925, array([13.86904389]), array([12.96541426]), 13.273635223485014, array([13.37625545]), array([12.82628552]), array([12.80598742]), 17.834740101788533, 16.29618592758123, array([14.01234507]), array([14.04869825]), array([13.57886815]), 13.99389741090666]\n",
      "[array([13.05765187]), array([13.05776563]), 12.754107739160832, array([12.34833578]), 14.34002122573151, array([14.47251646]), array([13.05423794]), 13.6771946808842, array([13.24366059]), array([13.1859056]), array([12.98318239]), array([13.21821681]), 13.727878183008466, 13.324785716894844, 11.882375673977334, array([12.81759013]), 15.173855053353513, array([14.59645053]), 12.939502705401866, array([13.16562493]), 14.637109545257498, 13.91284863348162, 13.362331919192671, 12.899009178158002, array([12.95394687]), 12.963253537663084, 12.913692447861097, array([12.98862596]), array([13.33226266]), 13.414405102318824, array([14.31802502]), array([12.98406658]), array([12.2110899]), 11.046608703283312, array([12.73323678]), 12.990523677199455, 11.897113145859072, array([11.46138036]), array([13.50438655]), array([13.33364154]), 12.979390266418187, array([13.04075847]), 13.533315942779998, 14.385328478129853, array([14.0363587]), 13.192727266987674, array([12.70543943]), 12.73341835615601, array([13.83619323]), 13.895258070766094]\n",
      "[array([13.05765187]), array([13.05776563]), 13.432723184723384, array([13.35168321]), 14.307301049842708, array([14.23919388]), array([12.36371816]), array([14.78056556]), array([13.59158249]), 14.111600262892193, array([13.93074158]), array([13.1296218]), array([12.92653787]), array([13.0956299]), array([12.50819943]), 13.918311334143315, 14.603653119938748, array([16.55411146]), 14.00016738574993, 13.799845072063485, array([13.54845547]), 14.115995494829782, 13.391378264200904, array([13.48714933]), 14.36351236879093, array([14.60911677]), 13.063581133714868, 12.994152676046683, 13.219190404107033, 13.226032976746797, array([12.96276042]), array([12.95667689]), 12.95292810732278, array([12.9805681]), array([12.46580597]), 13.202353290916745, 12.751633884657883, array([12.74468738]), 13.587377139350812, array([13.65239508]), array([12.42539199]), 12.973419679890952, array([12.87556634]), array([13.04625081]), 14.216960766835228, array([12.82577213]), array([12.27135328]), array([14.33134515]), array([14.76819554]), array([13.28410711])]\n",
      "[array([13.05765187]), array([13.05776563]), array([12.4969668]), 12.29224116106399, 13.58458822397914, array([13.65796207]), 13.982084028804882, 14.979914469291732, 11.883425018595469, 13.73327981641599, 13.04467831943333, array([13.32041507]), 14.18755196281867, array([13.43346973]), array([12.11570042]), 13.290701196497631, array([13.38926189]), 13.512752272818824, array([13.2885453]), array([13.6682217]), array([13.13696937]), array([12.41474693]), 12.976766003361151, 13.445781344573644, 13.449720765175142, 13.462266092091442, 14.239010985024287, array([14.5592381]), array([12.98477391]), 12.908323915005273, 15.275950193381998, 13.720843470814685, 14.102339002084765, array([14.43958007]), array([13.44689984]), array([12.31031708]), 12.37494055202481, 12.887188414715972, array([13.06704369]), 12.9505812829176, 12.99606209490901, array([12.84732762]), array([13.3944535]), array([13.12245718]), 13.12333767477837, array([13.74003304]), array([13.12185912]), 12.88139854206615, 12.453125551114182, 13.032595789898634]\n",
      "[array([13.05765187]), array([13.05776563]), array([12.06853697]), 12.489262716666628, 13.118045354432628, 13.031818206447934, 13.222166118212995, array([13.55000644]), array([11.79602998]), 13.674369920913115, array([14.32256211]), 13.872325494395877, array([12.97832761]), 13.317331793304124, 11.893883154584243, 12.521432634149878, array([14.28389943]), array([14.81552907]), array([15.57502287]), array([14.51404624]), array([13.0588917]), array([13.09007954]), 12.61952724211158, array([13.8646627]), 13.198641162470123, 13.268634754314022, array([12.62877753]), array([12.22905688]), 13.583653562593152, array([13.67246798]), 12.801801000540864, 12.913060061363574, array([15.32718056]), array([14.63258608]), array([13.09262472]), 12.927863023882088, 13.445468500891835, array([13.24748185]), array([14.09550914]), 14.345672866396807, 14.60528384578905, array([14.65242528]), 12.430426734323843, array([12.54764345]), 13.817547403785992, 13.925598369957317, 13.16854686078349, array([13.34667801]), array([13.68308364]), 13.51740963117461]\n",
      "[array([13.05765187]), array([13.05776563]), array([13.35541077]), 13.697503128013818, 12.952787359321286, array([12.83134517]), 15.359518262045706, 14.572392590285135, array([13.64786936]), array([12.62884211]), array([14.12694924]), array([14.55194368]), array([13.2000348]), 12.245614628825436, array([12.75579331]), 12.998801678098312, 12.49834320087243, array([14.06415684]), 12.92969700574058, 12.62949585155226, array([13.42617147]), array([13.43062078]), array([12.79689449]), 12.88441167269179, array([12.97861781]), 13.250627296242646, array([11.91688073]), 12.022573026192006, 13.417768434781749, array([13.04160986]), array([12.58363343]), array([12.65696037]), array([11.89728938]), 16.69103420200903, array([13.23433452]), array([13.24657023]), array([14.64499832]), 13.955890950870414, array([12.32174782]), 11.116703176411766, 12.520121046613964, array([12.29342347]), array([12.43784312]), 12.698371587417043, 11.011411315186338, 13.17157969708335, 14.446874319537008, array([14.25589405]), array([12.98477302]), array([13.09875395])]\n",
      "[array([13.05765187]), array([13.05776563]), array([12.62375881]), 12.42498154319061, array([12.32982028]), array([13.80715715]), array([12.76960031]), array([12.47270794]), array([12.20620898]), 12.83106532493605, array([12.85837417]), 12.787839965895314, 12.071751437749878, array([12.02990235]), 12.141632259783794, 13.039047503025945, array([14.41592076]), 12.972240300667481, 13.967967478084024, 13.872656732673827, 13.209336718183316, array([13.44817383]), 12.334606132838946, 12.771751513670312, 12.802230396828607, array([12.62333824]), 12.429870584683572, 12.786336369693489, array([14.03580062]), array([11.54411209]), 14.492776178705594, array([15.4674292]), 15.372304972252124, 13.469961010687147, 13.023484530256768, array([12.63088016]), array([12.48945197]), 13.164577890322207, 10.435505820085037, 11.261661797747676, 12.758203113087587, 15.377860494187253, array([12.92309027]), 12.90250488348841, array([12.12083548]), array([12.36367246]), 14.40824433423982, 13.779079380085845, array([13.83758766]), 13.683773047015096]\n",
      "[array([13.05765187]), array([13.05776563]), array([12.35314175]), 15.397478185332155, 12.694701721629913, 11.1231124800351, 13.764635212506112, array([13.78722354]), 13.27329587387134, 16.203132907340887, array([14.15388662]), 14.972531870438768, array([12.6145381]), 12.681447694389693, array([10]), array([13.0702654]), 10.864575284064102, array([11.7094596]), array([13.83258831]), array([13.78840703]), array([14.03493766]), 15.14803357402543, 12.837584116410397, 12.499632058754475, 12.973251461529632, array([13.48095476]), 12.535478584626498, array([12.64318442]), 12.86283704873656, 12.591040578114098, 12.215053607220572, 12.160451876342542, array([13.68351967]), 14.932208765117517, array([15.31529023]), 15.512407445056986, array([13.05801152]), array([12.91132724]), 13.024818705105462, 12.952773489158053, 13.288793058139984, array([13.80560638]), array([14.17091585]), array([14.19633207]), array([15.37581845]), array([13.64898949]), array([12.1327596]), array([12.12098423]), array([12.77696476]), array([12.76171839])]\n",
      "[array([13.05765187]), array([13.05776563]), array([12.7471575]), array([12.23724455]), array([13.13322712]), 13.418855842015766, array([13.54277227]), 14.091455460790877, array([13.03411346]), 13.476250899116721, array([13.12105297]), 13.270507058168116, 10.692857766521465, array([11.99700549]), 12.668643214357555, 12.649351083425135, array([13.09723666]), 12.960854665609558, 14.206223445893565, array([13.79264175]), 15.459608804091506, 13.739214701318346, array([13.42293155]), 13.48006100965807, array([13.27850695]), array([13.21816934]), 13.24063993953341, 14.502299181680534, array([12.26166668]), array([14.79163611]), array([10.76099478]), array([12.32370047]), 12.71421500485318, 14.346033645852167, 12.770052421028726, 12.525782131765721, array([13.0366685]), 13.070815100502331, 11.853151227959296, 12.353728644435261, array([13.30200516]), array([10]), 10.710226733094018, array([11.64542277]), 13.364994940574267, 13.32545891277353, 13.7186529765679, 10.857776972044746, array([12.75255829]), 13.240967842653502]\n",
      "[array([13.05765187]), array([13.05776563]), array([12.43929895]), 11.753975727973188, array([13.0478661]), 13.106726492026798, 12.978439178127026, 12.797262933907763, 13.20016534457269, 13.078300546013883, 11.570770791888839, 11.55463580492524, array([12.81031763]), 12.627037467244001, 13.474968062818832, 13.414890903353628, array([13.19465146]), array([12.6844777]), array([10.13530792]), 12.919393405087412, array([13.61485948]), 11.37922657138698, 11.060332219883602, array([12.97910842]), array([13.37545111]), 13.532739783981585, array([12.8927922]), 12.493645043163388, 12.783352914648264, 13.943558313136451, array([13.00071197]), array([13.524378]), array([11.58059872]), 12.365320211751706, 13.067964734066235, 12.079725764111718, array([13.09633705]), array([13.06937137]), array([13.28096121]), 13.425648005685211, array([11.94801712]), 11.755904683578443, array([13.0762944]), array([14.09664851]), array([14.37147244]), 13.994202065876328, array([14.35227394]), array([11.88730812]), array([13.15919973]), array([13.17895603])]\n"
     ]
    },
    {
     "name": "stdout",
     "output_type": "stream",
     "text": [
      "[array([13.05765187]), array([13.05776563]), 13.31763695254367, 13.1216142393993, 13.50202338971934, 11.500305287658618, array([12.87408859]), array([12.86704914]), array([13.16738652]), array([11.66928742]), array([12.91328666]), array([13.05032658]), 12.855726122982663, 13.080231177634467, array([13.46728401]), 13.667711005384763, 12.82767237859791, 12.585756119448245, array([12.94738643]), 14.14501834001761, 14.016351024937522, 13.9900878134198, 11.260680390714255, array([13.78400363]), array([12.949069]), array([13.03777672]), 13.15590366737333, 14.255958972160826, 13.189008565211303, array([12.07668254]), array([12.7365841]), 13.008225359128984, array([13.19184173]), array([13.11365611]), 11.982946630775443, 11.911980779007564, array([13.12058467]), 13.251765746506706, 12.132188495054141, 12.063082060162483, 12.398190203409653, 13.120143154686817, array([12.56625061]), 12.411324815105413, 13.183958300184715, 13.166750472025926, 12.147285363771891, 12.092858456008935, 12.234384456352632, 12.253565101257948]\n",
      "[array([13.05765187]), array([13.05776563]), array([12.54187081]), 11.77370171928948, array([13.10340232]), 13.278366014895672, 12.50092342336459, array([13.13725676]), array([13.14324939]), 12.198842867181312, array([12.27518713]), array([11.25780637]), 13.060845962219854, 12.263061369729192, array([14.05694481]), array([13.62843615]), array([13.35355069]), 14.317912233811391, array([13.07191542]), array([13.06566818]), array([11.81042492]), 11.444372251623118, 12.889922385079194, array([12.81343468]), 13.130639295292582, 13.130469904212156, array([13.42498927]), 11.840514075615978, 12.073596442185515, array([13.28150036]), array([13.38278724]), 12.860211959695834, array([13.14235478]), array([13.19361479]), 13.365028291985968, array([13.08721087]), 12.775664870607965, array([12.99478698]), array([12.34387945]), 11.175351260216118, 12.858257938753972, 13.057861222677726, array([12.31765684]), 12.31871290104442, 11.914802998855503, 11.864711485926048, 13.406334626804421, 13.093998287926041, array([13.10759347]), array([13.07468859])]\n",
      "[array([13.05765187]), array([13.05776563]), 13.052430306870722, 13.71630885494992, array([12.13694506]), 12.17704373691072, 13.813665917677096, array([11.72363926]), 13.125290514359495, array([13.03604564]), 13.0624026072994, 13.056570207756916, 13.132491512987757, array([13.11804461]), 12.339597625922526, 11.740203250080166, 14.381765230289705, array([12.22998381]), array([11.09706102]), 10.930020095505117, array([11.34030664]), array([13.3294398]), array([13.13377198]), array([13.11207859]), 13.146503634192733, 13.104340115550825, array([13.49854877]), array([13.22462801]), 13.608462898931286, 12.190166706873852, array([13.12244858]), array([13.10116803]), 13.035227897286074, array([13.06882278]), 12.650525613027174, array([13.0902166]), 13.135969234621973, array([13.05167766]), array([13.0699946]), 13.124292057507768, array([12.1959751]), array([12.68337449]), 12.522170125933437, array([12.21736428]), 13.14930881718796, 13.12710655185689, array([12.82082063]), array([13.34424637]), 12.41288454384636, 12.142505704657674]\n",
      "[13.056570207756916, array([13.05765187]), 13.132369577140095, 13.137961767520103, 12.209930853526489, 12.211182738112118, array([12.9209891]), array([12.57845576]), array([12.40520629]), array([11.48982274]), array([12.1674164]), 12.92249451356786, array([13.12106937]), array([13.01104598]), 12.970462500739107, 13.113680326360521, 12.595916907672121, array([12.97645544]), 14.272277181282892, 13.769084475072466, 13.02481477176772, array([13.3029622]), array([13.24257583]), 13.427590150155243, 13.102023310465384, array([13.09301718]), array([13.38650912]), 13.218656758302211, 13.149378674156244, 13.134492675578803, 12.13012569844754, array([12.08144576]), 12.172694874473908, array([12.16138867]), array([13.06382019]), array([13.11067803]), 11.984193721480617, array([11.33398443]), array([12.47585238]), array([12.47089136]), array([13.07215636]), 13.08286456947997, 13.070285724535736, 13.064618565425878, array([13.27953095]), 13.848732736267838, array([13.01438031]), array([13.11296533]), 12.665816753705007, 13.030732933407128]\n",
      "[13.056570207756916, array([13.05765187]), array([12.83229405]), 12.814422655940913, array([12.20032937]), array([12.21450535]), array([12.64619467]), array([12.04968263]), array([12.73338048]), array([13.12320519]), 13.102099326009759, 13.091990408496288, array([13.02663224]), 12.613301988309706, 13.02675993608495, 12.933542659699555, 14.065255419565196, 13.485808449135448, array([13.13220763]), 13.122007937306016, array([12.66370304]), array([13.17698546]), 11.902543487026014, array([11.92405793]), 12.370292700570024, array([12.36609025]), 13.026269012894224, 13.04320649427291, 14.552898328400307, array([14.36234134]), 12.598595831618026, 12.714308137875168, array([12.54986148]), 12.14754273449785, array([12.55517115]), array([11.88235108]), array([13.07948017]), 13.112493268474783, 13.054098300737044, 13.129151345825122, 13.241901931129595, array([13.27727203]), 12.574356416368873, 12.427720362489438, 13.005046164380872, 12.977057465854314, 13.137513478090574, array([13.21409044]), 12.608029639133356, array([11.41731783])]\n",
      "[13.056570207756916, array([13.05765187]), 12.90119656068259, array([12.40532412]), 11.554007066712023, array([14.91056639]), 12.74170468567675, 12.634477727257712, array([13.43872757]), 13.715676285058528, array([13.18427507]), 13.183331671808794, array([12.71078428]), array([12.84010178]), array([13.04652197]), array([12.88630707]), 12.395347808922207, array([13.21045413]), array([12.70783219]), array([12.50683407]), 12.623935357344461, 11.156083060840407, 13.325054531226531, 11.870668611137726, array([12.51057243]), 12.888361244752177, 12.801546128396971, array([12.62941155]), 13.043454980913834, array([13.05784693]), array([13.08368107]), 12.789283545639716, array([13.27029021]), array([13.25596475]), 13.625877396419774, 13.51825798887591, 13.141725232695142, array([13.11967006]), array([12.42354191]), 12.66292114018592, 12.216540734369165, array([12.11655283]), array([12.89397855]), array([12.99025417]), array([13.09226939]), array([12.19742503]), 12.817560539749682, 13.31846812349444, array([13.01257917]), 13.042770962019432]\n",
      "[13.056570207756916, array([13.05765187]), array([13.10038198]), array([12.99829257]), array([12.4994898]), 12.749394437814306, array([13.09064485]), 13.055734188046001, 13.666941348802583, 13.711466658277494, array([12.96615428]), array([12.75019635]), array([13.75682825]), 11.91674016099497, 12.758374116387527, 12.692488513275281, array([12.6124217]), array([12.74484172]), array([12.80290966]), 12.912506379178879, 12.615258896386756, array([12.52870842]), array([12.958643]), 12.944420333765958, array([12.96472542]), 13.049242486030723, 13.15592614761744, 13.206186254984647, array([13.08249655]), 12.764370799036454, array([12.69787291]), 12.924514570738886, 12.660671525757262, 12.401197997596647, array([12.65742575]), 13.21194094956979, 12.933893828545509, array([12.83054808]), 12.841990071922336, 12.679370898735716, array([12.89214366]), 12.042645332489522, 12.789376952534235, 12.869120118235651, array([12.95561202]), 11.994751971772256, 11.900033353664835, array([12.55456277]), array([12.43704452]), 12.318089484481279]\n",
      "[13.055734188046001, 13.056570207756916, 12.877023016180008, 12.970781485080035, 13.543340384627664, 12.330736929381581, array([12.76395906]), array([13.22847935]), 13.73054364722642, array([13.84653893]), array([13.4413197]), 12.968499658706246, 12.732613726375646, 12.712362724268216, 13.460610252405488, 12.4459555531275, 12.789370805806062, array([12.83554374]), 12.473453878126413, 12.45718046942093, 12.874471642233722, 12.377963045504362, 12.67917579114541, 12.699778328509074, 11.891600457733078, array([11.80196121]), 13.07945146271847, array([13.08678624]), array([11.60298257]), 12.832720310626332, array([12.66454278]), array([12.96082564]), 12.768523773276588, array([12.96601555]), 12.865622411947195, array([12.68786111]), array([13.13722157]), 13.080718095069962, 12.820018733787746, 12.688166718961222, array([12.57999755]), 12.606873119913162, array([11.87031]), array([12.00342384]), array([13.15753678]), array([12.98901889]), array([12.91231031]), 13.0547012791826, 12.76085167109827, array([12.72347742])]\n",
      "[13.055734188046001, 13.056570207756916, array([12.68227115]), 12.682617599391143, array([12.93286857]), 12.977281197274653, array([13.18259786]), array([12.74330137]), array([12.72763712]), 11.114470878151666, 13.185824009277582, array([12.63223569]), array([11.92240316]), 11.8488898015889, array([13.84406799]), array([13.93986119]), array([12.91015994]), array([12.77449476]), 12.54322860950393, array([11.20472327]), 11.542259044772438, 12.532896388871865, array([13.04661988]), array([12.97608873]), 12.757482396192039, array([12.74410498]), 13.186504299154091, array([12.63202691]), 12.67079310648598, 13.12969707965944, array([12.71867078]), 12.600991986110998, 13.749801527999555, array([13.85657941]), 12.710087882894133, 12.648533174400944, array([12.71804213]), 12.746011279061813, 12.788717017874298, array([12.78069476]), 12.80252345884781, array([12.37880887]), array([12.49648516]), 12.929664405515984, array([12.38377746]), 12.431005124524207, array([13.38478668]), array([13.64522062]), array([12.76002506]), array([12.03815622])]\n",
      "[13.055734188046001, 13.056570207756916, array([12.67897105]), array([12.77227905]), array([13.02802334]), array([13.08476826]), array([12.49898243]), array([12.40079576]), array([12.83824095]), 13.26473301643217, array([12.81886239]), 12.911241752875258, 10.74517905342375, array([11.74269308]), 12.63813550780178, 12.588490906963337, 12.031382484125457, array([10.76371006]), array([13.1730375]), 14.188143822815372, array([12.7390583]), 13.0068019247102, array([12.61124363]), array([13.44546655]), 12.522362941283477, array([12.37931894]), array([12.65118475]), 12.966864850277371, array([13.66642075]), array([13.991775]), 13.390060763866844, array([12.88380941]), 12.402929001446097, array([11.60774661]), array([13.23323436]), array([12.55047632]), array([12.8825715]), 12.616002425862286, array([12.62127815]), array([12.86232614]), array([12.62684954]), array([12.61151061]), array([12.62610224]), array([12.44622346]), 13.3909995371748, 13.188660522629194, 13.521627155342415, array([12.19748797]), 13.830293319057127, 13.68847760937807]\n"
     ]
    },
    {
     "name": "stdout",
     "output_type": "stream",
     "text": [
      "[13.055734188046001, 13.056570207756916, 12.921041129574473, array([13.06485033]), array([13.49290071]), array([10.14233351]), 12.600437549163413, 12.571100853842163, 12.821678566107627, array([13.10835907]), 13.597420806363637, 13.190762975186058, 12.892506826517641, 12.756978756443162, array([12.74633707]), array([12.57264768]), 12.459804368896446, 12.521438073364768, 13.134068130171253, array([12.24507071]), array([14.42434428]), array([12.40540686]), array([12.88371413]), array([12.60760015]), 12.793922524854286, array([12.92415776]), 12.334190597882658, 12.626344971204873, 11.445365971157438, 11.668752915718233, array([13.49332064]), array([13.37506161]), array([13.09705688]), 13.275356465913061, 12.65939384232382, array([12.80970325]), 12.864506999618223, 12.836089632153683, 14.090550383100943, 10.829025510388377, array([12.9548558]), 12.424410978902115, 13.002069535765536, 13.114672542777276, array([12.43758576]), array([12.71315654]), 10.833773515445374, array([10]), 12.837395472711115, 12.836354306302116]\n",
      "[13.055734188046001, 13.056570207756916, array([12.92943708]), 12.936427178928787, 10.634257734519174, 11.10973515672794, array([13.09642187]), 12.73663902670536, array([13.46521879]), array([12.23467791]), 12.781919012888764, 13.745827912323609, array([12.70736886]), 12.898337418600137, array([12.93513117]), array([12.87144082]), 12.678830580075138, array([12.61116888]), array([12.95172387]), array([12.61089795]), 12.871731569532042, 12.848797175613317, array([12.8995687]), 12.830495157281177, 12.83054137227521, 12.846272523976356, array([12.87269686]), 12.871961899999055, 12.692173216831465, 12.494607376041317, 12.660439120250054, 12.189830405896684, array([11.88500127]), 10.751621141482302, array([12.8813091]), array([12.38271425]), 12.982345727612204, array([13.4481825]), 13.151924617745232, 13.830059810927038, 12.22379587124895, array([12.21670489]), array([12.84467762]), 12.831831702996487, array([12.92273673]), 12.945513011804133, array([11.75991846]), array([11.19419262]), 12.535649274644042, 12.639609793230125]\n",
      "[13.055734188046001, 13.056570207756916, array([12.40245529]), 13.158303673850984, array([11.91522249]), 12.942445738343661, 12.250266971196055, array([13.03761552]), array([12.00952435]), array([12.18535905]), 12.841209419244645, 12.862869377956851, 12.906791642693031, array([12.94169391]), 10.86804377197318, 14.362116682294808, array([12.29978202]), 12.72089681879653, 12.815265996966348, array([12.96449783]), array([12.75412029]), array([12.77010646]), 12.645568649408885, array([12.72970693]), array([12.56964056]), 12.67856935443654, array([12.71054602]), 12.748992041519134, 12.952454255916068, 12.822372382377251, array([13.83956882]), 13.529238458950442, 13.075145427108106, 13.117339095863384, array([13.13425985]), 13.120223082650714, array([12.51963493]), array([12.62452536]), array([13.03382694]), array([12.8725969]), array([12.65820712]), array([12.69449691]), 11.934165353138715, 12.450483451293163, array([12.27617704]), 12.070602202780874, 12.603711082790147, array([12.61577939]), array([12.87580459]), array([13.06721176])]\n",
      "[13.055734188046001, 13.056570207756916, 12.758798633302819, array([12.63680782]), 12.212218585748381, 12.596047955885712, array([12.66490326]), array([13.12104108]), array([12.82019957]), 13.03928203010613, 12.619220793889726, 12.852242249379087, array([14.17219886]), array([14.49403069]), 12.693920469247947, 12.654319988894247, array([12.51861911]), 12.700324531701945, array([11.92969868]), 12.410670986026613, 12.387146506851943, 13.228659088791987, 12.659792396024917, 12.151677382361054, array([13.18502016]), array([10.12947249]), 12.886235273997828, 12.93272440467016, 12.586738393114578, array([12.94426344]), 12.757861818188667, 12.857981867018065, array([12.80610935]), 12.836601171332076, 12.653301224588485, array([12.61688947]), 13.113163030304365, 12.93352546041594, 12.8192755623007, 13.124491836514403, array([12.98885767]), array([12.66279995]), array([12.82490037]), 12.810967943484087, 12.569996270858937, 12.638808905669356, array([12.20331581]), 13.483804984877816, array([12.66813319]), 12.73660610957231]\n",
      "[13.055734188046001, 13.056570207756916, array([12.89043697]), array([13.16276626]), array([14.25926931]), 13.968515708956211, 11.865038138780816, 13.204280186028612, 12.736863173675413, 12.6281069816045, array([12.79480768]), array([12.83595566]), 12.756553962228779, array([12.92928404]), 12.494340167864218, 12.663354617167368, 13.178596526546036, array([12.71341505]), 13.05631543532189, 13.056955567574077, array([12.18153022]), 11.887632828076619, array([12.7871048]), 12.841091654432402, 12.138203128625443, array([12.12579166]), array([12.79231074]), array([12.78000912]), 14.343707917121206, array([13.50520026]), array([12.71671246]), 12.934929494494703, 12.738223915415796, 13.002314835175506, array([12.90544293]), 12.876161414483859, 13.29130738790516, 13.358586452923229, array([12.92204284]), 12.522783038730488, array([12.41168466]), 12.13520241075255, 12.387689802661237, array([11.64617628]), array([13.03644559]), 12.735465553660163, array([12.92978911]), 11.98047452383179, 12.471911521604266, array([12.43426942])]\n",
      "[13.055734188046001, 13.05631543532189, array([12.91563952]), array([12.89840615]), 12.014643265885887, array([11.83275572]), array([12.84747246]), array([12.6942963]), array([13.09005498]), array([12.77286712]), array([12.87446984]), array([12.876518]), array([12.61968354]), 12.970361141090706, 12.865129966401213, 12.873348389997084, 12.56868592834159, 12.85469674433699, 13.022697210707197, array([12.82368092]), array([13.05164669]), 13.084085394829378, array([12.65685762]), array([12.45016864]), array([12.89404618]), array([12.90769657]), array([12.76627016]), array([12.61580924]), 13.286128046257044, 13.195881554393956, array([13.60592769]), array([13.3809281]), array([13.30782927]), array([13.37389789]), array([13.39514618]), array([11.60285109]), array([12.65689343]), 12.694718946573879, array([12.71737208]), array([12.72988946]), 12.850158847116003, 12.664714824935341, 12.734402123062656, array([12.72348049]), array([12.94841078]), 12.202352468554807, 12.904482892459038, 12.855802937756676, 12.134896714917168, 12.741731409627693]\n",
      "[13.055734188046001, 13.05631543532189, array([13.15464027]), 13.452114614003083, 12.869825128928332, array([12.88217489]), 12.968212558964835, array([12.00352166]), 13.055025364618812, 13.071349580531276, array([13.06041225]), 11.819314771142746, array([12.87240624]), array([12.87238434]), 12.898776404276608, 12.681616754513026, 12.777807809751657, 12.920158402167264, array([13.18926981]), array([12.83341973]), 12.526972642824502, array([12.8521279]), 11.61223634656148, array([12.07020725]), array([11.83222126]), 12.851907469175655, 12.934094681856285, array([12.18226209]), array([13.1057793]), 13.400761365938369, array([12.75726372]), array([13.26718876]), 12.690426741641176, 12.720544524975592, 13.655615845210013, 12.589073039034629, array([12.85134106]), array([12.86038358]), 13.095714107207689, array([13.04915059]), 11.197048024001045, array([13.04754389]), array([13.12878651]), array([13.46309567]), 12.25552987224964, 12.173555138001582, 12.861510225439206, array([12.9295083]), array([12.47506526]), 13.212563011550364]\n",
      "[13.055734188046001, 13.05631543532189, array([12.88633146]), 12.857872442375117, array([13.05000226]), array([13.0528972]), 12.797016347311159, 12.781825991072418, 12.161561379036256, 13.26585159056151, 12.959239475359567, array([13.37865424]), array([12.10910677]), 12.151305705190497, array([13.05006901]), 12.68953720480987, 12.772281458363242, array([13.25023829]), 13.022368029475215, 13.060756391551674, array([13.06038882]), array([13.0592251]), array([13.01740834]), array([12.63261092]), array([12.37931737]), 13.856718456400714, array([12.48399982]), 10.763317799788418, 12.933664308143339, array([12.92812853]), 13.673049634165505, array([13.44076671]), 12.764870360147675, 12.856052468007395, 12.652410685494083, array([12.84431632]), array([13.03948389]), 13.431328338165478, array([12.87427145]), 13.383285254230332, array([13.2763612]), array([13.4104533]), 11.870918703882115, 12.19246423098626, array([12.86107652]), array([12.80846548]), array([13.4683349]), 13.286969281979212, array([12.43378155]), array([12.92297417])]\n",
      "[13.055734188046001, 13.05631543532189, 12.80652898808871, array([12.65428811]), array([12.9571136]), array([12.97055795]), 12.854730537971756, 13.03092207129809, 12.841963572863277, 13.006315364472831, 12.258912974118498, array([11.91198848]), array([12.79442403]), 12.95297850048751, array([12.96298258]), 13.77804006699493, 12.857833257421987, 12.85437046411563, array([12.67449627]), 12.892750989448356, array([12.47691857]), 13.52434235171869, 13.897472566537349, array([13.31236648]), 13.375695224529858, array([13.21750244]), 12.898066293232992, array([12.91512238]), array([12.49746871]), array([13.79333574]), 13.060890353642135, 13.058937028022475, array([12.88391406]), array([12.75681899]), array([13.08044875]), 12.93366591192287, 13.219791993024604, array([11.72263046]), array([13.47287949]), 13.486220639630153, 13.44270056014464, array([13.43802986]), array([13.43222998]), 13.102103574132279, array([12.63115165]), array([12.93641174]), array([12.86548353]), 12.883620194533655, array([12.80612915]), array([12.66497886])]\n",
      "[13.055734188046001, 13.05631543532189, array([13.25638653]), 12.919734266282061, array([12.41972875]), 12.969404191752435, 13.496384777749675, array([13.57145035]), array([13.0460585]), array([12.8994688]), array([13.09530906]), array([12.87853237]), 12.879385866432543, 14.0256455101529, array([12.74436185]), 12.75750781937421, array([12.74891771]), array([13.05080652]), array([13.0491492]), 13.055512276333934, 12.88777916055518, 12.868483562120423, 12.82206684078678, array([12.79995902]), array([12.92552536]), array([12.80272517]), array([13.49724599]), 12.920872042759354, 12.667654787809317, 13.00990965116764, array([13.52508025]), 13.586970674655797, array([13.4724099]), array([12.77594902]), 12.96528286353553, 12.965805028648397, 13.617926203754179, 13.958555470075066, 13.922835824677884, 13.841103899551955, array([12.47062104]), array([12.39114995]), array([12.74914465]), array([12.95469866]), 12.813951789710602, 12.873880885183938, array([13.15955998]), array([12.96048518]), array([13.10629313]), array([12.89711179])]\n"
     ]
    },
    {
     "name": "stdout",
     "output_type": "stream",
     "text": [
      "[13.055512276333934, 13.055734188046001, array([13.12037895]), 12.943330339227819, array([12.70988004]), array([12.95136917]), array([12.71275696]), 12.719013492926988, 12.57402391779162, 12.826362488161239, array([13.73174916]), 12.900811126124076, 13.010868908661537, array([13.12089402]), array([12.58684341]), 12.55108414193834, array([13.02622724]), array([12.5857026]), array([12.96825864]), 12.933289038032166, array([13.56091432]), 13.764906633310709, 12.38672932948404, 12.708676954220193, 12.57276591560653, 12.63742228513542, 12.9327933012895, 12.880604549638532, 13.605770230050778, 13.410534057724133, array([12.88387194]), array([12.76706716]), array([14.34137037]), 13.656396353881181, array([12.80227155]), array([12.8271266]), array([13.00374475]), array([14.10020375]), 12.961724685910397, array([12.35884807]), 13.71545575806951, 12.767748092597726, 13.089497249645683, 13.10216706857469, 12.945499568966616, array([12.7503338]), array([13.22263494]), array([13.07754777]), array([13.78832752]), 13.416195212869901]\n",
      "[13.055512276333934, 13.055734188046001, 13.728531478170325, array([13.1261935]), 12.7278245019022, 13.20148173319327, array([12.58353213]), 12.647846730725526, 12.636156362023826, array([12.58955247]), 12.943208184686466, 12.954477677277271, 12.748294449406913, 12.629424013296985, 12.887341412108572, array([12.64028428]), array([12.82333542]), array([12.83645922]), 13.341020853683872, array([13.44822876]), 12.610424338982588, array([12.79822019]), 12.977310298459207, array([12.9524252]), array([12.97143826]), array([13.01698544]), 13.054115565114417, array([13.02891079]), 13.030077980531404, 13.205240642089263, array([13.55221104]), 13.266814492711728, array([13.03772959]), 13.339105855378445, 13.336324876203802, 13.280575302757127, array([13.06353127]), 13.143068881143417, array([12.66778764]), 12.671979223187174, array([13.10996333]), array([13.11925653]), 12.637898873003518, array([13.12072465]), array([12.98771585]), array([13.08944356]), array([14.06991842]), array([13.10125178]), array([12.82564208]), 12.983451362859938]\n",
      "[13.055512276333934, 13.055734188046001, array([12.95463273]), 12.857702344195252, 12.59071534540094, 12.84472351359908, array([12.95001334]), 13.21584444608667, 12.731837885079209, 12.730142857277324, array([12.90488654]), array([12.98771248]), array([12.60817459]), 12.612709096733932, 12.978098695600005, array([12.98113005]), 12.825540799572025, 12.834312097654887, 12.580572029342218, array([12.70532888]), array([12.76929942]), array([12.82352172]), array([12.79427196]), array([12.90570358]), 12.308286827978838, array([13.40797779]), array([13.16341239]), array([13.13758748]), 12.625558660308204, array([12.74689115]), 13.135252064753333, 12.75905278921887, array([12.88093996]), array([12.84794429]), array([13.10679569]), 13.115262877598644, 12.631601306044823, 12.629242248544271, array([13.20717735]), array([13.11273672]), array([13.17897026]), 12.884496673714983, array([12.7546691]), 12.723911484354206, array([13.34268932]), 13.601288247160067, 13.024696659493857, 13.28924427299739, array([12.87278054]), 12.743083723500428]\n",
      "[13.055512276333934, 13.055734188046001, 13.041738223336747, array([12.41450463]), 12.759805911439605, 12.874470309979104, 12.827281829970651, 12.890798482609378, 12.910362116748809, array([12.99134385]), 12.88441010506911, 12.82810104324261, 13.136942670627436, 12.96606852500598, 13.31350286182795, 13.706740114516506, array([12.44717719]), array([12.53051328]), array([13.13183467]), 13.080330416420592, 13.179489162672489, array([13.02070863]), array([12.78365383]), array([12.57201757]), 12.773958287121388, array([12.7786425]), 12.691559985132237, array([12.88880698]), 12.782135047117244, 12.750146545787329, 12.907980972044038, array([12.97986457]), array([13.13468597]), 13.01481412846201, array([12.93385415]), array([12.8917675]), 12.91839170852811, array([13.0041556]), array([12.75902887]), array([13.23449724]), array([12.85262051]), 12.884943475045896, array([12.70911659]), array([12.72440413]), array([13.21561378]), 12.475912908244801, array([12.84108075]), array([12.87474046]), 12.576156184567287, array([12.77124416])]\n",
      "[13.055512276333934, 13.055734188046001, array([12.81872862]), array([12.70339712]), 12.803837048096499, array([12.82578149]), array([12.35549667]), array([12.29976994]), 12.980965426981859, 13.067285212100703, array([13.12004911]), 13.053961772419393, array([13.09328817]), array([13.0283931]), 13.020578549067983, 13.252824867120069, 12.882170544742491, 12.85582627614029, array([13.1602382]), 13.117566980101234, 13.021568969425086, array([13.15685261]), array([13.24276046]), array([13.10695614]), 13.224905365085979, array([13.17521071]), 12.783040578277634, array([12.59006675]), 13.053553150938567, array([12.83575781]), array([13.84209459]), array([13.89346251]), 13.054752409683974, array([12.85342134]), array([12.68447048]), 12.81604854206142, 12.904544928609486, array([12.82419974]), 13.160283076028243, array([13.08440984]), 12.404025290581586, array([12.29333575]), 12.482790190046996, 12.47918713971845, 12.547308432490238, array([12.74064069]), array([12.96692289]), 12.868804384485138, 12.956373216326092, 12.78265152129526]\n",
      "[13.055512276333934, 13.055734188046001, array([13.15944669]), 13.16804963092997, array([12.49543894]), array([12.60617718]), 13.062014197867027, 12.767935939929592, 12.22249552117142, array([12.47049594]), array([12.92816468]), 13.069247520860017, 12.77235342239442, 12.770900578048634, 12.811424712824829, array([12.79908932]), array([12.99662426]), 13.06101316656701, array([13.18480905]), array([13.12322411]), 11.920905999885235, 12.165089869908583, 12.957132305444537, 12.767895850908815, array([12.34619334]), array([12.68537134]), 13.168279318346762, array([13.00663481]), 12.83482885226722, array([12.90181271]), 12.346888260462114, array([12.70556302]), 12.355865374797899, 12.76041478577775, 12.802814696084148, 12.788446342496258, 13.145314314093277, 13.103746613063771, array([13.15529014]), 13.19402666425956, 12.108404934685977, 13.109499266545992, array([12.61641711]), 12.854930984040413, 13.765905441422687, 12.478615544772929, array([12.75592408]), array([12.92842697]), array([13.08858093]), 13.18724741044226]\n",
      "[13.055512276333934, 13.055734188046001, array([12.79056975]), array([12.87467513]), array([12.66638754]), array([12.69640222]), array([13.08013992]), array([13.13260338]), array([13.1474071]), 13.001000018983973, array([12.87547059]), 12.895333942689746, 12.806953369292131, 12.761965773789212, 13.091069791107758, array([13.2604582]), 13.251735297213273, 13.451624285879058, array([12.73824572]), array([12.44797225]), array([12.65783819]), 12.217290704861997, 12.573317472614308, array([13.16306129]), 13.017141219090458, 12.9785579868375, 12.472950695810825, array([12.67889293]), array([13.13052306]), 13.079758590860578, 13.059989430757454, 13.053108105386368, 12.166705306233434, 12.149455962123922, 13.113500828767545, array([13.08590895]), array([12.46376145]), 12.469294410682277, 13.054658114191891, array([13.10877581]), 12.605657976798703, 12.807582793894408, 12.820840075291375, array([12.79986166]), array([13.36413791]), array([12.72979836]), 13.065845092184203, array([12.94101618]), 13.067909468323712, 13.155731794994807]\n",
      "[13.055512276333934, 13.055734188046001, array([12.6834578]), array([12.72828161]), array([12.89964337]), 12.808165757131299, array([13.01478515]), array([12.34421319]), array([13.01491265]), array([13.09899246]), array([13.00466197]), array([12.79451066]), array([12.62522886]), 13.064999111542761, array([12.52689266]), array([12.67811611]), array([13.15589067]), 13.278526564476355, 12.637032182637492, 12.659097710418965, array([12.85054922]), 13.21619562506616, array([12.32274398]), array([13.0230882]), array([13.00078721]), 12.790241732923265, 13.293839705506896, array([13.39274247]), array([12.66490386]), array([12.86350805]), array([12.43575152]), array([12.3024659]), 13.06330502275972, 12.867490311258509, array([12.66046815]), 12.902699661976367, array([12.70168449]), 12.950613901546792, array([13.10879077]), 13.019155748592537, array([12.58968547]), array([12.09853851]), 13.548105427945535, array([12.55358024]), array([13.03157136]), array([13.06237656]), array([13.25474867]), array([12.87583265]), 12.97313015055075, 13.061657448707344]\n",
      "[13.055512276333934, 13.055734188046001, 13.069459398316031, 13.057340517945157, array([12.74629691]), array([12.87925334]), array([12.60563345]), 12.989147379844912, 13.47257680584444, 13.513635795109362, 13.012738929831665, array([13.00553783]), 13.105375878863036, 12.119729392010557, 12.9338139009178, 12.953448068798327, array([12.30282489]), array([13.25968608]), 13.186807333936864, array([13.23266421]), 13.11723359344126, 13.137779991074472, 13.033547200541056, 13.027288389102646, 12.904138669401016, 13.107999944639644, array([13.02073772]), array([13.16110831]), 12.933637105777297, 13.145562550953576, array([13.35879145]), 13.250895590936626, array([12.89627734]), 13.080406977410055, array([13.20927953]), array([13.21371748]), array([12.91394722]), 12.848696660727285, 12.865238294958925, array([12.83518514]), array([12.94394231]), 12.39454908402322, 13.084746583657424, array([13.0888137]), 12.647411795261009, 13.153682777184576, array([13.01820684]), array([13.02052195]), 13.043626369224892, 12.596969923683272]\n",
      "[13.055512276333934, 13.055734188046001, 13.005655406213684, array([13.09462212]), array([12.96024015]), array([12.88590705]), 12.987209301441789, array([12.8552804]), array([12.7498906]), 12.156343755439401, array([12.89011344]), 12.867890278885273, 12.914153079890452, 13.0049741626199, array([13.18469913]), 13.063010787517277, 12.636108488794488, array([12.93081327]), array([12.9205719]), 12.950036931233944, array([13.00764339]), array([12.95707383]), 13.262041835004654, array([13.36733885]), array([13.27999442]), array([12.91218909]), 12.655814238204746, 12.925986225206021, 13.071737545122362, array([13.16619497]), 12.938537407280249, array([12.81252452]), array([12.86365132]), array([13.13058245]), array([13.12847038]), 12.989334195219493, 13.11736064346597, array([13.05669207]), 13.09922493624133, array([13.02896903]), 12.996464368310818, array([13.38276733]), 13.072167406187877, array([12.94831331]), 13.150635115832044, 13.039093021434983, array([13.13209126]), 12.943744522218557, array([13.10812475]), array([12.94977678])]\n"
     ]
    },
    {
     "name": "stdout",
     "output_type": "stream",
     "text": [
      "[13.055512276333934, 13.055734188046001, array([13.14020961]), 13.01497934321754, 12.958178685894541, 12.933233686486378, 13.092138028235416, 12.997589252034716, 12.856238663204037, 12.856143027648933, 13.094464513680663, 13.08489106727635, array([13.18446318]), 13.139810391904017, 12.972139103898746, 13.005724362230305, array([13.04090168]), 12.954030678149858, array([13.05456438]), 13.183214557947295, array([12.95403113]), array([12.97123237]), array([13.13692207]), array([13.01156127]), 13.144286232208266, 12.889053239771728, array([12.98007063]), 12.995570991146547, array([13.17573849]), array([13.09411917]), 12.099830393135441, array([12.50685572]), 12.55469672511365, 12.496488297251238, array([13.16628137]), 13.512951290800629, 12.917076577729398, 13.047324794919675, array([12.96066682]), array([12.91903702]), 13.088670936112514, array([13.05691562]), 12.896742972411362, array([12.86057778]), array([12.36240175]), array([13.13270003]), 12.707513909734319, array([12.72387093]), 12.955369213370716, 12.934792531057466]\n",
      "[13.055512276333934, 13.055734188046001, 13.02810966618815, array([13.14129598]), 12.932173817937555, array([12.87814143]), 12.986250937395125, 13.053202469560786, 12.26387602379743, array([12.09850097]), 13.093823690336766, array([13.07557549]), array([12.83263481]), 12.968043237625297, array([12.40582719]), array([12.54568747]), array([12.89125501]), array([12.92628024]), array([12.9436202]), array([12.97322493]), 12.975603810199086, array([12.98482017]), array([13.20121131]), 12.957097161466269, 13.057048140038896, 12.945136860371047, array([12.92910307]), array([12.92479323]), array([13.10005674]), 13.100209697679984, 12.292414837050872, 12.785378141626438, 13.127349896074328, 13.307432971659438, array([13.13018436]), array([12.93776865]), array([12.94120685]), 12.927154634240082, 13.177286378174381, 13.212435162165585, 13.133932530869394, 13.134339262080202, 13.01746297755706, array([13.02395973]), 13.024541270698359, 13.26448819665341, 13.087956822284056, 12.881689738512984, 13.034608241576816, 12.886118696662367]\n",
      "[13.055512276333934, 13.055734188046001, 13.098188007819344, 13.07265254418321, 12.19577446271818, 12.313523568567065, 12.302576007945497, array([13.37976659]), array([13.22744343]), 13.01664938173827, array([11.96328979]), array([12.33501267]), 12.964575109604263, 12.964464733112763, array([13.1440411]), 13.131384931323597, array([12.96772583]), array([12.98998233]), array([13.10739816]), array([13.10347271]), 13.084163809751002, 12.902930851886001, 13.362160695016403, 13.084211147447128, 13.02599839746552, 13.022286071447507, 13.02844022524343, array([13.01548298]), 13.13825748089833, 13.117493950231902, 12.951971583847754, 12.937608493691426, 13.21477151169758, array([13.26322978]), 13.090504957235687, array([13.07870398]), 13.253935396739537, array([12.9503842]), array([13.0999632]), array([13.0939746]), 13.043098058021378, array([13.00608411]), 13.025554774341042, array([13.00710567]), 13.096541285306529, array([13.1052395]), 13.24305281719618, array([13.03537217]), 13.131238616815903, 13.201810435481876]\n",
      "[13.055512276333934, 13.055734188046001, array([13.1733034]), 13.031093581021276, 13.097216247151923, array([13.19128782]), array([13.21884571]), array([13.16398269]), array([12.97774582]), 12.852052844565222, array([13.30080003]), array([12.47478349]), array([13.24140984]), 13.030863103895017, 12.938933002256496, 12.62292583002149, 13.111783567848233, array([13.1129005]), array([13.10207677]), 13.120936214552579, 12.95255208847592, 12.965929105531186, 12.900191318332134, 12.93867986656171, 13.095405597951792, 12.636069111247208, 12.199756055022243, array([12.41195291]), array([11.98716308]), 11.49300759048546, array([13.07888743]), 13.230479338859732, array([13.1384594]), 13.042138853355713, 12.954919849967602, 13.161147823732708, array([13.01045934]), array([13.04227856]), 13.111500754337118, 13.12003347469656, 12.926276941941799, array([13.15679288]), array([13.19153223]), 12.89999035552735, array([12.85046548]), 13.19139849959591, 12.227877620292551, 12.45649151118257, array([13.59008672]), array([13.05998071])]\n",
      "[13.055512276333934, 13.055734188046001, array([13.01511401]), 13.165400435508282, 13.132706574509806, array([13.0162927]), 12.836217701321118, array([13.00556507]), array([11.55521607]), array([13.03416641]), array([12.91827746]), array([12.92327541]), 12.056607469036903, array([13.25873251]), array([13.13249332]), 12.638919595473256, array([12.41978122]), 13.089639567000631, 13.17043957962006, array([13.11229115]), array([12.34168168]), array([12.48093862]), array([12.35847136]), array([12.7666781]), 12.968935014461348, 13.12603175716978, array([13.01235328]), 12.409741891352173, array([12.45512945]), 12.473675694997704, array([13.44570162]), array([12.20780783]), 13.236053155189671, 12.953105687786053, array([13.03068894]), array([13.15033349]), array([13.29079953]), array([13.11812933]), array([13.03279663]), 13.048666402092707, array([12.99071817]), 12.97034429697646, 13.152930825343574, array([13.12454808]), 13.075251665798847, array([12.97152379]), array([13.03375883]), 13.030319868118644, array([13.1029627]), 13.088692925654483]\n",
      "[13.055512276333934, 13.055734188046001, 13.012220779267032, 12.986097298277235, 12.518507262797689, 12.172018634106678, 12.56058169373554, 12.592099410779511, array([13.16430066]), 13.123440331255935, array([12.63742832]), 12.55105042255937, array([13.04686593]), 13.030752089446361, array([13.13171205]), array([13.10012136]), array([13.27243782]), array([13.1645093]), array([12.73840741]), array([12.87214698]), 13.41046244844054, array([12.73453601]), 13.147063992046462, 12.294376536066851, 13.251794222883083, array([12.97039882]), 13.03474213365121, 12.96876910880845, 13.01230470337482, array([13.01270325]), array([12.43600646]), array([12.42814392]), 13.060209409346632, array([12.34541608]), array([12.88550871]), array([12.46417702]), 12.909988244680743, 13.032666046821415, array([13.02575151]), 13.029011376846345, 12.975625972316578, 13.093099074916378, array([13.10516025]), array([13.57483929]), array([12.25023155]), array([12.46805286]), 12.976272264701818, array([13.12090602]), 12.768923921207715, array([12.40665674])]\n",
      "[13.055512276333934, 13.055734188046001, 13.22788315933457, 13.098922626966875, array([13.16548986]), array([13.1276067]), 13.028745960760975, array([13.03531283]), 13.037182766014908, 13.036966235002359, array([12.45864596]), 12.226329013699901, array([12.7877351]), array([12.35469972]), array([12.77331665]), 13.060507340496578, array([12.90182952]), array([13.54130936]), 13.0892915881184, 12.731120525212303, 12.369045901374093, array([13.20492118]), 13.149086031152112, 13.216093556323486, 12.19732696871419, 12.953574488472583, 13.020126727566558, array([13.01772393]), 12.710656885768953, array([12.81926829]), 12.525412339802967, 12.551413350475926, 12.689139264102165, array([12.79168927]), array([12.8517987]), 13.19589356763985, array([13.07674856]), array([12.92686235]), 12.984711048245316, 12.985532208115682, 12.11772688856387, array([12.42487157]), 13.040102815279122, 12.986576685181717, array([13.0944186]), 13.086503123466791, 12.720304352205217, 12.465537474143753, 12.089110067526633, 12.950193527281954]\n",
      "[13.055512276333934, 13.055734188046001, array([12.7749994]), 12.85610615176123, array([12.94897965]), 12.904260149349042, array([12.99848969]), array([13.00958448]), 12.766354752571598, array([12.36896184]), array([12.90784716]), 12.8545478152313, 12.760467646541354, 12.878588495907678, array([13.18227741]), array([12.84914375]), 12.767008732466023, array([13.06182029]), 13.2475042579867, 13.272233513337504, 12.912166975159225, 12.693837364170037, 12.958631779304199, 12.743844314991168, array([12.10209938]), 12.054796441053995, array([13.00061072]), 12.950070426864722, 13.288040331995253, 13.124023165483258, 12.344216959974123, 12.094897654863798, 13.054700574725551, array([12.99272972]), array([12.94009509]), 12.900197207013065, 13.122672142537953, 13.072708481751903, array([13.77717113]), array([13.10151044]), 11.789999673657386, 13.106010445673002, 12.997461429120602, array([13.09439175]), 12.864723412205604, array([13.09649392]), array([13.10478136]), array([13.08945]), array([12.91161767]), array([12.92378808])]\n",
      "[array([26.80253138]), array([12.04537046]), array([24.72101578]), array([14.58961693]), array([10.89436283]), array([29.15103239]), array([17.93599905]), array([29.07933469]), array([23.5639047]), array([13.74231536]), array([27.44724135]), array([22.59176769]), array([18.72671376]), array([27.71793197]), array([28.13389675]), array([27.93811317]), array([16.99387589]), array([25.11144914]), array([13.50324624]), array([21.96955229]), array([14.17458286]), array([20.9489007]), array([10.04124408]), array([14.15523107]), array([17.7777471]), array([14.78812773]), array([27.48238781]), array([15.05102287]), array([19.57548678]), array([18.90518726]), array([14.6240849]), array([16.4050793]), array([17.86771879]), array([15.49689457]), array([12.9302588]), array([28.4258423]), array([17.72202329]), array([28.37754933]), array([20.02391935]), array([12.81490469]), array([29.17558233]), array([20.10711563]), array([19.99094261]), array([21.71104418]), array([23.00936568]), array([22.55222549]), array([23.89129683]), array([12.97422465]), array([25.66822943]), array([14.29628522])]\n"
     ]
    },
    {
     "name": "stdout",
     "output_type": "stream",
     "text": [
      "[array([14.15523107]), array([14.17458286]), 11.351915178049074, 10.35146603898842, 20.008141943727892, array([14.16978829]), array([26.16023772]), array([30]), 27.36335154587273, 27.533381574534452, array([30]), array([27.0436585]), 25.674381280649527, array([29.94356728]), array([27.99274095]), array([24.22160406]), array([10]), 13.68371766476442, 18.638501566382068, array([18.76857991]), array([12.60919761]), 11.719964948019431, 13.737244010352175, array([23.26818504]), array([18.38325143]), 24.49146093293099, array([16.77555225]), array([16.40119153]), 22.06031806244154, 12.846996946198777, 22.41711597135805, 14.318894435126772, array([19.9942605]), array([23.15034012]), 21.064859172004674, 27.744831128943197, 28.124429125303724, 27.08577699199002, array([27.3185797]), array([24.34567239]), array([23.6486168]), 20.67841937781965, 13.478378225961718, 13.579139613624655, array([22.30407072]), array([21.27630041]), array([16.77107024]), array([13.70183837]), array([18.06959352]), array([25.82011889])]\n",
      "[array([14.15523107]), array([14.16978829]), array([12.27111163]), array([10]), 16.613375650819535, 21.98871078399089, array([10]), array([14.43792126]), array([22.39057569]), array([30]), 22.796888854190684, array([23.79870976]), array([18.65528126]), array([10]), 23.243626727303937, 24.368224540003382, array([21.22903585]), array([22.20542553]), array([24.76318732]), array([10]), array([30]), 26.065416383379763, array([15.62998528]), 12.35622393351962, array([13.50588642]), array([13.75054208]), 27.151251132770167, array([11.92132967]), 26.968397034832797, 27.5365126251184, 22.31962870253119, array([21.58828404]), array([27.3006012]), array([27.02923341]), 14.312636776772816, array([16.52592032]), array([10.12989029]), 11.370443321615872, array([23.76507075]), array([22.93800621]), array([26.35311426]), array([26.18608896]), array([30]), 20.070703886528825, 15.14588875361596, 14.356736122250094, array([23.63776187]), array([28.36068526]), array([13.10809238]), array([13.1051924])]\n",
      "[array([14.15523107]), array([14.16978829]), array([10]), array([30]), 13.251767785516945, array([11.36774304]), array([14.63387078]), array([13.81812697]), 25.366315523842374, array([10.54117639]), 22.564253392666153, 21.49909514382488, array([22.61507708]), array([22.49752622]), 22.23364702360498, 23.674708127581464, array([22.74630309]), array([22.83360701]), 16.822014495887885, array([10]), array([15.20900629]), 14.984769608896658, array([11.74547238]), array([11.04541907]), array([10]), array([17.31365751]), 12.853548333314325, 20.37165459450818, array([19.62458515]), array([24.02620355]), array([30]), array([30]), array([30]), array([30]), array([27.31678184]), 20.623915228146096, array([10]), array([14.35507079]), 21.51960886130839, array([23.08821393]), array([12.18490758]), 13.713519857475081, array([20.66374589]), 25.54725464528275, array([12.14281855]), array([16.05807862]), 25.993765567488186, array([25.39886397]), 16.11487281183791, 15.001715719567429]\n",
      "[array([14.15523107]), array([14.16978829]), array([10]), array([10]), array([10]), 16.744168469136824, 22.785535954686786, array([22.69828958]), 10.54010671786037, 10.974493407071426, array([18.73795551]), 15.227843659601653, 14.27786551516343, array([10]), 10.58260146625125, array([10]), array([20.19976977]), 14.759664847864867, array([12.57064717]), array([14.14054139]), 16.633882724512326, array([14.05763891]), array([16.08462658]), array([17.38654773]), array([14.46223868]), 25.404342201244226, array([21.78707628]), array([23.51784627]), 15.769599634571776, 13.649438887053668, 23.152923394644407, 28.480037301093304, array([11.39746245]), array([10]), 15.823956896147621, 15.609946783720153, array([30]), array([21.4842856]), 15.19349938475676, array([23.98495736]), array([22.8068004]), array([16.44929258]), 10.267092790559499, 11.233361672183078, array([13.53341108]), 14.383196520759036, array([30]), array([30]), 12.725094989328921, array([11.70917819])]\n",
      "[array([14.05763891]), array([14.14054139]), array([13.49217921]), array([12.88693992]), 25.460705649225716, array([15.56643487]), array([10]), array([10]), array([15.91237918]), array([22.41651547]), array([20.59317159]), array([11.69369266]), array([14.19000296]), array([11.4366686]), array([10]), 29.8726862753071, 13.772627922493484, 13.537000147612554, array([20.95389063]), array([14.32997571]), 23.226130286649912, 10.611812422874975, 10.909357914943062, array([20.3492402]), array([20.23121614]), 18.242670099880932, array([16.53231578]), array([16.30828736]), 13.721642626220095, 15.200217302599153, 14.685472192951568, 14.355420846533242, array([20.29410191]), 18.882099955947805, array([14.24890561]), array([14.24795893]), array([10.67351891]), array([11.98141704]), 27.537490842259324, 15.269700538176956, 15.740612652274827, array([16.88727404]), 23.97336189227887, 24.90072803936835, 17.678642410046184, 22.11593290228201, 14.863100892267576, 15.440755329317843, 18.016456999266573, 23.57125943964501]\n",
      "[array([14.05763891]), array([14.14054139]), array([15.2132736]), 16.646045872638016, array([14.15050281]), 13.695646198955151, 17.854184258210964, 20.105582764064664, 22.52290577848703, array([21.36439909]), 16.360382396878688, 16.008388362676236, array([10]), 26.557876021298913, 17.672023253754148, array([17.25107221]), 16.94169126644164, 16.55440685367363, 21.592012747247296, array([27.98860742]), 16.777877588393334, array([10]), 18.777232622877865, 21.359329257112222, 26.534296022815862, array([15.29950364]), array([21.81462498]), 16.007245590760526, array([15.27682982]), array([14.87476545]), 20.61384060743277, 10.02308913294353, 16.27526348726264, 16.053548450751318, 20.702248931476028, array([23.17213737]), 25.919707184710667, array([25.88476968]), array([20.65393758]), 20.809523996504222, array([19.76029122]), array([21.61743199]), array([15.56994313]), array([14.70065867]), 16.185056066709524, array([16.91543155]), 13.620289173097287, 12.857488314911931, array([24.00098269]), array([23.69506905])]\n",
      "[array([14.05763891]), array([14.14054139]), array([20.67243826]), array([21.60486817]), array([16.36229066]), 18.72295770007925, array([12.96951673]), 21.362584405837183, 17.560072419308568, array([10.77790993]), 22.858791375605517, array([20.19566187]), array([22.52687825]), array([15.75451399]), array([17.59245131]), 13.158448104667873, array([22.54867156]), array([21.31263887]), 21.3629232773317, 21.357816919263133, 14.470890711213249, array([16.38928729]), 21.076641252924414, 21.768990944513593, 17.724571294676853, array([16.21488271]), array([21.17270271]), 21.627805206430565, array([16.36751]), array([14.96231625]), array([16.37451559]), 17.697385255625143, array([18.68433936]), array([14.12062772]), array([27.29012779]), array([23.80576115]), array([23.61065845]), array([13.4219678]), array([30]), array([22.49738146]), 20.558996923129644, array([21.64044642]), 20.076604993732992, 17.67270418487591, array([16.22641099]), array([16.23823188]), array([20.78710552]), array([14.862218]), array([14.45901183]), 14.87836873758379]\n",
      "[array([14.05763891]), array([14.12062772]), 14.919938257928965, 19.615397418980564, 14.826130235365243, array([21.25380869]), 14.6299788930767, array([11.7469911]), 12.221251860044196, array([17.09032658]), 21.510335324070596, 21.687287800407518, array([19.40658975]), 18.14652314433598, array([17.37687514]), 14.588454995281445, array([21.57440343]), 24.63300985736641, 14.596725197127041, 17.641042640695076, array([17.05926728]), 19.02463898936997, array([21.29472412]), array([21.29476526]), 22.212971843790633, array([19.22804383]), 18.537089786339756, 17.7831682868512, 23.066629184415362, array([24.05145465]), array([21.73182044]), array([22.18492512]), 11.778215554474937, 16.731996237946813, array([17.31156213]), 16.91759195753333, 22.911376616761977, array([23.4995753]), 15.582984546052568, array([17.01445498]), 16.5178707271417, 17.173239458451285, 13.246025342923328, 14.33392845038296, 21.2419350918262, array([18.86156278]), 14.996740600538995, array([21.62490033]), array([24.61732691]), array([14.43151627])]\n",
      "[array([14.05763891]), array([14.12062772]), 21.055014553668002, array([16.14018786]), array([18.14698622]), array([18.43896088]), array([11.3767537]), array([15.24493748]), array([23.34944995]), array([20.92193987]), array([17.44946827]), array([10]), array([18.61461575]), array([20.5549981]), 25.24649099999438, array([24.99457738]), array([16.22301345]), array([23.63194398]), 21.42074858317548, 22.396302796856283, 17.931160269547746, array([24.9564154]), 13.539890843020977, 24.304818892979046, array([14.97195986]), array([19.47750282]), array([10]), 26.831224999598504, array([14.12164837]), array([12.18519467]), 19.39146613911217, 19.706086690151153, 21.586673930605173, array([20.96508912]), array([18.34089064]), array([23.46888296]), 14.446578755432796, 12.778465389139471, array([19.65871261]), 19.937324690380485, array([19.86456723]), array([20.91271458]), array([17.08537343]), 17.089349775192186, array([16.03934691]), array([21.80039013]), 18.37057612530974, array([19.32889919]), array([17.0955082]), array([18.54512033])]\n",
      "[array([14.05763891]), array([14.12062772]), array([18.07396065]), array([16.29139293]), 18.594696868048338, 18.529496307145813, 17.78916187151568, array([19.34658356]), array([17.60494459]), 17.180218782054208, array([10]), 11.371665023175396, 17.320864933583994, 18.813232877387357, 18.764682688738233, array([14.66651329]), array([19.09303589]), array([19.36985587]), array([17.04195813]), array([15.20614276]), 20.186314341347067, 20.472735279440077, array([20.03059725]), 18.218784545114673, 12.663311128557403, array([10]), 18.553972532363623, 14.056813551343637, 21.893082802836112, 19.164094988250547, 10.847346984651344, array([10]), 10.963877379002108, array([18.51734582]), array([28.35586228]), array([10.05774031]), array([22.40979015]), 18.790767874946923, 24.613297894340977, array([23.67637891]), array([15.29741722]), array([22.43229331]), 15.955924248327108, array([17.19342803]), 17.103175094122864, array([13.20962461]), array([12.57123934]), array([14.94587819]), 18.347910058163965, 18.368177893690696]\n",
      "[14.056813551343637, array([14.05763891]), 17.85627593459082, 18.212090218635034, 23.89942476782902, array([23.22491807]), array([16.56347222]), 17.087263782632416, array([18.8030639]), 18.714849227988747, array([27.50994448]), 11.909056416131609, 19.344051220413792, 17.17471187588728, array([10]), array([14.02965882]), 12.60935312592656, array([15.20067999]), 15.052924217098427, 15.22522773025343, 15.50360532332294, array([11.3829709]), array([10]), array([10]), 15.953223199878627, 17.06826821795029, 22.18291880793834, array([23.4187892]), array([18.97330769]), array([23.29951618]), array([19.05147566]), array([17.55112766]), 12.794299193590966, 13.49818830741882, array([14.91036188]), 14.098385535434495, array([13.08748672]), array([19.085125]), 10.0, 10.0, array([14.17114422]), 13.619732913391987, array([18.50898734]), array([18.53934348]), array([10]), array([18.40600877]), array([19.04966076]), array([17.71242692]), array([19.31886842]), 21.588064970053587]\n",
      "[14.056813551343637, array([14.05763891]), 21.1532585858639, array([11.33572206]), 14.674612426454356, 16.548113470672142, array([18.99528519]), array([19.08009495]), array([18.00265887]), array([24.4097885]), array([18.84477835]), 23.420085309726808, array([13.24775325]), array([18.09223648]), 19.73875189620381, array([17.1361639]), array([14.8548149]), array([14.27631384]), array([13.84513055]), array([13.57811096]), array([18.63141026]), array([18.59315373]), 13.600323184722901, array([10]), array([14.74337931]), array([13.03043011]), array([25.85230271]), array([24.81288535]), 19.939282209651296, array([17.8803285]), array([12.63948921]), 14.71159775591216, array([13.67413061]), 19.000841849922697, 15.17230364882748, array([13.34907179]), array([13.70537677]), array([14.08280115]), array([10]), 17.77084982384153, 14.606429040651644, 20.43854986642824, array([21.50189963]), 19.11283875744035, array([17.43160468]), array([13.66644419]), array([13.47847675]), 16.484881495816378, array([11.0661007]), array([13.98653935])]\n"
     ]
    },
    {
     "name": "stdout",
     "output_type": "stream",
     "text": [
      "[14.056813551343637, array([14.05763891]), array([14.62929891]), array([10]), array([20.25898203]), array([20.71153458]), 13.643255358784854, 13.621892620009756, array([11.1682298]), array([14.34676978]), array([12.91959713]), 12.038318834766025, array([14.66132322]), array([14.96551324]), array([17.09212384]), array([13.53107679]), 17.453627178739914, 12.723995815087948, 16.088548428892175, array([20.07503324]), 13.9235054887624, 13.328487765566834, array([15.36171129]), array([17.89728563]), array([10]), array([10]), 17.30084278302694, array([10.86154879]), 27.474389464230015, array([15.02549731]), array([13.46192164]), 13.587089421581506, array([10.21853416]), 15.239275526232628, array([12.0143981]), array([16.44765669]), 18.670767389233838, array([18.58349729]), array([12.20049449]), 10.76229964140904, array([17.92072943]), 20.992536925876195, 11.114039251474047, 16.236796932031105, array([16.15075789]), 21.61273151390278, 15.440457984621883, array([28.41184798]), 17.76286496208215, 17.805942492391743]\n",
      "[14.056813551343637, array([14.05763891]), array([18.31553331]), 16.292994193271923, 18.36799788365821, 17.11517934409533, 14.434741733744664, 16.35073833339617, array([17.69256192]), 17.266128080961497, array([10]), 18.988922159812986, 12.523902324808972, array([12.2345583]), 14.023230369082173, array([13.47010295]), 21.53466957830524, array([25.98310185]), array([25.6252446]), array([10]), 15.391439414573739, 17.009815667301414, 17.943222281055693, array([16.46608667]), array([13.65859678]), 11.439628977202537, 20.87102664574138, array([17.95836228]), array([12.24685716]), array([10.6613665]), 13.66656211599249, 14.616683000448747, 13.83438414548838, array([13.52515991]), 19.171834730083198, array([22.33948301]), array([29.45650672]), array([21.12522628]), 13.036862293197494, 14.50858965236159, array([13.80861746]), 14.415457954553538, 16.10911059895597, 10.08767205737128, array([10]), 14.09649145437415, array([15.4477131]), array([14.64754177]), array([24.53263985]), 19.93719184475269]\n",
      "[14.056813551343637, array([14.05763891]), array([13.47029167]), array([14.39116872]), array([22.67124277]), array([20.00159098]), array([12.84386535]), array([12.97071113]), 15.813197576622825, 16.015359963692283, array([30]), 25.793439078771375, array([17.33238648]), array([19.24064631]), 14.24273703131972, 20.967950319228873, 13.689348722237074, array([18.37297486]), array([10.24096704]), array([10]), 19.53458477673274, array([15.124157]), array([14.11270829]), array([13.53751831]), array([13.23144126]), 12.561324201879186, array([10]), 15.675272144571906, 20.04773645133085, array([17.56654417]), 12.61773628560318, array([12.14816558]), array([18.95709226]), 15.019438358613813, array([12.13818099]), 19.05217338313644, array([30]), 11.472910561139813, 22.303924618470393, 18.835960885330355, array([13.87879934]), array([14.08024812]), 13.860050605759406, 13.508273500951935, 18.04291629345896, 19.449972224517143, 21.2743348853313, 17.654883874142183, 19.271868142245683, 15.193964846758183]\n",
      "[14.056813551343637, array([14.05763891]), array([16.7199582]), array([14.46193223]), 16.020148504373886, array([19.25617877]), array([10]), array([19.95862854]), 25.633929433498007, 26.11756981488378, array([20.3024197]), array([15.89874325]), array([18.18377242]), 17.787522748603664, array([11.46960908]), array([11.15397152]), 17.91277998987831, array([12.89517879]), array([30]), array([21.05027484]), 14.087653665688153, array([13.50920792]), 18.304705718333206, 20.25876766280418, 20.084376031462607, array([19.5912331]), 14.336627616540081, 10.011687137405172, array([10]), array([30]), array([13.32437223]), array([12.84184929]), array([14.4663464]), 13.015310772495802, 14.370857276460425, 14.224611144561246, 15.371813102291483, array([12.35625159]), array([17.31137215]), array([18.2912296]), 13.483286124368133, array([12.99245502]), array([16.84569326]), 17.59779906307759, 14.0909422754977, 21.309188771898448, 12.274898799242495, array([11.64637854]), 11.257839167180338, array([12.03012727])]\n",
      "[14.056813551343637, array([14.05763891]), array([10]), array([19.09383858]), array([16.21369038]), 17.23981902074687, 14.59210585832569, 16.021223270247674, 16.139521858656167, 17.38316465163834, 17.12806579978988, array([15.35743633]), array([30]), array([30]), 12.465003035285603, array([10]), 15.391749545531148, 19.02054166873149, array([10]), 15.14116186397247, 12.431464034885144, array([11.98404459]), 15.846604276551354, 16.023939042131758, 13.658405366324208, array([14.01040624]), array([26.55395228]), array([25.02582369]), array([16.36960638]), 13.720001118614732, array([14.45174273]), array([10]), 12.481986975394701, array([14.90098807]), 19.78782437981755, 15.291653386030593, array([21.79640763]), 19.39200247371555, array([14.71043181]), array([14.41314007]), array([28.74664053]), 11.597491484143827, array([14.17244135]), array([19.32373131]), array([10]), 11.108482986268653, 14.239683483086221, array([13.8435027]), array([20.86373974]), 13.075794751698487]\n",
      "[14.056813551343637, array([14.05763891]), array([19.97821954]), array([18.66426123]), 15.489676935165326, array([15.17018546]), array([19.38412478]), array([19.38634384]), array([10]), array([11.2816543]), 29.209668541090537, 25.542484789728636, array([13.70198953]), 10.128412841381193, array([14.48901858]), array([15.32808469]), array([14.39071865]), array([10.39294289]), 23.528986270306795, array([30]), 15.932589184933363, 15.37720201384803, 14.631211618730141, array([14.61714361]), array([14.26867548]), array([14.06700173]), array([14.21611335]), array([17.85257373]), array([11.01893661]), array([14.55922539]), array([10]), array([30]), array([14.87835399]), array([14.38936191]), array([15.0567289]), array([15.04724159]), 27.65556481994298, 20.73980442339018, array([10]), array([10]), 16.074549744242194, array([15.53329154]), 16.037516300047415, array([12.9492827]), array([26.57668464]), 25.481520600119488, array([17.08977588]), 20.936543094637013, 13.575847718995412, array([16.70284519])]\n",
      "[14.056813551343637, array([14.05763891]), 13.284412607196515, array([13.52063865]), array([16.99579399]), array([17.46391739]), array([14.67831558]), array([14.43468493]), array([17.27138931]), 14.724205734790269, 12.123481462684762, array([15.06524629]), 29.23865182997872, array([25.89244635]), array([20.84334611]), 11.485196725635703, array([30]), 27.06437502378054, array([19.42347262]), 15.79451353067585, array([30]), 26.28690384307751, array([20.36841167]), 24.976005954202083, array([29.6519214]), 27.762133241111574, array([14.5968855]), 14.280378937599991, array([10]), array([10]), array([14.11791078]), array([13.15393362]), 22.38588990436851, array([27.73831828]), 15.835273900184594, array([16.01697403]), 13.514564712820206, array([15.21250455]), array([16.44026406]), array([24.95266502]), 14.504007132326352, array([14.71888404]), array([15.0535198]), 14.979237439130026, 12.168069833872531, 23.64834090177488, 15.120596462636788, 14.333079502029008, array([16.49137054]), 17.299663303065756]\n",
      "[14.056813551343637, array([14.05763891]), 14.054873424937941, array([15.11315734]), 11.0318718337129, array([17.3124656]), 14.874967902319204, 14.95145685435274, 12.327627123931359, array([12.44411055]), 14.570529377832056, 14.689572594139616, 29.06954472952731, array([27.51356778]), 11.515293993579807, array([10]), array([13.70702175]), 13.22112305604576, array([11.29290292]), 18.311214437736496, array([14.53134496]), array([14.20531412]), array([15.01093616]), array([14.65897769]), 22.416521245805228, array([30]), 13.728839957734468, 13.417988601598868, array([30]), 23.204389814777464, 14.824167067628686, 15.82209139826824, 21.154955930446135, 18.61717582516305, array([15.14623102]), array([15.07213214]), array([27.80499246]), array([19.23380236]), 12.797352854771336, array([19.11966771]), 14.083194883366923, 28.633433486142998, 19.441659127572787, array([19.25466242]), array([12.16521794]), array([12.17038698]), 14.134000383903643, array([10]), 14.21659287496389, 15.82723380563042]\n",
      "[14.054873424937941, 14.056813551343637, 12.472814236245133, array([13.74158608]), array([13.40335716]), 12.351509953094766, array([14.0917858]), 15.687629867449093, array([20.00341694]), array([10]), array([12.18156522]), 12.562313642603591, array([14.56569778]), 14.468380624322043, array([10]), array([10.60801313]), 13.089329432323428, array([16.47467173]), array([16.02552925]), 13.916956046313281, 14.521452096651107, 12.31513698655529, 15.203111676068078, 12.588137178590205, array([11.28437113]), 12.772185288367908, array([30]), 10.526384763928501, 16.71020278648125, 10.191946932705369, array([22.38072911]), 18.02807947647304, array([13.20584835]), array([13.5503734]), array([11.10994447]), 13.757082482570235, array([14.65164409]), array([12.98072878]), 11.318494094146104, 13.406401894049012, array([13.86930696]), array([15.19899447]), array([16.01019013]), array([18.88338555]), array([15.57130622]), array([11.30149564]), array([23.4311998]), array([15.48276725]), 14.950540631376422, array([15.90538559])]\n"
     ]
    },
    {
     "name": "stdout",
     "output_type": "stream",
     "text": [
      "[14.054873424937941, 14.056813551343637, array([14.77581125]), array([10]), array([13.77878069]), array([14.49762997]), 21.505460798993482, 14.90601375520911, array([15.54606054]), 12.742771981692387, array([12.71249667]), 14.564926298669734, array([13.6252619]), 19.281293936708977, 13.778278203998312, array([13.9217649]), array([18.54131424]), 19.524058418081502, 13.592376767910514, 14.961276077058088, array([10.06573252]), array([10]), array([12.80148298]), 11.416133166180675, array([10]), 10.206557523040273, 15.387571933207878, 14.522753597454603, 17.540413527539258, array([14.54204947]), 17.952886436857987, 13.249706458637702, 13.58469360520977, array([12.43961691]), 14.908217936082952, array([13.53684366]), array([15.00430517]), 13.485716798264598, 15.202746078577748, 15.201039027472868, array([14.86757334]), array([15.50904758]), array([11.26931301]), array([13.31330811]), array([15.05293505]), 17.03112196422161, 10.917309579808833, array([11.56241904]), 14.565071745347998, array([14.51467973])]\n",
      "[14.054873424937941, 14.056813551343637, array([11.6140013]), array([10.86247552]), array([13.01527897]), array([14.25400313]), 13.641244048048087, 21.168446246040773, 11.69587413269436, 13.466864161653303, 14.481540274112803, array([14.42050824]), array([19.43075414]), 21.93345060479416, 14.04309233097129, array([14.53538054]), 14.62052803154311, array([10.13926787]), 17.919553111891496, array([12.07843884]), 12.403436532053266, 15.416158883526027, array([14.31480489]), 14.310440263025589, array([10.32641899]), array([14.12431909]), array([14.01805722]), array([13.76445031]), 12.858623263986932, 14.374572364611874, array([15.14138059]), array([15.71522915]), 16.65682854882438, 13.489683770720397, 12.940677457820758, 13.122117180341041, array([13.35104985]), array([13.82435758]), array([13.28007763]), 13.371476041578926, array([14.51544596]), 14.526721926343072, 14.481837667260699, 13.357141406471408, 15.865474148516938, array([14.96375074]), array([12.47036213]), array([10]), 13.732676709677566, 13.756956652910493]\n",
      "[14.04309233097129, 14.054873424937941, array([10]), array([12.17616033]), 10.355730282465188, array([10.03786216]), array([14.01538246]), 13.718612764156523, array([14.36157406]), array([14.2271518]), 15.959703889868184, 16.911344499873348, 13.888597138232326, 11.11677799858697, 14.313197276139658, 14.180733161789743, array([14.68942941]), 15.327241828050854, 13.613563743394272, array([11.97650507]), 14.903086139773073, 13.606265023962127, array([14.33276071]), array([12.23994662]), array([14.50159172]), array([14.47683235]), array([16.76788362]), 17.923087142139757, 19.350562214196962, 11.528074771289592, array([14.20438175]), 13.636600466601145, 15.370204739457334, 14.927252287796243, array([18.29837544]), 16.465578286170377, 15.513204446595951, 15.25859760648944, 19.054467010270884, array([18.81265613]), 14.270620816663198, array([14.38608776]), 12.032187686846253, 12.517731666408308, array([12.66483404]), 10.47530772264687, array([10.10495699]), array([14.08834384]), 12.457299114244973, 13.421494627087903]\n",
      "[14.04309233097129, 14.054873424937941, 11.841917832708882, 12.596228420031862, array([17.09598586]), 14.680442739530841, array([11.95804168]), 10.236548415598481, array([14.55961477]), array([14.45363159]), 19.770029338464752, 13.457496735503089, 13.933309882731548, 13.894610359724055, array([10]), array([10]), 14.161855862044213, array([14.3345957]), array([12.77936506]), array([12.36666398]), 10.182292517999002, array([13.83055601]), array([14.56615505]), 10.645765250684844, array([11.88340924]), array([18.90383595]), 17.11467158530719, array([16.28926621]), 10.049597255418881, array([10]), 15.28543120797262, array([12.54923127]), 12.798627030630083, array([10]), 12.317454503491481, array([12.80168428]), array([17.83911211]), 16.399395003370582, array([12.88798366]), 11.291250221883747, array([13.76449867]), 13.66626777294831, 14.610500530075253, 14.08929580636389, array([13.35236838]), array([18.28355225]), 15.062345221342236, array([13.85198866]), array([11.54409115]), array([14.39155193])]\n",
      "[14.04309233097129, 14.054873424937941, array([13.69589907]), 14.900306374337301, array([14.30620599]), 15.109301144860298, array([10.90248941]), 11.95573697844129, 18.473081743613072, array([19.4041827]), 17.53163622298512, 19.691829556883405, array([14.52691449]), array([13.68852321]), array([12.72337195]), array([12.79584071]), array([12.68615165]), 14.697533672081367, array([13.89098579]), 14.226025363410201, array([15.95930649]), array([10]), 10.717741191246182, array([13.54862037]), array([15.14862922]), 12.21996095588633, 15.59852349985837, array([15.51837878]), array([21.10272306]), 10.289876689818527, 13.834016764618456, 13.82068396855494, array([14.46486656]), 17.933974159808947, array([13.7267642]), 12.674524919314516, 14.002930054013053, array([13.91818677]), array([13.83644776]), 13.167582405425721, array([12.68744936]), array([10]), array([14.09010771]), array([13.30537738]), 12.062113924413072, array([12.42007821]), 10.736061943190379, 15.154600378402098, array([14.62644349]), array([14.63416849])]\n",
      "[14.04309233097129, 14.054873424937941, 13.919709484647568, array([14.09095991]), array([15.84454733]), 16.083307057958265, array([16.16091414]), array([13.5610347]), array([13.72972934]), array([13.88975834]), array([10]), 10.504537971501618, 17.780056283906283, 17.47182993903629, 14.039547679215163, array([13.88254182]), array([10]), 10.43572917456401, 13.678510037845195, 14.445256966777238, 13.3079692543509, array([15.19780319]), 18.868665437747225, 19.14635373268211, array([13.56793653]), array([12.60872599]), 13.761398845336329, array([13.64431701]), 18.69038638264951, 16.85623006184096, 13.644056933500197, 15.332009548493499, array([19.20653779]), 18.034298568206136, array([14.1895931]), array([11.22805016]), 16.891616370322115, array([17.82681305]), 10.694194125925732, array([10.30024118]), array([14.78071487]), array([15.18366725]), 14.456436134630291, array([14.6249542]), array([12.86215955]), array([13.96924802]), 10.14163847493626, array([10.54598827]), array([14.50398556]), array([14.31979779])]\n",
      "[14.04309233097129, 14.054873424937941, 10.24751837774293, array([10]), 15.925742196902199, 15.004301434324741, array([19.27235758]), array([16.50604361]), 13.0501572758537, 15.481207269815194, array([10.32609248]), 16.13790300640658, array([17.32375043]), 17.128115238410423, array([13.51837716]), array([13.631435]), array([13.36322513]), 13.515814859601454, 12.402274354552802, 11.275933600640345, array([12.37891745]), array([11.81896666]), 21.594611883989543, array([14.25147124]), array([19.17692292]), 19.958766598341725, array([15.09911017]), 15.71808579192747, array([13.84950571]), 13.735127588244762, array([11.76500444]), array([13.76177786]), 14.318250602290606, array([13.75896485]), 14.095928863867373, array([13.67230857]), array([14.71672783]), array([14.75365504]), array([14.1998218]), array([14.69468557]), array([13.23223646]), array([14.99532078]), 13.753781401042465, array([13.79468018]), array([10]), 16.991381263290627, 13.77635704818815, array([13.65349882]), array([10.50656104]), array([10.20287463])]\n",
      "[14.04309233097129, 14.054873424937941, 15.109665310755762, 14.94114163998546, 13.989873863442268, 13.256841489449098, 16.045564274310614, 14.350389466021774, array([16.54638709]), array([16.07508263]), array([17.39429847]), array([10]), array([14.19449853]), 14.418697534756918, 13.230774816966354, array([13.60337342]), 13.892684340328056, 13.830424039647516, array([11.92448185]), array([10]), array([13.44605272]), array([14.51026152]), array([10.68444633]), array([13.77069408]), array([14.35984367]), 10.791585065064027, array([14.58129964]), 16.349640169556217, array([13.79955405]), array([13.72664354]), array([19.93313261]), array([15.88704142]), array([13.43810108]), array([10]), 13.840145377973716, 13.653199958976238, 11.519136074925054, array([14.97249813]), 14.953576831633548, 15.182153155975131, array([13.51568647]), 13.855873580005145, 13.508062741760732, 17.283913300165246, array([12.86668055]), 11.701509924564558, 11.492207659838929, array([15.85276736]), array([11.82723274]), array([11.04577936])]\n",
      "[14.04309233097129, 14.054873424937941, array([13.5176653]), 16.180832995150446, array([15.18675088]), 12.753609005141485, 15.081161831854775, 15.022192332286934, 13.513048300586545, array([13.56743907]), array([10]), array([10]), array([13.53516199]), 13.68990293647897, array([16.42378677]), array([14.31340243]), 17.29196606731099, 15.414736008739014, 11.154899634475592, array([13.27014146]), 13.851966181077998, 13.798305073755316, 14.986346668664995, array([14.5794099]), 11.218680764541238, 13.273256782800065, 16.36764594447662, array([21.949389]), array([10]), 10.60623199934722, 12.384413701788745, 13.521460668136768, array([12.09134523]), array([17.20519472]), array([17.30640278]), array([15.88851634]), 13.74054598572389, 10.91430543281522, 14.543307012165767, array([14.58897302]), 14.568665297915194, 18.28863909004783, 14.402133188190692, 14.802736676317032, 16.089940350201104, array([14.07540906]), array([16.86349528]), array([14.25579013]), array([16.28967295]), 16.41723910079815]\n"
     ]
    },
    {
     "name": "stdout",
     "output_type": "stream",
     "text": [
      "[14.04309233097129, 14.054873424937941, array([13.52642949]), array([13.95915509]), array([14.21048281]), array([13.17987981]), array([13.22802043]), array([17.1877292]), 18.238991626239393, 19.97561874116063, array([13.99987505]), array([12.85107622]), array([16.51031681]), array([15.90706088]), array([14.79266366]), array([14.79575735]), array([14.75112654]), 14.13487163836257, array([14.23491566]), 14.107440776937691, 14.16259985647681, array([13.73488959]), 15.006134420900132, 22.31126736951436, array([14.60720711]), 14.483703956503252, 14.77548969679443, 11.616271567815343, array([13.59331236]), array([16.45347028]), array([16.81727992]), 14.581070208915332, 13.12234668949642, array([12.18551387]), array([18.23682702]), array([14.77423769]), array([15.22907665]), array([15.12538585]), 12.401175624510971, array([25.88592342]), array([10]), 14.773205021084372, array([18.87065754]), 18.010126764221255, 16.76295551881204, 16.63454802379363, array([16.08067827]), array([16.50168131]), array([15.76664285]), array([16.70614452])]\n"
     ]
    },
    {
     "ename": "KeyboardInterrupt",
     "evalue": "",
     "output_type": "error",
     "traceback": [
      "\u001b[1;31m---------------------------------------------------------------------------\u001b[0m",
      "\u001b[1;31mKeyboardInterrupt\u001b[0m                         Traceback (most recent call last)",
      "\u001b[1;32m<ipython-input-21-0dc651d66f28>\u001b[0m in \u001b[0;36m<module>\u001b[1;34m\u001b[0m\n\u001b[0;32m     11\u001b[0m \u001b[0moptimum_solution\u001b[0m\u001b[1;33m=\u001b[0m\u001b[1;33m{\u001b[0m\u001b[1;33m}\u001b[0m \u001b[1;31m#empty dict\u001b[0m\u001b[1;33m\u001b[0m\u001b[1;33m\u001b[0m\u001b[0m\n\u001b[0;32m     12\u001b[0m \u001b[1;32mfor\u001b[0m \u001b[0mmy_period_index\u001b[0m \u001b[1;32min\u001b[0m \u001b[0mrange\u001b[0m\u001b[1;33m(\u001b[0m\u001b[0mMarketConfig\u001b[0m\u001b[1;33m.\u001b[0m\u001b[0mT\u001b[0m\u001b[1;33m)\u001b[0m\u001b[1;33m:\u001b[0m\u001b[1;33m\u001b[0m\u001b[1;33m\u001b[0m\u001b[0m\n\u001b[1;32m---> 13\u001b[1;33m     \u001b[0mresults_period\u001b[0m\u001b[1;33m,\u001b[0m \u001b[0moptimum_solution_period\u001b[0m\u001b[1;33m,\u001b[0m \u001b[0mcarbon_industry_emission_period\u001b[0m\u001b[1;33m,\u001b[0m \u001b[0msulfur_industry_emission_period\u001b[0m \u001b[1;33m=\u001b[0m \u001b[0mBAU_emissions_period\u001b[0m\u001b[1;33m(\u001b[0m\u001b[0mmy_period_index\u001b[0m \u001b[1;33m+\u001b[0m\u001b[1;36m1\u001b[0m\u001b[1;33m)\u001b[0m\u001b[1;33m\u001b[0m\u001b[1;33m\u001b[0m\u001b[0m\n\u001b[0m\u001b[0;32m     14\u001b[0m     \u001b[0mresults\u001b[0m\u001b[1;33m[\u001b[0m\u001b[0mmy_period_index\u001b[0m\u001b[1;33m+\u001b[0m\u001b[1;36m1\u001b[0m\u001b[1;33m]\u001b[0m  \u001b[1;33m=\u001b[0m \u001b[0mresults_period\u001b[0m\u001b[1;33m\u001b[0m\u001b[1;33m\u001b[0m\u001b[0m\n\u001b[0;32m     15\u001b[0m     \u001b[0moptimum_solution\u001b[0m \u001b[1;33m[\u001b[0m\u001b[0mmy_period_index\u001b[0m \u001b[1;33m+\u001b[0m\u001b[1;36m1\u001b[0m \u001b[1;33m]\u001b[0m \u001b[1;33m=\u001b[0m \u001b[0moptimum_solution_period\u001b[0m \u001b[1;31m# a dict ''\u001b[0m\u001b[1;33m\u001b[0m\u001b[1;33m\u001b[0m\u001b[0m\n",
      "\u001b[1;32m<ipython-input-20-a94931b08a0f>\u001b[0m in \u001b[0;36mBAU_emissions_period\u001b[1;34m(p_index)\u001b[0m\n\u001b[0;32m     22\u001b[0m                                                   \u001b[0mchromo_lower_bound\u001b[0m \u001b[1;33m=\u001b[0m  \u001b[0mfirm_object\u001b[0m\u001b[1;33m.\u001b[0m\u001b[0mmin_speed\u001b[0m\u001b[1;33m,\u001b[0m\u001b[1;33m\u001b[0m\u001b[1;33m\u001b[0m\u001b[0m\n\u001b[0;32m     23\u001b[0m                                                   \u001b[0mchromo_upper_bound\u001b[0m\u001b[1;33m=\u001b[0m \u001b[0mfirm_object\u001b[0m\u001b[1;33m.\u001b[0m\u001b[0mmax_speed\u001b[0m\u001b[1;33m,\u001b[0m\u001b[1;33m\u001b[0m\u001b[1;33m\u001b[0m\u001b[0m\n\u001b[1;32m---> 24\u001b[1;33m                                                   probability = 0.5)\n\u001b[0m\u001b[0;32m     25\u001b[0m                         )\n\u001b[0;32m     26\u001b[0m \u001b[1;33m\u001b[0m\u001b[0m\n",
      "\u001b[1;32m<ipython-input-8-b2e686c55c4d>\u001b[0m in \u001b[0;36mrun_evolution\u001b[1;34m(populate_func, fitness_func, mutation_func, generation_limit, number_of_similarity, selection_func, crossover_func)\u001b[0m\n\u001b[0;32m    154\u001b[0m         \u001b[1;31m#Step 2: Implement elitism and pick the top 2 chromo(speed) in the population based on fitness for the next gernation\u001b[0m\u001b[1;33m\u001b[0m\u001b[1;33m\u001b[0m\u001b[1;33m\u001b[0m\u001b[0m\n\u001b[0;32m    155\u001b[0m         \u001b[0mnext_generation\u001b[0m \u001b[1;33m=\u001b[0m \u001b[0mpopulation\u001b[0m\u001b[1;33m[\u001b[0m\u001b[1;36m0\u001b[0m\u001b[1;33m:\u001b[0m\u001b[1;36m2\u001b[0m\u001b[1;33m]\u001b[0m\u001b[1;33m\u001b[0m\u001b[1;33m\u001b[0m\u001b[0m\n\u001b[1;32m--> 156\u001b[1;33m         \u001b[0mmax\u001b[0m \u001b[1;33m=\u001b[0m \u001b[0mnp\u001b[0m\u001b[1;33m.\u001b[0m\u001b[0msum\u001b[0m\u001b[1;33m(\u001b[0m\u001b[1;33m[\u001b[0m\u001b[0mfitness_func\u001b[0m\u001b[1;33m(\u001b[0m\u001b[0mchromo\u001b[0m\u001b[1;33m)\u001b[0m\u001b[1;33m[\u001b[0m\u001b[1;36m0\u001b[0m\u001b[1;33m]\u001b[0m \u001b[1;32mfor\u001b[0m \u001b[0mchromo\u001b[0m \u001b[1;32min\u001b[0m \u001b[0mpopulation\u001b[0m\u001b[1;33m]\u001b[0m\u001b[1;33m)\u001b[0m\u001b[1;33m\u001b[0m\u001b[1;33m\u001b[0m\u001b[0m\n\u001b[0m\u001b[0;32m    157\u001b[0m         \u001b[0mweights\u001b[0m\u001b[1;33m=\u001b[0m \u001b[0mnp\u001b[0m\u001b[1;33m.\u001b[0m\u001b[0mhstack\u001b[0m\u001b[1;33m(\u001b[0m\u001b[1;33m[\u001b[0m\u001b[0mfitness_func\u001b[0m\u001b[1;33m(\u001b[0m\u001b[0mchromo\u001b[0m\u001b[1;33m)\u001b[0m\u001b[1;33m[\u001b[0m\u001b[1;36m0\u001b[0m\u001b[1;33m]\u001b[0m \u001b[1;33m/\u001b[0m \u001b[0mmax\u001b[0m \u001b[1;32mfor\u001b[0m \u001b[0mchromo\u001b[0m \u001b[1;32min\u001b[0m \u001b[0mpopulation\u001b[0m\u001b[1;33m]\u001b[0m\u001b[1;33m)\u001b[0m\u001b[1;33m\u001b[0m\u001b[1;33m\u001b[0m\u001b[0m\n\u001b[0;32m    158\u001b[0m \u001b[1;33m\u001b[0m\u001b[0m\n",
      "\u001b[1;32m<ipython-input-8-b2e686c55c4d>\u001b[0m in \u001b[0;36m<listcomp>\u001b[1;34m(.0)\u001b[0m\n\u001b[0;32m    154\u001b[0m         \u001b[1;31m#Step 2: Implement elitism and pick the top 2 chromo(speed) in the population based on fitness for the next gernation\u001b[0m\u001b[1;33m\u001b[0m\u001b[1;33m\u001b[0m\u001b[1;33m\u001b[0m\u001b[0m\n\u001b[0;32m    155\u001b[0m         \u001b[0mnext_generation\u001b[0m \u001b[1;33m=\u001b[0m \u001b[0mpopulation\u001b[0m\u001b[1;33m[\u001b[0m\u001b[1;36m0\u001b[0m\u001b[1;33m:\u001b[0m\u001b[1;36m2\u001b[0m\u001b[1;33m]\u001b[0m\u001b[1;33m\u001b[0m\u001b[1;33m\u001b[0m\u001b[0m\n\u001b[1;32m--> 156\u001b[1;33m         \u001b[0mmax\u001b[0m \u001b[1;33m=\u001b[0m \u001b[0mnp\u001b[0m\u001b[1;33m.\u001b[0m\u001b[0msum\u001b[0m\u001b[1;33m(\u001b[0m\u001b[1;33m[\u001b[0m\u001b[0mfitness_func\u001b[0m\u001b[1;33m(\u001b[0m\u001b[0mchromo\u001b[0m\u001b[1;33m)\u001b[0m\u001b[1;33m[\u001b[0m\u001b[1;36m0\u001b[0m\u001b[1;33m]\u001b[0m \u001b[1;32mfor\u001b[0m \u001b[0mchromo\u001b[0m \u001b[1;32min\u001b[0m \u001b[0mpopulation\u001b[0m\u001b[1;33m]\u001b[0m\u001b[1;33m)\u001b[0m\u001b[1;33m\u001b[0m\u001b[1;33m\u001b[0m\u001b[0m\n\u001b[0m\u001b[0;32m    157\u001b[0m         \u001b[0mweights\u001b[0m\u001b[1;33m=\u001b[0m \u001b[0mnp\u001b[0m\u001b[1;33m.\u001b[0m\u001b[0mhstack\u001b[0m\u001b[1;33m(\u001b[0m\u001b[1;33m[\u001b[0m\u001b[0mfitness_func\u001b[0m\u001b[1;33m(\u001b[0m\u001b[0mchromo\u001b[0m\u001b[1;33m)\u001b[0m\u001b[1;33m[\u001b[0m\u001b[1;36m0\u001b[0m\u001b[1;33m]\u001b[0m \u001b[1;33m/\u001b[0m \u001b[0mmax\u001b[0m \u001b[1;32mfor\u001b[0m \u001b[0mchromo\u001b[0m \u001b[1;32min\u001b[0m \u001b[0mpopulation\u001b[0m\u001b[1;33m]\u001b[0m\u001b[1;33m)\u001b[0m\u001b[1;33m\u001b[0m\u001b[1;33m\u001b[0m\u001b[0m\n\u001b[0;32m    158\u001b[0m \u001b[1;33m\u001b[0m\u001b[0m\n",
      "\u001b[1;32m<ipython-input-8-b2e686c55c4d>\u001b[0m in \u001b[0;36mfitness\u001b[1;34m(chromo, firm, sim_game, max_number_of_vessel, period_index)\u001b[0m\n\u001b[0;32m     24\u001b[0m     \u001b[1;31m#print(\"operational_speed\", operational_speed)\u001b[0m\u001b[1;33m\u001b[0m\u001b[1;33m\u001b[0m\u001b[1;33m\u001b[0m\u001b[0m\n\u001b[0;32m     25\u001b[0m \u001b[1;33m\u001b[0m\u001b[0m\n\u001b[1;32m---> 26\u001b[1;33m     \u001b[0mmin_number_vessels_sim\u001b[0m \u001b[1;33m,\u001b[0m \u001b[0mtrips_to_meet_demand_sim\u001b[0m\u001b[1;33m,\u001b[0m \u001b[0mtime_at_sea_sim\u001b[0m  \u001b[1;33m=\u001b[0m \u001b[0mfirm\u001b[0m\u001b[1;33m.\u001b[0m\u001b[0mget_min_number_of_vessel\u001b[0m\u001b[1;33m(\u001b[0m\u001b[0msim_game\u001b[0m\u001b[1;33m,\u001b[0m \u001b[0mperiod_index\u001b[0m\u001b[1;33m)\u001b[0m\u001b[1;33m\u001b[0m\u001b[1;33m\u001b[0m\u001b[0m\n\u001b[0m\u001b[0;32m     27\u001b[0m     \u001b[1;31m#print(\"min number of vessel is\", min_number_vessels_sim )\u001b[0m\u001b[1;33m\u001b[0m\u001b[1;33m\u001b[0m\u001b[1;33m\u001b[0m\u001b[0m\n\u001b[0;32m     28\u001b[0m     \u001b[1;31m#print(\"number of trips to meet demand\", trips_to_meet_demand_sim )\u001b[0m\u001b[1;33m\u001b[0m\u001b[1;33m\u001b[0m\u001b[1;33m\u001b[0m\u001b[0m\n",
      "\u001b[1;32m<ipython-input-7-9555f1b84e34>\u001b[0m in \u001b[0;36mget_min_number_of_vessel\u001b[1;34m(self, market_instance, period_index)\u001b[0m\n\u001b[0;32m     44\u001b[0m         \u001b[0mself\u001b[0m\u001b[1;33m.\u001b[0m\u001b[0mvoyage_time\u001b[0m \u001b[1;33m=\u001b[0m \u001b[0mself\u001b[0m\u001b[1;33m.\u001b[0m\u001b[0mtime_at_sea\u001b[0m \u001b[1;33m+\u001b[0m \u001b[0mmarket_instance\u001b[0m\u001b[1;33m.\u001b[0m\u001b[0mport_time\u001b[0m\u001b[1;33m\u001b[0m\u001b[1;33m\u001b[0m\u001b[0m\n\u001b[0;32m     45\u001b[0m         \u001b[0mself\u001b[0m\u001b[1;33m.\u001b[0m\u001b[0mnumber_of_trips_to_meet_demand\u001b[0m \u001b[1;33m=\u001b[0m \u001b[0mnp\u001b[0m\u001b[1;33m.\u001b[0m\u001b[0mtrue_divide\u001b[0m\u001b[1;33m(\u001b[0m\u001b[0mself\u001b[0m\u001b[1;33m.\u001b[0m\u001b[0mfirm_demand\u001b[0m\u001b[1;33m[\u001b[0m\u001b[0mperiod_index\u001b[0m \u001b[1;33m-\u001b[0m\u001b[1;36m1\u001b[0m \u001b[1;33m]\u001b[0m\u001b[1;33m,\u001b[0m \u001b[0mself\u001b[0m\u001b[1;33m.\u001b[0m\u001b[0mcapacity\u001b[0m\u001b[1;33m)\u001b[0m\u001b[1;33m\u001b[0m\u001b[1;33m\u001b[0m\u001b[0m\n\u001b[1;32m---> 46\u001b[1;33m         \u001b[0mself\u001b[0m\u001b[1;33m.\u001b[0m\u001b[0mmax_trips_per_vessel\u001b[0m \u001b[1;33m=\u001b[0m \u001b[0mnp\u001b[0m\u001b[1;33m.\u001b[0m\u001b[0mtrue_divide\u001b[0m\u001b[1;33m(\u001b[0m\u001b[0mmarket_instance\u001b[0m\u001b[1;33m.\u001b[0m\u001b[0mannual_working_time\u001b[0m\u001b[1;33m,\u001b[0m \u001b[0mself\u001b[0m\u001b[1;33m.\u001b[0m\u001b[0mvoyage_time\u001b[0m\u001b[1;33m)\u001b[0m\u001b[1;33m\u001b[0m\u001b[1;33m\u001b[0m\u001b[0m\n\u001b[0m\u001b[0;32m     47\u001b[0m         \u001b[0mself\u001b[0m\u001b[1;33m.\u001b[0m\u001b[0mmin_number_of_vessel_to_meet_demand\u001b[0m \u001b[1;33m=\u001b[0m \u001b[0mnp\u001b[0m\u001b[1;33m.\u001b[0m\u001b[0mtrue_divide\u001b[0m\u001b[1;33m(\u001b[0m\u001b[0mself\u001b[0m\u001b[1;33m.\u001b[0m\u001b[0mnumber_of_trips_to_meet_demand\u001b[0m\u001b[1;33m,\u001b[0m \u001b[0mself\u001b[0m\u001b[1;33m.\u001b[0m\u001b[0mmax_trips_per_vessel\u001b[0m\u001b[1;33m)\u001b[0m\u001b[1;33m\u001b[0m\u001b[1;33m\u001b[0m\u001b[0m\n\u001b[0;32m     48\u001b[0m         \u001b[1;32mreturn\u001b[0m \u001b[0mself\u001b[0m\u001b[1;33m.\u001b[0m\u001b[0mmin_number_of_vessel_to_meet_demand\u001b[0m\u001b[1;33m,\u001b[0m \u001b[0mself\u001b[0m\u001b[1;33m.\u001b[0m\u001b[0mnumber_of_trips_to_meet_demand\u001b[0m\u001b[1;33m,\u001b[0m \u001b[0mself\u001b[0m\u001b[1;33m.\u001b[0m\u001b[0mtime_at_sea\u001b[0m\u001b[1;33m\u001b[0m\u001b[1;33m\u001b[0m\u001b[0m\n",
      "\u001b[1;31mKeyboardInterrupt\u001b[0m: "
     ]
    }
   ],
   "source": [
    "#S_1=emissions \n",
    "#S_2= E_1^(CO_2 )+(1-δ)   S_1^(CO_2 ) \n",
    "MarketConfig.T = 3\n",
    "#Get results for period \"period\"\n",
    "#BAU_emissions_period(my_period_index +1) Needs to start from 1 till T \n",
    "#Results also start from 1 till T \n",
    "#========>\n",
    "BAU_carbon_pollution_stock = np.zeros(MarketConfig.T+1)\n",
    "BAU_sulfur_pollution_stock = np.zeros(MarketConfig.T+1)\n",
    "results = {} #empty dict\n",
    "optimum_solution={} #empty dict \n",
    "for my_period_index in range(MarketConfig.T):\n",
    "    results_period, optimum_solution_period, carbon_industry_emission_period, sulfur_industry_emission_period = BAU_emissions_period(my_period_index +1)\n",
    "    results[my_period_index+1]  = results_period\n",
    "    optimum_solution [my_period_index +1 ] = optimum_solution_period # a dict ''    \n",
    "    BAU_carbon_pollution_stock[my_period_index + 1] = (1- pollution_decay_parameter ) * BAU_carbon_pollution_stock[my_period_index ] + carbon_industry_emission_period\n",
    "    BAU_sulfur_pollution_stock[my_period_index+1] = (1- pollution_decay_parameter ) * BAU_sulfur_pollution_stock[my_period_index] + sulfur_industry_emission_period"
   ]
  },
  {
   "cell_type": "code",
   "execution_count": null,
   "metadata": {},
   "outputs": [],
   "source": [
    "#results[2][\"firm1\"]"
   ]
  },
  {
   "cell_type": "code",
   "execution_count": null,
   "metadata": {},
   "outputs": [],
   "source": [
    "#optimum_solution[2]['firm1']"
   ]
  },
  {
   "cell_type": "markdown",
   "metadata": {},
   "source": [
    "# Plotting and Analysis"
   ]
  },
  {
   "cell_type": "markdown",
   "metadata": {},
   "source": [
    "### Evaluatin GA performance"
   ]
  },
  {
   "cell_type": "markdown",
   "metadata": {},
   "source": [
    "### Profit,   Revenue, Cost CO2 Cost,  SOx Cos in 1 graph as a function of generation ??"
   ]
  },
  {
   "cell_type": "markdown",
   "metadata": {},
   "source": [
    "### Firm 1, Period 1"
   ]
  },
  {
   "cell_type": "code",
   "execution_count": null,
   "metadata": {},
   "outputs": [],
   "source": [
    "plt.plot(results[1][\"firm1\"]['Generation'].values, results[1][\"firm1\"]['Firm Discounted profit'].values)\n",
    "plt.title(\"Convergence \" )\n",
    "plt.ylabel('Firm discounted profits')\n",
    "plt.xlabel('Generation')\n",
    "plt.show()\n",
    "#############\n",
    "plt.plot(results[1][\"firm1\"]['Vessel Speed'].values, results[1][\"firm1\"]['Firm Discounted profit'].values)\n",
    "plt.title(\"Profits \" )\n",
    "plt.ylabel('Firm discounted profits')\n",
    "plt.xlabel('Vessel Speed')\n",
    "plt.show()"
   ]
  },
  {
   "cell_type": "markdown",
   "metadata": {},
   "source": [
    "## Export Results to spreadsheet"
   ]
  },
  {
   "cell_type": "code",
   "execution_count": null,
   "metadata": {},
   "outputs": [],
   "source": [
    "writer = pd.ExcelWriter('results.xlsx', engine='xlsxwriter')   \n",
    "for periode in results.keys():\n",
    "    for firm in results[periode].keys():\n",
    "        sheet_name = \"period\" + str(periode) + firm\n",
    "        results[periode][firm].to_excel(writer, sheet_name = sheet_name, index =False)\n",
    "writer.save()"
   ]
  },
  {
   "cell_type": "code",
   "execution_count": null,
   "metadata": {},
   "outputs": [],
   "source": [
    "writer_1 = pd.ExcelWriter('optimum_solution.xlsx', engine='xlsxwriter')   \n",
    "for periode in optimum_solution.keys():\n",
    "    for firm in optimum_solution[periode].keys():\n",
    "        sheet_name = \"period\" + str(periode) + firm\n",
    "        optimum_solution[periode][firm].to_excel(writer_1, sheet_name = sheet_name, index =False)\n",
    "writer_1.save()"
   ]
  },
  {
   "cell_type": "markdown",
   "metadata": {},
   "source": [
    "## Placeholders Analysis:"
   ]
  },
  {
   "cell_type": "code",
   "execution_count": null,
   "metadata": {},
   "outputs": [],
   "source": [
    "firms = optimum_solution[1].keys()\n",
    "periodes = optimum_solution.keys()"
   ]
  },
  {
   "cell_type": "markdown",
   "metadata": {},
   "source": [
    "##### 1. No carbon emissions constraints"
   ]
  },
  {
   "cell_type": "markdown",
   "metadata": {},
   "source": [
    "##### Discounted Period Profits"
   ]
  },
  {
   "cell_type": "code",
   "execution_count": null,
   "metadata": {},
   "outputs": [],
   "source": [
    "Discounted_period_profits = pd.DataFrame(columns = firms,  index = periodes )\n",
    "for periode in periodes:\n",
    "    for firm in firms:\n",
    "        Discounted_period_profits[firm][periode] = ((optimum_solution[periode][firm][\"Firm Discounted profit\"]).values).astype(float)\n",
    "Discounted_period_profits\n"
   ]
  },
  {
   "cell_type": "markdown",
   "metadata": {},
   "source": [
    "#####  Vessel Speed"
   ]
  },
  {
   "cell_type": "code",
   "execution_count": null,
   "metadata": {},
   "outputs": [],
   "source": [
    "Vessel_speed_optimum = pd.DataFrame(columns = firms,  index = periodes )\n",
    "for periode in periodes:\n",
    "    for firm in firms:\n",
    "        Vessel_speed_optimum[firm][periode] = ((optimum_solution[periode][firm][\"Vessel Speed\"]).values).astype(float)\n",
    "Vessel_speed_optimum"
   ]
  },
  {
   "cell_type": "markdown",
   "metadata": {},
   "source": [
    "#####  Number of vessels"
   ]
  },
  {
   "cell_type": "code",
   "execution_count": null,
   "metadata": {},
   "outputs": [],
   "source": [
    "number_of_vessel_optimum = pd.DataFrame(columns = firms,  index = periodes )\n",
    "for periode in periodes:\n",
    "    for firm in firms:\n",
    "        number_of_vessel_optimum[firm][periode] = ((optimum_solution[periode][firm][\"Number of vessels\"]).values).astype(float)\n",
    "number_of_vessel_optimum"
   ]
  },
  {
   "cell_type": "markdown",
   "metadata": {},
   "source": [
    "#####  Carbon Emissions Path"
   ]
  },
  {
   "cell_type": "code",
   "execution_count": null,
   "metadata": {
    "scrolled": true
   },
   "outputs": [],
   "source": [
    "carbon_emission = pd.DataFrame(columns = firms,  index = periodes )\n",
    "\n",
    "for periode in periodes:\n",
    "    for firm in firms:\n",
    "        carbon_emission[firm][periode] = ((optimum_solution[periode][firm][\"Carbon Emissions\"]).values).astype(float)\n",
    "\n",
    "carbon_emission.to_csv(\"carbonemissionpath\")\n",
    "\n",
    "\n",
    "plt.plot(list(range(1,MarketConfig.T+1)),carbon_emission)\n",
    "plt.title(\"Carbon emission path \" )\n",
    "plt.ylabel('Carbon emissions')\n",
    "plt.legend(labels  =carbon_emission.columns.tolist())\n",
    "plt.show()\n",
    "\n",
    "carbon_emission"
   ]
  },
  {
   "cell_type": "markdown",
   "metadata": {},
   "source": [
    "### Sulfur Emission Path\n"
   ]
  },
  {
   "cell_type": "code",
   "execution_count": null,
   "metadata": {},
   "outputs": [],
   "source": [
    "sulfur_emission = pd.DataFrame(columns = firms,  index = periodes )\n",
    "\n",
    "for periode in periodes:\n",
    "    for firm in firms:\n",
    "        sulfur_emission[firm][periode] = ((optimum_solution[periode][firm][\"Sulfur Emissions\"]).values).astype(float)\n",
    "\n",
    "        \n",
    "plt.plot(list(range(1,MarketConfig.T+1)),sulfur_emission)\n",
    "plt.title(\"Sulfur emission path \" )\n",
    "plt.ylabel('Sulfur emissions')\n",
    "plt.legend(labels  = sulfur_emission.columns.tolist())\n",
    "plt.show()\n",
    "\n",
    "\n",
    "\n",
    "sulfur_emission.to_csv(\"sulfuremissionpath\")\n",
    "sulfur_emission"
   ]
  },
  {
   "cell_type": "markdown",
   "metadata": {},
   "source": [
    "#####  Carbon and Sulfur Pollution Stock"
   ]
  },
  {
   "cell_type": "code",
   "execution_count": null,
   "metadata": {},
   "outputs": [],
   "source": [
    "Pollution_Stock = pd.DataFrame(columns = [\"Carbon Pollution Stock\", \"Sulfur Pollution Stock\"] ,  index = periodes )\n",
    "\n",
    "for periode in periodes:\n",
    "    Pollution_Stock[\"Carbon Pollution Stock\"][periode] = BAU_carbon_pollution_stock[periode -1]\n",
    "    Pollution_Stock[\"Sulfur Pollution Stock\"][periode] = BAU_sulfur_pollution_stock[periode -1]\n",
    "\n",
    "# Create some mock data\n",
    "\n",
    "fig, ax1 = plt.subplots()\n",
    "\n",
    "color = 'tab:red'\n",
    "ax1.set_xlabel('periode')\n",
    "ax1.set_ylabel('Carbon Pollution Stock', color=color)\n",
    "ax1.plot(list(range(1,MarketConfig.T+1)), Pollution_Stock[\"Carbon Pollution Stock\"], color=color)\n",
    "ax1.tick_params(axis='y', labelcolor=color)\n",
    "\n",
    "ax2 = ax1.twinx()  # instantiate a second axes that shares the same x-axis\n",
    "\n",
    "color = 'tab:blue'\n",
    "ax2.set_ylabel('Sulfur Pollution Stock', color=color)  # we already handled the x-label with ax1\n",
    "ax2.plot(list(range(1,MarketConfig.T+1)), Pollution_Stock[\"Sulfur Pollution Stock\"], color=color)\n",
    "ax2.tick_params(axis='y', labelcolor=color)\n",
    "\n",
    "#fig.tight_layout()  # otherwise the right y-label is slightly clipped\n",
    "plt.show()\n",
    "\n",
    "Pollution_Stock"
   ]
  },
  {
   "cell_type": "markdown",
   "metadata": {},
   "source": [
    "#####  Carbon and Sulfur Pollution Damages"
   ]
  },
  {
   "cell_type": "code",
   "execution_count": null,
   "metadata": {},
   "outputs": [],
   "source": [
    "sulfur_industry_carbon_damages = 0.5* pollution_damage_parameter * np.power(BAU_sulfur_pollution_stock,2)\n",
    "#sulfur_industry_carbon_damages\n",
    "BAU_industry_carbon_damages = 0.5* pollution_damage_parameter * np.power(BAU_carbon_pollution_stock,2)\n",
    "#BAU_industry_carbon_damages"
   ]
  },
  {
   "cell_type": "code",
   "execution_count": null,
   "metadata": {},
   "outputs": [],
   "source": [
    "Industry_Damages = pd.DataFrame(columns = [\"Carbon Industry Damages\", \"Sulfur Industry Damages \"] ,  index = periodes )\n",
    "\n",
    "for periode in periodes:\n",
    "    Industry_Damages[\"Carbon Industry Damages\"][periode] = BAU_industry_carbon_damages[periode-1]\n",
    "    Industry_Damages[\"Sulfur Industry Damages \"][periode] = sulfur_industry_carbon_damages[periode-1]\n",
    "\n",
    "    \n",
    "    \n",
    "# Create some mock data\n",
    "\n",
    "fig, ax1 = plt.subplots()\n",
    "\n",
    "color = 'tab:red'\n",
    "ax1.set_xlabel('periode')\n",
    "ax1.set_ylabel(\"Carbon Industry Damages\", color=color)\n",
    "ax1.plot(list(range(1,MarketConfig.T+1)), Industry_Damages[\"Carbon Industry Damages\"] , color=color)\n",
    "ax1.tick_params(axis='y', labelcolor=color)\n",
    "\n",
    "ax2 = ax1.twinx()  # instantiate a second axes that shares the same x-axis\n",
    "\n",
    "color = 'tab:blue'\n",
    "ax2.set_ylabel(\"Sulfur Industry Damages \", color=color)  # we already handled the x-label with ax1\n",
    "ax2.plot(list(range(1,MarketConfig.T+1)), Industry_Damages[\"Sulfur Industry Damages \"] , color=color)\n",
    "ax2.tick_params(axis='y', labelcolor=color)\n",
    "\n",
    "#fig.tight_layout()  # otherwise the right y-label is slightly clipped\n",
    "plt.show()\n",
    "\n",
    "\n",
    "Industry_Damages"
   ]
  },
  {
   "cell_type": "markdown",
   "metadata": {},
   "source": [
    "##### 2. Carbon emissions tax "
   ]
  },
  {
   "cell_type": "code",
   "execution_count": null,
   "metadata": {},
   "outputs": [],
   "source": [
    "def fitness_carbon_emission_tax():\n",
    "    \n",
    "    pass"
   ]
  },
  {
   "cell_type": "markdown",
   "metadata": {},
   "source": [
    "##### 3. Carbon quota :\n",
    "Assume a carbon limit, ie a defined carbon emission allowance. \n",
    "\n",
    "When the carbon emission quota is insufficient or excessive, the company cannot purchase or sell carbon emission rights to the carbon limit and the trading market. \n"
   ]
  },
  {
   "cell_type": "code",
   "execution_count": null,
   "metadata": {},
   "outputs": [],
   "source": [
    "carbon_cap_sim = 839500 #ton per year. #data source Clarkson,BIMCO"
   ]
  },
  {
   "cell_type": "code",
   "execution_count": null,
   "metadata": {},
   "outputs": [],
   "source": [
    "def fitness_carbon_quota (chromo: Chromo, \n",
    "                          firm: Firm, \n",
    "                          sim_game: MarketConfig, \n",
    "                          max_number_of_vessel: int, \n",
    "                          period_index: int,\n",
    "                          carbon_cap:  int ) -> Tuple[float, int, float, float]:\n",
    "    \n",
    "    operational_speed = firm.update_vessel_speed(chromo)    \n",
    "    min_number_vessels_sim , trips_to_meet_demand_sim, time_at_sea_sim  = firm.get_min_number_of_vessel(sim_game, period_index)\n",
    "    number_vessels_sim  = firm.get_number_of_vessel()\n",
    "    if (number_vessels_sim > max_number_of_vessel):\n",
    "        return np.array([-9, -9, -9, -9]) \n",
    "    else:\n",
    "        main_fuel_con_sim = firm.get_main_fuel_cons(sim_game)\n",
    "        aux_fuel_con_sim = firm.get_aux_fuel_cons(sim_game)\n",
    "        fuel_cost_sim = firm.get_fuel_cost(sim_game)\n",
    "        total_cost_sim = firm.get_total_cost()\n",
    "        revenues_sim = firm.get_revenue(sim_game, period_index)\n",
    "        period_profits_sim = firm.get_period_profits()\n",
    "        discounted_period_profits_sim = firm.get_discounted_period_profit(sim_game, period_index)\n",
    "        carbon_emissions_sim = firm.get_firm_carbon_emission(sim_game)\n",
    "        sulfur_emissions_sim = firm.get_firm_sulfur_emission(sim_game)\n",
    "        if carbon_emissions_sim > carbon_cap:\n",
    "            return np.array([-9, -9, -9, -9])\n",
    "        else:\n",
    "            return discounted_period_profits_sim, number_vessels_sim, carbon_emissions_sim, sulfur_emissions_sim\n",
    "#============================================>\n",
    "def carbon_quota_sim_period(p_index):\n",
    "    results_period = {}\n",
    "    optimum_solution_period ={}\n",
    "    carbon_industry_emission_period = 0\n",
    "    sulfur_industry_emission_period = 0\n",
    "    for firm_object in (Firm._registry):\n",
    "        results  = run_evolution(populate_func = partial(generate_population,\n",
    "                                                 size=50,\n",
    "                                                 chromo_lower_bound = firm_object.min_speed ,\n",
    "                                                 chromo_upper_bound = firm_object.max_speed),\n",
    "                         fitness_func = partial(fitness_carbon_quota,\n",
    "                                                firm = firm_object,\n",
    "                                                sim_game = game_config,\n",
    "                                                max_number_of_vessel = firm_object.max_number_of_vessel,\n",
    "                                                period_index = my_period_index,\n",
    "                                                carbon_cap = carbon_cap_sim ),\n",
    "                         generation_limit = 100,\n",
    "                         number_of_similarity = 30,\n",
    "                         mutation_func = partial (mutation,\n",
    "                                                  variance = 0.009,\n",
    "                                                  chromo_lower_bound =  firm_object.min_speed,\n",
    "                                                  chromo_upper_bound= firm_object.max_speed,\n",
    "                                                  probability = 0.5)\n",
    "                        )\n",
    "        \n",
    "        results_period[\"firm\" + str(firm_object.index)] = results\n",
    "        \n",
    "        # Store Optimum Solution table     \n",
    "        optimum_solution_period[\"firm\" + str(firm_object.index)] = results_period[\"firm\" + str(firm_object.index)].iloc[[-1]]\n",
    "\n",
    "        # Compute industry level BAU emissions\n",
    "        carbon_industry_emission_period += optimum_solution_period[\"firm\" + str(firm_object.index)][\"Carbon Emissions\"].values\n",
    "        sulfur_industry_emission_period += optimum_solution_period[\"firm\" + str(firm_object.index)][\"Sulfur Emissions\"].values\n",
    "        #print(\"carbon_industry_emission_period\")\n",
    "    #print(carbon_industry_emission_period)\n",
    "    return results_period, optimum_solution_period, carbon_industry_emission_period, sulfur_industry_emission_period\n"
   ]
  },
  {
   "cell_type": "code",
   "execution_count": null,
   "metadata": {},
   "outputs": [],
   "source": [
    "BAU_carbon_pollution_stock = np.zeros(MarketConfig.T+1)\n",
    "BAU_sulfur_pollution_stock = np.zeros(MarketConfig.T+1)\n",
    "results = {} #empty dict\n",
    "optimum_solution={} #empty dict \n",
    "for my_period_index in range(MarketConfig.T):\n",
    "    results_period, optimum_solution_period, carbon_industry_emission_period, sulfur_industry_emission_period = carbon_quota_sim_period(my_period_index +1)\n",
    "    results[my_period_index+1]  = results_period\n",
    "    optimum_solution [my_period_index +1 ] = optimum_solution_period # a dict ''    \n",
    "    BAU_carbon_pollution_stock[my_period_index + 1] = (1- pollution_decay_parameter ) * BAU_carbon_pollution_stock[my_period_index ] + carbon_industry_emission_period\n",
    "    BAU_sulfur_pollution_stock[my_period_index+1] = (1- pollution_decay_parameter ) * BAU_sulfur_pollution_stock[my_period_index] + sulfur_industry_emission_period"
   ]
  },
  {
   "cell_type": "code",
   "execution_count": null,
   "metadata": {},
   "outputs": [],
   "source": []
  },
  {
   "cell_type": "markdown",
   "metadata": {},
   "source": [
    "##### 4. Carbon cap-and-trade"
   ]
  },
  {
   "cell_type": "code",
   "execution_count": null,
   "metadata": {},
   "outputs": [],
   "source": [
    "def fitness_cap_and_trade():\n",
    "    pass"
   ]
  },
  {
   "cell_type": "markdown",
   "metadata": {},
   "source": [
    "##### 5. Carbon dynamic emission tax:"
   ]
  },
  {
   "cell_type": "code",
   "execution_count": null,
   "metadata": {},
   "outputs": [],
   "source": [
    "def fitness_Carbon_dynamic_emission_tax():\n",
    "    pass"
   ]
  },
  {
   "cell_type": "markdown",
   "metadata": {},
   "source": [
    "## 1. Speed-fuel consumption curve.\n",
    "\n",
    "fuel consumption in tonnes /year = f(vessel speed in knots)"
   ]
  },
  {
   "cell_type": "markdown",
   "metadata": {},
   "source": [
    "# 2. GA analysis\n",
    "Population size :    100 1000 ...\n",
    "Vessel Speed \n",
    "Number of vessels 3 333333\n",
    "profit Π (USD) \n",
    "revenue (USD)  \n",
    "Average total operational cost \n",
    "Average total CO2 cost (USD)  \n",
    "Average total SOx cost (USD)  \n"
   ]
  },
  {
   "cell_type": "markdown",
   "metadata": {},
   "source": [
    "Optimal solution compared to the average values of the GA results for the ten trials of each number of iterations and for the third scenario.\n"
   ]
  },
  {
   "cell_type": "markdown",
   "metadata": {},
   "source": [
    "# 2.The effects of fuel price on global CO2 emissions\n"
   ]
  },
  {
   "cell_type": "markdown",
   "metadata": {},
   "source": [
    "The IMO will enforce the new global 0.5% fuel sulphur content cap regulation from 2020, lowering from the present 3.5% limit.\n",
    "By then, if a ship sails outside the ECAs, the sulphur content has to be no more than 0.5%, whereas in ECAs the limit is still 0.1%.\n",
    "Therefore, the trend is very likely toward smaller fuel price gaps. In this subsection, a sensitivity analysis on fuel price gap has been\n",
    "carried out to examine the magnitude of annual fleet cost savings if vessels use differentiated speeds (instead of constant speed) when\n",
    "sailing inside and outside the ECAs. Referring to the model formulation of problem [ECA] in Section 3.2, let\n",
    "AFC AFC v v N AFC v v N = ( , , ) ( , , ) 1 2 represent the annual fleet cost difference under constant speed (v) and differentiated speeds\n",
    "(v v 1 2 , ). Let = 2 1 denote the fuel price gap. Referring to the fuel price scenario considered by Doudnikoff and Lacoste (2014),\n",
    "the MGO price 1 (applicable inside the ECAs) in the sensitivity analysis is fixed at 900$/ton and the HFO price 2 (applicable outside\n",
    "the ECAs) is allowed to vary from 300$/ton to 900$/ton. Therefore, when the HFO price becomes higher, the price gap between HFO\n",
    "and MGO gets smaller, which exactly represents the likely scenario from 2020 onwards. As shown in Fig. 4, the annual fleet cost\n",
    "savings (i.e.,\n",
    "AFC\n",
    "), on average, can still be hundreds of thousands of dollars (10^5) even if the fuel price gap is less than 100$/ton. It\n",
    "is also important to note the above estimation is just for one single shipping service with a fleet size of about 10–15 vessels. For large\n",
    "shipping companies that operate several hundreds of vessels on multiple services, the annual cost savings could be millions and\n",
    "should not be ignored. Therefore, a shipping company has economic incentives to adopt differentiated vessel speeds and adjust its\n",
    "fleet size when operating through ECAs, even after 2020 The IMO will enforce the new global 0.5% fuel sulphur content cap regulation from 2020, lowering from the present 3.5% limit.\n",
    "By then, if a ship sails outside the ECAs, the sulphur content has to be no more than 0.5%, whereas in ECAs the limit is still 0.1%.\n",
    "Therefore, the trend is very likely toward smaller fuel price gaps. In this subsection, a sensitivity analysis on fuel price gap has been\n",
    "carried out to examine the magnitude of annual fleet cost savings if vessels use differentiated speeds (instead of constant speed) when\n",
    "sailing inside and outside the ECAs. Referring to the model formulation of problem [ECA] in Section 3.2, let\n",
    "AFC AFC v v N AFC v v N = ( , , ) ( , , ) 1 2 represent the annual fleet cost difference under constant speed (v) and differentiated speeds\n",
    "(v v 1 2 , ). Let = 2 1 denote the fuel price gap. Referring to the fuel price scenario considered by Doudnikoff and Lacoste (2014),\n",
    "the MGO price 1 (applicable inside the ECAs) in the sensitivity analysis is fixed at 900$/ton and the HFO price 2 (applicable outside\n",
    "the ECAs) is allowed to vary from 300$/ton to 900$/ton. Therefore, when the HFO price becomes higher, the price gap between HFO\n",
    "and MGO gets smaller, which exactly represents the likely scenario from 2020 onwards. As shown in Fig. 4, the annual fleet cost\n",
    "savings (i.e.,\n",
    "AFC\n",
    "), on average, can still be hundreds of thousands of dollars (10^5) even if the fuel price gap is less than 100$/ton. It\n",
    "is also important to note the above estimation is just for one single shipping service with a fleet size of about 10–15 vessels. For large\n",
    "shipping companies that operate several hundreds of vessels on multiple services, the annual cost savings could be millions and\n",
    "should not be ignored. Therefore, a shipping company has economic incentives to adopt differentiated vessel speeds and adjust its\n",
    "fleet size when operating through ECAs, even after 2020"
   ]
  },
  {
   "cell_type": "markdown",
   "metadata": {},
   "source": [
    "## Figure 4: Profit curve of carbon cap-and-trade.\n",
    "Figure 4: Profit curve of carbon cap-and-trade.\n",
    "## Figure 3:: Marginal abatement costs"
   ]
  },
  {
   "cell_type": "markdown",
   "metadata": {},
   "source": [
    "## 5 comparison of Sulfur emissions tax  and the effect of the 0.5% global sulphur cap"
   ]
  },
  {
   "cell_type": "markdown",
   "metadata": {},
   "source": [
    "The IMO will enforce the new global 0.5% fuel sulphur content cap regulation from 2020, lowering from the present 3.5% limit.\n",
    "By then, if a ship sails outside the ECAs, the sulphur content has to be no more than 0.5%, whereas in ECAs the limit is still 0.1%.\n",
    "Therefore, the trend is very likely toward smaller fuel price gaps. In this subsection, a sensitivity analysis on fuel price gap has been\n",
    "carried out to examine the magnitude of annual fleet cost savings if vessels use differentiated speeds (instead of constant speed) when\n",
    "sailing inside and outside the ECAs. Referring to the model formulation of problem [ECA] in Section 3.2, let\n",
    "AFC AFC v v N AFC v v N = ( , , ) ( , , ) 1 2 represent the annual fleet cost difference under constant speed (v) and differentiated speeds\n",
    "(v v 1 2 , ). Let = 2 1 denote the fuel price gap. Referring to the fuel price scenario considered by Doudnikoff and Lacoste (2014),\n",
    "the MGO price 1 (applicable inside the ECAs) in the sensitivity analysis is fixed at 900$/ton and the HFO price 2 (applicable outside\n",
    "the ECAs) is allowed to vary from 300$/ton to 900$/ton. Therefore, when the HFO price becomes higher, the price gap between HFO\n",
    "and MGO gets smaller, which exactly represents the likely scenario from 2020 onwards. As shown in Fig. 4, the annual fleet cost\n",
    "savings (i.e.,\n",
    "AFC\n",
    "), on average, can still be hundreds of thousands of dollars (10^5) even if the fuel price gap is less than 100$/ton. It\n",
    "is also important to note the above estimation is just for one single shipping service with a fleet size of about 10–15 vessels. For large\n",
    "shipping companies that operate several hundreds of vessels on multiple services, the annual cost savings could be millions and\n",
    "should not be ignored. Therefore, a shipping company has economic incentives to adopt differentiated vessel speeds and adjust its\n",
    "fleet size when operating through ECAs, even after 2020"
   ]
  },
  {
   "cell_type": "markdown",
   "metadata": {},
   "source": [
    "The Impact of Different Carbon Emission Policies on\n",
    "Liner Shipping"
   ]
  },
  {
   "cell_type": "markdown",
   "metadata": {},
   "source": [
    "## 1. Marginal Abatement Costs\n",
    "\n",
    "$$ MAC^{CO_2}_{i} = \\frac{ \\sum_t \\pi_t^{No_{abatement}} -  \\pi_t^{abatement}}{CO_2^{BAU} - CO_2}  $$\n",
    "\n",
    "$$ MAC^{SO_x}_{i} = \\frac{ \\sum_t \\pi_t^{No_{abatement}} -  \\pi_t^{abatement}}{SO_x^{BAU} - SO_x}  $$\n",
    "\n",
    "\n",
    "\n",
    "## 2. Passthrough: who bares the cost\n",
    "the cost pass-through theory is useful, but the estimation of the\n",
    "allocation share requires a set of assumptions on the price elasticity of supply and demand.\n",
    "The price elasticity of supply and demand can be expressed as:\n",
    "$$ \\eta_s  = \\frac{\\% change ~\\ in ~\\ quantity ~\\ supplied}{\\% change ~\\ in ~\\ price}$$\n",
    "$$ \\eta_d  = \\frac{\\% change ~\\ in ~\\ quantity ~\\ demanded}{\\% change ~\\ in ~\\ price}$$\n",
    "\n",
    "\n",
    "the amount of tax that will be borne by the shipper and ship-owner or ship-operator at period t.\n",
    "\n",
    "\n",
    " the fraction of the levy costs borne by the consumer, $\\epsilon$ : \n",
    "$$ \\epsilon = \\frac{\\eta_s} {\\eta_d + \\eta_s} $$\n",
    "\n"
   ]
  }
 ],
 "metadata": {
  "kernelspec": {
   "display_name": "Python 3",
   "language": "python",
   "name": "python3"
  },
  "language_info": {
   "codemirror_mode": {
    "name": "ipython",
    "version": 3
   },
   "file_extension": ".py",
   "mimetype": "text/x-python",
   "name": "python",
   "nbconvert_exporter": "python",
   "pygments_lexer": "ipython3",
   "version": "3.7.7"
  }
 },
 "nbformat": 4,
 "nbformat_minor": 4
}
