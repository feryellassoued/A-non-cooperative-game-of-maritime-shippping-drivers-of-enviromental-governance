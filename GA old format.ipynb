{
 "cells": [
  {
   "cell_type": "code",
   "execution_count": 1,
   "metadata": {},
   "outputs": [],
   "source": [
    "import numpy as np # importing numpy for matrix operations \n",
    "from scipy import *\n",
    "from scipy.optimize import minimize\n",
    "import pandas as pd\n",
    "import matplotlib.pyplot as plt\n",
    "import seaborn as sns\n",
    "sns.set()\n",
    "from IPython import display \n",
    "import itertools\n",
    "from IPython.display import display\n",
    "import random, operator\n",
    "from random import choices, randint, randrange, random, sample, seed \n",
    "from collections import namedtuple\n",
    "from typing import List, Optional, Callable, Tuple\n",
    "from functools import partial"
   ]
  },
  {
   "cell_type": "code",
   "execution_count": 2,
   "metadata": {},
   "outputs": [],
   "source": [
    "#seed(0) #Fix seed "
   ]
  },
  {
   "cell_type": "code",
   "execution_count": 3,
   "metadata": {},
   "outputs": [],
   "source": [
    "class IterRegistry(type):\n",
    "    def __iter__(cls):\n",
    "        return iter(cls._registry)"
   ]
  },
  {
   "cell_type": "code",
   "execution_count": 4,
   "metadata": {},
   "outputs": [],
   "source": [
    "class Firm:\n",
    "    #class attributes intialisation, to be updated with the addition of each instance\n",
    "    _registry = []\n",
    "    \n",
    "    def __init__(self, index, capacity, max_number_of_vessel, design_speed, \n",
    "                 min_speed, max_speed, main_engine_power, aux_engine_power,\n",
    "                 fix_cost, fuel_type):\n",
    "        '''__init__ a method to describe the poperty that all shipping firm have'''\n",
    "        self._registry.append(self)\n",
    "        self.index = index\n",
    "        self.capacity = capacity # Vessel capacity in TEU per firm, \n",
    "        self.max_number_of_vessel = max_number_of_vessel # # of vessels per firms\n",
    "        self.design_speed = design_speed  #design speed of the vessel in knots\n",
    "        self.min_speed = min_speed #min vessel speed\n",
    "        self.max_speed = max_speed #max vessel speed         \n",
    "        self.main_engine_power =  main_engine_power  # PS_m : main engine power in kW\n",
    "        self.aux_engine_power =  aux_engine_power  # auxiliary engine power [kW] \n",
    "        self.fix_cost = fix_cost #Daily cost of vessel (USD/Day) $25,000\n",
    "        self.fuel_type = fuel_type\n",
    "        #self.bau_emission = bau_emission\n",
    "         \n",
    "   \n",
    "    # Firm methods \n",
    "    def get_market_share(self , market_instance):\n",
    "        '''return market share of the firm accoding to it s capacity'''\n",
    "        self.transport_capacity = np.multiply(self.max_number_of_vessel , self.capacity)\n",
    "        self.market_share= np.divide(self.transport_capacity, market_instance.market_capacity)\n",
    "        return self.market_share\n",
    "        \n",
    "    def get_firm_param(self, market_instance):\n",
    "        self.psy = np.multiply (self.market_share , market_instance.market_psy)\n",
    "        return self.psy\n",
    "    \n",
    "    def get_firm_demand(self, market_instance):\n",
    "        self.firm_demand = np.multiply (self.market_share , market_instance.market_demand)\n",
    "        return self.firm_demand \n",
    "    \n",
    "    \n",
    "    def get_min_number_of_vessel(self, market_instance, operational_speed):\n",
    "        self.time_at_sea = np.true_divide(market_instance.distance,  operational_speed)\n",
    "        self.voyage_time = self.time_at_sea  + market_instance.port_time \n",
    "        self.number_of_trips_to_meet_demand = np.true_divide(self.firm_demand[market_instance.period_index], self.capacity)\n",
    "        self.max_trips_per_vessel = np.true_divide(market_instance.annual_working_time, self.voyage_time)\n",
    "        self.min_number_of_vessel_to_meet_demand = np.true_divide(self.number_of_trips_to_meet_demand, self.max_trips_per_vessel)\n",
    "        return self.min_number_of_vessel_to_meet_demand, self.number_of_trips_to_meet_demand, self.time_at_sea \n",
    "    \n",
    "    def get_number_of_vessel(self):\n",
    "        self.number_of_vessel = np.ceil(self.min_number_of_vessel_to_meet_demand)\n",
    "        return self.number_of_vessel\n",
    "        \n",
    "        \n",
    "    def get_ship_energy_efficiency(self, market_instance):\n",
    "        self.main_fuel_parameter = market_instance.SFOC_main * market_instance.eng_load_main * self.main_engine_power * 10**(-6)\n",
    "        self.ship_energy = np.multiply(self.main_fuel_parameter, np.power(self.design_speed, -3) )      \n",
    "        return self.ship_energy\n",
    "        \n",
    "    def get_main_fuel_cons(self, market_instance, operational_speed):\n",
    "        self.main_fuel_cons = market_instance.distance * self.ship_energy * operational_speed**2 *self.number_of_trips_to_meet_demand\n",
    "        return self.main_fuel_cons\n",
    "        \n",
    "    def get_aux_fuel_cons(self, market_instance): \n",
    "        self.aux_fuel_parameter = market_instance.SFOC_aux * market_instance.eng_load_aux * self.aux_engine_power * 10**(-6)\n",
    "        self.aux_fuel_cons =  self.aux_fuel_parameter * self.time_at_sea \n",
    "        return self.aux_fuel_cons \n",
    "        \n",
    "    def get_fuel_cost(self, market_instance):\n",
    "        self.aux_fuel_cost = self.aux_fuel_cons  * market_instance.fuel_data['MGO']['price'] \n",
    "        self.main_fuel_cost = self.main_fuel_cons * market_instance.fuel_data[self.fuel_type]['price']  \n",
    "        self.fuel_cost = self.main_fuel_cost + self.aux_fuel_cost\n",
    "        return self.fuel_cost\n",
    "        \n",
    "    \n",
    "    def get_total_cost(self):\n",
    "        self.operating_cost = self.fix_cost * self.number_of_vessel #Fixed Cost\n",
    "        self.total_cost = self.operating_cost + self.fuel_cost\n",
    "        return self.total_cost \n",
    "    \n",
    "    def get_revenue(self,market_instance):\n",
    "        self.revenue = self.firm_demand[market_instance.period_index] * market_instance.freight_rate\n",
    "        return self.revenue\n",
    "    \n",
    "    def get_period_profits(self):\n",
    "        self.period_profit = self.revenue - self.total_cost \n",
    "        return self.period_profit\n",
    "    \n",
    "    def get_discounted_period_profit(self,market_instance):\n",
    "        self.discounted_period_profit = np.multiply( np.power( 1+ market_instance.discount_rate, - market_instance.period_index), self.period_profit) \n",
    "        return self.discounted_period_profit\n",
    "    \n",
    "    def get_firm_carbon_emission(self, market_instance):\n",
    "        self.carbon_aux_emision_factor = market_instance.fuel_data['MGO']['carbon_factor']\n",
    "        self_carbon_aux_emissions = self.carbon_aux_emision_factor * self.aux_fuel_cons \n",
    "\n",
    "        self.carbon_main_emision_factor =  market_instance.fuel_data[self.fuel_type]['carbon_factor']\n",
    "        self_carbon_main_emissions =  self.carbon_main_emision_factor * self.main_fuel_cons\n",
    "\n",
    "        self_carbon_emissions = self_carbon_main_emissions  + self_carbon_aux_emissions\n",
    "        return self_carbon_emissions\n",
    "    \n",
    "    def get_firm_sulfur_emission(self, market_instance):\n",
    "        self.sulfur_aux_emision_factor = market_instance.fuel_data['MGO']['sulfur_factor']\n",
    "        self_sulfur_aux_emissions = self.sulfur_aux_emision_factor * self.aux_fuel_cons \n",
    "\n",
    "        self.sulfur_main_emision_factor =  market_instance.fuel_data[self.fuel_type]['sulfur_factor']\n",
    "        self_sulfur_main_emissions =  self.sulfur_main_emision_factor * self.main_fuel_cons\n",
    "\n",
    "        self_sulfur_emissions = self_sulfur_main_emissions  + self_sulfur_aux_emissions\n",
    "        return self_sulfur_emissions"
   ]
  },
  {
   "cell_type": "code",
   "execution_count": 5,
   "metadata": {},
   "outputs": [],
   "source": [
    "class MarketConfig: \n",
    "    #class attributes\n",
    "    t0 = 2016 #The starting year for evaluation of the pay-offs\n",
    "    T = 35  # Planning Horizon t = 2016,...,2040 # 100 year scope \n",
    "    year = np.arange(2016, 2051)\n",
    "    distance = 11810 #nautical miles #Notteboom (2006)  \n",
    "    port_time = 264 #hours ==> 11 days in a year  #Notteboom (2006)\n",
    "    demand_16_20 = np.array([1303780  for j in range(5)]) #in TEU #placehplder to be calibrated with the chosen route \n",
    "    annual_working_time = 6480 #hours per year, assumption   #hours per year, assumption \n",
    "    initial_freight_rate = 1800 ## in US$/TEU \n",
    "    SFOC_main = 206 #g/kWh, specific daily main engine fuel oil consumption rate\n",
    "    SFOC_aux = 221 # specific fuel oil consumption of the auxiliary engine [g/kW h], \n",
    "    eng_load_main = 0.8 # % \n",
    "    eng_load_aux = 0.5 # engine load of the auxiliary engine [\\%]\n",
    "\n",
    "\n",
    "    def __init__(self, number_of_firms, demand_income_elasticity, demand_price_elasticity, \n",
    "                 freight_rate, fuel_data, discount_rate ):\n",
    "        '''__init__ a method to describe the poperty that the shipping market and simulation game has'''\n",
    "        self.number_of_firms = number_of_firms\n",
    "        self.demand_income_elasticity = demand_income_elasticity #Constant income elasticity #IMF\n",
    "        self.demand_price_elasticity =  demand_price_elasticity #Constant own price elasticity#IMF\n",
    "        self.freight_rate = freight_rate ## in US$/TEU\n",
    "        self.fuel_data = fuel_data \n",
    "        self.discount_rate = discount_rate \n",
    "        #self.bau_industry_emission =  bau_industry_emission \n",
    "        #self.bau_pollution_stock = bau_pollution_stock\n",
    "        self.market_capacity = 0 \n",
    "        self.pollution_stock = 0\n",
    "        self.industry_damage = 0\n",
    "        self.global_abatement_benefits = 0\n",
    "        \n",
    "    \n",
    "    def get_market_capacity (self, firm_instance):\n",
    "        self.market_capacity += firm_instance.max_number_of_vessel * firm_instance.capacity\n",
    "        return self.market_capacity \n",
    "    \n",
    "    def get_freight_rate_ratio(self): \n",
    "        self.beta = np.divide(self.freight_rate, MarketConfig.initial_freight_rate) \n",
    "        return self.beta\n",
    "   \n",
    "    def get_market_demand(self):\n",
    "        '''compute market level demand'''\n",
    "        #---------> 1.Import real GDP growth data & compute GDP ratio : Source IMF@2020 #\n",
    "        G_df = pd.read_csv('./data/real_growth_rate.csv') #import IMF data\n",
    "        #-------> 2.Construct GDP projection path 2016-2050 based on projection growth data \n",
    "        gdp_growth= G_df.values[:,1:] \n",
    "        g =1 +(gdp_growth/100)  \n",
    "        self.gdp = np.array([100.00 for j in range(MarketConfig.T)])\n",
    "        for foo in range (1,MarketConfig.T):\n",
    "            self.gdp[foo] = g[:,foo]* self.gdp[foo-1]\n",
    "        #print(self.gdp)\n",
    "        #--------->  \"compute GDP ratio based on IMF@2020\"\n",
    "        gdp_ratio = np.array([1.00 for j in range(MarketConfig.T)])\n",
    "        for moo in range (1,MarketConfig.T):\n",
    "            sub_g = g[:,0:moo+1]\n",
    "            #print(sub_g)\n",
    "            gdp_ratio[moo] = np.prod(sub_g)\n",
    "        \n",
    "        #--------->  \"compute freight rate ratio\"\n",
    "        self.freight_rate_ratio_multiplied = np.power(self.beta, self.demand_price_elasticity)\n",
    "        #print(freight_rate_ratio_multiplied)\n",
    "        \n",
    "        #---------> \"Project Transport Demand (industry demand)\"\n",
    "        loo =np.multiply(np.power(gdp_ratio, self.demand_income_elasticity), self.freight_rate_ratio_multiplied ) #Will need to be updated in case fuel prices are varied over time  \n",
    "        self.market_demand = np.multiply(loo, MarketConfig.demand_16_20[0])\n",
    "        #print(Y) # size = 1 dimesion array with size T=35 years\n",
    "        self.market_psy = np.multiply(np.power(gdp_ratio, self.demand_income_elasticity), MarketConfig.demand_16_20[0] )\n",
    "        return self.market_demand, self.gdp, self.market_psy\n",
    "    \n",
    "    def set_period_index (self, period):\n",
    "        self.period_index = period\n",
    "        return self.period_index\n",
    "\n",
    "        \n",
    "    def get_industry_emission(self):\n",
    "        \n",
    "        pass\n",
    "    \n",
    "    def get_pollution_stock(self):\n",
    "        pass\n",
    "    \n",
    "    def get_damage(self):\n",
    "        pass\n",
    "    \n",
    "    def get_global_abatement_benefits(self):\n",
    "        pass \n",
    "    \n",
    "    def get_firm_abatement_benefits():\n",
    "        pass"
   ]
  },
  {
   "cell_type": "code",
   "execution_count": 27,
   "metadata": {},
   "outputs": [],
   "source": [
    "class GAOptimise:\n",
    "    def __init__():\n",
    "        pass\n",
    "    "
   ]
  },
  {
   "cell_type": "markdown",
   "metadata": {},
   "source": [
    "# 1. Set Up Simulation Parameters:"
   ]
  },
  {
   "cell_type": "markdown",
   "metadata": {},
   "source": [
    "## * Firm 1:"
   ]
  },
  {
   "cell_type": "code",
   "execution_count": 6,
   "metadata": {},
   "outputs": [],
   "source": [
    "####################################### 1. Firm & Market specific Parameters ###########################################\n",
    "                    #===========================>  Firm 1 Attributes <==========================#\n",
    "index_1 = 1\n",
    "capacity_1 = 5905\n",
    "max_number_of_vessel_1= 50\n",
    "design_speed_1 = 23.3 #design speed of the vessel in knots\n",
    "min_speed_1 = 8.5\n",
    "max_speed_1 = 30\n",
    "main_engine_power_1 = 41186 # main engine power in kW\n",
    "aux_engine_power_1 = 2433 # auxiliary engine power [kW] \n",
    "fix_cost_1 =  6750000  #Daily cost of vessel (USD/Day) $25,000\n",
    "fuel_type_1 = \"HFO\""
   ]
  },
  {
   "cell_type": "markdown",
   "metadata": {},
   "source": [
    "## * Firm 2:"
   ]
  },
  {
   "cell_type": "code",
   "execution_count": 7,
   "metadata": {},
   "outputs": [],
   "source": [
    "                    #===========================>  Firm 2 Attributes <==========================#\n",
    "index_2 = 2\n",
    "capacity_2 = 6470\n",
    "max_number_of_vessel_2 = 50\n",
    "design_speed_2 = 24.7 #design speed of the vessel in knots\n",
    "min_speed_2 = 8.5\n",
    "max_speed_2 = 30\n",
    "main_engine_power_2 = 56273 # main engine power in kW\n",
    "aux_engine_power_2 =  2433 # auxiliary engine power [kW] \n",
    "fix_cost_2 = 6750000 #Daily cost of vessel (USD/Day) $25,000\n",
    "fuel_type_2 = \"HFO\""
   ]
  },
  {
   "cell_type": "markdown",
   "metadata": {},
   "source": [
    "## * Market :"
   ]
  },
  {
   "cell_type": "code",
   "execution_count": 8,
   "metadata": {},
   "outputs": [],
   "source": [
    "                    #===========================> Market Attributes <==========================#\n",
    "firms = 2\n",
    "year = np.arange(2016, 2051)\n",
    "income_elasticity = 0.8 #Constant income elasticity #IMF\n",
    "price_elasticity = -0.7 #Constant own price elasticity#IMF\n",
    "freight_rate = 1800 ## in US$/TEU\n",
    "fuel_data = pd.DataFrame(np.array([[422.50, 525.50, 597.00], \n",
    "                                [3.114,3.206,3.206],\n",
    "                                [0.07,0.01,0.002]]),\n",
    "                         columns=['HFO', 'ULSFO', 'MGO'],\n",
    "                         index = ['price', 'carbon_factor', 'sulfur_factor'])\n",
    "discount = 0.02  ##3  to 5 % transport canada ,#to be updated using the Ramsey rule,#pure rate of time preference of 1.5% + growth rate of consumption g * rate of risk conversion , an elasticity value of 2"
   ]
  },
  {
   "cell_type": "markdown",
   "metadata": {},
   "source": [
    "# 2. Initialize Game and Set up firm and market objects "
   ]
  },
  {
   "cell_type": "code",
   "execution_count": 9,
   "metadata": {},
   "outputs": [],
   "source": [
    "\"\"\" This cell needs to run once throughout the kernel\"\"\"\n",
    "####################################### 2.Simulation Game Initialisation ###########################################\n",
    "firm_1 = Firm(index_1, capacity_1, max_number_of_vessel_1, design_speed_1, \n",
    "                 min_speed_1, max_speed_1, main_engine_power_1, aux_engine_power_1,\n",
    "                 fix_cost_1, fuel_type_1) \n",
    "\n",
    "firm_2 = Firm(index_2, capacity_2, max_number_of_vessel_2, design_speed_2, \n",
    "                 min_speed_2, max_speed_2, main_engine_power_2, aux_engine_power_2,\n",
    "                 fix_cost_2, fuel_type_2) \n",
    "\n",
    "game_config = MarketConfig(firms, income_elasticity, price_elasticity, freight_rate, \n",
    "                           fuel_data, discount)\n",
    "\n",
    "####################################### 3.Get market capacity #################################\n",
    "for  firm_object in Firm._registry:\n",
    "    market_capacity_sim = game_config.get_market_capacity(firm_object)"
   ]
  },
  {
   "cell_type": "markdown",
   "metadata": {},
   "source": [
    "# 3. Market Demand"
   ]
  },
  {
   "cell_type": "code",
   "execution_count": 10,
   "metadata": {},
   "outputs": [
    {
     "name": "stdout",
     "output_type": "stream",
     "text": [
      "market demand [1303780.         1378613.27053661 1417081.19385409 1448735.913652\n",
      " 1397511.98183639 1455352.28446974 1504050.11466377 1549602.07735933\n",
      " 1594072.22320876 1638552.17226732 1684273.26074193 1731270.12057536\n",
      " 1779578.35005746 1829234.54078948 1880276.30540081 1932742.30603904\n",
      " 1986672.28365504 2042107.08810522 2099088.70909364 2157660.30797763\n",
      " 2217866.2504608  2279752.14019835 2343364.85334008 2408752.57403719\n",
      " 2475964.83093995 2545052.53471369 2616068.01660168 2689065.06806397\n",
      " 2764098.98152235 2841226.59224218 2920506.32138292 3001998.22024985\n",
      " 3085764.01578064 3171867.15730103 3260372.86458528]\n",
      "firm 1 market share 0.4771717171717172\n",
      "firm 2 market share 0.5228282828282829\n"
     ]
    }
   ],
   "source": [
    "## Get freight ratio for passethrough\n",
    "beta_sim = game_config.get_freight_rate_ratio()\n",
    "\n",
    "# Get market demand  \n",
    "market_demand_sim, gdp_sim, market_psy_sim = game_config.get_market_demand()\n",
    "print(\"market demand\", market_demand_sim)\n",
    "\n",
    "# Get each firm's  market share  \n",
    "firm_1_market_share_sim = firm_1.get_market_share(game_config)\n",
    "print(\"firm 1 market share\", firm_1_market_share_sim)\n",
    "\n",
    "firm_2_market_share_sim = firm_2.get_market_share(game_config)\n",
    "print(\"firm 2 market share\", firm_2_market_share_sim)"
   ]
  },
  {
   "cell_type": "markdown",
   "metadata": {},
   "source": [
    "### Graphing Market Demand:"
   ]
  },
  {
   "cell_type": "code",
   "execution_count": 11,
   "metadata": {},
   "outputs": [
    {
     "data": {
      "image/png": "[encoded data removed]",
      "text/plain": [
       "<Figure size 432x288 with 1 Axes>"
      ]
     },
     "metadata": {},
     "output_type": "display_data"
    },
    {
     "data": {
      "image/png": "[encoded data removed]",
      "text/plain": [
       "<Figure size 432x288 with 1 Axes>"
      ]
     },
     "metadata": {},
     "output_type": "display_data"
    }
   ],
   "source": [
    "#======> Plotting BAU GDP,2016=100\n",
    "sns.set()\n",
    "ax=sns.lineplot(x=year ,y =gdp_sim, color = 'red')\n",
    "ax.set(xlabel='year', ylabel='GDP')\n",
    "plt.title(\"BAU GDP,2016=100\" )\n",
    "plt.show()\n",
    "\n",
    "#======> Plotting Market Demand Projections in BAU senario: Y\n",
    "ax=sns.lineplot(x=year ,y = market_demand_sim, color = 'green')\n",
    "ax.set(xlabel='year', ylabel='transport work in TEU')\n",
    "plt.title(\"market demand in TEU \" )\n",
    "plt.show()\n",
    "\n",
    "#======> Plotting Marketshare per firm\n",
    "\n"
   ]
  },
  {
   "cell_type": "markdown",
   "metadata": {},
   "source": [
    "# 4. Compute BAU emission path for Firm 1 :"
   ]
  },
  {
   "cell_type": "markdown",
   "metadata": {},
   "source": [
    "# Firm 1:"
   ]
  },
  {
   "cell_type": "code",
   "execution_count": 12,
   "metadata": {},
   "outputs": [
    {
     "name": "stdout",
     "output_type": "stream",
     "text": [
      "firm 1 demand [ 622126.94141414  657835.26161767  676191.06664311  691295.80364566\n",
      "  666853.19214092  694452.94867021  717690.17592643  739426.28418641\n",
      "  760646.18004426  781870.75371625  803687.56401464  826113.13632303\n",
      "  849164.45713853  872858.98693833  897214.6734054   922249.96502307\n",
      "  947983.82504913  974435.7458797  1001625.76381397 1029574.47423094\n",
      " 1058303.04718958 1087833.24346435 1118187.43102814 1149388.60199512\n",
      " 1181460.39003639 1214427.08828156 1248313.66771983 1283145.79611457\n",
      " 1318949.85744561 1355752.97189415 1393583.01638514 1432468.64570306\n",
      " 1472439.31419674 1513525.29808991 1555757.71841423]\n",
      "firm 1 ship energy 0.0005365856566237424\n"
     ]
    }
   ],
   "source": [
    " # 7.Get firm passthrough parameter\n",
    "firm_1_psy_sim = firm_1.get_firm_param(game_config)\n",
    "\n",
    "# 7.Get firm level demand  \n",
    "firm_1_demand_sim = firm_1.get_firm_demand(game_config)\n",
    "print(\"firm 1 demand\", firm_1_demand_sim)\n",
    "    \n",
    "# 9.Get ship energy efficiency  \n",
    "firm_1_ship_energy_sim = firm_1.get_ship_energy_efficiency(game_config)\n",
    "print(\"firm 1 ship energy\", firm_1_ship_energy_sim)"
   ]
  },
  {
   "cell_type": "code",
   "execution_count": 13,
   "metadata": {},
   "outputs": [
    {
     "data": {
      "image/png": "[encoded data removed]",
      "text/plain": [
       "<Figure size 432x288 with 1 Axes>"
      ]
     },
     "metadata": {},
     "output_type": "display_data"
    }
   ],
   "source": [
    "#======> Plotting The firm's \n",
    "ax=sns.lineplot(x=year ,y = firm_1_demand_sim , color = 'green')\n",
    "ax.set(xlabel='year', ylabel='transport work in TEU')\n",
    "plt.title(\"firm level demand in TEU \" )\n",
    "plt.show()"
   ]
  },
  {
   "cell_type": "markdown",
   "metadata": {},
   "source": [
    "# Set Period Index"
   ]
  },
  {
   "cell_type": "code",
   "execution_count": 14,
   "metadata": {},
   "outputs": [],
   "source": [
    "# 7.Set period index  \n",
    "period_index_sim = game_config.set_period_index(1)"
   ]
  },
  {
   "cell_type": "markdown",
   "metadata": {},
   "source": [
    "# Solve GA for period index"
   ]
  },
  {
   "cell_type": "markdown",
   "metadata": {},
   "source": [
    "# Genetic Algorithm :"
   ]
  },
  {
   "cell_type": "code",
   "execution_count": 15,
   "metadata": {},
   "outputs": [],
   "source": [
    "#====> Iinitialisation\n",
    "Chromo = List[float] \n",
    "Population = List[Chromo]  \n",
    "\n",
    "#====> Iinitialisation of function object\n",
    "PopulateFunc = Callable[[], Population]\n",
    "FitnessFunc = Callable[[Chromo], Tuple[float, int, float, float]] #int to refelct max # of vessel\n",
    "SelectionFunc = Callable[[Population, FitnessFunc], Tuple[Chromo, Chromo]]  #takes a population and a fitness fn to select 2 solutions to be the parents of our next generaation solution\n",
    "CrossoverFunc = Callable[[Chromo, Chromo], Tuple[Chromo, Chromo]] #takes 2 genomes and returns 2 new genomes \n",
    "MutationFunc = Callable[[Chromo], Chromo] #takes 1 genome and sometimes returns a modified one\n"
   ]
  },
  {
   "cell_type": "code",
   "execution_count": 16,
   "metadata": {},
   "outputs": [],
   "source": [
    "#Steps of the GA\n",
    "#========> Define chromosome as speed level\n",
    "#Using uniformly random elements is a good choice \n",
    "#becaise we can cover the entire solution space quite well.\n",
    "\n",
    "def generate_chromo(lower_bound:float, \n",
    "                    upper_bound:float) -> Chromo:\n",
    "    return np.random.uniform(lower_bound, upper_bound)\n",
    "\n",
    "#========> Generate population as a list of size =50 of random speed level\n",
    "def generate_population(size: int, \n",
    "                        chromo_lower_bound: float , \n",
    "                        chromo_upper_bound: float) -> Population: \n",
    "    return [generate_chromo(chromo_lower_bound, chromo_upper_bound) for _ in range(size)]\n"
   ]
  },
  {
   "cell_type": "code",
   "execution_count": 17,
   "metadata": {},
   "outputs": [],
   "source": [
    "#========> Define fitness function based on the simulation game\n",
    "def fitness (chromo: Chromo, \n",
    "             firm: Firm, \n",
    "             sim_game: MarketConfig, \n",
    "             max_number_of_vessel: int) -> Tuple[float, int, float, float]:\n",
    "    \n",
    "    min_number_vessels_sim , trips_to_meet_demand_sim, time_at_sea_sim  = firm.get_min_number_of_vessel(sim_game, chromo)\n",
    "    #print(\"min number of vessel is\", min_number_vessels_sim )\n",
    "    #print(\"number of trips to meet demand\", trips_to_meet_demand_sim )\n",
    "    #print(\"Time spent at sea\", time_at_sea_sim )\n",
    "\n",
    "    number_vessels_sim  = firm.get_number_of_vessel()\n",
    "    #print(\"number of vessel is\", number_vessels_sim)\n",
    "    \n",
    "    #Insert Model Constraints Here, Update Vessel speed constraint \n",
    "    if number_vessels_sim > max_number_of_vessel:\n",
    "        return 0\n",
    "    else:\n",
    "        main_fuel_con_sim = firm.get_main_fuel_cons(sim_game, chromo)\n",
    "        #print('main fuel consumption is ', main_fuel_con_sim)\n",
    "        \n",
    "        aux_fuel_con_sim = firm.get_aux_fuel_cons(sim_game)\n",
    "        #print('aux fuel consumption is ', aux_fuel_con_sim)\n",
    "\n",
    "        fuel_cost_sim = firm.get_fuel_cost(sim_game)\n",
    "        #print( \"fuel cost\",fuel_cost_sim)\n",
    "        \n",
    "        total_cost_sim = firm.get_total_cost()\n",
    "        #print(\"total cost\",total_cost_sim)\n",
    "        \n",
    "        revenues_sim = firm.get_revenue(sim_game)\n",
    "        #print(\"revenues\", revenues_sim)\n",
    "        \n",
    "        period_profits_sim = firm.get_period_profits()\n",
    "        #print (\"period profits \", period_profits_sim)\n",
    "        \n",
    "        discounted_period_profits_sim = firm.get_discounted_period_profit(sim_game)\n",
    "        #print(\"discounted period profits \", discounted_period_profits_sim)\n",
    "        \n",
    "        #We will see about the carbon and sulfir emississons \n",
    "        carbon_emissions_sim = firm.get_firm_carbon_emission(sim_game)\n",
    "        #print(\"carbon emissions\",carbon_emissions_sim)\n",
    "        \n",
    "        sulfur_emissions_sim = firm.get_firm_sulfur_emission(sim_game)\n",
    "        #print( \"sulfur emissions\", sulfur_emissions_sim)\n",
    "        \n",
    "        return  discounted_period_profits_sim, number_vessels_sim, carbon_emissions_sim, sulfur_emissions_sim"
   ]
  },
  {
   "cell_type": "code",
   "execution_count": 18,
   "metadata": {},
   "outputs": [],
   "source": [
    "#========> #Survival of the fittest  and parent selection \n",
    "def selection_pair(population: Population, fitness_func: FitnessFunc) -> Population:\n",
    "    '''select a pair of chromo which will be the parent of 2 new chromo for the next generation, Solution with higher fitness should be more likely to be chosen for reproduction'''\n",
    "    return choices(\n",
    "        population = population,\n",
    "        weights=[fitness_func(chromo)[0] for chromo in population],\n",
    "        k=2\n",
    "        ) \n",
    "\n",
    "####\n",
    "# def selection(generation, method='Fittest Half'):\n",
    "#     generation['Normalized Fitness'] = sorted([generation['Fitness'][x]/sum(generation['Fitness']) for x in range(len(generation['Fitness']))], reverse = True)\n",
    "#     generation['Cumulative Sum'] = np.array( generation['Normalized Fitness']).cumsum()\n",
    "    \n",
    "#     if method == 'Roulette Wheel':\n",
    "#         selected = []\n",
    "#         for x in range(len(generation['Individuals'])//2):\n",
    "#             selected.append(roulette(generation ['Cumulative Sum'], rnd()))\n",
    "#             while len(set(selected)) != len(selected):\n",
    "#                 selected[x] = (roulette(generation['Cumulative Sum'], rnd()))\n",
    "#         selected = {'Individuals': [generation['Individuals'][int(selected[x])] for x in range(len(generation['Individuals'])//2)],\n",
    "#                     'Fitness': [generation['Fitness'][int(selected[x])] for x in range(len(generation['Individuals'])//2)]}\n",
    "        \n",
    "#         elif method == 'Fittest Half':\n",
    "#         selected_individuals = [generation['Individuals'][-x-1] for x in range(int(len(generation['Individuals'])//2))]\n",
    "#         selected_fitnesses = [generation['Fitness'][-x-1] for x in range(int(len(generation['Individuals'])//2))]\n",
    "#         selected = {'Individuals': selected_individuals,\n",
    "#                     'Fitness': selected_fitnesses}\n",
    "#     elif method == 'Random':\n",
    "#         selected_individuals = [generation['Individuals'] [randint(1,len(generation['Fitness']))] for x in range(int(len(generation['Individuals'])//2))]\n",
    "#         selected_fitnesses = [generation['Fitness'][-x-1] for x in range(int(len(generation['Individuals'])//2))]\n",
    "#         selected = {'Individuals': selected_individuals,\n",
    "#                     'Fitness': selected_fitnesses}\n",
    "#     return selected\n",
    "\n",
    "\n",
    "#==> might update to tounment selection "
   ]
  },
  {
   "cell_type": "code",
   "execution_count": 19,
   "metadata": {},
   "outputs": [],
   "source": [
    "#========> #crossover function  \n",
    "def blend_crossover (a: Chromo, b: Chromo) -> Tuple[Chromo, Chromo]:\n",
    "    lower = min(a,b) -  0.5 * (max(a,b) - min (a,b))\n",
    "    upper = max(a,b) +  0.5 * (max(a,b) - min (a,b))                    \n",
    "    return np.random.uniform (lower, upper, 2) \n",
    "\n",
    "#==================================================================#\n",
    "#Given parents  a : chromo1 and b:chromo2 :\n",
    "#randomly select a child between\n",
    "# min(a,b) - alpha *[max(a,b) - min (a,b)] &  max(a,b) + alpha *[max(a,b) - min (a,b)]\n",
    "# best practice alpha = 0.5  \n",
    "# def linear_crossover (a: Chromo, b: Chromo) -> Tuple[Chromo, Chromo]:\n",
    "#     c =  0.5 * a + 0.5 * b\n",
    "#     d = 1.5 * a - 0.5 * b\n",
    "#     e = -0.5 * a - 1.5 * b\n",
    "#     children = [a,b,c,d,e]\n",
    "#     return  max(fitness_func(crossed) for crossed in children)\n",
    "\n",
    "# #Given parents  a : chromo1 and b:chromo2 :\n",
    "# #create 3 solutions: \n",
    "# # 0.5 a + 0.5 b\n",
    "# # 1.5 a - 0.5 b\n",
    "# #-0.5 a - 1.5 b\n",
    "# # ====> Children = the 2 best solutions among the 5 "
   ]
  },
  {
   "cell_type": "code",
   "execution_count": 20,
   "metadata": {},
   "outputs": [],
   "source": [
    "#========> #mutation function: randomly perturb the values\n",
    "def mutation(chromo: Chromo, mutate_params: tuple, num: int = 1, probability: float = 0.5) -> Chromo: \n",
    "    for _ in range(num):\n",
    "        # if random retuns a value lower or equal to probablity, the chromo falls whitihinn the mutation probabality \n",
    "        if random() <= probability:\n",
    "            chromo += np.random.normal(0, mutate_params['rate'], mutate_params['dim'])\n",
    "    \n",
    "        if chromo < mutate_params['lower_bound']:\n",
    "            chromo = mutate_params['lower_bound']\n",
    "            \n",
    "        elif chromo > mutate_params['upper_bound']:\n",
    "            chromo = mutate_params['upper_bound']\n",
    "        return chromo\n",
    "#Example: add Gaussian noise to each offspring. Maybe a mean of zero and a standard deviation of 0.25 is fine. \n",
    "   \n",
    " #Normal distribution : A gaussian with mean 0 and and a chosen standard deviation   x_new = xi +N(0, sigma) \n",
    "#1. Random mutation \n",
    "#2. Non-Uniform Mutation\n",
    "#3.Normally distributed mutation \n",
    "# loc= 0.0\n",
    "# scale= rate = 0.25  (standard deviation)\n",
    "# size= dim =1 #output shape\n",
    " \n",
    "     \n",
    "# Uniform variation: x_new = xi + (ri - 0.5) delta_i\n",
    "             \n",
    "#     def mutate(self, mutate_params):\n",
    "#         self.value += np.random.normal(0, mutate_params['rate'], mutate_params['dim'])\n",
    "#         for i in range(len(self.value)):\n",
    "#             if self.value[i] < mutate_params['lower_bound']:\n",
    "#                 self.value[i] = mutate_params['lower_bound']\n",
    "#             elif self.value[i] > mutate_params['upper_bound']:\n",
    "#                 self.value[i] = mutate_params['upper_bound']\n",
    "            \n",
    "\n",
    "    \n",
    "\n"
   ]
  },
  {
   "cell_type": "markdown",
   "metadata": {},
   "source": [
    "# Main GA call function \n",
    "generations = 100 populations = 100 (50 * solution)\n",
    "The algorithm we will follow is simple. \n",
    "Given a `fitness function`, $f(\\cdot)$ we are trying to maximize, and for a certain number of generations limit, do the following:\n",
    "1. Initialize the population with random vessel speed in $V_{min}, V_{max}$; `parents`\n",
    "\n",
    "2. Compute the discounted profits in the selected period for each chromosome in the population, then use this as the fitness function we are trying to minimize\n",
    "\n",
    "3. Sample the `parents` with sampling weights based on fitness (i.e. those with greater fitness have greater likelihood of being resampled); these will be used to create `children` for the next generation\n",
    "\n",
    "4. With some `crossover rate` select pairs of `parents` and randomly combine characteristics\n",
    "\n",
    "5. With some `mutation rate` mutate the `parents`\n",
    "\n",
    "6. The population from steps 4-5 become the `children` from the previous generation. Repeate steps 1-7.\n",
    "\n",
    "\n",
    "\n",
    "\n",
    "1. Create the population of individuals \n",
    "Generate an initial population of individuals randomly.\n",
    "\n",
    "2. Evaluate the fitness of each individual in the population.\n",
    "The higher the fitness, the longer the individual's properties (DNA) stay  in the population, either by the individual itself or its offspring\n",
    "\n",
    "3. Repeat as often :\n",
    "a) Select individuals with a good fitness score for reproduction.\n",
    "b) Let them produce offsprings.\n",
    "c) Mutate these offsprings.\n",
    "d) Evaluate the fitness of each individual in the population.\n",
    "f) Let the individuals with a bad fitness score die.\n",
    "\n",
    "\n",
    "4. Pick the individual with the highest fitness as the solution\n",
    "\n",
    "we maintain a constant population size of 50\n",
    "\n",
    "## Termination Criteria \n",
    "until the solutions don’t get better anymore.\n",
    "\n",
    "Maximum similar fitness number: Due to elitism best individual in a generation moves on to the next generation without mutating. This individual can be the best individual in the next generation as well. We can limit the number for the same individual to be the best individual as this can be sing that the genetic algorithm got stuck in a local minima. The function for checking if the maximum fitness value have changed can be written as;\n",
    "\n"
   ]
  },
  {
   "cell_type": "code",
   "execution_count": 21,
   "metadata": {},
   "outputs": [],
   "source": [
    "def fitness_similarity_chech(max_fitness, number_of_similarity):\n",
    "    result = False\n",
    "    similarity = 0\n",
    "    for n in range(len(max_fitness)-1):\n",
    "        if np.round(max_fitness[n], 3 ) == np.round(max_fitness[n+1],3):\n",
    "            similarity += 1\n",
    "        else:\n",
    "            similarity = 0\n",
    "    if similarity == number_of_similarity-1:\n",
    "        result = True\n",
    "    return result"
   ]
  },
  {
   "cell_type": "code",
   "execution_count": 22,
   "metadata": {},
   "outputs": [],
   "source": [
    "#-------------------------------- MAIN GA Function ----------------------------------------- #\n",
    "def run_evolution(populate_func: PopulateFunc,\n",
    "                  fitness_func: FitnessFunc,\n",
    "                  mutation_func: MutationFunc, \n",
    "                  generation_limit: int = 100,\n",
    "                  number_of_similarity: int = 3,\n",
    "                  selection_func: SelectionFunc = selection_pair,\n",
    "                  crossover_func: CrossoverFunc = blend_crossover \n",
    "                 ) -> Tuple[Population, pd.DataFrame ]:\n",
    "    \"\"\"The evolutionnary main loop\"\"\" \n",
    "\n",
    "    #1. Genrate the 1st generation: Initial generation/population\n",
    "    population = populate_func()\n",
    "    \n",
    "    \n",
    "    #2. Implement a termination criteria \n",
    "\n",
    "    \n",
    "    \n",
    "    #2 Simulate until you reach generation limit,\n",
    "    i = 0\n",
    "    results = pd.DataFrame(columns=['Generation', 'Vessel Speed', 'Firm Discounted profit', \n",
    "                                'Number of vessels', 'Carbon Emissions', 'Sulfur Emissions'])\n",
    "    similarity = 0   \n",
    "    \n",
    "    for i in range(generation_limit):\n",
    "        #Step 1 : Sort solutions in the population of generation i based on fitness to select the best 2 solutions \n",
    "        population = sorted(population, key=lambda chromo: fitness_func(chromo)[0], reverse=True) \n",
    "        \n",
    "        #Step 2 \n",
    "        results = results.append({'Generation': i,\n",
    "                          'Vessel Speed': population[0],\n",
    "                          'Firm Discounted profit': fitness_func(population[0])[0],\n",
    "                          'Number of vessels': fitness_func(population[0])[1] , \n",
    "                          'Carbon Emissions': fitness_func(population[0])[2] , \n",
    "                          'Sulfur Emissions': fitness_func(population[0])[3] }, ignore_index=True) \n",
    "        \n",
    "        \n",
    "        if fitness_similarity_chech(results['Firm Discounted profit'], number_of_similarity) == True:\n",
    "            break\n",
    "\n",
    "                   \n",
    "    \n",
    "#         print(results)\n",
    "#         print (i)\n",
    "#         print(\"Best vessel speed in the\", i, \"th generation is\" ,population[0] ) \n",
    "#         print(\"Best fitness in the\", i, \"th generation is\", fitness_func(population[0]))\n",
    "         \n",
    "                    \n",
    "        #Step 2: Implement elitism and pick the top 2 chromo(speed) in the population based on fitness for the next gernation \n",
    "        next_generation = population[0:2]  \n",
    "        #print(\"next generation\", next_generation)\n",
    "        \n",
    "        \n",
    "        \n",
    "        #Step 3: j in range 24 \n",
    "        for j in range(int(len(population) / 2) - 1):\n",
    "            #Step 1: Selection \n",
    "            parents = selection_func(population, fitness_func)\n",
    "            #print(\"parent are\", parents) \n",
    "            \n",
    "            #Step 2: Crossover\n",
    "            offspring_a, offspring_b = crossover_func(parents[0], parents[1])\n",
    "\n",
    "            #Step 3: mutation \n",
    "            offspring_a = mutation_func(offspring_a)\n",
    "            offspring_b = mutation_func(offspring_b)\n",
    "            #print(\"offspring a \", offspring_a) \n",
    "            #print(\"offspring b\", offspring_b) \n",
    "            \n",
    "            #Step 4: Next generation \n",
    "            next_generation += [offspring_a, offspring_b]\n",
    "            \n",
    "        #print(\"next generation\",i, \"is\", next_generation)       \n",
    "        population = next_generation #update current population with our next generation and start into the next round of the algo by sorting the population and checking if we reached our fitness limit \n",
    "    \n",
    "    #Sort the population one last time in case we run out of generation  \n",
    "    population = sorted(\n",
    "            population, \n",
    "            key=lambda chromo: fitness_func(chromo)[0], reverse=True)\n",
    "    \n",
    "    \n",
    "\n",
    "    results = results.append({'Generation': i+1,\n",
    "                          'Vessel Speed': population[0],\n",
    "                          'Firm Discounted profit': fitness_func(population[0])[0],\n",
    "                          'Number of vessels': fitness_func(population[0])[1] , \n",
    "                          'Carbon Emissions': fitness_func(population[0])[2] , \n",
    "                          'Sulfur Emissions': fitness_func(population[0])[3] }, ignore_index=True) \n",
    "    print(results)\n",
    "\n",
    "    return population, results"
   ]
  },
  {
   "cell_type": "markdown",
   "metadata": {},
   "source": [
    "# Runing the GA "
   ]
  },
  {
   "cell_type": "code",
   "execution_count": 23,
   "metadata": {},
   "outputs": [
    {
     "name": "stdout",
     "output_type": "stream",
     "text": [
      "    Generation          Vessel Speed Firm Discounted profit Number of vessels  \\\n",
      "0          0.0               12.3934             9.7685e+08                21   \n",
      "1          1.0               12.3934             9.7685e+08                21   \n",
      "2          2.0  [13.241599765146312]    [977118890.3937405]            [20.0]   \n",
      "3          3.0  [13.241599765146312]    [977118890.3937405]            [20.0]   \n",
      "4          4.0               13.2249            9.77248e+08                20   \n",
      "..         ...                   ...                    ...               ...   \n",
      "75        75.0  [13.134631859664445]    [977942795.0160569]            [20.0]   \n",
      "76        76.0  [13.134631859664445]    [977942795.0160569]            [20.0]   \n",
      "77        77.0  [13.134631859664445]    [977942795.0160569]            [20.0]   \n",
      "78        78.0  [13.134631859664445]    [977942795.0160569]            [20.0]   \n",
      "79        79.0  [13.134631859664445]    [977942795.0160569]            [20.0]   \n",
      "\n",
      "        Carbon Emissions     Sulfur Emissions  \n",
      "0                 338485               7590.9  \n",
      "1                 338485               7590.9  \n",
      "2    [386234.4247852533]  [8665.411545340323]  \n",
      "3    [386234.4247852533]  [8665.411545340323]  \n",
      "4                 385262              8643.54  \n",
      "..                   ...                  ...  \n",
      "75  [380038.12422350375]  [8525.987294708826]  \n",
      "76  [380038.12422350375]  [8525.987294708826]  \n",
      "77  [380038.12422350375]  [8525.987294708826]  \n",
      "78  [380038.12422350375]  [8525.987294708826]  \n",
      "79  [380038.12422350375]  [8525.987294708826]  \n",
      "\n",
      "[80 rows x 6 columns]\n"
     ]
    }
   ],
   "source": [
    "#-------------------------------- MAIN  ----------------------------------------- #\n",
    "#Update size population to 50 solutions,ie chromo per population\n",
    "population, results = run_evolution( populate_func = partial(generate_population,\n",
    "                                                    size=50,                                                    \n",
    "                                                    chromo_lower_bound = min_speed_1 ,\n",
    "                                                    chromo_upper_bound = max_speed_1),\n",
    "                                        fitness_func = partial(fitness,\n",
    "                                                               firm = firm_1,\n",
    "                                                               sim_game = game_config, \n",
    "                                                               max_number_of_vessel = max_number_of_vessel_1),\n",
    "                                        generation_limit = 100,\n",
    "                                        number_of_similarity = 40,\n",
    "                                        mutation_func = partial (mutation,\n",
    "                                                                 mutate_params = {'lower_bound': min_speed_1, 'upper_bound': max_speed_1, 'rate': 0.25, 'dim': 1}\n",
    "                                                                ) \n",
    "    \n",
    "                                       )"
   ]
  },
  {
   "cell_type": "markdown",
   "metadata": {},
   "source": [
    "# Evaluating The GA performance"
   ]
  },
  {
   "cell_type": "code",
   "execution_count": 24,
   "metadata": {},
   "outputs": [
    {
     "data": {
      "image/png": "[encoded data removed]",
      "text/plain": [
       "<Figure size 432x288 with 1 Axes>"
      ]
     },
     "metadata": {},
     "output_type": "display_data"
    }
   ],
   "source": [
    "plt.plot(results['Generation'].values, results['Firm Discounted profit'].values)\n",
    "plt.title(\"Convergence \" )\n",
    "plt.ylabel('Firm discounted profits')\n",
    "plt.xlabel('Generation')\n",
    "plt.show()"
   ]
  },
  {
   "cell_type": "code",
   "execution_count": 25,
   "metadata": {},
   "outputs": [
    {
     "data": {
      "image/png": "[encoded data removed]",
      "text/plain": [
       "<Figure size 432x288 with 1 Axes>"
      ]
     },
     "metadata": {},
     "output_type": "display_data"
    }
   ],
   "source": [
    "plt.plot(results['Vessel Speed'].values, results['Firm Discounted profit'].values)\n",
    "plt.title(\"Profits \" )\n",
    "plt.ylabel('Firm discounted profits')\n",
    "plt.xlabel('Vessel Speed')\n",
    "plt.show()"
   ]
  },
  {
   "cell_type": "markdown",
   "metadata": {},
   "source": [
    "# Optimum Solution: "
   ]
  },
  {
   "cell_type": "code",
   "execution_count": 26,
   "metadata": {},
   "outputs": [
    {
     "ename": "SyntaxError",
     "evalue": "invalid syntax (<ipython-input-26-9b4dab12350f>, line 1)",
     "output_type": "error",
     "traceback": [
      "\u001b[1;36m  File \u001b[1;32m\"<ipython-input-26-9b4dab12350f>\"\u001b[1;36m, line \u001b[1;32m1\u001b[0m\n\u001b[1;33m    solution_period =\u001b[0m\n\u001b[1;37m                       ^\u001b[0m\n\u001b[1;31mSyntaxError\u001b[0m\u001b[1;31m:\u001b[0m invalid syntax\n"
     ]
    }
   ],
   "source": [
    "solution_period =  "
   ]
  },
  {
   "cell_type": "markdown",
   "metadata": {},
   "source": [
    "# Run the GA for all periods for each firm"
   ]
  },
  {
   "cell_type": "markdown",
   "metadata": {},
   "source": [
    "# Compute BAU emission path for Firm 2 :"
   ]
  },
  {
   "cell_type": "markdown",
   "metadata": {},
   "source": [
    "# Firm 2"
   ]
  },
  {
   "cell_type": "code",
   "execution_count": null,
   "metadata": {},
   "outputs": [],
   "source": [
    "# 7.Get firm passthrough parameter\n",
    "firm_2_psy_sim = firm_2.get_firm_param(game_config)\n",
    "\n",
    "# 7.Get firm level demand  \n",
    "firm_2_demand_sim = firm_2.get_firm_demand(game_config)\n",
    "print(\"firm 2 demand\", firm_2_demand_sim)\n",
    "\n",
    "\n",
    "# 9.Get ship energy efficiency  \n",
    "firm_2_ship_energy_sim = firm_2.get_ship_energy_efficiency(game_config)\n",
    "print(\"firm 2 ship energy\", firm_2_ship_energy_sim)"
   ]
  }
 ],
 "metadata": {
  "kernelspec": {
   "display_name": "Python 3",
   "language": "python",
   "name": "python3"
  },
  "language_info": {
   "codemirror_mode": {
    "name": "ipython",
    "version": 3
   },
   "file_extension": ".py",
   "mimetype": "text/x-python",
   "name": "python",
   "nbconvert_exporter": "python",
   "pygments_lexer": "ipython3",
   "version": "3.7.7"
  }
 },
 "nbformat": 4,
 "nbformat_minor": 4
}
