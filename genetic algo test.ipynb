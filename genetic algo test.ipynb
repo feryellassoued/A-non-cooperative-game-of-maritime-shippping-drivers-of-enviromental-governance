{
 "cells": [
  {
   "cell_type": "code",
   "execution_count": 1,
   "metadata": {},
   "outputs": [],
   "source": [
    "from random import choices, randint, randrange, random, sample \n",
    "from collections import namedtuple\n",
    "from typing import List, Optional, Callable, Tuple\n",
    "#Choices(, , # of draws from the population (2 , a pair)) is a function from the random module of python"
   ]
  },
  {
   "cell_type": "code",
   "execution_count": 2,
   "metadata": {},
   "outputs": [],
   "source": [
    "###########################################################################\n",
    "#========================> 0.Chromosome intialisation #==============================>\n",
    "##########################################################################\n",
    "#1. Initilize Chromosome, ie, candidate solutions placeholder list and specify type\n",
    "ChromoSpeed = List[int] #list of 1 and 0 ?? ; need to update !!\n",
    "ChromoVessel = List[int]\n",
    "\n",
    "#2.Initiliase Population, ie multiple candidate solution placeholder list with Chromosome type   \n",
    "PopulationSpeed = List[ChromoSpeed] # list of candidate solutions generation=pop={solu1, ..., soln}={Chromosome1, ..., Chromosome} \n",
    "PopulationVessel = List[ChromoVessel]\n"
   ]
  },
  {
   "cell_type": "code",
   "execution_count": 3,
   "metadata": {},
   "outputs": [],
   "source": [
    "###########################################################################\n",
    "#========================> 1.Callable functions #==============================>\n",
    "###########################################################################\n",
    "#callable fn Use functions as parameters for abstracting the problem from the algo\n",
    "#===============================================================================#\n",
    "#===============================================================================#\n",
    "PopulateFunc = Callable[[], Tuple[PopulationSpeed, PopulationVessel]] # a population fn that takes nothing and returns new solutiobns #=Callable[[Input], Output]\n",
    "#===============================================================================#\n",
    "#===============================================================================#\n",
    "FitnessFunc = Callable[[ChromoSpeed, ChromoVessel], int] # a fitness function that takes a Chromosome and returns a fitness value to make the correct choice\n",
    "#===============================================================================#\n",
    "SelectionFunc = Callable[[PopulationSpeed, PopulationVessel, FitnessFunc], Tuple[ChromoSpeed, ChromoSpeed, ChromoVessel,ChromoVessel]]  #takes a population and a fitness fn to select 2 solutions to be the parents of our next generaation solution\n",
    "#===============================================================================#\n",
    "CrossoverFunc = Callable[[ChromoSpeed, ChromoSpeed, ChromoVessel, ChromoVessel], Tuple[ChromoSpeed, ChromoSpeed, ChromoVessel, ChromoVessel]] #takes 2 Chromosome and returns 2 new Chromosome \n",
    "#===============================================================================#\n",
    "MutationFunc = Callable[[ChromoSpeed, ChromoVessel], Tuple[ChromoSpeed, ChromoVessel]] #takes 1 Chromosome and sometimes returns a modified one\n",
    "#===============================================================================#\n",
    "PrinterFunc = Callable[[PopulationSpeed, PopulationVessel, int, FitnessFunc], None]\n"
   ]
  },
  {
   "cell_type": "code",
   "execution_count": 5,
   "metadata": {},
   "outputs": [],
   "source": [
    "###########################################################################\n",
    "#========================> 1.Encoding and Generating Chromosome #==============================>\n",
    "###########################################################################\n",
    "#######How to encode vessel speed and number of vessels #############\n",
    "#Implement value encoding for vessel speed \n",
    "#Implement binary encoding for number of vessels \n",
    "\n",
    "def generate_chromo_speed(length: int) -> ChromoSpeed:\n",
    "    '''A function to encode and generate chromosomes for one solution of vessel speed k is length of the chromosome'''\n",
    "    \n",
    "    return choices([0,1], k=length)\n",
    "\n",
    "def generate_chromo_vessel(length: int) -> ChromoVessel:\n",
    "    '''A function to encode and generate chromosome for one solution of number of vessels\n",
    "        k is length of the chromosome'''\n",
    "    \n",
    "    return choices([0,1], k=length)"
   ]
  },
  {
   "cell_type": "code",
   "execution_count": null,
   "metadata": {},
   "outputs": [],
   "source": []
  }
 ],
 "metadata": {
  "kernelspec": {
   "display_name": "Python 3",
   "language": "python",
   "name": "python3"
  },
  "language_info": {
   "codemirror_mode": {
    "name": "ipython",
    "version": 3
   },
   "file_extension": ".py",
   "mimetype": "text/x-python",
   "name": "python",
   "nbconvert_exporter": "python",
   "pygments_lexer": "ipython3",
   "version": "3.7.7"
  }
 },
 "nbformat": 4,
 "nbformat_minor": 4
}
