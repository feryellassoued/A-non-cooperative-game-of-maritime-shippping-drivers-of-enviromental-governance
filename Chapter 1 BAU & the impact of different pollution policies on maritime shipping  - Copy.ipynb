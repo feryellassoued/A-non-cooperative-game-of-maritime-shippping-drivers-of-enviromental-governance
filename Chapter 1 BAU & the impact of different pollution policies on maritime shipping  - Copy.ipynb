{
 "cells": [
  {
   "cell_type": "code",
   "execution_count": 1,
   "metadata": {},
   "outputs": [],
   "source": [
    "import numpy as np # importing numpy for matrix operations \n",
    "from scipy import *\n",
    "from scipy.optimize import minimize\n",
    "import pandas as pd\n",
    "import matplotlib.pyplot as plt\n",
    "import seaborn as sns\n",
    "sns.set()\n",
    "from IPython import display \n",
    "import itertools\n",
    "from IPython.display import display\n",
    "import random, operator\n",
    "from random import choices, randint, randrange, random, sample, seed \n",
    "from collections import namedtuple\n",
    "from typing import List, Optional, Callable, Tuple\n",
    "from functools import partial"
   ]
  },
  {
   "cell_type": "code",
   "execution_count": 2,
   "metadata": {},
   "outputs": [],
   "source": [
    "#np.random.seed(2021)"
   ]
  },
  {
   "cell_type": "code",
   "execution_count": 3,
   "metadata": {},
   "outputs": [],
   "source": [
    "class IterRegistry(type):\n",
    "    def __iter__(cls):\n",
    "        return iter(cls._registry)"
   ]
  },
  {
   "cell_type": "code",
   "execution_count": 4,
   "metadata": {},
   "outputs": [],
   "source": [
    "class MarketConfig: \n",
    "    #class attributes\n",
    "    t0 = 2016 #The starting year for evaluation of the pay-offs\n",
    "    T = 35  # Planning Horizon t = 2016,...,2040 # 100 year scope \n",
    "    year = np.arange(2016, 2051)\n",
    "    distance = np.array([11810]) #nautical miles #Notteboom (2006)  \n",
    "    port_time =  np.array([264])  #hours ==> 11 days in a year  #Notteboom (2006)\n",
    "    demand_16_20 = np.array([1303780  for j in range(5)]) #in TEU #placehplder to be calibrated with the chosen route \n",
    "    annual_working_time = np.array([6480])  #hours per year, assumption   #hours per year, assumption \n",
    "    initial_freight_rate = np.array([1800])  ## in US$/TEU \n",
    "    SFOC_main = np.array([206])  #g/kWh, specific daily main engine fuel oil consumption rate\n",
    "    SFOC_aux = np.array([221]) # specific fuel oil consumption of the auxiliary engine [g/kW h], \n",
    "    eng_load_main = np.array([0.8]) # % \n",
    "    eng_load_aux = np.array([0.5])  # engine load of the auxiliary engine [\\%]\n",
    "\n",
    "\n",
    "    def __init__(self, number_of_firms, pollution_decay_parameter, pollution_damage_parameter, demand_income_elasticity, demand_price_elasticity, \n",
    "                 freight_rate, fuel_data, discount_rate ):\n",
    "        '''__init__ a method to describe the poperty that the shipping market and simulation game has'''\n",
    "        self.number_of_firms = number_of_firms\n",
    "        self.pollution_decay_parameter = pollution_decay_parameter\n",
    "        self.pollution_damage_parameter = pollution_damage_parameter\n",
    "        self.demand_income_elasticity = demand_income_elasticity #Constant income elasticity #IMF\n",
    "        self.demand_price_elasticity =  demand_price_elasticity #Constant own price elasticity#IMF\n",
    "        self.freight_rate = freight_rate ## in US$/TEU\n",
    "        self.fuel_data = fuel_data \n",
    "        self.discount_rate = discount_rate \n",
    "        #self.bau_industry_emission =  bau_industry_emission \n",
    "        #self.bau_pollution_stock = bau_pollution_stock\n",
    "        self.market_capacity = 0 \n",
    "         \n",
    "    \n",
    "    def get_market_capacity (self, firm_instance):\n",
    "        self.market_capacity += np.multiply(firm_instance.max_number_of_vessel, firm_instance.capacity) \n",
    "        return self.market_capacity \n",
    "    \n",
    "    def get_freight_rate_ratio(self):\n",
    "        self.beta = np.true_divide(self.freight_rate, MarketConfig.initial_freight_rate) \n",
    "        return self.beta\n",
    "   \n",
    "    def get_market_demand(self):\n",
    "        '''compute market level demand'''\n",
    "        #---------> 1.Import real GDP growth data & compute GDP ratio : Source IMF@2020 #\n",
    "        G_df = pd.read_csv('./data/real_growth_rate.csv') #import IMF data\n",
    "        #-------> 2.Construct GDP projection path 2016-2050 based on projection growth data \n",
    "        gdp_growth= G_df.values[:,1:] \n",
    "        g =1 +(gdp_growth/100)  \n",
    "        self.gdp = np.array([100.00 for j in range(MarketConfig.T)])\n",
    "        for foo in range (1,MarketConfig.T):\n",
    "            self.gdp[foo] = g[:,foo]* self.gdp[foo-1]\n",
    "        #print(self.gdp)\n",
    "        #--------->  \"compute GDP ratio based on IMF@2020\"\n",
    "        gdp_ratio = np.array([1.00 for j in range(MarketConfig.T)])\n",
    "        for moo in range (1,MarketConfig.T):\n",
    "            sub_g = g[:,0:moo+1]\n",
    "            #print(sub_g)\n",
    "            gdp_ratio[moo] = np.prod(sub_g)\n",
    "        \n",
    "        #--------->  \"compute freight rate ratio\"\n",
    "        self.freight_rate_ratio_multiplied = np.power(self.beta, self.demand_price_elasticity)\n",
    "        #print(freight_rate_ratio_multiplied)\n",
    "        \n",
    "        #---------> \"Project Transport Demand (industry demand)\"\n",
    "        loo =np.multiply(np.power(gdp_ratio, self.demand_income_elasticity), self.freight_rate_ratio_multiplied ) #Will need to be updated in case fuel prices are varied over time  \n",
    "        self.market_demand = np.multiply(loo, MarketConfig.demand_16_20[0])\n",
    "        #print(Y) # size = 1 dimesion array with size T=35 years\n",
    "        self.market_psy = np.multiply(np.power(gdp_ratio, self.demand_income_elasticity), MarketConfig.demand_16_20[0] )\n",
    "        return self.market_demand, self.gdp, self.market_psy\n",
    "    \n",
    "    \n",
    "    def get_damage(self):\n",
    "        pass\n",
    "    \n",
    "    def get_global_abatement_benefits(self):\n",
    "        pass \n",
    "    \n",
    "    def get_firm_abatement_benefits():\n",
    "        pass"
   ]
  },
  {
   "cell_type": "code",
   "execution_count": 5,
   "metadata": {},
   "outputs": [],
   "source": [
    "class Firm:\n",
    "    #class attributes intialisation, to be updated with the addition of each instance\n",
    "    _registry = []\n",
    "    \n",
    "    def __init__(self, index, capacity, max_number_of_vessel, design_speed, \n",
    "                 min_speed, max_speed, main_engine_power, aux_engine_power,\n",
    "                 fix_cost, fuel_type):\n",
    "        '''__init__ a method to describe the poperty that all shipping firm have'''\n",
    "        self._registry.append(self)\n",
    "        self.index = index\n",
    "        self.capacity = capacity # Vessel capacity in TEU per firm, \n",
    "        self.max_number_of_vessel = max_number_of_vessel # # of vessels per firms\n",
    "        self.design_speed = design_speed  #design speed of the vessel in knots\n",
    "        self.min_speed = min_speed #min vessel speed\n",
    "        self.max_speed = max_speed #max vessel speed         \n",
    "        self.main_engine_power =  main_engine_power  # PS_m : main engine power in kW\n",
    "        self.aux_engine_power =  aux_engine_power  # auxiliary engine power [kW] \n",
    "        self.fix_cost = fix_cost #Daily cost of vessel (USD/Day) $25,000\n",
    "        self.fuel_type = fuel_type\n",
    "        #self.bau_emission = bau_emission\n",
    "         \n",
    "   \n",
    "    # Firm methods \n",
    "    def get_market_share(self , market_instance):\n",
    "        '''return market share of the firm accoding to it s capacity'''\n",
    "        self.transport_capacity = np.multiply(self.max_number_of_vessel , self.capacity)\n",
    "        self.market_share= np.true_divide(self.transport_capacity, market_instance.market_capacity)\n",
    "        return self.market_share\n",
    "        \n",
    "    def get_firm_param(self, market_instance):\n",
    "        self.psy = np.multiply (self.market_share , market_instance.market_psy)\n",
    "        return self.psy\n",
    "    \n",
    "    def get_firm_demand(self, market_instance):\n",
    "        self.firm_demand = np.multiply (self.market_share , market_instance.market_demand)\n",
    "        return self.firm_demand \n",
    "    \n",
    "    def update_vessel_speed(self, operational_speed):\n",
    "        self.operational_speed = operational_speed\n",
    "        return self.operational_speed \n",
    "    \n",
    "    def get_min_number_of_vessel(self, market_instance, period_index):\n",
    "        self.time_at_sea = np.true_divide(market_instance.distance,  self.operational_speed)\n",
    "        self.voyage_time = self.time_at_sea + market_instance.port_time   \n",
    "        self.number_of_trips_to_meet_demand = np.true_divide(self.firm_demand[period_index -1 ], self.capacity)\n",
    "        self.max_trips_per_vessel = np.true_divide(market_instance.annual_working_time, self.voyage_time)\n",
    "        self.min_number_of_vessel_to_meet_demand = np.true_divide(self.number_of_trips_to_meet_demand, self.max_trips_per_vessel)\n",
    "        return self.min_number_of_vessel_to_meet_demand, self.number_of_trips_to_meet_demand, self.time_at_sea \n",
    "    \n",
    "    def get_number_of_vessel(self):\n",
    "        self.number_of_vessel = np.ceil(self.min_number_of_vessel_to_meet_demand)\n",
    "        return self.number_of_vessel\n",
    "            \n",
    "    def get_ship_energy_efficiency(self, market_instance):\n",
    "        self.main_fuel_parameter =np.multiply(np.multiply(np.multiply(market_instance.SFOC_main,market_instance.eng_load_main),self.main_engine_power), 10**(-6))\n",
    "        #self.main_fuel_parameter = market_instance.SFOC_main * market_instance.eng_load_main * self.main_engine_power * 10**(-6)\n",
    "        self.ship_energy = np.multiply(self.main_fuel_parameter, np.power(self.design_speed, -3) )      \n",
    "        return self.ship_energy\n",
    "        \n",
    "    def get_main_fuel_cons(self, market_instance):\n",
    "        self.main_fuel_con= np.multiply(np.multiply(np.multiply(market_instance.distance, self.ship_energy), np.power(self.operational_speed, 2)) , self.number_of_trips_to_meet_demand)\n",
    "        self.main_fuel_cons = market_instance.distance * self.ship_energy * (self.operational_speed**2) *self.number_of_trips_to_meet_demand\n",
    "        return self.main_fuel_cons\n",
    "        \n",
    "    def get_aux_fuel_cons(self, market_instance): \n",
    "        self.aux_fuel_parameter = np.multiply(np.multiply(np.multiply( market_instance.SFOC_aux, market_instance.eng_load_aux), self.aux_engine_power),  10**(-6))\n",
    "        #self.aux_fuel_parameter = market_instance.SFOC_aux * market_instance.eng_load_aux * self.aux_engine_power * 10**(-6)\n",
    "        self.aux_fuel_cons =  np.true_divide((self.aux_fuel_parameter * self.number_of_trips_to_meet_demand * market_instance.distance), self.operational_speed)        \n",
    "        return self.aux_fuel_cons \n",
    "        \n",
    "    def get_fuel_cost(self, market_instance):\n",
    "        self.aux_fuel_cost =np.multiply(self.aux_fuel_cons, market_instance.fuel_data['MGO']['price'])  \n",
    "        self.main_fuel_cost = np.multiply(self.main_fuel_cons, market_instance.fuel_data[self.fuel_type]['price'])   \n",
    "        self.fuel_cost = self.main_fuel_cost + self.aux_fuel_cost \n",
    "        return self.fuel_cost\n",
    "        \n",
    "    def get_total_cost(self):\n",
    "        self.operating_cost = np.multiply(self.fix_cost, self.number_of_vessel)  #Fixed Cost\n",
    "        self.total_cost = self.operating_cost + self.fuel_cost\n",
    "        return self.total_cost \n",
    "    \n",
    "    def get_revenue(self,market_instance, period_index):\n",
    "        self.revenue = np.multiply(self.firm_demand[period_index - 1], market_instance.freight_rate)\n",
    "        return self.revenue\n",
    "    \n",
    "    def get_period_profits(self):\n",
    "        self.period_profit = self.revenue - self.total_cost\n",
    "        return self.period_profit\n",
    "    \n",
    "    def get_discounted_period_profit(self,market_instance, period_index):\n",
    "        self.discounted_period_profit = np.multiply( np.power( 1+ market_instance.discount_rate, - period_index), self.period_profit) \n",
    "        return self.discounted_period_profit\n",
    "    \n",
    "    def get_firm_carbon_emission(self, market_instance):\n",
    "        self.carbon_aux_emision_factor = market_instance.fuel_data['MGO']['carbon_factor']\n",
    "        self_carbon_aux_emissions = np.multiply(self.carbon_aux_emision_factor, self.aux_fuel_cons )  \n",
    "\n",
    "        self.carbon_main_emision_factor =  market_instance.fuel_data[self.fuel_type]['carbon_factor']\n",
    "        self_carbon_main_emissions =np.multiply(self.carbon_main_emision_factor, self.main_fuel_cons)  \n",
    "\n",
    "        self_carbon_emissions = self_carbon_main_emissions + self_carbon_aux_emissions \n",
    "        return self_carbon_emissions\n",
    "    \n",
    "    def get_firm_sulfur_emission(self, market_instance):\n",
    "        self.sulfur_aux_emision_factor = market_instance.fuel_data['MGO']['sulfur_factor']\n",
    "        self_sulfur_aux_emissions = np.multiply(self.sulfur_aux_emision_factor, self.aux_fuel_cons)  \n",
    "\n",
    "        self.sulfur_main_emision_factor =  market_instance.fuel_data[self.fuel_type]['sulfur_factor']\n",
    "        self_sulfur_main_emissions = np.multiply(self.sulfur_main_emision_factor, self.main_fuel_cons)  \n",
    "\n",
    "        self_sulfur_emissions = self_sulfur_main_emissions + self_sulfur_aux_emissions \n",
    "        return self_sulfur_emissions"
   ]
  },
  {
   "cell_type": "code",
   "execution_count": 6,
   "metadata": {},
   "outputs": [],
   "source": [
    "#====> Iinitialisation of chromo and population objects \n",
    "Chromo = List[float] \n",
    "Population = List[Chromo]  \n",
    "\n",
    "#====> Iinitialisation of function objects\n",
    "PopulateFunc = Callable[[], Population]\n",
    "FitnessFunc = Callable[[Chromo], Tuple[float, int, float, float]] #int to refelct max # of vessel\n",
    "SelectionFunc = Callable[[Population, FitnessFunc], Tuple[Chromo, Chromo]]  #takes a population and a fitness fn to select 2 solutions to be the parents of our next generaation solution\n",
    "CrossoverFunc = Callable[[Chromo, Chromo], Tuple[Chromo, Chromo]] #takes 2 genomes and returns 2 new genomes \n",
    "MutationFunc = Callable[[Chromo], Chromo] #takes 1 genome and sometimes returns a modified one\n",
    "\n",
    "#======>\n",
    "def generate_chromo(lower_bound:float, upper_bound:float) -> Chromo:\n",
    "    return np.random.uniform(lower_bound, upper_bound)\n",
    "\n",
    "#======>\n",
    "def generate_population(size: int, chromo_lower_bound: float, chromo_upper_bound: float) -> Population: \n",
    "    return np.array([generate_chromo(chromo_lower_bound, chromo_upper_bound) for _ in range(size)])\n",
    "\n",
    "#=====>\n",
    "def fitness (chromo: Chromo, firm: Firm, sim_game: MarketConfig, max_number_of_vessel: int, period_index: int) -> Tuple[float, int, float, float]:\n",
    "    \n",
    "    operational_speed = firm.update_vessel_speed(chromo)\n",
    "    #print(\"operational_speed\", operational_speed)\n",
    "    \n",
    "    min_number_vessels_sim , trips_to_meet_demand_sim, time_at_sea_sim  = firm.get_min_number_of_vessel(sim_game, period_index)\n",
    "    #print(\"min number of vessel is\", min_number_vessels_sim )\n",
    "    #print(\"number of trips to meet demand\", trips_to_meet_demand_sim )\n",
    "    #print(\"Time spent at sea\", time_at_sea_sim )\n",
    "\n",
    "    number_vessels_sim  = firm.get_number_of_vessel()\n",
    "    #print(\"number of vessel is\", number_vessels_sim)\n",
    "    \n",
    "    #Insert Model Constraints Here, Update Vessel speed constraint \n",
    "    if number_vessels_sim > max_number_of_vessel:\n",
    "        return np.zeros(4)\n",
    "    else:\n",
    "        main_fuel_con_sim = firm.get_main_fuel_cons(sim_game)\n",
    "        #print('main fuel consumption is ', main_fuel_con_sim)\n",
    "        \n",
    "        aux_fuel_con_sim = firm.get_aux_fuel_cons(sim_game)\n",
    "        #print('aux fuel consumption is ', aux_fuel_con_sim)\n",
    "\n",
    "        fuel_cost_sim = firm.get_fuel_cost(sim_game)\n",
    "        #print( \"fuel cost\",fuel_cost_sim)\n",
    "        \n",
    "        total_cost_sim = firm.get_total_cost()\n",
    "        #print(\"total cost\",total_cost_sim)\n",
    "        \n",
    "        revenues_sim = firm.get_revenue(sim_game, period_index)\n",
    "        #print(\"revenues\", revenues_sim)\n",
    "        \n",
    "        period_profits_sim = firm.get_period_profits()\n",
    "        #print (\"period profits \", period_profits_sim)\n",
    "        \n",
    "        discounted_period_profits_sim = firm.get_discounted_period_profit(sim_game, period_index)\n",
    "        #print(\"discounted period profits \", discounted_period_profits_sim)\n",
    "        \n",
    "        #We will see about the carbon and sulfir emississons \n",
    "        carbon_emissions_sim = firm.get_firm_carbon_emission(sim_game)\n",
    "        #print(\"carbon emissions\",carbon_emissions_sim)\n",
    "        \n",
    "        sulfur_emissions_sim = firm.get_firm_sulfur_emission(sim_game)\n",
    "        #print( \"sulfur emissions\", sulfur_emissions_sim)\n",
    "        return  discounted_period_profits_sim, number_vessels_sim, carbon_emissions_sim, sulfur_emissions_sim\n",
    "\n",
    "#=====>\n",
    "def selection_pair(population: Population, fitness_func: FitnessFunc) -> Population:\n",
    "    '''Roulette Wheel Selection: select a pair of chromo which will be the parent of 2 new chromo for the next generation, Solution with higher fitness should be more likely to be chosen for reproduction'''\n",
    "    return choices(population = population,weights=[fitness_func(chromo)[0] for chromo in population],k=2) \n",
    "\n",
    "\n",
    "\n",
    "#=====>\n",
    "def blend_crossover (a: Chromo, b: Chromo) -> Tuple[Chromo, Chromo]:\n",
    "    lower = min(a,b) -  0.5 * (max(a,b) - min (a,b))\n",
    "    upper = max(a,b) +  0.5 * (max(a,b) - min (a,b))                    \n",
    "    return np.random.uniform (lower, upper, 2) \n",
    "\n",
    "\n",
    "#=====>\n",
    "def mutation(chromo: Chromo, chromo_lower_bound: float, chromo_upper_bound: float, num: int = 1, \n",
    "             probability: float = 0.5, variance: float = 1) -> Chromo: \n",
    "    for _ in range(num):\n",
    "        # if random retuns a value lower or equal to probablity, the chromo falls whitihinn the mutation probabality \n",
    "        if random() <= probability:\n",
    "            chromo += np.random.normal(0, variance, 1)\n",
    "    \n",
    "        if chromo <chromo_lower_bound:\n",
    "            chromo = chromo_lower_bound\n",
    "            \n",
    "        elif chromo > chromo_upper_bound: \n",
    "            chromo = chromo_upper_bound\n",
    "        return chromo\n",
    "\n",
    "#=====>\n",
    "def fitness_similarity_chech(max_fitness, number_of_similarity):\n",
    "    result = False\n",
    "    similarity = 0\n",
    "    for n in range(len(max_fitness)-1):\n",
    "        if np.round(max_fitness[n], 5 ) == np.round(max_fitness[n+1],5):\n",
    "            similarity += 1\n",
    "        else:\n",
    "            similarity = 0\n",
    "    if similarity == number_of_similarity-1:\n",
    "        result = True\n",
    "    return result\n",
    "\n",
    "#=====>\n",
    "def run_evolution(populate_func: PopulateFunc, fitness_func: FitnessFunc, mutation_func: MutationFunc, \n",
    "                  generation_limit: int = 1000, number_of_similarity: int = 50, selection_func: SelectionFunc = selection_pair,\n",
    "                  crossover_func: CrossoverFunc = blend_crossover ) -> Tuple[Population, pd.DataFrame ]:\n",
    "    \"\"\"The evolutionnary main loop\"\"\" \n",
    "    #1. Genrate the 1st generation: Initial generation/population\n",
    "    population = populate_func()\n",
    "    \n",
    "    #2 Simulate until you reach generation limit,\n",
    "    i = 0\n",
    "    progress = pd.DataFrame(columns=['Generation', 'Vessel Speed', 'Firm Discounted profit', \n",
    "                                'Number of vessels', 'Carbon Emissions', 'Sulfur Emissions'])\n",
    "    \n",
    "    for i in range(generation_limit):\n",
    "        #Step 1 : Sort solutions in the population of generation i based on fitness to select the best 2 solutions \n",
    "        population = sorted(population, key=lambda chromo: fitness_func(chromo)[0], reverse=True) \n",
    "        \n",
    "        progress = progress.append({'Generation': i,\n",
    "                          'Vessel Speed': population[0],\n",
    "                          'Firm Discounted profit': fitness_func(population[0])[0],\n",
    "                          'Number of vessels': fitness_func(population[0])[1] , \n",
    "                          'Carbon Emissions': fitness_func(population[0])[2] , \n",
    "                          'Sulfur Emissions': fitness_func(population[0])[3] }, ignore_index=True) \n",
    "        \n",
    "        #Similarity check\n",
    "        if fitness_similarity_chech(progress['Firm Discounted profit'], number_of_similarity) == True:\n",
    "            break\n",
    "#         print(progress)\n",
    "#         print (i)\n",
    "#         print(\"Best vessel speed in the\", i, \"th generation is\" ,population[0] ) \n",
    "#         print(\"Best fitness in the\", i, \"th generation is\", fitness_func(population[0]))\n",
    "              \n",
    "        #Step 2: Implement elitism and pick the top 2 chromo(speed) in the population based on fitness for the next gernation \n",
    "        next_generation = population[0:2]         \n",
    "        \n",
    "        #Step 3: j in range 24 \n",
    "        for j in range(int(len(population) / 2) - 1):\n",
    "            #Step 1: Selection \n",
    "            parents = selection_func(population, fitness_func)\n",
    "            #print(\"parent are\", parents) \n",
    "            \n",
    "            #Step 2: Crossover\n",
    "            offspring_a, offspring_b = crossover_func(parents[0], parents[1])\n",
    "\n",
    "            #Step 3: mutation \n",
    "            offspring_a = mutation_func(offspring_a)\n",
    "            offspring_b = mutation_func(offspring_b)\n",
    "            #print(\"offspring a \", offspring_a) \n",
    "            #print(\"offspring b\", offspring_b) \n",
    "            \n",
    "            #Step 4: Next generation \n",
    "            next_generation += [offspring_a, offspring_b]\n",
    "            \n",
    "        #print(\"next generation\",i, \"is\", next_generation)       \n",
    "        population = next_generation #update current population with our next generation and start into the next round of the algo by sorting the population and checking if we reached our fitness limit \n",
    "    \n",
    "    #Sort the population one last time in case we run out of generation  \n",
    "    population = sorted(population, key=lambda chromo: fitness_func(chromo)[0], reverse=True)\n",
    "    progress = progress.append({'Generation': i+1,\n",
    "                          'Vessel Speed': population[0],\n",
    "                          'Firm Discounted profit': fitness_func(population[0])[0],\n",
    "                          'Number of vessels': fitness_func(population[0])[1] , \n",
    "                          'Carbon Emissions': fitness_func(population[0])[2] , \n",
    "                          'Sulfur Emissions': fitness_func(population[0])[3] }, ignore_index=True) \n",
    "    #print(progress)\n",
    "    return population, progress"
   ]
  },
  {
   "cell_type": "markdown",
   "metadata": {},
   "source": [
    "# 1. Set Up Simulation Parameters:"
   ]
  },
  {
   "cell_type": "markdown",
   "metadata": {},
   "source": [
    "## * Firm 1:"
   ]
  },
  {
   "cell_type": "code",
   "execution_count": 7,
   "metadata": {},
   "outputs": [],
   "source": [
    "####################################### 1. Firm & Market specific Parameters ###########################################\n",
    "                    #===========================>  Firm 1 Attributes <==========================#\n",
    "index_1 = 1\n",
    "capacity_1 = np.array([5905]) \n",
    "max_number_of_vessel_1= np.array([50]) \n",
    "design_speed_1 = np.array([23.3]) #design speed of the vessel in knots\n",
    "min_speed_1 = np.array([10])\n",
    "max_speed_1 = np.array([30])\n",
    "main_engine_power_1 =np.array([41186])  # main engine power in kW\n",
    "aux_engine_power_1 =np.array([2433])  # auxiliary engine power [kW] \n",
    "fix_cost_1 = np.array([6750000])   #Daily cost of vessel (USD/Day) $25,000\n",
    "fuel_type_1 = \"HFO\""
   ]
  },
  {
   "cell_type": "markdown",
   "metadata": {},
   "source": [
    "## * Firm 2:"
   ]
  },
  {
   "cell_type": "code",
   "execution_count": 8,
   "metadata": {},
   "outputs": [],
   "source": [
    "                    #===========================>  Firm 2 Attributes <==========================#\n",
    "index_2 = 2\n",
    "capacity_2 = np.array([6470])\n",
    "max_number_of_vessel_2 = np.array([50])\n",
    "design_speed_2 = np.array([24.7])  #design speed of the vessel in knots\n",
    "min_speed_2 = np.array([10])\n",
    "max_speed_2 = np.array([30])\n",
    "main_engine_power_2 = np.array([56273]) # main engine power in kW\n",
    "aux_engine_power_2 =np.array([2433])   # auxiliary engine power [kW] \n",
    "fix_cost_2 =np.array([ 6750000]) #Daily cost of vessel (USD/Day) $25,000\n",
    "fuel_type_2 = \"HFO\""
   ]
  },
  {
   "cell_type": "markdown",
   "metadata": {},
   "source": [
    "## * Market :"
   ]
  },
  {
   "cell_type": "code",
   "execution_count": 9,
   "metadata": {},
   "outputs": [],
   "source": [
    "                    #===========================> Market Attributes <==========================#\n",
    "number_of_firms = 2\n",
    "pollution_decay_parameter =  np.array([0.2])\n",
    "pollution_damage_parameter =  np.array([1.5])\n",
    "\n",
    "year = np.arange(2016, 2051)\n",
    "income_elasticity = np.array([0.8]) #Constant income elasticity #IMF\n",
    "price_elasticity = np.array([-0.7])   #Constant own price elasticity#IMF\n",
    "freight_rate = np.array([1800]) ## in US$/TEU\n",
    "fuel_data = pd.DataFrame(np.array([[422.50, 525.50, 597.00], \n",
    "                                [3.114,3.206,3.206],\n",
    "                                [0.07,0.01,0.002]]),\n",
    "                         columns=['HFO', 'ULSFO', 'MGO'],\n",
    "                         index = ['price', 'carbon_factor', 'sulfur_factor'])\n",
    "discount = np.array([0.02])  ##3  to 5 % transport canada ,#to be updated using the Ramsey rule,#pure rate of time preference of 1.5% + growth rate of consumption g * rate of risk conversion , an elasticity value of 2"
   ]
  },
  {
   "cell_type": "markdown",
   "metadata": {},
   "source": [
    "# 2. Initialize Game and Set up firm and market objects "
   ]
  },
  {
   "cell_type": "code",
   "execution_count": 10,
   "metadata": {},
   "outputs": [],
   "source": [
    "\"\"\" This cell needs to run once throughout the kernel\"\"\"\n",
    "####################################### 2.Simulation Game Initialisation ###########################################\n",
    "firm_1 = Firm(index_1, capacity_1, max_number_of_vessel_1, design_speed_1, \n",
    "                 min_speed_1, max_speed_1, main_engine_power_1, aux_engine_power_1,\n",
    "                 fix_cost_1, fuel_type_1) \n",
    "\n",
    "firm_2 = Firm(index_2, capacity_2, max_number_of_vessel_2, design_speed_2, \n",
    "                 min_speed_2, max_speed_2, main_engine_power_2, aux_engine_power_2,\n",
    "                 fix_cost_2, fuel_type_2) \n",
    "\n",
    "game_config = MarketConfig(number_of_firms, pollution_decay_parameter, pollution_damage_parameter, income_elasticity, price_elasticity, freight_rate, \n",
    "                           fuel_data, discount)\n",
    "\n",
    "####################################### 3.Get market capacity #################################\n",
    "for  firm_object in Firm._registry:\n",
    "    market_capacity_sim = game_config.get_market_capacity(firm_object)"
   ]
  },
  {
   "cell_type": "markdown",
   "metadata": {},
   "source": [
    "# 3. Market Demand"
   ]
  },
  {
   "cell_type": "code",
   "execution_count": 11,
   "metadata": {},
   "outputs": [
    {
     "name": "stdout",
     "output_type": "stream",
     "text": [
      "market demand [1303780.         1378613.27053661 1417081.19385409 1448735.913652\n",
      " 1397511.98183639 1455352.28446974 1504050.11466377 1549602.07735933\n",
      " 1594072.22320876 1638552.17226732 1684273.26074193 1731270.12057536\n",
      " 1779578.35005746 1829234.54078948 1880276.30540081 1932742.30603904\n",
      " 1986672.28365504 2042107.08810522 2099088.70909364 2157660.30797763\n",
      " 2217866.2504608  2279752.14019835 2343364.85334008 2408752.57403719\n",
      " 2475964.83093995 2545052.53471369 2616068.01660168 2689065.06806397\n",
      " 2764098.98152235 2841226.59224218 2920506.32138292 3001998.22024985\n",
      " 3085764.01578064 3171867.15730103 3260372.86458528]\n",
      "firm 1 market share [0.47717172]\n",
      "firm 2 market share [0.52282828]\n"
     ]
    }
   ],
   "source": [
    "## Get freight ratio for passethrough\n",
    "beta_sim = game_config.get_freight_rate_ratio()\n",
    "\n",
    "# Get market demand  \n",
    "market_demand_sim, gdp_sim, market_psy_sim = game_config.get_market_demand()\n",
    "print(\"market demand\", market_demand_sim)\n",
    "\n",
    "# Get each firm's  market share  \n",
    "firm_1_market_share_sim = firm_1.get_market_share(game_config)\n",
    "print(\"firm 1 market share\", firm_1_market_share_sim)\n",
    "\n",
    "firm_2_market_share_sim = firm_2.get_market_share(game_config)\n",
    "print(\"firm 2 market share\", firm_2_market_share_sim)"
   ]
  },
  {
   "cell_type": "markdown",
   "metadata": {},
   "source": [
    "### Graphing Market Demand:"
   ]
  },
  {
   "cell_type": "code",
   "execution_count": 12,
   "metadata": {},
   "outputs": [
    {
     "data": {
      "image/png": "[encoded data removed]",
      "text/plain": [
       "<Figure size 432x288 with 1 Axes>"
      ]
     },
     "metadata": {},
     "output_type": "display_data"
    },
    {
     "data": {
      "image/png": "[encoded data removed]",
      "text/plain": [
       "<Figure size 432x288 with 1 Axes>"
      ]
     },
     "metadata": {},
     "output_type": "display_data"
    }
   ],
   "source": [
    "#======> Plotting BAU GDP,2016=100\n",
    "sns.set()\n",
    "ax=sns.lineplot(x=year ,y =gdp_sim, color = 'red')\n",
    "ax.set(xlabel='year', ylabel='GDP')\n",
    "plt.title(\"BAU GDP,2016=100\" )\n",
    "plt.show()\n",
    "\n",
    "#======> Plotting Market Demand Projections in BAU senario: Y\n",
    "ax=sns.lineplot(x=year ,y = market_demand_sim, color = 'green')\n",
    "ax.set(xlabel='year', ylabel='transport work in TEU')\n",
    "plt.title(\"market demand in TEU \" )\n",
    "plt.show()\n",
    "\n",
    "#======> Plotting Marketshare per firm\n",
    "\n"
   ]
  },
  {
   "cell_type": "markdown",
   "metadata": {},
   "source": [
    "# 4. Compute BAU Pollution Stock"
   ]
  },
  {
   "cell_type": "markdown",
   "metadata": {},
   "source": [
    "## a. Firm 1:"
   ]
  },
  {
   "cell_type": "code",
   "execution_count": 13,
   "metadata": {},
   "outputs": [
    {
     "name": "stdout",
     "output_type": "stream",
     "text": [
      "firm 1 demand [ 622126.94141414  657835.26161767  676191.06664311  691295.80364566\n",
      "  666853.19214092  694452.94867021  717690.17592643  739426.28418641\n",
      "  760646.18004426  781870.75371625  803687.56401464  826113.13632303\n",
      "  849164.45713853  872858.98693833  897214.6734054   922249.96502307\n",
      "  947983.82504913  974435.7458797  1001625.76381397 1029574.47423094\n",
      " 1058303.04718958 1087833.24346435 1118187.43102814 1149388.60199512\n",
      " 1181460.39003639 1214427.08828156 1248313.66771983 1283145.79611457\n",
      " 1318949.85744561 1355752.97189415 1393583.01638514 1432468.64570306\n",
      " 1472439.31419674 1513525.29808991 1555757.71841423]\n",
      "firm 1 ship energy [0.00053659]\n"
     ]
    }
   ],
   "source": [
    " # 7.Get firm passthrough parameter\n",
    "firm_1_psy_sim = firm_1.get_firm_param(game_config)\n",
    "\n",
    "# 7.Get firm level demand  \n",
    "firm_1_demand_sim = firm_1.get_firm_demand(game_config)\n",
    "print(\"firm 1 demand\", firm_1_demand_sim)\n",
    "    \n",
    "# 9.Get ship energy efficiency  \n",
    "firm_1_ship_energy_sim = firm_1.get_ship_energy_efficiency(game_config)\n",
    "print(\"firm 1 ship energy\", firm_1_ship_energy_sim)"
   ]
  },
  {
   "cell_type": "code",
   "execution_count": 14,
   "metadata": {},
   "outputs": [
    {
     "data": {
      "image/png": "[encoded data removed]",
      "text/plain": [
       "<Figure size 432x288 with 1 Axes>"
      ]
     },
     "metadata": {},
     "output_type": "display_data"
    }
   ],
   "source": [
    "#======> Plotting The firm's \n",
    "ax=sns.lineplot(x=year ,y = firm_1_demand_sim , color = 'green')\n",
    "ax.set(xlabel='year', ylabel='transport work in TEU')\n",
    "plt.title(\"firm 1 level demand in TEU \" )\n",
    "plt.show()"
   ]
  },
  {
   "cell_type": "markdown",
   "metadata": {},
   "source": [
    "## b. Firm 2"
   ]
  },
  {
   "cell_type": "code",
   "execution_count": 15,
   "metadata": {},
   "outputs": [
    {
     "name": "stdout",
     "output_type": "stream",
     "text": [
      "firm 2 demand [ 681653.05858586  720778.00891894  740890.12721099  757440.11000634\n",
      "  730658.78969547  760899.33579953  786359.93873734  810175.79317292\n",
      "  833426.0431645   856681.41855108  880585.6967273   905156.98425233\n",
      "  930413.89291893  956375.55385115  983061.63199541 1010492.34101596\n",
      " 1038688.45860591 1067671.34222552 1097462.94527966 1128085.83374669\n",
      " 1159563.20327122 1191918.89673401 1225177.42231195 1259363.97204207\n",
      " 1294504.44090355 1330625.44643213 1367754.34888185 1405919.27194941\n",
      " 1445149.12407673 1485473.62034803 1526923.30499777 1569529.57454679\n",
      " 1613324.7015839  1658341.85921112 1704615.14617105]\n",
      "firm 2 ship energy [0.00061541]\n"
     ]
    }
   ],
   "source": [
    "# 7.Get firm passthrough parameter\n",
    "firm_2_psy_sim = firm_2.get_firm_param(game_config)\n",
    "\n",
    "# 7.Get firm level demand  \n",
    "firm_2_demand_sim = firm_2.get_firm_demand(game_config)\n",
    "print(\"firm 2 demand\", firm_2_demand_sim)\n",
    "\n",
    "\n",
    "# 9.Get ship energy efficiency  \n",
    "firm_2_ship_energy_sim = firm_2.get_ship_energy_efficiency(game_config)\n",
    "print(\"firm 2 ship energy\", firm_2_ship_energy_sim)"
   ]
  },
  {
   "cell_type": "code",
   "execution_count": 16,
   "metadata": {},
   "outputs": [
    {
     "data": {
      "image/png": "[encoded data removed]",
      "text/plain": [
       "<Figure size 432x288 with 1 Axes>"
      ]
     },
     "metadata": {},
     "output_type": "display_data"
    }
   ],
   "source": [
    "#======> Plotting The firm's \n",
    "ax=sns.lineplot(x=year ,y = firm_2_demand_sim , color = 'green')\n",
    "ax.set(xlabel='year', ylabel='transport work in TEU')\n",
    "plt.title(\"firm 2 level demand in TEU \" )\n",
    "plt.show()"
   ]
  },
  {
   "cell_type": "markdown",
   "metadata": {},
   "source": [
    "## c. Compute BAU emissions throughout the planning horizon"
   ]
  },
  {
   "cell_type": "code",
   "execution_count": 38,
   "metadata": {},
   "outputs": [],
   "source": [
    "def BAU_emissions_period(p_index):\n",
    "    \"\"\"results_period: dict index by firm1, .., firmn contains ganeration vessel speed,\n",
    "        p_index>= 1,..\"\"\"\n",
    "    results_period = {}\n",
    "    optimum_solution_period ={}\n",
    "    carbon_industry_emission_period = 0\n",
    "    sulfur_industry_emission_period = 0\n",
    "    for firm_object in (Firm._registry):\n",
    "        population, results  = run_evolution( populate_func = partial(generate_population,\n",
    "                                                                      size=10000,\n",
    "                                                                      chromo_lower_bound = firm_object.min_speed ,\n",
    "                                                                      chromo_upper_bound = firm_object.max_speed),\n",
    "                                             fitness_func = partial(fitness,\n",
    "                                                                    firm = firm_object,\n",
    "                                                                    sim_game = game_config,\n",
    "                                                                    max_number_of_vessel = firm_object.max_number_of_vessel,\n",
    "                                                                    period_index = p_index),\n",
    "                                             generation_limit = 1000,\n",
    "                                             number_of_similarity = 40,\n",
    "                                             mutation_func = partial (mutation,\n",
    "                                                                      probability = 0.8, \n",
    "                                                                      variance = 1,\n",
    "                                                                      chromo_lower_bound =  firm_object.min_speed,\n",
    "                                                                      chromo_upper_bound= firm_object.max_speed  \n",
    "                                                                     )\n",
    "                                            )\n",
    "        results_period[\"firm\" + str(firm_object.index)] = results\n",
    "        \n",
    "        # Store Optimum Solution table     \n",
    "        optimum_solution_period[\"firm\" + str(firm_object.index)] = results_period[\"firm\" + str(firm_object.index)].iloc[[-1]]\n",
    "\n",
    "        # Compute industry level BAU emissions\n",
    "        carbon_industry_emission_period += optimum_solution_period[\"firm\" + str(firm_object.index)][\"Carbon Emissions\"].values\n",
    "        sulfur_industry_emission_period += optimum_solution_period[\"firm\" + str(firm_object.index)][\"Sulfur Emissions\"].values\n",
    "        #print(\"carbon_industry_emission_period\")\n",
    "    #print(carbon_industry_emission_period)\n",
    "    return results_period, optimum_solution_period, carbon_industry_emission_period, sulfur_industry_emission_period"
   ]
  },
  {
   "cell_type": "code",
   "execution_count": 1,
   "metadata": {},
   "outputs": [],
   "source": [
    "from multiprocessing import Pool"
   ]
  },
  {
   "cell_type": "code",
   "execution_count": 39,
   "metadata": {},
   "outputs": [],
   "source": [
    "#Test Single period :\n",
    "# BAU_emissions_period(0)"
   ]
  },
  {
   "cell_type": "code",
   "execution_count": null,
   "metadata": {},
   "outputs": [],
   "source": [
    "#S_1=emissions \n",
    "#S_2= E_1^(CO_2 )+(1-δ)   S_1^(CO_2 ) \n",
    "MarketConfig.T = 2\n",
    "BAU_carbon_pollution_stock = np.zeros(MarketConfig.T+1)\n",
    "BAU_sulfur_pollution_stock = np.zeros(MarketConfig.T+1)\n",
    "results = {} #empty dict\n",
    "optimum_solution={} #empty dict \n",
    "for my_period_index in range(MarketConfig.T):\n",
    "    #Get results for period \"period\"\n",
    "    #BAU_emissions_period(my_period_index +1) Needs to start from 1 till T \n",
    "    #Results also start from 1 till T \n",
    "    results_period, optimum_solution_period, carbon_industry_emission_period, sulfur_industry_emission_period = BAU_emissions_period(my_period_index +1)\n",
    "    results[my_period_index+1]  = results_period\n",
    "    optimum_solution [my_period_index +1 ] = optimum_solution_period # a dict ''    \n",
    "    BAU_carbon_pollution_stock[my_period_index + 1] = (1- pollution_decay_parameter ) * BAU_carbon_pollution_stock[my_period_index ] + carbon_industry_emission_period\n",
    "    BAU_sulfur_pollution_stock[my_period_index+1] = (1- pollution_decay_parameter ) * BAU_sulfur_pollution_stock[my_period_index] + sulfur_industry_emission_period\n",
    " "
   ]
  },
  {
   "cell_type": "code",
   "execution_count": 3,
   "metadata": {},
   "outputs": [],
   "source": [
    "import concurrent.futures"
   ]
  },
  {
   "cell_type": "code",
   "execution_count": null,
   "metadata": {},
   "outputs": [],
   "source": [
    "with concurrent.futures.ProcessPoolExecutor as executor:\n",
    "    #excute fn once at a time\n",
    "    f1 = executor.submit()"
   ]
  },
  {
   "cell_type": "code",
   "execution_count": null,
   "metadata": {},
   "outputs": [],
   "source": [
    "pool = multiprocessing.Pool(4)\n",
    "out1, out2, out3 = zip(*pool.map(calc_stuff, range(0, 10 * offset, offset)))\n",
    "\n",
    "\n",
    "pool = multiprocessing.Pool(5)\n",
    "out1, out2, out3 = zip(*pool.map(calc_stuff, range(0, 10 * offset, offset)))\n",
    "\n",
    "results_period, optimum_solution_period, carbon_industry_emission_period, sulfur_industry_emission_period = \n",
    "BAU_emissions_period(my_period_index +1)\n",
    "\n",
    "= zip(*pool.map(BAU_emissions_period, range(1, MarketConfig.T+1  * offset, offset)))\n",
    "\n"
   ]
  },
  {
   "cell_type": "code",
   "execution_count": null,
   "metadata": {},
   "outputs": [],
   "source": [
    "# prime_mutiprocessing.py\n",
    "\n",
    "import time\n",
    "import math\n",
    "from multiprocessing import Pool\n",
    "from multiprocessing import freeze_support\n",
    "\n",
    "\n",
    "'''Define function to run mutiple processors and pool the results together'''\n",
    "def run_multiprocessing(func, i, n_processors):\n",
    "    with Pool(processes=n_processors) as pool:\n",
    "        return pool.map(func, i)\n",
    "\n",
    "\n",
    "'''Define task function'''\n",
    "def is_prime(n):\n",
    "    if (n < 2) or (n % 2 == 0 and n > 2):\n",
    "        return False\n",
    "    elif n == 2:\n",
    "        return True\n",
    "    elif n == 3:\n",
    "        return True\n",
    "    else:\n",
    "        for i in range(3, math.ceil(math.sqrt(n)) + 1, 2):\n",
    "            if n % i == 0:\n",
    "                return False\n",
    "        return True\n",
    "\n",
    "\n",
    "def main():\n",
    "    start = time.clock()\n",
    "\n",
    "    '''\n",
    "    set up parameters required by the task\n",
    "    '''\n",
    "    num_max = 1000000\n",
    "    n_processors =6\n",
    "    x_ls = list(range(num_max))\n",
    "\n",
    "    '''\n",
    "    pass the task function, followed by the parameters to processors\n",
    "    '''\n",
    "    out = run_multiprocessing(is_prime, x_ls, n_processors)\n",
    "\n",
    "    print(\"Input length: {}\".format(len(x_ls)))\n",
    "    print(\"Output length: {}\".format(len(out)))\n",
    "    print(\"Mutiprocessing time: {}mins\\n\".format((time.clock()-start)/60))\n",
    "    print(\"Mutiprocessing time: {}secs\\n\".format((time.clock()-start)))\n",
    "\n",
    "\n",
    "if __name__ == \"__main__\":\n",
    "    freeze_support()   # required to use multiprocessing\n",
    "    main()\n",
    "    "
   ]
  },
  {
   "cell_type": "code",
   "execution_count": null,
   "metadata": {},
   "outputs": [],
   "source": [
    "# setup output lists\n",
    "output1 = list()\n",
    "output2 = list()\n",
    "output3 = list()\n",
    "\n",
    "\n",
    "BAU_carbon_pollution_stock = np.zeros(MarketConfig.T+1)\n",
    "BAU_sulfur_pollution_stock = np.zeros(MarketConfig.T+1)\n",
    "results = {} #empty dict\n",
    "optimum_solution={} #empty dict \n",
    "\n",
    "\n",
    "\n",
    "for j in range(0, 10):\n",
    "    # calc individual parameter value\n",
    "    parameter = j * offset\n",
    "    # call the calculation\n",
    "    out1, out2, out3 = calc_stuff(parameter = parameter)\n",
    "\n",
    "    # put results into correct output list\n",
    "    output1.append(out1)\n",
    "    output2.append(out2)\n",
    "    output3.append(out3)\n",
    "    \n",
    "\n",
    "MarketConfig.T = 2\n",
    "BAU_carbon_pollution_stock = np.zeros(MarketConfig.T+1)\n",
    "BAU_sulfur_pollution_stock = np.zeros(MarketConfig.T+1)\n",
    "results = {} #empty dict\n",
    "optimum_solution={} #empty dict \n",
    "for my_period_index in range(MarketConfig.T):\n",
    "    #Get results for period \"period\"\n",
    "    #BAU_emissions_period(my_period_index +1) Needs to start from 1 till T \n",
    "    #Results also start from 1 till T \n",
    "    results_period, optimum_solution_period, carbon_industry_emission_period, sulfur_industry_emission_period = BAU_emissions_period(my_period_index +1)\n",
    "    results[my_period_index+1]  = results_period\n",
    "    optimum_solution [my_period_index +1 ] = optimum_solution_period # a dict ''    \n",
    "    BAU_carbon_pollution_stock[my_period_index + 1] = (1- pollution_decay_parameter ) * BAU_carbon_pollution_stock[my_period_index ] + carbon_industry_emission_period\n",
    "    BAU_sulfur_pollution_stock[my_period_index+1] = (1- pollution_decay_parameter ) * BAU_sulfur_pollution_stock[my_period_index] + sulfur_industry_emission_period\n",
    " "
   ]
  },
  {
   "cell_type": "code",
   "execution_count": null,
   "metadata": {
    "scrolled": true
   },
   "outputs": [],
   "source": [
    "results[1][\"firm1\"]"
   ]
  },
  {
   "cell_type": "code",
   "execution_count": 21,
   "metadata": {},
   "outputs": [
    {
     "data": {
      "text/html": [
       "<div>\n",
       "<style scoped>\n",
       "    .dataframe tbody tr th:only-of-type {\n",
       "        vertical-align: middle;\n",
       "    }\n",
       "\n",
       "    .dataframe tbody tr th {\n",
       "        vertical-align: top;\n",
       "    }\n",
       "\n",
       "    .dataframe thead th {\n",
       "        text-align: right;\n",
       "    }\n",
       "</style>\n",
       "<table border=\"1\" class=\"dataframe\">\n",
       "  <thead>\n",
       "    <tr style=\"text-align: right;\">\n",
       "      <th></th>\n",
       "      <th>Generation</th>\n",
       "      <th>Vessel Speed</th>\n",
       "      <th>Firm Discounted profit</th>\n",
       "      <th>Number of vessels</th>\n",
       "      <th>Carbon Emissions</th>\n",
       "      <th>Sulfur Emissions</th>\n",
       "    </tr>\n",
       "  </thead>\n",
       "  <tbody>\n",
       "    <tr>\n",
       "      <th>96</th>\n",
       "      <td>96</td>\n",
       "      <td>14.0083</td>\n",
       "      <td>[910508591.8868016]</td>\n",
       "      <td>[18.0]</td>\n",
       "      <td>[484536.97081503714]</td>\n",
       "      <td>[9218.766801006486]</td>\n",
       "    </tr>\n",
       "  </tbody>\n",
       "</table>\n",
       "</div>"
      ],
      "text/plain": [
       "   Generation Vessel Speed Firm Discounted profit Number of vessels  \\\n",
       "96         96      14.0083    [910508591.8868016]            [18.0]   \n",
       "\n",
       "        Carbon Emissions     Sulfur Emissions  \n",
       "96  [484536.97081503714]  [9218.766801006486]  "
      ]
     },
     "execution_count": 21,
     "metadata": {},
     "output_type": "execute_result"
    }
   ],
   "source": [
    "optimum_solution[1]['firm1']"
   ]
  },
  {
   "cell_type": "markdown",
   "metadata": {},
   "source": [
    "# Firms'net present value"
   ]
  },
  {
   "cell_type": "markdown",
   "metadata": {},
   "source": [
    "# Plotting and Analysis"
   ]
  },
  {
   "cell_type": "markdown",
   "metadata": {},
   "source": [
    "### Evaluatin GA performance"
   ]
  },
  {
   "cell_type": "markdown",
   "metadata": {},
   "source": [
    "### Profit,   Revenue, Cost CO2 Cost,  SOx Cos in 1 graph as a function of generation ??"
   ]
  },
  {
   "cell_type": "markdown",
   "metadata": {},
   "source": [
    "### Firm 1, Period 1"
   ]
  },
  {
   "cell_type": "code",
   "execution_count": 22,
   "metadata": {},
   "outputs": [
    {
     "data": {
      "image/png": "[encoded data removed]",
      "text/plain": [
       "<Figure size 432x288 with 1 Axes>"
      ]
     },
     "metadata": {},
     "output_type": "display_data"
    },
    {
     "data": {
      "image/png": "[encoded data removed]",
      "text/plain": [
       "<Figure size 432x288 with 1 Axes>"
      ]
     },
     "metadata": {},
     "output_type": "display_data"
    }
   ],
   "source": [
    "plt.plot(results[1][\"firm1\"]['Generation'].values, results[1][\"firm1\"]['Firm Discounted profit'].values)\n",
    "plt.title(\"Convergence \" )\n",
    "plt.ylabel('Firm discounted profits')\n",
    "plt.xlabel('Generation')\n",
    "plt.show()\n",
    "#############\n",
    "plt.plot(results[1][\"firm1\"]['Vessel Speed'].values, results[1][\"firm1\"]['Firm Discounted profit'].values)\n",
    "plt.title(\"Profits \" )\n",
    "plt.ylabel('Firm discounted profits')\n",
    "plt.xlabel('Vessel Speed')\n",
    "plt.show()"
   ]
  },
  {
   "cell_type": "markdown",
   "metadata": {},
   "source": [
    "## Export Results to spreadsheet"
   ]
  },
  {
   "cell_type": "code",
   "execution_count": 23,
   "metadata": {},
   "outputs": [],
   "source": [
    "writer = pd.ExcelWriter('results.xlsx', engine='xlsxwriter')   \n",
    "for periode in results.keys():\n",
    "    for firm in results[periode].keys():\n",
    "        sheet_name = \"period\" + str(periode) + firm\n",
    "        results[periode][firm].to_excel(writer, sheet_name = sheet_name, index =False)\n",
    "writer.save()"
   ]
  },
  {
   "cell_type": "code",
   "execution_count": 24,
   "metadata": {},
   "outputs": [],
   "source": [
    "writer_1 = pd.ExcelWriter('optimum_solution.xlsx', engine='xlsxwriter')   \n",
    "for periode in optimum_solution.keys():\n",
    "    for firm in optimum_solution[periode].keys():\n",
    "        sheet_name = \"period\" + str(periode) + firm\n",
    "        optimum_solution[periode][firm].to_excel(writer_1, sheet_name = sheet_name, index =False)\n",
    "writer_1.save()"
   ]
  },
  {
   "cell_type": "markdown",
   "metadata": {},
   "source": [
    "# Resuts:"
   ]
  },
  {
   "cell_type": "markdown",
   "metadata": {},
   "source": [
    "## a. BAU emission path"
   ]
  },
  {
   "cell_type": "markdown",
   "metadata": {},
   "source": [
    "### Carbon Emissions Path"
   ]
  },
  {
   "cell_type": "code",
   "execution_count": 25,
   "metadata": {},
   "outputs": [],
   "source": [
    "firms = optimum_solution[1].keys()\n",
    "periodes = optimum_solution.keys()"
   ]
  },
  {
   "cell_type": "code",
   "execution_count": 26,
   "metadata": {
    "scrolled": true
   },
   "outputs": [
    {
     "data": {
      "text/html": [
       "<div>\n",
       "<style scoped>\n",
       "    .dataframe tbody tr th:only-of-type {\n",
       "        vertical-align: middle;\n",
       "    }\n",
       "\n",
       "    .dataframe tbody tr th {\n",
       "        vertical-align: top;\n",
       "    }\n",
       "\n",
       "    .dataframe thead th {\n",
       "        text-align: right;\n",
       "    }\n",
       "</style>\n",
       "<table border=\"1\" class=\"dataframe\">\n",
       "  <thead>\n",
       "    <tr style=\"text-align: right;\">\n",
       "      <th></th>\n",
       "      <th>firm1</th>\n",
       "      <th>firm2</th>\n",
       "    </tr>\n",
       "  </thead>\n",
       "  <tbody>\n",
       "    <tr>\n",
       "      <th>1</th>\n",
       "      <td>[484536.97081503714]</td>\n",
       "      <td>[488604.7462807368]</td>\n",
       "    </tr>\n",
       "    <tr>\n",
       "      <th>2</th>\n",
       "      <td>[514114.92408519844]</td>\n",
       "      <td>[521158.38949253416]</td>\n",
       "    </tr>\n",
       "  </tbody>\n",
       "</table>\n",
       "</div>"
      ],
      "text/plain": [
       "                  firm1                 firm2\n",
       "1  [484536.97081503714]   [488604.7462807368]\n",
       "2  [514114.92408519844]  [521158.38949253416]"
      ]
     },
     "execution_count": 26,
     "metadata": {},
     "output_type": "execute_result"
    }
   ],
   "source": [
    "carbon_emission = pd.DataFrame(columns = firms,  index = periodes )\n",
    "\n",
    "for periode in periodes:\n",
    "    for firm in firms:\n",
    "        carbon_emission[firm][periode] = ((optimum_solution[periode][firm][\"Carbon Emissions\"]).values).astype(float)\n",
    "\n",
    "\n",
    "carbon_emission.to_csv(\"carbonemissionpath\")\n",
    "carbon_emission"
   ]
  },
  {
   "cell_type": "code",
   "execution_count": 27,
   "metadata": {},
   "outputs": [
    {
     "data": {
      "image/png": "[encoded data removed]",
      "text/plain": [
       "<Figure size 432x288 with 1 Axes>"
      ]
     },
     "metadata": {},
     "output_type": "display_data"
    }
   ],
   "source": [
    "plt.plot(list(range(1,MarketConfig.T+1)),carbon_emission)\n",
    "plt.title(\"Carbon emission path \" )\n",
    "plt.ylabel('Carbon emissions')\n",
    "plt.legend(labels  =carbon_emission.columns.tolist())\n",
    "plt.show()"
   ]
  },
  {
   "cell_type": "markdown",
   "metadata": {},
   "source": [
    "### Sulfur Emission Path\n"
   ]
  },
  {
   "cell_type": "code",
   "execution_count": 28,
   "metadata": {},
   "outputs": [
    {
     "data": {
      "text/html": [
       "<div>\n",
       "<style scoped>\n",
       "    .dataframe tbody tr th:only-of-type {\n",
       "        vertical-align: middle;\n",
       "    }\n",
       "\n",
       "    .dataframe tbody tr th {\n",
       "        vertical-align: top;\n",
       "    }\n",
       "\n",
       "    .dataframe thead th {\n",
       "        text-align: right;\n",
       "    }\n",
       "</style>\n",
       "<table border=\"1\" class=\"dataframe\">\n",
       "  <thead>\n",
       "    <tr style=\"text-align: right;\">\n",
       "      <th></th>\n",
       "      <th>firm1</th>\n",
       "      <th>firm2</th>\n",
       "    </tr>\n",
       "  </thead>\n",
       "  <tbody>\n",
       "    <tr>\n",
       "      <th>1</th>\n",
       "      <td>[9218.766801006486]</td>\n",
       "      <td>[9188.178090824245]</td>\n",
       "    </tr>\n",
       "    <tr>\n",
       "      <th>2</th>\n",
       "      <td>[9791.599839352268]</td>\n",
       "      <td>[9827.884853618365]</td>\n",
       "    </tr>\n",
       "  </tbody>\n",
       "</table>\n",
       "</div>"
      ],
      "text/plain": [
       "                 firm1                firm2\n",
       "1  [9218.766801006486]  [9188.178090824245]\n",
       "2  [9791.599839352268]  [9827.884853618365]"
      ]
     },
     "execution_count": 28,
     "metadata": {},
     "output_type": "execute_result"
    }
   ],
   "source": [
    "sulfur_emission = pd.DataFrame(columns = firms,  index = periodes )\n",
    "\n",
    "for periode in periodes:\n",
    "    for firm in firms:\n",
    "        sulfur_emission[firm][periode] = ((optimum_solution[periode][firm][\"Sulfur Emissions\"]).values).astype(float)\n",
    "sulfur_emission.to_csv(\"sulfuremissionpath\")\n",
    "sulfur_emission"
   ]
  },
  {
   "cell_type": "code",
   "execution_count": 29,
   "metadata": {},
   "outputs": [
    {
     "data": {
      "image/png": "[encoded data removed]",
      "text/plain": [
       "<Figure size 432x288 with 1 Axes>"
      ]
     },
     "metadata": {},
     "output_type": "display_data"
    }
   ],
   "source": [
    "plt.plot(list(range(1,MarketConfig.T+1)),sulfur_emission)\n",
    "plt.title(\"Sulfur emission path \" )\n",
    "plt.ylabel('Sulfur emissions')\n",
    "plt.legend(labels  = sulfur_emission.columns.tolist())\n",
    "plt.show()"
   ]
  },
  {
   "cell_type": "markdown",
   "metadata": {},
   "source": [
    "## b.Pollution Stock"
   ]
  },
  {
   "cell_type": "markdown",
   "metadata": {},
   "source": [
    "## Carbon"
   ]
  },
  {
   "cell_type": "code",
   "execution_count": 30,
   "metadata": {},
   "outputs": [
    {
     "data": {
      "text/html": [
       "<div>\n",
       "<style scoped>\n",
       "    .dataframe tbody tr th:only-of-type {\n",
       "        vertical-align: middle;\n",
       "    }\n",
       "\n",
       "    .dataframe tbody tr th {\n",
       "        vertical-align: top;\n",
       "    }\n",
       "\n",
       "    .dataframe thead th {\n",
       "        text-align: right;\n",
       "    }\n",
       "</style>\n",
       "<table border=\"1\" class=\"dataframe\">\n",
       "  <thead>\n",
       "    <tr style=\"text-align: right;\">\n",
       "      <th></th>\n",
       "      <th>Carbon Pollution Stock</th>\n",
       "      <th>Sulfur Pollution Stock</th>\n",
       "    </tr>\n",
       "  </thead>\n",
       "  <tbody>\n",
       "    <tr>\n",
       "      <th>1</th>\n",
       "      <td>0</td>\n",
       "      <td>0</td>\n",
       "    </tr>\n",
       "    <tr>\n",
       "      <th>2</th>\n",
       "      <td>973142</td>\n",
       "      <td>18406.9</td>\n",
       "    </tr>\n",
       "  </tbody>\n",
       "</table>\n",
       "</div>"
      ],
      "text/plain": [
       "  Carbon Pollution Stock Sulfur Pollution Stock\n",
       "1                      0                      0\n",
       "2                 973142                18406.9"
      ]
     },
     "execution_count": 30,
     "metadata": {},
     "output_type": "execute_result"
    }
   ],
   "source": [
    "Pollution_Stock = pd.DataFrame(columns = [\"Carbon Pollution Stock\", \"Sulfur Pollution Stock\"] ,  index = periodes )\n",
    "\n",
    "for periode in periodes:\n",
    "    Pollution_Stock[\"Carbon Pollution Stock\"][periode] = BAU_carbon_pollution_stock[periode -1]\n",
    "    Pollution_Stock[\"Sulfur Pollution Stock\"][periode] = BAU_sulfur_pollution_stock[periode -1]\n",
    "\n",
    "Pollution_Stock"
   ]
  },
  {
   "cell_type": "code",
   "execution_count": 31,
   "metadata": {},
   "outputs": [
    {
     "data": {
      "image/png": "[encoded data removed]",
      "text/plain": [
       "<Figure size 432x288 with 1 Axes>"
      ]
     },
     "metadata": {},
     "output_type": "display_data"
    }
   ],
   "source": [
    "plt.plot(list(range(1,MarketConfig.T+1)),Pollution_Stock)\n",
    "plt.title(\"Pollution Stock \" )\n",
    "plt.ylabel('Pollution')\n",
    "plt.legend(labels  = Pollution_Stock.columns.tolist())\n",
    "plt.show()"
   ]
  },
  {
   "cell_type": "code",
   "execution_count": 32,
   "metadata": {},
   "outputs": [
    {
     "data": {
      "text/plain": [
       "1         0\n",
       "2    973142\n",
       "Name: Carbon Pollution Stock, dtype: object"
      ]
     },
     "execution_count": 32,
     "metadata": {},
     "output_type": "execute_result"
    }
   ],
   "source": [
    "Pollution_Stock[\"Carbon Pollution Stock\"]"
   ]
  },
  {
   "cell_type": "code",
   "execution_count": 33,
   "metadata": {},
   "outputs": [
    {
     "data": {
      "image/png": "[encoded data removed]",
      "text/plain": [
       "<Figure size 432x288 with 2 Axes>"
      ]
     },
     "metadata": {},
     "output_type": "display_data"
    }
   ],
   "source": [
    "# Create some mock data\n",
    "\n",
    "fig, ax1 = plt.subplots()\n",
    "\n",
    "color = 'tab:red'\n",
    "ax1.set_xlabel('periode')\n",
    "ax1.set_ylabel('Carbon Pollution Stock', color=color)\n",
    "ax1.plot(list(range(1,MarketConfig.T+1)), Pollution_Stock[\"Carbon Pollution Stock\"], color=color)\n",
    "ax1.tick_params(axis='y', labelcolor=color)\n",
    "\n",
    "ax2 = ax1.twinx()  # instantiate a second axes that shares the same x-axis\n",
    "\n",
    "color = 'tab:blue'\n",
    "ax2.set_ylabel('Sulfur Pollution Stock', color=color)  # we already handled the x-label with ax1\n",
    "ax2.plot(list(range(1,MarketConfig.T+1)), Pollution_Stock[\"Sulfur Pollution Stock\"], color=color)\n",
    "ax2.tick_params(axis='y', labelcolor=color)\n",
    "\n",
    "#fig.tight_layout()  # otherwise the right y-label is slightly clipped\n",
    "plt.show()"
   ]
  },
  {
   "cell_type": "markdown",
   "metadata": {},
   "source": [
    "## c. Damages"
   ]
  },
  {
   "cell_type": "code",
   "execution_count": 34,
   "metadata": {},
   "outputs": [
    {
     "data": {
      "text/plain": [
       "array([0.00000000e+00, 2.54111715e+08, 8.84686361e+08])"
      ]
     },
     "execution_count": 34,
     "metadata": {},
     "output_type": "execute_result"
    }
   ],
   "source": [
    "sulfur_industry_carbon_damages = 0.5* pollution_damage_parameter * np.power(BAU_sulfur_pollution_stock,2)\n",
    "sulfur_industry_carbon_damages"
   ]
  },
  {
   "cell_type": "code",
   "execution_count": 35,
   "metadata": {},
   "outputs": [
    {
     "data": {
      "text/plain": [
       "array([0.00000000e+00, 7.10253601e+11, 2.46736661e+12])"
      ]
     },
     "execution_count": 35,
     "metadata": {},
     "output_type": "execute_result"
    }
   ],
   "source": [
    "BAU_industry_carbon_damages = 0.5* pollution_damage_parameter * np.power(BAU_carbon_pollution_stock,2)\n",
    "BAU_industry_carbon_damages"
   ]
  },
  {
   "cell_type": "code",
   "execution_count": 36,
   "metadata": {},
   "outputs": [
    {
     "data": {
      "text/html": [
       "<div>\n",
       "<style scoped>\n",
       "    .dataframe tbody tr th:only-of-type {\n",
       "        vertical-align: middle;\n",
       "    }\n",
       "\n",
       "    .dataframe tbody tr th {\n",
       "        vertical-align: top;\n",
       "    }\n",
       "\n",
       "    .dataframe thead th {\n",
       "        text-align: right;\n",
       "    }\n",
       "</style>\n",
       "<table border=\"1\" class=\"dataframe\">\n",
       "  <thead>\n",
       "    <tr style=\"text-align: right;\">\n",
       "      <th></th>\n",
       "      <th>Carbon Industry Damages</th>\n",
       "      <th>Sulfur Industry Damages</th>\n",
       "    </tr>\n",
       "  </thead>\n",
       "  <tbody>\n",
       "    <tr>\n",
       "      <th>1</th>\n",
       "      <td>0</td>\n",
       "      <td>0</td>\n",
       "    </tr>\n",
       "    <tr>\n",
       "      <th>2</th>\n",
       "      <td>7.10254e+11</td>\n",
       "      <td>2.54112e+08</td>\n",
       "    </tr>\n",
       "  </tbody>\n",
       "</table>\n",
       "</div>"
      ],
      "text/plain": [
       "  Carbon Industry Damages Sulfur Industry Damages \n",
       "1                       0                        0\n",
       "2             7.10254e+11              2.54112e+08"
      ]
     },
     "execution_count": 36,
     "metadata": {},
     "output_type": "execute_result"
    }
   ],
   "source": [
    "Industry_Damages = pd.DataFrame(columns = [\"Carbon Industry Damages\", \"Sulfur Industry Damages \"] ,  index = periodes )\n",
    "\n",
    "for periode in periodes:\n",
    "    Industry_Damages[\"Carbon Industry Damages\"][periode] = BAU_industry_carbon_damages[periode-1]\n",
    "    Industry_Damages[\"Sulfur Industry Damages \"][periode] = sulfur_industry_carbon_damages[periode-1]\n",
    "\n",
    "Industry_Damages"
   ]
  },
  {
   "cell_type": "code",
   "execution_count": 37,
   "metadata": {
    "scrolled": true
   },
   "outputs": [
    {
     "data": {
      "image/png": "[encoded data removed]",
      "text/plain": [
       "<Figure size 432x288 with 2 Axes>"
      ]
     },
     "metadata": {},
     "output_type": "display_data"
    }
   ],
   "source": [
    "# Create some mock data\n",
    "\n",
    "fig, ax1 = plt.subplots()\n",
    "\n",
    "color = 'tab:red'\n",
    "ax1.set_xlabel('periode')\n",
    "ax1.set_ylabel(\"Carbon Industry Damages\", color=color)\n",
    "ax1.plot(list(range(1,MarketConfig.T+1)), Industry_Damages[\"Carbon Industry Damages\"] , color=color)\n",
    "ax1.tick_params(axis='y', labelcolor=color)\n",
    "\n",
    "ax2 = ax1.twinx()  # instantiate a second axes that shares the same x-axis\n",
    "\n",
    "color = 'tab:blue'\n",
    "ax2.set_ylabel(\"Sulfur Industry Damages \", color=color)  # we already handled the x-label with ax1\n",
    "ax2.plot(list(range(1,MarketConfig.T+1)), Industry_Damages[\"Sulfur Industry Damages \"] , color=color)\n",
    "ax2.tick_params(axis='y', labelcolor=color)\n",
    "\n",
    "#fig.tight_layout()  # otherwise the right y-label is slightly clipped\n",
    "plt.show()"
   ]
  },
  {
   "cell_type": "markdown",
   "metadata": {},
   "source": [
    "## Placeholders Analysis:"
   ]
  },
  {
   "cell_type": "markdown",
   "metadata": {},
   "source": [
    "## 1. Speed-fuel consumption curve.\n",
    "\n",
    "fuel consumption in tonnes /year = f(vessel speed in knots)"
   ]
  },
  {
   "cell_type": "markdown",
   "metadata": {},
   "source": [
    "# 2. GA analysis\n",
    "Population size :    100 1000 ...\n",
    "Vessel Speed \n",
    "Number of vessels 3 333333\n",
    "profit Π (USD) \n",
    "revenue (USD)  \n",
    "Average total operational cost \n",
    "Average total CO2 cost (USD)  \n",
    "Average total SOx cost (USD)  \n"
   ]
  },
  {
   "cell_type": "markdown",
   "metadata": {},
   "source": [
    "Optimal solution compared to the average values of the GA results for the ten trials of each number of iterations and for the third scenario.\n"
   ]
  },
  {
   "cell_type": "markdown",
   "metadata": {},
   "source": [
    "# 2.The effects of fuel price on global CO2 emissions\n"
   ]
  },
  {
   "cell_type": "markdown",
   "metadata": {},
   "source": [
    "The IMO will enforce the new global 0.5% fuel sulphur content cap regulation from 2020, lowering from the present 3.5% limit.\n",
    "By then, if a ship sails outside the ECAs, the sulphur content has to be no more than 0.5%, whereas in ECAs the limit is still 0.1%.\n",
    "Therefore, the trend is very likely toward smaller fuel price gaps. In this subsection, a sensitivity analysis on fuel price gap has been\n",
    "carried out to examine the magnitude of annual fleet cost savings if vessels use differentiated speeds (instead of constant speed) when\n",
    "sailing inside and outside the ECAs. Referring to the model formulation of problem [ECA] in Section 3.2, let\n",
    "AFC AFC v v N AFC v v N = ( , , ) ( , , ) 1 2 represent the annual fleet cost difference under constant speed (v) and differentiated speeds\n",
    "(v v 1 2 , ). Let = 2 1 denote the fuel price gap. Referring to the fuel price scenario considered by Doudnikoff and Lacoste (2014),\n",
    "the MGO price 1 (applicable inside the ECAs) in the sensitivity analysis is fixed at 900$/ton and the HFO price 2 (applicable outside\n",
    "the ECAs) is allowed to vary from 300$/ton to 900$/ton. Therefore, when the HFO price becomes higher, the price gap between HFO\n",
    "and MGO gets smaller, which exactly represents the likely scenario from 2020 onwards. As shown in Fig. 4, the annual fleet cost\n",
    "savings (i.e.,\n",
    "AFC\n",
    "), on average, can still be hundreds of thousands of dollars (10^5) even if the fuel price gap is less than 100$/ton. It\n",
    "is also important to note the above estimation is just for one single shipping service with a fleet size of about 10–15 vessels. For large\n",
    "shipping companies that operate several hundreds of vessels on multiple services, the annual cost savings could be millions and\n",
    "should not be ignored. Therefore, a shipping company has economic incentives to adopt differentiated vessel speeds and adjust its\n",
    "fleet size when operating through ECAs, even after 2020 The IMO will enforce the new global 0.5% fuel sulphur content cap regulation from 2020, lowering from the present 3.5% limit.\n",
    "By then, if a ship sails outside the ECAs, the sulphur content has to be no more than 0.5%, whereas in ECAs the limit is still 0.1%.\n",
    "Therefore, the trend is very likely toward smaller fuel price gaps. In this subsection, a sensitivity analysis on fuel price gap has been\n",
    "carried out to examine the magnitude of annual fleet cost savings if vessels use differentiated speeds (instead of constant speed) when\n",
    "sailing inside and outside the ECAs. Referring to the model formulation of problem [ECA] in Section 3.2, let\n",
    "AFC AFC v v N AFC v v N = ( , , ) ( , , ) 1 2 represent the annual fleet cost difference under constant speed (v) and differentiated speeds\n",
    "(v v 1 2 , ). Let = 2 1 denote the fuel price gap. Referring to the fuel price scenario considered by Doudnikoff and Lacoste (2014),\n",
    "the MGO price 1 (applicable inside the ECAs) in the sensitivity analysis is fixed at 900$/ton and the HFO price 2 (applicable outside\n",
    "the ECAs) is allowed to vary from 300$/ton to 900$/ton. Therefore, when the HFO price becomes higher, the price gap between HFO\n",
    "and MGO gets smaller, which exactly represents the likely scenario from 2020 onwards. As shown in Fig. 4, the annual fleet cost\n",
    "savings (i.e.,\n",
    "AFC\n",
    "), on average, can still be hundreds of thousands of dollars (10^5) even if the fuel price gap is less than 100$/ton. It\n",
    "is also important to note the above estimation is just for one single shipping service with a fleet size of about 10–15 vessels. For large\n",
    "shipping companies that operate several hundreds of vessels on multiple services, the annual cost savings could be millions and\n",
    "should not be ignored. Therefore, a shipping company has economic incentives to adopt differentiated vessel speeds and adjust its\n",
    "fleet size when operating through ECAs, even after 2020"
   ]
  },
  {
   "cell_type": "markdown",
   "metadata": {},
   "source": [
    "## 4 comparison of carbon emissions tax and carbon cap-and-trade."
   ]
  },
  {
   "cell_type": "markdown",
   "metadata": {},
   "source": [
    "No carbon emissions constraints | Carbon emissions tax | Carbon caps | Carbon cap-and-trade | Carbon dynamic emission tax:\n",
    "* Profit  \n",
    "* Carbon emission \n",
    "* Carbon cost  \n",
    "* Speed  \n",
    "* Number of ships "
   ]
  },
  {
   "cell_type": "markdown",
   "metadata": {},
   "source": [
    "## Figure 4: Profit curve of carbon cap-and-trade.\n",
    "Figure 4: Profit curve of carbon cap-and-trade.\n",
    "## Figure 3:: Marginal abatement costs"
   ]
  },
  {
   "cell_type": "markdown",
   "metadata": {},
   "source": [
    "## 5 comparison of Sulfur emissions tax  and the effect of the 0.5% global sulphur cap"
   ]
  },
  {
   "cell_type": "markdown",
   "metadata": {},
   "source": [
    "The IMO will enforce the new global 0.5% fuel sulphur content cap regulation from 2020, lowering from the present 3.5% limit.\n",
    "By then, if a ship sails outside the ECAs, the sulphur content has to be no more than 0.5%, whereas in ECAs the limit is still 0.1%.\n",
    "Therefore, the trend is very likely toward smaller fuel price gaps. In this subsection, a sensitivity analysis on fuel price gap has been\n",
    "carried out to examine the magnitude of annual fleet cost savings if vessels use differentiated speeds (instead of constant speed) when\n",
    "sailing inside and outside the ECAs. Referring to the model formulation of problem [ECA] in Section 3.2, let\n",
    "AFC AFC v v N AFC v v N = ( , , ) ( , , ) 1 2 represent the annual fleet cost difference under constant speed (v) and differentiated speeds\n",
    "(v v 1 2 , ). Let = 2 1 denote the fuel price gap. Referring to the fuel price scenario considered by Doudnikoff and Lacoste (2014),\n",
    "the MGO price 1 (applicable inside the ECAs) in the sensitivity analysis is fixed at 900$/ton and the HFO price 2 (applicable outside\n",
    "the ECAs) is allowed to vary from 300$/ton to 900$/ton. Therefore, when the HFO price becomes higher, the price gap between HFO\n",
    "and MGO gets smaller, which exactly represents the likely scenario from 2020 onwards. As shown in Fig. 4, the annual fleet cost\n",
    "savings (i.e.,\n",
    "AFC\n",
    "), on average, can still be hundreds of thousands of dollars (10^5) even if the fuel price gap is less than 100$/ton. It\n",
    "is also important to note the above estimation is just for one single shipping service with a fleet size of about 10–15 vessels. For large\n",
    "shipping companies that operate several hundreds of vessels on multiple services, the annual cost savings could be millions and\n",
    "should not be ignored. Therefore, a shipping company has economic incentives to adopt differentiated vessel speeds and adjust its\n",
    "fleet size when operating through ECAs, even after 2020"
   ]
  },
  {
   "cell_type": "markdown",
   "metadata": {},
   "source": [
    "The Impact of Different Carbon Emission Policies on\n",
    "Liner Shipping"
   ]
  }
 ],
 "metadata": {
  "kernelspec": {
   "display_name": "Python 3",
   "language": "python",
   "name": "python3"
  },
  "language_info": {
   "codemirror_mode": {
    "name": "ipython",
    "version": 3
   },
   "file_extension": ".py",
   "mimetype": "text/x-python",
   "name": "python",
   "nbconvert_exporter": "python",
   "pygments_lexer": "ipython3",
   "version": "3.7.7"
  }
 },
 "nbformat": 4,
 "nbformat_minor": 4
}
